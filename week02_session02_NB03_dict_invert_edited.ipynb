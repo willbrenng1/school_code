{
  "cells": [
    {
      "cell_type": "markdown",
      "metadata": {
        "id": "kygRUs0_lGJD"
      },
      "source": [
        "_Main topics covered during today's session:_\n",
        "\n",
        "Prior NBs:\n",
        "\n",
        "1. **Counting values in a dictionary**\n",
        "\n",
        "2. **Comparing dictionaries, and finding the highest/lowest value.**\n",
        "    \n",
        "    \n",
        "This NB:\n",
        "\n",
        "3. **Inverting a dictionary**\n",
        "\n",
        "\n",
        "Following NB:\n",
        "\n",
        "4. **Teaser -- Floating point values**"
      ]
    },
    {
      "cell_type": "markdown",
      "metadata": {
        "id": "tD2Wh2AslGJF"
      },
      "source": [
        "# Inverting a dictionary.\n",
        "\n",
        "### This notebook was part of MT1 in the first iteration of CSE6040, when the MT's were a number of smaller and independent notebooks.\n",
        "\n",
        "#### We will be doing Exercise 0, which is inverting a dictionary. What the means is to take the values of the dictionary and make them keys, and to take the keys and make them values, of a new dictionary."
      ]
    },
    {
      "cell_type": "markdown",
      "metadata": {
        "collapsed": true,
        "deletable": false,
        "editable": false,
        "nbgrader": {
          "grade": false,
          "locked": true,
          "solution": false
        },
        "id": "ISezFhiilGJG"
      },
      "source": [
        "# Problem 8\n",
        "\n",
        "This problem has three (3) exercises worth a total of ten (10) points."
      ]
    },
    {
      "cell_type": "markdown",
      "metadata": {
        "deletable": false,
        "editable": false,
        "nbgrader": {
          "grade": false,
          "locked": true,
          "solution": false
        },
        "id": "nllmF-tglGJG"
      },
      "source": [
        "**Invert a dictionary.** Suppose a group of student TAs have been asked to monitor the Piazza forums for your CSE6040x course. The assignments are as follows."
      ]
    },
    {
      "cell_type": "code",
      "execution_count": null,
      "metadata": {
        "deletable": false,
        "editable": false,
        "nbgrader": {
          "grade": false,
          "locked": true,
          "solution": false
        },
        "id": "I95Rv0_7lGJG"
      },
      "outputs": [],
      "source": [
        "assignments = {\"Monday\" : [\"Jeh\", \"Ben\", \"Chinmay\", \"Rachel\"],\n",
        "               \"Tuesday\" : [\"Rachel\", \"Samuel\", \"Evan\", \"Raghav\"],\n",
        "               \"Wednesday\" : [\"Evan\", \"Samuel\", \"Michael\", \"Chinmay\"],\n",
        "               \"Thursday\" : [\"Jeh\", \"Michael\", \"Ben\", \"Evan\"],\n",
        "               \"Friday\" : [\"Rachel\", \"Shishir\", \"Samuel\", \"Ben\"],\n",
        "               \"Saturday\" : [\"Yandi\", \"Michael\", \"Chinmay\", \"Samuel\"],\n",
        "               \"Sunday\" : [\"Evan\", \"Chinmay\", \"Jeh\", \"Rachel\"]\n",
        "               }"
      ]
    },
    {
      "cell_type": "markdown",
      "metadata": {
        "deletable": false,
        "editable": false,
        "nbgrader": {
          "grade": false,
          "locked": true,
          "solution": false
        },
        "id": "xVbuyhe9lGJH"
      },
      "source": [
        "**Exercise 0** (5 points). Write a function, `invert_dict(d)`, that \"inverts\" a given dictionary `d`. The output should be another dictionary such that the keys are the TA names and their corresponding values should be a list which stores the days assigned to them.\n",
        "\n",
        "For example, one of the keys of the returned dictionary should be `\"Jeh\"` with its corresponding list as `[\"Monday\", \"Thursday\", \"Sunday\"]`."
      ]
    },
    {
      "cell_type": "code",
      "execution_count": null,
      "metadata": {
        "nbgrader": {
          "grade": false,
          "grade_id": "test_inverse",
          "locked": false,
          "points": "5",
          "solution": false
        },
        "id": "LbWwiBDQlGJH"
      },
      "outputs": [],
      "source": [
        "from collections import defaultdict\n",
        "def invert_dict(d):\n",
        "    ###\n",
        "    ### YOUR CODE HERE\n",
        "    ###\n",
        "\n",
        "    # Larry's code, not sample solution\n",
        "    # TA_dict = {}\n",
        "    from collections import defaultdict\n",
        "    TA_dict = defaultdict(list)\n",
        "\n",
        "    for key, val in d.items():\n",
        "        # print(key, val, sep='\\n')\n",
        "        for name in val:\n",
        "            # print(key, name, sep='\\n')\n",
        "            # good template code for populating a dict,\n",
        "            # while not using default dict\n",
        "            # if not name in TA_dict.keys():\n",
        "            #     TA_dict[name] = [key]\n",
        "            # else:  # TA name is already a key in the dict\n",
        "                # day_list = TA_dict[name]  # list of days\n",
        "            TA_dict[name].append(key)\n",
        "                # TA_dict[name] = day_list\n",
        "            # print(TA_dict)\n",
        "            # print()\n",
        "\n",
        "#     print(TA_dict)\n",
        "\n",
        "    return dict(TA_dict)\n",
        "\n",
        "inv_dict = invert_dict(assignments)"
      ]
    },
    {
      "cell_type": "code",
      "execution_count": null,
      "metadata": {
        "deletable": false,
        "editable": false,
        "nbgrader": {
          "grade": true,
          "grade_id": "test_inverse",
          "locked": true,
          "points": "5",
          "solution": false
        },
        "id": "dfFNkGCklGJI",
        "colab": {
          "base_uri": "https://localhost:8080/"
        },
        "outputId": "81436106-a9c8-47a5-ce9a-443cb0ef824f"
      },
      "outputs": [
        {
          "output_type": "stream",
          "name": "stdout",
          "text": [
            "\n",
            "(Passed!)\n"
          ]
        }
      ],
      "source": [
        "# Test cell: `test_inverse`\n",
        "\n",
        "import random\n",
        "TA_list = [\"Rachel\", \"Yandi\", \"Ben\", \"Jeh\", \"Evan\", \"Chinmay\", \"Shishir\", \"Raghav\", \"Samuel\", \"Michael\"]\n",
        "\n",
        "# Your solution\n",
        "inv_dict = invert_dict(assignments)\n",
        "\n",
        "random_TA = random.sample(TA_list, 5)\n",
        "for TA in random_TA:\n",
        "    assigned_days = inv_dict[TA]\n",
        "    for days in assigned_days:\n",
        "        assert TA in assignments[days], \"Incorrect inversion for TA {}\".format(TA)\n",
        "\n",
        "print(\"\\n(Passed!)\")"
      ]
    },
    {
      "cell_type": "markdown",
      "metadata": {
        "deletable": false,
        "editable": false,
        "nbgrader": {
          "grade": false,
          "locked": true,
          "solution": false
        },
        "id": "vBi7YDO2lGJI"
      },
      "source": [
        "**Exercise 2** (2 points): _Tracing the route of a pilot_.\n",
        "\n",
        "Suppose a pilot flies from one city to the next. He makes 7 such trips, which are stored in the list shown in the next cell. The first entry of each tuple denotes the origin, and the second denotes the destination. Also assume that the next flight a pilot makes must originate from the destination of her previous flight. Your task in this exercise is to write a function that finds the route followed by the pilot, given her first port of origin.\n",
        "\n",
        "First, let `segments` be an unordered list of segments that the pilot flew."
      ]
    },
    {
      "cell_type": "code",
      "execution_count": null,
      "metadata": {
        "deletable": false,
        "editable": false,
        "nbgrader": {
          "grade": false,
          "locked": true,
          "solution": false
        },
        "id": "x39bbWVZlGJI"
      },
      "outputs": [],
      "source": [
        "segments = [(\"JFK\", \"DEN\"), (\"LAX\", \"ORD\"), (\"DEN\", \"SFO\"), (\"LAS\", \"LAX\"), (\"ORD\", \"ATL\"), (\"ATL\", \"JFK\"), (\"SFO\", \"LAS\")]"
      ]
    },
    {
      "cell_type": "markdown",
      "metadata": {
        "deletable": false,
        "editable": false,
        "nbgrader": {
          "grade": false,
          "locked": true,
          "solution": false
        },
        "id": "1WfB-hKolGJJ"
      },
      "source": [
        "Next, write a function `find_dest(segs, origin)` that returns the next destination of the pilot given one port of origin and an unordered list of flight segments. Example, if `segs == segments` as defined above, then for `'LAX'`, your function should return `'ORD'` because there is the tuple, `(\"LAX\", \"ORD\")`, in `segs`.\n",
        "\n",
        "You may assume that `origin` appears only once in the list of segments, `segs`."
      ]
    },
    {
      "cell_type": "code",
      "execution_count": null,
      "metadata": {
        "id": "od1rMQ_hlGJJ",
        "colab": {
          "base_uri": "https://localhost:8080/",
          "height": 87
        },
        "outputId": "57adc733-ff1e-4be6-9c22-5fe0c00e24b0"
      },
      "outputs": [
        {
          "output_type": "stream",
          "name": "stdout",
          "text": [
            "tick\n",
            "tick\n",
            "tick\n"
          ]
        },
        {
          "output_type": "execute_result",
          "data": {
            "text/plain": [
              "'SFO'"
            ],
            "application/vnd.google.colaboratory.intrinsic+json": {
              "type": "string"
            }
          },
          "metadata": {},
          "execution_count": 19
        }
      ],
      "source": [
        "def find_dest(segs, origin):\n",
        "    assert type(origin) is str\n",
        "    assert type(segs) is list\n",
        "    ###\n",
        "    ### YOUR CODE HERE\n",
        "    ###\n",
        "\n",
        "    dest = ''\n",
        "\n",
        "    for route in segs:\n",
        "        print('tick')\n",
        "        if route[0] == origin:\n",
        "            return route[1]\n",
        "    # return [d for o, d in segs if o == origin][0]\n",
        "\n",
        "    return dest\n",
        "    # route_d = dict(segs)\n",
        "    # return route_d[origin]\n",
        "\n",
        "find_dest(segments, \"DEN\")"
      ]
    },
    {
      "cell_type": "code",
      "execution_count": null,
      "metadata": {
        "deletable": false,
        "editable": false,
        "nbgrader": {
          "grade": true,
          "grade_id": "test_destination",
          "locked": true,
          "points": "2",
          "solution": false
        },
        "id": "LeZv3fFhlGJJ",
        "colab": {
          "base_uri": "https://localhost:8080/"
        },
        "outputId": "f13160b4-b590-46cd-ee42-29f097656fd3"
      },
      "outputs": [
        {
          "output_type": "stream",
          "name": "stdout",
          "text": [
            "\n",
            "(Passed.)\n"
          ]
        }
      ],
      "source": [
        "# Test flight destination\n",
        "den = find_dest(segments, \"DEN\")\n",
        "assert find_dest(segments, \"DEN\") == \"SFO\", \"Wrong destination for DEN\"\n",
        "assert find_dest(segments, \"LAX\") == \"ORD\", \"Wrong destination for LAX\"\n",
        "assert find_dest(segments, \"ATL\") == \"JFK\", \"Wrong destination for ATL\"\n",
        "assert find_dest(segments, \"JFK\") == \"DEN\", \"Wrong destination for JFK\"\n",
        "print(\"\\n(Passed.)\")"
      ]
    },
    {
      "cell_type": "markdown",
      "metadata": {
        "deletable": false,
        "editable": false,
        "nbgrader": {
          "grade": false,
          "locked": true,
          "solution": false
        },
        "id": "BXL_cp2mlGJJ"
      },
      "source": [
        "**Exercise 3** (3 points). Now write a function `get_route(segs, origin)` that traces the complete itinerary of the pilot, given her first port of origin. Assume that the destination for a flight is the same as the origin for the next flight. The itinerary is completed when he arrives back at the starting port of origin. For example, if the starting port is `\"JFK\"`, your function should return the list: `[\"JFK\", \"DEN\", \"SFO\", \"LAS\", \"LAX\", \"ORD\", \"ATL\"]`."
      ]
    },
    {
      "cell_type": "code",
      "execution_count": null,
      "metadata": {
        "id": "dPSSHeB6lGJK",
        "colab": {
          "base_uri": "https://localhost:8080/"
        },
        "outputId": "dfe2ea4e-4c1a-4c7b-827a-f29a1d44a052"
      },
      "outputs": [
        {
          "output_type": "stream",
          "name": "stdout",
          "text": [
            "tick\n",
            "tick\n",
            "tick\n",
            "tick\n",
            "tick\n",
            "tick\n",
            "tick\n",
            "tock\n",
            "tock\n",
            "tock\n",
            "tock\n",
            "tock\n",
            "tock\n",
            "['JFK', 'DEN', 'SFO', 'LAS', 'LAX', 'ORD', 'ATL']\n"
          ]
        }
      ],
      "source": [
        "def get_route(path, origin):\n",
        "    ###\n",
        "    ### YOUR CODE HERE\n",
        "    ###\n",
        "\n",
        "    # path = segs\n",
        "\n",
        "    # route_list = [origin]\n",
        "    # for dest in path:\n",
        "    #     print('tock')\n",
        "    #     route_list.append(find_dest(path,origin))\n",
        "    #     origin = route_list[-1]\n",
        "    # print(route_list)\n",
        "    # route_list.pop()\n",
        "\n",
        "\n",
        "    # return route_list\n",
        "    route_d = dict(path)\n",
        "    start = route_d[origin] #second starting point\n",
        "    route_list = [origin] # pre-populate with first trip\n",
        "    for _ in range(len(path)):\n",
        "      print('tick')\n",
        "    while start != origin: # captures from second trip on\n",
        "      print('tock')\n",
        "      route_list.append(start)\n",
        "      start = route_d[start]\n",
        "    return route_list\n",
        "\n",
        "itinerary = get_route(segments, 'JFK')\n",
        "print(itinerary)"
      ]
    },
    {
      "cell_type": "code",
      "execution_count": null,
      "metadata": {
        "deletable": false,
        "editable": false,
        "nbgrader": {
          "grade": true,
          "grade_id": "test_route",
          "locked": true,
          "points": "3",
          "solution": false
        },
        "id": "fZnzTuEAlGJK",
        "colab": {
          "base_uri": "https://localhost:8080/"
        },
        "outputId": "6821e4a3-9663-404c-8904-c4b0c679ac3b"
      },
      "outputs": [
        {
          "output_type": "stream",
          "name": "stdout",
          "text": [
            "tick\n",
            "tick\n",
            "tick\n",
            "tick\n",
            "tick\n",
            "tick\n",
            "tick\n",
            "tock\n",
            "tock\n",
            "tock\n",
            "tock\n",
            "tock\n",
            "tock\n",
            "tick\n",
            "tick\n",
            "tick\n",
            "tick\n",
            "tick\n",
            "tick\n",
            "tick\n",
            "tick\n",
            "tick\n",
            "tick\n",
            "tick\n",
            "tick\n",
            "tick\n",
            "tick\n",
            "tick\n",
            "tick\n",
            "tick\n",
            "tick\n",
            "tick\n",
            "tick\n",
            "tick\n",
            "tick\n",
            "tick\n",
            "tick\n",
            "tick\n",
            "tick\n",
            "tick\n",
            "tick\n",
            "tick\n",
            "tick\n",
            "tick\n",
            "tick\n",
            "tick\n",
            "tick\n",
            "tock\n",
            "tock\n",
            "tock\n",
            "tock\n",
            "tock\n",
            "tock\n",
            "tick\n",
            "tick\n",
            "tick\n",
            "tick\n",
            "tick\n",
            "tick\n",
            "tick\n",
            "tick\n",
            "tick\n",
            "tick\n",
            "tick\n",
            "tick\n",
            "tick\n",
            "tick\n",
            "tick\n",
            "tick\n",
            "tick\n",
            "tick\n",
            "tick\n",
            "tick\n",
            "tick\n",
            "tick\n",
            "tick\n",
            "tick\n",
            "tick\n",
            "tick\n",
            "tick\n",
            "tick\n",
            "tick\n",
            "tock\n",
            "tock\n",
            "tock\n",
            "tock\n",
            "tock\n",
            "tock\n",
            "tick\n",
            "tick\n",
            "tick\n",
            "tick\n",
            "tick\n",
            "tick\n",
            "tick\n",
            "tick\n",
            "tick\n",
            "tick\n",
            "tick\n",
            "tick\n",
            "tick\n",
            "tick\n",
            "tick\n",
            "tick\n",
            "tick\n",
            "tick\n",
            "tick\n",
            "tick\n",
            "tick\n",
            "tick\n",
            "tick\n",
            "tick\n",
            "tick\n",
            "tick\n",
            "tick\n",
            "tick\n",
            "tock\n",
            "tock\n",
            "tock\n",
            "tock\n",
            "tock\n",
            "tock\n",
            "tick\n",
            "tick\n",
            "tick\n",
            "tick\n",
            "tick\n",
            "tick\n",
            "tick\n",
            "tick\n",
            "tick\n",
            "tick\n",
            "tick\n",
            "tick\n",
            "tick\n",
            "tick\n",
            "tick\n",
            "tick\n",
            "tick\n",
            "tick\n",
            "tick\n",
            "tick\n",
            "tick\n",
            "tick\n",
            "tick\n",
            "tick\n",
            "tick\n",
            "tick\n",
            "tick\n",
            "tick\n",
            "tick\n",
            "tick\n",
            "tick\n",
            "tock\n",
            "tock\n",
            "tock\n",
            "tock\n",
            "tock\n",
            "tock\n",
            "tick\n",
            "tick\n",
            "tick\n",
            "tick\n",
            "tick\n",
            "tick\n",
            "tick\n",
            "tick\n",
            "tick\n",
            "tick\n",
            "tick\n",
            "tick\n",
            "tick\n",
            "tick\n",
            "tick\n",
            "tick\n",
            "tick\n",
            "tick\n",
            "tick\n",
            "tick\n",
            "tick\n",
            "tick\n",
            "tick\n",
            "\n",
            "(Passed.)\n"
          ]
        }
      ],
      "source": [
        "# Test pilot route\n",
        "ports = [\"JFK\", \"DEN\", \"SFO\", \"LAS\", \"LAX\", \"ORD\", \"ATL\"]\n",
        "starting_port = random.sample(ports, 5)\n",
        "for p in starting_port:\n",
        "    itinerary = get_route(segments, p)\n",
        "    assert itinerary[0] == p, \"incorrect port of origin for the itinerary\"\n",
        "    for i, port in enumerate(itinerary[:-1]):\n",
        "        dest = find_dest(segments, port)\n",
        "        assert dest == itinerary[i+1], \"incorrect itinerary\"\n",
        "\n",
        "print(\"\\n(Passed.)\")"
      ]
    },
    {
      "cell_type": "markdown",
      "metadata": {
        "collapsed": true,
        "deletable": false,
        "editable": false,
        "nbgrader": {
          "grade": false,
          "locked": true,
          "solution": false
        },
        "id": "Jl_WCRrPlGJK"
      },
      "source": [
        "**Fin!** You've reached the end of this problem. Don't forget to restart the\n",
        "kernel and run the entire notebook from top-to-bottom to make sure you did\n",
        "everything correctly. If that is working, try submitting this problem. (Recall\n",
        "that you *must* submit and pass the autograder to get credit for your work!)"
      ]
    }
  ],
  "metadata": {
    "kernelspec": {
      "display_name": "Python 3 (ipykernel)",
      "language": "python",
      "name": "python3"
    },
    "language_info": {
      "codemirror_mode": {
        "name": "ipython",
        "version": 3
      },
      "file_extension": ".py",
      "mimetype": "text/x-python",
      "name": "python",
      "nbconvert_exporter": "python",
      "pygments_lexer": "ipython3",
      "version": "3.9.13"
    },
    "colab": {
      "provenance": []
    }
  },
  "nbformat": 4,
  "nbformat_minor": 0
}