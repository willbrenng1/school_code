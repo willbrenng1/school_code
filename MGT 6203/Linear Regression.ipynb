{
 "cells": [
  {
   "cell_type": "code",
   "execution_count": 1,
   "metadata": {
    "vscode": {
     "languageId": "r"
    }
   },
   "outputs": [
    {
     "name": "stderr",
     "output_type": "stream",
     "text": [
      "Loading required package: Ecdat\n",
      "\n",
      "Warning message:\n",
      "\"package 'Ecdat' was built under R version 4.3.3\"\n",
      "Loading required package: Ecfun\n",
      "\n",
      "Warning message:\n",
      "\"package 'Ecfun' was built under R version 4.3.3\"\n",
      "\n",
      "Attaching package: 'Ecfun'\n",
      "\n",
      "\n",
      "The following object is masked from 'package:base':\n",
      "\n",
      "    sign\n",
      "\n",
      "\n",
      "\n",
      "Attaching package: 'Ecdat'\n",
      "\n",
      "\n",
      "The following object is masked from 'package:datasets':\n",
      "\n",
      "    Orange\n",
      "\n",
      "\n",
      "Loading required package: ggplot2\n",
      "\n",
      "Warning message:\n",
      "\"package 'ggplot2' was built under R version 4.3.3\"\n",
      "Loading required package: ISLR\n",
      "\n",
      "Warning message:\n",
      "\"package 'ISLR' was built under R version 4.3.3\"\n",
      "Loading required package: GGally\n",
      "\n",
      "Registered S3 method overwritten by 'GGally':\n",
      "  method from   \n",
      "  +.gg   ggplot2\n",
      "\n",
      "Loading required package: car\n",
      "\n",
      "Loading required package: carData\n",
      "\n",
      "\n",
      "Attaching package: 'carData'\n",
      "\n",
      "\n",
      "The following object is masked from 'package:Ecdat':\n",
      "\n",
      "    Mroz\n",
      "\n",
      "\n"
     ]
    }
   ],
   "source": [
    "if (!require(Ecdat)) install.packages(\"Ecdat\")\n",
    "library(Ecdat)\n",
    "\n",
    "\n",
    "if (!require(ggplot2)) install.packages(\"ggplot2\")\n",
    "library(ggplot2)\n",
    "\n",
    "\n",
    "if (!require(ISLR)) install.packages(\"ISLR\")\n",
    "library(ISLR)\n",
    "\n",
    "\n",
    "if (!require(GGally)) install.packages(\"GGally\")\n",
    "library(GGally)\n",
    "\n",
    "\n",
    "if (!require(car)) install.packages(\"car\")\n",
    "library(car)"
   ]
  },
  {
   "cell_type": "code",
   "execution_count": 6,
   "metadata": {
    "vscode": {
     "languageId": "r"
    }
   },
   "outputs": [
    {
     "data": {
      "text/plain": [
       "     price           lotsize         bedrooms        bathrms     \n",
       " Min.   : 25000   Min.   : 1650   Min.   :1.000   Min.   :1.000  \n",
       " 1st Qu.: 49125   1st Qu.: 3600   1st Qu.:2.000   1st Qu.:1.000  \n",
       " Median : 62000   Median : 4600   Median :3.000   Median :1.000  \n",
       " Mean   : 68122   Mean   : 5150   Mean   :2.965   Mean   :1.286  \n",
       " 3rd Qu.: 82000   3rd Qu.: 6360   3rd Qu.:3.000   3rd Qu.:2.000  \n",
       " Max.   :190000   Max.   :16200   Max.   :6.000   Max.   :4.000  \n",
       "    stories      driveway  recroom   fullbase  gashw     airco    \n",
       " Min.   :1.000   no : 77   no :449   no :355   no :521   no :373  \n",
       " 1st Qu.:1.000   yes:469   yes: 97   yes:191   yes: 25   yes:173  \n",
       " Median :2.000                                                    \n",
       " Mean   :1.808                                                    \n",
       " 3rd Qu.:2.000                                                    \n",
       " Max.   :4.000                                                    \n",
       "    garagepl      prefarea \n",
       " Min.   :0.0000   no :418  \n",
       " 1st Qu.:0.0000   yes:128  \n",
       " Median :0.0000            \n",
       " Mean   :0.6923            \n",
       " 3rd Qu.:1.0000            \n",
       " Max.   :3.0000            "
      ]
     },
     "metadata": {},
     "output_type": "display_data"
    },
    {
     "name": "stdout",
     "output_type": "stream",
     "text": [
      "'data.frame':\t546 obs. of  12 variables:\n",
      " $ price   : num  42000 38500 49500 60500 61000 66000 66000 69000 83800 88500 ...\n",
      " $ lotsize : num  5850 4000 3060 6650 6360 4160 3880 4160 4800 5500 ...\n",
      " $ bedrooms: num  3 2 3 3 2 3 3 3 3 3 ...\n",
      " $ bathrms : num  1 1 1 1 1 1 2 1 1 2 ...\n",
      " $ stories : num  2 1 1 2 1 1 2 3 1 4 ...\n",
      " $ driveway: Factor w/ 2 levels \"no\",\"yes\": 2 2 2 2 2 2 2 2 2 2 ...\n",
      " $ recroom : Factor w/ 2 levels \"no\",\"yes\": 1 1 1 2 1 2 1 1 2 2 ...\n",
      " $ fullbase: Factor w/ 2 levels \"no\",\"yes\": 2 1 1 1 1 2 2 1 2 1 ...\n",
      " $ gashw   : Factor w/ 2 levels \"no\",\"yes\": 1 1 1 1 1 1 1 1 1 1 ...\n",
      " $ airco   : Factor w/ 2 levels \"no\",\"yes\": 1 1 1 1 1 2 1 1 1 2 ...\n",
      " $ garagepl: num  1 0 0 0 0 0 2 0 0 1 ...\n",
      " $ prefarea: Factor w/ 2 levels \"no\",\"yes\": 1 1 1 1 1 1 1 1 1 1 ...\n"
     ]
    },
    {
     "data": {
      "text/html": [
       "<table class=\"dataframe\">\n",
       "<caption>A data.frame: 10 × 12</caption>\n",
       "<thead>\n",
       "\t<tr><th></th><th scope=col>price</th><th scope=col>lotsize</th><th scope=col>bedrooms</th><th scope=col>bathrms</th><th scope=col>stories</th><th scope=col>driveway</th><th scope=col>recroom</th><th scope=col>fullbase</th><th scope=col>gashw</th><th scope=col>airco</th><th scope=col>garagepl</th><th scope=col>prefarea</th></tr>\n",
       "\t<tr><th></th><th scope=col>&lt;dbl&gt;</th><th scope=col>&lt;dbl&gt;</th><th scope=col>&lt;dbl&gt;</th><th scope=col>&lt;dbl&gt;</th><th scope=col>&lt;dbl&gt;</th><th scope=col>&lt;fct&gt;</th><th scope=col>&lt;fct&gt;</th><th scope=col>&lt;fct&gt;</th><th scope=col>&lt;fct&gt;</th><th scope=col>&lt;fct&gt;</th><th scope=col>&lt;dbl&gt;</th><th scope=col>&lt;fct&gt;</th></tr>\n",
       "</thead>\n",
       "<tbody>\n",
       "\t<tr><th scope=row>1</th><td>42000</td><td>5850</td><td>3</td><td>1</td><td>2</td><td>yes</td><td>no </td><td>yes</td><td>no</td><td>no </td><td>1</td><td>no</td></tr>\n",
       "\t<tr><th scope=row>2</th><td>38500</td><td>4000</td><td>2</td><td>1</td><td>1</td><td>yes</td><td>no </td><td>no </td><td>no</td><td>no </td><td>0</td><td>no</td></tr>\n",
       "\t<tr><th scope=row>3</th><td>49500</td><td>3060</td><td>3</td><td>1</td><td>1</td><td>yes</td><td>no </td><td>no </td><td>no</td><td>no </td><td>0</td><td>no</td></tr>\n",
       "\t<tr><th scope=row>4</th><td>60500</td><td>6650</td><td>3</td><td>1</td><td>2</td><td>yes</td><td>yes</td><td>no </td><td>no</td><td>no </td><td>0</td><td>no</td></tr>\n",
       "\t<tr><th scope=row>5</th><td>61000</td><td>6360</td><td>2</td><td>1</td><td>1</td><td>yes</td><td>no </td><td>no </td><td>no</td><td>no </td><td>0</td><td>no</td></tr>\n",
       "\t<tr><th scope=row>6</th><td>66000</td><td>4160</td><td>3</td><td>1</td><td>1</td><td>yes</td><td>yes</td><td>yes</td><td>no</td><td>yes</td><td>0</td><td>no</td></tr>\n",
       "\t<tr><th scope=row>7</th><td>66000</td><td>3880</td><td>3</td><td>2</td><td>2</td><td>yes</td><td>no </td><td>yes</td><td>no</td><td>no </td><td>2</td><td>no</td></tr>\n",
       "\t<tr><th scope=row>8</th><td>69000</td><td>4160</td><td>3</td><td>1</td><td>3</td><td>yes</td><td>no </td><td>no </td><td>no</td><td>no </td><td>0</td><td>no</td></tr>\n",
       "\t<tr><th scope=row>9</th><td>83800</td><td>4800</td><td>3</td><td>1</td><td>1</td><td>yes</td><td>yes</td><td>yes</td><td>no</td><td>no </td><td>0</td><td>no</td></tr>\n",
       "\t<tr><th scope=row>10</th><td>88500</td><td>5500</td><td>3</td><td>2</td><td>4</td><td>yes</td><td>yes</td><td>no </td><td>no</td><td>yes</td><td>1</td><td>no</td></tr>\n",
       "</tbody>\n",
       "</table>\n"
      ],
      "text/latex": [
       "A data.frame: 10 × 12\n",
       "\\begin{tabular}{r|llllllllllll}\n",
       "  & price & lotsize & bedrooms & bathrms & stories & driveway & recroom & fullbase & gashw & airco & garagepl & prefarea\\\\\n",
       "  & <dbl> & <dbl> & <dbl> & <dbl> & <dbl> & <fct> & <fct> & <fct> & <fct> & <fct> & <dbl> & <fct>\\\\\n",
       "\\hline\n",
       "\t1 & 42000 & 5850 & 3 & 1 & 2 & yes & no  & yes & no & no  & 1 & no\\\\\n",
       "\t2 & 38500 & 4000 & 2 & 1 & 1 & yes & no  & no  & no & no  & 0 & no\\\\\n",
       "\t3 & 49500 & 3060 & 3 & 1 & 1 & yes & no  & no  & no & no  & 0 & no\\\\\n",
       "\t4 & 60500 & 6650 & 3 & 1 & 2 & yes & yes & no  & no & no  & 0 & no\\\\\n",
       "\t5 & 61000 & 6360 & 2 & 1 & 1 & yes & no  & no  & no & no  & 0 & no\\\\\n",
       "\t6 & 66000 & 4160 & 3 & 1 & 1 & yes & yes & yes & no & yes & 0 & no\\\\\n",
       "\t7 & 66000 & 3880 & 3 & 2 & 2 & yes & no  & yes & no & no  & 2 & no\\\\\n",
       "\t8 & 69000 & 4160 & 3 & 1 & 3 & yes & no  & no  & no & no  & 0 & no\\\\\n",
       "\t9 & 83800 & 4800 & 3 & 1 & 1 & yes & yes & yes & no & no  & 0 & no\\\\\n",
       "\t10 & 88500 & 5500 & 3 & 2 & 4 & yes & yes & no  & no & yes & 1 & no\\\\\n",
       "\\end{tabular}\n"
      ],
      "text/markdown": [
       "\n",
       "A data.frame: 10 × 12\n",
       "\n",
       "| <!--/--> | price &lt;dbl&gt; | lotsize &lt;dbl&gt; | bedrooms &lt;dbl&gt; | bathrms &lt;dbl&gt; | stories &lt;dbl&gt; | driveway &lt;fct&gt; | recroom &lt;fct&gt; | fullbase &lt;fct&gt; | gashw &lt;fct&gt; | airco &lt;fct&gt; | garagepl &lt;dbl&gt; | prefarea &lt;fct&gt; |\n",
       "|---|---|---|---|---|---|---|---|---|---|---|---|---|\n",
       "| 1 | 42000 | 5850 | 3 | 1 | 2 | yes | no  | yes | no | no  | 1 | no |\n",
       "| 2 | 38500 | 4000 | 2 | 1 | 1 | yes | no  | no  | no | no  | 0 | no |\n",
       "| 3 | 49500 | 3060 | 3 | 1 | 1 | yes | no  | no  | no | no  | 0 | no |\n",
       "| 4 | 60500 | 6650 | 3 | 1 | 2 | yes | yes | no  | no | no  | 0 | no |\n",
       "| 5 | 61000 | 6360 | 2 | 1 | 1 | yes | no  | no  | no | no  | 0 | no |\n",
       "| 6 | 66000 | 4160 | 3 | 1 | 1 | yes | yes | yes | no | yes | 0 | no |\n",
       "| 7 | 66000 | 3880 | 3 | 2 | 2 | yes | no  | yes | no | no  | 2 | no |\n",
       "| 8 | 69000 | 4160 | 3 | 1 | 3 | yes | no  | no  | no | no  | 0 | no |\n",
       "| 9 | 83800 | 4800 | 3 | 1 | 1 | yes | yes | yes | no | no  | 0 | no |\n",
       "| 10 | 88500 | 5500 | 3 | 2 | 4 | yes | yes | no  | no | yes | 1 | no |\n",
       "\n"
      ],
      "text/plain": [
       "   price lotsize bedrooms bathrms stories driveway recroom fullbase gashw airco\n",
       "1  42000 5850    3        1       2       yes      no      yes      no    no   \n",
       "2  38500 4000    2        1       1       yes      no      no       no    no   \n",
       "3  49500 3060    3        1       1       yes      no      no       no    no   \n",
       "4  60500 6650    3        1       2       yes      yes     no       no    no   \n",
       "5  61000 6360    2        1       1       yes      no      no       no    no   \n",
       "6  66000 4160    3        1       1       yes      yes     yes      no    yes  \n",
       "7  66000 3880    3        2       2       yes      no      yes      no    no   \n",
       "8  69000 4160    3        1       3       yes      no      no       no    no   \n",
       "9  83800 4800    3        1       1       yes      yes     yes      no    no   \n",
       "10 88500 5500    3        2       4       yes      yes     no       no    yes  \n",
       "   garagepl prefarea\n",
       "1  1        no      \n",
       "2  0        no      \n",
       "3  0        no      \n",
       "4  0        no      \n",
       "5  0        no      \n",
       "6  0        no      \n",
       "7  2        no      \n",
       "8  0        no      \n",
       "9  0        no      \n",
       "10 1        no      "
      ]
     },
     "metadata": {},
     "output_type": "display_data"
    },
    {
     "name": "stdout",
     "output_type": "stream",
     "text": [
      "Housing                 package:Ecdat                  R Documentation\n",
      "\n",
      "_\bS_\ba_\bl_\be_\bs _\bP_\br_\bi_\bc_\be_\bs _\bo_\bf _\bH_\bo_\bu_\bs_\be_\bs _\bi_\bn _\bt_\bh_\be _\bC_\bi_\bt_\by _\bo_\bf _\bW_\bi_\bn_\bd_\bs_\bo_\br\n",
      "\n",
      "_\bD_\be_\bs_\bc_\br_\bi_\bp_\bt_\bi_\bo_\bn:\n",
      "\n",
      "     a cross-section from 1987\n",
      "\n",
      "     _number of observations_ : 546\n",
      "\n",
      "     _observation_ : goods\n",
      "\n",
      "     _country_ : Canada\n",
      "\n",
      "_\bU_\bs_\ba_\bg_\be:\n",
      "\n",
      "     data(Housing)\n",
      "     \n",
      "_\bF_\bo_\br_\bm_\ba_\bt:\n",
      "\n",
      "     A dataframe containing :\n",
      "\n",
      "     price sale price of a house\n",
      "\n",
      "     lotsize the lot size of a property in square feet\n",
      "\n",
      "     bedrooms number of bedrooms\n",
      "\n",
      "     bathrms number of full bathrooms\n",
      "\n",
      "     stories number of stories excluding basement\n",
      "\n",
      "     driveway does the house has a driveway ?\n",
      "\n",
      "     recroom does the house has a recreational room ?\n",
      "\n",
      "     fullbase does the house has a full finished basement ?\n",
      "\n",
      "     gashw does the house uses gas for hot water heating ?\n",
      "\n",
      "     airco does the house has central air conditioning ?\n",
      "\n",
      "     garagepl number of garage places\n",
      "\n",
      "     prefarea is the house located in the preferred neighbourhood of\n",
      "          the city ?\n",
      "\n",
      "_\bS_\bo_\bu_\br_\bc_\be:\n",
      "\n",
      "     Anglin, P.M.  and R.  Gencay (1996) \"Semiparametric estimation of\n",
      "     a hedonic price function\", _Journal of Applied Econometrics_,\n",
      "     *11(6)*, 633-648.\n",
      "\n",
      "_\bR_\be_\bf_\be_\br_\be_\bn_\bc_\be_\bs:\n",
      "\n",
      "     Verbeek, Marno (2004) _A Guide to Modern Econometrics_, John Wiley\n",
      "     and Sons, chapter 3.\n",
      "\n",
      "     Journal of Applied Econometrics data archive :\n",
      "     <http://qed.econ.queensu.ca/jae/>.\n",
      "\n",
      "_\bS_\be_\be _\bA_\bl_\bs_\bo:\n",
      "\n",
      "     'Index.Source', 'Index.Economics', 'Index.Econometrics',\n",
      "     'Index.Observations'\n"
     ]
    }
   ],
   "source": [
    "?Housing\n",
    "summary(Housing)\n",
    "str(Housing)\n",
    "View(head(Housing,10))"
   ]
  },
  {
   "cell_type": "code",
   "execution_count": 7,
   "metadata": {
    "vscode": {
     "languageId": "r"
    }
   },
   "outputs": [
    {
     "data": {
      "text/html": [
       "<table class=\"dataframe\">\n",
       "<caption>A data.frame: 15 × 4</caption>\n",
       "<thead>\n",
       "\t<tr><th></th><th scope=col>Housing.price</th><th scope=col>Housing.lotsize</th><th scope=col>Housing.bedrooms</th><th scope=col>Housing.bathrms</th></tr>\n",
       "\t<tr><th></th><th scope=col>&lt;dbl&gt;</th><th scope=col>&lt;dbl&gt;</th><th scope=col>&lt;dbl&gt;</th><th scope=col>&lt;dbl&gt;</th></tr>\n",
       "</thead>\n",
       "<tbody>\n",
       "\t<tr><th scope=row>1</th><td>42000</td><td>5850</td><td>3</td><td>1</td></tr>\n",
       "\t<tr><th scope=row>2</th><td>38500</td><td>4000</td><td>2</td><td>1</td></tr>\n",
       "\t<tr><th scope=row>3</th><td>49500</td><td>3060</td><td>3</td><td>1</td></tr>\n",
       "\t<tr><th scope=row>4</th><td>60500</td><td>6650</td><td>3</td><td>1</td></tr>\n",
       "\t<tr><th scope=row>5</th><td>61000</td><td>6360</td><td>2</td><td>1</td></tr>\n",
       "\t<tr><th scope=row>6</th><td>66000</td><td>4160</td><td>3</td><td>1</td></tr>\n",
       "\t<tr><th scope=row>7</th><td>66000</td><td>3880</td><td>3</td><td>2</td></tr>\n",
       "\t<tr><th scope=row>8</th><td>69000</td><td>4160</td><td>3</td><td>1</td></tr>\n",
       "\t<tr><th scope=row>9</th><td>83800</td><td>4800</td><td>3</td><td>1</td></tr>\n",
       "\t<tr><th scope=row>10</th><td>88500</td><td>5500</td><td>3</td><td>2</td></tr>\n",
       "\t<tr><th scope=row>11</th><td>90000</td><td>7200</td><td>3</td><td>2</td></tr>\n",
       "\t<tr><th scope=row>12</th><td>30500</td><td>3000</td><td>2</td><td>1</td></tr>\n",
       "\t<tr><th scope=row>13</th><td>27000</td><td>1700</td><td>3</td><td>1</td></tr>\n",
       "\t<tr><th scope=row>14</th><td>36000</td><td>2880</td><td>3</td><td>1</td></tr>\n",
       "\t<tr><th scope=row>15</th><td>37000</td><td>3600</td><td>2</td><td>1</td></tr>\n",
       "</tbody>\n",
       "</table>\n"
      ],
      "text/latex": [
       "A data.frame: 15 × 4\n",
       "\\begin{tabular}{r|llll}\n",
       "  & Housing.price & Housing.lotsize & Housing.bedrooms & Housing.bathrms\\\\\n",
       "  & <dbl> & <dbl> & <dbl> & <dbl>\\\\\n",
       "\\hline\n",
       "\t1 & 42000 & 5850 & 3 & 1\\\\\n",
       "\t2 & 38500 & 4000 & 2 & 1\\\\\n",
       "\t3 & 49500 & 3060 & 3 & 1\\\\\n",
       "\t4 & 60500 & 6650 & 3 & 1\\\\\n",
       "\t5 & 61000 & 6360 & 2 & 1\\\\\n",
       "\t6 & 66000 & 4160 & 3 & 1\\\\\n",
       "\t7 & 66000 & 3880 & 3 & 2\\\\\n",
       "\t8 & 69000 & 4160 & 3 & 1\\\\\n",
       "\t9 & 83800 & 4800 & 3 & 1\\\\\n",
       "\t10 & 88500 & 5500 & 3 & 2\\\\\n",
       "\t11 & 90000 & 7200 & 3 & 2\\\\\n",
       "\t12 & 30500 & 3000 & 2 & 1\\\\\n",
       "\t13 & 27000 & 1700 & 3 & 1\\\\\n",
       "\t14 & 36000 & 2880 & 3 & 1\\\\\n",
       "\t15 & 37000 & 3600 & 2 & 1\\\\\n",
       "\\end{tabular}\n"
      ],
      "text/markdown": [
       "\n",
       "A data.frame: 15 × 4\n",
       "\n",
       "| <!--/--> | Housing.price &lt;dbl&gt; | Housing.lotsize &lt;dbl&gt; | Housing.bedrooms &lt;dbl&gt; | Housing.bathrms &lt;dbl&gt; |\n",
       "|---|---|---|---|---|\n",
       "| 1 | 42000 | 5850 | 3 | 1 |\n",
       "| 2 | 38500 | 4000 | 2 | 1 |\n",
       "| 3 | 49500 | 3060 | 3 | 1 |\n",
       "| 4 | 60500 | 6650 | 3 | 1 |\n",
       "| 5 | 61000 | 6360 | 2 | 1 |\n",
       "| 6 | 66000 | 4160 | 3 | 1 |\n",
       "| 7 | 66000 | 3880 | 3 | 2 |\n",
       "| 8 | 69000 | 4160 | 3 | 1 |\n",
       "| 9 | 83800 | 4800 | 3 | 1 |\n",
       "| 10 | 88500 | 5500 | 3 | 2 |\n",
       "| 11 | 90000 | 7200 | 3 | 2 |\n",
       "| 12 | 30500 | 3000 | 2 | 1 |\n",
       "| 13 | 27000 | 1700 | 3 | 1 |\n",
       "| 14 | 36000 | 2880 | 3 | 1 |\n",
       "| 15 | 37000 | 3600 | 2 | 1 |\n",
       "\n"
      ],
      "text/plain": [
       "   Housing.price Housing.lotsize Housing.bedrooms Housing.bathrms\n",
       "1  42000         5850            3                1              \n",
       "2  38500         4000            2                1              \n",
       "3  49500         3060            3                1              \n",
       "4  60500         6650            3                1              \n",
       "5  61000         6360            2                1              \n",
       "6  66000         4160            3                1              \n",
       "7  66000         3880            3                2              \n",
       "8  69000         4160            3                1              \n",
       "9  83800         4800            3                1              \n",
       "10 88500         5500            3                2              \n",
       "11 90000         7200            3                2              \n",
       "12 30500         3000            2                1              \n",
       "13 27000         1700            3                1              \n",
       "14 36000         2880            3                1              \n",
       "15 37000         3600            2                1              "
      ]
     },
     "metadata": {},
     "output_type": "display_data"
    }
   ],
   "source": [
    "h1 <- data.frame(Housing$price, Housing$lotsize, Housing$bedrooms, Housing$bathrms)\n",
    "View(head(h1,15))"
   ]
  },
  {
   "cell_type": "code",
   "execution_count": 9,
   "metadata": {
    "vscode": {
     "languageId": "r"
    }
   },
   "outputs": [
    {
     "data": {
      "text/html": [
       "68121.5970695971"
      ],
      "text/latex": [
       "68121.5970695971"
      ],
      "text/markdown": [
       "68121.5970695971"
      ],
      "text/plain": [
       "[1] 68121.6"
      ]
     },
     "metadata": {},
     "output_type": "display_data"
    },
    {
     "data": {
      "text/html": [
       "62000"
      ],
      "text/latex": [
       "62000"
      ],
      "text/markdown": [
       "62000"
      ],
      "text/plain": [
       "[1] 62000"
      ]
     },
     "metadata": {},
     "output_type": "display_data"
    }
   ],
   "source": [
    "pp <- Housing$price\n",
    "pricesd <- sd(pp)\n",
    "mean(Housing$price)\n",
    "median(Housing$price)"
   ]
  },
  {
   "cell_type": "code",
   "execution_count": 10,
   "metadata": {
    "vscode": {
     "languageId": "r"
    }
   },
   "outputs": [
    {
     "data": {
      "text/html": [
       "5150.26556776557"
      ],
      "text/latex": [
       "5150.26556776557"
      ],
      "text/markdown": [
       "5150.26556776557"
      ],
      "text/plain": [
       "[1] 5150.266"
      ]
     },
     "metadata": {},
     "output_type": "display_data"
    },
    {
     "data": {
      "text/html": [
       "4600"
      ],
      "text/latex": [
       "4600"
      ],
      "text/markdown": [
       "4600"
      ],
      "text/plain": [
       "[1] 4600"
      ]
     },
     "metadata": {},
     "output_type": "display_data"
    }
   ],
   "source": [
    "lot <- Housing$lotsize\n",
    "lotsd <- sd(lot)\n",
    "mean(Housing$lotsize)\n",
    "median(Housing$lotsize)"
   ]
  },
  {
   "cell_type": "code",
   "execution_count": 11,
   "metadata": {
    "vscode": {
     "languageId": "r"
    }
   },
   "outputs": [
    {
     "data": {
      "text/html": [
       "<table class=\"dataframe\">\n",
       "<caption>A matrix: 4 × 4 of type dbl</caption>\n",
       "<thead>\n",
       "\t<tr><th></th><th scope=col>Housing.price</th><th scope=col>Housing.lotsize</th><th scope=col>Housing.bedrooms</th><th scope=col>Housing.bathrms</th></tr>\n",
       "</thead>\n",
       "<tbody>\n",
       "\t<tr><th scope=row>Housing.price</th><td>1.00</td><td>0.54</td><td>0.37</td><td>0.52</td></tr>\n",
       "\t<tr><th scope=row>Housing.lotsize</th><td>0.54</td><td>1.00</td><td>0.15</td><td>0.19</td></tr>\n",
       "\t<tr><th scope=row>Housing.bedrooms</th><td>0.37</td><td>0.15</td><td>1.00</td><td>0.37</td></tr>\n",
       "\t<tr><th scope=row>Housing.bathrms</th><td>0.52</td><td>0.19</td><td>0.37</td><td>1.00</td></tr>\n",
       "</tbody>\n",
       "</table>\n"
      ],
      "text/latex": [
       "A matrix: 4 × 4 of type dbl\n",
       "\\begin{tabular}{r|llll}\n",
       "  & Housing.price & Housing.lotsize & Housing.bedrooms & Housing.bathrms\\\\\n",
       "\\hline\n",
       "\tHousing.price & 1.00 & 0.54 & 0.37 & 0.52\\\\\n",
       "\tHousing.lotsize & 0.54 & 1.00 & 0.15 & 0.19\\\\\n",
       "\tHousing.bedrooms & 0.37 & 0.15 & 1.00 & 0.37\\\\\n",
       "\tHousing.bathrms & 0.52 & 0.19 & 0.37 & 1.00\\\\\n",
       "\\end{tabular}\n"
      ],
      "text/markdown": [
       "\n",
       "A matrix: 4 × 4 of type dbl\n",
       "\n",
       "| <!--/--> | Housing.price | Housing.lotsize | Housing.bedrooms | Housing.bathrms |\n",
       "|---|---|---|---|---|\n",
       "| Housing.price | 1.00 | 0.54 | 0.37 | 0.52 |\n",
       "| Housing.lotsize | 0.54 | 1.00 | 0.15 | 0.19 |\n",
       "| Housing.bedrooms | 0.37 | 0.15 | 1.00 | 0.37 |\n",
       "| Housing.bathrms | 0.52 | 0.19 | 0.37 | 1.00 |\n",
       "\n"
      ],
      "text/plain": [
       "                 Housing.price Housing.lotsize Housing.bedrooms Housing.bathrms\n",
       "Housing.price    1.00          0.54            0.37             0.52           \n",
       "Housing.lotsize  0.54          1.00            0.15             0.19           \n",
       "Housing.bedrooms 0.37          0.15            1.00             0.37           \n",
       "Housing.bathrms  0.52          0.19            0.37             1.00           "
      ]
     },
     "metadata": {},
     "output_type": "display_data"
    }
   ],
   "source": [
    "res <- cor(h1)\n",
    "round(res,2)"
   ]
  },
  {
   "cell_type": "code",
   "execution_count": 12,
   "metadata": {
    "vscode": {
     "languageId": "r"
    }
   },
   "outputs": [
    {
     "name": "stderr",
     "output_type": "stream",
     "text": [
      "Warning message:\n",
      "\"\u001b[1m\u001b[22mUse of `Housing$price` is discouraged.\n",
      "\u001b[36mℹ\u001b[39m Use `price` instead.\"\n"
     ]
    },
    {
     "data": {
      "image/png": "[encoded data removed]",
      "text/plain": [
       "plot without title"
      ]
     },
     "metadata": {
      "image/png": {
       "height": 420,
       "width": 420
      }
     },
     "output_type": "display_data"
    }
   ],
   "source": [
    "ggplot(data=Housing, aes(Housing$price)) + \n",
    "                 geom_histogram(breaks=seq(25000, 190000, by =10000), \n",
    "                 col=\"red\", \n",
    "                 fill=\"green\", \n",
    "                 alpha = .2) + \n",
    "  labs(title=\"Histogram for price\") +\n",
    "  labs(x=\"price\", y=\"Count\")"
   ]
  },
  {
   "cell_type": "code",
   "execution_count": 13,
   "metadata": {
    "vscode": {
     "languageId": "r"
    }
   },
   "outputs": [
    {
     "name": "stderr",
     "output_type": "stream",
     "text": [
      "Warning message:\n",
      "\"\u001b[1m\u001b[22mUse of `Housing$lotsize` is discouraged.\n",
      "\u001b[36mℹ\u001b[39m Use `lotsize` instead.\"\n"
     ]
    },
    {
     "data": {
      "image/png": "[encoded data removed]",
      "text/plain": [
       "plot without title"
      ]
     },
     "metadata": {
      "image/png": {
       "height": 420,
       "width": 420
      }
     },
     "output_type": "display_data"
    }
   ],
   "source": [
    "ggplot(data=Housing, aes(Housing$lotsize)) + \n",
    "geom_histogram(breaks=seq(0, 17000, by =1000), \n",
    "               col=\"red\", \n",
    "               fill=\"green\", \n",
    "               alpha = .2) + \n",
    "              labs(title=\"Histogram for lotsize\") +\n",
    "                labs(x=\"lotsize\", y=\"Count\")\n"
   ]
  },
  {
   "cell_type": "code",
   "execution_count": 14,
   "metadata": {
    "vscode": {
     "languageId": "r"
    }
   },
   "outputs": [
    {
     "data": {
      "text/plain": [
       " Housing.price    Housing.lotsize Housing.bedrooms Housing.bathrms\n",
       " Min.   : 25000   Min.   : 1650   Min.   :1.000    Min.   :1.000  \n",
       " 1st Qu.: 49125   1st Qu.: 3600   1st Qu.:2.000    1st Qu.:1.000  \n",
       " Median : 62000   Median : 4600   Median :3.000    Median :1.000  \n",
       " Mean   : 68122   Mean   : 5150   Mean   :2.965    Mean   :1.286  \n",
       " 3rd Qu.: 82000   3rd Qu.: 6360   3rd Qu.:3.000    3rd Qu.:2.000  \n",
       " Max.   :190000   Max.   :16200   Max.   :6.000    Max.   :4.000  "
      ]
     },
     "metadata": {},
     "output_type": "display_data"
    },
    {
     "data": {
      "image/png": "[encoded data removed]",
      "text/plain": [
       "plot without title"
      ]
     },
     "metadata": {
      "image/png": {
       "height": 420,
       "width": 420
      }
     },
     "output_type": "display_data"
    }
   ],
   "source": [
    "summary(h1)\n",
    "ggpairs(h1, \n",
    "        upper = list(continuous = wrap(\"cor\", size = 9))) "
   ]
  },
  {
   "cell_type": "code",
   "execution_count": 15,
   "metadata": {
    "vscode": {
     "languageId": "r"
    }
   },
   "outputs": [
    {
     "name": "stderr",
     "output_type": "stream",
     "text": [
      "\u001b[1m\u001b[22m`geom_smooth()` using formula = 'y ~ x'\n"
     ]
    },
    {
     "data": {
      "image/png": "[encoded data removed]",
      "text/plain": [
       "plot without title"
      ]
     },
     "metadata": {
      "image/png": {
       "height": 420,
       "width": 420
      }
     },
     "output_type": "display_data"
    }
   ],
   "source": [
    "ggplot(Housing, aes(x=lotsize, y=price)) + geom_point() +\n",
    "  scale_colour_hue(l=50) + # Use a slightly darker palette than normal\n",
    "  geom_smooth(method=lm,   # Add linear regression lines\n",
    "              se=FALSE,    # Don't add shaded confidence region\n",
    "              fullrange=TRUE) # Extend regression lines"
   ]
  },
  {
   "cell_type": "code",
   "execution_count": 16,
   "metadata": {
    "vscode": {
     "languageId": "r"
    }
   },
   "outputs": [
    {
     "data": {
      "text/plain": [
       "\n",
       "Call:\n",
       "lm(formula = price ~ lotsize, data = Housing)\n",
       "\n",
       "Residuals:\n",
       "   Min     1Q Median     3Q    Max \n",
       "-69551 -14626  -2858   9752 106901 \n",
       "\n",
       "Coefficients:\n",
       "             Estimate Std. Error t value Pr(>|t|)    \n",
       "(Intercept) 3.414e+04  2.491e+03    13.7   <2e-16 ***\n",
       "lotsize     6.599e+00  4.458e-01    14.8   <2e-16 ***\n",
       "---\n",
       "Signif. codes:  0 '***' 0.001 '**' 0.01 '*' 0.05 '.' 0.1 ' ' 1\n",
       "\n",
       "Residual standard error: 22570 on 544 degrees of freedom\n",
       "Multiple R-squared:  0.2871,\tAdjusted R-squared:  0.2858 \n",
       "F-statistic: 219.1 on 1 and 544 DF,  p-value: < 2.2e-16\n"
      ]
     },
     "metadata": {},
     "output_type": "display_data"
    },
    {
     "data": {
      "text/html": [
       "<table class=\"dataframe\">\n",
       "<caption>A anova: 2 × 5</caption>\n",
       "<thead>\n",
       "\t<tr><th></th><th scope=col>Df</th><th scope=col>Sum Sq</th><th scope=col>Mean Sq</th><th scope=col>F value</th><th scope=col>Pr(&gt;F)</th></tr>\n",
       "\t<tr><th></th><th scope=col>&lt;int&gt;</th><th scope=col>&lt;dbl&gt;</th><th scope=col>&lt;dbl&gt;</th><th scope=col>&lt;dbl&gt;</th><th scope=col>&lt;dbl&gt;</th></tr>\n",
       "</thead>\n",
       "<tbody>\n",
       "\t<tr><th scope=row>lotsize</th><td>  1</td><td>111558922960</td><td>111558922960</td><td>219.0558</td><td>6.7699e-42</td></tr>\n",
       "\t<tr><th scope=row>Residuals</th><td>544</td><td>277043862881</td><td>   509271807</td><td>      NA</td><td>        NA</td></tr>\n",
       "</tbody>\n",
       "</table>\n"
      ],
      "text/latex": [
       "A anova: 2 × 5\n",
       "\\begin{tabular}{r|lllll}\n",
       "  & Df & Sum Sq & Mean Sq & F value & Pr(>F)\\\\\n",
       "  & <int> & <dbl> & <dbl> & <dbl> & <dbl>\\\\\n",
       "\\hline\n",
       "\tlotsize &   1 & 111558922960 & 111558922960 & 219.0558 & 6.7699e-42\\\\\n",
       "\tResiduals & 544 & 277043862881 &    509271807 &       NA &         NA\\\\\n",
       "\\end{tabular}\n"
      ],
      "text/markdown": [
       "\n",
       "A anova: 2 × 5\n",
       "\n",
       "| <!--/--> | Df &lt;int&gt; | Sum Sq &lt;dbl&gt; | Mean Sq &lt;dbl&gt; | F value &lt;dbl&gt; | Pr(&gt;F) &lt;dbl&gt; |\n",
       "|---|---|---|---|---|---|\n",
       "| lotsize |   1 | 111558922960 | 111558922960 | 219.0558 | 6.7699e-42 |\n",
       "| Residuals | 544 | 277043862881 |    509271807 |       NA |         NA |\n",
       "\n"
      ],
      "text/plain": [
       "          Df  Sum Sq       Mean Sq      F value  Pr(>F)    \n",
       "lotsize     1 111558922960 111558922960 219.0558 6.7699e-42\n",
       "Residuals 544 277043862881    509271807       NA         NA"
      ]
     },
     "metadata": {},
     "output_type": "display_data"
    }
   ],
   "source": [
    "\n",
    "a.lm <- lm(formula = price ~ lotsize , data = Housing)\n",
    "\n",
    "\n",
    "summary(a.lm) # what does this command do?\n",
    "anova(a.lm)   # what does this command do?"
   ]
  },
  {
   "cell_type": "code",
   "execution_count": 17,
   "metadata": {
    "vscode": {
     "languageId": "r"
    }
   },
   "outputs": [
    {
     "data": {
      "text/html": [
       "<table class=\"dataframe\">\n",
       "<caption>A matrix: 1 × 3 of type dbl</caption>\n",
       "<thead>\n",
       "\t<tr><th></th><th scope=col>fit</th><th scope=col>lwr</th><th scope=col>upr</th></tr>\n",
       "</thead>\n",
       "<tbody>\n",
       "\t<tr><th scope=row>1</th><td>53932.49</td><td>9522.739</td><td>98342.25</td></tr>\n",
       "</tbody>\n",
       "</table>\n"
      ],
      "text/latex": [
       "A matrix: 1 × 3 of type dbl\n",
       "\\begin{tabular}{r|lll}\n",
       "  & fit & lwr & upr\\\\\n",
       "\\hline\n",
       "\t1 & 53932.49 & 9522.739 & 98342.25\\\\\n",
       "\\end{tabular}\n"
      ],
      "text/markdown": [
       "\n",
       "A matrix: 1 × 3 of type dbl\n",
       "\n",
       "| <!--/--> | fit | lwr | upr |\n",
       "|---|---|---|---|\n",
       "| 1 | 53932.49 | 9522.739 | 98342.25 |\n",
       "\n"
      ],
      "text/plain": [
       "  fit      lwr      upr     \n",
       "1 53932.49 9522.739 98342.25"
      ]
     },
     "metadata": {},
     "output_type": "display_data"
    },
    {
     "data": {
      "text/html": [
       "<table class=\"dataframe\">\n",
       "<caption>A matrix: 1 × 3 of type dbl</caption>\n",
       "<thead>\n",
       "\t<tr><th></th><th scope=col>fit</th><th scope=col>lwr</th><th scope=col>upr</th></tr>\n",
       "</thead>\n",
       "<tbody>\n",
       "\t<tr><th scope=row>1</th><td>68119.84</td><td>23750.03</td><td>112489.7</td></tr>\n",
       "</tbody>\n",
       "</table>\n"
      ],
      "text/latex": [
       "A matrix: 1 × 3 of type dbl\n",
       "\\begin{tabular}{r|lll}\n",
       "  & fit & lwr & upr\\\\\n",
       "\\hline\n",
       "\t1 & 68119.84 & 23750.03 & 112489.7\\\\\n",
       "\\end{tabular}\n"
      ],
      "text/markdown": [
       "\n",
       "A matrix: 1 × 3 of type dbl\n",
       "\n",
       "| <!--/--> | fit | lwr | upr |\n",
       "|---|---|---|---|\n",
       "| 1 | 68119.84 | 23750.03 | 112489.7 |\n",
       "\n"
      ],
      "text/plain": [
       "  fit      lwr      upr     \n",
       "1 68119.84 23750.03 112489.7"
      ]
     },
     "metadata": {},
     "output_type": "display_data"
    },
    {
     "data": {
      "text/html": [
       "<table class=\"dataframe\">\n",
       "<caption>A matrix: 1 × 3 of type dbl</caption>\n",
       "<thead>\n",
       "\t<tr><th></th><th scope=col>fit</th><th scope=col>lwr</th><th scope=col>upr</th></tr>\n",
       "</thead>\n",
       "<tbody>\n",
       "\t<tr><th scope=row>1</th><td>82307.19</td><td>37897.46</td><td>126716.9</td></tr>\n",
       "</tbody>\n",
       "</table>\n"
      ],
      "text/latex": [
       "A matrix: 1 × 3 of type dbl\n",
       "\\begin{tabular}{r|lll}\n",
       "  & fit & lwr & upr\\\\\n",
       "\\hline\n",
       "\t1 & 82307.19 & 37897.46 & 126716.9\\\\\n",
       "\\end{tabular}\n"
      ],
      "text/markdown": [
       "\n",
       "A matrix: 1 × 3 of type dbl\n",
       "\n",
       "| <!--/--> | fit | lwr | upr |\n",
       "|---|---|---|---|\n",
       "| 1 | 82307.19 | 37897.46 | 126716.9 |\n",
       "\n"
      ],
      "text/plain": [
       "  fit      lwr      upr     \n",
       "1 82307.19 37897.46 126716.9"
      ]
     },
     "metadata": {},
     "output_type": "display_data"
    }
   ],
   "source": [
    "new = data.frame(lotsize=3000)\n",
    "predict(a.lm, new, interval = \"predict\")\n",
    "\n",
    "\n",
    "# \n",
    "new2 = data.frame(lotsize=5150)\n",
    "predict(a.lm, new2, interval = \"predict\")\n",
    "\n",
    "\n",
    "new3 = data.frame(lotsize=7300)\n",
    "predict(a.lm, new3, interval = \"predict\")"
   ]
  },
  {
   "cell_type": "code",
   "execution_count": 18,
   "metadata": {
    "vscode": {
     "languageId": "r"
    }
   },
   "outputs": [
    {
     "name": "stderr",
     "output_type": "stream",
     "text": [
      "\u001b[1m\u001b[22m`geom_smooth()` using formula = 'y ~ x'\n"
     ]
    },
    {
     "data": {
      "image/png": "[encoded data removed]",
      "text/plain": [
       "plot without title"
      ]
     },
     "metadata": {
      "image/png": {
       "height": 420,
       "width": 420
      }
     },
     "output_type": "display_data"
    }
   ],
   "source": [
    "b.lm <- lm(formula = price ~ bedrooms, data = Housing)\n",
    "\n",
    "\n",
    "# Scatter Plot of price (y) against bedrooms (x), including the linear regression line\n",
    "\n",
    "\n",
    "ggplot(Housing, aes(x=bedrooms, y=price)) + geom_point() +\n",
    "  scale_colour_hue(l=50) + # Use a slightly darker palette than normal\n",
    "  geom_smooth(method=lm,   # Add linear regression lines\n",
    "              se=FALSE,    # Don't add shaded confidence region\n",
    "              fullrange=TRUE) # Extend regression lines"
   ]
  },
  {
   "cell_type": "code",
   "execution_count": 19,
   "metadata": {
    "vscode": {
     "languageId": "r"
    }
   },
   "outputs": [
    {
     "data": {
      "text/plain": [
       "\n",
       "Call:\n",
       "lm(formula = price ~ lotsize + bedrooms, data = Housing)\n",
       "\n",
       "Residuals:\n",
       "   Min     1Q Median     3Q    Max \n",
       "-65665 -12498  -2075   8970  97205 \n",
       "\n",
       "Coefficients:\n",
       "             Estimate Std. Error t value Pr(>|t|)    \n",
       "(Intercept) 5.613e+03  4.103e+03   1.368    0.172    \n",
       "lotsize     6.053e+00  4.243e-01  14.265  < 2e-16 ***\n",
       "bedrooms    1.057e+04  1.248e+03   8.470 2.31e-16 ***\n",
       "---\n",
       "Signif. codes:  0 '***' 0.001 '**' 0.01 '*' 0.05 '.' 0.1 ' ' 1\n",
       "\n",
       "Residual standard error: 21230 on 543 degrees of freedom\n",
       "Multiple R-squared:  0.3703,\tAdjusted R-squared:  0.3679 \n",
       "F-statistic: 159.6 on 2 and 543 DF,  p-value: < 2.2e-16\n"
      ]
     },
     "metadata": {},
     "output_type": "display_data"
    },
    {
     "data": {
      "text/html": [
       "<table class=\"dataframe\">\n",
       "<caption>A anova: 3 × 5</caption>\n",
       "<thead>\n",
       "\t<tr><th></th><th scope=col>Df</th><th scope=col>Sum Sq</th><th scope=col>Mean Sq</th><th scope=col>F value</th><th scope=col>Pr(&gt;F)</th></tr>\n",
       "\t<tr><th></th><th scope=col>&lt;int&gt;</th><th scope=col>&lt;dbl&gt;</th><th scope=col>&lt;dbl&gt;</th><th scope=col>&lt;dbl&gt;</th><th scope=col>&lt;dbl&gt;</th></tr>\n",
       "</thead>\n",
       "<tbody>\n",
       "\t<tr><th scope=row>lotsize</th><td>  1</td><td>111558922960</td><td>111558922960</td><td>247.53887</td><td>3.138680e-46</td></tr>\n",
       "\t<tr><th scope=row>bedrooms</th><td>  1</td><td> 32328775652</td><td> 32328775652</td><td> 71.73454</td><td>2.314456e-16</td></tr>\n",
       "\t<tr><th scope=row>Residuals</th><td>543</td><td>244715087229</td><td>   450672352</td><td>       NA</td><td>          NA</td></tr>\n",
       "</tbody>\n",
       "</table>\n"
      ],
      "text/latex": [
       "A anova: 3 × 5\n",
       "\\begin{tabular}{r|lllll}\n",
       "  & Df & Sum Sq & Mean Sq & F value & Pr(>F)\\\\\n",
       "  & <int> & <dbl> & <dbl> & <dbl> & <dbl>\\\\\n",
       "\\hline\n",
       "\tlotsize &   1 & 111558922960 & 111558922960 & 247.53887 & 3.138680e-46\\\\\n",
       "\tbedrooms &   1 &  32328775652 &  32328775652 &  71.73454 & 2.314456e-16\\\\\n",
       "\tResiduals & 543 & 244715087229 &    450672352 &        NA &           NA\\\\\n",
       "\\end{tabular}\n"
      ],
      "text/markdown": [
       "\n",
       "A anova: 3 × 5\n",
       "\n",
       "| <!--/--> | Df &lt;int&gt; | Sum Sq &lt;dbl&gt; | Mean Sq &lt;dbl&gt; | F value &lt;dbl&gt; | Pr(&gt;F) &lt;dbl&gt; |\n",
       "|---|---|---|---|---|---|\n",
       "| lotsize |   1 | 111558922960 | 111558922960 | 247.53887 | 3.138680e-46 |\n",
       "| bedrooms |   1 |  32328775652 |  32328775652 |  71.73454 | 2.314456e-16 |\n",
       "| Residuals | 543 | 244715087229 |    450672352 |        NA |           NA |\n",
       "\n"
      ],
      "text/plain": [
       "          Df  Sum Sq       Mean Sq      F value   Pr(>F)      \n",
       "lotsize     1 111558922960 111558922960 247.53887 3.138680e-46\n",
       "bedrooms    1  32328775652  32328775652  71.73454 2.314456e-16\n",
       "Residuals 543 244715087229    450672352        NA           NA"
      ]
     },
     "metadata": {},
     "output_type": "display_data"
    },
    {
     "data": {
      "text/html": [
       "<table class=\"dataframe\">\n",
       "<caption>A matrix: 1 × 3 of type dbl</caption>\n",
       "<thead>\n",
       "\t<tr><th></th><th scope=col>fit</th><th scope=col>lwr</th><th scope=col>upr</th></tr>\n",
       "</thead>\n",
       "<tbody>\n",
       "\t<tr><th scope=row>1</th><td>44906.37</td><td>3077.091</td><td>86735.65</td></tr>\n",
       "</tbody>\n",
       "</table>\n"
      ],
      "text/latex": [
       "A matrix: 1 × 3 of type dbl\n",
       "\\begin{tabular}{r|lll}\n",
       "  & fit & lwr & upr\\\\\n",
       "\\hline\n",
       "\t1 & 44906.37 & 3077.091 & 86735.65\\\\\n",
       "\\end{tabular}\n"
      ],
      "text/markdown": [
       "\n",
       "A matrix: 1 × 3 of type dbl\n",
       "\n",
       "| <!--/--> | fit | lwr | upr |\n",
       "|---|---|---|---|\n",
       "| 1 | 44906.37 | 3077.091 | 86735.65 |\n",
       "\n"
      ],
      "text/plain": [
       "  fit      lwr      upr     \n",
       "1 44906.37 3077.091 86735.65"
      ]
     },
     "metadata": {},
     "output_type": "display_data"
    }
   ],
   "source": [
    "# Multiple Regression - with two predictors lotsize and bedrooms\n",
    "\n",
    "\n",
    "ab.lm <- lm(formula = price ~ lotsize + bedrooms, data = Housing)\n",
    "\n",
    "\n",
    "summary(ab.lm) \n",
    "anova(ab.lm)   \n",
    "\n",
    "\n",
    "\n",
    "\n",
    "# making a prediction (interpolation). First create a dataframe with values for the predictors. Then use the predict function.\n",
    "\n",
    "\n",
    "newdata <- data.frame(lotsize=3000, bedrooms=2)\n",
    "\n",
    "\n",
    "predict(ab.lm, newdata, interval = \"predict\")"
   ]
  }
 ],
 "metadata": {
  "kernelspec": {
   "display_name": "R",
   "language": "R",
   "name": "ir"
  },
  "language_info": {
   "codemirror_mode": "r",
   "file_extension": ".r",
   "mimetype": "text/x-r-source",
   "name": "R",
   "pygments_lexer": "r",
   "version": "4.3.2"
  }
 },
 "nbformat": 4,
 "nbformat_minor": 2
}
