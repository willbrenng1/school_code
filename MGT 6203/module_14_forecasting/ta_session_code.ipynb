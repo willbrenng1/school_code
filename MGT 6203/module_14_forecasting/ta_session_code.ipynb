{
 "cells": [
  {
   "cell_type": "code",
   "execution_count": 2,
   "metadata": {
    "vscode": {
     "languageId": "r"
    }
   },
   "outputs": [],
   "source": [
    "meal_data = read.csv(\"meal_orders.csv\")"
   ]
  },
  {
   "cell_type": "code",
   "execution_count": 47,
   "metadata": {
    "vscode": {
     "languageId": "r"
    }
   },
   "outputs": [
    {
     "name": "stderr",
     "output_type": "stream",
     "text": [
      "Loading required package: TTR\n",
      "\n",
      "Warning message:\n",
      "\"package 'TTR' was built under R version 4.3.3\"\n"
     ]
    }
   ],
   "source": [
    "library(dplyr)\n",
    "library(tidyverse)\n",
    "library(fpp2) \n",
    "\n",
    "if (!require(dplyr)) install.packages(\"dplyr\")\n",
    "library(dplyr)\n",
    "if (!require(forecast)) install.packages(\"forecast\")\n",
    "library(forecast)\n",
    "if (!require(TTR)) install.packages(\"TTR\")\n",
    "library(TTR)\n",
    "if (!require(TTR)) install.packages(\"ggplot2\")\n",
    "library(ggplot2)\n",
    "if (!require(TTR)) install.packages(\"RColorBrewer\")\n",
    "library(RColorBrewer)"
   ]
  },
  {
   "cell_type": "code",
   "execution_count": 50,
   "metadata": {
    "vscode": {
     "languageId": "r"
    }
   },
   "outputs": [],
   "source": [
    "plot_forecast <- function(model, graph_title){\n",
    "  autoplot(model, PI = FALSE) +\n",
    "  geom_line(aes(x = time(model$fitted), y=model$fitted, color = \"Forecast\")) +\n",
    "  geom_line(aes(x = time(model$x), y=model$x, color = \"Actual Demand\")) +\n",
    "  labs(title = graph_title,\n",
    "       x = \"Week Number\",\n",
    "       y = \"Meal Count\",\n",
    "       fill = \"Confidence Interval\",\n",
    "       color = \"Lines\") +\n",
    "  geom_ribbon(aes(x = time(model$upper[, \"95%\"]), \n",
    "                  ymin = model$lower[, \"95%\"], \n",
    "                  ymax = model$upper[, \"95%\"], \n",
    "                  fill = \"95%\"), alpha = 0.2) +\n",
    "  geom_ribbon(aes(x = time(model$upper[, \"80%\"]), \n",
    "                  ymin = model$lower[, \"80%\"], \n",
    "                  ymax = model$upper[, \"80%\"], \n",
    "                  fill = \"80%\"), alpha = 0.4) +\n",
    "  scale_color_brewer(palette = \"Dark2\", name = \"Lines\") +\n",
    "  scale_fill_brewer(palette = \"Dark2\", name = \"Confidence Interval\") \n",
    "}"
   ]
  },
  {
   "cell_type": "code",
   "execution_count": 3,
   "metadata": {
    "vscode": {
     "languageId": "r"
    }
   },
   "outputs": [
    {
     "data": {
      "text/html": [
       "<table class=\"dataframe\">\n",
       "<caption>A data.frame: 6 × 15</caption>\n",
       "<thead>\n",
       "\t<tr><th></th><th scope=col>id</th><th scope=col>week</th><th scope=col>center_id</th><th scope=col>checkout_price</th><th scope=col>base_price</th><th scope=col>emailer_for_promotion</th><th scope=col>homepage_featured</th><th scope=col>num_orders</th><th scope=col>meal_id</th><th scope=col>category</th><th scope=col>cuisine</th><th scope=col>city_code</th><th scope=col>region_code</th><th scope=col>center_type</th><th scope=col>op_area</th></tr>\n",
       "\t<tr><th></th><th scope=col>&lt;int&gt;</th><th scope=col>&lt;int&gt;</th><th scope=col>&lt;int&gt;</th><th scope=col>&lt;dbl&gt;</th><th scope=col>&lt;dbl&gt;</th><th scope=col>&lt;int&gt;</th><th scope=col>&lt;int&gt;</th><th scope=col>&lt;int&gt;</th><th scope=col>&lt;int&gt;</th><th scope=col>&lt;chr&gt;</th><th scope=col>&lt;chr&gt;</th><th scope=col>&lt;int&gt;</th><th scope=col>&lt;int&gt;</th><th scope=col>&lt;chr&gt;</th><th scope=col>&lt;dbl&gt;</th></tr>\n",
       "</thead>\n",
       "<tbody>\n",
       "\t<tr><th scope=row>1</th><td>1033240</td><td>109</td><td>10</td><td>583.00</td><td>584.00</td><td>0</td><td>0</td><td>485</td><td>2956</td><td>Fish   </td><td>Continental</td><td>590</td><td>56</td><td>TYPE_B</td><td>6.3</td></tr>\n",
       "\t<tr><th scope=row>2</th><td>1264380</td><td>108</td><td>10</td><td>670.33</td><td>670.33</td><td>0</td><td>0</td><td> 94</td><td>2867</td><td>Seafood</td><td>Continental</td><td>590</td><td>56</td><td>TYPE_B</td><td>6.3</td></tr>\n",
       "\t<tr><th scope=row>3</th><td>1133093</td><td>115</td><td>10</td><td>687.73</td><td>689.73</td><td>0</td><td>0</td><td>161</td><td>2867</td><td>Seafood</td><td>Continental</td><td>590</td><td>56</td><td>TYPE_B</td><td>6.3</td></tr>\n",
       "\t<tr><th scope=row>4</th><td>1329545</td><td> 63</td><td>10</td><td>618.89</td><td>617.89</td><td>0</td><td>0</td><td> 80</td><td>2867</td><td>Seafood</td><td>Continental</td><td>590</td><td>56</td><td>TYPE_B</td><td>6.3</td></tr>\n",
       "\t<tr><th scope=row>5</th><td>1249888</td><td>131</td><td>10</td><td>727.53</td><td>727.53</td><td>0</td><td>0</td><td> 82</td><td>2867</td><td>Seafood</td><td>Continental</td><td>590</td><td>56</td><td>TYPE_B</td><td>6.3</td></tr>\n",
       "\t<tr><th scope=row>6</th><td>1177302</td><td> 65</td><td>10</td><td>485.03</td><td>609.19</td><td>1</td><td>1</td><td>460</td><td>2867</td><td>Seafood</td><td>Continental</td><td>590</td><td>56</td><td>TYPE_B</td><td>6.3</td></tr>\n",
       "</tbody>\n",
       "</table>\n"
      ],
      "text/latex": [
       "A data.frame: 6 × 15\n",
       "\\begin{tabular}{r|lllllllllllllll}\n",
       "  & id & week & center\\_id & checkout\\_price & base\\_price & emailer\\_for\\_promotion & homepage\\_featured & num\\_orders & meal\\_id & category & cuisine & city\\_code & region\\_code & center\\_type & op\\_area\\\\\n",
       "  & <int> & <int> & <int> & <dbl> & <dbl> & <int> & <int> & <int> & <int> & <chr> & <chr> & <int> & <int> & <chr> & <dbl>\\\\\n",
       "\\hline\n",
       "\t1 & 1033240 & 109 & 10 & 583.00 & 584.00 & 0 & 0 & 485 & 2956 & Fish    & Continental & 590 & 56 & TYPE\\_B & 6.3\\\\\n",
       "\t2 & 1264380 & 108 & 10 & 670.33 & 670.33 & 0 & 0 &  94 & 2867 & Seafood & Continental & 590 & 56 & TYPE\\_B & 6.3\\\\\n",
       "\t3 & 1133093 & 115 & 10 & 687.73 & 689.73 & 0 & 0 & 161 & 2867 & Seafood & Continental & 590 & 56 & TYPE\\_B & 6.3\\\\\n",
       "\t4 & 1329545 &  63 & 10 & 618.89 & 617.89 & 0 & 0 &  80 & 2867 & Seafood & Continental & 590 & 56 & TYPE\\_B & 6.3\\\\\n",
       "\t5 & 1249888 & 131 & 10 & 727.53 & 727.53 & 0 & 0 &  82 & 2867 & Seafood & Continental & 590 & 56 & TYPE\\_B & 6.3\\\\\n",
       "\t6 & 1177302 &  65 & 10 & 485.03 & 609.19 & 1 & 1 & 460 & 2867 & Seafood & Continental & 590 & 56 & TYPE\\_B & 6.3\\\\\n",
       "\\end{tabular}\n"
      ],
      "text/markdown": [
       "\n",
       "A data.frame: 6 × 15\n",
       "\n",
       "| <!--/--> | id &lt;int&gt; | week &lt;int&gt; | center_id &lt;int&gt; | checkout_price &lt;dbl&gt; | base_price &lt;dbl&gt; | emailer_for_promotion &lt;int&gt; | homepage_featured &lt;int&gt; | num_orders &lt;int&gt; | meal_id &lt;int&gt; | category &lt;chr&gt; | cuisine &lt;chr&gt; | city_code &lt;int&gt; | region_code &lt;int&gt; | center_type &lt;chr&gt; | op_area &lt;dbl&gt; |\n",
       "|---|---|---|---|---|---|---|---|---|---|---|---|---|---|---|---|\n",
       "| 1 | 1033240 | 109 | 10 | 583.00 | 584.00 | 0 | 0 | 485 | 2956 | Fish    | Continental | 590 | 56 | TYPE_B | 6.3 |\n",
       "| 2 | 1264380 | 108 | 10 | 670.33 | 670.33 | 0 | 0 |  94 | 2867 | Seafood | Continental | 590 | 56 | TYPE_B | 6.3 |\n",
       "| 3 | 1133093 | 115 | 10 | 687.73 | 689.73 | 0 | 0 | 161 | 2867 | Seafood | Continental | 590 | 56 | TYPE_B | 6.3 |\n",
       "| 4 | 1329545 |  63 | 10 | 618.89 | 617.89 | 0 | 0 |  80 | 2867 | Seafood | Continental | 590 | 56 | TYPE_B | 6.3 |\n",
       "| 5 | 1249888 | 131 | 10 | 727.53 | 727.53 | 0 | 0 |  82 | 2867 | Seafood | Continental | 590 | 56 | TYPE_B | 6.3 |\n",
       "| 6 | 1177302 |  65 | 10 | 485.03 | 609.19 | 1 | 1 | 460 | 2867 | Seafood | Continental | 590 | 56 | TYPE_B | 6.3 |\n",
       "\n"
      ],
      "text/plain": [
       "  id      week center_id checkout_price base_price emailer_for_promotion\n",
       "1 1033240 109  10        583.00         584.00     0                    \n",
       "2 1264380 108  10        670.33         670.33     0                    \n",
       "3 1133093 115  10        687.73         689.73     0                    \n",
       "4 1329545  63  10        618.89         617.89     0                    \n",
       "5 1249888 131  10        727.53         727.53     0                    \n",
       "6 1177302  65  10        485.03         609.19     1                    \n",
       "  homepage_featured num_orders meal_id category cuisine     city_code\n",
       "1 0                 485        2956    Fish     Continental 590      \n",
       "2 0                  94        2867    Seafood  Continental 590      \n",
       "3 0                 161        2867    Seafood  Continental 590      \n",
       "4 0                  80        2867    Seafood  Continental 590      \n",
       "5 0                  82        2867    Seafood  Continental 590      \n",
       "6 1                 460        2867    Seafood  Continental 590      \n",
       "  region_code center_type op_area\n",
       "1 56          TYPE_B      6.3    \n",
       "2 56          TYPE_B      6.3    \n",
       "3 56          TYPE_B      6.3    \n",
       "4 56          TYPE_B      6.3    \n",
       "5 56          TYPE_B      6.3    \n",
       "6 56          TYPE_B      6.3    "
      ]
     },
     "metadata": {},
     "output_type": "display_data"
    }
   ],
   "source": [
    "head(meal_data)"
   ]
  },
  {
   "cell_type": "code",
   "execution_count": 5,
   "metadata": {
    "vscode": {
     "languageId": "r"
    }
   },
   "outputs": [
    {
     "data": {
      "text/html": [
       "51"
      ],
      "text/latex": [
       "51"
      ],
      "text/markdown": [
       "51"
      ],
      "text/plain": [
       "[1] 51"
      ]
     },
     "metadata": {},
     "output_type": "display_data"
    },
    {
     "data": {
      "text/html": [
       "77"
      ],
      "text/latex": [
       "77"
      ],
      "text/markdown": [
       "77"
      ],
      "text/plain": [
       "[1] 77"
      ]
     },
     "metadata": {},
     "output_type": "display_data"
    }
   ],
   "source": [
    "length(unique(meal_data$meal_id))\n",
    "length(unique(meal_data$center_id))"
   ]
  },
  {
   "cell_type": "code",
   "execution_count": 13,
   "metadata": {
    "vscode": {
     "languageId": "r"
    }
   },
   "outputs": [
    {
     "data": {
      "text/html": [
       "<style>\n",
       ".list-inline {list-style: none; margin:0; padding: 0}\n",
       ".list-inline>li {display: inline-block}\n",
       ".list-inline>li:not(:last-child)::after {content: \"\\00b7\"; padding: 0 .5ex}\n",
       "</style>\n",
       "<ol class=list-inline><li>10</li><li>11</li><li>13</li><li>14</li><li>17</li><li>20</li><li>23</li><li>24</li><li>26</li><li>27</li><li>29</li><li>30</li><li>32</li><li>34</li><li>36</li><li>39</li><li>41</li><li>42</li><li>43</li><li>50</li><li>51</li><li>52</li><li>53</li><li>55</li><li>57</li><li>58</li><li>59</li><li>61</li><li>64</li><li>65</li><li>66</li><li>67</li><li>68</li><li>72</li><li>73</li><li>74</li><li>75</li><li>76</li><li>77</li><li>80</li><li>81</li><li>83</li><li>86</li><li>88</li><li>89</li><li>91</li><li>92</li><li>93</li><li>94</li><li>97</li><li>99</li><li>101</li><li>102</li><li>104</li><li>106</li><li>108</li><li>109</li><li>110</li><li>113</li><li>124</li><li>126</li><li>129</li><li>132</li><li>137</li><li>139</li><li>143</li><li>145</li><li>146</li><li>149</li><li>152</li><li>153</li><li>157</li><li>161</li><li>162</li><li>174</li><li>177</li><li>186</li></ol>\n"
      ],
      "text/latex": [
       "\\begin{enumerate*}\n",
       "\\item 10\n",
       "\\item 11\n",
       "\\item 13\n",
       "\\item 14\n",
       "\\item 17\n",
       "\\item 20\n",
       "\\item 23\n",
       "\\item 24\n",
       "\\item 26\n",
       "\\item 27\n",
       "\\item 29\n",
       "\\item 30\n",
       "\\item 32\n",
       "\\item 34\n",
       "\\item 36\n",
       "\\item 39\n",
       "\\item 41\n",
       "\\item 42\n",
       "\\item 43\n",
       "\\item 50\n",
       "\\item 51\n",
       "\\item 52\n",
       "\\item 53\n",
       "\\item 55\n",
       "\\item 57\n",
       "\\item 58\n",
       "\\item 59\n",
       "\\item 61\n",
       "\\item 64\n",
       "\\item 65\n",
       "\\item 66\n",
       "\\item 67\n",
       "\\item 68\n",
       "\\item 72\n",
       "\\item 73\n",
       "\\item 74\n",
       "\\item 75\n",
       "\\item 76\n",
       "\\item 77\n",
       "\\item 80\n",
       "\\item 81\n",
       "\\item 83\n",
       "\\item 86\n",
       "\\item 88\n",
       "\\item 89\n",
       "\\item 91\n",
       "\\item 92\n",
       "\\item 93\n",
       "\\item 94\n",
       "\\item 97\n",
       "\\item 99\n",
       "\\item 101\n",
       "\\item 102\n",
       "\\item 104\n",
       "\\item 106\n",
       "\\item 108\n",
       "\\item 109\n",
       "\\item 110\n",
       "\\item 113\n",
       "\\item 124\n",
       "\\item 126\n",
       "\\item 129\n",
       "\\item 132\n",
       "\\item 137\n",
       "\\item 139\n",
       "\\item 143\n",
       "\\item 145\n",
       "\\item 146\n",
       "\\item 149\n",
       "\\item 152\n",
       "\\item 153\n",
       "\\item 157\n",
       "\\item 161\n",
       "\\item 162\n",
       "\\item 174\n",
       "\\item 177\n",
       "\\item 186\n",
       "\\end{enumerate*}\n"
      ],
      "text/markdown": [
       "1. 10\n",
       "2. 11\n",
       "3. 13\n",
       "4. 14\n",
       "5. 17\n",
       "6. 20\n",
       "7. 23\n",
       "8. 24\n",
       "9. 26\n",
       "10. 27\n",
       "11. 29\n",
       "12. 30\n",
       "13. 32\n",
       "14. 34\n",
       "15. 36\n",
       "16. 39\n",
       "17. 41\n",
       "18. 42\n",
       "19. 43\n",
       "20. 50\n",
       "21. 51\n",
       "22. 52\n",
       "23. 53\n",
       "24. 55\n",
       "25. 57\n",
       "26. 58\n",
       "27. 59\n",
       "28. 61\n",
       "29. 64\n",
       "30. 65\n",
       "31. 66\n",
       "32. 67\n",
       "33. 68\n",
       "34. 72\n",
       "35. 73\n",
       "36. 74\n",
       "37. 75\n",
       "38. 76\n",
       "39. 77\n",
       "40. 80\n",
       "41. 81\n",
       "42. 83\n",
       "43. 86\n",
       "44. 88\n",
       "45. 89\n",
       "46. 91\n",
       "47. 92\n",
       "48. 93\n",
       "49. 94\n",
       "50. 97\n",
       "51. 99\n",
       "52. 101\n",
       "53. 102\n",
       "54. 104\n",
       "55. 106\n",
       "56. 108\n",
       "57. 109\n",
       "58. 110\n",
       "59. 113\n",
       "60. 124\n",
       "61. 126\n",
       "62. 129\n",
       "63. 132\n",
       "64. 137\n",
       "65. 139\n",
       "66. 143\n",
       "67. 145\n",
       "68. 146\n",
       "69. 149\n",
       "70. 152\n",
       "71. 153\n",
       "72. 157\n",
       "73. 161\n",
       "74. 162\n",
       "75. 174\n",
       "76. 177\n",
       "77. 186\n",
       "\n",
       "\n"
      ],
      "text/plain": [
       " [1]  10  11  13  14  17  20  23  24  26  27  29  30  32  34  36  39  41  42  43\n",
       "[20]  50  51  52  53  55  57  58  59  61  64  65  66  67  68  72  73  74  75  76\n",
       "[39]  77  80  81  83  86  88  89  91  92  93  94  97  99 101 102 104 106 108 109\n",
       "[58] 110 113 124 126 129 132 137 139 143 145 146 149 152 153 157 161 162 174 177\n",
       "[77] 186"
      ]
     },
     "metadata": {},
     "output_type": "display_data"
    }
   ],
   "source": [
    "unique(meal_data$center_id)"
   ]
  },
  {
   "cell_type": "code",
   "execution_count": 25,
   "metadata": {
    "vscode": {
     "languageId": "r"
    }
   },
   "outputs": [
    {
     "data": {
      "text/html": [
       "145"
      ],
      "text/latex": [
       "145"
      ],
      "text/markdown": [
       "145"
      ],
      "text/plain": [
       "[1] 145"
      ]
     },
     "metadata": {},
     "output_type": "display_data"
    }
   ],
   "source": [
    "df_2 = filter(meal_data,meal_data$meal_id==2290 & meal_data$center_id==13)\n",
    "nrow(df_2)"
   ]
  },
  {
   "cell_type": "code",
   "execution_count": 27,
   "metadata": {
    "vscode": {
     "languageId": "r"
    }
   },
   "outputs": [
    {
     "data": {
      "image/png": "[encoded data removed]",
      "text/plain": [
       "plot without title"
      ]
     },
     "metadata": {
      "image/png": {
       "height": 420,
       "width": 420
      }
     },
     "output_type": "display_data"
    }
   ],
   "source": [
    "plot(df_2$week,df_2$num_orders, type='l')"
   ]
  },
  {
   "cell_type": "code",
   "execution_count": 28,
   "metadata": {
    "vscode": {
     "languageId": "r"
    }
   },
   "outputs": [
    {
     "data": {
      "image/png": "[encoded data removed]",
      "text/plain": [
       "plot without title"
      ]
     },
     "metadata": {
      "image/png": {
       "height": 420,
       "width": 420
      }
     },
     "output_type": "display_data"
    }
   ],
   "source": [
    "df_ts = ts(df_2$num_orders)\n",
    "plot.ts(df_ts)"
   ]
  },
  {
   "cell_type": "code",
   "execution_count": 33,
   "metadata": {
    "vscode": {
     "languageId": "r"
    }
   },
   "outputs": [],
   "source": [
    "train = filter(df_2,df_2$week<=130)%>%arrange(week)\n",
    "test = filter(df_2,df_2$week>130)%>%arrange(week)"
   ]
  },
  {
   "cell_type": "markdown",
   "metadata": {},
   "source": [
    "Simple Exp. Smoothing\n"
   ]
  },
  {
   "cell_type": "code",
   "execution_count": 37,
   "metadata": {
    "vscode": {
     "languageId": "r"
    }
   },
   "outputs": [
    {
     "data": {
      "text/plain": [
       "Simple exponential smoothing \n",
       "\n",
       "Call:\n",
       "ses(y = train$num_orders, h = 15, initial = \"simple\")\n",
       "\n",
       "  Smoothing parameters:\n",
       "    alpha = 0.1761 \n",
       "\n",
       "  Initial states:\n",
       "    l = 1688 \n",
       "\n",
       "  sigma:  1369.085"
      ]
     },
     "metadata": {},
     "output_type": "display_data"
    },
    {
     "data": {
      "text/html": [
       "<table class=\"dataframe\">\n",
       "<caption>A matrix: 2 × 7 of type dbl</caption>\n",
       "<thead>\n",
       "\t<tr><th></th><th scope=col>ME</th><th scope=col>RMSE</th><th scope=col>MAE</th><th scope=col>MPE</th><th scope=col>MAPE</th><th scope=col>MASE</th><th scope=col>ACF1</th></tr>\n",
       "</thead>\n",
       "<tbody>\n",
       "\t<tr><th scope=row>Training set</th><td> 27.52244</td><td>1369.085</td><td>775.0868</td><td>-16.609717</td><td>34.28322</td><td>1.0228244</td><td>0.23592</td></tr>\n",
       "\t<tr><th scope=row>Test set</th><td>159.62127</td><td>1489.884</td><td>649.5485</td><td> -7.817155</td><td>19.79442</td><td>0.8571608</td><td>     NA</td></tr>\n",
       "</tbody>\n",
       "</table>\n"
      ],
      "text/latex": [
       "A matrix: 2 × 7 of type dbl\n",
       "\\begin{tabular}{r|lllllll}\n",
       "  & ME & RMSE & MAE & MPE & MAPE & MASE & ACF1\\\\\n",
       "\\hline\n",
       "\tTraining set &  27.52244 & 1369.085 & 775.0868 & -16.609717 & 34.28322 & 1.0228244 & 0.23592\\\\\n",
       "\tTest set & 159.62127 & 1489.884 & 649.5485 &  -7.817155 & 19.79442 & 0.8571608 &      NA\\\\\n",
       "\\end{tabular}\n"
      ],
      "text/markdown": [
       "\n",
       "A matrix: 2 × 7 of type dbl\n",
       "\n",
       "| <!--/--> | ME | RMSE | MAE | MPE | MAPE | MASE | ACF1 |\n",
       "|---|---|---|---|---|---|---|---|\n",
       "| Training set |  27.52244 | 1369.085 | 775.0868 | -16.609717 | 34.28322 | 1.0228244 | 0.23592 |\n",
       "| Test set | 159.62127 | 1489.884 | 649.5485 |  -7.817155 | 19.79442 | 0.8571608 |      NA |\n",
       "\n"
      ],
      "text/plain": [
       "             ME        RMSE     MAE      MPE        MAPE     MASE      ACF1   \n",
       "Training set  27.52244 1369.085 775.0868 -16.609717 34.28322 1.0228244 0.23592\n",
       "Test set     159.62127 1489.884 649.5485  -7.817155 19.79442 0.8571608      NA"
      ]
     },
     "metadata": {},
     "output_type": "display_data"
    },
    {
     "data": {
      "image/png": "[encoded data removed]",
      "text/plain": [
       "plot without title"
      ]
     },
     "metadata": {
      "image/png": {
       "height": 420,
       "width": 420
      }
     },
     "output_type": "display_data"
    }
   ],
   "source": [
    "meal_ses = ses(train$num_orders, h = 15,initial = \"simple\")\n",
    "meal_ses$model\n",
    "\n",
    "autoplot(meal_ses)\n",
    "\n",
    "accuracy(meal_ses,test$num_orders)"
   ]
  },
  {
   "cell_type": "markdown",
   "metadata": {},
   "source": [
    "Holt Winters - Ex Smoothing with trend"
   ]
  },
  {
   "cell_type": "code",
   "execution_count": 36,
   "metadata": {
    "vscode": {
     "languageId": "r"
    }
   },
   "outputs": [
    {
     "data": {
      "text/plain": [
       "Holt's method \n",
       "\n",
       "Call:\n",
       "holt(y = train$num_orders, h = 15)\n",
       "\n",
       "  Smoothing parameters:\n",
       "    alpha = 0.1411 \n",
       "    beta  = 1e-04 \n",
       "\n",
       "  Initial states:\n",
       "    l = 3376.7538 \n",
       "    b = -6.4457 \n",
       "\n",
       "  sigma:  1378.741\n",
       "\n",
       "     AIC     AICc      BIC \n",
       "2518.237 2518.721 2532.575 "
      ]
     },
     "metadata": {},
     "output_type": "display_data"
    },
    {
     "data": {
      "text/html": [
       "<table class=\"dataframe\">\n",
       "<caption>A matrix: 2 × 7 of type dbl</caption>\n",
       "<thead>\n",
       "\t<tr><th></th><th scope=col>ME</th><th scope=col>RMSE</th><th scope=col>MAE</th><th scope=col>MPE</th><th scope=col>MAPE</th><th scope=col>MASE</th><th scope=col>ACF1</th></tr>\n",
       "</thead>\n",
       "<tbody>\n",
       "\t<tr><th scope=row>Training set</th><td>-10.2863</td><td>1357.364</td><td>817.6050</td><td>-19.046993</td><td>37.46514</td><td>1.0789325</td><td>0.2407986</td></tr>\n",
       "\t<tr><th scope=row>Test set</th><td>247.5418</td><td>1495.404</td><td>630.2719</td><td> -3.662076</td><td>18.26638</td><td>0.8317229</td><td>       NA</td></tr>\n",
       "</tbody>\n",
       "</table>\n"
      ],
      "text/latex": [
       "A matrix: 2 × 7 of type dbl\n",
       "\\begin{tabular}{r|lllllll}\n",
       "  & ME & RMSE & MAE & MPE & MAPE & MASE & ACF1\\\\\n",
       "\\hline\n",
       "\tTraining set & -10.2863 & 1357.364 & 817.6050 & -19.046993 & 37.46514 & 1.0789325 & 0.2407986\\\\\n",
       "\tTest set & 247.5418 & 1495.404 & 630.2719 &  -3.662076 & 18.26638 & 0.8317229 &        NA\\\\\n",
       "\\end{tabular}\n"
      ],
      "text/markdown": [
       "\n",
       "A matrix: 2 × 7 of type dbl\n",
       "\n",
       "| <!--/--> | ME | RMSE | MAE | MPE | MAPE | MASE | ACF1 |\n",
       "|---|---|---|---|---|---|---|---|\n",
       "| Training set | -10.2863 | 1357.364 | 817.6050 | -19.046993 | 37.46514 | 1.0789325 | 0.2407986 |\n",
       "| Test set | 247.5418 | 1495.404 | 630.2719 |  -3.662076 | 18.26638 | 0.8317229 |        NA |\n",
       "\n"
      ],
      "text/plain": [
       "             ME       RMSE     MAE      MPE        MAPE     MASE      ACF1     \n",
       "Training set -10.2863 1357.364 817.6050 -19.046993 37.46514 1.0789325 0.2407986\n",
       "Test set     247.5418 1495.404 630.2719  -3.662076 18.26638 0.8317229        NA"
      ]
     },
     "metadata": {},
     "output_type": "display_data"
    },
    {
     "data": {
      "image/png": "[encoded data removed]",
      "text/plain": [
       "plot without title"
      ]
     },
     "metadata": {
      "image/png": {
       "height": 420,
       "width": 420
      }
     },
     "output_type": "display_data"
    }
   ],
   "source": [
    "meal_holt = holt(train$num_orders,h=15)\n",
    "meal_holt$model\n",
    "\n",
    "autoplot(meal_holt)\n",
    "\n",
    "accuracy(meal_holt,test$num_orders)"
   ]
  },
  {
   "cell_type": "markdown",
   "metadata": {},
   "source": [
    "## ETS - error, trend, smoothing\n",
    "\n",
    "In the `ses()` function `h=` the number of periods after the last known demand we want to forecast.\n",
    "\n",
    "Check Residuals Output:\n",
    "\n",
    "-   Auto-Correlation Function (ACF): Checks if there is correlation between the residuals at time n and time n+1.\n",
    "    If there is no correlation, then the model is a good fit for the data.\n",
    "\n",
    "-   Residuals histogram: Discloses the distribution of the residuals.\n",
    "\n",
    "-   Line chart: Discloses the standardized residuals between the model and the data."
   ]
  },
  {
   "cell_type": "code",
   "execution_count": 43,
   "metadata": {
    "vscode": {
     "languageId": "r"
    }
   },
   "outputs": [
    {
     "data": {
      "text/plain": [
       "ETS(A,N,N) \n",
       "\n",
       "Call:\n",
       "ets(y = df_2$num_orders)\n",
       "\n",
       "  Smoothing parameters:\n",
       "    alpha = 1e-04 \n",
       "\n",
       "  Initial states:\n",
       "    l = 2204.8219 \n",
       "\n",
       "  sigma:  1392.039\n",
       "\n",
       "     AIC     AICc      BIC \n",
       "2824.785 2824.955 2833.715 \n",
       "\n",
       "Training set error measures:\n",
       "                     ME     RMSE      MAE       MPE     MAPE      MASE\n",
       "Training set -0.3244373 1382.405 812.7893 -20.98107 36.51008 0.7148019\n",
       "                    ACF1\n",
       "Training set -0.04874648"
      ]
     },
     "metadata": {},
     "output_type": "display_data"
    },
    {
     "data": {
      "image/png": "[encoded data removed]",
      "text/plain": [
       "plot without title"
      ]
     },
     "metadata": {
      "image/png": {
       "height": 420,
       "width": 420
      }
     },
     "output_type": "display_data"
    }
   ],
   "source": [
    "# Create Model\n",
    "meal_ets = ets(df_2$num_orders)\n",
    "\n",
    "\n",
    "# Forecasts out 10 weeks by default (h=10)\n",
    "autoplot(forecast(meal_ets))+\n",
    "  labs(title = \"ETS(M,N,N) Forecast - 10 Weeks\",\n",
    "       x = \"Week Number\",\n",
    "       y = \"Meal Count\",\n",
    "       color = \"Lines\") +\n",
    "  geom_line(aes(x = time(meal_ets$fitted), y=meal_ets$fitted, color = \"Forecast\")) +\n",
    "  geom_line(aes(x = time(meal_ets$x), y=meal_ets$x, color = \"Actual Demand\")) +\n",
    "  scale_color_brewer(palette = \"Dark2\", name = \"Lines\")\n",
    "  \n",
    "summary(meal_ets)\n",
    "\n",
    "test_2 = filter(test, test$meal_id == 2290 & test$center_id == 13)"
   ]
  },
  {
   "cell_type": "code",
   "execution_count": 44,
   "metadata": {
    "vscode": {
     "languageId": "r"
    }
   },
   "outputs": [
    {
     "name": "stdout",
     "output_type": "stream",
     "text": [
      "\n",
      "\tLjung-Box test\n",
      "\n",
      "data:  Residuals from ETS(A,N,N)\n",
      "Q* = 4.8165, df = 10, p-value = 0.9031\n",
      "\n",
      "Model df: 0.   Total lags used: 10\n",
      "\n"
     ]
    },
    {
     "data": {
      "text/plain": [
       "\n",
       "\tLjung-Box test\n",
       "\n",
       "data:  Residuals from ETS(A,N,N)\n",
       "Q* = 4.8165, df = 10, p-value = 0.9031\n"
      ]
     },
     "metadata": {},
     "output_type": "display_data"
    },
    {
     "data": {
      "text/plain": [
       "    Point Forecast    Lo 80    Hi 80     Lo 95    Hi 95\n",
       "146       2204.817 420.8480 3988.787 -523.5283 4933.163\n",
       "147       2204.817 420.8479 3988.787 -523.5283 4933.163\n",
       "148       2204.817 420.8479 3988.787 -523.5284 4933.163\n",
       "149       2204.817 420.8479 3988.787 -523.5284 4933.163\n",
       "150       2204.817 420.8479 3988.787 -523.5284 4933.163\n",
       "151       2204.817 420.8479 3988.787 -523.5284 4933.163\n",
       "152       2204.817 420.8479 3988.787 -523.5284 4933.163\n",
       "153       2204.817 420.8479 3988.787 -523.5284 4933.163\n",
       "154       2204.817 420.8479 3988.787 -523.5284 4933.163\n",
       "155       2204.817 420.8479 3988.787 -523.5285 4933.163\n",
       "156       2204.817 420.8479 3988.787 -523.5285 4933.163\n",
       "157       2204.817 420.8479 3988.787 -523.5285 4933.163\n",
       "158       2204.817 420.8478 3988.787 -523.5285 4933.163\n",
       "159       2204.817 420.8478 3988.787 -523.5285 4933.163\n",
       "160       2204.817 420.8478 3988.787 -523.5285 4933.163"
      ]
     },
     "metadata": {},
     "output_type": "display_data"
    },
    {
     "data": {
      "image/png": "[encoded data removed]",
      "text/plain": [
       "plot without title"
      ]
     },
     "metadata": {
      "image/png": {
       "height": 420,
       "width": 420
      }
     },
     "output_type": "display_data"
    }
   ],
   "source": [
    "# Forecast out 15 weeks (h=15)\n",
    "\n",
    "meal_ets_resid <- checkresiduals(meal_ets,\n",
    "                  ylab = \"Standardized Residuals\")\n",
    "meal_ets_resid\n",
    "\n",
    "meal_ets_fore <- forecast(meal_ets, h=15)\n",
    "meal_ets_fore "
   ]
  },
  {
   "cell_type": "code",
   "execution_count": 45,
   "metadata": {
    "vscode": {
     "languageId": "r"
    }
   },
   "outputs": [
    {
     "data": {
      "text/html": [
       "<table class=\"dataframe\">\n",
       "<caption>A matrix: 2 × 7 of type dbl</caption>\n",
       "<thead>\n",
       "\t<tr><th></th><th scope=col>ME</th><th scope=col>RMSE</th><th scope=col>MAE</th><th scope=col>MPE</th><th scope=col>MAPE</th><th scope=col>MASE</th><th scope=col>ACF1</th></tr>\n",
       "</thead>\n",
       "<tbody>\n",
       "\t<tr><th scope=row>Training set</th><td> -0.3244373</td><td>1382.405</td><td>812.7893</td><td>-20.981070</td><td>36.51008</td><td>0.7148019</td><td>-0.04874648</td></tr>\n",
       "\t<tr><th scope=row>Test set</th><td>272.8494358</td><td>1506.228</td><td>623.3211</td><td> -2.550676</td><td>17.70523</td><td>0.5481754</td><td>         NA</td></tr>\n",
       "</tbody>\n",
       "</table>\n"
      ],
      "text/latex": [
       "A matrix: 2 × 7 of type dbl\n",
       "\\begin{tabular}{r|lllllll}\n",
       "  & ME & RMSE & MAE & MPE & MAPE & MASE & ACF1\\\\\n",
       "\\hline\n",
       "\tTraining set &  -0.3244373 & 1382.405 & 812.7893 & -20.981070 & 36.51008 & 0.7148019 & -0.04874648\\\\\n",
       "\tTest set & 272.8494358 & 1506.228 & 623.3211 &  -2.550676 & 17.70523 & 0.5481754 &          NA\\\\\n",
       "\\end{tabular}\n"
      ],
      "text/markdown": [
       "\n",
       "A matrix: 2 × 7 of type dbl\n",
       "\n",
       "| <!--/--> | ME | RMSE | MAE | MPE | MAPE | MASE | ACF1 |\n",
       "|---|---|---|---|---|---|---|---|\n",
       "| Training set |  -0.3244373 | 1382.405 | 812.7893 | -20.981070 | 36.51008 | 0.7148019 | -0.04874648 |\n",
       "| Test set | 272.8494358 | 1506.228 | 623.3211 |  -2.550676 | 17.70523 | 0.5481754 |          NA |\n",
       "\n"
      ],
      "text/plain": [
       "             ME          RMSE     MAE      MPE        MAPE     MASE     \n",
       "Training set  -0.3244373 1382.405 812.7893 -20.981070 36.51008 0.7148019\n",
       "Test set     272.8494358 1506.228 623.3211  -2.550676 17.70523 0.5481754\n",
       "             ACF1       \n",
       "Training set -0.04874648\n",
       "Test set              NA"
      ]
     },
     "metadata": {},
     "output_type": "display_data"
    },
    {
     "data": {
      "image/png": "[encoded data removed]",
      "text/plain": [
       "plot without title"
      ]
     },
     "metadata": {
      "image/png": {
       "height": 420,
       "width": 420
      }
     },
     "output_type": "display_data"
    }
   ],
   "source": [
    "autoplot(meal_ets_fore) +\n",
    "  labs(title = \"ETS(M,N,N) Forecast - 15 Weeks\",\n",
    "       x = \"Week Number\",\n",
    "       y = \"Meal Count\")+\n",
    "  geom_line(aes(x = time(meal_ets$fitted), y=meal_ets$fitted, color = \"Forecast\")) +\n",
    "  geom_line(aes(x = time(meal_ets$x), y=meal_ets$x, color = \"Actual Demand\")) +\n",
    "  scale_color_brewer(palette = \"Dark2\", name = \"Lines\")\n",
    "\n",
    "\n",
    "# Score\n",
    "accuracy(meal_ets_fore, test_2$num_orders) "
   ]
  },
  {
   "cell_type": "markdown",
   "metadata": {},
   "source": [
    "## `SMA()` - Simple Moving Average"
   ]
  },
  {
   "cell_type": "code",
   "execution_count": 48,
   "metadata": {
    "vscode": {
     "languageId": "r"
    }
   },
   "outputs": [
    {
     "data": {
      "text/html": [
       "<table class=\"dataframe\">\n",
       "<caption>A matrix: 1 × 5 of type dbl</caption>\n",
       "<thead>\n",
       "\t<tr><th></th><th scope=col>ME</th><th scope=col>RMSE</th><th scope=col>MAE</th><th scope=col>MPE</th><th scope=col>MAPE</th></tr>\n",
       "</thead>\n",
       "<tbody>\n",
       "\t<tr><th scope=row>Test set</th><td>-65.08333</td><td>307.7345</td><td>179.65</td><td>-5.051084</td><td>10.06524</td></tr>\n",
       "</tbody>\n",
       "</table>\n"
      ],
      "text/latex": [
       "A matrix: 1 × 5 of type dbl\n",
       "\\begin{tabular}{r|lllll}\n",
       "  & ME & RMSE & MAE & MPE & MAPE\\\\\n",
       "\\hline\n",
       "\tTest set & -65.08333 & 307.7345 & 179.65 & -5.051084 & 10.06524\\\\\n",
       "\\end{tabular}\n"
      ],
      "text/markdown": [
       "\n",
       "A matrix: 1 × 5 of type dbl\n",
       "\n",
       "| <!--/--> | ME | RMSE | MAE | MPE | MAPE |\n",
       "|---|---|---|---|---|---|\n",
       "| Test set | -65.08333 | 307.7345 | 179.65 | -5.051084 | 10.06524 |\n",
       "\n"
      ],
      "text/plain": [
       "         ME        RMSE     MAE    MPE       MAPE    \n",
       "Test set -65.08333 307.7345 179.65 -5.051084 10.06524"
      ]
     },
     "metadata": {},
     "output_type": "display_data"
    },
    {
     "data": {
      "image/png": "[encoded data removed]",
      "text/plain": [
       "Plot with title \"Meal Simple Moving Avg 10 Periods\""
      ]
     },
     "metadata": {
      "image/png": {
       "height": 420,
       "width": 420
      }
     },
     "output_type": "display_data"
    }
   ],
   "source": [
    "# Create Model. n is the number of periods to average over\n",
    "meal_sma = SMA(df_2$num_orders, n=10)\n",
    "\n",
    "# Plot\n",
    "plot.ts(meal_sma, \n",
    "        main= \"Meal Simple Moving Avg 10 Periods\",\n",
    "        xlab = \"Week Number\",\n",
    "        ylab = \"Meal SMA\")\n",
    "# Score\n",
    "accuracy(meal_sma, test_2$num_orders)"
   ]
  },
  {
   "cell_type": "markdown",
   "metadata": {},
   "source": [
    "\n",
    "## ARIMA:"
   ]
  },
  {
   "cell_type": "markdown",
   "metadata": {},
   "source": [
    "\n",
    "Now we will compare different functions for time series forecasting:\n",
    "\n",
    "## SES() - useful for data w/ no trend or seasonality"
   ]
  },
  {
   "cell_type": "code",
   "execution_count": 51,
   "metadata": {
    "vscode": {
     "languageId": "r"
    }
   },
   "outputs": [
    {
     "data": {
      "text/plain": [
       "Series: df_2$num_orders \n",
       "ARIMA(0,0,0) with non-zero mean \n",
       "\n",
       "Coefficients:\n",
       "           mean\n",
       "      2204.6621\n",
       "s.e.   114.7968\n",
       "\n",
       "sigma^2 = 1924122:  log likelihood = -1254.32\n",
       "AIC=2512.64   AICc=2512.72   BIC=2518.59"
      ]
     },
     "metadata": {},
     "output_type": "display_data"
    },
    {
     "data": {
      "text/plain": [
       "\n",
       "Call:\n",
       "arima(x = df_2$num_orders, order = c(0, 0, 2))\n",
       "\n",
       "Coefficients:\n",
       "          ma1      ma2  intercept\n",
       "      -0.0541  -0.0583  2203.7378\n",
       "s.e.   0.0831   0.0825   101.7145\n",
       "\n",
       "sigma^2 estimated as 1898927:  log likelihood = -1253.87,  aic = 2515.74"
      ]
     },
     "metadata": {},
     "output_type": "display_data"
    },
    {
     "data": {
      "image/png": "[encoded data removed]",
      "text/plain": [
       "Plot with title \"ARIMA Differences = 1\""
      ]
     },
     "metadata": {
      "image/png": {
       "height": 420,
       "width": 420
      }
     },
     "output_type": "display_data"
    },
    {
     "data": {
      "text/html": [
       "<table class=\"dataframe\">\n",
       "<caption>A matrix: 2 × 7 of type dbl</caption>\n",
       "<thead>\n",
       "\t<tr><th></th><th scope=col>ME</th><th scope=col>RMSE</th><th scope=col>MAE</th><th scope=col>MPE</th><th scope=col>MAPE</th><th scope=col>MASE</th><th scope=col>ACF1</th></tr>\n",
       "</thead>\n",
       "<tbody>\n",
       "\t<tr><th scope=row>Training set</th><td>  1.391541</td><td>1378.015</td><td>810.9294</td><td>-20.729890</td><td>36.34673</td><td>0.7131662</td><td>0.0008767045</td></tr>\n",
       "\t<tr><th scope=row>Test set</th><td>270.113610</td><td>1506.395</td><td>622.2240</td><td> -2.673425</td><td>17.66490</td><td>0.5472105</td><td>          NA</td></tr>\n",
       "</tbody>\n",
       "</table>\n"
      ],
      "text/latex": [
       "A matrix: 2 × 7 of type dbl\n",
       "\\begin{tabular}{r|lllllll}\n",
       "  & ME & RMSE & MAE & MPE & MAPE & MASE & ACF1\\\\\n",
       "\\hline\n",
       "\tTraining set &   1.391541 & 1378.015 & 810.9294 & -20.729890 & 36.34673 & 0.7131662 & 0.0008767045\\\\\n",
       "\tTest set & 270.113610 & 1506.395 & 622.2240 &  -2.673425 & 17.66490 & 0.5472105 &           NA\\\\\n",
       "\\end{tabular}\n"
      ],
      "text/markdown": [
       "\n",
       "A matrix: 2 × 7 of type dbl\n",
       "\n",
       "| <!--/--> | ME | RMSE | MAE | MPE | MAPE | MASE | ACF1 |\n",
       "|---|---|---|---|---|---|---|---|\n",
       "| Training set |   1.391541 | 1378.015 | 810.9294 | -20.729890 | 36.34673 | 0.7131662 | 0.0008767045 |\n",
       "| Test set | 270.113610 | 1506.395 | 622.2240 |  -2.673425 | 17.66490 | 0.5472105 |           NA |\n",
       "\n"
      ],
      "text/plain": [
       "             ME         RMSE     MAE      MPE        MAPE     MASE     \n",
       "Training set   1.391541 1378.015 810.9294 -20.729890 36.34673 0.7131662\n",
       "Test set     270.113610 1506.395 622.2240  -2.673425 17.66490 0.5472105\n",
       "             ACF1        \n",
       "Training set 0.0008767045\n",
       "Test set               NA"
      ]
     },
     "metadata": {},
     "output_type": "display_data"
    },
    {
     "data": {
      "image/png": "[encoded data removed]",
      "text/plain": [
       "plot without title"
      ]
     },
     "metadata": {
      "image/png": {
       "height": 420,
       "width": 420
      }
     },
     "output_type": "display_data"
    }
   ],
   "source": [
    "# Create model with differences\n",
    "meal_ar_diff = diff(df_2$num_orders, differences = 1)\n",
    "\n",
    "# Plot\n",
    "plot.ts(meal_ar_diff, main = \"ARIMA Differences = 1\",\n",
    "        xlab = 'Week Number',\n",
    "        ylab = \"Meal Demand Differences\")\n",
    "\n",
    "# Create model with auto.arima()\n",
    "meal_auto = auto.arima(df_2$num_orders) \n",
    "meal_auto\n",
    "\n",
    "# Create arima model 0,0,2 from auto.arima optimizer\n",
    "meal_arima = arima(df_2$num_orders, order = c(0,0,2))\n",
    "meal_arima\n",
    "# Forecast out 15 weeks\n",
    "meal_arima_for = forecast(meal_arima, h=15)\n",
    "\n",
    "# Plot Arima\n",
    "plot_forecast(meal_arima_for, \"Meal ARIMA Forecast - 15 Weeks\")\n",
    "# Score\n",
    "accuracy(meal_arima_for, test_2$num_orders)"
   ]
  }
 ],
 "metadata": {
  "kernelspec": {
   "display_name": "R",
   "language": "R",
   "name": "ir"
  },
  "language_info": {
   "codemirror_mode": "r",
   "file_extension": ".r",
   "mimetype": "text/x-r-source",
   "name": "R",
   "pygments_lexer": "r",
   "version": "4.3.2"
  }
 },
 "nbformat": 4,
 "nbformat_minor": 2
}
