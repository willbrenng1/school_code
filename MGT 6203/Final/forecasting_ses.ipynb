{
 "cells": [
  {
   "cell_type": "code",
   "execution_count": 81,
   "metadata": {
    "vscode": {
     "languageId": "r"
    }
   },
   "outputs": [
    {
     "name": "stderr",
     "output_type": "stream",
     "text": [
      "Warning message:\n",
      "\"package 'writexl' was built under R version 4.3.3\"\n"
     ]
    }
   ],
   "source": [
    "library(dplyr)\n",
    "library(xts)\n",
    "library(forecast)\n",
    "library(lubridate)\n",
    "library(writexl)"
   ]
  },
  {
   "cell_type": "code",
   "execution_count": 2,
   "metadata": {
    "vscode": {
     "languageId": "r"
    }
   },
   "outputs": [
    {
     "data": {
      "text/html": [
       "<table class=\"dataframe\">\n",
       "<caption>A data.frame: 6 × 5</caption>\n",
       "<thead>\n",
       "\t<tr><th></th><th scope=col>store</th><th scope=col>dept</th><th scope=col>date</th><th scope=col>weekly_sales</th><th scope=col>isholiday</th></tr>\n",
       "\t<tr><th></th><th scope=col>&lt;int&gt;</th><th scope=col>&lt;int&gt;</th><th scope=col>&lt;date&gt;</th><th scope=col>&lt;dbl&gt;</th><th scope=col>&lt;lgl&gt;</th></tr>\n",
       "</thead>\n",
       "<tbody>\n",
       "\t<tr><th scope=row>1</th><td>1</td><td>1</td><td>2010-02-05</td><td>24924.50</td><td>FALSE</td></tr>\n",
       "\t<tr><th scope=row>2</th><td>1</td><td>2</td><td>2010-02-05</td><td>50605.27</td><td>FALSE</td></tr>\n",
       "\t<tr><th scope=row>3</th><td>1</td><td>3</td><td>2010-02-05</td><td>13740.12</td><td>FALSE</td></tr>\n",
       "\t<tr><th scope=row>4</th><td>1</td><td>4</td><td>2010-02-05</td><td>39954.04</td><td>FALSE</td></tr>\n",
       "\t<tr><th scope=row>5</th><td>1</td><td>5</td><td>2010-02-05</td><td>32229.38</td><td>FALSE</td></tr>\n",
       "\t<tr><th scope=row>6</th><td>1</td><td>6</td><td>2010-02-05</td><td> 5749.03</td><td>FALSE</td></tr>\n",
       "</tbody>\n",
       "</table>\n"
      ],
      "text/latex": [
       "A data.frame: 6 × 5\n",
       "\\begin{tabular}{r|lllll}\n",
       "  & store & dept & date & weekly\\_sales & isholiday\\\\\n",
       "  & <int> & <int> & <date> & <dbl> & <lgl>\\\\\n",
       "\\hline\n",
       "\t1 & 1 & 1 & 2010-02-05 & 24924.50 & FALSE\\\\\n",
       "\t2 & 1 & 2 & 2010-02-05 & 50605.27 & FALSE\\\\\n",
       "\t3 & 1 & 3 & 2010-02-05 & 13740.12 & FALSE\\\\\n",
       "\t4 & 1 & 4 & 2010-02-05 & 39954.04 & FALSE\\\\\n",
       "\t5 & 1 & 5 & 2010-02-05 & 32229.38 & FALSE\\\\\n",
       "\t6 & 1 & 6 & 2010-02-05 &  5749.03 & FALSE\\\\\n",
       "\\end{tabular}\n"
      ],
      "text/markdown": [
       "\n",
       "A data.frame: 6 × 5\n",
       "\n",
       "| <!--/--> | store &lt;int&gt; | dept &lt;int&gt; | date &lt;date&gt; | weekly_sales &lt;dbl&gt; | isholiday &lt;lgl&gt; |\n",
       "|---|---|---|---|---|---|\n",
       "| 1 | 1 | 1 | 2010-02-05 | 24924.50 | FALSE |\n",
       "| 2 | 1 | 2 | 2010-02-05 | 50605.27 | FALSE |\n",
       "| 3 | 1 | 3 | 2010-02-05 | 13740.12 | FALSE |\n",
       "| 4 | 1 | 4 | 2010-02-05 | 39954.04 | FALSE |\n",
       "| 5 | 1 | 5 | 2010-02-05 | 32229.38 | FALSE |\n",
       "| 6 | 1 | 6 | 2010-02-05 |  5749.03 | FALSE |\n",
       "\n"
      ],
      "text/plain": [
       "  store dept date       weekly_sales isholiday\n",
       "1 1     1    2010-02-05 24924.50     FALSE    \n",
       "2 1     2    2010-02-05 50605.27     FALSE    \n",
       "3 1     3    2010-02-05 13740.12     FALSE    \n",
       "4 1     4    2010-02-05 39954.04     FALSE    \n",
       "5 1     5    2010-02-05 32229.38     FALSE    \n",
       "6 1     6    2010-02-05  5749.03     FALSE    "
      ]
     },
     "metadata": {},
     "output_type": "display_data"
    }
   ],
   "source": [
    "data = read.csv(\"Final/store_sales.csv\",stringsAsFactors = FALSE)\n",
    "names(data) <- tolower(names(data))\n",
    "\n",
    "data$date = mdy(data$date)\n",
    "head(data)"
   ]
  },
  {
   "cell_type": "code",
   "execution_count": 3,
   "metadata": {
    "vscode": {
     "languageId": "r"
    }
   },
   "outputs": [],
   "source": [
    "dept_1_no_holiday = filter(data,dept==1 & isholiday==FALSE )"
   ]
  },
  {
   "cell_type": "code",
   "execution_count": 4,
   "metadata": {
    "vscode": {
     "languageId": "r"
    }
   },
   "outputs": [
    {
     "data": {
      "text/html": [
       "19902.5457921811"
      ],
      "text/latex": [
       "19902.5457921811"
      ],
      "text/markdown": [
       "19902.5457921811"
      ],
      "text/plain": [
       "[1] 19902.55"
      ]
     },
     "metadata": {},
     "output_type": "display_data"
    }
   ],
   "source": [
    "mean(dept_1_no_holiday$weekly_sales)"
   ]
  },
  {
   "cell_type": "code",
   "execution_count": 5,
   "metadata": {
    "vscode": {
     "languageId": "r"
    }
   },
   "outputs": [],
   "source": [
    "store_1_sales = filter(data,store==1 )"
   ]
  },
  {
   "cell_type": "code",
   "execution_count": 6,
   "metadata": {
    "vscode": {
     "languageId": "r"
    }
   },
   "outputs": [],
   "source": [
    "store_1_weekly_sales_data=store_1_sales %>%\n",
    "  group_by(date) %>%\n",
    "  summarise(weekly_sales = sum(weekly_sales, na.rm = TRUE))"
   ]
  },
  {
   "cell_type": "code",
   "execution_count": 84,
   "metadata": {
    "vscode": {
     "languageId": "r"
    }
   },
   "outputs": [],
   "source": [
    "write_xlsx(store_1_weekly_sales_data,\"C:/Users/Will/Downloads/df.xlsx\")"
   ]
  },
  {
   "cell_type": "code",
   "execution_count": 85,
   "metadata": {
    "vscode": {
     "languageId": "r"
    }
   },
   "outputs": [
    {
     "data": {
      "image/png": "[encoded data removed]",
      "text/plain": [
       "plot without title"
      ]
     },
     "metadata": {
      "image/png": {
       "height": 420,
       "width": 420
      }
     },
     "output_type": "display_data"
    }
   ],
   "source": [
    "plot(store_1_weekly_sales_data)"
   ]
  },
  {
   "cell_type": "code",
   "execution_count": 28,
   "metadata": {
    "vscode": {
     "languageId": "r"
    }
   },
   "outputs": [
    {
     "data": {
      "text/html": [
       "A Time Series:<br><style>\n",
       ".list-inline {list-style: none; margin:0; padding: 0}\n",
       ".list-inline>li {display: inline-block}\n",
       ".list-inline>li:not(:last-child)::after {content: \"\\00b7\"; padding: 0 .5ex}\n",
       "</style>\n",
       "<ol class=list-inline><li>1643690.9</li><li>1641957.44</li><li>1611968.17</li><li>1409727.59</li><li>1554806.68</li><li>1439541.59</li></ol>\n"
      ],
      "text/latex": [
       "A Time Series:\\\\\\begin{enumerate*}\n",
       "\\item 1643690.9\n",
       "\\item 1641957.44\n",
       "\\item 1611968.17\n",
       "\\item 1409727.59\n",
       "\\item 1554806.68\n",
       "\\item 1439541.59\n",
       "\\end{enumerate*}\n"
      ],
      "text/markdown": [
       "A Time Series:  \n",
       "1. 1643690.9\n",
       "2. 1641957.44\n",
       "3. 1611968.17\n",
       "4. 1409727.59\n",
       "5. 1554806.68\n",
       "6. 1439541.59\n",
       "\n",
       "\n"
      ],
      "text/plain": [
       "A Time Series:\n",
       "[1] 1643691 1641957 1611968 1409728 1554807 1439542"
      ]
     },
     "metadata": {},
     "output_type": "display_data"
    }
   ],
   "source": [
    "store_1_weekly_sales <- ts(store_1_weekly_sales_data[\"weekly_sales\"], start = 1,end=nrow(store_1_weekly_sales_data), frequency = 52)\n",
    "store_1_weekly_sales_test = ts(store_1_weekly_sales_data[\"weekly_sales\"], start = 1,end=nrow(store_1_weekly_sales_data), frequency = 52)\n",
    "head(store_1_weekly_sales)"
   ]
  },
  {
   "cell_type": "code",
   "execution_count": 87,
   "metadata": {
    "vscode": {
     "languageId": "r"
    }
   },
   "outputs": [],
   "source": [
    "store_1_weekly_sales <- ts(store_1_weekly_sales_data[[\"weekly_sales\"]],\n",
    "                           start = 1,\n",
    "                           end=nrow(store_1_weekly_sales_data) , # Year 1, Week 1\n",
    "                           frequency = 52)   # Weekly frequency\n",
    "\n",
    "# Define test data similarly\n",
    "store_1_weekly_sales_test <- ts(store_1_weekly_sales_data[[\"weekly_sales\"]],\n",
    "                                start = nrow(store_1_weekly_sales_data),\n",
    "                                frequency = 52)"
   ]
  },
  {
   "cell_type": "code",
   "execution_count": 88,
   "metadata": {
    "vscode": {
     "languageId": "r"
    }
   },
   "outputs": [
    {
     "data": {
      "text/html": [
       "117"
      ],
      "text/latex": [
       "117"
      ],
      "text/markdown": [
       "117"
      ],
      "text/plain": [
       "[1] 117"
      ]
     },
     "metadata": {},
     "output_type": "display_data"
    }
   ],
   "source": [
    "nrow(store_1_weekly_sales_data)"
   ]
  },
  {
   "cell_type": "code",
   "execution_count": 89,
   "metadata": {
    "vscode": {
     "languageId": "r"
    }
   },
   "outputs": [],
   "source": [
    "store_1_weekly_sales <- ts(store_1_weekly_sales_data[[\"weekly_sales\"]],\n",
    "                           start = 1,\n",
    "                           end=117 , # Year 1, Week 1\n",
    "                           frequency = 52)   # Weekly frequency\n",
    "\n",
    "# Define test data similarly\n",
    "store_1_weekly_sales_test <- ts(store_1_weekly_sales_data[[\"weekly_sales\"]],\n",
    "                                start = 118,\n",
    "                                frequency = 52)"
   ]
  },
  {
   "cell_type": "code",
   "execution_count": 90,
   "metadata": {
    "vscode": {
     "languageId": "r"
    }
   },
   "outputs": [],
   "source": [
    "weekly_smoothing_model =ses(store_1_weekly_sales, alpha = 0.25, h = 100)"
   ]
  },
  {
   "cell_type": "code",
   "execution_count": 121,
   "metadata": {
    "vscode": {
     "languageId": "r"
    }
   },
   "outputs": [
    {
     "data": {
      "text/html": [
       "6033"
      ],
      "text/latex": [
       "6033"
      ],
      "text/markdown": [
       "6033"
      ],
      "text/plain": [
       "[1] 6033"
      ]
     },
     "metadata": {},
     "output_type": "display_data"
    }
   ],
   "source": [
    "length(weekly_smoothing_model$fitted)"
   ]
  },
  {
   "cell_type": "code",
   "execution_count": 91,
   "metadata": {
    "vscode": {
     "languageId": "r"
    }
   },
   "outputs": [
    {
     "data": {
      "image/png": "[encoded data removed]",
      "text/plain": [
       "plot without title"
      ]
     },
     "metadata": {
      "image/png": {
       "height": 420,
       "width": 420
      }
     },
     "output_type": "display_data"
    }
   ],
   "source": [
    "autoplot(weekly_smoothing_model)"
   ]
  },
  {
   "cell_type": "code",
   "execution_count": 92,
   "metadata": {
    "vscode": {
     "languageId": "r"
    }
   },
   "outputs": [
    {
     "data": {
      "text/html": [
       "<table class=\"dataframe\">\n",
       "<caption>A matrix: 2 × 8 of type dbl</caption>\n",
       "<thead>\n",
       "\t<tr><th></th><th scope=col>ME</th><th scope=col>RMSE</th><th scope=col>MAE</th><th scope=col>MPE</th><th scope=col>MAPE</th><th scope=col>MASE</th><th scope=col>ACF1</th><th scope=col>Theil's U</th></tr>\n",
       "</thead>\n",
       "<tbody>\n",
       "\t<tr><th scope=row>Training set</th><td>    -4.970818</td><td>166924.6</td><td>115158.3</td><td>-0.8687932</td><td>7.219754</td><td>1.091494</td><td>0.1235624</td><td>       NA</td></tr>\n",
       "\t<tr><th scope=row>Test set</th><td>-34141.718266</td><td>175381.2</td><td>119225.1</td><td>-3.2580033</td><td>7.534393</td><td>1.130040</td><td>0.2508005</td><td>0.9438884</td></tr>\n",
       "</tbody>\n",
       "</table>\n"
      ],
      "text/latex": [
       "A matrix: 2 × 8 of type dbl\n",
       "\\begin{tabular}{r|llllllll}\n",
       "  & ME & RMSE & MAE & MPE & MAPE & MASE & ACF1 & Theil's U\\\\\n",
       "\\hline\n",
       "\tTraining set &     -4.970818 & 166924.6 & 115158.3 & -0.8687932 & 7.219754 & 1.091494 & 0.1235624 &        NA\\\\\n",
       "\tTest set & -34141.718266 & 175381.2 & 119225.1 & -3.2580033 & 7.534393 & 1.130040 & 0.2508005 & 0.9438884\\\\\n",
       "\\end{tabular}\n"
      ],
      "text/markdown": [
       "\n",
       "A matrix: 2 × 8 of type dbl\n",
       "\n",
       "| <!--/--> | ME | RMSE | MAE | MPE | MAPE | MASE | ACF1 | Theil's U |\n",
       "|---|---|---|---|---|---|---|---|---|\n",
       "| Training set |     -4.970818 | 166924.6 | 115158.3 | -0.8687932 | 7.219754 | 1.091494 | 0.1235624 |        NA |\n",
       "| Test set | -34141.718266 | 175381.2 | 119225.1 | -3.2580033 | 7.534393 | 1.130040 | 0.2508005 | 0.9438884 |\n",
       "\n"
      ],
      "text/plain": [
       "             ME            RMSE     MAE      MPE        MAPE     MASE    \n",
       "Training set     -4.970818 166924.6 115158.3 -0.8687932 7.219754 1.091494\n",
       "Test set     -34141.718266 175381.2 119225.1 -3.2580033 7.534393 1.130040\n",
       "             ACF1      Theil's U\n",
       "Training set 0.1235624        NA\n",
       "Test set     0.2508005 0.9438884"
      ]
     },
     "metadata": {},
     "output_type": "display_data"
    }
   ],
   "source": [
    "accuracy(weekly_smoothing_model, store_1_weekly_sales_test)"
   ]
  },
  {
   "cell_type": "code",
   "execution_count": 106,
   "metadata": {
    "vscode": {
     "languageId": "r"
    }
   },
   "outputs": [
    {
     "data": {
      "text/html": [
       "-29988.9476329219"
      ],
      "text/latex": [
       "-29988.9476329219"
      ],
      "text/markdown": [
       "-29988.9476329219"
      ],
      "text/plain": [
       "[1] -29988.95"
      ]
     },
     "metadata": {},
     "output_type": "display_data"
    }
   ],
   "source": [
    "rsfe = sum(weekly_smoothing_model$residuals)\n",
    "rsfe\n"
   ]
  },
  {
   "cell_type": "code",
   "execution_count": 107,
   "metadata": {
    "vscode": {
     "languageId": "r"
    }
   },
   "outputs": [
    {
     "data": {
      "text/html": [
       "115158.253326655"
      ],
      "text/latex": [
       "115158.253326655"
      ],
      "text/markdown": [
       "115158.253326655"
      ],
      "text/plain": [
       "[1] 115158.3"
      ]
     },
     "metadata": {},
     "output_type": "display_data"
    }
   ],
   "source": [
    "mad = sum(abs(weekly_smoothing_model$residuals))/length((weekly_smoothing_model$residuals))\n",
    "mad"
   ]
  },
  {
   "cell_type": "code",
   "execution_count": 118,
   "metadata": {
    "vscode": {
     "languageId": "r"
    }
   },
   "outputs": [
    {
     "data": {
      "text/html": [
       "6033"
      ],
      "text/latex": [
       "6033"
      ],
      "text/markdown": [
       "6033"
      ],
      "text/plain": [
       "[1] 6033"
      ]
     },
     "metadata": {},
     "output_type": "display_data"
    }
   ],
   "source": [
    "length(weekly_smoothing_model$residuals)"
   ]
  },
  {
   "cell_type": "code",
   "execution_count": 105,
   "metadata": {
    "vscode": {
     "languageId": "r"
    }
   },
   "outputs": [
    {
     "data": {
      "text/html": [
       "-0.260415096327103"
      ],
      "text/latex": [
       "-0.260415096327103"
      ],
      "text/markdown": [
       "-0.260415096327103"
      ],
      "text/plain": [
       "[1] -0.2604151"
      ]
     },
     "metadata": {},
     "output_type": "display_data"
    }
   ],
   "source": [
    "rsfe/mad"
   ]
  },
  {
   "cell_type": "code",
   "execution_count": null,
   "metadata": {
    "vscode": {
     "languageId": "r"
    }
   },
   "outputs": [],
   "source": [
    "weekly_smoothing_model$r"
   ]
  },
  {
   "cell_type": "code",
   "execution_count": 112,
   "metadata": {
    "vscode": {
     "languageId": "r"
    }
   },
   "outputs": [
    {
     "data": {
      "text/html": [
       "<table class=\"dataframe\">\n",
       "<caption>A tibble: 1 × 6</caption>\n",
       "<thead>\n",
       "\t<tr><th scope=col>alpha</th><th scope=col>RMSE</th><th scope=col>mads</th><th scope=col>tss</th><th scope=col>rsfes</th><th scope=col>MFE</th></tr>\n",
       "\t<tr><th scope=col>&lt;dbl&gt;</th><th scope=col>&lt;dbl&gt;</th><th scope=col>&lt;dbl&gt;</th><th scope=col>&lt;dbl&gt;</th><th scope=col>&lt;dbl&gt;</th><th scope=col>&lt;dbl&gt;</th></tr>\n",
       "</thead>\n",
       "<tbody>\n",
       "\t<tr><td>0.02</td><td>173622.8</td><td>112806.7</td><td>9.330228</td><td>1052512</td><td>174.4591</td></tr>\n",
       "</tbody>\n",
       "</table>\n"
      ],
      "text/latex": [
       "A tibble: 1 × 6\n",
       "\\begin{tabular}{llllll}\n",
       " alpha & RMSE & mads & tss & rsfes & MFE\\\\\n",
       " <dbl> & <dbl> & <dbl> & <dbl> & <dbl> & <dbl>\\\\\n",
       "\\hline\n",
       "\t 0.02 & 173622.8 & 112806.7 & 9.330228 & 1052512 & 174.4591\\\\\n",
       "\\end{tabular}\n"
      ],
      "text/markdown": [
       "\n",
       "A tibble: 1 × 6\n",
       "\n",
       "| alpha &lt;dbl&gt; | RMSE &lt;dbl&gt; | mads &lt;dbl&gt; | tss &lt;dbl&gt; | rsfes &lt;dbl&gt; | MFE &lt;dbl&gt; |\n",
       "|---|---|---|---|---|---|\n",
       "| 0.02 | 173622.8 | 112806.7 | 9.330228 | 1052512 | 174.4591 |\n",
       "\n"
      ],
      "text/plain": [
       "  alpha RMSE     mads     tss      rsfes   MFE     \n",
       "1 0.02  173622.8 112806.7 9.330228 1052512 174.4591"
      ]
     },
     "metadata": {},
     "output_type": "display_data"
    }
   ],
   "source": [
    "alpha <- seq(0.01, 0.99, 0.01)\n",
    "RMSE <- NA\n",
    "mads = NA\n",
    "tss = NA\n",
    "rsfes = NA\n",
    "MFE = NA\n",
    "for(i in seq_along(alpha)) {\n",
    "  fcast <- ses(store_1_weekly_sales, alpha = alpha[i], h = 100)\n",
    "  rsfe = sum(fcast$residuals)\n",
    "  mad = sum(abs(fcast$residuals))/length((fcast$residuals))\n",
    "  ts = rsfe/mad\n",
    "  mfe = sum(fcast$residuals)/length((fcast$residuals))\n",
    "\n",
    "  RMSE[i] <- accuracy(fcast, store_1_weekly_sales_test)[2, 2]\n",
    "  mads[i] = mad\n",
    "  tss[i] = ts\n",
    "  rsfes[i] = rsfe\n",
    "  MFE[i]= mfe\n",
    "}\n",
    "\n",
    "error <- data_frame(alpha, RMSE,mads,tss,rsfes,MFE) # turn our RMSE values for alpha .01-.99 into a data frame\n",
    "minimum <- filter(error, RMSE == min(RMSE)) # plot RMSE values for alpha .01-.99\n",
    "minimum"
   ]
  },
  {
   "cell_type": "code",
   "execution_count": 114,
   "metadata": {
    "vscode": {
     "languageId": "r"
    }
   },
   "outputs": [
    {
     "data": {
      "text/html": [
       "<table class=\"dataframe\">\n",
       "<caption>A tibble: 2 × 6</caption>\n",
       "<thead>\n",
       "\t<tr><th scope=col>alpha</th><th scope=col>RMSE</th><th scope=col>mads</th><th scope=col>tss</th><th scope=col>rsfes</th><th scope=col>MFE</th></tr>\n",
       "\t<tr><th scope=col>&lt;dbl&gt;</th><th scope=col>&lt;dbl&gt;</th><th scope=col>&lt;dbl&gt;</th><th scope=col>&lt;dbl&gt;</th><th scope=col>&lt;dbl&gt;</th><th scope=col>&lt;dbl&gt;</th></tr>\n",
       "</thead>\n",
       "<tbody>\n",
       "\t<tr><td>0.25</td><td>175381.2</td><td>115158.3</td><td>-0.2604151</td><td>-29988.95</td><td> -4.970818</td></tr>\n",
       "\t<tr><td>0.75</td><td>184881.1</td><td>119847.5</td><td>-0.5218632</td><td>-62543.98</td><td>-10.366978</td></tr>\n",
       "</tbody>\n",
       "</table>\n"
      ],
      "text/latex": [
       "A tibble: 2 × 6\n",
       "\\begin{tabular}{llllll}\n",
       " alpha & RMSE & mads & tss & rsfes & MFE\\\\\n",
       " <dbl> & <dbl> & <dbl> & <dbl> & <dbl> & <dbl>\\\\\n",
       "\\hline\n",
       "\t 0.25 & 175381.2 & 115158.3 & -0.2604151 & -29988.95 &  -4.970818\\\\\n",
       "\t 0.75 & 184881.1 & 119847.5 & -0.5218632 & -62543.98 & -10.366978\\\\\n",
       "\\end{tabular}\n"
      ],
      "text/markdown": [
       "\n",
       "A tibble: 2 × 6\n",
       "\n",
       "| alpha &lt;dbl&gt; | RMSE &lt;dbl&gt; | mads &lt;dbl&gt; | tss &lt;dbl&gt; | rsfes &lt;dbl&gt; | MFE &lt;dbl&gt; |\n",
       "|---|---|---|---|---|---|\n",
       "| 0.25 | 175381.2 | 115158.3 | -0.2604151 | -29988.95 |  -4.970818 |\n",
       "| 0.75 | 184881.1 | 119847.5 | -0.5218632 | -62543.98 | -10.366978 |\n",
       "\n"
      ],
      "text/plain": [
       "  alpha RMSE     mads     tss        rsfes     MFE       \n",
       "1 0.25  175381.2 115158.3 -0.2604151 -29988.95  -4.970818\n",
       "2 0.75  184881.1 119847.5 -0.5218632 -62543.98 -10.366978"
      ]
     },
     "metadata": {},
     "output_type": "display_data"
    }
   ],
   "source": [
    "filter(error,alpha==.25 | alpha==.75)"
   ]
  },
  {
   "cell_type": "code",
   "execution_count": 115,
   "metadata": {
    "vscode": {
     "languageId": "r"
    }
   },
   "outputs": [
    {
     "data": {
      "text/html": [
       "<table class=\"dataframe\">\n",
       "<caption>A tibble: 1 × 6</caption>\n",
       "<thead>\n",
       "\t<tr><th scope=col>alpha</th><th scope=col>RMSE</th><th scope=col>mads</th><th scope=col>tss</th><th scope=col>rsfes</th><th scope=col>MFE</th></tr>\n",
       "\t<tr><th scope=col>&lt;dbl&gt;</th><th scope=col>&lt;dbl&gt;</th><th scope=col>&lt;dbl&gt;</th><th scope=col>&lt;dbl&gt;</th><th scope=col>&lt;dbl&gt;</th><th scope=col>&lt;dbl&gt;</th></tr>\n",
       "</thead>\n",
       "<tbody>\n",
       "\t<tr><td>0.01</td><td>173726.7</td><td>112912.4</td><td>10.0384</td><td>1133460</td><td>187.8767</td></tr>\n",
       "</tbody>\n",
       "</table>\n"
      ],
      "text/latex": [
       "A tibble: 1 × 6\n",
       "\\begin{tabular}{llllll}\n",
       " alpha & RMSE & mads & tss & rsfes & MFE\\\\\n",
       " <dbl> & <dbl> & <dbl> & <dbl> & <dbl> & <dbl>\\\\\n",
       "\\hline\n",
       "\t 0.01 & 173726.7 & 112912.4 & 10.0384 & 1133460 & 187.8767\\\\\n",
       "\\end{tabular}\n"
      ],
      "text/markdown": [
       "\n",
       "A tibble: 1 × 6\n",
       "\n",
       "| alpha &lt;dbl&gt; | RMSE &lt;dbl&gt; | mads &lt;dbl&gt; | tss &lt;dbl&gt; | rsfes &lt;dbl&gt; | MFE &lt;dbl&gt; |\n",
       "|---|---|---|---|---|---|\n",
       "| 0.01 | 173726.7 | 112912.4 | 10.0384 | 1133460 | 187.8767 |\n",
       "\n"
      ],
      "text/plain": [
       "  alpha RMSE     mads     tss     rsfes   MFE     \n",
       "1 0.01  173726.7 112912.4 10.0384 1133460 187.8767"
      ]
     },
     "metadata": {},
     "output_type": "display_data"
    }
   ],
   "source": [
    "filter(error, tss == max(tss))"
   ]
  },
  {
   "cell_type": "code",
   "execution_count": 122,
   "metadata": {
    "vscode": {
     "languageId": "r"
    }
   },
   "outputs": [],
   "source": [
    "weekly_smoothing_model_2 =ses(store_1_weekly_sales, alpha = 0.5, h = 100)"
   ]
  },
  {
   "cell_type": "code",
   "execution_count": 123,
   "metadata": {
    "vscode": {
     "languageId": "r"
    }
   },
   "outputs": [
    {
     "data": {
      "image/png": "[encoded data removed]",
      "text/plain": [
       "plot without title"
      ]
     },
     "metadata": {
      "image/png": {
       "height": 420,
       "width": 420
      }
     },
     "output_type": "display_data"
    }
   ],
   "source": [
    "autoplot(weekly_smoothing_model_2)"
   ]
  }
 ],
 "metadata": {
  "kernelspec": {
   "display_name": "R",
   "language": "R",
   "name": "ir"
  },
  "language_info": {
   "codemirror_mode": "r",
   "file_extension": ".r",
   "mimetype": "text/x-r-source",
   "name": "R",
   "pygments_lexer": "r",
   "version": "4.3.2"
  }
 },
 "nbformat": 4,
 "nbformat_minor": 2
}
