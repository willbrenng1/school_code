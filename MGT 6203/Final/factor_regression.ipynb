{
 "cells": [
  {
   "cell_type": "code",
   "execution_count": 11,
   "metadata": {
    "vscode": {
     "languageId": "r"
    }
   },
   "outputs": [],
   "source": [
    "library(PerformanceAnalytics)\n",
    "library(xts)\n",
    "library(lubridate)"
   ]
  },
  {
   "cell_type": "code",
   "execution_count": 7,
   "metadata": {
    "vscode": {
     "languageId": "r"
    }
   },
   "outputs": [
    {
     "data": {
      "text/html": [
       "<table class=\"dataframe\">\n",
       "<caption>A data.frame: 6 × 11</caption>\n",
       "<thead>\n",
       "\t<tr><th></th><th scope=col>Date</th><th scope=col>SMB</th><th scope=col>HML</th><th scope=col>QMJ</th><th scope=col>BAB</th><th scope=col>MOM</th><th scope=col>RF</th><th scope=col>MKT</th><th scope=col>MKT_RF</th><th scope=col>NVDA</th><th scope=col>INTC</th></tr>\n",
       "\t<tr><th></th><th scope=col>&lt;chr&gt;</th><th scope=col>&lt;dbl&gt;</th><th scope=col>&lt;dbl&gt;</th><th scope=col>&lt;dbl&gt;</th><th scope=col>&lt;dbl&gt;</th><th scope=col>&lt;dbl&gt;</th><th scope=col>&lt;dbl&gt;</th><th scope=col>&lt;dbl&gt;</th><th scope=col>&lt;dbl&gt;</th><th scope=col>&lt;dbl&gt;</th><th scope=col>&lt;dbl&gt;</th></tr>\n",
       "</thead>\n",
       "<tbody>\n",
       "\t<tr><th scope=row>1</th><td>1/31/2007</td><td> 0.0010</td><td>-0.0011</td><td>-0.0032</td><td> 0.0135</td><td> 0.0021</td><td>0.0044</td><td>-0.019617963</td><td>-0.024017963</td><td> 0.01141924</td><td>-0.052481076</td></tr>\n",
       "\t<tr><th scope=row>2</th><td>2/28/2007</td><td> 0.0132</td><td>-0.0009</td><td>-0.0050</td><td> 0.0116</td><td>-0.0135</td><td>0.0038</td><td> 0.007592538</td><td> 0.003792538</td><td>-0.07161312</td><td>-0.031603316</td></tr>\n",
       "\t<tr><th scope=row>3</th><td>3/31/2007</td><td>-0.0006</td><td>-0.0022</td><td> 0.0024</td><td>-0.0011</td><td> 0.0247</td><td>0.0043</td><td> 0.048437726</td><td> 0.044137726</td><td> 0.14280824</td><td> 0.123889557</td></tr>\n",
       "\t<tr><th scope=row>4</th><td>4/30/2007</td><td>-0.0206</td><td>-0.0115</td><td>-0.0017</td><td> 0.0078</td><td>-0.0016</td><td>0.0044</td><td> 0.033920024</td><td> 0.029520024</td><td> 0.05320745</td><td> 0.031628035</td></tr>\n",
       "\t<tr><th scope=row>5</th><td>5/31/2007</td><td> 0.0003</td><td>-0.0005</td><td> 0.0060</td><td>-0.0106</td><td>-0.0026</td><td>0.0041</td><td>-0.018849633</td><td>-0.022949633</td><td> 0.19255180</td><td> 0.075877272</td></tr>\n",
       "\t<tr><th scope=row>6</th><td>6/30/2007</td><td> 0.0077</td><td>-0.0113</td><td> 0.0110</td><td> 0.0077</td><td> 0.0038</td><td>0.0040</td><td>-0.027135204</td><td>-0.031135204</td><td> 0.10772222</td><td>-0.005054453</td></tr>\n",
       "</tbody>\n",
       "</table>\n"
      ],
      "text/latex": [
       "A data.frame: 6 × 11\n",
       "\\begin{tabular}{r|lllllllllll}\n",
       "  & Date & SMB & HML & QMJ & BAB & MOM & RF & MKT & MKT\\_RF & NVDA & INTC\\\\\n",
       "  & <chr> & <dbl> & <dbl> & <dbl> & <dbl> & <dbl> & <dbl> & <dbl> & <dbl> & <dbl> & <dbl>\\\\\n",
       "\\hline\n",
       "\t1 & 1/31/2007 &  0.0010 & -0.0011 & -0.0032 &  0.0135 &  0.0021 & 0.0044 & -0.019617963 & -0.024017963 &  0.01141924 & -0.052481076\\\\\n",
       "\t2 & 2/28/2007 &  0.0132 & -0.0009 & -0.0050 &  0.0116 & -0.0135 & 0.0038 &  0.007592538 &  0.003792538 & -0.07161312 & -0.031603316\\\\\n",
       "\t3 & 3/31/2007 & -0.0006 & -0.0022 &  0.0024 & -0.0011 &  0.0247 & 0.0043 &  0.048437726 &  0.044137726 &  0.14280824 &  0.123889557\\\\\n",
       "\t4 & 4/30/2007 & -0.0206 & -0.0115 & -0.0017 &  0.0078 & -0.0016 & 0.0044 &  0.033920024 &  0.029520024 &  0.05320745 &  0.031628035\\\\\n",
       "\t5 & 5/31/2007 &  0.0003 & -0.0005 &  0.0060 & -0.0106 & -0.0026 & 0.0041 & -0.018849633 & -0.022949633 &  0.19255180 &  0.075877272\\\\\n",
       "\t6 & 6/30/2007 &  0.0077 & -0.0113 &  0.0110 &  0.0077 &  0.0038 & 0.0040 & -0.027135204 & -0.031135204 &  0.10772222 & -0.005054453\\\\\n",
       "\\end{tabular}\n"
      ],
      "text/markdown": [
       "\n",
       "A data.frame: 6 × 11\n",
       "\n",
       "| <!--/--> | Date &lt;chr&gt; | SMB &lt;dbl&gt; | HML &lt;dbl&gt; | QMJ &lt;dbl&gt; | BAB &lt;dbl&gt; | MOM &lt;dbl&gt; | RF &lt;dbl&gt; | MKT &lt;dbl&gt; | MKT_RF &lt;dbl&gt; | NVDA &lt;dbl&gt; | INTC &lt;dbl&gt; |\n",
       "|---|---|---|---|---|---|---|---|---|---|---|---|\n",
       "| 1 | 1/31/2007 |  0.0010 | -0.0011 | -0.0032 |  0.0135 |  0.0021 | 0.0044 | -0.019617963 | -0.024017963 |  0.01141924 | -0.052481076 |\n",
       "| 2 | 2/28/2007 |  0.0132 | -0.0009 | -0.0050 |  0.0116 | -0.0135 | 0.0038 |  0.007592538 |  0.003792538 | -0.07161312 | -0.031603316 |\n",
       "| 3 | 3/31/2007 | -0.0006 | -0.0022 |  0.0024 | -0.0011 |  0.0247 | 0.0043 |  0.048437726 |  0.044137726 |  0.14280824 |  0.123889557 |\n",
       "| 4 | 4/30/2007 | -0.0206 | -0.0115 | -0.0017 |  0.0078 | -0.0016 | 0.0044 |  0.033920024 |  0.029520024 |  0.05320745 |  0.031628035 |\n",
       "| 5 | 5/31/2007 |  0.0003 | -0.0005 |  0.0060 | -0.0106 | -0.0026 | 0.0041 | -0.018849633 | -0.022949633 |  0.19255180 |  0.075877272 |\n",
       "| 6 | 6/30/2007 |  0.0077 | -0.0113 |  0.0110 |  0.0077 |  0.0038 | 0.0040 | -0.027135204 | -0.031135204 |  0.10772222 | -0.005054453 |\n",
       "\n"
      ],
      "text/plain": [
       "  Date      SMB     HML     QMJ     BAB     MOM     RF     MKT         \n",
       "1 1/31/2007  0.0010 -0.0011 -0.0032  0.0135  0.0021 0.0044 -0.019617963\n",
       "2 2/28/2007  0.0132 -0.0009 -0.0050  0.0116 -0.0135 0.0038  0.007592538\n",
       "3 3/31/2007 -0.0006 -0.0022  0.0024 -0.0011  0.0247 0.0043  0.048437726\n",
       "4 4/30/2007 -0.0206 -0.0115 -0.0017  0.0078 -0.0016 0.0044  0.033920024\n",
       "5 5/31/2007  0.0003 -0.0005  0.0060 -0.0106 -0.0026 0.0041 -0.018849633\n",
       "6 6/30/2007  0.0077 -0.0113  0.0110  0.0077  0.0038 0.0040 -0.027135204\n",
       "  MKT_RF       NVDA        INTC        \n",
       "1 -0.024017963  0.01141924 -0.052481076\n",
       "2  0.003792538 -0.07161312 -0.031603316\n",
       "3  0.044137726  0.14280824  0.123889557\n",
       "4  0.029520024  0.05320745  0.031628035\n",
       "5 -0.022949633  0.19255180  0.075877272\n",
       "6 -0.031135204  0.10772222 -0.005054453"
      ]
     },
     "metadata": {},
     "output_type": "display_data"
    }
   ],
   "source": [
    "data = read.csv(\"Final/Final_Exam_Factors.csv\")\n",
    "head(data)"
   ]
  },
  {
   "cell_type": "code",
   "execution_count": 12,
   "metadata": {
    "vscode": {
     "languageId": "r"
    }
   },
   "outputs": [
    {
     "data": {
      "text/html": [
       "<table class=\"dataframe\">\n",
       "<caption>A data.frame: 6 × 11</caption>\n",
       "<thead>\n",
       "\t<tr><th></th><th scope=col>Date</th><th scope=col>SMB</th><th scope=col>HML</th><th scope=col>QMJ</th><th scope=col>BAB</th><th scope=col>MOM</th><th scope=col>RF</th><th scope=col>MKT</th><th scope=col>MKT_RF</th><th scope=col>NVDA</th><th scope=col>INTC</th></tr>\n",
       "\t<tr><th></th><th scope=col>&lt;date&gt;</th><th scope=col>&lt;dbl&gt;</th><th scope=col>&lt;dbl&gt;</th><th scope=col>&lt;dbl&gt;</th><th scope=col>&lt;dbl&gt;</th><th scope=col>&lt;dbl&gt;</th><th scope=col>&lt;dbl&gt;</th><th scope=col>&lt;dbl&gt;</th><th scope=col>&lt;dbl&gt;</th><th scope=col>&lt;dbl&gt;</th><th scope=col>&lt;dbl&gt;</th></tr>\n",
       "</thead>\n",
       "<tbody>\n",
       "\t<tr><th scope=row>1</th><td>2007-01-31</td><td> 0.0010</td><td>-0.0011</td><td>-0.0032</td><td> 0.0135</td><td> 0.0021</td><td>0.0044</td><td>-0.019617963</td><td>-0.024017963</td><td> 0.01141924</td><td>-0.052481076</td></tr>\n",
       "\t<tr><th scope=row>2</th><td>2007-02-28</td><td> 0.0132</td><td>-0.0009</td><td>-0.0050</td><td> 0.0116</td><td>-0.0135</td><td>0.0038</td><td> 0.007592538</td><td> 0.003792538</td><td>-0.07161312</td><td>-0.031603316</td></tr>\n",
       "\t<tr><th scope=row>3</th><td>2007-03-31</td><td>-0.0006</td><td>-0.0022</td><td> 0.0024</td><td>-0.0011</td><td> 0.0247</td><td>0.0043</td><td> 0.048437726</td><td> 0.044137726</td><td> 0.14280824</td><td> 0.123889557</td></tr>\n",
       "\t<tr><th scope=row>4</th><td>2007-04-30</td><td>-0.0206</td><td>-0.0115</td><td>-0.0017</td><td> 0.0078</td><td>-0.0016</td><td>0.0044</td><td> 0.033920024</td><td> 0.029520024</td><td> 0.05320745</td><td> 0.031628035</td></tr>\n",
       "\t<tr><th scope=row>5</th><td>2007-05-31</td><td> 0.0003</td><td>-0.0005</td><td> 0.0060</td><td>-0.0106</td><td>-0.0026</td><td>0.0041</td><td>-0.018849633</td><td>-0.022949633</td><td> 0.19255180</td><td> 0.075877272</td></tr>\n",
       "\t<tr><th scope=row>6</th><td>2007-06-30</td><td> 0.0077</td><td>-0.0113</td><td> 0.0110</td><td> 0.0077</td><td> 0.0038</td><td>0.0040</td><td>-0.027135204</td><td>-0.031135204</td><td> 0.10772222</td><td>-0.005054453</td></tr>\n",
       "</tbody>\n",
       "</table>\n"
      ],
      "text/latex": [
       "A data.frame: 6 × 11\n",
       "\\begin{tabular}{r|lllllllllll}\n",
       "  & Date & SMB & HML & QMJ & BAB & MOM & RF & MKT & MKT\\_RF & NVDA & INTC\\\\\n",
       "  & <date> & <dbl> & <dbl> & <dbl> & <dbl> & <dbl> & <dbl> & <dbl> & <dbl> & <dbl> & <dbl>\\\\\n",
       "\\hline\n",
       "\t1 & 2007-01-31 &  0.0010 & -0.0011 & -0.0032 &  0.0135 &  0.0021 & 0.0044 & -0.019617963 & -0.024017963 &  0.01141924 & -0.052481076\\\\\n",
       "\t2 & 2007-02-28 &  0.0132 & -0.0009 & -0.0050 &  0.0116 & -0.0135 & 0.0038 &  0.007592538 &  0.003792538 & -0.07161312 & -0.031603316\\\\\n",
       "\t3 & 2007-03-31 & -0.0006 & -0.0022 &  0.0024 & -0.0011 &  0.0247 & 0.0043 &  0.048437726 &  0.044137726 &  0.14280824 &  0.123889557\\\\\n",
       "\t4 & 2007-04-30 & -0.0206 & -0.0115 & -0.0017 &  0.0078 & -0.0016 & 0.0044 &  0.033920024 &  0.029520024 &  0.05320745 &  0.031628035\\\\\n",
       "\t5 & 2007-05-31 &  0.0003 & -0.0005 &  0.0060 & -0.0106 & -0.0026 & 0.0041 & -0.018849633 & -0.022949633 &  0.19255180 &  0.075877272\\\\\n",
       "\t6 & 2007-06-30 &  0.0077 & -0.0113 &  0.0110 &  0.0077 &  0.0038 & 0.0040 & -0.027135204 & -0.031135204 &  0.10772222 & -0.005054453\\\\\n",
       "\\end{tabular}\n"
      ],
      "text/markdown": [
       "\n",
       "A data.frame: 6 × 11\n",
       "\n",
       "| <!--/--> | Date &lt;date&gt; | SMB &lt;dbl&gt; | HML &lt;dbl&gt; | QMJ &lt;dbl&gt; | BAB &lt;dbl&gt; | MOM &lt;dbl&gt; | RF &lt;dbl&gt; | MKT &lt;dbl&gt; | MKT_RF &lt;dbl&gt; | NVDA &lt;dbl&gt; | INTC &lt;dbl&gt; |\n",
       "|---|---|---|---|---|---|---|---|---|---|---|---|\n",
       "| 1 | 2007-01-31 |  0.0010 | -0.0011 | -0.0032 |  0.0135 |  0.0021 | 0.0044 | -0.019617963 | -0.024017963 |  0.01141924 | -0.052481076 |\n",
       "| 2 | 2007-02-28 |  0.0132 | -0.0009 | -0.0050 |  0.0116 | -0.0135 | 0.0038 |  0.007592538 |  0.003792538 | -0.07161312 | -0.031603316 |\n",
       "| 3 | 2007-03-31 | -0.0006 | -0.0022 |  0.0024 | -0.0011 |  0.0247 | 0.0043 |  0.048437726 |  0.044137726 |  0.14280824 |  0.123889557 |\n",
       "| 4 | 2007-04-30 | -0.0206 | -0.0115 | -0.0017 |  0.0078 | -0.0016 | 0.0044 |  0.033920024 |  0.029520024 |  0.05320745 |  0.031628035 |\n",
       "| 5 | 2007-05-31 |  0.0003 | -0.0005 |  0.0060 | -0.0106 | -0.0026 | 0.0041 | -0.018849633 | -0.022949633 |  0.19255180 |  0.075877272 |\n",
       "| 6 | 2007-06-30 |  0.0077 | -0.0113 |  0.0110 |  0.0077 |  0.0038 | 0.0040 | -0.027135204 | -0.031135204 |  0.10772222 | -0.005054453 |\n",
       "\n"
      ],
      "text/plain": [
       "  Date       SMB     HML     QMJ     BAB     MOM     RF     MKT         \n",
       "1 2007-01-31  0.0010 -0.0011 -0.0032  0.0135  0.0021 0.0044 -0.019617963\n",
       "2 2007-02-28  0.0132 -0.0009 -0.0050  0.0116 -0.0135 0.0038  0.007592538\n",
       "3 2007-03-31 -0.0006 -0.0022  0.0024 -0.0011  0.0247 0.0043  0.048437726\n",
       "4 2007-04-30 -0.0206 -0.0115 -0.0017  0.0078 -0.0016 0.0044  0.033920024\n",
       "5 2007-05-31  0.0003 -0.0005  0.0060 -0.0106 -0.0026 0.0041 -0.018849633\n",
       "6 2007-06-30  0.0077 -0.0113  0.0110  0.0077  0.0038 0.0040 -0.027135204\n",
       "  MKT_RF       NVDA        INTC        \n",
       "1 -0.024017963  0.01141924 -0.052481076\n",
       "2  0.003792538 -0.07161312 -0.031603316\n",
       "3  0.044137726  0.14280824  0.123889557\n",
       "4  0.029520024  0.05320745  0.031628035\n",
       "5 -0.022949633  0.19255180  0.075877272\n",
       "6 -0.031135204  0.10772222 -0.005054453"
      ]
     },
     "metadata": {},
     "output_type": "display_data"
    }
   ],
   "source": [
    "data$Date = mdy(data$Date)\n",
    "head(data)"
   ]
  },
  {
   "cell_type": "code",
   "execution_count": 13,
   "metadata": {
    "vscode": {
     "languageId": "r"
    }
   },
   "outputs": [
    {
     "data": {
      "text/html": [
       "<table class=\"dataframe\">\n",
       "<caption>A data.frame: 6 × 11</caption>\n",
       "<thead>\n",
       "\t<tr><th></th><th scope=col>Date</th><th scope=col>SMB</th><th scope=col>HML</th><th scope=col>QMJ</th><th scope=col>BAB</th><th scope=col>MOM</th><th scope=col>RF</th><th scope=col>MKT</th><th scope=col>MKT_RF</th><th scope=col>NVDA</th><th scope=col>INTC</th></tr>\n",
       "\t<tr><th></th><th scope=col>&lt;date&gt;</th><th scope=col>&lt;dbl&gt;</th><th scope=col>&lt;dbl&gt;</th><th scope=col>&lt;dbl&gt;</th><th scope=col>&lt;dbl&gt;</th><th scope=col>&lt;dbl&gt;</th><th scope=col>&lt;dbl&gt;</th><th scope=col>&lt;dbl&gt;</th><th scope=col>&lt;dbl&gt;</th><th scope=col>&lt;dbl&gt;</th><th scope=col>&lt;dbl&gt;</th></tr>\n",
       "</thead>\n",
       "<tbody>\n",
       "\t<tr><th scope=row>1</th><td>2007-01-31</td><td> 0.0010</td><td>-0.0011</td><td>-0.0032</td><td> 0.0135</td><td> 0.0021</td><td>0.0044</td><td>-0.019617963</td><td>-0.024017963</td><td> 0.01141924</td><td>-0.052481076</td></tr>\n",
       "\t<tr><th scope=row>2</th><td>2007-02-28</td><td> 0.0132</td><td>-0.0009</td><td>-0.0050</td><td> 0.0116</td><td>-0.0135</td><td>0.0038</td><td> 0.007592538</td><td> 0.003792538</td><td>-0.07161312</td><td>-0.031603316</td></tr>\n",
       "\t<tr><th scope=row>3</th><td>2007-03-31</td><td>-0.0006</td><td>-0.0022</td><td> 0.0024</td><td>-0.0011</td><td> 0.0247</td><td>0.0043</td><td> 0.048437726</td><td> 0.044137726</td><td> 0.14280824</td><td> 0.123889557</td></tr>\n",
       "\t<tr><th scope=row>4</th><td>2007-04-30</td><td>-0.0206</td><td>-0.0115</td><td>-0.0017</td><td> 0.0078</td><td>-0.0016</td><td>0.0044</td><td> 0.033920024</td><td> 0.029520024</td><td> 0.05320745</td><td> 0.031628035</td></tr>\n",
       "\t<tr><th scope=row>5</th><td>2007-05-31</td><td> 0.0003</td><td>-0.0005</td><td> 0.0060</td><td>-0.0106</td><td>-0.0026</td><td>0.0041</td><td>-0.018849633</td><td>-0.022949633</td><td> 0.19255180</td><td> 0.075877272</td></tr>\n",
       "\t<tr><th scope=row>6</th><td>2007-06-30</td><td> 0.0077</td><td>-0.0113</td><td> 0.0110</td><td> 0.0077</td><td> 0.0038</td><td>0.0040</td><td>-0.027135204</td><td>-0.031135204</td><td> 0.10772222</td><td>-0.005054453</td></tr>\n",
       "</tbody>\n",
       "</table>\n"
      ],
      "text/latex": [
       "A data.frame: 6 × 11\n",
       "\\begin{tabular}{r|lllllllllll}\n",
       "  & Date & SMB & HML & QMJ & BAB & MOM & RF & MKT & MKT\\_RF & NVDA & INTC\\\\\n",
       "  & <date> & <dbl> & <dbl> & <dbl> & <dbl> & <dbl> & <dbl> & <dbl> & <dbl> & <dbl> & <dbl>\\\\\n",
       "\\hline\n",
       "\t1 & 2007-01-31 &  0.0010 & -0.0011 & -0.0032 &  0.0135 &  0.0021 & 0.0044 & -0.019617963 & -0.024017963 &  0.01141924 & -0.052481076\\\\\n",
       "\t2 & 2007-02-28 &  0.0132 & -0.0009 & -0.0050 &  0.0116 & -0.0135 & 0.0038 &  0.007592538 &  0.003792538 & -0.07161312 & -0.031603316\\\\\n",
       "\t3 & 2007-03-31 & -0.0006 & -0.0022 &  0.0024 & -0.0011 &  0.0247 & 0.0043 &  0.048437726 &  0.044137726 &  0.14280824 &  0.123889557\\\\\n",
       "\t4 & 2007-04-30 & -0.0206 & -0.0115 & -0.0017 &  0.0078 & -0.0016 & 0.0044 &  0.033920024 &  0.029520024 &  0.05320745 &  0.031628035\\\\\n",
       "\t5 & 2007-05-31 &  0.0003 & -0.0005 &  0.0060 & -0.0106 & -0.0026 & 0.0041 & -0.018849633 & -0.022949633 &  0.19255180 &  0.075877272\\\\\n",
       "\t6 & 2007-06-30 &  0.0077 & -0.0113 &  0.0110 &  0.0077 &  0.0038 & 0.0040 & -0.027135204 & -0.031135204 &  0.10772222 & -0.005054453\\\\\n",
       "\\end{tabular}\n"
      ],
      "text/markdown": [
       "\n",
       "A data.frame: 6 × 11\n",
       "\n",
       "| <!--/--> | Date &lt;date&gt; | SMB &lt;dbl&gt; | HML &lt;dbl&gt; | QMJ &lt;dbl&gt; | BAB &lt;dbl&gt; | MOM &lt;dbl&gt; | RF &lt;dbl&gt; | MKT &lt;dbl&gt; | MKT_RF &lt;dbl&gt; | NVDA &lt;dbl&gt; | INTC &lt;dbl&gt; |\n",
       "|---|---|---|---|---|---|---|---|---|---|---|---|\n",
       "| 1 | 2007-01-31 |  0.0010 | -0.0011 | -0.0032 |  0.0135 |  0.0021 | 0.0044 | -0.019617963 | -0.024017963 |  0.01141924 | -0.052481076 |\n",
       "| 2 | 2007-02-28 |  0.0132 | -0.0009 | -0.0050 |  0.0116 | -0.0135 | 0.0038 |  0.007592538 |  0.003792538 | -0.07161312 | -0.031603316 |\n",
       "| 3 | 2007-03-31 | -0.0006 | -0.0022 |  0.0024 | -0.0011 |  0.0247 | 0.0043 |  0.048437726 |  0.044137726 |  0.14280824 |  0.123889557 |\n",
       "| 4 | 2007-04-30 | -0.0206 | -0.0115 | -0.0017 |  0.0078 | -0.0016 | 0.0044 |  0.033920024 |  0.029520024 |  0.05320745 |  0.031628035 |\n",
       "| 5 | 2007-05-31 |  0.0003 | -0.0005 |  0.0060 | -0.0106 | -0.0026 | 0.0041 | -0.018849633 | -0.022949633 |  0.19255180 |  0.075877272 |\n",
       "| 6 | 2007-06-30 |  0.0077 | -0.0113 |  0.0110 |  0.0077 |  0.0038 | 0.0040 | -0.027135204 | -0.031135204 |  0.10772222 | -0.005054453 |\n",
       "\n"
      ],
      "text/plain": [
       "  Date       SMB     HML     QMJ     BAB     MOM     RF     MKT         \n",
       "1 2007-01-31  0.0010 -0.0011 -0.0032  0.0135  0.0021 0.0044 -0.019617963\n",
       "2 2007-02-28  0.0132 -0.0009 -0.0050  0.0116 -0.0135 0.0038  0.007592538\n",
       "3 2007-03-31 -0.0006 -0.0022  0.0024 -0.0011  0.0247 0.0043  0.048437726\n",
       "4 2007-04-30 -0.0206 -0.0115 -0.0017  0.0078 -0.0016 0.0044  0.033920024\n",
       "5 2007-05-31  0.0003 -0.0005  0.0060 -0.0106 -0.0026 0.0041 -0.018849633\n",
       "6 2007-06-30  0.0077 -0.0113  0.0110  0.0077  0.0038 0.0040 -0.027135204\n",
       "  MKT_RF       NVDA        INTC        \n",
       "1 -0.024017963  0.01141924 -0.052481076\n",
       "2  0.003792538 -0.07161312 -0.031603316\n",
       "3  0.044137726  0.14280824  0.123889557\n",
       "4  0.029520024  0.05320745  0.031628035\n",
       "5 -0.022949633  0.19255180  0.075877272\n",
       "6 -0.031135204  0.10772222 -0.005054453"
      ]
     },
     "metadata": {},
     "output_type": "display_data"
    }
   ],
   "source": [
    "data2 = data[order(data$Date),]\n",
    "head(data2)"
   ]
  },
  {
   "cell_type": "code",
   "execution_count": 14,
   "metadata": {
    "vscode": {
     "languageId": "r"
    }
   },
   "outputs": [
    {
     "data": {
      "text/plain": [
       "\n",
       "Call:\n",
       "lm(formula = INTC ~ MKT_RF + SMB + HML + QMJ + MOM + BAB, data = data2)\n",
       "\n",
       "Residuals:\n",
       "      Min        1Q    Median        3Q       Max \n",
       "-0.152748 -0.035451  0.002712  0.035816  0.161570 \n",
       "\n",
       "Coefficients:\n",
       "             Estimate Std. Error t value Pr(>|t|)    \n",
       "(Intercept)  0.001393   0.005038   0.277    0.783    \n",
       "MKT_RF       1.032510   0.117656   8.776 7.93e-15 ***\n",
       "SMB          0.183144   0.227892   0.804    0.423    \n",
       "HML         -0.114862   0.219210  -0.524    0.601    \n",
       "QMJ          0.372727   0.233046   1.599    0.112    \n",
       "MOM         -0.012425   0.124682  -0.100    0.921    \n",
       "BAB          0.147607   0.195994   0.753    0.453    \n",
       "---\n",
       "Signif. codes:  0 '***' 0.001 '**' 0.01 '*' 0.05 '.' 0.1 ' ' 1\n",
       "\n",
       "Residual standard error: 0.05614 on 131 degrees of freedom\n",
       "Multiple R-squared:  0.3959,\tAdjusted R-squared:  0.3683 \n",
       "F-statistic: 14.31 on 6 and 131 DF,  p-value: 1.686e-12\n"
      ]
     },
     "metadata": {},
     "output_type": "display_data"
    }
   ],
   "source": [
    "intel_lm = lm(INTC~MKT_RF+SMB+HML+QMJ+MOM+BAB,data=data2)\n",
    "summary(intel_lm)"
   ]
  },
  {
   "cell_type": "code",
   "execution_count": 15,
   "metadata": {
    "vscode": {
     "languageId": "r"
    }
   },
   "outputs": [
    {
     "data": {
      "text/plain": [
       "\n",
       "Call:\n",
       "lm(formula = NVDA ~ MKT_RF + SMB + HML + QMJ + MOM + BAB, data = data2)\n",
       "\n",
       "Residuals:\n",
       "     Min       1Q   Median       3Q      Max \n",
       "-0.36981 -0.05795 -0.00837  0.05505  0.47490 \n",
       "\n",
       "Coefficients:\n",
       "            Estimate Std. Error t value Pr(>|t|)    \n",
       "(Intercept)  0.02075    0.01036   2.002   0.0473 *  \n",
       "MKT_RF       1.45659    0.24200   6.019 1.65e-08 ***\n",
       "SMB         -0.91057    0.46875  -1.943   0.0542 .  \n",
       "HML          0.11877    0.45089   0.263   0.7926    \n",
       "QMJ         -0.35515    0.47935  -0.741   0.4601    \n",
       "MOM         -0.04125    0.25645  -0.161   0.8725    \n",
       "BAB         -0.04142    0.40313  -0.103   0.9183    \n",
       "---\n",
       "Signif. codes:  0 '***' 0.001 '**' 0.01 '*' 0.05 '.' 0.1 ' ' 1\n",
       "\n",
       "Residual standard error: 0.1155 on 131 degrees of freedom\n",
       "Multiple R-squared:  0.2647,\tAdjusted R-squared:  0.231 \n",
       "F-statistic: 7.861 on 6 and 131 DF,  p-value: 3.057e-07\n"
      ]
     },
     "metadata": {},
     "output_type": "display_data"
    }
   ],
   "source": [
    "nvda_lm = lm(NVDA~MKT_RF+SMB+HML+QMJ+MOM+BAB,data=data2)\n",
    "summary(nvda_lm)"
   ]
  }
 ],
 "metadata": {
  "kernelspec": {
   "display_name": "R",
   "language": "R",
   "name": "ir"
  },
  "language_info": {
   "codemirror_mode": "r",
   "file_extension": ".r",
   "mimetype": "text/x-r-source",
   "name": "R",
   "pygments_lexer": "r",
   "version": "4.3.2"
  }
 },
 "nbformat": 4,
 "nbformat_minor": 2
}
