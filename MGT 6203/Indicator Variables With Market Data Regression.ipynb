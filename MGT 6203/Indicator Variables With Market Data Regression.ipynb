{
 "cells": [
  {
   "cell_type": "code",
   "execution_count": 8,
   "metadata": {
    "vscode": {
     "languageId": "r"
    }
   },
   "outputs": [],
   "source": [
    "dirmkt = read.csv(\"Data/Direct_Marketing.csv\")"
   ]
  },
  {
   "cell_type": "code",
   "execution_count": 21,
   "metadata": {
    "vscode": {
     "languageId": "r"
    }
   },
   "outputs": [
    {
     "data": {
      "text/html": [
       "<table class=\"dataframe\">\n",
       "<caption>A matrix: 0 × 17 of type chr</caption>\n",
       "<thead>\n",
       "\t<tr><th scope=col>Package</th><th scope=col>LibPath</th><th scope=col>Version</th><th scope=col>Priority</th><th scope=col>Depends</th><th scope=col>Imports</th><th scope=col>LinkingTo</th><th scope=col>Suggests</th><th scope=col>Enhances</th><th scope=col>License</th><th scope=col>License_is_FOSS</th><th scope=col>License_restricts_use</th><th scope=col>OS_type</th><th scope=col>Archs</th><th scope=col>MD5sum</th><th scope=col>NeedsCompilation</th><th scope=col>Built</th></tr>\n",
       "</thead>\n",
       "<tbody>\n",
       "</tbody>\n",
       "</table>\n"
      ],
      "text/latex": [
       "A matrix: 0 × 17 of type chr\n",
       "\\begin{tabular}{lllllllllllllllll}\n",
       " Package & LibPath & Version & Priority & Depends & Imports & LinkingTo & Suggests & Enhances & License & License\\_is\\_FOSS & License\\_restricts\\_use & OS\\_type & Archs & MD5sum & NeedsCompilation & Built\\\\\n",
       "\\hline\n",
       "\\end{tabular}\n"
      ],
      "text/markdown": [
       "\n",
       "A matrix: 0 × 17 of type chr\n",
       "\n",
       "| Package | LibPath | Version | Priority | Depends | Imports | LinkingTo | Suggests | Enhances | License | License_is_FOSS | License_restricts_use | OS_type | Archs | MD5sum | NeedsCompilation | Built |\n",
       "|---|---|---|---|---|---|---|---|---|---|---|---|---|---|---|---|---|\n",
       "\n"
      ],
      "text/plain": [
       "     Package LibPath Version Priority Depends Imports LinkingTo Suggests\n",
       "     Enhances License License_is_FOSS License_restricts_use OS_type Archs\n",
       "     MD5sum NeedsCompilation Built"
      ]
     },
     "metadata": {},
     "output_type": "display_data"
    }
   ],
   "source": [
    "installed.packages(\"tidyverse\")\n",
    "library(tidyverse)"
   ]
  },
  {
   "cell_type": "code",
   "execution_count": 23,
   "metadata": {
    "vscode": {
     "languageId": "r"
    }
   },
   "outputs": [],
   "source": [
    "library(ggplot2)"
   ]
  },
  {
   "cell_type": "code",
   "execution_count": 13,
   "metadata": {
    "vscode": {
     "languageId": "r"
    }
   },
   "outputs": [
    {
     "data": {
      "text/html": [
       "<table class=\"dataframe\">\n",
       "<caption>A data.frame: 10 × 10</caption>\n",
       "<thead>\n",
       "\t<tr><th></th><th scope=col>Age</th><th scope=col>Gender</th><th scope=col>OwnHome</th><th scope=col>Married</th><th scope=col>Location</th><th scope=col>Salary</th><th scope=col>Children</th><th scope=col>History</th><th scope=col>Catalogs</th><th scope=col>AmountSpent</th></tr>\n",
       "\t<tr><th></th><th scope=col>&lt;chr&gt;</th><th scope=col>&lt;chr&gt;</th><th scope=col>&lt;chr&gt;</th><th scope=col>&lt;chr&gt;</th><th scope=col>&lt;chr&gt;</th><th scope=col>&lt;int&gt;</th><th scope=col>&lt;int&gt;</th><th scope=col>&lt;chr&gt;</th><th scope=col>&lt;int&gt;</th><th scope=col>&lt;dbl&gt;</th></tr>\n",
       "</thead>\n",
       "<tbody>\n",
       "\t<tr><th scope=row>1</th><td>Old   </td><td>Female</td><td>Own </td><td>Single </td><td>Far  </td><td>47500</td><td>0</td><td>High  </td><td> 6</td><td> 75.5</td></tr>\n",
       "\t<tr><th scope=row>2</th><td>Middle</td><td>Male  </td><td>Rent</td><td>Single </td><td>Close</td><td>63600</td><td>0</td><td>High  </td><td> 6</td><td>131.8</td></tr>\n",
       "\t<tr><th scope=row>3</th><td>Young </td><td>Female</td><td>Rent</td><td>Single </td><td>Close</td><td>13500</td><td>0</td><td>Low   </td><td>18</td><td> 29.6</td></tr>\n",
       "\t<tr><th scope=row>4</th><td>Middle</td><td>Male  </td><td>Own </td><td>Married</td><td>Close</td><td>85600</td><td>1</td><td>High  </td><td>18</td><td>243.6</td></tr>\n",
       "\t<tr><th scope=row>5</th><td>Middle</td><td>Female</td><td>Own </td><td>Single </td><td>Close</td><td>68400</td><td>0</td><td>High  </td><td>12</td><td>130.4</td></tr>\n",
       "\t<tr><th scope=row>6</th><td>Young </td><td>Male  </td><td>Own </td><td>Married</td><td>Close</td><td>30400</td><td>0</td><td>Low   </td><td> 6</td><td> 49.5</td></tr>\n",
       "\t<tr><th scope=row>7</th><td>Middle</td><td>Female</td><td>Rent</td><td>Single </td><td>Close</td><td>48100</td><td>0</td><td>Medium</td><td>12</td><td> 78.2</td></tr>\n",
       "\t<tr><th scope=row>8</th><td>Middle</td><td>Male  </td><td>Own </td><td>Single </td><td>Close</td><td>68400</td><td>0</td><td>High  </td><td>18</td><td>115.5</td></tr>\n",
       "\t<tr><th scope=row>9</th><td>Middle</td><td>Female</td><td>Own </td><td>Married</td><td>Close</td><td>51900</td><td>3</td><td>Low   </td><td> 6</td><td> 15.8</td></tr>\n",
       "\t<tr><th scope=row>10</th><td>Old   </td><td>Male  </td><td>Own </td><td>Married</td><td>Far  </td><td>80700</td><td>0</td><td>None  </td><td>18</td><td>303.4</td></tr>\n",
       "</tbody>\n",
       "</table>\n"
      ],
      "text/latex": [
       "A data.frame: 10 × 10\n",
       "\\begin{tabular}{r|llllllllll}\n",
       "  & Age & Gender & OwnHome & Married & Location & Salary & Children & History & Catalogs & AmountSpent\\\\\n",
       "  & <chr> & <chr> & <chr> & <chr> & <chr> & <int> & <int> & <chr> & <int> & <dbl>\\\\\n",
       "\\hline\n",
       "\t1 & Old    & Female & Own  & Single  & Far   & 47500 & 0 & High   &  6 &  75.5\\\\\n",
       "\t2 & Middle & Male   & Rent & Single  & Close & 63600 & 0 & High   &  6 & 131.8\\\\\n",
       "\t3 & Young  & Female & Rent & Single  & Close & 13500 & 0 & Low    & 18 &  29.6\\\\\n",
       "\t4 & Middle & Male   & Own  & Married & Close & 85600 & 1 & High   & 18 & 243.6\\\\\n",
       "\t5 & Middle & Female & Own  & Single  & Close & 68400 & 0 & High   & 12 & 130.4\\\\\n",
       "\t6 & Young  & Male   & Own  & Married & Close & 30400 & 0 & Low    &  6 &  49.5\\\\\n",
       "\t7 & Middle & Female & Rent & Single  & Close & 48100 & 0 & Medium & 12 &  78.2\\\\\n",
       "\t8 & Middle & Male   & Own  & Single  & Close & 68400 & 0 & High   & 18 & 115.5\\\\\n",
       "\t9 & Middle & Female & Own  & Married & Close & 51900 & 3 & Low    &  6 &  15.8\\\\\n",
       "\t10 & Old    & Male   & Own  & Married & Far   & 80700 & 0 & None   & 18 & 303.4\\\\\n",
       "\\end{tabular}\n"
      ],
      "text/markdown": [
       "\n",
       "A data.frame: 10 × 10\n",
       "\n",
       "| <!--/--> | Age &lt;chr&gt; | Gender &lt;chr&gt; | OwnHome &lt;chr&gt; | Married &lt;chr&gt; | Location &lt;chr&gt; | Salary &lt;int&gt; | Children &lt;int&gt; | History &lt;chr&gt; | Catalogs &lt;int&gt; | AmountSpent &lt;dbl&gt; |\n",
       "|---|---|---|---|---|---|---|---|---|---|---|\n",
       "| 1 | Old    | Female | Own  | Single  | Far   | 47500 | 0 | High   |  6 |  75.5 |\n",
       "| 2 | Middle | Male   | Rent | Single  | Close | 63600 | 0 | High   |  6 | 131.8 |\n",
       "| 3 | Young  | Female | Rent | Single  | Close | 13500 | 0 | Low    | 18 |  29.6 |\n",
       "| 4 | Middle | Male   | Own  | Married | Close | 85600 | 1 | High   | 18 | 243.6 |\n",
       "| 5 | Middle | Female | Own  | Single  | Close | 68400 | 0 | High   | 12 | 130.4 |\n",
       "| 6 | Young  | Male   | Own  | Married | Close | 30400 | 0 | Low    |  6 |  49.5 |\n",
       "| 7 | Middle | Female | Rent | Single  | Close | 48100 | 0 | Medium | 12 |  78.2 |\n",
       "| 8 | Middle | Male   | Own  | Single  | Close | 68400 | 0 | High   | 18 | 115.5 |\n",
       "| 9 | Middle | Female | Own  | Married | Close | 51900 | 3 | Low    |  6 |  15.8 |\n",
       "| 10 | Old    | Male   | Own  | Married | Far   | 80700 | 0 | None   | 18 | 303.4 |\n",
       "\n"
      ],
      "text/plain": [
       "   Age    Gender OwnHome Married Location Salary Children History Catalogs\n",
       "1  Old    Female Own     Single  Far      47500  0        High     6      \n",
       "2  Middle Male   Rent    Single  Close    63600  0        High     6      \n",
       "3  Young  Female Rent    Single  Close    13500  0        Low     18      \n",
       "4  Middle Male   Own     Married Close    85600  1        High    18      \n",
       "5  Middle Female Own     Single  Close    68400  0        High    12      \n",
       "6  Young  Male   Own     Married Close    30400  0        Low      6      \n",
       "7  Middle Female Rent    Single  Close    48100  0        Medium  12      \n",
       "8  Middle Male   Own     Single  Close    68400  0        High    18      \n",
       "9  Middle Female Own     Married Close    51900  3        Low      6      \n",
       "10 Old    Male   Own     Married Far      80700  0        None    18      \n",
       "   AmountSpent\n",
       "1   75.5      \n",
       "2  131.8      \n",
       "3   29.6      \n",
       "4  243.6      \n",
       "5  130.4      \n",
       "6   49.5      \n",
       "7   78.2      \n",
       "8  115.5      \n",
       "9   15.8      \n",
       "10 303.4      "
      ]
     },
     "metadata": {},
     "output_type": "display_data"
    }
   ],
   "source": [
    "head(dirmkt,10)"
   ]
  },
  {
   "cell_type": "code",
   "execution_count": 32,
   "metadata": {
    "vscode": {
     "languageId": "r"
    }
   },
   "outputs": [],
   "source": [
    "salary_spend_df = dirmkt[c(\"Salary\",\"AmountSpent\")]"
   ]
  },
  {
   "cell_type": "code",
   "execution_count": 37,
   "metadata": {
    "vscode": {
     "languageId": "r"
    }
   },
   "outputs": [
    {
     "data": {
      "image/png": "[encoded data removed]",
      "text/plain": [
       "Plot with title \"Salary/Amount Spent Correlation\""
      ]
     },
     "metadata": {
      "image/png": {
       "height": 420,
       "width": 420
      }
     },
     "output_type": "display_data"
    }
   ],
   "source": [
    "plot(salary_spend_df$Salary,salary_spend_df$AmountSpent,xlab = \"Salary\",ylab = \"Amount Spent\",main = \"Salary/Amount Spent Correlation\")\n",
    "abline(lm(AmountSpent~Salary,data=salary_spend_df),col='red') \n"
   ]
  },
  {
   "cell_type": "code",
   "execution_count": 27,
   "metadata": {
    "vscode": {
     "languageId": "r"
    }
   },
   "outputs": [
    {
     "data": {
      "text/plain": [
       "\n",
       "Call:\n",
       "lm(formula = salary_spend_df$AmountSpent ~ salary_spend_df$Salary, \n",
       "    data = salary_spend_df)\n",
       "\n",
       "Residuals:\n",
       "    Min      1Q  Median      3Q     Max \n",
       "-217.97  -31.52   -5.35   27.97  375.29 \n",
       "\n",
       "Coefficients:\n",
       "                        Estimate Std. Error t value Pr(>|t|)    \n",
       "(Intercept)            -1.531783   4.537416  -0.338    0.736    \n",
       "salary_spend_df$Salary  0.002196   0.000071  30.930   <2e-16 ***\n",
       "---\n",
       "Signif. codes:  0 '***' 0.001 '**' 0.01 '*' 0.05 '.' 0.1 ' ' 1\n",
       "\n",
       "Residual standard error: 68.71 on 998 degrees of freedom\n",
       "Multiple R-squared:  0.4894,\tAdjusted R-squared:  0.4889 \n",
       "F-statistic: 956.7 on 1 and 998 DF,  p-value: < 2.2e-16\n"
      ]
     },
     "metadata": {},
     "output_type": "display_data"
    }
   ],
   "source": [
    "lm1 <- lm(salary_spend_df$AmountSpent ~ salary_spend_df$Salary, data = salary_spend_df)\n",
    "summary(lm1)"
   ]
  },
  {
   "cell_type": "code",
   "execution_count": 38,
   "metadata": {
    "vscode": {
     "languageId": "r"
    }
   },
   "outputs": [
    {
     "name": "stderr",
     "output_type": "stream",
     "text": [
      "Installing package into 'C:/Users/Will/AppData/Local/R/win-library/4.3'\n",
      "(as 'lib' is unspecified)\n",
      "\n"
     ]
    },
    {
     "name": "stdout",
     "output_type": "stream",
     "text": [
      "package 'fastDummies' successfully unpacked and MD5 sums checked\n",
      "\n",
      "The downloaded binary packages are in\n",
      "\tC:\\Users\\Will\\AppData\\Local\\Temp\\Rtmp4aYoeW\\downloaded_packages\n"
     ]
    }
   ],
   "source": [
    "install.packages(\"fastDummies\")"
   ]
  },
  {
   "cell_type": "code",
   "execution_count": 39,
   "metadata": {
    "vscode": {
     "languageId": "r"
    }
   },
   "outputs": [
    {
     "name": "stderr",
     "output_type": "stream",
     "text": [
      "Warning message:\n",
      "\"package 'fastDummies' was built under R version 4.3.3\"\n"
     ]
    }
   ],
   "source": [
    "library(fastDummies)"
   ]
  },
  {
   "cell_type": "code",
   "execution_count": 55,
   "metadata": {
    "vscode": {
     "languageId": "r"
    }
   },
   "outputs": [],
   "source": [
    "dirmkt = dummy_cols(dirmkt,select_columns = c(\"Age\",\"Location\"))"
   ]
  },
  {
   "cell_type": "code",
   "execution_count": 56,
   "metadata": {
    "vscode": {
     "languageId": "r"
    }
   },
   "outputs": [
    {
     "data": {
      "text/html": [
       "<table class=\"dataframe\">\n",
       "<caption>A data.frame: 6 × 15</caption>\n",
       "<thead>\n",
       "\t<tr><th></th><th scope=col>Age</th><th scope=col>Gender</th><th scope=col>OwnHome</th><th scope=col>Married</th><th scope=col>Location</th><th scope=col>Salary</th><th scope=col>Children</th><th scope=col>History</th><th scope=col>Catalogs</th><th scope=col>AmountSpent</th><th scope=col>Age_Middle</th><th scope=col>Age_Old</th><th scope=col>Age_Young</th><th scope=col>Location_Close</th><th scope=col>Location_Far</th></tr>\n",
       "\t<tr><th></th><th scope=col>&lt;chr&gt;</th><th scope=col>&lt;chr&gt;</th><th scope=col>&lt;chr&gt;</th><th scope=col>&lt;chr&gt;</th><th scope=col>&lt;chr&gt;</th><th scope=col>&lt;int&gt;</th><th scope=col>&lt;int&gt;</th><th scope=col>&lt;chr&gt;</th><th scope=col>&lt;int&gt;</th><th scope=col>&lt;dbl&gt;</th><th scope=col>&lt;int&gt;</th><th scope=col>&lt;int&gt;</th><th scope=col>&lt;int&gt;</th><th scope=col>&lt;int&gt;</th><th scope=col>&lt;int&gt;</th></tr>\n",
       "</thead>\n",
       "<tbody>\n",
       "\t<tr><th scope=row>1</th><td>Old   </td><td>Female</td><td>Own </td><td>Single </td><td>Far  </td><td>47500</td><td>0</td><td>High</td><td> 6</td><td> 75.5</td><td>0</td><td>1</td><td>0</td><td>0</td><td>1</td></tr>\n",
       "\t<tr><th scope=row>2</th><td>Middle</td><td>Male  </td><td>Rent</td><td>Single </td><td>Close</td><td>63600</td><td>0</td><td>High</td><td> 6</td><td>131.8</td><td>1</td><td>0</td><td>0</td><td>1</td><td>0</td></tr>\n",
       "\t<tr><th scope=row>3</th><td>Young </td><td>Female</td><td>Rent</td><td>Single </td><td>Close</td><td>13500</td><td>0</td><td>Low </td><td>18</td><td> 29.6</td><td>0</td><td>0</td><td>1</td><td>1</td><td>0</td></tr>\n",
       "\t<tr><th scope=row>4</th><td>Middle</td><td>Male  </td><td>Own </td><td>Married</td><td>Close</td><td>85600</td><td>1</td><td>High</td><td>18</td><td>243.6</td><td>1</td><td>0</td><td>0</td><td>1</td><td>0</td></tr>\n",
       "\t<tr><th scope=row>5</th><td>Middle</td><td>Female</td><td>Own </td><td>Single </td><td>Close</td><td>68400</td><td>0</td><td>High</td><td>12</td><td>130.4</td><td>1</td><td>0</td><td>0</td><td>1</td><td>0</td></tr>\n",
       "\t<tr><th scope=row>6</th><td>Young </td><td>Male  </td><td>Own </td><td>Married</td><td>Close</td><td>30400</td><td>0</td><td>Low </td><td> 6</td><td> 49.5</td><td>0</td><td>0</td><td>1</td><td>1</td><td>0</td></tr>\n",
       "</tbody>\n",
       "</table>\n"
      ],
      "text/latex": [
       "A data.frame: 6 × 15\n",
       "\\begin{tabular}{r|lllllllllllllll}\n",
       "  & Age & Gender & OwnHome & Married & Location & Salary & Children & History & Catalogs & AmountSpent & Age\\_Middle & Age\\_Old & Age\\_Young & Location\\_Close & Location\\_Far\\\\\n",
       "  & <chr> & <chr> & <chr> & <chr> & <chr> & <int> & <int> & <chr> & <int> & <dbl> & <int> & <int> & <int> & <int> & <int>\\\\\n",
       "\\hline\n",
       "\t1 & Old    & Female & Own  & Single  & Far   & 47500 & 0 & High &  6 &  75.5 & 0 & 1 & 0 & 0 & 1\\\\\n",
       "\t2 & Middle & Male   & Rent & Single  & Close & 63600 & 0 & High &  6 & 131.8 & 1 & 0 & 0 & 1 & 0\\\\\n",
       "\t3 & Young  & Female & Rent & Single  & Close & 13500 & 0 & Low  & 18 &  29.6 & 0 & 0 & 1 & 1 & 0\\\\\n",
       "\t4 & Middle & Male   & Own  & Married & Close & 85600 & 1 & High & 18 & 243.6 & 1 & 0 & 0 & 1 & 0\\\\\n",
       "\t5 & Middle & Female & Own  & Single  & Close & 68400 & 0 & High & 12 & 130.4 & 1 & 0 & 0 & 1 & 0\\\\\n",
       "\t6 & Young  & Male   & Own  & Married & Close & 30400 & 0 & Low  &  6 &  49.5 & 0 & 0 & 1 & 1 & 0\\\\\n",
       "\\end{tabular}\n"
      ],
      "text/markdown": [
       "\n",
       "A data.frame: 6 × 15\n",
       "\n",
       "| <!--/--> | Age &lt;chr&gt; | Gender &lt;chr&gt; | OwnHome &lt;chr&gt; | Married &lt;chr&gt; | Location &lt;chr&gt; | Salary &lt;int&gt; | Children &lt;int&gt; | History &lt;chr&gt; | Catalogs &lt;int&gt; | AmountSpent &lt;dbl&gt; | Age_Middle &lt;int&gt; | Age_Old &lt;int&gt; | Age_Young &lt;int&gt; | Location_Close &lt;int&gt; | Location_Far &lt;int&gt; |\n",
       "|---|---|---|---|---|---|---|---|---|---|---|---|---|---|---|---|\n",
       "| 1 | Old    | Female | Own  | Single  | Far   | 47500 | 0 | High |  6 |  75.5 | 0 | 1 | 0 | 0 | 1 |\n",
       "| 2 | Middle | Male   | Rent | Single  | Close | 63600 | 0 | High |  6 | 131.8 | 1 | 0 | 0 | 1 | 0 |\n",
       "| 3 | Young  | Female | Rent | Single  | Close | 13500 | 0 | Low  | 18 |  29.6 | 0 | 0 | 1 | 1 | 0 |\n",
       "| 4 | Middle | Male   | Own  | Married | Close | 85600 | 1 | High | 18 | 243.6 | 1 | 0 | 0 | 1 | 0 |\n",
       "| 5 | Middle | Female | Own  | Single  | Close | 68400 | 0 | High | 12 | 130.4 | 1 | 0 | 0 | 1 | 0 |\n",
       "| 6 | Young  | Male   | Own  | Married | Close | 30400 | 0 | Low  |  6 |  49.5 | 0 | 0 | 1 | 1 | 0 |\n",
       "\n"
      ],
      "text/plain": [
       "  Age    Gender OwnHome Married Location Salary Children History Catalogs\n",
       "1 Old    Female Own     Single  Far      47500  0        High     6      \n",
       "2 Middle Male   Rent    Single  Close    63600  0        High     6      \n",
       "3 Young  Female Rent    Single  Close    13500  0        Low     18      \n",
       "4 Middle Male   Own     Married Close    85600  1        High    18      \n",
       "5 Middle Female Own     Single  Close    68400  0        High    12      \n",
       "6 Young  Male   Own     Married Close    30400  0        Low      6      \n",
       "  AmountSpent Age_Middle Age_Old Age_Young Location_Close Location_Far\n",
       "1  75.5       0          1       0         0              1           \n",
       "2 131.8       1          0       0         1              0           \n",
       "3  29.6       0          0       1         1              0           \n",
       "4 243.6       1          0       0         1              0           \n",
       "5 130.4       1          0       0         1              0           \n",
       "6  49.5       0          0       1         1              0           "
      ]
     },
     "metadata": {},
     "output_type": "display_data"
    }
   ],
   "source": [
    "head(dirmkt)\n",
    "#tells you the scheme used\n",
    "#contrasts(dirmkt$Gender)"
   ]
  },
  {
   "cell_type": "code",
   "execution_count": 48,
   "metadata": {
    "vscode": {
     "languageId": "r"
    }
   },
   "outputs": [
    {
     "data": {
      "text/plain": [
       "\n",
       "Call:\n",
       "lm(formula = AmountSpent ~ Age_Middle + Age_Old, data = dirmkt)\n",
       "\n",
       "Residuals:\n",
       "    Min      1Q  Median      3Q     Max \n",
       "-136.71  -54.61  -15.21   39.06  478.49 \n",
       "\n",
       "Coefficients:\n",
       "            Estimate Std. Error t value Pr(>|t|)    \n",
       "(Intercept)   55.862      5.112   10.93   <2e-16 ***\n",
       "Age_Middle    94.307      6.395   14.75   <2e-16 ***\n",
       "Age_Old       87.350      7.919   11.03   <2e-16 ***\n",
       "---\n",
       "Signif. codes:  0 '***' 0.001 '**' 0.01 '*' 0.05 '.' 0.1 ' ' 1\n",
       "\n",
       "Residual standard error: 86.6 on 997 degrees of freedom\n",
       "Multiple R-squared:  0.1897,\tAdjusted R-squared:  0.1881 \n",
       "F-statistic: 116.7 on 2 and 997 DF,  p-value: < 2.2e-16\n"
      ]
     },
     "metadata": {},
     "output_type": "display_data"
    }
   ],
   "source": [
    "indicator_lm = lm(AmountSpent ~ Age_Middle+Age_Old,data=dirmkt)\n",
    "summary(indicator_lm)"
   ]
  },
  {
   "cell_type": "code",
   "execution_count": 54,
   "metadata": {
    "vscode": {
     "languageId": "r"
    }
   },
   "outputs": [
    {
     "data": {
      "text/plain": [
       "\n",
       "Call:\n",
       "lm(formula = AmountSpent ~ Age_Middle + Age_Old + Salary, data = dirmkt)\n",
       "\n",
       "Residuals:\n",
       "    Min      1Q  Median      3Q     Max \n",
       "-243.45  -34.74   -5.08   27.82  352.06 \n",
       "\n",
       "Coefficients:\n",
       "              Estimate Std. Error t value Pr(>|t|)    \n",
       "(Intercept) -6.118e+00  4.715e+00  -1.298 0.194673    \n",
       "Age_Middle  -4.808e+00  6.394e+00  -0.752 0.452290    \n",
       "Age_Old      2.328e+01  6.720e+00   3.464 0.000554 ***\n",
       "Salary       2.236e-03  8.949e-05  24.991  < 2e-16 ***\n",
       "---\n",
       "Signif. codes:  0 '***' 0.001 '**' 0.01 '*' 0.05 '.' 0.1 ' ' 1\n",
       "\n",
       "Residual standard error: 67.92 on 996 degrees of freedom\n",
       "Multiple R-squared:  0.502,\tAdjusted R-squared:  0.5005 \n",
       "F-statistic: 334.7 on 3 and 996 DF,  p-value: < 2.2e-16\n"
      ]
     },
     "metadata": {},
     "output_type": "display_data"
    }
   ],
   "source": [
    "indicator_salary_lm = lm(AmountSpent ~ Age_Middle+Age_Old+Salary,data=dirmkt)\n",
    "summary(indicator_salary_lm)"
   ]
  },
  {
   "cell_type": "code",
   "execution_count": 57,
   "metadata": {
    "vscode": {
     "languageId": "r"
    }
   },
   "outputs": [
    {
     "data": {
      "text/plain": [
       "\n",
       "Call:\n",
       "lm(formula = AmountSpent ~ Location_Far + Salary, data = dirmkt)\n",
       "\n",
       "Residuals:\n",
       "    Min      1Q  Median      3Q     Max \n",
       "-204.50  -37.45   -0.65   26.17  331.52 \n",
       "\n",
       "Coefficients:\n",
       "               Estimate Std. Error t value Pr(>|t|)    \n",
       "(Intercept)  -2.048e+01  4.413e+00  -4.641 3.93e-06 ***\n",
       "Location_Far  5.906e+01  4.414e+00  13.380  < 2e-16 ***\n",
       "Salary        2.229e-03  6.545e-05  34.050  < 2e-16 ***\n",
       "---\n",
       "Signif. codes:  0 '***' 0.001 '**' 0.01 '*' 0.05 '.' 0.1 ' ' 1\n",
       "\n",
       "Residual standard error: 63.29 on 997 degrees of freedom\n",
       "Multiple R-squared:  0.5672,\tAdjusted R-squared:  0.5663 \n",
       "F-statistic: 653.2 on 2 and 997 DF,  p-value: < 2.2e-16\n"
      ]
     },
     "metadata": {},
     "output_type": "display_data"
    }
   ],
   "source": [
    "location_salary_lm = lm(AmountSpent ~ Location_Far+Salary,data=dirmkt)\n",
    "summary(location_salary_lm)"
   ]
  },
  {
   "cell_type": "code",
   "execution_count": 59,
   "metadata": {
    "vscode": {
     "languageId": "r"
    }
   },
   "outputs": [],
   "source": [
    "dirmkt$SalaryFar = dirmkt$Salary * dirmkt$Location_Far"
   ]
  },
  {
   "cell_type": "code",
   "execution_count": 60,
   "metadata": {
    "vscode": {
     "languageId": "r"
    }
   },
   "outputs": [
    {
     "data": {
      "text/plain": [
       "\n",
       "Call:\n",
       "lm(formula = AmountSpent ~ Location_Far + Salary + SalaryFar, \n",
       "    data = dirmkt)\n",
       "\n",
       "Residuals:\n",
       "     Min       1Q   Median       3Q      Max \n",
       "-177.242  -31.231   -4.278   24.047  276.980 \n",
       "\n",
       "Coefficients:\n",
       "               Estimate Std. Error t value Pr(>|t|)    \n",
       "(Intercept)   1.448e+00  4.808e+00   0.301    0.763    \n",
       "Location_Far -1.346e+01  8.680e+00  -1.550    0.121    \n",
       "Salary        1.843e-03  7.453e-05  24.723   <2e-16 ***\n",
       "SalaryFar     1.317e-03  1.377e-04   9.565   <2e-16 ***\n",
       "---\n",
       "Signif. codes:  0 '***' 0.001 '**' 0.01 '*' 0.05 '.' 0.1 ' ' 1\n",
       "\n",
       "Residual standard error: 60.6 on 996 degrees of freedom\n",
       "Multiple R-squared:  0.6036,\tAdjusted R-squared:  0.6024 \n",
       "F-statistic: 505.5 on 3 and 996 DF,  p-value: < 2.2e-16\n"
      ]
     },
     "metadata": {},
     "output_type": "display_data"
    }
   ],
   "source": [
    "location_salary__interaction_lm = lm(AmountSpent ~ Location_Far+Salary+SalaryFar,data=dirmkt)\n",
    "summary(location_salary__interaction_lm)"
   ]
  }
 ],
 "metadata": {
  "kernelspec": {
   "display_name": "R",
   "language": "R",
   "name": "ir"
  },
  "language_info": {
   "codemirror_mode": "r",
   "file_extension": ".r",
   "mimetype": "text/x-r-source",
   "name": "R",
   "pygments_lexer": "r",
   "version": "4.3.2"
  }
 },
 "nbformat": 4,
 "nbformat_minor": 2
}
