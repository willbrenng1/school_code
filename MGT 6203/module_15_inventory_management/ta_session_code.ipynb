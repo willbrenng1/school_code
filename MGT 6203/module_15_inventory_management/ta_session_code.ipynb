{
 "cells": [
  {
   "cell_type": "code",
   "execution_count": 6,
   "metadata": {
    "vscode": {
     "languageId": "r"
    }
   },
   "outputs": [],
   "source": [
    "library(tidyverse)"
   ]
  },
  {
   "cell_type": "code",
   "execution_count": 4,
   "metadata": {
    "vscode": {
     "languageId": "r"
    }
   },
   "outputs": [
    {
     "data": {
      "text/html": [
       "<table class=\"dataframe\">\n",
       "<caption>A data.frame: 6 × 15</caption>\n",
       "<thead>\n",
       "\t<tr><th></th><th scope=col>id</th><th scope=col>week</th><th scope=col>center_id</th><th scope=col>checkout_price</th><th scope=col>base_price</th><th scope=col>emailer_for_promotion</th><th scope=col>homepage_featured</th><th scope=col>num_orders</th><th scope=col>meal_id</th><th scope=col>category</th><th scope=col>cuisine</th><th scope=col>city_code</th><th scope=col>region_code</th><th scope=col>center_type</th><th scope=col>op_area</th></tr>\n",
       "\t<tr><th></th><th scope=col>&lt;int&gt;</th><th scope=col>&lt;int&gt;</th><th scope=col>&lt;int&gt;</th><th scope=col>&lt;dbl&gt;</th><th scope=col>&lt;dbl&gt;</th><th scope=col>&lt;int&gt;</th><th scope=col>&lt;int&gt;</th><th scope=col>&lt;int&gt;</th><th scope=col>&lt;int&gt;</th><th scope=col>&lt;chr&gt;</th><th scope=col>&lt;chr&gt;</th><th scope=col>&lt;int&gt;</th><th scope=col>&lt;int&gt;</th><th scope=col>&lt;chr&gt;</th><th scope=col>&lt;dbl&gt;</th></tr>\n",
       "</thead>\n",
       "<tbody>\n",
       "\t<tr><th scope=row>1</th><td>1033240</td><td>109</td><td>10</td><td>583.00</td><td>584.00</td><td>0</td><td>0</td><td>485</td><td>2956</td><td>Fish   </td><td>Continental</td><td>590</td><td>56</td><td>TYPE_B</td><td>6.3</td></tr>\n",
       "\t<tr><th scope=row>2</th><td>1264380</td><td>108</td><td>10</td><td>670.33</td><td>670.33</td><td>0</td><td>0</td><td> 94</td><td>2867</td><td>Seafood</td><td>Continental</td><td>590</td><td>56</td><td>TYPE_B</td><td>6.3</td></tr>\n",
       "\t<tr><th scope=row>3</th><td>1133093</td><td>115</td><td>10</td><td>687.73</td><td>689.73</td><td>0</td><td>0</td><td>161</td><td>2867</td><td>Seafood</td><td>Continental</td><td>590</td><td>56</td><td>TYPE_B</td><td>6.3</td></tr>\n",
       "\t<tr><th scope=row>4</th><td>1329545</td><td> 63</td><td>10</td><td>618.89</td><td>617.89</td><td>0</td><td>0</td><td> 80</td><td>2867</td><td>Seafood</td><td>Continental</td><td>590</td><td>56</td><td>TYPE_B</td><td>6.3</td></tr>\n",
       "\t<tr><th scope=row>5</th><td>1249888</td><td>131</td><td>10</td><td>727.53</td><td>727.53</td><td>0</td><td>0</td><td> 82</td><td>2867</td><td>Seafood</td><td>Continental</td><td>590</td><td>56</td><td>TYPE_B</td><td>6.3</td></tr>\n",
       "\t<tr><th scope=row>6</th><td>1177302</td><td> 65</td><td>10</td><td>485.03</td><td>609.19</td><td>1</td><td>1</td><td>460</td><td>2867</td><td>Seafood</td><td>Continental</td><td>590</td><td>56</td><td>TYPE_B</td><td>6.3</td></tr>\n",
       "</tbody>\n",
       "</table>\n"
      ],
      "text/latex": [
       "A data.frame: 6 × 15\n",
       "\\begin{tabular}{r|lllllllllllllll}\n",
       "  & id & week & center\\_id & checkout\\_price & base\\_price & emailer\\_for\\_promotion & homepage\\_featured & num\\_orders & meal\\_id & category & cuisine & city\\_code & region\\_code & center\\_type & op\\_area\\\\\n",
       "  & <int> & <int> & <int> & <dbl> & <dbl> & <int> & <int> & <int> & <int> & <chr> & <chr> & <int> & <int> & <chr> & <dbl>\\\\\n",
       "\\hline\n",
       "\t1 & 1033240 & 109 & 10 & 583.00 & 584.00 & 0 & 0 & 485 & 2956 & Fish    & Continental & 590 & 56 & TYPE\\_B & 6.3\\\\\n",
       "\t2 & 1264380 & 108 & 10 & 670.33 & 670.33 & 0 & 0 &  94 & 2867 & Seafood & Continental & 590 & 56 & TYPE\\_B & 6.3\\\\\n",
       "\t3 & 1133093 & 115 & 10 & 687.73 & 689.73 & 0 & 0 & 161 & 2867 & Seafood & Continental & 590 & 56 & TYPE\\_B & 6.3\\\\\n",
       "\t4 & 1329545 &  63 & 10 & 618.89 & 617.89 & 0 & 0 &  80 & 2867 & Seafood & Continental & 590 & 56 & TYPE\\_B & 6.3\\\\\n",
       "\t5 & 1249888 & 131 & 10 & 727.53 & 727.53 & 0 & 0 &  82 & 2867 & Seafood & Continental & 590 & 56 & TYPE\\_B & 6.3\\\\\n",
       "\t6 & 1177302 &  65 & 10 & 485.03 & 609.19 & 1 & 1 & 460 & 2867 & Seafood & Continental & 590 & 56 & TYPE\\_B & 6.3\\\\\n",
       "\\end{tabular}\n"
      ],
      "text/markdown": [
       "\n",
       "A data.frame: 6 × 15\n",
       "\n",
       "| <!--/--> | id &lt;int&gt; | week &lt;int&gt; | center_id &lt;int&gt; | checkout_price &lt;dbl&gt; | base_price &lt;dbl&gt; | emailer_for_promotion &lt;int&gt; | homepage_featured &lt;int&gt; | num_orders &lt;int&gt; | meal_id &lt;int&gt; | category &lt;chr&gt; | cuisine &lt;chr&gt; | city_code &lt;int&gt; | region_code &lt;int&gt; | center_type &lt;chr&gt; | op_area &lt;dbl&gt; |\n",
       "|---|---|---|---|---|---|---|---|---|---|---|---|---|---|---|---|\n",
       "| 1 | 1033240 | 109 | 10 | 583.00 | 584.00 | 0 | 0 | 485 | 2956 | Fish    | Continental | 590 | 56 | TYPE_B | 6.3 |\n",
       "| 2 | 1264380 | 108 | 10 | 670.33 | 670.33 | 0 | 0 |  94 | 2867 | Seafood | Continental | 590 | 56 | TYPE_B | 6.3 |\n",
       "| 3 | 1133093 | 115 | 10 | 687.73 | 689.73 | 0 | 0 | 161 | 2867 | Seafood | Continental | 590 | 56 | TYPE_B | 6.3 |\n",
       "| 4 | 1329545 |  63 | 10 | 618.89 | 617.89 | 0 | 0 |  80 | 2867 | Seafood | Continental | 590 | 56 | TYPE_B | 6.3 |\n",
       "| 5 | 1249888 | 131 | 10 | 727.53 | 727.53 | 0 | 0 |  82 | 2867 | Seafood | Continental | 590 | 56 | TYPE_B | 6.3 |\n",
       "| 6 | 1177302 |  65 | 10 | 485.03 | 609.19 | 1 | 1 | 460 | 2867 | Seafood | Continental | 590 | 56 | TYPE_B | 6.3 |\n",
       "\n"
      ],
      "text/plain": [
       "  id      week center_id checkout_price base_price emailer_for_promotion\n",
       "1 1033240 109  10        583.00         584.00     0                    \n",
       "2 1264380 108  10        670.33         670.33     0                    \n",
       "3 1133093 115  10        687.73         689.73     0                    \n",
       "4 1329545  63  10        618.89         617.89     0                    \n",
       "5 1249888 131  10        727.53         727.53     0                    \n",
       "6 1177302  65  10        485.03         609.19     1                    \n",
       "  homepage_featured num_orders meal_id category cuisine     city_code\n",
       "1 0                 485        2956    Fish     Continental 590      \n",
       "2 0                  94        2867    Seafood  Continental 590      \n",
       "3 0                 161        2867    Seafood  Continental 590      \n",
       "4 0                  80        2867    Seafood  Continental 590      \n",
       "5 0                  82        2867    Seafood  Continental 590      \n",
       "6 1                 460        2867    Seafood  Continental 590      \n",
       "  region_code center_type op_area\n",
       "1 56          TYPE_B      6.3    \n",
       "2 56          TYPE_B      6.3    \n",
       "3 56          TYPE_B      6.3    \n",
       "4 56          TYPE_B      6.3    \n",
       "5 56          TYPE_B      6.3    \n",
       "6 56          TYPE_B      6.3    "
      ]
     },
     "metadata": {},
     "output_type": "display_data"
    }
   ],
   "source": [
    "df <- read.csv( \"meal_orders.csv\")\n",
    "\n",
    "head(df)"
   ]
  },
  {
   "cell_type": "markdown",
   "metadata": {},
   "source": [
    "To find out annual demand, we sum number of orders from different centers, calculate the average weekly demand for each meal, and order them by the annual demand which is weekly demand *52. "
   ]
  },
  {
   "cell_type": "code",
   "execution_count": 5,
   "metadata": {
    "vscode": {
     "languageId": "r"
    }
   },
   "outputs": [
    {
     "data": {
      "text/html": [
       "<table class=\"dataframe\">\n",
       "<caption>A tibble: 51 × 3</caption>\n",
       "<thead>\n",
       "\t<tr><th scope=col>meal_id</th><th scope=col>weekly_demand</th><th scope=col>annual_demand</th></tr>\n",
       "\t<tr><th scope=col>&lt;int&gt;</th><th scope=col>&lt;dbl&gt;</th><th scope=col>&lt;dbl&gt;</th></tr>\n",
       "</thead>\n",
       "<tbody>\n",
       "\t<tr><td>2290</td><td>67381.400</td><td>3503832.80</td></tr>\n",
       "\t<tr><td>1885</td><td>57560.317</td><td>2993136.50</td></tr>\n",
       "\t<tr><td>1754</td><td>47021.097</td><td>2445097.02</td></tr>\n",
       "\t<tr><td>1993</td><td>45909.352</td><td>2387286.29</td></tr>\n",
       "\t<tr><td>1109</td><td>43915.676</td><td>2283615.14</td></tr>\n",
       "\t<tr><td>2707</td><td>40915.807</td><td>2127621.96</td></tr>\n",
       "\t<tr><td>1971</td><td>39507.724</td><td>2054401.66</td></tr>\n",
       "\t<tr><td>2826</td><td>35104.159</td><td>1825416.25</td></tr>\n",
       "\t<tr><td>1727</td><td>32661.979</td><td>1698422.92</td></tr>\n",
       "\t<tr><td>1062</td><td>32502.034</td><td>1690105.79</td></tr>\n",
       "\t<tr><td>2490</td><td>29673.000</td><td>1542996.00</td></tr>\n",
       "\t<tr><td>2664</td><td>29329.414</td><td>1525129.50</td></tr>\n",
       "\t<tr><td>2569</td><td>25848.054</td><td>1344098.82</td></tr>\n",
       "\t<tr><td>1778</td><td>22816.434</td><td>1186454.59</td></tr>\n",
       "\t<tr><td>1962</td><td>22315.724</td><td>1160417.66</td></tr>\n",
       "\t<tr><td>2539</td><td>22307.090</td><td>1159968.66</td></tr>\n",
       "\t<tr><td>2581</td><td>16544.828</td><td> 860331.03</td></tr>\n",
       "\t<tr><td>2322</td><td>15849.800</td><td> 824189.60</td></tr>\n",
       "\t<tr><td>2640</td><td>14381.793</td><td> 747853.24</td></tr>\n",
       "\t<tr><td>1230</td><td>12717.028</td><td> 661285.43</td></tr>\n",
       "\t<tr><td>1207</td><td>12419.697</td><td> 645824.22</td></tr>\n",
       "\t<tr><td>1558</td><td>12061.655</td><td> 627206.07</td></tr>\n",
       "\t<tr><td>1525</td><td>11857.779</td><td> 616604.52</td></tr>\n",
       "\t<tr><td>2704</td><td>11109.628</td><td> 577700.63</td></tr>\n",
       "\t<tr><td>1878</td><td>10634.669</td><td> 553002.79</td></tr>\n",
       "\t<tr><td>1311</td><td>10273.662</td><td> 534230.43</td></tr>\n",
       "\t<tr><td>1803</td><td>10186.331</td><td> 529689.21</td></tr>\n",
       "\t<tr><td>2760</td><td> 9903.579</td><td> 514986.12</td></tr>\n",
       "\t<tr><td>2631</td><td> 7518.152</td><td> 390943.89</td></tr>\n",
       "\t<tr><td>1445</td><td> 7304.972</td><td> 379858.57</td></tr>\n",
       "\t<tr><td>2577</td><td> 7046.448</td><td> 366415.31</td></tr>\n",
       "\t<tr><td>1198</td><td> 7022.621</td><td> 365176.28</td></tr>\n",
       "\t<tr><td>2444</td><td> 6500.469</td><td> 338024.39</td></tr>\n",
       "\t<tr><td>1248</td><td> 6032.759</td><td> 313703.45</td></tr>\n",
       "\t<tr><td>1543</td><td> 5455.428</td><td> 283682.23</td></tr>\n",
       "\t<tr><td>2867</td><td> 4923.621</td><td> 256028.28</td></tr>\n",
       "\t<tr><td>1571</td><td> 4654.391</td><td> 242028.32</td></tr>\n",
       "\t<tr><td>2304</td><td> 4202.607</td><td> 218535.56</td></tr>\n",
       "\t<tr><td>2126</td><td> 4121.241</td><td> 214304.55</td></tr>\n",
       "\t<tr><td>2492</td><td> 3726.476</td><td> 193776.74</td></tr>\n",
       "\t<tr><td>1216</td><td> 3679.752</td><td> 191347.09</td></tr>\n",
       "\t<tr><td>2956</td><td> 3529.540</td><td> 183536.09</td></tr>\n",
       "\t<tr><td>2306</td><td> 3493.793</td><td> 181677.24</td></tr>\n",
       "\t<tr><td>1438</td><td> 2724.717</td><td> 141685.30</td></tr>\n",
       "\t<tr><td>2139</td><td> 2627.566</td><td> 136633.41</td></tr>\n",
       "\t<tr><td>2494</td><td> 2530.531</td><td> 131587.61</td></tr>\n",
       "\t<tr><td>1847</td><td> 1914.724</td><td>  99565.66</td></tr>\n",
       "\t<tr><td>2104</td><td> 1838.586</td><td>  95606.48</td></tr>\n",
       "\t<tr><td>1247</td><td> 1599.290</td><td>  83163.06</td></tr>\n",
       "\t<tr><td>1902</td><td> 1443.048</td><td>  75038.51</td></tr>\n",
       "\t<tr><td>1770</td><td> 1315.234</td><td>  68392.19</td></tr>\n",
       "</tbody>\n",
       "</table>\n"
      ],
      "text/latex": [
       "A tibble: 51 × 3\n",
       "\\begin{tabular}{lll}\n",
       " meal\\_id & weekly\\_demand & annual\\_demand\\\\\n",
       " <int> & <dbl> & <dbl>\\\\\n",
       "\\hline\n",
       "\t 2290 & 67381.400 & 3503832.80\\\\\n",
       "\t 1885 & 57560.317 & 2993136.50\\\\\n",
       "\t 1754 & 47021.097 & 2445097.02\\\\\n",
       "\t 1993 & 45909.352 & 2387286.29\\\\\n",
       "\t 1109 & 43915.676 & 2283615.14\\\\\n",
       "\t 2707 & 40915.807 & 2127621.96\\\\\n",
       "\t 1971 & 39507.724 & 2054401.66\\\\\n",
       "\t 2826 & 35104.159 & 1825416.25\\\\\n",
       "\t 1727 & 32661.979 & 1698422.92\\\\\n",
       "\t 1062 & 32502.034 & 1690105.79\\\\\n",
       "\t 2490 & 29673.000 & 1542996.00\\\\\n",
       "\t 2664 & 29329.414 & 1525129.50\\\\\n",
       "\t 2569 & 25848.054 & 1344098.82\\\\\n",
       "\t 1778 & 22816.434 & 1186454.59\\\\\n",
       "\t 1962 & 22315.724 & 1160417.66\\\\\n",
       "\t 2539 & 22307.090 & 1159968.66\\\\\n",
       "\t 2581 & 16544.828 &  860331.03\\\\\n",
       "\t 2322 & 15849.800 &  824189.60\\\\\n",
       "\t 2640 & 14381.793 &  747853.24\\\\\n",
       "\t 1230 & 12717.028 &  661285.43\\\\\n",
       "\t 1207 & 12419.697 &  645824.22\\\\\n",
       "\t 1558 & 12061.655 &  627206.07\\\\\n",
       "\t 1525 & 11857.779 &  616604.52\\\\\n",
       "\t 2704 & 11109.628 &  577700.63\\\\\n",
       "\t 1878 & 10634.669 &  553002.79\\\\\n",
       "\t 1311 & 10273.662 &  534230.43\\\\\n",
       "\t 1803 & 10186.331 &  529689.21\\\\\n",
       "\t 2760 &  9903.579 &  514986.12\\\\\n",
       "\t 2631 &  7518.152 &  390943.89\\\\\n",
       "\t 1445 &  7304.972 &  379858.57\\\\\n",
       "\t 2577 &  7046.448 &  366415.31\\\\\n",
       "\t 1198 &  7022.621 &  365176.28\\\\\n",
       "\t 2444 &  6500.469 &  338024.39\\\\\n",
       "\t 1248 &  6032.759 &  313703.45\\\\\n",
       "\t 1543 &  5455.428 &  283682.23\\\\\n",
       "\t 2867 &  4923.621 &  256028.28\\\\\n",
       "\t 1571 &  4654.391 &  242028.32\\\\\n",
       "\t 2304 &  4202.607 &  218535.56\\\\\n",
       "\t 2126 &  4121.241 &  214304.55\\\\\n",
       "\t 2492 &  3726.476 &  193776.74\\\\\n",
       "\t 1216 &  3679.752 &  191347.09\\\\\n",
       "\t 2956 &  3529.540 &  183536.09\\\\\n",
       "\t 2306 &  3493.793 &  181677.24\\\\\n",
       "\t 1438 &  2724.717 &  141685.30\\\\\n",
       "\t 2139 &  2627.566 &  136633.41\\\\\n",
       "\t 2494 &  2530.531 &  131587.61\\\\\n",
       "\t 1847 &  1914.724 &   99565.66\\\\\n",
       "\t 2104 &  1838.586 &   95606.48\\\\\n",
       "\t 1247 &  1599.290 &   83163.06\\\\\n",
       "\t 1902 &  1443.048 &   75038.51\\\\\n",
       "\t 1770 &  1315.234 &   68392.19\\\\\n",
       "\\end{tabular}\n"
      ],
      "text/markdown": [
       "\n",
       "A tibble: 51 × 3\n",
       "\n",
       "| meal_id &lt;int&gt; | weekly_demand &lt;dbl&gt; | annual_demand &lt;dbl&gt; |\n",
       "|---|---|---|\n",
       "| 2290 | 67381.400 | 3503832.80 |\n",
       "| 1885 | 57560.317 | 2993136.50 |\n",
       "| 1754 | 47021.097 | 2445097.02 |\n",
       "| 1993 | 45909.352 | 2387286.29 |\n",
       "| 1109 | 43915.676 | 2283615.14 |\n",
       "| 2707 | 40915.807 | 2127621.96 |\n",
       "| 1971 | 39507.724 | 2054401.66 |\n",
       "| 2826 | 35104.159 | 1825416.25 |\n",
       "| 1727 | 32661.979 | 1698422.92 |\n",
       "| 1062 | 32502.034 | 1690105.79 |\n",
       "| 2490 | 29673.000 | 1542996.00 |\n",
       "| 2664 | 29329.414 | 1525129.50 |\n",
       "| 2569 | 25848.054 | 1344098.82 |\n",
       "| 1778 | 22816.434 | 1186454.59 |\n",
       "| 1962 | 22315.724 | 1160417.66 |\n",
       "| 2539 | 22307.090 | 1159968.66 |\n",
       "| 2581 | 16544.828 |  860331.03 |\n",
       "| 2322 | 15849.800 |  824189.60 |\n",
       "| 2640 | 14381.793 |  747853.24 |\n",
       "| 1230 | 12717.028 |  661285.43 |\n",
       "| 1207 | 12419.697 |  645824.22 |\n",
       "| 1558 | 12061.655 |  627206.07 |\n",
       "| 1525 | 11857.779 |  616604.52 |\n",
       "| 2704 | 11109.628 |  577700.63 |\n",
       "| 1878 | 10634.669 |  553002.79 |\n",
       "| 1311 | 10273.662 |  534230.43 |\n",
       "| 1803 | 10186.331 |  529689.21 |\n",
       "| 2760 |  9903.579 |  514986.12 |\n",
       "| 2631 |  7518.152 |  390943.89 |\n",
       "| 1445 |  7304.972 |  379858.57 |\n",
       "| 2577 |  7046.448 |  366415.31 |\n",
       "| 1198 |  7022.621 |  365176.28 |\n",
       "| 2444 |  6500.469 |  338024.39 |\n",
       "| 1248 |  6032.759 |  313703.45 |\n",
       "| 1543 |  5455.428 |  283682.23 |\n",
       "| 2867 |  4923.621 |  256028.28 |\n",
       "| 1571 |  4654.391 |  242028.32 |\n",
       "| 2304 |  4202.607 |  218535.56 |\n",
       "| 2126 |  4121.241 |  214304.55 |\n",
       "| 2492 |  3726.476 |  193776.74 |\n",
       "| 1216 |  3679.752 |  191347.09 |\n",
       "| 2956 |  3529.540 |  183536.09 |\n",
       "| 2306 |  3493.793 |  181677.24 |\n",
       "| 1438 |  2724.717 |  141685.30 |\n",
       "| 2139 |  2627.566 |  136633.41 |\n",
       "| 2494 |  2530.531 |  131587.61 |\n",
       "| 1847 |  1914.724 |   99565.66 |\n",
       "| 2104 |  1838.586 |   95606.48 |\n",
       "| 1247 |  1599.290 |   83163.06 |\n",
       "| 1902 |  1443.048 |   75038.51 |\n",
       "| 1770 |  1315.234 |   68392.19 |\n",
       "\n"
      ],
      "text/plain": [
       "   meal_id weekly_demand annual_demand\n",
       "1  2290    67381.400     3503832.80   \n",
       "2  1885    57560.317     2993136.50   \n",
       "3  1754    47021.097     2445097.02   \n",
       "4  1993    45909.352     2387286.29   \n",
       "5  1109    43915.676     2283615.14   \n",
       "6  2707    40915.807     2127621.96   \n",
       "7  1971    39507.724     2054401.66   \n",
       "8  2826    35104.159     1825416.25   \n",
       "9  1727    32661.979     1698422.92   \n",
       "10 1062    32502.034     1690105.79   \n",
       "11 2490    29673.000     1542996.00   \n",
       "12 2664    29329.414     1525129.50   \n",
       "13 2569    25848.054     1344098.82   \n",
       "14 1778    22816.434     1186454.59   \n",
       "15 1962    22315.724     1160417.66   \n",
       "16 2539    22307.090     1159968.66   \n",
       "17 2581    16544.828      860331.03   \n",
       "18 2322    15849.800      824189.60   \n",
       "19 2640    14381.793      747853.24   \n",
       "20 1230    12717.028      661285.43   \n",
       "21 1207    12419.697      645824.22   \n",
       "22 1558    12061.655      627206.07   \n",
       "23 1525    11857.779      616604.52   \n",
       "24 2704    11109.628      577700.63   \n",
       "25 1878    10634.669      553002.79   \n",
       "26 1311    10273.662      534230.43   \n",
       "27 1803    10186.331      529689.21   \n",
       "28 2760     9903.579      514986.12   \n",
       "29 2631     7518.152      390943.89   \n",
       "30 1445     7304.972      379858.57   \n",
       "31 2577     7046.448      366415.31   \n",
       "32 1198     7022.621      365176.28   \n",
       "33 2444     6500.469      338024.39   \n",
       "34 1248     6032.759      313703.45   \n",
       "35 1543     5455.428      283682.23   \n",
       "36 2867     4923.621      256028.28   \n",
       "37 1571     4654.391      242028.32   \n",
       "38 2304     4202.607      218535.56   \n",
       "39 2126     4121.241      214304.55   \n",
       "40 2492     3726.476      193776.74   \n",
       "41 1216     3679.752      191347.09   \n",
       "42 2956     3529.540      183536.09   \n",
       "43 2306     3493.793      181677.24   \n",
       "44 1438     2724.717      141685.30   \n",
       "45 2139     2627.566      136633.41   \n",
       "46 2494     2530.531      131587.61   \n",
       "47 1847     1914.724       99565.66   \n",
       "48 2104     1838.586       95606.48   \n",
       "49 1247     1599.290       83163.06   \n",
       "50 1902     1443.048       75038.51   \n",
       "51 1770     1315.234       68392.19   "
      ]
     },
     "metadata": {},
     "output_type": "display_data"
    }
   ],
   "source": [
    "df2 = df %>%\n",
    "  group_by(meal_id, category, cuisine, week) %>%\n",
    "  summarise(order_sum = sum(num_orders), .groups = 'drop') %>%\n",
    "  group_by(meal_id) %>%\n",
    "  summarise(weekly_demand = mean(order_sum), .groups = 'drop') %>%\n",
    "  mutate(annual_demand = weekly_demand * 52) %>%\n",
    "  arrange(desc(annual_demand))\n",
    "\n",
    "df2"
   ]
  },
  {
   "cell_type": "code",
   "execution_count": 7,
   "metadata": {
    "vscode": {
     "languageId": "r"
    }
   },
   "outputs": [
    {
     "data": {
      "text/html": [
       "59193.1837292099"
      ],
      "text/latex": [
       "59193.1837292099"
      ],
      "text/markdown": [
       "59193.1837292099"
      ],
      "text/plain": [
       "[1] 59193.18"
      ]
     },
     "metadata": {},
     "output_type": "display_data"
    }
   ],
   "source": [
    "s = 500 # ordering cost\n",
    "h = 1 # average storage cost for the meal\n",
    "d = 3503833 # Annual Demand for Rice Bowls\n",
    "EOQ = sqrt(2 * s * d/h) # Economic Order Quantity\n",
    "EOQ\n",
    "\n"
   ]
  },
  {
   "cell_type": "code",
   "execution_count": null,
   "metadata": {
    "vscode": {
     "languageId": "r"
    }
   },
   "outputs": [
    {
     "data": {
      "text/html": [
       "700825793.183729"
      ],
      "text/latex": [
       "700825793.183729"
      ],
      "text/markdown": [
       "700825793.183729"
      ],
      "text/plain": [
       "[1] 700825793"
      ]
     },
     "metadata": {},
     "output_type": "display_data"
    },
    {
     "data": {
      "text/html": [
       "665790169.182516"
      ],
      "text/latex": [
       "665790169.182516"
      ],
      "text/markdown": [
       "665790169.182516"
      ],
      "text/plain": [
       "[1] 665790169"
      ]
     },
     "metadata": {},
     "output_type": "display_data"
    },
    {
     "data": {
      "text/html": [
       "630764539.682507"
      ],
      "text/latex": [
       "630764539.682507"
      ],
      "text/markdown": [
       "630764539.682507"
      ],
      "text/plain": [
       "[1] 630764540"
      ]
     },
     "metadata": {},
     "output_type": "display_data"
    }
   ],
   "source": [
    "Q1 = EOQ\n",
    "Q2 = 80001\n",
    "Q3 = 120001\n",
    "\n",
    "TC1 = d/Q1*500 + Q1*h/2 + d*200 # Total Cost for Discount 1\n",
    "TC2 = d/Q2*500 + Q2*h/2 + d*190 # Total Cost for Discount 2\n",
    "TC3 = d/Q3*500 + Q3*h/2 + d*180 # Total Cost for Discount 3\n",
    "\n",
    "TC1\n",
    "TC2\n",
    "\n",
    "TC3"
   ]
  },
  {
   "cell_type": "markdown",
   "metadata": {},
   "source": [
    "# Reorder Point Set Up"
   ]
  },
  {
   "cell_type": "code",
   "execution_count": null,
   "metadata": {
    "vscode": {
     "languageId": "r"
    }
   },
   "outputs": [
    {
     "data": {
      "text/html": [
       "<table class=\"dataframe\">\n",
       "<caption>A tibble: 6 × 3</caption>\n",
       "<thead>\n",
       "\t<tr><th scope=col>meal_id</th><th scope=col>week</th><th scope=col>order_sum</th></tr>\n",
       "\t<tr><th scope=col>&lt;int&gt;</th><th scope=col>&lt;int&gt;</th><th scope=col>&lt;int&gt;</th></tr>\n",
       "</thead>\n",
       "<tbody>\n",
       "\t<tr><td>2290</td><td>1</td><td> 45326</td></tr>\n",
       "\t<tr><td>2290</td><td>2</td><td> 37337</td></tr>\n",
       "\t<tr><td>2290</td><td>3</td><td> 41190</td></tr>\n",
       "\t<tr><td>2290</td><td>4</td><td> 45211</td></tr>\n",
       "\t<tr><td>2290</td><td>5</td><td>488252</td></tr>\n",
       "\t<tr><td>2290</td><td>6</td><td>301437</td></tr>\n",
       "</tbody>\n",
       "</table>\n"
      ],
      "text/latex": [
       "A tibble: 6 × 3\n",
       "\\begin{tabular}{lll}\n",
       " meal\\_id & week & order\\_sum\\\\\n",
       " <int> & <int> & <int>\\\\\n",
       "\\hline\n",
       "\t 2290 & 1 &  45326\\\\\n",
       "\t 2290 & 2 &  37337\\\\\n",
       "\t 2290 & 3 &  41190\\\\\n",
       "\t 2290 & 4 &  45211\\\\\n",
       "\t 2290 & 5 & 488252\\\\\n",
       "\t 2290 & 6 & 301437\\\\\n",
       "\\end{tabular}\n"
      ],
      "text/markdown": [
       "\n",
       "A tibble: 6 × 3\n",
       "\n",
       "| meal_id &lt;int&gt; | week &lt;int&gt; | order_sum &lt;int&gt; |\n",
       "|---|---|---|\n",
       "| 2290 | 1 |  45326 |\n",
       "| 2290 | 2 |  37337 |\n",
       "| 2290 | 3 |  41190 |\n",
       "| 2290 | 4 |  45211 |\n",
       "| 2290 | 5 | 488252 |\n",
       "| 2290 | 6 | 301437 |\n",
       "\n"
      ],
      "text/plain": [
       "  meal_id week order_sum\n",
       "1 2290    1     45326   \n",
       "2 2290    2     37337   \n",
       "3 2290    3     41190   \n",
       "4 2290    4     45211   \n",
       "5 2290    5    488252   \n",
       "6 2290    6    301437   "
      ]
     },
     "metadata": {},
     "output_type": "display_data"
    },
    {
     "data": {
      "text/html": [
       "60641.916250162"
      ],
      "text/latex": [
       "60641.916250162"
      ],
      "text/markdown": [
       "60641.916250162"
      ],
      "text/plain": [
       "[1] 60641.92"
      ]
     },
     "metadata": {},
     "output_type": "display_data"
    },
    {
     "data": {
      "text/html": [
       "67381.4"
      ],
      "text/latex": [
       "67381.4"
      ],
      "text/markdown": [
       "67381.4"
      ],
      "text/plain": [
       "[1] 67381.4"
      ]
     },
     "metadata": {},
     "output_type": "display_data"
    }
   ],
   "source": [
    "\n",
    "df3 <- df %>%\n",
    "  filter(meal_id == 2290) %>%\n",
    "  group_by(meal_id, week) %>%\n",
    "  summarise(order_sum = sum(num_orders), .groups = 'drop')\n",
    "\n",
    "head(df3)\n",
    "sd(df3$order_sum)\n",
    "mean(df3$order_sum)\n"
   ]
  },
  {
   "cell_type": "markdown",
   "metadata": {},
   "source": [
    "\n",
    "# ROP: Reorder Point\n",
    "\n",
    "ROP = Expected Demand During Leading Time + $Z\\sigma_D(LT)^{0.5}$\n",
    "\n",
    "It usually takes 3 weeks for the manufacturer to ship the meals ordered.  With the given data, estimate the reorder point for meal 2290 if it is expected to be in-stock for 90% of the time.  (Z=1.28)\n",
    "\n"
   ]
  },
  {
   "cell_type": "code",
   "execution_count": 11,
   "metadata": {
    "vscode": {
     "languageId": "r"
    }
   },
   "outputs": [
    {
     "data": {
      "text/html": [
       "336588.84641743"
      ],
      "text/latex": [
       "336588.84641743"
      ],
      "text/markdown": [
       "336588.84641743"
      ],
      "text/plain": [
       "[1] 336588.8"
      ]
     },
     "metadata": {},
     "output_type": "display_data"
    }
   ],
   "source": [
    "ROP = mean(df3$order_sum) * 3 + 1.28 * sd(df3$order_sum) * sqrt(3)\n",
    "ROP # meal id 2290 is 336,589 units"
   ]
  },
  {
   "cell_type": "code",
   "execution_count": 13,
   "metadata": {
    "vscode": {
     "languageId": "r"
    }
   },
   "outputs": [
    {
     "data": {
      "text/html": [
       "202144.2"
      ],
      "text/latex": [
       "202144.2"
      ],
      "text/markdown": [
       "202144.2"
      ],
      "text/plain": [
       "[1] 202144.2"
      ]
     },
     "metadata": {},
     "output_type": "display_data"
    },
    {
     "data": {
      "text/html": [
       "134444.64641743"
      ],
      "text/latex": [
       "134444.64641743"
      ],
      "text/markdown": [
       "134444.64641743"
      ],
      "text/plain": [
       "[1] 134444.6"
      ]
     },
     "metadata": {},
     "output_type": "display_data"
    }
   ],
   "source": [
    "mean(df3$order_sum) * 3\n",
    "\n",
    "1.28 * sd(df3$order_sum) * sqrt(3)"
   ]
  }
 ],
 "metadata": {
  "language_info": {
   "name": "python"
  }
 },
 "nbformat": 4,
 "nbformat_minor": 2
}
