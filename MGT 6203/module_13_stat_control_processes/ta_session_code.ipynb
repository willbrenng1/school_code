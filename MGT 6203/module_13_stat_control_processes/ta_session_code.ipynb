{
 "cells": [
  {
   "cell_type": "markdown",
   "metadata": {},
   "source": [
    "In this code we will build an X-Bar Chart and R Chart to monitor process variations for a company manufacturing electrical components.\n",
    "\n",
    "Rebecca manages a process to manufactures wires that need with be within a certain measurement in millimeters.\n",
    "Rebecca takes 5 wire measurements daily for one month to monitor the process.\n",
    "\n",
    "Additional Reference: <https://r-bar.net/xmr-control-chart-tutorial-examples/>\n",
    "\n",
    "We will begin by loading packages."
   ]
  },
  {
   "cell_type": "code",
   "execution_count": 3,
   "metadata": {
    "vscode": {
     "languageId": "r"
    }
   },
   "outputs": [
    {
     "name": "stderr",
     "output_type": "stream",
     "text": [
      "Warning message:\n",
      "\"package 'ggQC' was built under R version 4.3.3\"\n"
     ]
    },
    {
     "name": "stderr",
     "output_type": "stream",
     "text": [
      "Warning message:\n",
      "\"package 'ggplot2' was built under R version 4.3.3\"\n"
     ]
    }
   ],
   "source": [
    "library(ggQC) \n",
    "library(ggplot2)\n",
    "library(stats)"
   ]
  },
  {
   "cell_type": "markdown",
   "metadata": {},
   "source": [
    "Load the daily wire measurement data.\n",
    "The data contains 5 measurements (observed values) for 31 days."
   ]
  },
  {
   "cell_type": "code",
   "execution_count": 4,
   "metadata": {
    "vscode": {
     "languageId": "r"
    }
   },
   "outputs": [
    {
     "data": {
      "text/html": [
       "<table class=\"dataframe\">\n",
       "<caption>A data.frame: 6 × 6</caption>\n",
       "<thead>\n",
       "\t<tr><th></th><th scope=col>Day_Of_Month</th><th scope=col>Measurement_1</th><th scope=col>Measurement_2</th><th scope=col>Measurement_3</th><th scope=col>Measurement_4</th><th scope=col>Measurement_5</th></tr>\n",
       "\t<tr><th></th><th scope=col>&lt;int&gt;</th><th scope=col>&lt;dbl&gt;</th><th scope=col>&lt;dbl&gt;</th><th scope=col>&lt;dbl&gt;</th><th scope=col>&lt;dbl&gt;</th><th scope=col>&lt;dbl&gt;</th></tr>\n",
       "</thead>\n",
       "<tbody>\n",
       "\t<tr><th scope=row>1</th><td>1</td><td> 8.07</td><td> 9.12</td><td> 9.94</td><td>10.62</td><td> 9.10</td></tr>\n",
       "\t<tr><th scope=row>2</th><td>2</td><td> 8.43</td><td>10.75</td><td>10.87</td><td>10.89</td><td> 9.38</td></tr>\n",
       "\t<tr><th scope=row>3</th><td>3</td><td> 9.14</td><td>10.08</td><td> 8.90</td><td> 8.50</td><td>10.72</td></tr>\n",
       "\t<tr><th scope=row>4</th><td>4</td><td> 8.50</td><td>10.23</td><td> 9.29</td><td> 9.05</td><td>11.00</td></tr>\n",
       "\t<tr><th scope=row>5</th><td>5</td><td> 8.33</td><td> 8.65</td><td>10.35</td><td> 8.33</td><td> 8.24</td></tr>\n",
       "\t<tr><th scope=row>6</th><td>6</td><td>10.15</td><td> 9.92</td><td> 9.15</td><td> 8.42</td><td> 9.48</td></tr>\n",
       "</tbody>\n",
       "</table>\n"
      ],
      "text/latex": [
       "A data.frame: 6 × 6\n",
       "\\begin{tabular}{r|llllll}\n",
       "  & Day\\_Of\\_Month & Measurement\\_1 & Measurement\\_2 & Measurement\\_3 & Measurement\\_4 & Measurement\\_5\\\\\n",
       "  & <int> & <dbl> & <dbl> & <dbl> & <dbl> & <dbl>\\\\\n",
       "\\hline\n",
       "\t1 & 1 &  8.07 &  9.12 &  9.94 & 10.62 &  9.10\\\\\n",
       "\t2 & 2 &  8.43 & 10.75 & 10.87 & 10.89 &  9.38\\\\\n",
       "\t3 & 3 &  9.14 & 10.08 &  8.90 &  8.50 & 10.72\\\\\n",
       "\t4 & 4 &  8.50 & 10.23 &  9.29 &  9.05 & 11.00\\\\\n",
       "\t5 & 5 &  8.33 &  8.65 & 10.35 &  8.33 &  8.24\\\\\n",
       "\t6 & 6 & 10.15 &  9.92 &  9.15 &  8.42 &  9.48\\\\\n",
       "\\end{tabular}\n"
      ],
      "text/markdown": [
       "\n",
       "A data.frame: 6 × 6\n",
       "\n",
       "| <!--/--> | Day_Of_Month &lt;int&gt; | Measurement_1 &lt;dbl&gt; | Measurement_2 &lt;dbl&gt; | Measurement_3 &lt;dbl&gt; | Measurement_4 &lt;dbl&gt; | Measurement_5 &lt;dbl&gt; |\n",
       "|---|---|---|---|---|---|---|\n",
       "| 1 | 1 |  8.07 |  9.12 |  9.94 | 10.62 |  9.10 |\n",
       "| 2 | 2 |  8.43 | 10.75 | 10.87 | 10.89 |  9.38 |\n",
       "| 3 | 3 |  9.14 | 10.08 |  8.90 |  8.50 | 10.72 |\n",
       "| 4 | 4 |  8.50 | 10.23 |  9.29 |  9.05 | 11.00 |\n",
       "| 5 | 5 |  8.33 |  8.65 | 10.35 |  8.33 |  8.24 |\n",
       "| 6 | 6 | 10.15 |  9.92 |  9.15 |  8.42 |  9.48 |\n",
       "\n"
      ],
      "text/plain": [
       "  Day_Of_Month Measurement_1 Measurement_2 Measurement_3 Measurement_4\n",
       "1 1             8.07          9.12          9.94         10.62        \n",
       "2 2             8.43         10.75         10.87         10.89        \n",
       "3 3             9.14         10.08          8.90          8.50        \n",
       "4 4             8.50         10.23          9.29          9.05        \n",
       "5 5             8.33          8.65         10.35          8.33        \n",
       "6 6            10.15          9.92          9.15          8.42        \n",
       "  Measurement_5\n",
       "1  9.10        \n",
       "2  9.38        \n",
       "3 10.72        \n",
       "4 11.00        \n",
       "5  8.24        \n",
       "6  9.48        "
      ]
     },
     "metadata": {},
     "output_type": "display_data"
    }
   ],
   "source": [
    "data = read.csv(\"Module_13_Example_Data.csv\")\n",
    "head(data)"
   ]
  },
  {
   "cell_type": "markdown",
   "metadata": {},
   "source": [
    "Determine the mean observation value (X-bar) for each sample."
   ]
  },
  {
   "cell_type": "code",
   "execution_count": 6,
   "metadata": {
    "vscode": {
     "languageId": "r"
    }
   },
   "outputs": [
    {
     "data": {
      "text/html": [
       "<table class=\"dataframe\">\n",
       "<caption>A data.frame: 6 × 7</caption>\n",
       "<thead>\n",
       "\t<tr><th></th><th scope=col>Day_Of_Month</th><th scope=col>Measurement_1</th><th scope=col>Measurement_2</th><th scope=col>Measurement_3</th><th scope=col>Measurement_4</th><th scope=col>Measurement_5</th><th scope=col>X_bar</th></tr>\n",
       "\t<tr><th></th><th scope=col>&lt;int&gt;</th><th scope=col>&lt;dbl&gt;</th><th scope=col>&lt;dbl&gt;</th><th scope=col>&lt;dbl&gt;</th><th scope=col>&lt;dbl&gt;</th><th scope=col>&lt;dbl&gt;</th><th scope=col>&lt;dbl&gt;</th></tr>\n",
       "</thead>\n",
       "<tbody>\n",
       "\t<tr><th scope=row>1</th><td>1</td><td> 8.07</td><td> 9.12</td><td> 9.94</td><td>10.62</td><td> 9.10</td><td> 9.370</td></tr>\n",
       "\t<tr><th scope=row>2</th><td>2</td><td> 8.43</td><td>10.75</td><td>10.87</td><td>10.89</td><td> 9.38</td><td>10.064</td></tr>\n",
       "\t<tr><th scope=row>3</th><td>3</td><td> 9.14</td><td>10.08</td><td> 8.90</td><td> 8.50</td><td>10.72</td><td> 9.468</td></tr>\n",
       "\t<tr><th scope=row>4</th><td>4</td><td> 8.50</td><td>10.23</td><td> 9.29</td><td> 9.05</td><td>11.00</td><td> 9.614</td></tr>\n",
       "\t<tr><th scope=row>5</th><td>5</td><td> 8.33</td><td> 8.65</td><td>10.35</td><td> 8.33</td><td> 8.24</td><td> 8.780</td></tr>\n",
       "\t<tr><th scope=row>6</th><td>6</td><td>10.15</td><td> 9.92</td><td> 9.15</td><td> 8.42</td><td> 9.48</td><td> 9.424</td></tr>\n",
       "</tbody>\n",
       "</table>\n"
      ],
      "text/latex": [
       "A data.frame: 6 × 7\n",
       "\\begin{tabular}{r|lllllll}\n",
       "  & Day\\_Of\\_Month & Measurement\\_1 & Measurement\\_2 & Measurement\\_3 & Measurement\\_4 & Measurement\\_5 & X\\_bar\\\\\n",
       "  & <int> & <dbl> & <dbl> & <dbl> & <dbl> & <dbl> & <dbl>\\\\\n",
       "\\hline\n",
       "\t1 & 1 &  8.07 &  9.12 &  9.94 & 10.62 &  9.10 &  9.370\\\\\n",
       "\t2 & 2 &  8.43 & 10.75 & 10.87 & 10.89 &  9.38 & 10.064\\\\\n",
       "\t3 & 3 &  9.14 & 10.08 &  8.90 &  8.50 & 10.72 &  9.468\\\\\n",
       "\t4 & 4 &  8.50 & 10.23 &  9.29 &  9.05 & 11.00 &  9.614\\\\\n",
       "\t5 & 5 &  8.33 &  8.65 & 10.35 &  8.33 &  8.24 &  8.780\\\\\n",
       "\t6 & 6 & 10.15 &  9.92 &  9.15 &  8.42 &  9.48 &  9.424\\\\\n",
       "\\end{tabular}\n"
      ],
      "text/markdown": [
       "\n",
       "A data.frame: 6 × 7\n",
       "\n",
       "| <!--/--> | Day_Of_Month &lt;int&gt; | Measurement_1 &lt;dbl&gt; | Measurement_2 &lt;dbl&gt; | Measurement_3 &lt;dbl&gt; | Measurement_4 &lt;dbl&gt; | Measurement_5 &lt;dbl&gt; | X_bar &lt;dbl&gt; |\n",
       "|---|---|---|---|---|---|---|---|\n",
       "| 1 | 1 |  8.07 |  9.12 |  9.94 | 10.62 |  9.10 |  9.370 |\n",
       "| 2 | 2 |  8.43 | 10.75 | 10.87 | 10.89 |  9.38 | 10.064 |\n",
       "| 3 | 3 |  9.14 | 10.08 |  8.90 |  8.50 | 10.72 |  9.468 |\n",
       "| 4 | 4 |  8.50 | 10.23 |  9.29 |  9.05 | 11.00 |  9.614 |\n",
       "| 5 | 5 |  8.33 |  8.65 | 10.35 |  8.33 |  8.24 |  8.780 |\n",
       "| 6 | 6 | 10.15 |  9.92 |  9.15 |  8.42 |  9.48 |  9.424 |\n",
       "\n"
      ],
      "text/plain": [
       "  Day_Of_Month Measurement_1 Measurement_2 Measurement_3 Measurement_4\n",
       "1 1             8.07          9.12          9.94         10.62        \n",
       "2 2             8.43         10.75         10.87         10.89        \n",
       "3 3             9.14         10.08          8.90          8.50        \n",
       "4 4             8.50         10.23          9.29          9.05        \n",
       "5 5             8.33          8.65         10.35          8.33        \n",
       "6 6            10.15          9.92          9.15          8.42        \n",
       "  Measurement_5 X_bar \n",
       "1  9.10          9.370\n",
       "2  9.38         10.064\n",
       "3 10.72          9.468\n",
       "4 11.00          9.614\n",
       "5  8.24          8.780\n",
       "6  9.48          9.424"
      ]
     },
     "metadata": {},
     "output_type": "display_data"
    }
   ],
   "source": [
    "# Add a column for the mean measurement value (X_bar) for each sample. \n",
    "# The data[,-1] means to not include the first column (the day of the month) in the mean calculation.\n",
    "\n",
    "data$X_bar = rowMeans(data[,-1])\n",
    "head(data)"
   ]
  },
  {
   "cell_type": "markdown",
   "metadata": {},
   "source": [
    "Determine the range of observation values (R) for each sample."
   ]
  },
  {
   "cell_type": "code",
   "execution_count": 9,
   "metadata": {
    "vscode": {
     "languageId": "r"
    }
   },
   "outputs": [
    {
     "data": {
      "text/html": [
       "<table class=\"dataframe\">\n",
       "<caption>A data.frame: 6 × 8</caption>\n",
       "<thead>\n",
       "\t<tr><th></th><th scope=col>Day_Of_Month</th><th scope=col>Measurement_1</th><th scope=col>Measurement_2</th><th scope=col>Measurement_3</th><th scope=col>Measurement_4</th><th scope=col>Measurement_5</th><th scope=col>X_bar</th><th scope=col>R</th></tr>\n",
       "\t<tr><th></th><th scope=col>&lt;int&gt;</th><th scope=col>&lt;dbl&gt;</th><th scope=col>&lt;dbl&gt;</th><th scope=col>&lt;dbl&gt;</th><th scope=col>&lt;dbl&gt;</th><th scope=col>&lt;dbl&gt;</th><th scope=col>&lt;dbl&gt;</th><th scope=col>&lt;dbl&gt;</th></tr>\n",
       "</thead>\n",
       "<tbody>\n",
       "\t<tr><th scope=row>1</th><td>1</td><td> 8.07</td><td> 9.12</td><td> 9.94</td><td>10.62</td><td> 9.10</td><td> 9.370</td><td>2.55</td></tr>\n",
       "\t<tr><th scope=row>2</th><td>2</td><td> 8.43</td><td>10.75</td><td>10.87</td><td>10.89</td><td> 9.38</td><td>10.064</td><td>2.46</td></tr>\n",
       "\t<tr><th scope=row>3</th><td>3</td><td> 9.14</td><td>10.08</td><td> 8.90</td><td> 8.50</td><td>10.72</td><td> 9.468</td><td>2.22</td></tr>\n",
       "\t<tr><th scope=row>4</th><td>4</td><td> 8.50</td><td>10.23</td><td> 9.29</td><td> 9.05</td><td>11.00</td><td> 9.614</td><td>2.50</td></tr>\n",
       "\t<tr><th scope=row>5</th><td>5</td><td> 8.33</td><td> 8.65</td><td>10.35</td><td> 8.33</td><td> 8.24</td><td> 8.780</td><td>2.11</td></tr>\n",
       "\t<tr><th scope=row>6</th><td>6</td><td>10.15</td><td> 9.92</td><td> 9.15</td><td> 8.42</td><td> 9.48</td><td> 9.424</td><td>1.73</td></tr>\n",
       "</tbody>\n",
       "</table>\n"
      ],
      "text/latex": [
       "A data.frame: 6 × 8\n",
       "\\begin{tabular}{r|llllllll}\n",
       "  & Day\\_Of\\_Month & Measurement\\_1 & Measurement\\_2 & Measurement\\_3 & Measurement\\_4 & Measurement\\_5 & X\\_bar & R\\\\\n",
       "  & <int> & <dbl> & <dbl> & <dbl> & <dbl> & <dbl> & <dbl> & <dbl>\\\\\n",
       "\\hline\n",
       "\t1 & 1 &  8.07 &  9.12 &  9.94 & 10.62 &  9.10 &  9.370 & 2.55\\\\\n",
       "\t2 & 2 &  8.43 & 10.75 & 10.87 & 10.89 &  9.38 & 10.064 & 2.46\\\\\n",
       "\t3 & 3 &  9.14 & 10.08 &  8.90 &  8.50 & 10.72 &  9.468 & 2.22\\\\\n",
       "\t4 & 4 &  8.50 & 10.23 &  9.29 &  9.05 & 11.00 &  9.614 & 2.50\\\\\n",
       "\t5 & 5 &  8.33 &  8.65 & 10.35 &  8.33 &  8.24 &  8.780 & 2.11\\\\\n",
       "\t6 & 6 & 10.15 &  9.92 &  9.15 &  8.42 &  9.48 &  9.424 & 1.73\\\\\n",
       "\\end{tabular}\n"
      ],
      "text/markdown": [
       "\n",
       "A data.frame: 6 × 8\n",
       "\n",
       "| <!--/--> | Day_Of_Month &lt;int&gt; | Measurement_1 &lt;dbl&gt; | Measurement_2 &lt;dbl&gt; | Measurement_3 &lt;dbl&gt; | Measurement_4 &lt;dbl&gt; | Measurement_5 &lt;dbl&gt; | X_bar &lt;dbl&gt; | R &lt;dbl&gt; |\n",
       "|---|---|---|---|---|---|---|---|---|\n",
       "| 1 | 1 |  8.07 |  9.12 |  9.94 | 10.62 |  9.10 |  9.370 | 2.55 |\n",
       "| 2 | 2 |  8.43 | 10.75 | 10.87 | 10.89 |  9.38 | 10.064 | 2.46 |\n",
       "| 3 | 3 |  9.14 | 10.08 |  8.90 |  8.50 | 10.72 |  9.468 | 2.22 |\n",
       "| 4 | 4 |  8.50 | 10.23 |  9.29 |  9.05 | 11.00 |  9.614 | 2.50 |\n",
       "| 5 | 5 |  8.33 |  8.65 | 10.35 |  8.33 |  8.24 |  8.780 | 2.11 |\n",
       "| 6 | 6 | 10.15 |  9.92 |  9.15 |  8.42 |  9.48 |  9.424 | 1.73 |\n",
       "\n"
      ],
      "text/plain": [
       "  Day_Of_Month Measurement_1 Measurement_2 Measurement_3 Measurement_4\n",
       "1 1             8.07          9.12          9.94         10.62        \n",
       "2 2             8.43         10.75         10.87         10.89        \n",
       "3 3             9.14         10.08          8.90          8.50        \n",
       "4 4             8.50         10.23          9.29          9.05        \n",
       "5 5             8.33          8.65         10.35          8.33        \n",
       "6 6            10.15          9.92          9.15          8.42        \n",
       "  Measurement_5 X_bar  R   \n",
       "1  9.10          9.370 2.55\n",
       "2  9.38         10.064 2.46\n",
       "3 10.72          9.468 2.22\n",
       "4 11.00          9.614 2.50\n",
       "5  8.24          8.780 2.11\n",
       "6  9.48          9.424 1.73"
      ]
     },
     "metadata": {},
     "output_type": "display_data"
    }
   ],
   "source": [
    "data$R = apply(data[,6:2],1,max)-apply(data[,2:6],1,min)\n",
    "head(data)"
   ]
  },
  {
   "cell_type": "markdown",
   "metadata": {},
   "source": [
    "Determine the mean range (R-bar), the mean of all observations for all samples (X-double-bar), and the standard deviation."
   ]
  },
  {
   "cell_type": "code",
   "execution_count": 11,
   "metadata": {
    "vscode": {
     "languageId": "r"
    }
   },
   "outputs": [
    {
     "data": {
      "text/html": [
       "9.64761290322581"
      ],
      "text/latex": [
       "9.64761290322581"
      ],
      "text/markdown": [
       "9.64761290322581"
      ],
      "text/plain": [
       "[1] 9.647613"
      ]
     },
     "metadata": {},
     "output_type": "display_data"
    },
    {
     "data": {
      "text/html": [
       "2.37"
      ],
      "text/latex": [
       "2.37"
      ],
      "text/markdown": [
       "2.37"
      ],
      "text/plain": [
       "[1] 2.37"
      ]
     },
     "metadata": {},
     "output_type": "display_data"
    },
    {
     "data": {
      "text/html": [
       "0.953325746559488"
      ],
      "text/latex": [
       "0.953325746559488"
      ],
      "text/markdown": [
       "0.953325746559488"
      ],
      "text/plain": [
       "[1] 0.9533257"
      ]
     },
     "metadata": {},
     "output_type": "display_data"
    }
   ],
   "source": [
    "# Calculate X-double-bar and R-bar.\n",
    "\n",
    "X_dbl_bar= mean(data$X_bar)\n",
    "R_bar = mean(data$R)\n",
    "\n",
    "\n",
    "# STD Dev\n",
    "\n",
    "Stdv = sd(as.matrix(data[,2:6]))\n",
    "X_dbl_bar\n",
    "R_bar\n",
    "Stdv\n",
    "\n"
   ]
  },
  {
   "cell_type": "markdown",
   "metadata": {},
   "source": [
    "Calculate the upper control limits and lower control limits for the X-bar and R charts.\n",
    "\n",
    "UCLx = X-double-bar + (A_2 \\* R-bar)\n",
    "\n",
    "LCLx = X-double-bar - (A_2 \\* R-bar)\n",
    "\n",
    "UCLr = D_4 \\* R-bar\n",
    "\n",
    "LCLr = D_3 \\* R-bar\n",
    "\n",
    "A_2, D_4 and D_3 are constant values we must look up in a reference table and are dependent on the number of observations taken per sample.\n",
    "(They are not calculated from our data.) We have 5 observations for each sample.\n",
    "Thus, for n=5 observations, our constants are: A_2 = 0.5768 D_4 = 2.1145 D_3 = 0\n",
    "\n",
    "To look up additional control chart constants for different numbers of observations, visit: <https://r-bar.net/control-chart-constants-tables-explanations/#XbarR_Sec>"
   ]
  },
  {
   "cell_type": "code",
   "execution_count": 14,
   "metadata": {
    "vscode": {
     "languageId": "r"
    }
   },
   "outputs": [
    {
     "data": {
      "text/html": [
       "11.0146289032258"
      ],
      "text/latex": [
       "11.0146289032258"
      ],
      "text/markdown": [
       "11.0146289032258"
      ],
      "text/plain": [
       "[1] 11.01463"
      ]
     },
     "metadata": {},
     "output_type": "display_data"
    },
    {
     "data": {
      "text/html": [
       "8.28059690322581"
      ],
      "text/latex": [
       "8.28059690322581"
      ],
      "text/markdown": [
       "8.28059690322581"
      ],
      "text/plain": [
       "[1] 8.280597"
      ]
     },
     "metadata": {},
     "output_type": "display_data"
    },
    {
     "data": {
      "text/html": [
       "5.011365"
      ],
      "text/latex": [
       "5.011365"
      ],
      "text/markdown": [
       "5.011365"
      ],
      "text/plain": [
       "[1] 5.011365"
      ]
     },
     "metadata": {},
     "output_type": "display_data"
    },
    {
     "data": {
      "text/html": [
       "0"
      ],
      "text/latex": [
       "0"
      ],
      "text/markdown": [
       "0"
      ],
      "text/plain": [
       "[1] 0"
      ]
     },
     "metadata": {},
     "output_type": "display_data"
    }
   ],
   "source": [
    "# Look up control chart constants for n=5 observations.\n",
    "d3 = 0\n",
    "d4 = 2.1145\n",
    "a2 = 0.5768\n",
    "\n",
    "# Calculate the upper control limit and lower control limit for the X-bar chart. # Calculate the Center of the two limits.\n",
    "UCLx = X_dbl_bar + (a2*R_bar)\n",
    "LCLx = X_dbl_bar - (a2*R_bar)\n",
    "\n",
    "# Calculate the upper control limit and lower control limit for the R chart. Calculate the Center of the two limits.\n",
    "UCLr= d4*R_bar\n",
    "LCLr= d3*R_bar\n",
    "\n",
    "UCLx\n",
    "LCLx\n",
    "UCLr\n",
    "LCLr"
   ]
  },
  {
   "cell_type": "markdown",
   "metadata": {},
   "source": [
    "Plot the R chart.\n",
    "This chart monitors the spread."
   ]
  },
  {
   "cell_type": "code",
   "execution_count": 15,
   "metadata": {
    "vscode": {
     "languageId": "r"
    }
   },
   "outputs": [
    {
     "data": {
      "image/png": "[encoded data removed]",
      "text/plain": [
       "plot without title"
      ]
     },
     "metadata": {
      "image/png": {
       "height": 420,
       "width": 420
      }
     },
     "output_type": "display_data"
    }
   ],
   "source": [
    "# Create a ggplot using our data, use the \"Sample\" column for the x-axis and the \"R\" column for the y axis.\n",
    "# Add points and a line to the chart to show the R value for each sample, and add the Center, UCLr, and LCLr lines.\n",
    "ggplot(data, aes(x=Day_Of_Month, y=R)) + \n",
    "geom_point() + geom_line() + \n",
    "geom_line(aes(y=LCLr), color=\"blue\") + \n",
    "geom_line(aes(y=UCLr), color=\"red\") + \n",
    "geom_line(aes(y=R_bar), color=\"orange\")+ \n",
    "ggtitle(\"R Chart\")"
   ]
  },
  {
   "cell_type": "markdown",
   "metadata": {},
   "source": [
    "Plot the X-bar chart.\n",
    "This chart monitors the mean.\n"
   ]
  },
  {
   "cell_type": "code",
   "execution_count": 16,
   "metadata": {
    "vscode": {
     "languageId": "r"
    }
   },
   "outputs": [
    {
     "data": {
      "image/png": "[encoded data removed]",
      "text/plain": [
       "plot without title"
      ]
     },
     "metadata": {
      "image/png": {
       "height": 420,
       "width": 420
      }
     },
     "output_type": "display_data"
    }
   ],
   "source": [
    "# Create a ggplot using our data, use the \"Sample\" column for the x-axis and the \"X_bar\" column for the y axis.\n",
    "# Add points and a line to the chart to show the X_bar value for each sample, and add the UCLx, LCLx, and Center lines.\n",
    "ggplot(data, aes(x=Day_Of_Month, y=X_bar)) + \n",
    "geom_point() + geom_line() + geom_line(aes(y= LCLx), color=\"blue\") + \n",
    "geom_line(aes(y=UCLx), color=\"red\") + \n",
    "geom_line(aes(y= X_dbl_bar), color=\"orange\") +\n",
    "ggtitle(\"X-Bar Chart\")"
   ]
  },
  {
   "cell_type": "markdown",
   "metadata": {},
   "source": [
    "\n",
    "Calculate Cp = (Upper specification – Lower Specification)/6𝝈 • Cp \\>=1.0 indicates process is capable • Six Sigma equates to a Cp \\>=2.0 • This value only looks at spread, not how well a process is centered on its target value.\n",
    "\n",
    "Our upper specification is given as 13, and our lower specification is given as 7."
   ]
  },
  {
   "cell_type": "code",
   "execution_count": 19,
   "metadata": {
    "vscode": {
     "languageId": "r"
    }
   },
   "outputs": [
    {
     "data": {
      "text/html": [
       "1.04895939673187"
      ],
      "text/latex": [
       "1.04895939673187"
      ],
      "text/markdown": [
       "1.04895939673187"
      ],
      "text/plain": [
       "[1] 1.048959"
      ]
     },
     "metadata": {},
     "output_type": "display_data"
    }
   ],
   "source": [
    "upper_spec = 13\n",
    "lower_spec = 7\n",
    "cp = (upper_spec - lower_spec)/(6*Stdv)\n",
    "cp"
   ]
  },
  {
   "cell_type": "markdown",
   "metadata": {},
   "source": [
    "Next, we'll calculate Cpk: Cpk = Minimum of [{(upper specification - x-double-bar)/3𝝈)} , {(x-double-bar - lower specification)/3𝝈)}] • Gives the proportion of variation between the center of the process and the nearest specification limit • Cpk = 1 means process meets specifications • Cpk \\< 1 Process does NOT meet specifications • Cpk \\> 1 Process is better than the specification requires\n"
   ]
  },
  {
   "cell_type": "code",
   "execution_count": 21,
   "metadata": {
    "vscode": {
     "languageId": "r"
    }
   },
   "outputs": [
    {
     "data": {
      "text/html": [
       "0.925746144582419"
      ],
      "text/latex": [
       "0.925746144582419"
      ],
      "text/markdown": [
       "0.925746144582419"
      ],
      "text/plain": [
       "[1] 0.9257461"
      ]
     },
     "metadata": {},
     "output_type": "display_data"
    }
   ],
   "source": [
    "cpk = min( (upper_spec- X_dbl_bar)/(3*Stdv),(X_dbl_bar-lower_spec)/(3*Stdv))\n",
    "cpk"
   ]
  }
 ],
 "metadata": {
  "kernelspec": {
   "display_name": "R",
   "language": "R",
   "name": "ir"
  },
  "language_info": {
   "codemirror_mode": "r",
   "file_extension": ".r",
   "mimetype": "text/x-r-source",
   "name": "R",
   "pygments_lexer": "r",
   "version": "4.3.2"
  }
 },
 "nbformat": 4,
 "nbformat_minor": 2
}
