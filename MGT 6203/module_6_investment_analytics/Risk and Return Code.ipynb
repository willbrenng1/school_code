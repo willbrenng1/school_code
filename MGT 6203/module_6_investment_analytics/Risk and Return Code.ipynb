{
 "cells": [
  {
   "cell_type": "code",
   "execution_count": 3,
   "metadata": {
    "vscode": {
     "languageId": "r"
    }
   },
   "outputs": [],
   "source": [
    "#R code used in Module: Introduction and Measuring Risk and Return\n",
    "\n",
    "\n",
    "#Installing packages as needed\n",
    "\n",
    "\n",
    "#NOTE: This statement essentially checks if PerformanceAnalytics package is available\n",
    "#locally in your R library distribution. If not, it will install it and then include it\n",
    "#as a part of this code, so that we can use its functions and features\n",
    "if (!require(PerformanceAnalytics)) install.packages(\"PerformanceAnalytics\")\n",
    "if (!require(xts)) install.packages(\"xts\")\n",
    "if (!require(lubridate)) install.packages(\"lubridate\")\n",
    "if (!require(dplyr)) install.packages(\"dplyr\")\n",
    "\n",
    "#Package Details\n",
    "#1)Performanceanalytics: A very useful package for investment and financial performance and risk \n",
    "#analytics. Official Documentation: https://www.rdocumentation.org/packages/PerformanceAnalytics/versions/1.5.3\n",
    "#Presentation Deck by Package Founders: http://past.rinfinance.com/RinFinance2009/presentations/PA%20Workshop%20Chi%20RFinance%202009-04.pdf\n",
    "#Quick Video on calculating returns: https://www.youtube.com/watch?v=0rAVPUNf9yI\n",
    "\n",
    "\n",
    "#2) xts: xts is a useful packge useful in time-series analysis. We use xts package here since\n",
    "#PerformanceAnalytics functions usually require xts objects (time-series of prices etc.) rather than simple\n",
    "#lists of prices for more accurate performance evaluation\n",
    "\n",
    "\n",
    "#3) lubridate: lubridate is a date mainpulation package. We use mdy() function of lubridate to standardize dates of our data \n",
    "#Useful Resource: https://raw.githubusercontent.com/rstudio/cheatsheets/master/lubridate.pdf\n",
    "\n",
    "\n",
    "# calling libraries\n",
    "library(PerformanceAnalytics)\n",
    "library(xts)\n",
    "library(lubridate)\n",
    "library(dplyr)"
   ]
  },
  {
   "cell_type": "code",
   "execution_count": 4,
   "metadata": {
    "vscode": {
     "languageId": "r"
    }
   },
   "outputs": [
    {
     "data": {
      "text/html": [
       "<table class=\"dataframe\">\n",
       "<caption>A matrix: 1 × 1 of type dbl</caption>\n",
       "<thead>\n",
       "\t<tr><th></th><th scope=col>ContraRet</th></tr>\n",
       "</thead>\n",
       "<tbody>\n",
       "\t<tr><th scope=row>Cumulative Return</th><td>141.5677</td></tr>\n",
       "</tbody>\n",
       "</table>\n"
      ],
      "text/latex": [
       "A matrix: 1 × 1 of type dbl\n",
       "\\begin{tabular}{r|l}\n",
       "  & ContraRet\\\\\n",
       "\\hline\n",
       "\tCumulative Return & 141.5677\\\\\n",
       "\\end{tabular}\n"
      ],
      "text/markdown": [
       "\n",
       "A matrix: 1 × 1 of type dbl\n",
       "\n",
       "| <!--/--> | ContraRet |\n",
       "|---|---|\n",
       "| Cumulative Return | 141.5677 |\n",
       "\n"
      ],
      "text/plain": [
       "                  ContraRet\n",
       "Cumulative Return 141.5677 "
      ]
     },
     "metadata": {},
     "output_type": "display_data"
    },
    {
     "data": {
      "image/png": "[encoded data removed]",
      "text/plain": [
       "plot without title"
      ]
     },
     "metadata": {
      "image/png": {
       "height": 420,
       "width": 420
      }
     },
     "output_type": "display_data"
    }
   ],
   "source": [
    "############### Video 1: Simple and Compound Interest\n",
    "\n",
    "\n",
    "#Before running this code - please make sure that contrafund.csv is in your working directory\n",
    "#use getwd() to find out your working directory and setwd() to set it to any directory you want\n",
    "\n",
    "\n",
    "#load data and create xts dataset\n",
    "fund <- read.csv(\"contrafund.csv\")\n",
    "#converting dates to standard YYYY-MM-DD format\n",
    "fund$Date <- mdy(fund$Date)\n",
    "#Sorting data by dates\n",
    "fund2<- fund[order(fund$Date),]\n",
    "\n",
    "\n",
    "#create an xts dataset\n",
    "All.dat <- xts(select(fund2, -Date), \n",
    "           order.by = fund2[, \"Date\"])\n",
    "\n",
    "\n",
    "\n",
    "\n",
    "#Calculate Compound Return for the fund across all the data\n",
    "#geometric = TRUE compounds the returns\n",
    "Return.cumulative(All.dat$ContraRet,geometric = TRUE)\n",
    "\n",
    "\n",
    "\n",
    "\n",
    "#Cumulative Returns chart over time\n",
    "#Check chart in Plots Tab on bottom right in R Studio\n",
    "chart.CumReturns(All.dat$ContraRet,wealth.index = FALSE, geometric = TRUE)\n"
   ]
  },
  {
   "cell_type": "code",
   "execution_count": 5,
   "metadata": {
    "vscode": {
     "languageId": "r"
    }
   },
   "outputs": [
    {
     "data": {
      "text/html": [
       "<table class=\"dataframe\">\n",
       "<caption>A data.frame: 16 × 1</caption>\n",
       "<thead>\n",
       "\t<tr><th></th><th scope=col>ContraRet</th></tr>\n",
       "\t<tr><th></th><th scope=col>&lt;dbl&gt;</th></tr>\n",
       "</thead>\n",
       "<tbody>\n",
       "\t<tr><th scope=row>Observations</th><td>462.0000</td></tr>\n",
       "\t<tr><th scope=row>NAs</th><td>  0.0000</td></tr>\n",
       "\t<tr><th scope=row>Minimum</th><td> -0.2888</td></tr>\n",
       "\t<tr><th scope=row>Quartile 1</th><td> -0.0128</td></tr>\n",
       "\t<tr><th scope=row>Median</th><td>  0.0125</td></tr>\n",
       "\t<tr><th scope=row>Arithmetic Mean</th><td>  0.0117</td></tr>\n",
       "\t<tr><th scope=row>Geometric Mean</th><td>  0.0108</td></tr>\n",
       "\t<tr><th scope=row>Quartile 3</th><td>  0.0387</td></tr>\n",
       "\t<tr><th scope=row>Maximum</th><td>  0.1475</td></tr>\n",
       "\t<tr><th scope=row>SE Mean</th><td>  0.0020</td></tr>\n",
       "\t<tr><th scope=row>LCL Mean (0.95)</th><td>  0.0078</td></tr>\n",
       "\t<tr><th scope=row>UCL Mean (0.95)</th><td>  0.0157</td></tr>\n",
       "\t<tr><th scope=row>Variance</th><td>  0.0019</td></tr>\n",
       "\t<tr><th scope=row>Stdev</th><td>  0.0432</td></tr>\n",
       "\t<tr><th scope=row>Skewness</th><td> -0.7924</td></tr>\n",
       "\t<tr><th scope=row>Kurtosis</th><td>  5.5070</td></tr>\n",
       "</tbody>\n",
       "</table>\n"
      ],
      "text/latex": [
       "A data.frame: 16 × 1\n",
       "\\begin{tabular}{r|l}\n",
       "  & ContraRet\\\\\n",
       "  & <dbl>\\\\\n",
       "\\hline\n",
       "\tObservations & 462.0000\\\\\n",
       "\tNAs &   0.0000\\\\\n",
       "\tMinimum &  -0.2888\\\\\n",
       "\tQuartile 1 &  -0.0128\\\\\n",
       "\tMedian &   0.0125\\\\\n",
       "\tArithmetic Mean &   0.0117\\\\\n",
       "\tGeometric Mean &   0.0108\\\\\n",
       "\tQuartile 3 &   0.0387\\\\\n",
       "\tMaximum &   0.1475\\\\\n",
       "\tSE Mean &   0.0020\\\\\n",
       "\tLCL Mean (0.95) &   0.0078\\\\\n",
       "\tUCL Mean (0.95) &   0.0157\\\\\n",
       "\tVariance &   0.0019\\\\\n",
       "\tStdev &   0.0432\\\\\n",
       "\tSkewness &  -0.7924\\\\\n",
       "\tKurtosis &   5.5070\\\\\n",
       "\\end{tabular}\n"
      ],
      "text/markdown": [
       "\n",
       "A data.frame: 16 × 1\n",
       "\n",
       "| <!--/--> | ContraRet &lt;dbl&gt; |\n",
       "|---|---|\n",
       "| Observations | 462.0000 |\n",
       "| NAs |   0.0000 |\n",
       "| Minimum |  -0.2888 |\n",
       "| Quartile 1 |  -0.0128 |\n",
       "| Median |   0.0125 |\n",
       "| Arithmetic Mean |   0.0117 |\n",
       "| Geometric Mean |   0.0108 |\n",
       "| Quartile 3 |   0.0387 |\n",
       "| Maximum |   0.1475 |\n",
       "| SE Mean |   0.0020 |\n",
       "| LCL Mean (0.95) |   0.0078 |\n",
       "| UCL Mean (0.95) |   0.0157 |\n",
       "| Variance |   0.0019 |\n",
       "| Stdev |   0.0432 |\n",
       "| Skewness |  -0.7924 |\n",
       "| Kurtosis |   5.5070 |\n",
       "\n"
      ],
      "text/plain": [
       "                ContraRet\n",
       "Observations    462.0000 \n",
       "NAs               0.0000 \n",
       "Minimum          -0.2888 \n",
       "Quartile 1       -0.0128 \n",
       "Median            0.0125 \n",
       "Arithmetic Mean   0.0117 \n",
       "Geometric Mean    0.0108 \n",
       "Quartile 3        0.0387 \n",
       "Maximum           0.1475 \n",
       "SE Mean           0.0020 \n",
       "LCL Mean (0.95)   0.0078 \n",
       "UCL Mean (0.95)   0.0157 \n",
       "Variance          0.0019 \n",
       "Stdev             0.0432 \n",
       "Skewness         -0.7924 \n",
       "Kurtosis          5.5070 "
      ]
     },
     "metadata": {},
     "output_type": "display_data"
    },
    {
     "data": {
      "text/plain": [
       "\n",
       "Call:\n",
       "lm(formula = ContraRet ~ Market.Return, data = All.dat)\n",
       "\n",
       "Residuals:\n",
       "      Min        1Q    Median        3Q       Max \n",
       "-0.087523 -0.009502  0.001399  0.010316  0.060957 \n",
       "\n",
       "Coefficients:\n",
       "               Estimate Std. Error t value Pr(>|t|)    \n",
       "(Intercept)   0.0025419  0.0008485   2.996  0.00288 ** \n",
       "Market.Return 0.9004602  0.0188912  47.666  < 2e-16 ***\n",
       "---\n",
       "Signif. codes:  0 '***' 0.001 '**' 0.01 '*' 0.05 '.' 0.1 ' ' 1\n",
       "\n",
       "Residual standard error: 0.01776 on 460 degrees of freedom\n",
       "Multiple R-squared:  0.8316,\tAdjusted R-squared:  0.8313 \n",
       "F-statistic:  2272 on 1 and 460 DF,  p-value: < 2.2e-16\n"
      ]
     },
     "metadata": {},
     "output_type": "display_data"
    },
    {
     "data": {
      "text/html": [
       "<table class=\"dataframe\">\n",
       "<caption>A data.frame: 5 × 7</caption>\n",
       "<thead>\n",
       "\t<tr><th scope=col>From</th><th scope=col>Trough</th><th scope=col>To</th><th scope=col>Depth</th><th scope=col>Length</th><th scope=col>To Trough</th><th scope=col>Recovery</th></tr>\n",
       "\t<tr><th scope=col>&lt;date&gt;</th><th scope=col>&lt;date&gt;</th><th scope=col>&lt;date&gt;</th><th scope=col>&lt;dbl&gt;</th><th scope=col>&lt;dbl&gt;</th><th scope=col>&lt;dbl&gt;</th><th scope=col>&lt;dbl&gt;</th></tr>\n",
       "</thead>\n",
       "<tbody>\n",
       "\t<tr><td>2007-11-30</td><td>2009-02-28</td><td>2012-02-29</td><td>-0.4634</td><td>52</td><td>16</td><td>36</td></tr>\n",
       "\t<tr><td>1987-09-30</td><td>1987-11-30</td><td>1989-04-30</td><td>-0.3416</td><td>20</td><td> 3</td><td>17</td></tr>\n",
       "\t<tr><td>2000-04-30</td><td>2003-02-28</td><td>2004-11-30</td><td>-0.3324</td><td>56</td><td>35</td><td>21</td></tr>\n",
       "\t<tr><td>1983-05-31</td><td>1984-07-31</td><td>1985-03-31</td><td>-0.2214</td><td>23</td><td>15</td><td> 8</td></tr>\n",
       "\t<tr><td>1981-06-30</td><td>1982-07-31</td><td>1982-10-31</td><td>-0.1952</td><td>17</td><td>14</td><td> 3</td></tr>\n",
       "</tbody>\n",
       "</table>\n"
      ],
      "text/latex": [
       "A data.frame: 5 × 7\n",
       "\\begin{tabular}{lllllll}\n",
       " From & Trough & To & Depth & Length & To Trough & Recovery\\\\\n",
       " <date> & <date> & <date> & <dbl> & <dbl> & <dbl> & <dbl>\\\\\n",
       "\\hline\n",
       "\t 2007-11-30 & 2009-02-28 & 2012-02-29 & -0.4634 & 52 & 16 & 36\\\\\n",
       "\t 1987-09-30 & 1987-11-30 & 1989-04-30 & -0.3416 & 20 &  3 & 17\\\\\n",
       "\t 2000-04-30 & 2003-02-28 & 2004-11-30 & -0.3324 & 56 & 35 & 21\\\\\n",
       "\t 1983-05-31 & 1984-07-31 & 1985-03-31 & -0.2214 & 23 & 15 &  8\\\\\n",
       "\t 1981-06-30 & 1982-07-31 & 1982-10-31 & -0.1952 & 17 & 14 &  3\\\\\n",
       "\\end{tabular}\n"
      ],
      "text/markdown": [
       "\n",
       "A data.frame: 5 × 7\n",
       "\n",
       "| From &lt;date&gt; | Trough &lt;date&gt; | To &lt;date&gt; | Depth &lt;dbl&gt; | Length &lt;dbl&gt; | To Trough &lt;dbl&gt; | Recovery &lt;dbl&gt; |\n",
       "|---|---|---|---|---|---|---|\n",
       "| 2007-11-30 | 2009-02-28 | 2012-02-29 | -0.4634 | 52 | 16 | 36 |\n",
       "| 1987-09-30 | 1987-11-30 | 1989-04-30 | -0.3416 | 20 |  3 | 17 |\n",
       "| 2000-04-30 | 2003-02-28 | 2004-11-30 | -0.3324 | 56 | 35 | 21 |\n",
       "| 1983-05-31 | 1984-07-31 | 1985-03-31 | -0.2214 | 23 | 15 |  8 |\n",
       "| 1981-06-30 | 1982-07-31 | 1982-10-31 | -0.1952 | 17 | 14 |  3 |\n",
       "\n"
      ],
      "text/plain": [
       "  From       Trough     To         Depth   Length To Trough Recovery\n",
       "1 2007-11-30 2009-02-28 2012-02-29 -0.4634 52     16        36      \n",
       "2 1987-09-30 1987-11-30 1989-04-30 -0.3416 20      3        17      \n",
       "3 2000-04-30 2003-02-28 2004-11-30 -0.3324 56     35        21      \n",
       "4 1983-05-31 1984-07-31 1985-03-31 -0.2214 23     15         8      \n",
       "5 1981-06-30 1982-07-31 1982-10-31 -0.1952 17     14         3      "
      ]
     },
     "metadata": {},
     "output_type": "display_data"
    },
    {
     "data": {
      "image/png": "[encoded data removed]",
      "text/plain": [
       "plot without title"
      ]
     },
     "metadata": {
      "image/png": {
       "height": 420,
       "width": 420
      }
     },
     "output_type": "display_data"
    }
   ],
   "source": [
    "############### Video 2: Measuring Risk\n",
    "\n",
    "\n",
    "#Descriptive Statistics of the fund returns\n",
    "#IMPORTANT NOTE - Arithmetic mean and standard deviation of returns are reported incorrectly\n",
    "#The correct values as noticed when this code is run are:\n",
    "#Arithmetic Mean Return = 1.17% and Standard Deviation = 4.32% per month\n",
    "table.Stats(All.dat$ContraRet)\n",
    "\n",
    "\n",
    "\n",
    "\n",
    "#Beta and R-squared estimation: \n",
    "Mod1 = lm(ContraRet ~ Market.Return,data= All.dat)\n",
    "summary(Mod1)\n",
    "\n",
    "\n",
    "#As seen in model, beta = 0.9005 , Adj. R-sq = 0.8313\n",
    "\n",
    "\n",
    "\n",
    "\n",
    "#Drawdowns\n",
    "chart.Drawdown(All.dat$ContraRet)\n",
    "table.Drawdowns(All.dat$ContraRet,top = 5,digits = 4)\n",
    "\n",
    "\n",
    "##End of Code\n"
   ]
  }
 ],
 "metadata": {
  "kernelspec": {
   "display_name": "R",
   "language": "R",
   "name": "ir"
  },
  "language_info": {
   "codemirror_mode": "r",
   "file_extension": ".r",
   "mimetype": "text/x-r-source",
   "name": "R",
   "pygments_lexer": "r",
   "version": "4.3.2"
  }
 },
 "nbformat": 4,
 "nbformat_minor": 2
}
