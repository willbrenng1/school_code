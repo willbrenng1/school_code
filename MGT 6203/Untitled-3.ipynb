{
 "cells": [
  {
   "cell_type": "code",
   "execution_count": 3,
   "metadata": {
    "vscode": {
     "languageId": "r"
    }
   },
   "outputs": [
    {
     "name": "stderr",
     "output_type": "stream",
     "text": [
      "Warning message:\n",
      "\"package 'tidyquant' was built under R version 4.3.3\"\n",
      "Registered S3 method overwritten by 'quantmod':\n",
      "  method            from\n",
      "  as.zoo.data.frame zoo \n",
      "\n",
      "Warning message:\n",
      "\"package 'xts' was built under R version 4.3.3\"\n",
      "Warning message:\n",
      "\"package 'zoo' was built under R version 4.3.3\"\n",
      "Warning message:\n",
      "\"package 'quantmod' was built under R version 4.3.3\"\n",
      "Warning message:\n",
      "\"package 'TTR' was built under R version 4.3.3\"\n",
      "Warning message:\n",
      "\"package 'PerformanceAnalytics' was built under R version 4.3.3\"\n",
      "── \u001b[1mAttaching core tidyquant packages\u001b[22m ──────────────────────── tidyquant 1.0.9 ──\n",
      "\u001b[32m✔\u001b[39m \u001b[34mPerformanceAnalytics\u001b[39m 2.0.4      \u001b[32m✔\u001b[39m \u001b[34mTTR                 \u001b[39m 0.24.4\n",
      "\u001b[32m✔\u001b[39m \u001b[34mquantmod            \u001b[39m 0.4.26     \u001b[32m✔\u001b[39m \u001b[34mxts                 \u001b[39m 0.14.0\n",
      "── \u001b[1mConflicts\u001b[22m ────────────────────────────────────────── tidyquant_conflicts() ──\n",
      "\u001b[31m✖\u001b[39m \u001b[34mzoo\u001b[39m::\u001b[32mas.Date()\u001b[39m                 masks \u001b[34mbase\u001b[39m::as.Date()\n",
      "\u001b[31m✖\u001b[39m \u001b[34mzoo\u001b[39m::\u001b[32mas.Date.numeric()\u001b[39m         masks \u001b[34mbase\u001b[39m::as.Date.numeric()\n",
      "\u001b[31m✖\u001b[39m \u001b[34mPerformanceAnalytics\u001b[39m::\u001b[32mlegend()\u001b[39m masks \u001b[34mgraphics\u001b[39m::legend()\n",
      "\u001b[31m✖\u001b[39m \u001b[34mquantmod\u001b[39m::\u001b[32msummary()\u001b[39m            masks \u001b[34mbase\u001b[39m::summary()\n",
      "\u001b[36mℹ\u001b[39m Use the conflicted package (\u001b[3m\u001b[34m<http://conflicted.r-lib.org/>\u001b[39m\u001b[23m) to force all conflicts to become errors\n",
      "\n",
      "######################### Warning from 'xts' package ##########################\n",
      "#                                                                             #\n",
      "# The dplyr lag() function breaks how base R's lag() function is supposed to  #\n",
      "# work, which breaks lag(my_xts). Calls to lag(my_xts) that you type or       #\n",
      "# source() into this session won't work correctly.                            #\n",
      "#                                                                             #\n",
      "# Use stats::lag() to make sure you're not using dplyr::lag(), or you can add #\n",
      "# conflictRules('dplyr', exclude = 'lag') to your .Rprofile to stop           #\n",
      "# dplyr from breaking base R's lag() function.                                #\n",
      "#                                                                             #\n",
      "# Code in packages is not affected. It's protected by R's namespace mechanism #\n",
      "# Set `options(xts.warn_dplyr_breaks_lag = FALSE)` to suppress this warning.  #\n",
      "#                                                                             #\n",
      "###############################################################################\n",
      "\n",
      "\n",
      "Attaching package: 'dplyr'\n",
      "\n",
      "\n",
      "The following objects are masked from 'package:xts':\n",
      "\n",
      "    first, last\n",
      "\n",
      "\n",
      "The following objects are masked from 'package:stats':\n",
      "\n",
      "    filter, lag\n",
      "\n",
      "\n",
      "The following objects are masked from 'package:base':\n",
      "\n",
      "    intersect, setdiff, setequal, union\n",
      "\n",
      "\n",
      "\n",
      "Attaching package: 'lubridate'\n",
      "\n",
      "\n",
      "The following objects are masked from 'package:base':\n",
      "\n",
      "    date, intersect, setdiff, union\n",
      "\n",
      "\n"
     ]
    }
   ],
   "source": [
    "library(ggplot2)\n",
    "library(tidyquant)\n",
    "library(xts)\n",
    "library(dplyr)\n",
    "library(lubridate)"
   ]
  },
  {
   "cell_type": "code",
   "execution_count": 9,
   "metadata": {
    "vscode": {
     "languageId": "r"
    }
   },
   "outputs": [],
   "source": [
    "stock_prices <- c(\"AAPL\",\"GOOG\",\"NFLX\") %>%\n",
    "    tq_get(get=\"stock.prices\",from=\"2010-01-01\", to=\"2024-09-24\")\n"
   ]
  },
  {
   "cell_type": "code",
   "execution_count": 12,
   "metadata": {
    "vscode": {
     "languageId": "r"
    }
   },
   "outputs": [
    {
     "data": {
      "text/html": [
       "<table class=\"dataframe\">\n",
       "<caption>A tibble: 6 × 8</caption>\n",
       "<thead>\n",
       "\t<tr><th scope=col>symbol</th><th scope=col>date</th><th scope=col>open</th><th scope=col>high</th><th scope=col>low</th><th scope=col>close</th><th scope=col>volume</th><th scope=col>adjusted</th></tr>\n",
       "\t<tr><th scope=col>&lt;chr&gt;</th><th scope=col>&lt;date&gt;</th><th scope=col>&lt;dbl&gt;</th><th scope=col>&lt;dbl&gt;</th><th scope=col>&lt;dbl&gt;</th><th scope=col>&lt;dbl&gt;</th><th scope=col>&lt;dbl&gt;</th><th scope=col>&lt;dbl&gt;</th></tr>\n",
       "</thead>\n",
       "<tbody>\n",
       "\t<tr><td>AAPL</td><td>2010-01-04</td><td>7.622500</td><td>7.660714</td><td>7.585000</td><td>7.643214</td><td>493729600</td><td>6.454506</td></tr>\n",
       "\t<tr><td>AAPL</td><td>2010-01-05</td><td>7.664286</td><td>7.699643</td><td>7.616071</td><td>7.656429</td><td>601904800</td><td>6.465664</td></tr>\n",
       "\t<tr><td>AAPL</td><td>2010-01-06</td><td>7.656429</td><td>7.686786</td><td>7.526786</td><td>7.534643</td><td>552160000</td><td>6.362819</td></tr>\n",
       "\t<tr><td>AAPL</td><td>2010-01-07</td><td>7.562500</td><td>7.571429</td><td>7.466071</td><td>7.520714</td><td>477131200</td><td>6.351058</td></tr>\n",
       "\t<tr><td>AAPL</td><td>2010-01-08</td><td>7.510714</td><td>7.571429</td><td>7.466429</td><td>7.570714</td><td>447610800</td><td>6.393281</td></tr>\n",
       "\t<tr><td>AAPL</td><td>2010-01-11</td><td>7.600000</td><td>7.607143</td><td>7.444643</td><td>7.503929</td><td>462229600</td><td>6.336881</td></tr>\n",
       "</tbody>\n",
       "</table>\n"
      ],
      "text/latex": [
       "A tibble: 6 × 8\n",
       "\\begin{tabular}{llllllll}\n",
       " symbol & date & open & high & low & close & volume & adjusted\\\\\n",
       " <chr> & <date> & <dbl> & <dbl> & <dbl> & <dbl> & <dbl> & <dbl>\\\\\n",
       "\\hline\n",
       "\t AAPL & 2010-01-04 & 7.622500 & 7.660714 & 7.585000 & 7.643214 & 493729600 & 6.454506\\\\\n",
       "\t AAPL & 2010-01-05 & 7.664286 & 7.699643 & 7.616071 & 7.656429 & 601904800 & 6.465664\\\\\n",
       "\t AAPL & 2010-01-06 & 7.656429 & 7.686786 & 7.526786 & 7.534643 & 552160000 & 6.362819\\\\\n",
       "\t AAPL & 2010-01-07 & 7.562500 & 7.571429 & 7.466071 & 7.520714 & 477131200 & 6.351058\\\\\n",
       "\t AAPL & 2010-01-08 & 7.510714 & 7.571429 & 7.466429 & 7.570714 & 447610800 & 6.393281\\\\\n",
       "\t AAPL & 2010-01-11 & 7.600000 & 7.607143 & 7.444643 & 7.503929 & 462229600 & 6.336881\\\\\n",
       "\\end{tabular}\n"
      ],
      "text/markdown": [
       "\n",
       "A tibble: 6 × 8\n",
       "\n",
       "| symbol &lt;chr&gt; | date &lt;date&gt; | open &lt;dbl&gt; | high &lt;dbl&gt; | low &lt;dbl&gt; | close &lt;dbl&gt; | volume &lt;dbl&gt; | adjusted &lt;dbl&gt; |\n",
       "|---|---|---|---|---|---|---|---|\n",
       "| AAPL | 2010-01-04 | 7.622500 | 7.660714 | 7.585000 | 7.643214 | 493729600 | 6.454506 |\n",
       "| AAPL | 2010-01-05 | 7.664286 | 7.699643 | 7.616071 | 7.656429 | 601904800 | 6.465664 |\n",
       "| AAPL | 2010-01-06 | 7.656429 | 7.686786 | 7.526786 | 7.534643 | 552160000 | 6.362819 |\n",
       "| AAPL | 2010-01-07 | 7.562500 | 7.571429 | 7.466071 | 7.520714 | 477131200 | 6.351058 |\n",
       "| AAPL | 2010-01-08 | 7.510714 | 7.571429 | 7.466429 | 7.570714 | 447610800 | 6.393281 |\n",
       "| AAPL | 2010-01-11 | 7.600000 | 7.607143 | 7.444643 | 7.503929 | 462229600 | 6.336881 |\n",
       "\n"
      ],
      "text/plain": [
       "  symbol date       open     high     low      close    volume    adjusted\n",
       "1 AAPL   2010-01-04 7.622500 7.660714 7.585000 7.643214 493729600 6.454506\n",
       "2 AAPL   2010-01-05 7.664286 7.699643 7.616071 7.656429 601904800 6.465664\n",
       "3 AAPL   2010-01-06 7.656429 7.686786 7.526786 7.534643 552160000 6.362819\n",
       "4 AAPL   2010-01-07 7.562500 7.571429 7.466071 7.520714 477131200 6.351058\n",
       "5 AAPL   2010-01-08 7.510714 7.571429 7.466429 7.570714 447610800 6.393281\n",
       "6 AAPL   2010-01-11 7.600000 7.607143 7.444643 7.503929 462229600 6.336881"
      ]
     },
     "metadata": {},
     "output_type": "display_data"
    }
   ],
   "source": [
    "head(stock_prices)"
   ]
  },
  {
   "cell_type": "markdown",
   "metadata": {},
   "source": [
    "The adjusted closing price amends a stock's closing price to reflect that\n",
    "stock's value after accounting for any corporate actions, such as stock\n",
    "splits, dividends, and rights offerings.\n",
    "The closing price is the raw price, which is just the cash value of the last\n",
    "transacted price before the market closes"
   ]
  },
  {
   "cell_type": "code",
   "execution_count": 13,
   "metadata": {
    "vscode": {
     "languageId": "r"
    }
   },
   "outputs": [],
   "source": [
    "stock_returns_monthly = stock_prices %>% group_by(symbol) %>% tq_transmute(select = adjusted,mutate_fun = periodReturn,period=\"monthly\",'col_rename'=\"Ra\")"
   ]
  },
  {
   "cell_type": "code",
   "execution_count": 16,
   "metadata": {
    "vscode": {
     "languageId": "r"
    }
   },
   "outputs": [
    {
     "data": {
      "text/html": [
       "<table class=\"dataframe\">\n",
       "<caption>A grouped_df: 6 × 3</caption>\n",
       "<thead>\n",
       "\t<tr><th scope=col>symbol</th><th scope=col>date</th><th scope=col>Ra</th></tr>\n",
       "\t<tr><th scope=col>&lt;chr&gt;</th><th scope=col>&lt;date&gt;</th><th scope=col>&lt;dbl&gt;</th></tr>\n",
       "</thead>\n",
       "<tbody>\n",
       "\t<tr><td>AAPL</td><td>2010-01-29</td><td>-0.10256522</td></tr>\n",
       "\t<tr><td>AAPL</td><td>2010-02-26</td><td> 0.06539598</td></tr>\n",
       "\t<tr><td>AAPL</td><td>2010-03-31</td><td> 0.14847000</td></tr>\n",
       "\t<tr><td>AAPL</td><td>2010-04-30</td><td> 0.11102165</td></tr>\n",
       "\t<tr><td>AAPL</td><td>2010-05-28</td><td>-0.01612450</td></tr>\n",
       "\t<tr><td>AAPL</td><td>2010-06-30</td><td>-0.02082720</td></tr>\n",
       "</tbody>\n",
       "</table>\n"
      ],
      "text/latex": [
       "A grouped\\_df: 6 × 3\n",
       "\\begin{tabular}{lll}\n",
       " symbol & date & Ra\\\\\n",
       " <chr> & <date> & <dbl>\\\\\n",
       "\\hline\n",
       "\t AAPL & 2010-01-29 & -0.10256522\\\\\n",
       "\t AAPL & 2010-02-26 &  0.06539598\\\\\n",
       "\t AAPL & 2010-03-31 &  0.14847000\\\\\n",
       "\t AAPL & 2010-04-30 &  0.11102165\\\\\n",
       "\t AAPL & 2010-05-28 & -0.01612450\\\\\n",
       "\t AAPL & 2010-06-30 & -0.02082720\\\\\n",
       "\\end{tabular}\n"
      ],
      "text/markdown": [
       "\n",
       "A grouped_df: 6 × 3\n",
       "\n",
       "| symbol &lt;chr&gt; | date &lt;date&gt; | Ra &lt;dbl&gt; |\n",
       "|---|---|---|\n",
       "| AAPL | 2010-01-29 | -0.10256522 |\n",
       "| AAPL | 2010-02-26 |  0.06539598 |\n",
       "| AAPL | 2010-03-31 |  0.14847000 |\n",
       "| AAPL | 2010-04-30 |  0.11102165 |\n",
       "| AAPL | 2010-05-28 | -0.01612450 |\n",
       "| AAPL | 2010-06-30 | -0.02082720 |\n",
       "\n"
      ],
      "text/plain": [
       "  symbol date       Ra         \n",
       "1 AAPL   2010-01-29 -0.10256522\n",
       "2 AAPL   2010-02-26  0.06539598\n",
       "3 AAPL   2010-03-31  0.14847000\n",
       "4 AAPL   2010-04-30  0.11102165\n",
       "5 AAPL   2010-05-28 -0.01612450\n",
       "6 AAPL   2010-06-30 -0.02082720"
      ]
     },
     "metadata": {},
     "output_type": "display_data"
    }
   ],
   "source": [
    "head(stock_returns_monthly)"
   ]
  },
  {
   "cell_type": "code",
   "execution_count": 15,
   "metadata": {
    "vscode": {
     "languageId": "r"
    }
   },
   "outputs": [],
   "source": [
    "wts = c(.4,.3,.3)\n",
    "\n",
    "portfolio_returns_monthly = stock_returns_monthly %>% tq_portfolio(assets_col = symbol,returns_col = Ra,weights=wts,col_rename=\"Ra\")"
   ]
  },
  {
   "cell_type": "code",
   "execution_count": 17,
   "metadata": {
    "vscode": {
     "languageId": "r"
    }
   },
   "outputs": [
    {
     "data": {
      "text/html": [
       "<table class=\"dataframe\">\n",
       "<caption>A tibble: 6 × 2</caption>\n",
       "<thead>\n",
       "\t<tr><th scope=col>date</th><th scope=col>Ra</th></tr>\n",
       "\t<tr><th scope=col>&lt;date&gt;</th><th scope=col>&lt;dbl&gt;</th></tr>\n",
       "</thead>\n",
       "<tbody>\n",
       "\t<tr><td>2010-01-29</td><td>-0.03816920</td></tr>\n",
       "\t<tr><td>2010-02-26</td><td> 0.04500673</td></tr>\n",
       "\t<tr><td>2010-03-31</td><td> 0.11861220</td></tr>\n",
       "\t<tr><td>2010-04-30</td><td> 0.15126660</td></tr>\n",
       "\t<tr><td>2010-05-28</td><td> 0.03219116</td></tr>\n",
       "\t<tr><td>2010-06-30</td><td>-0.03255447</td></tr>\n",
       "</tbody>\n",
       "</table>\n"
      ],
      "text/latex": [
       "A tibble: 6 × 2\n",
       "\\begin{tabular}{ll}\n",
       " date & Ra\\\\\n",
       " <date> & <dbl>\\\\\n",
       "\\hline\n",
       "\t 2010-01-29 & -0.03816920\\\\\n",
       "\t 2010-02-26 &  0.04500673\\\\\n",
       "\t 2010-03-31 &  0.11861220\\\\\n",
       "\t 2010-04-30 &  0.15126660\\\\\n",
       "\t 2010-05-28 &  0.03219116\\\\\n",
       "\t 2010-06-30 & -0.03255447\\\\\n",
       "\\end{tabular}\n"
      ],
      "text/markdown": [
       "\n",
       "A tibble: 6 × 2\n",
       "\n",
       "| date &lt;date&gt; | Ra &lt;dbl&gt; |\n",
       "|---|---|\n",
       "| 2010-01-29 | -0.03816920 |\n",
       "| 2010-02-26 |  0.04500673 |\n",
       "| 2010-03-31 |  0.11861220 |\n",
       "| 2010-04-30 |  0.15126660 |\n",
       "| 2010-05-28 |  0.03219116 |\n",
       "| 2010-06-30 | -0.03255447 |\n",
       "\n"
      ],
      "text/plain": [
       "  date       Ra         \n",
       "1 2010-01-29 -0.03816920\n",
       "2 2010-02-26  0.04500673\n",
       "3 2010-03-31  0.11861220\n",
       "4 2010-04-30  0.15126660\n",
       "5 2010-05-28  0.03219116\n",
       "6 2010-06-30 -0.03255447"
      ]
     },
     "metadata": {},
     "output_type": "display_data"
    }
   ],
   "source": [
    "head(portfolio_returns_monthly)"
   ]
  }
 ],
 "metadata": {
  "kernelspec": {
   "display_name": "R",
   "language": "R",
   "name": "ir"
  },
  "language_info": {
   "codemirror_mode": "r",
   "file_extension": ".r",
   "mimetype": "text/x-r-source",
   "name": "R",
   "pygments_lexer": "r",
   "version": "4.3.2"
  }
 },
 "nbformat": 4,
 "nbformat_minor": 2
}
