{
 "cells": [
  {
   "cell_type": "code",
   "execution_count": 12,
   "metadata": {
    "vscode": {
     "languageId": "r"
    }
   },
   "outputs": [
    {
     "data": {
      "text/html": [
       "<table class=\"dataframe\">\n",
       "<caption>A data.frame: 6 × 2</caption>\n",
       "<thead>\n",
       "\t<tr><th></th><th scope=col>group</th><th scope=col>outcome</th></tr>\n",
       "\t<tr><th></th><th scope=col>&lt;chr&gt;</th><th scope=col>&lt;chr&gt;</th></tr>\n",
       "</thead>\n",
       "<tbody>\n",
       "\t<tr><th scope=row>1</th><td>A</td><td>Success</td></tr>\n",
       "\t<tr><th scope=row>2</th><td>A</td><td>Failure</td></tr>\n",
       "\t<tr><th scope=row>3</th><td>A</td><td>Failure</td></tr>\n",
       "\t<tr><th scope=row>4</th><td>A</td><td>Failure</td></tr>\n",
       "\t<tr><th scope=row>5</th><td>A</td><td>Failure</td></tr>\n",
       "\t<tr><th scope=row>6</th><td>B</td><td>Failure</td></tr>\n",
       "</tbody>\n",
       "</table>\n"
      ],
      "text/latex": [
       "A data.frame: 6 × 2\n",
       "\\begin{tabular}{r|ll}\n",
       "  & group & outcome\\\\\n",
       "  & <chr> & <chr>\\\\\n",
       "\\hline\n",
       "\t1 & A & Success\\\\\n",
       "\t2 & A & Failure\\\\\n",
       "\t3 & A & Failure\\\\\n",
       "\t4 & A & Failure\\\\\n",
       "\t5 & A & Failure\\\\\n",
       "\t6 & B & Failure\\\\\n",
       "\\end{tabular}\n"
      ],
      "text/markdown": [
       "\n",
       "A data.frame: 6 × 2\n",
       "\n",
       "| <!--/--> | group &lt;chr&gt; | outcome &lt;chr&gt; |\n",
       "|---|---|---|\n",
       "| 1 | A | Success |\n",
       "| 2 | A | Failure |\n",
       "| 3 | A | Failure |\n",
       "| 4 | A | Failure |\n",
       "| 5 | A | Failure |\n",
       "| 6 | B | Failure |\n",
       "\n"
      ],
      "text/plain": [
       "  group outcome\n",
       "1 A     Success\n",
       "2 A     Failure\n",
       "3 A     Failure\n",
       "4 A     Failure\n",
       "5 A     Failure\n",
       "6 B     Failure"
      ]
     },
     "metadata": {},
     "output_type": "display_data"
    },
    {
     "data": {
      "text/html": [
       "<table class=\"dataframe\">\n",
       "<caption>A data.frame: 6 × 2</caption>\n",
       "<thead>\n",
       "\t<tr><th></th><th scope=col>group</th><th scope=col>outcome</th></tr>\n",
       "\t<tr><th></th><th scope=col>&lt;chr&gt;</th><th scope=col>&lt;chr&gt;</th></tr>\n",
       "</thead>\n",
       "<tbody>\n",
       "\t<tr><th scope=row>95</th><td>A</td><td>Failure</td></tr>\n",
       "\t<tr><th scope=row>96</th><td>A</td><td>Failure</td></tr>\n",
       "\t<tr><th scope=row>97</th><td>B</td><td>Success</td></tr>\n",
       "\t<tr><th scope=row>98</th><td>A</td><td>Failure</td></tr>\n",
       "\t<tr><th scope=row>99</th><td>B</td><td>Failure</td></tr>\n",
       "\t<tr><th scope=row>100</th><td>A</td><td>Success</td></tr>\n",
       "</tbody>\n",
       "</table>\n"
      ],
      "text/latex": [
       "A data.frame: 6 × 2\n",
       "\\begin{tabular}{r|ll}\n",
       "  & group & outcome\\\\\n",
       "  & <chr> & <chr>\\\\\n",
       "\\hline\n",
       "\t95 & A & Failure\\\\\n",
       "\t96 & A & Failure\\\\\n",
       "\t97 & B & Success\\\\\n",
       "\t98 & A & Failure\\\\\n",
       "\t99 & B & Failure\\\\\n",
       "\t100 & A & Success\\\\\n",
       "\\end{tabular}\n"
      ],
      "text/markdown": [
       "\n",
       "A data.frame: 6 × 2\n",
       "\n",
       "| <!--/--> | group &lt;chr&gt; | outcome &lt;chr&gt; |\n",
       "|---|---|---|\n",
       "| 95 | A | Failure |\n",
       "| 96 | A | Failure |\n",
       "| 97 | B | Success |\n",
       "| 98 | A | Failure |\n",
       "| 99 | B | Failure |\n",
       "| 100 | A | Success |\n",
       "\n"
      ],
      "text/plain": [
       "    group outcome\n",
       "95  A     Failure\n",
       "96  A     Failure\n",
       "97  B     Success\n",
       "98  A     Failure\n",
       "99  B     Failure\n",
       "100 A     Success"
      ]
     },
     "metadata": {},
     "output_type": "display_data"
    }
   ],
   "source": [
    "#  Step 1: simulate data\n",
    "#  ?sample\n",
    "#  100 Bernoulli trials\n",
    "# sample(c(0,1), 100, replace = TRUE)\n",
    "data <- data.frame(\n",
    "  group = sample(c(\"A\", \"B\"), 100, replace = TRUE),\n",
    "  outcome = sample(c(\"Success\", \"Failure\"), 100, replace = TRUE)\n",
    ")\n",
    "head(data)\n",
    "tail(data)"
   ]
  },
  {
   "cell_type": "code",
   "execution_count": 5,
   "metadata": {
    "vscode": {
     "languageId": "r"
    }
   },
   "outputs": [
    {
     "data": {
      "text/plain": [
       "     outcome\n",
       "group Failure Success\n",
       "    A      32      19\n",
       "    B      29      20"
      ]
     },
     "metadata": {},
     "output_type": "display_data"
    }
   ],
   "source": [
    "#  Step 2 Create a contingency table using xtabs()\n",
    "#? xtabs\n",
    "\n",
    "contingency_table <- xtabs(~ group + outcome, data = data)\n",
    "contingency_table"
   ]
  },
  {
   "cell_type": "code",
   "execution_count": 13,
   "metadata": {
    "vscode": {
     "languageId": "r"
    }
   },
   "outputs": [
    {
     "data": {
      "text/plain": [
       "\n",
       "\t2-sample test for equality of proportions with continuity correction\n",
       "\n",
       "data:  contingency_table\n",
       "X-squared = 0.025584, df = 1, p-value = 0.8729\n",
       "alternative hypothesis: two.sided\n",
       "95 percent confidence interval:\n",
       " -0.2467903  0.1755618\n",
       "sample estimates:\n",
       "   prop 1    prop 2 \n",
       "0.3725490 0.4081633 \n"
      ]
     },
     "metadata": {},
     "output_type": "display_data"
    }
   ],
   "source": [
    "# We would use `xtabs()` to create a contingency table and store it in the variable contingency_table.\n",
    "\n",
    "# We then use `contingency_table` in the prop.test() function.\n",
    "# Step 3: Now use this contingency table in prop.test()\n",
    "#? prop.test\n",
    "# prop.test can be used for testing the null that the proportions (probabilities of success) \n",
    "# in several groups are the same,\n",
    "# or that they equal certain given values.\n",
    "test_result <- prop.test(contingency_table)\n",
    "test_result\n",
    "\n"
   ]
  },
  {
   "cell_type": "code",
   "execution_count": 7,
   "metadata": {
    "vscode": {
     "languageId": "r"
    }
   },
   "outputs": [
    {
     "data": {
      "text/plain": [
       "     outcome\n",
       "group Success Failure\n",
       "    A      19      32\n",
       "    B      20      29"
      ]
     },
     "metadata": {},
     "output_type": "display_data"
    }
   ],
   "source": [
    "#  Step 2' Create a contingency table using xtabs()\n",
    "# ? xtabs\n",
    "data$outcome<-factor(data$outcome, levels = c(\"Success\", \"Failure\"))\n",
    "\n",
    "contingency_table <- xtabs(~ group + outcome, data = data)\n",
    "contingency_table"
   ]
  },
  {
   "cell_type": "code",
   "execution_count": 16,
   "metadata": {
    "vscode": {
     "languageId": "r"
    }
   },
   "outputs": [
    {
     "data": {
      "text/plain": [
       "     outcome\n",
       "group Failure Success\n",
       "    A      30      27\n",
       "    B      22      21"
      ]
     },
     "metadata": {},
     "output_type": "display_data"
    }
   ],
   "source": [
    "successes <- table(data)\n",
    "successes"
   ]
  },
  {
   "cell_type": "code",
   "execution_count": 17,
   "metadata": {
    "vscode": {
     "languageId": "r"
    }
   },
   "outputs": [
    {
     "data": {
      "text/html": [
       "57"
      ],
      "text/latex": [
       "57"
      ],
      "text/markdown": [
       "57"
      ],
      "text/plain": [
       "[1] 57"
      ]
     },
     "metadata": {},
     "output_type": "display_data"
    },
    {
     "data": {
      "text/html": [
       "43"
      ],
      "text/latex": [
       "43"
      ],
      "text/markdown": [
       "43"
      ],
      "text/plain": [
       "[1] 43"
      ]
     },
     "metadata": {},
     "output_type": "display_data"
    }
   ],
   "source": [
    "n1 <- sum(data$group == \"A\")  # Total observations in group A\n",
    "n2 <- sum(data$group == \"B\")  # Total observations in group B\n",
    "\n",
    "n1\n",
    "n2"
   ]
  },
  {
   "cell_type": "code",
   "execution_count": null,
   "metadata": {
    "vscode": {
     "languageId": "r"
    }
   },
   "outputs": [
    {
     "data": {
      "text/plain": [
       "\n",
       "     Two-sample comparison of proportions power calculation \n",
       "\n",
       "              n = 18163.75\n",
       "             p1 = 0.4736842\n",
       "             p2 = 0.4883721\n",
       "      sig.level = 0.05\n",
       "          power = 0.8\n",
       "    alternative = two.sided\n",
       "\n",
       "NOTE: n is number in *each* group\n"
      ]
     },
     "metadata": {},
     "output_type": "display_data"
    },
    {
     "data": {
      "text/plain": [
       "\n",
       "     Two-sample comparison of proportions power calculation \n",
       "\n",
       "              n = 57, 43\n",
       "             p1 = 0.4736842\n",
       "             p2 = 0.4883721\n",
       "      sig.level = 0.05\n",
       "          power = 0.03567667, 0.03408715\n",
       "    alternative = two.sided\n",
       "\n",
       "NOTE: n is number in *each* group\n"
      ]
     },
     "metadata": {},
     "output_type": "display_data"
    }
   ],
   "source": [
    "# Step 3: You would first need to calculate p1 and p2 from your data\n",
    "successes <- table(data)\n",
    "n1 <- sum(data$group == \"A\")  # Total observations in group A\n",
    "n2 <- sum(data$group == \"B\")  # Total observations in group B\n",
    "p1 <- successes[\"A\", \"Success\"] / n1  # Proportion of successes in group A\n",
    "p2 <- successes[\"B\", \"Success\"] / n2  # Proportion of successes in group B\n",
    "\n",
    "\n",
    "# power_result1 is used when planning a study to determine how many participants \n",
    "#          you need to include to have a good chance of detecting an effect.\n",
    "power_result1 <- power.prop.test(p1=p1, p2=p2, sig.level=0.05, power=0.8)\n",
    "power_result1\n",
    "\n",
    "\n",
    "# power_result2 is used after data collection to evaluate\n",
    "#   whether the study had sufficient power to detect an effect given the sample sizes and the observed rates of success.\n",
    "power_result2 <- power.prop.test(n=c(n1, n2), p1=p1, p2=p2, sig.level=0.05, power=NULL)\n",
    "power_result2"
   ]
  },
  {
   "cell_type": "code",
   "execution_count": 19,
   "metadata": {
    "vscode": {
     "languageId": "r"
    }
   },
   "outputs": [
    {
     "data": {
      "text/html": [
       "<table class=\"dataframe\">\n",
       "<caption>A data.frame: 24 × 4</caption>\n",
       "<thead>\n",
       "\t<tr><th scope=col>Admit</th><th scope=col>Gender</th><th scope=col>Dept</th><th scope=col>Freq</th></tr>\n",
       "\t<tr><th scope=col>&lt;fct&gt;</th><th scope=col>&lt;fct&gt;</th><th scope=col>&lt;fct&gt;</th><th scope=col>&lt;dbl&gt;</th></tr>\n",
       "</thead>\n",
       "<tbody>\n",
       "\t<tr><td>Admitted</td><td>Male  </td><td>A</td><td>512</td></tr>\n",
       "\t<tr><td>Rejected</td><td>Male  </td><td>A</td><td>313</td></tr>\n",
       "\t<tr><td>Admitted</td><td>Female</td><td>A</td><td> 89</td></tr>\n",
       "\t<tr><td>Rejected</td><td>Female</td><td>A</td><td> 19</td></tr>\n",
       "\t<tr><td>Admitted</td><td>Male  </td><td>B</td><td>353</td></tr>\n",
       "\t<tr><td>Rejected</td><td>Male  </td><td>B</td><td>207</td></tr>\n",
       "\t<tr><td>Admitted</td><td>Female</td><td>B</td><td> 17</td></tr>\n",
       "\t<tr><td>Rejected</td><td>Female</td><td>B</td><td>  8</td></tr>\n",
       "\t<tr><td>Admitted</td><td>Male  </td><td>C</td><td>120</td></tr>\n",
       "\t<tr><td>Rejected</td><td>Male  </td><td>C</td><td>205</td></tr>\n",
       "\t<tr><td>Admitted</td><td>Female</td><td>C</td><td>202</td></tr>\n",
       "\t<tr><td>Rejected</td><td>Female</td><td>C</td><td>391</td></tr>\n",
       "\t<tr><td>Admitted</td><td>Male  </td><td>D</td><td>138</td></tr>\n",
       "\t<tr><td>Rejected</td><td>Male  </td><td>D</td><td>279</td></tr>\n",
       "\t<tr><td>Admitted</td><td>Female</td><td>D</td><td>131</td></tr>\n",
       "\t<tr><td>Rejected</td><td>Female</td><td>D</td><td>244</td></tr>\n",
       "\t<tr><td>Admitted</td><td>Male  </td><td>E</td><td> 53</td></tr>\n",
       "\t<tr><td>Rejected</td><td>Male  </td><td>E</td><td>138</td></tr>\n",
       "\t<tr><td>Admitted</td><td>Female</td><td>E</td><td> 94</td></tr>\n",
       "\t<tr><td>Rejected</td><td>Female</td><td>E</td><td>299</td></tr>\n",
       "\t<tr><td>Admitted</td><td>Male  </td><td>F</td><td> 22</td></tr>\n",
       "\t<tr><td>Rejected</td><td>Male  </td><td>F</td><td>351</td></tr>\n",
       "\t<tr><td>Admitted</td><td>Female</td><td>F</td><td> 24</td></tr>\n",
       "\t<tr><td>Rejected</td><td>Female</td><td>F</td><td>317</td></tr>\n",
       "</tbody>\n",
       "</table>\n"
      ],
      "text/latex": [
       "A data.frame: 24 × 4\n",
       "\\begin{tabular}{llll}\n",
       " Admit & Gender & Dept & Freq\\\\\n",
       " <fct> & <fct> & <fct> & <dbl>\\\\\n",
       "\\hline\n",
       "\t Admitted & Male   & A & 512\\\\\n",
       "\t Rejected & Male   & A & 313\\\\\n",
       "\t Admitted & Female & A &  89\\\\\n",
       "\t Rejected & Female & A &  19\\\\\n",
       "\t Admitted & Male   & B & 353\\\\\n",
       "\t Rejected & Male   & B & 207\\\\\n",
       "\t Admitted & Female & B &  17\\\\\n",
       "\t Rejected & Female & B &   8\\\\\n",
       "\t Admitted & Male   & C & 120\\\\\n",
       "\t Rejected & Male   & C & 205\\\\\n",
       "\t Admitted & Female & C & 202\\\\\n",
       "\t Rejected & Female & C & 391\\\\\n",
       "\t Admitted & Male   & D & 138\\\\\n",
       "\t Rejected & Male   & D & 279\\\\\n",
       "\t Admitted & Female & D & 131\\\\\n",
       "\t Rejected & Female & D & 244\\\\\n",
       "\t Admitted & Male   & E &  53\\\\\n",
       "\t Rejected & Male   & E & 138\\\\\n",
       "\t Admitted & Female & E &  94\\\\\n",
       "\t Rejected & Female & E & 299\\\\\n",
       "\t Admitted & Male   & F &  22\\\\\n",
       "\t Rejected & Male   & F & 351\\\\\n",
       "\t Admitted & Female & F &  24\\\\\n",
       "\t Rejected & Female & F & 317\\\\\n",
       "\\end{tabular}\n"
      ],
      "text/markdown": [
       "\n",
       "A data.frame: 24 × 4\n",
       "\n",
       "| Admit &lt;fct&gt; | Gender &lt;fct&gt; | Dept &lt;fct&gt; | Freq &lt;dbl&gt; |\n",
       "|---|---|---|---|\n",
       "| Admitted | Male   | A | 512 |\n",
       "| Rejected | Male   | A | 313 |\n",
       "| Admitted | Female | A |  89 |\n",
       "| Rejected | Female | A |  19 |\n",
       "| Admitted | Male   | B | 353 |\n",
       "| Rejected | Male   | B | 207 |\n",
       "| Admitted | Female | B |  17 |\n",
       "| Rejected | Female | B |   8 |\n",
       "| Admitted | Male   | C | 120 |\n",
       "| Rejected | Male   | C | 205 |\n",
       "| Admitted | Female | C | 202 |\n",
       "| Rejected | Female | C | 391 |\n",
       "| Admitted | Male   | D | 138 |\n",
       "| Rejected | Male   | D | 279 |\n",
       "| Admitted | Female | D | 131 |\n",
       "| Rejected | Female | D | 244 |\n",
       "| Admitted | Male   | E |  53 |\n",
       "| Rejected | Male   | E | 138 |\n",
       "| Admitted | Female | E |  94 |\n",
       "| Rejected | Female | E | 299 |\n",
       "| Admitted | Male   | F |  22 |\n",
       "| Rejected | Male   | F | 351 |\n",
       "| Admitted | Female | F |  24 |\n",
       "| Rejected | Female | F | 317 |\n",
       "\n"
      ],
      "text/plain": [
       "   Admit    Gender Dept Freq\n",
       "1  Admitted Male   A    512 \n",
       "2  Rejected Male   A    313 \n",
       "3  Admitted Female A     89 \n",
       "4  Rejected Female A     19 \n",
       "5  Admitted Male   B    353 \n",
       "6  Rejected Male   B    207 \n",
       "7  Admitted Female B     17 \n",
       "8  Rejected Female B      8 \n",
       "9  Admitted Male   C    120 \n",
       "10 Rejected Male   C    205 \n",
       "11 Admitted Female C    202 \n",
       "12 Rejected Female C    391 \n",
       "13 Admitted Male   D    138 \n",
       "14 Rejected Male   D    279 \n",
       "15 Admitted Female D    131 \n",
       "16 Rejected Female D    244 \n",
       "17 Admitted Male   E     53 \n",
       "18 Rejected Male   E    138 \n",
       "19 Admitted Female E     94 \n",
       "20 Rejected Female E    299 \n",
       "21 Admitted Male   F     22 \n",
       "22 Rejected Male   F    351 \n",
       "23 Admitted Female F     24 \n",
       "24 Rejected Female F    317 "
      ]
     },
     "metadata": {},
     "output_type": "display_data"
    }
   ],
   "source": [
    "# More examples\n",
    "####################################################\n",
    "## This is already a contingency table in array form.\n",
    "DF <- as.data.frame(UCBAdmissions)\n",
    "## Now 'DF' is a data frame with a grid of the factors and the counts\n",
    "## in variable 'Freq'.\n",
    "DF"
   ]
  },
  {
   "cell_type": "code",
   "execution_count": 20,
   "metadata": {
    "vscode": {
     "languageId": "r"
    }
   },
   "outputs": [
    {
     "data": {
      "text/plain": [
       "        Admit\n",
       "Gender   Admitted Rejected\n",
       "  Male       1198     1493\n",
       "  Female      557     1278"
      ]
     },
     "metadata": {},
     "output_type": "display_data"
    },
    {
     "data": {
      "text/plain": [
       "Call: xtabs(formula = Freq ~ ., data = DF)\n",
       "Number of cases in table: 4526 \n",
       "Number of factors: 3 \n",
       "Test for independence of all factors:\n",
       "\tChisq = 2000.3, df = 16, p-value = 0"
      ]
     },
     "metadata": {},
     "output_type": "display_data"
    }
   ],
   "source": [
    "## Nice for taking margins ...\n",
    "xtabs(Freq ~ Gender + Admit, DF)\n",
    "## And for testing independence ...\n",
    "summary(xtabs(Freq ~ ., DF))"
   ]
  },
  {
   "cell_type": "code",
   "execution_count": null,
   "metadata": {
    "vscode": {
     "languageId": "r"
    }
   },
   "outputs": [
    {
     "data": {
      "text/plain": [
       "\n",
       "\t1-sample proportions test with continuity correction\n",
       "\n",
       "data:  heads out of 100, null probability 0.5\n",
       "X-squared = 0.81, df = 1, p-value = 0.3681\n",
       "alternative hypothesis: true p is not equal to 0.5\n",
       "95 percent confidence interval:\n",
       " 0.3514281 0.5524574\n",
       "sample estimates:\n",
       "   p \n",
       "0.45 \n"
      ]
     },
     "metadata": {},
     "output_type": "display_data"
    },
    {
     "data": {
      "text/plain": [
       "\n",
       "\t1-sample proportions test without continuity correction\n",
       "\n",
       "data:  heads out of 100, null probability 0.5\n",
       "X-squared = 1, df = 1, p-value = 0.3173\n",
       "alternative hypothesis: true p is not equal to 0.5\n",
       "95 percent confidence interval:\n",
       " 0.3561454 0.5475540\n",
       "sample estimates:\n",
       "   p \n",
       "0.45 \n"
      ]
     },
     "metadata": {},
     "output_type": "display_data"
    }
   ],
   "source": [
    "# Test of Equal or Given Proportions\n",
    "\n",
    "heads <- rbinom(1, size = 100, prob = .5)\n",
    "prop.test(heads, 100)          # continuity correction TRUE by default\n",
    "prop.test(heads, 100, correct = FALSE)\n"
   ]
  },
  {
   "cell_type": "code",
   "execution_count": null,
   "metadata": {
    "vscode": {
     "languageId": "r"
    }
   },
   "outputs": [
    {
     "data": {
      "text/plain": [
       "\n",
       "\t4-sample test for equality of proportions without continuity correction\n",
       "\n",
       "data:  smokers out of patients\n",
       "X-squared = 12.6, df = 3, p-value = 0.005585\n",
       "alternative hypothesis: two.sided\n",
       "sample estimates:\n",
       "   prop 1    prop 2    prop 3    prop 4 \n",
       "0.9651163 0.9677419 0.9485294 0.8536585 \n"
      ]
     },
     "metadata": {},
     "output_type": "display_data"
    }
   ],
   "source": [
    "\n",
    "## Data from Fleiss (1981), p. 139.\n",
    "## H0: The null hypothesis is that the four populations from which\n",
    "##     the patients were drawn have the same true proportion of smokers.\n",
    "## A:  The alternative is that this proportion is different in at\n",
    "##     least one of the populations.\n",
    "\n",
    "smokers  <- c( 83, 90, 129, 70)\n",
    "patients <- c( 86, 93, 136, 82)\n",
    "prop.test(smokers, patients)"
   ]
  }
 ],
 "metadata": {
  "kernelspec": {
   "display_name": "R",
   "language": "R",
   "name": "ir"
  },
  "language_info": {
   "codemirror_mode": "r",
   "file_extension": ".r",
   "mimetype": "text/x-r-source",
   "name": "R",
   "pygments_lexer": "r",
   "version": "4.3.2"
  }
 },
 "nbformat": 4,
 "nbformat_minor": 2
}
