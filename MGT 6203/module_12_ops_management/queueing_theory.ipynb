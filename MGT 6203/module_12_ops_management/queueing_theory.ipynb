{
 "cells": [
  {
   "cell_type": "code",
   "execution_count": 1,
   "metadata": {
    "vscode": {
     "languageId": "r"
    }
   },
   "outputs": [],
   "source": [
    "# Method 1: Manual Calculations of Performance Metrics\n",
    "\n",
    "# Arrival rate (customers per hour)\n",
    "lambda <- 3  \n",
    "# Service rate (customers per hour)\n",
    "mu <- 5 "
   ]
  },
  {
   "cell_type": "markdown",
   "metadata": {},
   "source": [
    "Method 1: Manual Calculations of Performance Metrics"
   ]
  },
  {
   "cell_type": "code",
   "execution_count": 3,
   "metadata": {
    "vscode": {
     "languageId": "r"
    }
   },
   "outputs": [
    {
     "data": {
      "text/html": [
       "0.6"
      ],
      "text/latex": [
       "0.6"
      ],
      "text/markdown": [
       "0.6"
      ],
      "text/plain": [
       "[1] 0.6"
      ]
     },
     "metadata": {},
     "output_type": "display_data"
    }
   ],
   "source": [
    "rho = lambda / mu\n",
    "rho"
   ]
  },
  {
   "cell_type": "code",
   "execution_count": 4,
   "metadata": {
    "vscode": {
     "languageId": "r"
    }
   },
   "outputs": [
    {
     "data": {
      "text/html": [
       "1.5"
      ],
      "text/latex": [
       "1.5"
      ],
      "text/markdown": [
       "1.5"
      ],
      "text/plain": [
       "[1] 1.5"
      ]
     },
     "metadata": {},
     "output_type": "display_data"
    }
   ],
   "source": [
    "#Average Number of customers in the system \n",
    "L = lambda / (mu - lambda)\n",
    "L"
   ]
  },
  {
   "cell_type": "code",
   "execution_count": 6,
   "metadata": {
    "vscode": {
     "languageId": "r"
    }
   },
   "outputs": [
    {
     "data": {
      "text/html": [
       "0.9"
      ],
      "text/latex": [
       "0.9"
      ],
      "text/markdown": [
       "0.9"
      ],
      "text/plain": [
       "[1] 0.9"
      ]
     },
     "metadata": {},
     "output_type": "display_data"
    }
   ],
   "source": [
    "#Average number of customers in queue \n",
    "Lq = lambda^2 / (mu*(mu-lambda))\n",
    "\n",
    "Lq"
   ]
  },
  {
   "cell_type": "code",
   "execution_count": 7,
   "metadata": {
    "vscode": {
     "languageId": "r"
    }
   },
   "outputs": [
    {
     "data": {
      "text/html": [
       "0.5"
      ],
      "text/latex": [
       "0.5"
      ],
      "text/markdown": [
       "0.5"
      ],
      "text/plain": [
       "[1] 0.5"
      ]
     },
     "metadata": {},
     "output_type": "display_data"
    }
   ],
   "source": [
    "#Average time a customer spends in the system \n",
    "\n",
    "W = 1/(mu - lambda)\n",
    "W"
   ]
  },
  {
   "cell_type": "code",
   "execution_count": 8,
   "metadata": {
    "vscode": {
     "languageId": "r"
    }
   },
   "outputs": [
    {
     "data": {
      "text/html": [
       "0.3"
      ],
      "text/latex": [
       "0.3"
      ],
      "text/markdown": [
       "0.3"
      ],
      "text/plain": [
       "[1] 0.3"
      ]
     },
     "metadata": {},
     "output_type": "display_data"
    }
   ],
   "source": [
    "#Average time a customer spends in the queue\n",
    "\n",
    "Wq = lambda / (mu*(mu-lambda))\n",
    "\n",
    "Wq"
   ]
  },
  {
   "cell_type": "code",
   "execution_count": 9,
   "metadata": {
    "vscode": {
     "languageId": "r"
    }
   },
   "outputs": [
    {
     "name": "stdout",
     "output_type": "stream",
     "text": [
      "Utilization (rho): 0.6 \n",
      "Average number in system (L): 1.5 \n",
      "Average time in system (W): 0.5 hours\n",
      "Average number in queue (Lq): 0.9 \n",
      "Average time in queue (Wq): 0.3 hours\n"
     ]
    }
   ],
   "source": [
    "cat(\"Utilization (rho):\", rho, \"\\n\")\n",
    "cat(\"Average number in system (L):\", L, \"\\n\")\n",
    "cat(\"Average time in system (W):\", W, \"hours\\n\")\n",
    "cat(\"Average number in queue (Lq):\", Lq, \"\\n\")\n",
    "cat(\"Average time in queue (Wq):\", Wq, \"hours\\n\")"
   ]
  },
  {
   "cell_type": "markdown",
   "metadata": {},
   "source": [
    "Method 2: Create the M/M/1 queue model"
   ]
  },
  {
   "cell_type": "code",
   "execution_count": 10,
   "metadata": {
    "vscode": {
     "languageId": "r"
    }
   },
   "outputs": [
    {
     "name": "stderr",
     "output_type": "stream",
     "text": [
      "Loading required package: queueing\n",
      "\n",
      "Warning message in library(package, lib.loc = lib.loc, character.only = TRUE, logical.return = TRUE, :\n",
      "\"there is no package called 'queueing'\"\n",
      "Installing package into 'C:/Users/Will/AppData/Local/R/win-library/4.3'\n",
      "(as 'lib' is unspecified)\n",
      "\n"
     ]
    },
    {
     "name": "stdout",
     "output_type": "stream",
     "text": [
      "package 'queueing' successfully unpacked and MD5 sums checked\n",
      "\n",
      "The downloaded binary packages are in\n",
      "\tC:\\Users\\Will\\AppData\\Local\\Temp\\RtmpCSIdQs\\downloaded_packages\n"
     ]
    }
   ],
   "source": [
    "if (!require(queueing)) {\n",
    "  install.packages(\"queueing\", dependencies = TRUE)\n",
    "  library(queueing)\n",
    "} else {\n",
    "  library(queueing)\n",
    "}"
   ]
  },
  {
   "cell_type": "code",
   "execution_count": 11,
   "metadata": {
    "vscode": {
     "languageId": "r"
    }
   },
   "outputs": [
    {
     "name": "stdout",
     "output_type": "stream",
     "text": [
      "$Inputs\n",
      "$lambda\n",
      "[1] 3\n",
      "\n",
      "$mu\n",
      "[1] 5\n",
      "\n",
      "$n\n",
      "[1] 0\n",
      "\n",
      "attr(,\"class\")\n",
      "[1] \"i_MM1\"\n",
      "\n",
      "$RO\n",
      "[1] 0.6\n",
      "\n",
      "$Lq\n",
      "[1] 0.9\n",
      "\n",
      "$VNq\n",
      "[1] 2.79\n",
      "\n",
      "$Wq\n",
      "[1] 0.3\n",
      "\n",
      "$VTq\n",
      "[1] 0.21\n",
      "\n",
      "$Throughput\n",
      "[1] 3\n",
      "\n",
      "$L\n",
      "[1] 1.5\n",
      "\n",
      "$VN\n",
      "[1] 3.75\n",
      "\n",
      "$W\n",
      "[1] 0.5\n",
      "\n",
      "$VT\n",
      "[1] 0.25\n",
      "\n",
      "$Wqq\n",
      "[1] 0.5\n",
      "\n",
      "$Lqq\n",
      "[1] 2.5\n",
      "\n",
      "$Pn\n",
      "[1] 0.4\n",
      "\n",
      "$Qn\n",
      "[1] 0.4\n",
      "\n",
      "$FW\n",
      "function (t) \n",
      "{\n",
      "    1 - exp(-t/W)\n",
      "}\n",
      "<bytecode: 0x0000015918c50b40>\n",
      "<environment: 0x0000015918c50478>\n",
      "\n",
      "$FWq\n",
      "function (t) \n",
      "{\n",
      "    1 - (RO * exp(-t/W))\n",
      "}\n",
      "<bytecode: 0x0000015918c4d0b8>\n",
      "<environment: 0x0000015918c50478>\n",
      "\n",
      "attr(,\"class\")\n",
      "[1] \"o_MM1\"\n"
     ]
    }
   ],
   "source": [
    "mm1_model <- NewInput.MM1(lambda, mu)\n",
    "\n",
    "# Analyze the model\n",
    "results <- QueueingModel(mm1_model)\n",
    "\n",
    "# Display the model analysis results\n",
    "print(results)\n"
   ]
  }
 ],
 "metadata": {
  "kernelspec": {
   "display_name": "R",
   "language": "R",
   "name": "ir"
  },
  "language_info": {
   "codemirror_mode": "r",
   "file_extension": ".r",
   "mimetype": "text/x-r-source",
   "name": "R",
   "pygments_lexer": "r",
   "version": "4.3.2"
  }
 },
 "nbformat": 4,
 "nbformat_minor": 2
}
