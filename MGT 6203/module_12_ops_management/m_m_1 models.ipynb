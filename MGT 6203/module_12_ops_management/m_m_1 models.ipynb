{
 "cells": [
  {
   "cell_type": "code",
   "execution_count": 1,
   "metadata": {
    "vscode": {
     "languageId": "r"
    }
   },
   "outputs": [
    {
     "name": "stderr",
     "output_type": "stream",
     "text": [
      "Warning message:\n",
      "\"package 'ggplot2' was built under R version 4.3.3\"\n"
     ]
    }
   ],
   "source": [
    "library(ggplot2)"
   ]
  },
  {
   "cell_type": "code",
   "execution_count": 2,
   "metadata": {
    "vscode": {
     "languageId": "r"
    }
   },
   "outputs": [],
   "source": [
    "lambda <- 2   # Arrival rate\n",
    "mu <- 5       # Service rate"
   ]
  },
  {
   "cell_type": "code",
   "execution_count": 3,
   "metadata": {
    "vscode": {
     "languageId": "r"
    }
   },
   "outputs": [],
   "source": [
    "# Calculate the probability of n customers in the system\n",
    "n_max <- 20  # Maximum number of customers to consider\n",
    "p_n <- sapply(0:n_max, function(n) {\n",
    "  (1 - lambda/mu) * (lambda/mu)^n\n",
    "})"
   ]
  },
  {
   "cell_type": "code",
   "execution_count": 4,
   "metadata": {
    "vscode": {
     "languageId": "r"
    }
   },
   "outputs": [
    {
     "data": {
      "text/html": [
       "<style>\n",
       ".list-inline {list-style: none; margin:0; padding: 0}\n",
       ".list-inline>li {display: inline-block}\n",
       ".list-inline>li:not(:last-child)::after {content: \"\\00b7\"; padding: 0 .5ex}\n",
       "</style>\n",
       "<ol class=list-inline><li>0.6</li><li>0.24</li><li>0.096</li><li>0.0384</li><li>0.01536</li><li>0.006144</li><li>0.0024576</li><li>0.00098304</li><li>0.000393216</li><li>0.0001572864</li><li>6.291456e-05</li><li>2.5165824e-05</li><li>1.00663296e-05</li><li>4.02653184e-06</li><li>1.610612736e-06</li><li>6.44245094400001e-07</li><li>2.5769803776e-07</li><li>1.03079215104e-07</li><li>4.12316860416e-08</li><li>1.649267441664e-08</li><li>6.59706976665601e-09</li></ol>\n"
      ],
      "text/latex": [
       "\\begin{enumerate*}\n",
       "\\item 0.6\n",
       "\\item 0.24\n",
       "\\item 0.096\n",
       "\\item 0.0384\n",
       "\\item 0.01536\n",
       "\\item 0.006144\n",
       "\\item 0.0024576\n",
       "\\item 0.00098304\n",
       "\\item 0.000393216\n",
       "\\item 0.0001572864\n",
       "\\item 6.291456e-05\n",
       "\\item 2.5165824e-05\n",
       "\\item 1.00663296e-05\n",
       "\\item 4.02653184e-06\n",
       "\\item 1.610612736e-06\n",
       "\\item 6.44245094400001e-07\n",
       "\\item 2.5769803776e-07\n",
       "\\item 1.03079215104e-07\n",
       "\\item 4.12316860416e-08\n",
       "\\item 1.649267441664e-08\n",
       "\\item 6.59706976665601e-09\n",
       "\\end{enumerate*}\n"
      ],
      "text/markdown": [
       "1. 0.6\n",
       "2. 0.24\n",
       "3. 0.096\n",
       "4. 0.0384\n",
       "5. 0.01536\n",
       "6. 0.006144\n",
       "7. 0.0024576\n",
       "8. 0.00098304\n",
       "9. 0.000393216\n",
       "10. 0.0001572864\n",
       "11. 6.291456e-05\n",
       "12. 2.5165824e-05\n",
       "13. 1.00663296e-05\n",
       "14. 4.02653184e-06\n",
       "15. 1.610612736e-06\n",
       "16. 6.44245094400001e-07\n",
       "17. 2.5769803776e-07\n",
       "18. 1.03079215104e-07\n",
       "19. 4.12316860416e-08\n",
       "20. 1.649267441664e-08\n",
       "21. 6.59706976665601e-09\n",
       "\n",
       "\n"
      ],
      "text/plain": [
       " [1] 6.000000e-01 2.400000e-01 9.600000e-02 3.840000e-02 1.536000e-02\n",
       " [6] 6.144000e-03 2.457600e-03 9.830400e-04 3.932160e-04 1.572864e-04\n",
       "[11] 6.291456e-05 2.516582e-05 1.006633e-05 4.026532e-06 1.610613e-06\n",
       "[16] 6.442451e-07 2.576980e-07 1.030792e-07 4.123169e-08 1.649267e-08\n",
       "[21] 6.597070e-09"
      ]
     },
     "metadata": {},
     "output_type": "display_data"
    }
   ],
   "source": [
    "p_n"
   ]
  },
  {
   "cell_type": "code",
   "execution_count": 5,
   "metadata": {
    "vscode": {
     "languageId": "r"
    }
   },
   "outputs": [
    {
     "data": {
      "text/html": [
       "<table class=\"dataframe\">\n",
       "<caption>A data.frame: 21 × 2</caption>\n",
       "<thead>\n",
       "\t<tr><th scope=col>n</th><th scope=col>Probability</th></tr>\n",
       "\t<tr><th scope=col>&lt;int&gt;</th><th scope=col>&lt;dbl&gt;</th></tr>\n",
       "</thead>\n",
       "<tbody>\n",
       "\t<tr><td> 0</td><td>6.000000e-01</td></tr>\n",
       "\t<tr><td> 1</td><td>2.400000e-01</td></tr>\n",
       "\t<tr><td> 2</td><td>9.600000e-02</td></tr>\n",
       "\t<tr><td> 3</td><td>3.840000e-02</td></tr>\n",
       "\t<tr><td> 4</td><td>1.536000e-02</td></tr>\n",
       "\t<tr><td> 5</td><td>6.144000e-03</td></tr>\n",
       "\t<tr><td> 6</td><td>2.457600e-03</td></tr>\n",
       "\t<tr><td> 7</td><td>9.830400e-04</td></tr>\n",
       "\t<tr><td> 8</td><td>3.932160e-04</td></tr>\n",
       "\t<tr><td> 9</td><td>1.572864e-04</td></tr>\n",
       "\t<tr><td>10</td><td>6.291456e-05</td></tr>\n",
       "\t<tr><td>11</td><td>2.516582e-05</td></tr>\n",
       "\t<tr><td>12</td><td>1.006633e-05</td></tr>\n",
       "\t<tr><td>13</td><td>4.026532e-06</td></tr>\n",
       "\t<tr><td>14</td><td>1.610613e-06</td></tr>\n",
       "\t<tr><td>15</td><td>6.442451e-07</td></tr>\n",
       "\t<tr><td>16</td><td>2.576980e-07</td></tr>\n",
       "\t<tr><td>17</td><td>1.030792e-07</td></tr>\n",
       "\t<tr><td>18</td><td>4.123169e-08</td></tr>\n",
       "\t<tr><td>19</td><td>1.649267e-08</td></tr>\n",
       "\t<tr><td>20</td><td>6.597070e-09</td></tr>\n",
       "</tbody>\n",
       "</table>\n"
      ],
      "text/latex": [
       "A data.frame: 21 × 2\n",
       "\\begin{tabular}{ll}\n",
       " n & Probability\\\\\n",
       " <int> & <dbl>\\\\\n",
       "\\hline\n",
       "\t  0 & 6.000000e-01\\\\\n",
       "\t  1 & 2.400000e-01\\\\\n",
       "\t  2 & 9.600000e-02\\\\\n",
       "\t  3 & 3.840000e-02\\\\\n",
       "\t  4 & 1.536000e-02\\\\\n",
       "\t  5 & 6.144000e-03\\\\\n",
       "\t  6 & 2.457600e-03\\\\\n",
       "\t  7 & 9.830400e-04\\\\\n",
       "\t  8 & 3.932160e-04\\\\\n",
       "\t  9 & 1.572864e-04\\\\\n",
       "\t 10 & 6.291456e-05\\\\\n",
       "\t 11 & 2.516582e-05\\\\\n",
       "\t 12 & 1.006633e-05\\\\\n",
       "\t 13 & 4.026532e-06\\\\\n",
       "\t 14 & 1.610613e-06\\\\\n",
       "\t 15 & 6.442451e-07\\\\\n",
       "\t 16 & 2.576980e-07\\\\\n",
       "\t 17 & 1.030792e-07\\\\\n",
       "\t 18 & 4.123169e-08\\\\\n",
       "\t 19 & 1.649267e-08\\\\\n",
       "\t 20 & 6.597070e-09\\\\\n",
       "\\end{tabular}\n"
      ],
      "text/markdown": [
       "\n",
       "A data.frame: 21 × 2\n",
       "\n",
       "| n &lt;int&gt; | Probability &lt;dbl&gt; |\n",
       "|---|---|\n",
       "|  0 | 6.000000e-01 |\n",
       "|  1 | 2.400000e-01 |\n",
       "|  2 | 9.600000e-02 |\n",
       "|  3 | 3.840000e-02 |\n",
       "|  4 | 1.536000e-02 |\n",
       "|  5 | 6.144000e-03 |\n",
       "|  6 | 2.457600e-03 |\n",
       "|  7 | 9.830400e-04 |\n",
       "|  8 | 3.932160e-04 |\n",
       "|  9 | 1.572864e-04 |\n",
       "| 10 | 6.291456e-05 |\n",
       "| 11 | 2.516582e-05 |\n",
       "| 12 | 1.006633e-05 |\n",
       "| 13 | 4.026532e-06 |\n",
       "| 14 | 1.610613e-06 |\n",
       "| 15 | 6.442451e-07 |\n",
       "| 16 | 2.576980e-07 |\n",
       "| 17 | 1.030792e-07 |\n",
       "| 18 | 4.123169e-08 |\n",
       "| 19 | 1.649267e-08 |\n",
       "| 20 | 6.597070e-09 |\n",
       "\n"
      ],
      "text/plain": [
       "   n  Probability \n",
       "1   0 6.000000e-01\n",
       "2   1 2.400000e-01\n",
       "3   2 9.600000e-02\n",
       "4   3 3.840000e-02\n",
       "5   4 1.536000e-02\n",
       "6   5 6.144000e-03\n",
       "7   6 2.457600e-03\n",
       "8   7 9.830400e-04\n",
       "9   8 3.932160e-04\n",
       "10  9 1.572864e-04\n",
       "11 10 6.291456e-05\n",
       "12 11 2.516582e-05\n",
       "13 12 1.006633e-05\n",
       "14 13 4.026532e-06\n",
       "15 14 1.610613e-06\n",
       "16 15 6.442451e-07\n",
       "17 16 2.576980e-07\n",
       "18 17 1.030792e-07\n",
       "19 18 4.123169e-08\n",
       "20 19 1.649267e-08\n",
       "21 20 6.597070e-09"
      ]
     },
     "metadata": {},
     "output_type": "display_data"
    }
   ],
   "source": [
    "# Create a data frame for plotting\n",
    "df <- data.frame(n = 0:n_max, Probability = p_n)\n",
    "df"
   ]
  },
  {
   "cell_type": "code",
   "execution_count": 6,
   "metadata": {
    "vscode": {
     "languageId": "r"
    }
   },
   "outputs": [
    {
     "data": {
      "image/png": "[encoded data removed]",
      "text/plain": [
       "plot without title"
      ]
     },
     "metadata": {
      "image/png": {
       "height": 420,
       "width": 420
      }
     },
     "output_type": "display_data"
    }
   ],
   "source": [
    "# Plotting\n",
    "ggplot(df, aes(x = n, y = Probability)) +\n",
    "  geom_bar(stat = \"identity\", fill = \"steelblue\") +\n",
    "  labs(title = \"Probability Distribution of Customers in M/M/1 Queue\",\n",
    "       x = \"Number of Customers\",\n",
    "       y = \"Probability\") +\n",
    "  theme_minimal()"
   ]
  },
  {
   "cell_type": "code",
   "execution_count": 7,
   "metadata": {
    "vscode": {
     "languageId": "r"
    }
   },
   "outputs": [
    {
     "name": "stdout",
     "output_type": "stream",
     "text": [
      "[1] \"Probability of 0 customers: 0.600000\"\n",
      "[1] \"Probability of 2 customers: 0.096000\"\n",
      "[1] \"Probability of more than 2 customers: 0.064000\"\n",
      "[1] \"Probability of less than 2 customers: 0.840000\"\n"
     ]
    }
   ],
   "source": [
    "# Probabilities of interest\n",
    "probability_of_0_customers <- p_n[1]  # R is 1-indexed, so p_n[1] corresponds to 0 customers\n",
    "probability_of_2_customers <- p_n[3]  # Probability of exactly 2 customers\n",
    "probability_of_more_than_2_customers <- sum(p_n[4:length(p_n)])  # Sum of probabilities for more than 2 customers\n",
    "probability_of_less_than_2_customers <- sum(p_n[1:2])  # Sum of probabilities for less than 2 customers\n",
    "\n",
    "# Print the probabilities\n",
    "print(sprintf(\"Probability of 0 customers: %f\", probability_of_0_customers))\n",
    "print(sprintf(\"Probability of 2 customers: %f\", probability_of_2_customers))\n",
    "print(sprintf(\"Probability of more than 2 customers: %f\", probability_of_more_than_2_customers))\n",
    "print(sprintf(\"Probability of less than 2 customers: %f\", probability_of_less_than_2_customers))"
   ]
  }
 ],
 "metadata": {
  "kernelspec": {
   "display_name": "R",
   "language": "R",
   "name": "ir"
  },
  "language_info": {
   "codemirror_mode": "r",
   "file_extension": ".r",
   "mimetype": "text/x-r-source",
   "name": "R",
   "pygments_lexer": "r",
   "version": "4.3.2"
  }
 },
 "nbformat": 4,
 "nbformat_minor": 2
}
