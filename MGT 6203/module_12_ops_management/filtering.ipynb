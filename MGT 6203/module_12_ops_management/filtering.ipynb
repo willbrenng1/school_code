{
 "cells": [
  {
   "cell_type": "code",
   "execution_count": 2,
   "metadata": {
    "vscode": {
     "languageId": "r"
    }
   },
   "outputs": [],
   "source": [
    "#Approach #1 \n",
    "#########################\n",
    "\n",
    "# Ensure the dplyr package is loaded\n",
    "if (!require(dplyr)) install.packages(\"dplyr\")\n",
    "library(dplyr)"
   ]
  },
  {
   "cell_type": "code",
   "execution_count": 4,
   "metadata": {
    "vscode": {
     "languageId": "r"
    }
   },
   "outputs": [
    {
     "data": {
      "text/html": [
       "<table class=\"dataframe\">\n",
       "<caption>A data.frame: 8 × 1</caption>\n",
       "<thead>\n",
       "\t<tr><th scope=col>Letters</th></tr>\n",
       "\t<tr><th scope=col>&lt;chr&gt;</th></tr>\n",
       "</thead>\n",
       "<tbody>\n",
       "\t<tr><td>A</td></tr>\n",
       "\t<tr><td>B</td></tr>\n",
       "\t<tr><td>C</td></tr>\n",
       "\t<tr><td>A</td></tr>\n",
       "\t<tr><td>B</td></tr>\n",
       "\t<tr><td>C</td></tr>\n",
       "\t<tr><td>A</td></tr>\n",
       "\t<tr><td>B</td></tr>\n",
       "</tbody>\n",
       "</table>\n"
      ],
      "text/latex": [
       "A data.frame: 8 × 1\n",
       "\\begin{tabular}{l}\n",
       " Letters\\\\\n",
       " <chr>\\\\\n",
       "\\hline\n",
       "\t A\\\\\n",
       "\t B\\\\\n",
       "\t C\\\\\n",
       "\t A\\\\\n",
       "\t B\\\\\n",
       "\t C\\\\\n",
       "\t A\\\\\n",
       "\t B\\\\\n",
       "\\end{tabular}\n"
      ],
      "text/markdown": [
       "\n",
       "A data.frame: 8 × 1\n",
       "\n",
       "| Letters &lt;chr&gt; |\n",
       "|---|\n",
       "| A |\n",
       "| B |\n",
       "| C |\n",
       "| A |\n",
       "| B |\n",
       "| C |\n",
       "| A |\n",
       "| B |\n",
       "\n"
      ],
      "text/plain": [
       "  Letters\n",
       "1 A      \n",
       "2 B      \n",
       "3 C      \n",
       "4 A      \n",
       "5 B      \n",
       "6 C      \n",
       "7 A      \n",
       "8 B      "
      ]
     },
     "metadata": {},
     "output_type": "display_data"
    }
   ],
   "source": [
    "data = data.frame(Letters = c(\"A\",\"B\",\"C\",\"A\",\"B\",\"C\",\"A\",\"B\"))\n",
    "\n",
    "data"
   ]
  },
  {
   "cell_type": "code",
   "execution_count": 6,
   "metadata": {
    "vscode": {
     "languageId": "r"
    }
   },
   "outputs": [
    {
     "data": {
      "text/html": [
       "<table class=\"dataframe\">\n",
       "<caption>A data.frame: 6 × 1</caption>\n",
       "<thead>\n",
       "\t<tr><th scope=col>Letters</th></tr>\n",
       "\t<tr><th scope=col>&lt;chr&gt;</th></tr>\n",
       "</thead>\n",
       "<tbody>\n",
       "\t<tr><td>A</td></tr>\n",
       "\t<tr><td>B</td></tr>\n",
       "\t<tr><td>A</td></tr>\n",
       "\t<tr><td>B</td></tr>\n",
       "\t<tr><td>A</td></tr>\n",
       "\t<tr><td>B</td></tr>\n",
       "</tbody>\n",
       "</table>\n"
      ],
      "text/latex": [
       "A data.frame: 6 × 1\n",
       "\\begin{tabular}{l}\n",
       " Letters\\\\\n",
       " <chr>\\\\\n",
       "\\hline\n",
       "\t A\\\\\n",
       "\t B\\\\\n",
       "\t A\\\\\n",
       "\t B\\\\\n",
       "\t A\\\\\n",
       "\t B\\\\\n",
       "\\end{tabular}\n"
      ],
      "text/markdown": [
       "\n",
       "A data.frame: 6 × 1\n",
       "\n",
       "| Letters &lt;chr&gt; |\n",
       "|---|\n",
       "| A |\n",
       "| B |\n",
       "| A |\n",
       "| B |\n",
       "| A |\n",
       "| B |\n",
       "\n"
      ],
      "text/plain": [
       "  Letters\n",
       "1 A      \n",
       "2 B      \n",
       "3 A      \n",
       "4 B      \n",
       "5 A      \n",
       "6 B      "
      ]
     },
     "metadata": {},
     "output_type": "display_data"
    }
   ],
   "source": [
    "# Use filter() to select A and B\n",
    "\n",
    "select_AB = filter(data, Letters %in% c(\"A\",\"B\"))\n",
    "select_AB"
   ]
  },
  {
   "cell_type": "code",
   "execution_count": 8,
   "metadata": {
    "vscode": {
     "languageId": "r"
    }
   },
   "outputs": [
    {
     "data": {
      "text/html": [
       "<table class=\"dataframe\">\n",
       "<caption>A data.frame: 6 × 1</caption>\n",
       "<thead>\n",
       "\t<tr><th scope=col>Letters</th></tr>\n",
       "\t<tr><th scope=col>&lt;chr&gt;</th></tr>\n",
       "</thead>\n",
       "<tbody>\n",
       "\t<tr><td>A</td></tr>\n",
       "\t<tr><td>B</td></tr>\n",
       "\t<tr><td>A</td></tr>\n",
       "\t<tr><td>B</td></tr>\n",
       "\t<tr><td>A</td></tr>\n",
       "\t<tr><td>B</td></tr>\n",
       "</tbody>\n",
       "</table>\n"
      ],
      "text/latex": [
       "A data.frame: 6 × 1\n",
       "\\begin{tabular}{l}\n",
       " Letters\\\\\n",
       " <chr>\\\\\n",
       "\\hline\n",
       "\t A\\\\\n",
       "\t B\\\\\n",
       "\t A\\\\\n",
       "\t B\\\\\n",
       "\t A\\\\\n",
       "\t B\\\\\n",
       "\\end{tabular}\n"
      ],
      "text/markdown": [
       "\n",
       "A data.frame: 6 × 1\n",
       "\n",
       "| Letters &lt;chr&gt; |\n",
       "|---|\n",
       "| A |\n",
       "| B |\n",
       "| A |\n",
       "| B |\n",
       "| A |\n",
       "| B |\n",
       "\n"
      ],
      "text/plain": [
       "  Letters\n",
       "1 A      \n",
       "2 B      \n",
       "3 A      \n",
       "4 B      \n",
       "5 A      \n",
       "6 B      "
      ]
     },
     "metadata": {},
     "output_type": "display_data"
    }
   ],
   "source": [
    "# Use filter() to select either A or B\n",
    "\n",
    "select_a_or_b = filter(data,Letters==\"A\" | Letters ==\"B\")\n",
    "\n",
    "select_a_or_b"
   ]
  },
  {
   "cell_type": "code",
   "execution_count": 10,
   "metadata": {
    "vscode": {
     "languageId": "r"
    }
   },
   "outputs": [
    {
     "data": {
      "text/html": [
       "<table class=\"dataframe\">\n",
       "<caption>A data.frame: 8 × 2</caption>\n",
       "<thead>\n",
       "\t<tr><th scope=col>Letters</th><th scope=col>Scores</th></tr>\n",
       "\t<tr><th scope=col>&lt;chr&gt;</th><th scope=col>&lt;dbl&gt;</th></tr>\n",
       "</thead>\n",
       "<tbody>\n",
       "\t<tr><td>A</td><td>10</td></tr>\n",
       "\t<tr><td>B</td><td>15</td></tr>\n",
       "\t<tr><td>C</td><td>10</td></tr>\n",
       "\t<tr><td>A</td><td>20</td></tr>\n",
       "\t<tr><td>B</td><td>15</td></tr>\n",
       "\t<tr><td>C</td><td>20</td></tr>\n",
       "\t<tr><td>A</td><td> 4</td></tr>\n",
       "\t<tr><td>B</td><td>25</td></tr>\n",
       "</tbody>\n",
       "</table>\n"
      ],
      "text/latex": [
       "A data.frame: 8 × 2\n",
       "\\begin{tabular}{ll}\n",
       " Letters & Scores\\\\\n",
       " <chr> & <dbl>\\\\\n",
       "\\hline\n",
       "\t A & 10\\\\\n",
       "\t B & 15\\\\\n",
       "\t C & 10\\\\\n",
       "\t A & 20\\\\\n",
       "\t B & 15\\\\\n",
       "\t C & 20\\\\\n",
       "\t A &  4\\\\\n",
       "\t B & 25\\\\\n",
       "\\end{tabular}\n"
      ],
      "text/markdown": [
       "\n",
       "A data.frame: 8 × 2\n",
       "\n",
       "| Letters &lt;chr&gt; | Scores &lt;dbl&gt; |\n",
       "|---|---|\n",
       "| A | 10 |\n",
       "| B | 15 |\n",
       "| C | 10 |\n",
       "| A | 20 |\n",
       "| B | 15 |\n",
       "| C | 20 |\n",
       "| A |  4 |\n",
       "| B | 25 |\n",
       "\n"
      ],
      "text/plain": [
       "  Letters Scores\n",
       "1 A       10    \n",
       "2 B       15    \n",
       "3 C       10    \n",
       "4 A       20    \n",
       "5 B       15    \n",
       "6 C       20    \n",
       "7 A        4    \n",
       "8 B       25    "
      ]
     },
     "metadata": {},
     "output_type": "display_data"
    }
   ],
   "source": [
    "#########################\n",
    "#Approach #2\n",
    "#########################\n",
    "\n",
    "\n",
    "data_1 = data.frame(Letters = c(\"A\",\"B\",\"C\",\"A\",\"B\",\"C\",\"A\",\"B\"),Scores = c(10,15,10,20,15,20,4,25))\n",
    "data_1"
   ]
  },
  {
   "cell_type": "code",
   "execution_count": 13,
   "metadata": {
    "vscode": {
     "languageId": "r"
    }
   },
   "outputs": [
    {
     "data": {
      "text/html": [
       "<table class=\"dataframe\">\n",
       "<caption>A data.frame: 4 × 2</caption>\n",
       "<thead>\n",
       "\t<tr><th scope=col>Letters</th><th scope=col>Scores</th></tr>\n",
       "\t<tr><th scope=col>&lt;chr&gt;</th><th scope=col>&lt;dbl&gt;</th></tr>\n",
       "</thead>\n",
       "<tbody>\n",
       "\t<tr><td>B</td><td>15</td></tr>\n",
       "\t<tr><td>A</td><td>20</td></tr>\n",
       "\t<tr><td>B</td><td>15</td></tr>\n",
       "\t<tr><td>B</td><td>25</td></tr>\n",
       "</tbody>\n",
       "</table>\n"
      ],
      "text/latex": [
       "A data.frame: 4 × 2\n",
       "\\begin{tabular}{ll}\n",
       " Letters & Scores\\\\\n",
       " <chr> & <dbl>\\\\\n",
       "\\hline\n",
       "\t B & 15\\\\\n",
       "\t A & 20\\\\\n",
       "\t B & 15\\\\\n",
       "\t B & 25\\\\\n",
       "\\end{tabular}\n"
      ],
      "text/markdown": [
       "\n",
       "A data.frame: 4 × 2\n",
       "\n",
       "| Letters &lt;chr&gt; | Scores &lt;dbl&gt; |\n",
       "|---|---|\n",
       "| B | 15 |\n",
       "| A | 20 |\n",
       "| B | 15 |\n",
       "| B | 25 |\n",
       "\n"
      ],
      "text/plain": [
       "  Letters Scores\n",
       "1 B       15    \n",
       "2 A       20    \n",
       "3 B       15    \n",
       "4 B       25    "
      ]
     },
     "metadata": {},
     "output_type": "display_data"
    }
   ],
   "source": [
    "# Filter to select A and B with score condition\n",
    "\n",
    "select_AB_scores = filter(data_1,Letters %in% c(\"A\",\"B\") & Scores >10)\n",
    "select_AB_scores"
   ]
  },
  {
   "cell_type": "code",
   "execution_count": 14,
   "metadata": {
    "vscode": {
     "languageId": "r"
    }
   },
   "outputs": [
    {
     "data": {
      "text/html": [
       "<table class=\"dataframe\">\n",
       "<caption>A data.frame: 6 × 2</caption>\n",
       "<thead>\n",
       "\t<tr><th scope=col>Letters</th><th scope=col>Scores</th></tr>\n",
       "\t<tr><th scope=col>&lt;chr&gt;</th><th scope=col>&lt;dbl&gt;</th></tr>\n",
       "</thead>\n",
       "<tbody>\n",
       "\t<tr><td>A</td><td>10</td></tr>\n",
       "\t<tr><td>B</td><td>15</td></tr>\n",
       "\t<tr><td>A</td><td>20</td></tr>\n",
       "\t<tr><td>B</td><td>15</td></tr>\n",
       "\t<tr><td>A</td><td> 4</td></tr>\n",
       "\t<tr><td>B</td><td>25</td></tr>\n",
       "</tbody>\n",
       "</table>\n"
      ],
      "text/latex": [
       "A data.frame: 6 × 2\n",
       "\\begin{tabular}{ll}\n",
       " Letters & Scores\\\\\n",
       " <chr> & <dbl>\\\\\n",
       "\\hline\n",
       "\t A & 10\\\\\n",
       "\t B & 15\\\\\n",
       "\t A & 20\\\\\n",
       "\t B & 15\\\\\n",
       "\t A &  4\\\\\n",
       "\t B & 25\\\\\n",
       "\\end{tabular}\n"
      ],
      "text/markdown": [
       "\n",
       "A data.frame: 6 × 2\n",
       "\n",
       "| Letters &lt;chr&gt; | Scores &lt;dbl&gt; |\n",
       "|---|---|\n",
       "| A | 10 |\n",
       "| B | 15 |\n",
       "| A | 20 |\n",
       "| B | 15 |\n",
       "| A |  4 |\n",
       "| B | 25 |\n",
       "\n"
      ],
      "text/plain": [
       "  Letters Scores\n",
       "1 A       10    \n",
       "2 B       15    \n",
       "3 A       20    \n",
       "4 B       15    \n",
       "5 A        4    \n",
       "6 B       25    "
      ]
     },
     "metadata": {},
     "output_type": "display_data"
    }
   ],
   "source": [
    "# Filter to select either A or B, regardless of score\n",
    "\n",
    "selected_a_b  = filter(data_1,Letters==\"A\" | Letters ==\"B\")\n",
    "selected_a_b"
   ]
  }
 ],
 "metadata": {
  "kernelspec": {
   "display_name": "R",
   "language": "R",
   "name": "ir"
  },
  "language_info": {
   "codemirror_mode": "r",
   "file_extension": ".r",
   "mimetype": "text/x-r-source",
   "name": "R",
   "pygments_lexer": "r",
   "version": "4.3.2"
  }
 },
 "nbformat": 4,
 "nbformat_minor": 2
}
