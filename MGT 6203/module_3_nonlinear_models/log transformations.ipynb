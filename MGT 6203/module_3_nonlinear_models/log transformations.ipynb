{
 "cells": [
  {
   "cell_type": "code",
   "execution_count": 21,
   "metadata": {
    "vscode": {
     "languageId": "r"
    }
   },
   "outputs": [
    {
     "name": "stderr",
     "output_type": "stream",
     "text": [
      "\n",
      "Attaching package: 'dplyr'\n",
      "\n",
      "\n",
      "The following objects are masked from 'package:stats':\n",
      "\n",
      "    filter, lag\n",
      "\n",
      "\n",
      "The following objects are masked from 'package:base':\n",
      "\n",
      "    intersect, setdiff, setequal, union\n",
      "\n",
      "\n"
     ]
    }
   ],
   "source": [
    "log_test = read.csv(\"Module 3 - Nonlinear Models/lgtrans.csv\")\n",
    "library(dplyr)"
   ]
  },
  {
   "cell_type": "code",
   "execution_count": 6,
   "metadata": {
    "vscode": {
     "languageId": "r"
    }
   },
   "outputs": [
    {
     "data": {
      "text/html": [
       "<table class=\"dataframe\">\n",
       "<caption>A data.frame: 6 × 6</caption>\n",
       "<thead>\n",
       "\t<tr><th></th><th scope=col>female</th><th scope=col>read</th><th scope=col>write</th><th scope=col>math</th><th scope=col>lgwrite</th><th scope=col>lgmath</th></tr>\n",
       "\t<tr><th></th><th scope=col>&lt;chr&gt;</th><th scope=col>&lt;int&gt;</th><th scope=col>&lt;int&gt;</th><th scope=col>&lt;int&gt;</th><th scope=col>&lt;dbl&gt;</th><th scope=col>&lt;dbl&gt;</th></tr>\n",
       "</thead>\n",
       "<tbody>\n",
       "\t<tr><th scope=row>1</th><td>male  </td><td>57</td><td>52</td><td>41</td><td>3.951244</td><td>3.713572</td></tr>\n",
       "\t<tr><th scope=row>2</th><td>female</td><td>68</td><td>59</td><td>53</td><td>4.077538</td><td>3.970292</td></tr>\n",
       "\t<tr><th scope=row>3</th><td>male  </td><td>44</td><td>33</td><td>54</td><td>3.496508</td><td>3.988984</td></tr>\n",
       "\t<tr><th scope=row>4</th><td>male  </td><td>63</td><td>44</td><td>47</td><td>3.784190</td><td>3.850147</td></tr>\n",
       "\t<tr><th scope=row>5</th><td>male  </td><td>47</td><td>52</td><td>57</td><td>3.951244</td><td>4.043051</td></tr>\n",
       "\t<tr><th scope=row>6</th><td>male  </td><td>44</td><td>52</td><td>51</td><td>3.951244</td><td>3.931826</td></tr>\n",
       "</tbody>\n",
       "</table>\n"
      ],
      "text/latex": [
       "A data.frame: 6 × 6\n",
       "\\begin{tabular}{r|llllll}\n",
       "  & female & read & write & math & lgwrite & lgmath\\\\\n",
       "  & <chr> & <int> & <int> & <int> & <dbl> & <dbl>\\\\\n",
       "\\hline\n",
       "\t1 & male   & 57 & 52 & 41 & 3.951244 & 3.713572\\\\\n",
       "\t2 & female & 68 & 59 & 53 & 4.077538 & 3.970292\\\\\n",
       "\t3 & male   & 44 & 33 & 54 & 3.496508 & 3.988984\\\\\n",
       "\t4 & male   & 63 & 44 & 47 & 3.784190 & 3.850147\\\\\n",
       "\t5 & male   & 47 & 52 & 57 & 3.951244 & 4.043051\\\\\n",
       "\t6 & male   & 44 & 52 & 51 & 3.951244 & 3.931826\\\\\n",
       "\\end{tabular}\n"
      ],
      "text/markdown": [
       "\n",
       "A data.frame: 6 × 6\n",
       "\n",
       "| <!--/--> | female &lt;chr&gt; | read &lt;int&gt; | write &lt;int&gt; | math &lt;int&gt; | lgwrite &lt;dbl&gt; | lgmath &lt;dbl&gt; |\n",
       "|---|---|---|---|---|---|---|\n",
       "| 1 | male   | 57 | 52 | 41 | 3.951244 | 3.713572 |\n",
       "| 2 | female | 68 | 59 | 53 | 4.077538 | 3.970292 |\n",
       "| 3 | male   | 44 | 33 | 54 | 3.496508 | 3.988984 |\n",
       "| 4 | male   | 63 | 44 | 47 | 3.784190 | 3.850147 |\n",
       "| 5 | male   | 47 | 52 | 57 | 3.951244 | 4.043051 |\n",
       "| 6 | male   | 44 | 52 | 51 | 3.951244 | 3.931826 |\n",
       "\n"
      ],
      "text/plain": [
       "  female read write math lgwrite  lgmath  \n",
       "1 male   57   52    41   3.951244 3.713572\n",
       "2 female 68   59    53   4.077538 3.970292\n",
       "3 male   44   33    54   3.496508 3.988984\n",
       "4 male   63   44    47   3.784190 3.850147\n",
       "5 male   47   52    57   3.951244 4.043051\n",
       "6 male   44   52    51   3.951244 3.931826"
      ]
     },
     "metadata": {},
     "output_type": "display_data"
    }
   ],
   "source": [
    "head(log_test)"
   ]
  },
  {
   "cell_type": "code",
   "execution_count": 8,
   "metadata": {
    "vscode": {
     "languageId": "r"
    }
   },
   "outputs": [
    {
     "data": {
      "text/plain": [
       "    female               read           write            math      \n",
       " Length:200         Min.   :28.00   Min.   :31.00   Min.   :33.00  \n",
       " Class :character   1st Qu.:44.00   1st Qu.:45.75   1st Qu.:45.00  \n",
       " Mode  :character   Median :50.00   Median :54.00   Median :52.00  \n",
       "                    Mean   :52.23   Mean   :52.77   Mean   :52.65  \n",
       "                    3rd Qu.:60.00   3rd Qu.:60.00   3rd Qu.:59.00  \n",
       "                    Max.   :76.00   Max.   :67.00   Max.   :75.00  \n",
       "    lgwrite          lgmath     \n",
       " Min.   :3.434   Min.   :3.497  \n",
       " 1st Qu.:3.823   1st Qu.:3.807  \n",
       " Median :3.989   Median :3.951  \n",
       " Mean   :3.948   Mean   :3.948  \n",
       " 3rd Qu.:4.094   3rd Qu.:4.078  \n",
       " Max.   :4.205   Max.   :4.317  "
      ]
     },
     "metadata": {},
     "output_type": "display_data"
    }
   ],
   "source": [
    "summary(log_test)"
   ]
  },
  {
   "cell_type": "code",
   "execution_count": 17,
   "metadata": {
    "vscode": {
     "languageId": "r"
    }
   },
   "outputs": [
    {
     "data": {
      "text/plain": [
       "\n",
       "Call:\n",
       "lm(formula = log_test$lgwrite ~ 1)\n",
       "\n",
       "Residuals:\n",
       "     Min       1Q   Median       3Q      Max \n",
       "-0.51436 -0.12520  0.04064  0.14600  0.25635 \n",
       "\n",
       "Coefficients:\n",
       "            Estimate Std. Error t value Pr(>|t|)    \n",
       "(Intercept)  3.94835    0.01369   288.4   <2e-16 ***\n",
       "---\n",
       "Signif. codes:  0 '***' 0.001 '**' 0.01 '*' 0.05 '.' 0.1 ' ' 1\n",
       "\n",
       "Residual standard error: 0.1936 on 199 degrees of freedom\n"
      ]
     },
     "metadata": {},
     "output_type": "display_data"
    }
   ],
   "source": [
    "int_only_lm = lm(log_test$lgwrite~1)\n",
    "\n",
    "summary(int_only_lm)"
   ]
  },
  {
   "cell_type": "code",
   "execution_count": 24,
   "metadata": {
    "vscode": {
     "languageId": "r"
    }
   },
   "outputs": [],
   "source": [
    "female= log_test %>% filter(female==\"female\")\n",
    "male= log_test %>% filter(female==\"male\")"
   ]
  },
  {
   "cell_type": "code",
   "execution_count": null,
   "metadata": {
    "vscode": {
     "languageId": "r"
    }
   },
   "outputs": [],
   "source": []
  },
  {
   "cell_type": "code",
   "execution_count": 25,
   "metadata": {
    "vscode": {
     "languageId": "r"
    }
   },
   "outputs": [
    {
     "data": {
      "text/plain": [
       "\n",
       "Call:\n",
       "lm(formula = lgwrite ~ female, data = log_test)\n",
       "\n",
       "Residuals:\n",
       "     Min       1Q   Median       3Q      Max \n",
       "-0.45808 -0.11363  0.04772  0.14780  0.31262 \n",
       "\n",
       "Coefficients:\n",
       "            Estimate Std. Error t value Pr(>|t|)    \n",
       "(Intercept)  3.99533    0.01792 222.949  < 2e-16 ***\n",
       "femalemale  -0.10326    0.02657  -3.887 0.000139 ***\n",
       "---\n",
       "Signif. codes:  0 '***' 0.001 '**' 0.01 '*' 0.05 '.' 0.1 ' ' 1\n",
       "\n",
       "Residual standard error: 0.1871 on 198 degrees of freedom\n",
       "Multiple R-squared:  0.07089,\tAdjusted R-squared:  0.0662 \n",
       "F-statistic: 15.11 on 1 and 198 DF,  p-value: 0.0001385\n"
      ]
     },
     "metadata": {},
     "output_type": "display_data"
    }
   ],
   "source": [
    "binary_variable_lm = lm(lgwrite~female, data=log_test)\n",
    "\n",
    "summary(binary_variable_lm)"
   ]
  },
  {
   "cell_type": "code",
   "execution_count": 26,
   "metadata": {
    "vscode": {
     "languageId": "r"
    }
   },
   "outputs": [
    {
     "data": {
      "text/plain": [
       "\n",
       "Call:\n",
       "lm(formula = lgwrite ~ female + read + math, data = log_test)\n",
       "\n",
       "Residuals:\n",
       "     Min       1Q   Median       3Q      Max \n",
       "-0.41745 -0.08146  0.01182  0.09408  0.28824 \n",
       "\n",
       "Coefficients:\n",
       "             Estimate Std. Error t value Pr(>|t|)    \n",
       "(Intercept)  3.249961   0.058727  55.340  < 2e-16 ***\n",
       "femalemale  -0.114718   0.019534  -5.873 1.81e-08 ***\n",
       "read         0.006631   0.001269   5.225 4.43e-07 ***\n",
       "math         0.007679   0.001387   5.535 9.88e-08 ***\n",
       "---\n",
       "Signif. codes:  0 '***' 0.001 '**' 0.01 '*' 0.05 '.' 0.1 ' ' 1\n",
       "\n",
       "Residual standard error: 0.1374 on 196 degrees of freedom\n",
       "Multiple R-squared:  0.5042,\tAdjusted R-squared:  0.4966 \n",
       "F-statistic: 66.44 on 3 and 196 DF,  p-value: < 2.2e-16\n"
      ]
     },
     "metadata": {},
     "output_type": "display_data"
    }
   ],
   "source": [
    "multiple_lm = lm(lgwrite~female+read+math, data=log_test)\n",
    "\n",
    "summary(multiple_lm)"
   ]
  }
 ],
 "metadata": {
  "kernelspec": {
   "display_name": "R",
   "language": "R",
   "name": "ir"
  },
  "language_info": {
   "codemirror_mode": "r",
   "file_extension": ".r",
   "mimetype": "text/x-r-source",
   "name": "R",
   "pygments_lexer": "r",
   "version": "4.3.2"
  }
 },
 "nbformat": 4,
 "nbformat_minor": 2
}
