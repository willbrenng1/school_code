{
 "cells": [
  {
   "cell_type": "code",
   "execution_count": 8,
   "metadata": {
    "vscode": {
     "languageId": "r"
    }
   },
   "outputs": [
    {
     "name": "stderr",
     "output_type": "stream",
     "text": [
      "\n",
      "Please cite as: \n",
      "\n",
      "\n",
      " Hlavac, Marek (2022). stargazer: Well-Formatted Regression and Summary Statistics Tables.\n",
      "\n",
      " R package version 5.2.3. https://CRAN.R-project.org/package=stargazer \n",
      "\n",
      "\n"
     ]
    }
   ],
   "source": [
    "library(stargazer)"
   ]
  },
  {
   "cell_type": "code",
   "execution_count": 4,
   "metadata": {
    "vscode": {
     "languageId": "r"
    }
   },
   "outputs": [],
   "source": [
    "market_data = read.csv(\"ContraFactorExample.csv\")"
   ]
  },
  {
   "cell_type": "code",
   "execution_count": 6,
   "metadata": {
    "vscode": {
     "languageId": "r"
    }
   },
   "outputs": [
    {
     "data": {
      "text/html": [
       "<table class=\"dataframe\">\n",
       "<caption>A data.frame: 6 × 9</caption>\n",
       "<thead>\n",
       "\t<tr><th></th><th scope=col>Date</th><th scope=col>Mom</th><th scope=col>Mkt_rf</th><th scope=col>SMB</th><th scope=col>HML</th><th scope=col>RF</th><th scope=col>QMJ</th><th scope=col>BAB</th><th scope=col>Contra.rf</th></tr>\n",
       "\t<tr><th></th><th scope=col>&lt;chr&gt;</th><th scope=col>&lt;dbl&gt;</th><th scope=col>&lt;dbl&gt;</th><th scope=col>&lt;dbl&gt;</th><th scope=col>&lt;dbl&gt;</th><th scope=col>&lt;dbl&gt;</th><th scope=col>&lt;dbl&gt;</th><th scope=col>&lt;dbl&gt;</th><th scope=col>&lt;dbl&gt;</th></tr>\n",
       "</thead>\n",
       "<tbody>\n",
       "\t<tr><th scope=row>1</th><td>1/31/1980</td><td> 0.0748</td><td> 0.0551</td><td> 0.0168</td><td> 0.0181</td><td>0.0080</td><td>-0.0274</td><td> 0.0263</td><td> 0.016</td></tr>\n",
       "\t<tr><th scope=row>2</th><td>2/29/1980</td><td> 0.0790</td><td>-0.0122</td><td>-0.0181</td><td> 0.0067</td><td>0.0089</td><td>-0.0200</td><td>-0.0153</td><td>-0.026</td></tr>\n",
       "\t<tr><th scope=row>3</th><td>3/31/1980</td><td>-0.0957</td><td>-0.1290</td><td>-0.0662</td><td>-0.0108</td><td>0.0121</td><td> 0.0470</td><td>-0.0471</td><td>-0.102</td></tr>\n",
       "\t<tr><th scope=row>4</th><td>4/30/1980</td><td>-0.0039</td><td> 0.0397</td><td> 0.0094</td><td> 0.0114</td><td>0.0126</td><td>-0.0337</td><td> 0.0209</td><td> 0.005</td></tr>\n",
       "\t<tr><th scope=row>5</th><td>5/31/1980</td><td>-0.0111</td><td> 0.0526</td><td> 0.0216</td><td> 0.0041</td><td>0.0081</td><td> 0.0069</td><td> 0.0365</td><td> 0.071</td></tr>\n",
       "\t<tr><th scope=row>6</th><td>6/30/1980</td><td> 0.0155</td><td> 0.0306</td><td> 0.0167</td><td>-0.0089</td><td>0.0061</td><td>-0.0111</td><td> 0.0369</td><td> 0.006</td></tr>\n",
       "</tbody>\n",
       "</table>\n"
      ],
      "text/latex": [
       "A data.frame: 6 × 9\n",
       "\\begin{tabular}{r|lllllllll}\n",
       "  & Date & Mom & Mkt\\_rf & SMB & HML & RF & QMJ & BAB & Contra.rf\\\\\n",
       "  & <chr> & <dbl> & <dbl> & <dbl> & <dbl> & <dbl> & <dbl> & <dbl> & <dbl>\\\\\n",
       "\\hline\n",
       "\t1 & 1/31/1980 &  0.0748 &  0.0551 &  0.0168 &  0.0181 & 0.0080 & -0.0274 &  0.0263 &  0.016\\\\\n",
       "\t2 & 2/29/1980 &  0.0790 & -0.0122 & -0.0181 &  0.0067 & 0.0089 & -0.0200 & -0.0153 & -0.026\\\\\n",
       "\t3 & 3/31/1980 & -0.0957 & -0.1290 & -0.0662 & -0.0108 & 0.0121 &  0.0470 & -0.0471 & -0.102\\\\\n",
       "\t4 & 4/30/1980 & -0.0039 &  0.0397 &  0.0094 &  0.0114 & 0.0126 & -0.0337 &  0.0209 &  0.005\\\\\n",
       "\t5 & 5/31/1980 & -0.0111 &  0.0526 &  0.0216 &  0.0041 & 0.0081 &  0.0069 &  0.0365 &  0.071\\\\\n",
       "\t6 & 6/30/1980 &  0.0155 &  0.0306 &  0.0167 & -0.0089 & 0.0061 & -0.0111 &  0.0369 &  0.006\\\\\n",
       "\\end{tabular}\n"
      ],
      "text/markdown": [
       "\n",
       "A data.frame: 6 × 9\n",
       "\n",
       "| <!--/--> | Date &lt;chr&gt; | Mom &lt;dbl&gt; | Mkt_rf &lt;dbl&gt; | SMB &lt;dbl&gt; | HML &lt;dbl&gt; | RF &lt;dbl&gt; | QMJ &lt;dbl&gt; | BAB &lt;dbl&gt; | Contra.rf &lt;dbl&gt; |\n",
       "|---|---|---|---|---|---|---|---|---|---|\n",
       "| 1 | 1/31/1980 |  0.0748 |  0.0551 |  0.0168 |  0.0181 | 0.0080 | -0.0274 |  0.0263 |  0.016 |\n",
       "| 2 | 2/29/1980 |  0.0790 | -0.0122 | -0.0181 |  0.0067 | 0.0089 | -0.0200 | -0.0153 | -0.026 |\n",
       "| 3 | 3/31/1980 | -0.0957 | -0.1290 | -0.0662 | -0.0108 | 0.0121 |  0.0470 | -0.0471 | -0.102 |\n",
       "| 4 | 4/30/1980 | -0.0039 |  0.0397 |  0.0094 |  0.0114 | 0.0126 | -0.0337 |  0.0209 |  0.005 |\n",
       "| 5 | 5/31/1980 | -0.0111 |  0.0526 |  0.0216 |  0.0041 | 0.0081 |  0.0069 |  0.0365 |  0.071 |\n",
       "| 6 | 6/30/1980 |  0.0155 |  0.0306 |  0.0167 | -0.0089 | 0.0061 | -0.0111 |  0.0369 |  0.006 |\n",
       "\n"
      ],
      "text/plain": [
       "  Date      Mom     Mkt_rf  SMB     HML     RF     QMJ     BAB     Contra.rf\n",
       "1 1/31/1980  0.0748  0.0551  0.0168  0.0181 0.0080 -0.0274  0.0263  0.016   \n",
       "2 2/29/1980  0.0790 -0.0122 -0.0181  0.0067 0.0089 -0.0200 -0.0153 -0.026   \n",
       "3 3/31/1980 -0.0957 -0.1290 -0.0662 -0.0108 0.0121  0.0470 -0.0471 -0.102   \n",
       "4 4/30/1980 -0.0039  0.0397  0.0094  0.0114 0.0126 -0.0337  0.0209  0.005   \n",
       "5 5/31/1980 -0.0111  0.0526  0.0216  0.0041 0.0081  0.0069  0.0365  0.071   \n",
       "6 6/30/1980  0.0155  0.0306  0.0167 -0.0089 0.0061 -0.0111  0.0369  0.006   "
      ]
     },
     "metadata": {},
     "output_type": "display_data"
    }
   ],
   "source": [
    "head(market_data)"
   ]
  },
  {
   "cell_type": "code",
   "execution_count": 10,
   "metadata": {
    "vscode": {
     "languageId": "r"
    }
   },
   "outputs": [
    {
     "data": {
      "text/plain": [
       "\n",
       "Call:\n",
       "lm(formula = Contra.rf ~ Mkt_rf, data = market_data)\n",
       "\n",
       "Residuals:\n",
       "      Min        1Q    Median        3Q       Max \n",
       "-0.087704 -0.009600  0.001499  0.010085  0.061269 \n",
       "\n",
       "Coefficients:\n",
       "             Estimate Std. Error t value Pr(>|t|)    \n",
       "(Intercept) 0.0022015  0.0008355   2.635   0.0087 ** \n",
       "Mkt_rf      0.9014512  0.0188432  47.840   <2e-16 ***\n",
       "---\n",
       "Signif. codes:  0 '***' 0.001 '**' 0.01 '*' 0.05 '.' 0.1 ' ' 1\n",
       "\n",
       "Residual standard error: 0.01775 on 460 degrees of freedom\n",
       "Multiple R-squared:  0.8326,\tAdjusted R-squared:  0.8323 \n",
       "F-statistic:  2289 on 1 and 460 DF,  p-value: < 2.2e-16\n"
      ]
     },
     "metadata": {},
     "output_type": "display_data"
    }
   ],
   "source": [
    "factor_1 = lm(Contra.rf ~ Mkt_rf, data = market_data)\n",
    "summary(factor_1)"
   ]
  },
  {
   "cell_type": "code",
   "execution_count": 11,
   "metadata": {
    "vscode": {
     "languageId": "r"
    }
   },
   "outputs": [
    {
     "data": {
      "text/plain": [
       "\n",
       "Call:\n",
       "lm(formula = Contra.rf ~ Mkt_rf + SMB + HML, data = market_data)\n",
       "\n",
       "Residuals:\n",
       "      Min        1Q    Median        3Q       Max \n",
       "-0.085525 -0.009425  0.001253  0.009905  0.060101 \n",
       "\n",
       "Coefficients:\n",
       "              Estimate Std. Error t value Pr(>|t|)    \n",
       "(Intercept)  0.0023772  0.0008394   2.832  0.00483 ** \n",
       "Mkt_rf       0.8854983  0.0197316  44.877  < 2e-16 ***\n",
       "SMB          0.0478076  0.0286236   1.670  0.09556 .  \n",
       "HML         -0.0479206  0.0298114  -1.607  0.10864    \n",
       "---\n",
       "Signif. codes:  0 '***' 0.001 '**' 0.01 '*' 0.05 '.' 0.1 ' ' 1\n",
       "\n",
       "Residual standard error: 0.01766 on 458 degrees of freedom\n",
       "Multiple R-squared:  0.8351,\tAdjusted R-squared:  0.8341 \n",
       "F-statistic: 773.3 on 3 and 458 DF,  p-value: < 2.2e-16\n"
      ]
     },
     "metadata": {},
     "output_type": "display_data"
    }
   ],
   "source": [
    "factor_3 = lm(Contra.rf ~ Mkt_rf+SMB+HML, data = market_data)\n",
    "summary(factor_3)"
   ]
  },
  {
   "cell_type": "code",
   "execution_count": 12,
   "metadata": {
    "vscode": {
     "languageId": "r"
    }
   },
   "outputs": [
    {
     "data": {
      "text/plain": [
       "\n",
       "Call:\n",
       "lm(formula = Contra.rf ~ Mkt_rf + SMB + HML + Mom, data = market_data)\n",
       "\n",
       "Residuals:\n",
       "      Min        1Q    Median        3Q       Max \n",
       "-0.070486 -0.008740  0.000997  0.008822  0.055052 \n",
       "\n",
       "Coefficients:\n",
       "            Estimate Std. Error t value Pr(>|t|)    \n",
       "(Intercept) 0.001293   0.000810   1.597    0.111    \n",
       "Mkt_rf      0.912967   0.019093  47.815  < 2e-16 ***\n",
       "SMB         0.041702   0.027157   1.536    0.125    \n",
       "HML         0.003984   0.029168   0.137    0.891    \n",
       "Mom         0.131508   0.018188   7.231 2.04e-12 ***\n",
       "---\n",
       "Signif. codes:  0 '***' 0.001 '**' 0.01 '*' 0.05 '.' 0.1 ' ' 1\n",
       "\n",
       "Residual standard error: 0.01675 on 457 degrees of freedom\n",
       "Multiple R-squared:  0.8521,\tAdjusted R-squared:  0.8508 \n",
       "F-statistic:   658 on 4 and 457 DF,  p-value: < 2.2e-16\n"
      ]
     },
     "metadata": {},
     "output_type": "display_data"
    }
   ],
   "source": [
    "factor_4 = lm(Contra.rf ~ Mkt_rf+SMB+HML+Mom, data = market_data)\n",
    "summary(factor_4)"
   ]
  },
  {
   "cell_type": "code",
   "execution_count": 15,
   "metadata": {
    "vscode": {
     "languageId": "r"
    }
   },
   "outputs": [
    {
     "data": {
      "text/plain": [
       "\n",
       "Call:\n",
       "lm(formula = Contra.rf ~ Mkt_rf + SMB + HML + BAB + QMJ + Mom, \n",
       "    data = market_data)\n",
       "\n",
       "Residuals:\n",
       "      Min        1Q    Median        3Q       Max \n",
       "-0.053839 -0.008706  0.000968  0.009304  0.061710 \n",
       "\n",
       "Coefficients:\n",
       "              Estimate Std. Error t value Pr(>|t|)    \n",
       "(Intercept)  0.0004026  0.0008406   0.479   0.6322    \n",
       "Mkt_rf       0.9138671  0.0218511  41.822  < 2e-16 ***\n",
       "SMB          0.0375462  0.0297600   1.262   0.2077    \n",
       "HML         -0.0695296  0.0315536  -2.204   0.0281 *  \n",
       "BAB          0.1497624  0.0248277   6.032 3.35e-09 ***\n",
       "QMJ         -0.0107477  0.0454376  -0.237   0.8131    \n",
       "Mom          0.0963757  0.0189505   5.086 5.36e-07 ***\n",
       "---\n",
       "Signif. codes:  0 '***' 0.001 '**' 0.01 '*' 0.05 '.' 0.1 ' ' 1\n",
       "\n",
       "Residual standard error: 0.01613 on 455 degrees of freedom\n",
       "Multiple R-squared:  0.8633,\tAdjusted R-squared:  0.8615 \n",
       "F-statistic: 478.8 on 6 and 455 DF,  p-value: < 2.2e-16\n"
      ]
     },
     "metadata": {},
     "output_type": "display_data"
    }
   ],
   "source": [
    "factor_6 = lm(Contra.rf ~ Mkt_rf+SMB+HML+BAB+QMJ+Mom, data = market_data)\n",
    "summary(factor_6)"
   ]
  },
  {
   "cell_type": "code",
   "execution_count": 14,
   "metadata": {
    "vscode": {
     "languageId": "r"
    }
   },
   "outputs": [
    {
     "name": "stdout",
     "output_type": "stream",
     "text": [
      "\n",
      "<table style=\"text-align:center\"><tr><td colspan=\"5\" style=\"border-bottom: 1px solid black\"></td></tr><tr><td style=\"text-align:left\"></td><td colspan=\"4\"><em>Dependent variable:</em></td></tr>\n",
      "<tr><td></td><td colspan=\"4\" style=\"border-bottom: 1px solid black\"></td></tr>\n",
      "<tr><td style=\"text-align:left\"></td><td colspan=\"4\">Contra.rf</td></tr>\n",
      "<tr><td style=\"text-align:left\"></td><td>(1)</td><td>(2)</td><td>(3)</td><td>(4)</td></tr>\n",
      "<tr><td colspan=\"5\" style=\"border-bottom: 1px solid black\"></td></tr><tr><td style=\"text-align:left\">Mkt_rf</td><td>0.901<sup>***</sup></td><td>0.885<sup>***</sup></td><td>0.913<sup>***</sup></td><td>0.911<sup>***</sup></td></tr>\n",
      "<tr><td style=\"text-align:left\"></td><td>(0.019)</td><td>(0.020)</td><td>(0.019)</td><td>(0.022)</td></tr>\n",
      "<tr><td style=\"text-align:left\"></td><td></td><td></td><td></td><td></td></tr>\n",
      "<tr><td style=\"text-align:left\">SMB</td><td></td><td>0.048<sup>*</sup></td><td>0.042</td><td>0.057<sup>*</sup></td></tr>\n",
      "<tr><td style=\"text-align:left\"></td><td></td><td>(0.029)</td><td>(0.027)</td><td>(0.030)</td></tr>\n",
      "<tr><td style=\"text-align:left\"></td><td></td><td></td><td></td><td></td></tr>\n",
      "<tr><td style=\"text-align:left\">HML</td><td></td><td>-0.048</td><td>0.004</td><td>-0.111<sup>***</sup></td></tr>\n",
      "<tr><td style=\"text-align:left\"></td><td></td><td>(0.030)</td><td>(0.029)</td><td>(0.031)</td></tr>\n",
      "<tr><td style=\"text-align:left\"></td><td></td><td></td><td></td><td></td></tr>\n",
      "<tr><td style=\"text-align:left\">Mom</td><td></td><td></td><td>0.132<sup>***</sup></td><td></td></tr>\n",
      "<tr><td style=\"text-align:left\"></td><td></td><td></td><td>(0.018)</td><td></td></tr>\n",
      "<tr><td style=\"text-align:left\"></td><td></td><td></td><td></td><td></td></tr>\n",
      "<tr><td style=\"text-align:left\">BAB</td><td></td><td></td><td></td><td>0.183<sup>***</sup></td></tr>\n",
      "<tr><td style=\"text-align:left\"></td><td></td><td></td><td></td><td>(0.025)</td></tr>\n",
      "<tr><td style=\"text-align:left\"></td><td></td><td></td><td></td><td></td></tr>\n",
      "<tr><td style=\"text-align:left\">QMJ</td><td></td><td></td><td></td><td>0.040</td></tr>\n",
      "<tr><td style=\"text-align:left\"></td><td></td><td></td><td></td><td>(0.046)</td></tr>\n",
      "<tr><td style=\"text-align:left\"></td><td></td><td></td><td></td><td></td></tr>\n",
      "<tr><td style=\"text-align:left\">Constant</td><td>0.002<sup>***</sup></td><td>0.002<sup>***</sup></td><td>0.001</td><td>0.001</td></tr>\n",
      "<tr><td style=\"text-align:left\"></td><td>(0.001)</td><td>(0.001)</td><td>(0.001)</td><td>(0.001)</td></tr>\n",
      "<tr><td style=\"text-align:left\"></td><td></td><td></td><td></td><td></td></tr>\n",
      "<tr><td colspan=\"5\" style=\"border-bottom: 1px solid black\"></td></tr><tr><td style=\"text-align:left\">Observations</td><td>462</td><td>462</td><td>462</td><td>462</td></tr>\n",
      "<tr><td style=\"text-align:left\">R<sup>2</sup></td><td>0.833</td><td>0.835</td><td>0.852</td><td>0.856</td></tr>\n",
      "<tr><td style=\"text-align:left\">Adjusted R<sup>2</sup></td><td>0.832</td><td>0.834</td><td>0.851</td><td>0.854</td></tr>\n",
      "<tr><td style=\"text-align:left\">Residual Std. Error</td><td>0.018 (df = 460)</td><td>0.018 (df = 458)</td><td>0.017 (df = 457)</td><td>0.017 (df = 456)</td></tr>\n",
      "<tr><td style=\"text-align:left\">F Statistic</td><td>2,288.618<sup>***</sup> (df = 1; 460)</td><td>773.335<sup>***</sup> (df = 3; 458)</td><td>658.014<sup>***</sup> (df = 4; 457)</td><td>539.943<sup>***</sup> (df = 5; 456)</td></tr>\n",
      "<tr><td colspan=\"5\" style=\"border-bottom: 1px solid black\"></td></tr><tr><td style=\"text-align:left\"><em>Note:</em></td><td colspan=\"4\" style=\"text-align:right\"><sup>*</sup>p<0.1; <sup>**</sup>p<0.05; <sup>***</sup>p<0.01</td></tr>\n",
      "</table>\n"
     ]
    }
   ],
   "source": [
    "stargazer(factor_1,factor_3,factor_4,factor_6, align = TRUE, type=\"html\",out=\"factorModelFull.html\")"
   ]
  }
 ],
 "metadata": {
  "kernelspec": {
   "display_name": "R",
   "language": "R",
   "name": "ir"
  },
  "language_info": {
   "codemirror_mode": "r",
   "file_extension": ".r",
   "mimetype": "text/x-r-source",
   "name": "R",
   "pygments_lexer": "r",
   "version": "4.3.2"
  }
 },
 "nbformat": 4,
 "nbformat_minor": 2
}
