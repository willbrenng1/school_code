{
 "cells": [
  {
   "cell_type": "code",
   "execution_count": 9,
   "metadata": {
    "vscode": {
     "languageId": "r"
    }
   },
   "outputs": [
    {
     "name": "stderr",
     "output_type": "stream",
     "text": [
      "Warning message:\n",
      "\"package 'riingo' was built under R version 4.3.3\"\n"
     ]
    }
   ],
   "source": [
    "library(tidyquant)\n",
    "library(xts)\n",
    "library(PerformanceAnalytics)\n",
    "library(ggplot2)\n",
    "library(zoo)\n",
    "library(lubridate)\n",
    "library(riingo)"
   ]
  },
  {
   "cell_type": "code",
   "execution_count": 6,
   "metadata": {
    "vscode": {
     "languageId": "r"
    }
   },
   "outputs": [
    {
     "name": "stderr",
     "output_type": "stream",
     "text": [
      "Installing package into 'C:/Users/Will/AppData/Local/R/win-library/4.3'\n",
      "(as 'lib' is unspecified)\n",
      "\n"
     ]
    },
    {
     "name": "stdout",
     "output_type": "stream",
     "text": [
      "package 'riingo' successfully unpacked and MD5 sums checked\n",
      "\n",
      "The downloaded binary packages are in\n",
      "\tC:\\Users\\Will\\AppData\\Local\\Temp\\Rtmpi0sYIo\\downloaded_packages\n"
     ]
    }
   ],
   "source": [
    "install.packages(\"riingo\")"
   ]
  },
  {
   "cell_type": "code",
   "execution_count": 4,
   "metadata": {
    "vscode": {
     "languageId": "r"
    }
   },
   "outputs": [],
   "source": [
    "api_key = \"0a0d84f85b842f9284295d83e55b5ce975c52777\""
   ]
  },
  {
   "cell_type": "code",
   "execution_count": 10,
   "metadata": {
    "vscode": {
     "languageId": "r"
    }
   },
   "outputs": [
    {
     "name": "stderr",
     "output_type": "stream",
     "text": [
      "Token has been set for this R session only. It is recommended to instead set the `RIINGO_TOKEN` environment variable in an `.Renviron` file using `usethis::edit_r_environ()`, and then restart R.\n"
     ]
    }
   ],
   "source": [
    "tiingo_api_key(api_key)"
   ]
  },
  {
   "cell_type": "code",
   "execution_count": 12,
   "metadata": {
    "vscode": {
     "languageId": "r"
    }
   },
   "outputs": [],
   "source": [
    "apple_prices = riingo_prices(\"AAPL\")"
   ]
  },
  {
   "cell_type": "code",
   "execution_count": 13,
   "metadata": {
    "vscode": {
     "languageId": "r"
    }
   },
   "outputs": [
    {
     "data": {
      "text/html": [
       "<table class=\"dataframe\">\n",
       "<caption>A tibble: 6 × 14</caption>\n",
       "<thead>\n",
       "\t<tr><th scope=col>ticker</th><th scope=col>date</th><th scope=col>close</th><th scope=col>high</th><th scope=col>low</th><th scope=col>open</th><th scope=col>volume</th><th scope=col>adjClose</th><th scope=col>adjHigh</th><th scope=col>adjLow</th><th scope=col>adjOpen</th><th scope=col>adjVolume</th><th scope=col>divCash</th><th scope=col>splitFactor</th></tr>\n",
       "\t<tr><th scope=col>&lt;chr&gt;</th><th scope=col>&lt;dttm&gt;</th><th scope=col>&lt;dbl&gt;</th><th scope=col>&lt;dbl&gt;</th><th scope=col>&lt;dbl&gt;</th><th scope=col>&lt;dbl&gt;</th><th scope=col>&lt;int&gt;</th><th scope=col>&lt;dbl&gt;</th><th scope=col>&lt;dbl&gt;</th><th scope=col>&lt;dbl&gt;</th><th scope=col>&lt;dbl&gt;</th><th scope=col>&lt;int&gt;</th><th scope=col>&lt;dbl&gt;</th><th scope=col>&lt;dbl&gt;</th></tr>\n",
       "</thead>\n",
       "<tbody>\n",
       "\t<tr><td>AAPL</td><td>2023-10-09</td><td>178.99</td><td>179.050</td><td>175.80</td><td>176.81</td><td>42390772</td><td>178.0848</td><td>178.1445</td><td>174.9109</td><td>175.9158</td><td>42390772</td><td>0</td><td>1</td></tr>\n",
       "\t<tr><td>AAPL</td><td>2023-10-10</td><td>178.39</td><td>179.720</td><td>177.95</td><td>178.10</td><td>43698019</td><td>177.4878</td><td>178.8111</td><td>177.0500</td><td>177.1993</td><td>43698019</td><td>0</td><td>1</td></tr>\n",
       "\t<tr><td>AAPL</td><td>2023-10-11</td><td>179.80</td><td>179.850</td><td>177.60</td><td>178.20</td><td>47551098</td><td>178.8907</td><td>178.9404</td><td>176.7018</td><td>177.2988</td><td>47551098</td><td>0</td><td>1</td></tr>\n",
       "\t<tr><td>AAPL</td><td>2023-10-12</td><td>180.71</td><td>182.340</td><td>179.04</td><td>180.07</td><td>56743119</td><td>179.7961</td><td>181.4178</td><td>178.1345</td><td>179.1593</td><td>56743119</td><td>0</td><td>1</td></tr>\n",
       "\t<tr><td>AAPL</td><td>2023-10-13</td><td>178.85</td><td>181.930</td><td>178.14</td><td>181.42</td><td>51456082</td><td>177.9455</td><td>181.0099</td><td>177.2391</td><td>180.5025</td><td>51456082</td><td>0</td><td>1</td></tr>\n",
       "\t<tr><td>AAPL</td><td>2023-10-16</td><td>178.72</td><td>179.075</td><td>176.51</td><td>176.75</td><td>52516984</td><td>177.8161</td><td>178.1694</td><td>175.6173</td><td>175.8561</td><td>52516984</td><td>0</td><td>1</td></tr>\n",
       "</tbody>\n",
       "</table>\n"
      ],
      "text/latex": [
       "A tibble: 6 × 14\n",
       "\\begin{tabular}{llllllllllllll}\n",
       " ticker & date & close & high & low & open & volume & adjClose & adjHigh & adjLow & adjOpen & adjVolume & divCash & splitFactor\\\\\n",
       " <chr> & <dttm> & <dbl> & <dbl> & <dbl> & <dbl> & <int> & <dbl> & <dbl> & <dbl> & <dbl> & <int> & <dbl> & <dbl>\\\\\n",
       "\\hline\n",
       "\t AAPL & 2023-10-09 & 178.99 & 179.050 & 175.80 & 176.81 & 42390772 & 178.0848 & 178.1445 & 174.9109 & 175.9158 & 42390772 & 0 & 1\\\\\n",
       "\t AAPL & 2023-10-10 & 178.39 & 179.720 & 177.95 & 178.10 & 43698019 & 177.4878 & 178.8111 & 177.0500 & 177.1993 & 43698019 & 0 & 1\\\\\n",
       "\t AAPL & 2023-10-11 & 179.80 & 179.850 & 177.60 & 178.20 & 47551098 & 178.8907 & 178.9404 & 176.7018 & 177.2988 & 47551098 & 0 & 1\\\\\n",
       "\t AAPL & 2023-10-12 & 180.71 & 182.340 & 179.04 & 180.07 & 56743119 & 179.7961 & 181.4178 & 178.1345 & 179.1593 & 56743119 & 0 & 1\\\\\n",
       "\t AAPL & 2023-10-13 & 178.85 & 181.930 & 178.14 & 181.42 & 51456082 & 177.9455 & 181.0099 & 177.2391 & 180.5025 & 51456082 & 0 & 1\\\\\n",
       "\t AAPL & 2023-10-16 & 178.72 & 179.075 & 176.51 & 176.75 & 52516984 & 177.8161 & 178.1694 & 175.6173 & 175.8561 & 52516984 & 0 & 1\\\\\n",
       "\\end{tabular}\n"
      ],
      "text/markdown": [
       "\n",
       "A tibble: 6 × 14\n",
       "\n",
       "| ticker &lt;chr&gt; | date &lt;dttm&gt; | close &lt;dbl&gt; | high &lt;dbl&gt; | low &lt;dbl&gt; | open &lt;dbl&gt; | volume &lt;int&gt; | adjClose &lt;dbl&gt; | adjHigh &lt;dbl&gt; | adjLow &lt;dbl&gt; | adjOpen &lt;dbl&gt; | adjVolume &lt;int&gt; | divCash &lt;dbl&gt; | splitFactor &lt;dbl&gt; |\n",
       "|---|---|---|---|---|---|---|---|---|---|---|---|---|---|\n",
       "| AAPL | 2023-10-09 | 178.99 | 179.050 | 175.80 | 176.81 | 42390772 | 178.0848 | 178.1445 | 174.9109 | 175.9158 | 42390772 | 0 | 1 |\n",
       "| AAPL | 2023-10-10 | 178.39 | 179.720 | 177.95 | 178.10 | 43698019 | 177.4878 | 178.8111 | 177.0500 | 177.1993 | 43698019 | 0 | 1 |\n",
       "| AAPL | 2023-10-11 | 179.80 | 179.850 | 177.60 | 178.20 | 47551098 | 178.8907 | 178.9404 | 176.7018 | 177.2988 | 47551098 | 0 | 1 |\n",
       "| AAPL | 2023-10-12 | 180.71 | 182.340 | 179.04 | 180.07 | 56743119 | 179.7961 | 181.4178 | 178.1345 | 179.1593 | 56743119 | 0 | 1 |\n",
       "| AAPL | 2023-10-13 | 178.85 | 181.930 | 178.14 | 181.42 | 51456082 | 177.9455 | 181.0099 | 177.2391 | 180.5025 | 51456082 | 0 | 1 |\n",
       "| AAPL | 2023-10-16 | 178.72 | 179.075 | 176.51 | 176.75 | 52516984 | 177.8161 | 178.1694 | 175.6173 | 175.8561 | 52516984 | 0 | 1 |\n",
       "\n"
      ],
      "text/plain": [
       "  ticker date       close  high    low    open   volume   adjClose adjHigh \n",
       "1 AAPL   2023-10-09 178.99 179.050 175.80 176.81 42390772 178.0848 178.1445\n",
       "2 AAPL   2023-10-10 178.39 179.720 177.95 178.10 43698019 177.4878 178.8111\n",
       "3 AAPL   2023-10-11 179.80 179.850 177.60 178.20 47551098 178.8907 178.9404\n",
       "4 AAPL   2023-10-12 180.71 182.340 179.04 180.07 56743119 179.7961 181.4178\n",
       "5 AAPL   2023-10-13 178.85 181.930 178.14 181.42 51456082 177.9455 181.0099\n",
       "6 AAPL   2023-10-16 178.72 179.075 176.51 176.75 52516984 177.8161 178.1694\n",
       "  adjLow   adjOpen  adjVolume divCash splitFactor\n",
       "1 174.9109 175.9158 42390772  0       1          \n",
       "2 177.0500 177.1993 43698019  0       1          \n",
       "3 176.7018 177.2988 47551098  0       1          \n",
       "4 178.1345 179.1593 56743119  0       1          \n",
       "5 177.2391 180.5025 51456082  0       1          \n",
       "6 175.6173 175.8561 52516984  0       1          "
      ]
     },
     "metadata": {},
     "output_type": "display_data"
    }
   ],
   "source": [
    "head(apple_prices)"
   ]
  }
 ],
 "metadata": {
  "kernelspec": {
   "display_name": "R",
   "language": "R",
   "name": "ir"
  },
  "language_info": {
   "codemirror_mode": "r",
   "file_extension": ".r",
   "mimetype": "text/x-r-source",
   "name": "R",
   "pygments_lexer": "r",
   "version": "4.3.2"
  }
 },
 "nbformat": 4,
 "nbformat_minor": 2
}
