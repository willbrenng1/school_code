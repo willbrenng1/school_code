{
 "cells": [
  {
   "cell_type": "code",
   "execution_count": 2,
   "metadata": {
    "vscode": {
     "languageId": "r"
    }
   },
   "outputs": [],
   "source": [
    "library(ggplot2)\n",
    "library(tidyquant)\n",
    "library(xts)\n",
    "library(dplyr)\n",
    "library(lubridate)"
   ]
  },
  {
   "cell_type": "code",
   "execution_count": 7,
   "metadata": {
    "vscode": {
     "languageId": "r"
    }
   },
   "outputs": [],
   "source": [
    "five_factors = read.table(\"five_factors.txt\",header = TRUE)\n",
    "five_factors <- five_factors[-1,]\n",
    "stock_returns = read.table(\"returns_df.txt\",header = TRUE)"
   ]
  },
  {
   "cell_type": "code",
   "execution_count": 8,
   "metadata": {
    "vscode": {
     "languageId": "r"
    }
   },
   "outputs": [
    {
     "data": {
      "text/html": [
       "<table class=\"dataframe\">\n",
       "<caption>A data.frame: 6 × 8</caption>\n",
       "<thead>\n",
       "\t<tr><th></th><th scope=col>Mkt.RF</th><th scope=col>SMB</th><th scope=col>HML</th><th scope=col>QMJ</th><th scope=col>BAB</th><th scope=col>RF</th><th scope=col>Mom</th><th scope=col>Time_Dim</th></tr>\n",
       "\t<tr><th></th><th scope=col>&lt;dbl&gt;</th><th scope=col>&lt;dbl&gt;</th><th scope=col>&lt;dbl&gt;</th><th scope=col>&lt;dbl&gt;</th><th scope=col>&lt;dbl&gt;</th><th scope=col>&lt;dbl&gt;</th><th scope=col>&lt;dbl&gt;</th><th scope=col>&lt;chr&gt;</th></tr>\n",
       "</thead>\n",
       "<tbody>\n",
       "\t<tr><th scope=row>2</th><td> 0.33</td><td>-0.15</td><td> 0.47</td><td> 0.29</td><td> 0.11</td><td>0.02</td><td>-0.56</td><td>1995-01-04</td></tr>\n",
       "\t<tr><th scope=row>3</th><td>-0.05</td><td> 0.06</td><td> 0.07</td><td>-0.15</td><td> 0.00</td><td>0.02</td><td>-0.39</td><td>1995-01-05</td></tr>\n",
       "\t<tr><th scope=row>4</th><td> 0.18</td><td> 0.02</td><td> 0.12</td><td>-0.29</td><td>-0.06</td><td>0.02</td><td> 0.00</td><td>1995-01-06</td></tr>\n",
       "\t<tr><th scope=row>5</th><td> 0.08</td><td> 0.03</td><td> 0.14</td><td>-0.31</td><td>-0.38</td><td>0.02</td><td>-0.30</td><td>1995-01-09</td></tr>\n",
       "\t<tr><th scope=row>6</th><td> 0.20</td><td> 0.01</td><td>-0.15</td><td>-0.32</td><td>-0.35</td><td>0.02</td><td> 0.59</td><td>1995-01-10</td></tr>\n",
       "\t<tr><th scope=row>7</th><td>-0.09</td><td>-0.18</td><td>-0.24</td><td> 0.04</td><td>-0.10</td><td>0.02</td><td> 0.07</td><td>1995-01-11</td></tr>\n",
       "</tbody>\n",
       "</table>\n"
      ],
      "text/latex": [
       "A data.frame: 6 × 8\n",
       "\\begin{tabular}{r|llllllll}\n",
       "  & Mkt.RF & SMB & HML & QMJ & BAB & RF & Mom & Time\\_Dim\\\\\n",
       "  & <dbl> & <dbl> & <dbl> & <dbl> & <dbl> & <dbl> & <dbl> & <chr>\\\\\n",
       "\\hline\n",
       "\t2 &  0.33 & -0.15 &  0.47 &  0.29 &  0.11 & 0.02 & -0.56 & 1995-01-04\\\\\n",
       "\t3 & -0.05 &  0.06 &  0.07 & -0.15 &  0.00 & 0.02 & -0.39 & 1995-01-05\\\\\n",
       "\t4 &  0.18 &  0.02 &  0.12 & -0.29 & -0.06 & 0.02 &  0.00 & 1995-01-06\\\\\n",
       "\t5 &  0.08 &  0.03 &  0.14 & -0.31 & -0.38 & 0.02 & -0.30 & 1995-01-09\\\\\n",
       "\t6 &  0.20 &  0.01 & -0.15 & -0.32 & -0.35 & 0.02 &  0.59 & 1995-01-10\\\\\n",
       "\t7 & -0.09 & -0.18 & -0.24 &  0.04 & -0.10 & 0.02 &  0.07 & 1995-01-11\\\\\n",
       "\\end{tabular}\n"
      ],
      "text/markdown": [
       "\n",
       "A data.frame: 6 × 8\n",
       "\n",
       "| <!--/--> | Mkt.RF &lt;dbl&gt; | SMB &lt;dbl&gt; | HML &lt;dbl&gt; | QMJ &lt;dbl&gt; | BAB &lt;dbl&gt; | RF &lt;dbl&gt; | Mom &lt;dbl&gt; | Time_Dim &lt;chr&gt; |\n",
       "|---|---|---|---|---|---|---|---|---|\n",
       "| 2 |  0.33 | -0.15 |  0.47 |  0.29 |  0.11 | 0.02 | -0.56 | 1995-01-04 |\n",
       "| 3 | -0.05 |  0.06 |  0.07 | -0.15 |  0.00 | 0.02 | -0.39 | 1995-01-05 |\n",
       "| 4 |  0.18 |  0.02 |  0.12 | -0.29 | -0.06 | 0.02 |  0.00 | 1995-01-06 |\n",
       "| 5 |  0.08 |  0.03 |  0.14 | -0.31 | -0.38 | 0.02 | -0.30 | 1995-01-09 |\n",
       "| 6 |  0.20 |  0.01 | -0.15 | -0.32 | -0.35 | 0.02 |  0.59 | 1995-01-10 |\n",
       "| 7 | -0.09 | -0.18 | -0.24 |  0.04 | -0.10 | 0.02 |  0.07 | 1995-01-11 |\n",
       "\n"
      ],
      "text/plain": [
       "  Mkt.RF SMB   HML   QMJ   BAB   RF   Mom   Time_Dim  \n",
       "2  0.33  -0.15  0.47  0.29  0.11 0.02 -0.56 1995-01-04\n",
       "3 -0.05   0.06  0.07 -0.15  0.00 0.02 -0.39 1995-01-05\n",
       "4  0.18   0.02  0.12 -0.29 -0.06 0.02  0.00 1995-01-06\n",
       "5  0.08   0.03  0.14 -0.31 -0.38 0.02 -0.30 1995-01-09\n",
       "6  0.20   0.01 -0.15 -0.32 -0.35 0.02  0.59 1995-01-10\n",
       "7 -0.09  -0.18 -0.24  0.04 -0.10 0.02  0.07 1995-01-11"
      ]
     },
     "metadata": {},
     "output_type": "display_data"
    },
    {
     "data": {
      "text/html": [
       "<table class=\"dataframe\">\n",
       "<caption>A data.frame: 6 × 2</caption>\n",
       "<thead>\n",
       "\t<tr><th></th><th scope=col>return</th><th scope=col>time</th></tr>\n",
       "\t<tr><th></th><th scope=col>&lt;dbl&gt;</th><th scope=col>&lt;chr&gt;</th></tr>\n",
       "</thead>\n",
       "<tbody>\n",
       "\t<tr><th scope=row>1</th><td>           NA</td><td>1995-01-03</td></tr>\n",
       "\t<tr><th scope=row>2</th><td> 0.0066528242</td><td>1995-01-04</td></tr>\n",
       "\t<tr><th scope=row>3</th><td> 0.0096034791</td><td>1995-01-05</td></tr>\n",
       "\t<tr><th scope=row>4</th><td> 0.0032729611</td><td>1995-01-06</td></tr>\n",
       "\t<tr><th scope=row>5</th><td> 0.0001019643</td><td>1995-01-09</td></tr>\n",
       "\t<tr><th scope=row>6</th><td>-0.0002038658</td><td>1995-01-10</td></tr>\n",
       "</tbody>\n",
       "</table>\n"
      ],
      "text/latex": [
       "A data.frame: 6 × 2\n",
       "\\begin{tabular}{r|ll}\n",
       "  & return & time\\\\\n",
       "  & <dbl> & <chr>\\\\\n",
       "\\hline\n",
       "\t1 &            NA & 1995-01-03\\\\\n",
       "\t2 &  0.0066528242 & 1995-01-04\\\\\n",
       "\t3 &  0.0096034791 & 1995-01-05\\\\\n",
       "\t4 &  0.0032729611 & 1995-01-06\\\\\n",
       "\t5 &  0.0001019643 & 1995-01-09\\\\\n",
       "\t6 & -0.0002038658 & 1995-01-10\\\\\n",
       "\\end{tabular}\n"
      ],
      "text/markdown": [
       "\n",
       "A data.frame: 6 × 2\n",
       "\n",
       "| <!--/--> | return &lt;dbl&gt; | time &lt;chr&gt; |\n",
       "|---|---|---|\n",
       "| 1 |            NA | 1995-01-03 |\n",
       "| 2 |  0.0066528242 | 1995-01-04 |\n",
       "| 3 |  0.0096034791 | 1995-01-05 |\n",
       "| 4 |  0.0032729611 | 1995-01-06 |\n",
       "| 5 |  0.0001019643 | 1995-01-09 |\n",
       "| 6 | -0.0002038658 | 1995-01-10 |\n",
       "\n"
      ],
      "text/plain": [
       "  return        time      \n",
       "1            NA 1995-01-03\n",
       "2  0.0066528242 1995-01-04\n",
       "3  0.0096034791 1995-01-05\n",
       "4  0.0032729611 1995-01-06\n",
       "5  0.0001019643 1995-01-09\n",
       "6 -0.0002038658 1995-01-10"
      ]
     },
     "metadata": {},
     "output_type": "display_data"
    }
   ],
   "source": [
    "head(five_factors)\n",
    "head(stock_returns)"
   ]
  },
  {
   "cell_type": "markdown",
   "metadata": {},
   "source": [
    "# Factors from Lecture.\n",
    "\n",
    "Factors must be significant to gain any insight. \n",
    "SMB: Positive - > Small cap\n",
    "HML: Positive -> Value stocks\n",
    "MOM: Positive -> Momentum stock\n",
    "BAB: Positive -> Safe Stock\n",
    "QMJ: Positive -> Profitable stocks\n",
    "\n",
    "Intercept: Positive, significant indicates that the fund manager has outperformed."
   ]
  },
  {
   "cell_type": "code",
   "execution_count": 9,
   "metadata": {
    "vscode": {
     "languageId": "r"
    }
   },
   "outputs": [
    {
     "data": {
      "text/plain": [
       "\n",
       "Call:\n",
       "lm(formula = stock_returns$return ~ five_factors$Mkt.RF + five_factors$SMB + \n",
       "    five_factors$HML, data = five_factors)\n",
       "\n",
       "Residuals:\n",
       "      Min        1Q    Median        3Q       Max \n",
       "-0.207606 -0.008322 -0.000153  0.008301  0.248368 \n",
       "\n",
       "Coefficients:\n",
       "                      Estimate Std. Error t value Pr(>|t|)    \n",
       "(Intercept)          0.0005747  0.0002389   2.406   0.0161 *  \n",
       "five_factors$Mkt.RF -0.0011726  0.0001998  -5.869 4.58e-09 ***\n",
       "five_factors$SMB     0.0004754  0.0003817   1.245   0.2130    \n",
       "five_factors$HML    -0.0001577  0.0003240  -0.487   0.6265    \n",
       "---\n",
       "Signif. codes:  0 '***' 0.001 '**' 0.01 '*' 0.05 '.' 0.1 ' ' 1\n",
       "\n",
       "Residual standard error: 0.0206 on 7439 degrees of freedom\n",
       "  (1 observation deleted due to missingness)\n",
       "Multiple R-squared:  0.00469,\tAdjusted R-squared:  0.004289 \n",
       "F-statistic: 11.69 on 3 and 7439 DF,  p-value: 1.232e-07\n"
      ]
     },
     "metadata": {},
     "output_type": "display_data"
    }
   ],
   "source": [
    "threefmodel = lm(stock_returns$return~five_factors$Mkt.RF+five_factors$SMB+five_factors$HML,data = five_factors)\n",
    "\n",
    "summary(threefmodel)"
   ]
  },
  {
   "cell_type": "markdown",
   "metadata": {},
   "source": [
    "# Full Model\n",
    "\n",
    "SMB: Positive -> Small cap\n",
    "HML: Positive -> Value stocks\n",
    "MOM: Positive -> Momentum stock\n",
    "BAB: Positive -> Safe Stock\n",
    "QMJ: Positive -> Profitable stocks\n",
    "\n",
    "Intercept: Positive, significant indicates that the fund manager has outperformed. "
   ]
  },
  {
   "cell_type": "code",
   "execution_count": 10,
   "metadata": {
    "vscode": {
     "languageId": "r"
    }
   },
   "outputs": [
    {
     "data": {
      "text/plain": [
       "\n",
       "Call:\n",
       "lm(formula = stock_returns$return ~ five_factors$Mkt.RF + five_factors$SMB + \n",
       "    five_factors$HML + five_factors$QMJ + five_factors$BAB + \n",
       "    five_factors$Mom, data = five_factors)\n",
       "\n",
       "Residuals:\n",
       "      Min        1Q    Median        3Q       Max \n",
       "-0.214172 -0.008299 -0.000090  0.008315  0.240067 \n",
       "\n",
       "Coefficients:\n",
       "                      Estimate Std. Error t value Pr(>|t|)    \n",
       "(Intercept)          6.771e-04  2.383e-04   2.841 0.004505 ** \n",
       "five_factors$Mkt.RF -1.841e-03  2.237e-04  -8.232  < 2e-16 ***\n",
       "five_factors$SMB    -9.053e-05  4.011e-04  -0.226 0.821427    \n",
       "five_factors$HML    -3.331e-04  4.230e-04  -0.787 0.431037    \n",
       "five_factors$QMJ    -1.960e-03  5.277e-04  -3.714 0.000206 ***\n",
       "five_factors$BAB    -8.444e-04  6.880e-04  -1.227 0.219765    \n",
       "five_factors$Mom    -1.632e-03  2.674e-04  -6.102  1.1e-09 ***\n",
       "---\n",
       "Signif. codes:  0 '***' 0.001 '**' 0.01 '*' 0.05 '.' 0.1 ' ' 1\n",
       "\n",
       "Residual standard error: 0.02051 on 7436 degrees of freedom\n",
       "  (1 observation deleted due to missingness)\n",
       "Multiple R-squared:  0.01318,\tAdjusted R-squared:  0.01238 \n",
       "F-statistic: 16.55 on 6 and 7436 DF,  p-value: < 2.2e-16\n"
      ]
     },
     "metadata": {},
     "output_type": "display_data"
    }
   ],
   "source": [
    "full_model = lm(stock_returns$return~five_factors$Mkt.RF+five_factors$SMB+five_factors$HML+five_factors$QMJ+five_factors$BAB+five_factors$Mom,data = five_factors)\n",
    "\n",
    "summary(full_model)"
   ]
  }
 ],
 "metadata": {
  "kernelspec": {
   "display_name": "R",
   "language": "R",
   "name": "ir"
  },
  "language_info": {
   "codemirror_mode": "r",
   "file_extension": ".r",
   "mimetype": "text/x-r-source",
   "name": "R",
   "pygments_lexer": "r",
   "version": "4.3.2"
  }
 },
 "nbformat": 4,
 "nbformat_minor": 2
}
