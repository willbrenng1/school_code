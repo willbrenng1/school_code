{
 "cells": [
  {
   "cell_type": "code",
   "execution_count": 2,
   "metadata": {
    "vscode": {
     "languageId": "r"
    }
   },
   "outputs": [
    {
     "name": "stdout",
     "output_type": "stream",
     "text": [
      "'data.frame':\t7043 obs. of  20 variables:\n",
      " $ gender          : chr  \"Female\" \"Male\" \"Male\" \"Male\" ...\n",
      " $ SeniorCitizen   : chr  \"Yes\" \"Yes\" \"Yes\" \"Yes\" ...\n",
      " $ Partner         : chr  \"Yes\" \"No\" \"No\" \"No\" ...\n",
      " $ Dependents      : chr  \"No\" \"No\" \"No\" \"No\" ...\n",
      " $ tenure          : int  1 34 2 45 2 8 22 10 28 62 ...\n",
      " $ PhoneService    : chr  \"No\" \"Yes\" \"Yes\" \"No\" ...\n",
      " $ MultipleLines   : chr  \"No phone service\" \"No\" \"No\" \"No phone service\" ...\n",
      " $ InternetService : chr  \"DSL\" \"DSL\" \"DSL\" \"DSL\" ...\n",
      " $ OnlineSecurity  : chr  \"No\" \"Yes\" \"Yes\" \"Yes\" ...\n",
      " $ OnlineBackup    : chr  \"Yes\" \"No\" \"Yes\" \"No\" ...\n",
      " $ DeviceProtection: chr  \"No\" \"Yes\" \"No\" \"Yes\" ...\n",
      " $ TechSupport     : chr  \"No\" \"No\" \"No\" \"Yes\" ...\n",
      " $ StreamingTV     : chr  \"No\" \"No\" \"No\" \"No\" ...\n",
      " $ StreamingMovies : chr  \"No\" \"No\" \"No\" \"No\" ...\n",
      " $ Contract        : chr  \"Month-to-month\" \"One year\" \"Month-to-month\" \"One year\" ...\n",
      " $ PaperlessBilling: chr  \"Yes\" \"No\" \"Yes\" \"No\" ...\n",
      " $ PaymentMethod   : chr  \"Electronic check\" \"Mailed check\" \"Mailed check\" \"Bank transfer (automatic)\" ...\n",
      " $ MonthlyCharges  : num  29.9 57 53.9 42.3 70.7 ...\n",
      " $ TotalCharges    : num  29.9 1889.5 108.2 1840.8 151.7 ...\n",
      " $ Churn           : int  0 0 1 0 1 1 0 0 1 0 ...\n"
     ]
    }
   ],
   "source": [
    "##GET DATA \n",
    "file <- \"Telco.csv\"\n",
    "data <- read.csv(file)\n",
    "str(data)\n"
   ]
  },
  {
   "cell_type": "code",
   "execution_count": 3,
   "metadata": {
    "vscode": {
     "languageId": "r"
    }
   },
   "outputs": [
    {
     "data": {
      "text/plain": [
       "\n",
       "Call:\n",
       "glm(formula = Churn ~ SeniorCitizen + tenure + Partner, family = \"binomial\", \n",
       "    data = data)\n",
       "\n",
       "Coefficients:\n",
       "                  Estimate Std. Error z value Pr(>|z|)    \n",
       "(Intercept)       0.952730   0.079953  11.916   <2e-16 ***\n",
       "SeniorCitizenYes -1.049447   0.074974 -13.998   <2e-16 ***\n",
       "tenure           -0.039633   0.001522 -26.043   <2e-16 ***\n",
       "PartnerYes       -0.115981   0.063354  -1.831   0.0671 .  \n",
       "---\n",
       "Signif. codes:  0 '***' 0.001 '**' 0.01 '*' 0.05 '.' 0.1 ' ' 1\n",
       "\n",
       "(Dispersion parameter for binomial family taken to be 1)\n",
       "\n",
       "    Null deviance: 8150.1  on 7042  degrees of freedom\n",
       "Residual deviance: 6995.6  on 7039  degrees of freedom\n",
       "AIC: 7003.6\n",
       "\n",
       "Number of Fisher Scoring iterations: 5\n"
      ]
     },
     "metadata": {},
     "output_type": "display_data"
    }
   ],
   "source": [
    "model = glm(Churn ~ SeniorCitizen + tenure + Partner, data, family = \"binomial\")\n",
    "summary(model)"
   ]
  },
  {
   "cell_type": "code",
   "execution_count": 4,
   "metadata": {
    "vscode": {
     "languageId": "r"
    }
   },
   "outputs": [
    {
     "data": {
      "text/html": [
       "<table class=\"dataframe\">\n",
       "<caption>A data.frame: 2 × 3</caption>\n",
       "<thead>\n",
       "\t<tr><th scope=col>tenure</th><th scope=col>Partner</th><th scope=col>SeniorCitizen</th></tr>\n",
       "\t<tr><th scope=col>&lt;dbl&gt;</th><th scope=col>&lt;chr&gt;</th><th scope=col>&lt;chr&gt;</th></tr>\n",
       "</thead>\n",
       "<tbody>\n",
       "\t<tr><td>23</td><td>Yes</td><td>Yes</td></tr>\n",
       "\t<tr><td> 5</td><td>No </td><td>No </td></tr>\n",
       "</tbody>\n",
       "</table>\n"
      ],
      "text/latex": [
       "A data.frame: 2 × 3\n",
       "\\begin{tabular}{lll}\n",
       " tenure & Partner & SeniorCitizen\\\\\n",
       " <dbl> & <chr> & <chr>\\\\\n",
       "\\hline\n",
       "\t 23 & Yes & Yes\\\\\n",
       "\t  5 & No  & No \\\\\n",
       "\\end{tabular}\n"
      ],
      "text/markdown": [
       "\n",
       "A data.frame: 2 × 3\n",
       "\n",
       "| tenure &lt;dbl&gt; | Partner &lt;chr&gt; | SeniorCitizen &lt;chr&gt; |\n",
       "|---|---|---|\n",
       "| 23 | Yes | Yes |\n",
       "|  5 | No  | No  |\n",
       "\n"
      ],
      "text/plain": [
       "  tenure Partner SeniorCitizen\n",
       "1 23     Yes     Yes          \n",
       "2  5     No      No           "
      ]
     },
     "metadata": {},
     "output_type": "display_data"
    }
   ],
   "source": [
    "SeniorCitizen = c(\"Yes\", \"No\")\n",
    "tenure = c(23, 5)\n",
    "Partner = c(\"Yes\", \"No\")\n",
    "data <- data.frame(tenure = tenure, Partner = Partner, SeniorCitizen = SeniorCitizen)\n",
    "(data)"
   ]
  },
  {
   "cell_type": "code",
   "execution_count": 5,
   "metadata": {
    "vscode": {
     "languageId": "r"
    }
   },
   "outputs": [
    {
     "data": {
      "text/html": [
       "<style>\n",
       ".dl-inline {width: auto; margin:0; padding: 0}\n",
       ".dl-inline>dt, .dl-inline>dd {float: none; width: auto; display: inline-block}\n",
       ".dl-inline>dt::after {content: \":\\0020\"; padding-right: .5ex}\n",
       ".dl-inline>dt:not(:first-of-type) {padding-left: .5ex}\n",
       "</style><dl class=dl-inline><dt>1</dt><dd>0.245224302237393</dd><dt>2</dt><dd>0.680173053656086</dd></dl>\n"
      ],
      "text/latex": [
       "\\begin{description*}\n",
       "\\item[1] 0.245224302237393\n",
       "\\item[2] 0.680173053656086\n",
       "\\end{description*}\n"
      ],
      "text/markdown": [
       "1\n",
       ":   0.2452243022373932\n",
       ":   0.680173053656086\n",
       "\n"
      ],
      "text/plain": [
       "        1         2 \n",
       "0.2452243 0.6801731 "
      ]
     },
     "metadata": {},
     "output_type": "display_data"
    }
   ],
   "source": [
    "##PREDICT PROBABILITY\n",
    "predict(model, data, type=\"response\") "
   ]
  },
  {
   "cell_type": "code",
   "execution_count": 6,
   "metadata": {
    "vscode": {
     "languageId": "r"
    }
   },
   "outputs": [
    {
     "data": {
      "text/html": [
       "<table class=\"dataframe\">\n",
       "<caption>A matrix: 1 × 1 of type dbl</caption>\n",
       "<tbody>\n",
       "\t<tr><td>0.2453812</td></tr>\n",
       "</tbody>\n",
       "</table>\n"
      ],
      "text/latex": [
       "A matrix: 1 × 1 of type dbl\n",
       "\\begin{tabular}{l}\n",
       "\t 0.2453812\\\\\n",
       "\\end{tabular}\n"
      ],
      "text/markdown": [
       "\n",
       "A matrix: 1 × 1 of type dbl\n",
       "\n",
       "| 0.2453812 |\n",
       "\n"
      ],
      "text/plain": [
       "     [,1]     \n",
       "[1,] 0.2453812"
      ]
     },
     "metadata": {},
     "output_type": "display_data"
    },
    {
     "data": {
      "text/html": [
       "<table class=\"dataframe\">\n",
       "<caption>A matrix: 1 × 1 of type dbl</caption>\n",
       "<tbody>\n",
       "\t<tr><td>0.6802019</td></tr>\n",
       "</tbody>\n",
       "</table>\n"
      ],
      "text/latex": [
       "A matrix: 1 × 1 of type dbl\n",
       "\\begin{tabular}{l}\n",
       "\t 0.6802019\\\\\n",
       "\\end{tabular}\n"
      ],
      "text/markdown": [
       "\n",
       "A matrix: 1 × 1 of type dbl\n",
       "\n",
       "| 0.6802019 |\n",
       "\n"
      ],
      "text/plain": [
       "     [,1]     \n",
       "[1,] 0.6802019"
      ]
     },
     "metadata": {},
     "output_type": "display_data"
    }
   ],
   "source": [
    "B <- c(0.9527, -1.0494, -0.0396, -0.1159)\n",
    "\n",
    "##DEFINE CUSTOMER DATA\n",
    "X_John <- c(1, 1, 23, 1)\n",
    "X_Sara <-c(1, 0, 5, 0)\n",
    "\n",
    "##COMPUTE CHURN RATE FOR JOHN\n",
    "exp(B%*%X_John)/(1 + exp(B%*%X_John))\n",
    "\n",
    "##COMPUTE CHURN RATE FOR SARA\n",
    "exp(B%*%X_Sara)/(1 + exp(B%*%X_Sara))"
   ]
  },
  {
   "cell_type": "code",
   "execution_count": 7,
   "metadata": {
    "vscode": {
     "languageId": "r"
    }
   },
   "outputs": [
    {
     "data": {
      "text/html": [
       "<table class=\"dataframe\">\n",
       "<caption>A matrix: 1 × 1 of type dbl</caption>\n",
       "<tbody>\n",
       "\t<tr><td>-1.1234</td></tr>\n",
       "</tbody>\n",
       "</table>\n"
      ],
      "text/latex": [
       "A matrix: 1 × 1 of type dbl\n",
       "\\begin{tabular}{l}\n",
       "\t -1.1234\\\\\n",
       "\\end{tabular}\n"
      ],
      "text/markdown": [
       "\n",
       "A matrix: 1 × 1 of type dbl\n",
       "\n",
       "| -1.1234 |\n",
       "\n"
      ],
      "text/plain": [
       "     [,1]   \n",
       "[1,] -1.1234"
      ]
     },
     "metadata": {},
     "output_type": "display_data"
    }
   ],
   "source": [
    "B%*%X_John"
   ]
  }
 ],
 "metadata": {
  "kernelspec": {
   "display_name": "R",
   "language": "R",
   "name": "ir"
  },
  "language_info": {
   "codemirror_mode": "r",
   "file_extension": ".r",
   "mimetype": "text/x-r-source",
   "name": "R",
   "pygments_lexer": "r",
   "version": "4.3.2"
  }
 },
 "nbformat": 4,
 "nbformat_minor": 2
}
