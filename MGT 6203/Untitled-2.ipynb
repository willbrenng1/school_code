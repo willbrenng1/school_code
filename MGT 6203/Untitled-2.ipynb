{
 "cells": [
  {
   "cell_type": "code",
   "execution_count": 5,
   "metadata": {
    "vscode": {
     "languageId": "r"
    }
   },
   "outputs": [
    {
     "name": "stderr",
     "output_type": "stream",
     "text": [
      "Warning message:\n",
      "\"package 'Ecdat' was built under R version 4.3.3\"\n",
      "Loading required package: Ecfun\n",
      "\n",
      "Warning message:\n",
      "\"package 'Ecfun' was built under R version 4.3.3\"\n",
      "\n",
      "Attaching package: 'Ecfun'\n",
      "\n",
      "\n",
      "The following object is masked from 'package:base':\n",
      "\n",
      "    sign\n",
      "\n",
      "\n",
      "\n",
      "Attaching package: 'Ecdat'\n",
      "\n",
      "\n",
      "The following object is masked from 'package:datasets':\n",
      "\n",
      "    Orange\n",
      "\n",
      "\n"
     ]
    }
   ],
   "source": [
    "library(dplyr)\n",
    "library(Ecdat)"
   ]
  },
  {
   "cell_type": "code",
   "execution_count": 11,
   "metadata": {
    "vscode": {
     "languageId": "r"
    }
   },
   "outputs": [],
   "source": [
    "data(Star)"
   ]
  },
  {
   "cell_type": "code",
   "execution_count": 25,
   "metadata": {
    "vscode": {
     "languageId": "r"
    }
   },
   "outputs": [],
   "source": [
    "my_data = Star"
   ]
  },
  {
   "cell_type": "code",
   "execution_count": 26,
   "metadata": {
    "vscode": {
     "languageId": "r"
    }
   },
   "outputs": [],
   "source": [
    "my_data = filter(my_data,classk==\"small.class\"|classk==\"regular\")"
   ]
  },
  {
   "cell_type": "code",
   "execution_count": 27,
   "metadata": {
    "vscode": {
     "languageId": "r"
    }
   },
   "outputs": [
    {
     "data": {
      "text/html": [
       "<table class=\"dataframe\">\n",
       "<caption>A data.frame: 6 × 8</caption>\n",
       "<thead>\n",
       "\t<tr><th></th><th scope=col>tmathssk</th><th scope=col>treadssk</th><th scope=col>classk</th><th scope=col>totexpk</th><th scope=col>sex</th><th scope=col>freelunk</th><th scope=col>race</th><th scope=col>schidkn</th></tr>\n",
       "\t<tr><th></th><th scope=col>&lt;int&gt;</th><th scope=col>&lt;int&gt;</th><th scope=col>&lt;fct&gt;</th><th scope=col>&lt;int&gt;</th><th scope=col>&lt;fct&gt;</th><th scope=col>&lt;fct&gt;</th><th scope=col>&lt;fct&gt;</th><th scope=col>&lt;int&gt;</th></tr>\n",
       "</thead>\n",
       "<tbody>\n",
       "\t<tr><th scope=row>2</th><td>473</td><td>447</td><td>small.class</td><td> 7</td><td>girl</td><td>no </td><td>white</td><td>63</td></tr>\n",
       "\t<tr><th scope=row>3</th><td>536</td><td>450</td><td>small.class</td><td>21</td><td>girl</td><td>no </td><td>black</td><td>20</td></tr>\n",
       "\t<tr><th scope=row>11</th><td>559</td><td>448</td><td>regular    </td><td>16</td><td>boy </td><td>no </td><td>white</td><td>69</td></tr>\n",
       "\t<tr><th scope=row>12</th><td>489</td><td>447</td><td>small.class</td><td> 5</td><td>boy </td><td>yes</td><td>white</td><td>79</td></tr>\n",
       "\t<tr><th scope=row>13</th><td>454</td><td>431</td><td>regular    </td><td> 8</td><td>boy </td><td>yes</td><td>white</td><td> 5</td></tr>\n",
       "\t<tr><th scope=row>21</th><td>500</td><td>451</td><td>regular    </td><td> 3</td><td>girl</td><td>no </td><td>white</td><td>56</td></tr>\n",
       "</tbody>\n",
       "</table>\n"
      ],
      "text/latex": [
       "A data.frame: 6 × 8\n",
       "\\begin{tabular}{r|llllllll}\n",
       "  & tmathssk & treadssk & classk & totexpk & sex & freelunk & race & schidkn\\\\\n",
       "  & <int> & <int> & <fct> & <int> & <fct> & <fct> & <fct> & <int>\\\\\n",
       "\\hline\n",
       "\t2 & 473 & 447 & small.class &  7 & girl & no  & white & 63\\\\\n",
       "\t3 & 536 & 450 & small.class & 21 & girl & no  & black & 20\\\\\n",
       "\t11 & 559 & 448 & regular     & 16 & boy  & no  & white & 69\\\\\n",
       "\t12 & 489 & 447 & small.class &  5 & boy  & yes & white & 79\\\\\n",
       "\t13 & 454 & 431 & regular     &  8 & boy  & yes & white &  5\\\\\n",
       "\t21 & 500 & 451 & regular     &  3 & girl & no  & white & 56\\\\\n",
       "\\end{tabular}\n"
      ],
      "text/markdown": [
       "\n",
       "A data.frame: 6 × 8\n",
       "\n",
       "| <!--/--> | tmathssk &lt;int&gt; | treadssk &lt;int&gt; | classk &lt;fct&gt; | totexpk &lt;int&gt; | sex &lt;fct&gt; | freelunk &lt;fct&gt; | race &lt;fct&gt; | schidkn &lt;int&gt; |\n",
       "|---|---|---|---|---|---|---|---|---|\n",
       "| 2 | 473 | 447 | small.class |  7 | girl | no  | white | 63 |\n",
       "| 3 | 536 | 450 | small.class | 21 | girl | no  | black | 20 |\n",
       "| 11 | 559 | 448 | regular     | 16 | boy  | no  | white | 69 |\n",
       "| 12 | 489 | 447 | small.class |  5 | boy  | yes | white | 79 |\n",
       "| 13 | 454 | 431 | regular     |  8 | boy  | yes | white |  5 |\n",
       "| 21 | 500 | 451 | regular     |  3 | girl | no  | white | 56 |\n",
       "\n"
      ],
      "text/plain": [
       "   tmathssk treadssk classk      totexpk sex  freelunk race  schidkn\n",
       "2  473      447      small.class  7      girl no       white 63     \n",
       "3  536      450      small.class 21      girl no       black 20     \n",
       "11 559      448      regular     16      boy  no       white 69     \n",
       "12 489      447      small.class  5      boy  yes      white 79     \n",
       "13 454      431      regular      8      boy  yes      white  5     \n",
       "21 500      451      regular      3      girl no       white 56     "
      ]
     },
     "metadata": {},
     "output_type": "display_data"
    }
   ],
   "source": [
    "head(my_data)"
   ]
  },
  {
   "cell_type": "code",
   "execution_count": 28,
   "metadata": {
    "vscode": {
     "languageId": "r"
    }
   },
   "outputs": [],
   "source": [
    "my_data$totalscore = my_data$tmathssk + my_data$treadssk"
   ]
  },
  {
   "cell_type": "code",
   "execution_count": 29,
   "metadata": {
    "vscode": {
     "languageId": "r"
    }
   },
   "outputs": [],
   "source": [
    "my_data$small = with(my_data, ifelse(classk ==\"small.class\", 1, 0))\n",
    "my_data$boy = with(my_data, ifelse(sex ==\"boy\", 1, 0))\n",
    "my_data$whiteother = with(my_data, ifelse(race ==\"white\", 1, 0))\n",
    "my_data$freelunch = with(my_data, ifelse(freelunk ==\"yes\", 1, 0))"
   ]
  },
  {
   "cell_type": "code",
   "execution_count": 30,
   "metadata": {
    "vscode": {
     "languageId": "r"
    }
   },
   "outputs": [
    {
     "data": {
      "text/html": [
       "<table class=\"dataframe\">\n",
       "<caption>A data.frame: 6 × 13</caption>\n",
       "<thead>\n",
       "\t<tr><th></th><th scope=col>tmathssk</th><th scope=col>treadssk</th><th scope=col>classk</th><th scope=col>totexpk</th><th scope=col>sex</th><th scope=col>freelunk</th><th scope=col>race</th><th scope=col>schidkn</th><th scope=col>totalscore</th><th scope=col>small</th><th scope=col>boy</th><th scope=col>whiteother</th><th scope=col>freelunch</th></tr>\n",
       "\t<tr><th></th><th scope=col>&lt;int&gt;</th><th scope=col>&lt;int&gt;</th><th scope=col>&lt;fct&gt;</th><th scope=col>&lt;int&gt;</th><th scope=col>&lt;fct&gt;</th><th scope=col>&lt;fct&gt;</th><th scope=col>&lt;fct&gt;</th><th scope=col>&lt;int&gt;</th><th scope=col>&lt;int&gt;</th><th scope=col>&lt;dbl&gt;</th><th scope=col>&lt;dbl&gt;</th><th scope=col>&lt;dbl&gt;</th><th scope=col>&lt;dbl&gt;</th></tr>\n",
       "</thead>\n",
       "<tbody>\n",
       "\t<tr><th scope=row>2</th><td>473</td><td>447</td><td>small.class</td><td> 7</td><td>girl</td><td>no </td><td>white</td><td>63</td><td> 920</td><td>1</td><td>0</td><td>1</td><td>0</td></tr>\n",
       "\t<tr><th scope=row>3</th><td>536</td><td>450</td><td>small.class</td><td>21</td><td>girl</td><td>no </td><td>black</td><td>20</td><td> 986</td><td>1</td><td>0</td><td>0</td><td>0</td></tr>\n",
       "\t<tr><th scope=row>11</th><td>559</td><td>448</td><td>regular    </td><td>16</td><td>boy </td><td>no </td><td>white</td><td>69</td><td>1007</td><td>0</td><td>1</td><td>1</td><td>0</td></tr>\n",
       "\t<tr><th scope=row>12</th><td>489</td><td>447</td><td>small.class</td><td> 5</td><td>boy </td><td>yes</td><td>white</td><td>79</td><td> 936</td><td>1</td><td>1</td><td>1</td><td>1</td></tr>\n",
       "\t<tr><th scope=row>13</th><td>454</td><td>431</td><td>regular    </td><td> 8</td><td>boy </td><td>yes</td><td>white</td><td> 5</td><td> 885</td><td>0</td><td>1</td><td>1</td><td>1</td></tr>\n",
       "\t<tr><th scope=row>21</th><td>500</td><td>451</td><td>regular    </td><td> 3</td><td>girl</td><td>no </td><td>white</td><td>56</td><td> 951</td><td>0</td><td>0</td><td>1</td><td>0</td></tr>\n",
       "</tbody>\n",
       "</table>\n"
      ],
      "text/latex": [
       "A data.frame: 6 × 13\n",
       "\\begin{tabular}{r|lllllllllllll}\n",
       "  & tmathssk & treadssk & classk & totexpk & sex & freelunk & race & schidkn & totalscore & small & boy & whiteother & freelunch\\\\\n",
       "  & <int> & <int> & <fct> & <int> & <fct> & <fct> & <fct> & <int> & <int> & <dbl> & <dbl> & <dbl> & <dbl>\\\\\n",
       "\\hline\n",
       "\t2 & 473 & 447 & small.class &  7 & girl & no  & white & 63 &  920 & 1 & 0 & 1 & 0\\\\\n",
       "\t3 & 536 & 450 & small.class & 21 & girl & no  & black & 20 &  986 & 1 & 0 & 0 & 0\\\\\n",
       "\t11 & 559 & 448 & regular     & 16 & boy  & no  & white & 69 & 1007 & 0 & 1 & 1 & 0\\\\\n",
       "\t12 & 489 & 447 & small.class &  5 & boy  & yes & white & 79 &  936 & 1 & 1 & 1 & 1\\\\\n",
       "\t13 & 454 & 431 & regular     &  8 & boy  & yes & white &  5 &  885 & 0 & 1 & 1 & 1\\\\\n",
       "\t21 & 500 & 451 & regular     &  3 & girl & no  & white & 56 &  951 & 0 & 0 & 1 & 0\\\\\n",
       "\\end{tabular}\n"
      ],
      "text/markdown": [
       "\n",
       "A data.frame: 6 × 13\n",
       "\n",
       "| <!--/--> | tmathssk &lt;int&gt; | treadssk &lt;int&gt; | classk &lt;fct&gt; | totexpk &lt;int&gt; | sex &lt;fct&gt; | freelunk &lt;fct&gt; | race &lt;fct&gt; | schidkn &lt;int&gt; | totalscore &lt;int&gt; | small &lt;dbl&gt; | boy &lt;dbl&gt; | whiteother &lt;dbl&gt; | freelunch &lt;dbl&gt; |\n",
       "|---|---|---|---|---|---|---|---|---|---|---|---|---|---|\n",
       "| 2 | 473 | 447 | small.class |  7 | girl | no  | white | 63 |  920 | 1 | 0 | 1 | 0 |\n",
       "| 3 | 536 | 450 | small.class | 21 | girl | no  | black | 20 |  986 | 1 | 0 | 0 | 0 |\n",
       "| 11 | 559 | 448 | regular     | 16 | boy  | no  | white | 69 | 1007 | 0 | 1 | 1 | 0 |\n",
       "| 12 | 489 | 447 | small.class |  5 | boy  | yes | white | 79 |  936 | 1 | 1 | 1 | 1 |\n",
       "| 13 | 454 | 431 | regular     |  8 | boy  | yes | white |  5 |  885 | 0 | 1 | 1 | 1 |\n",
       "| 21 | 500 | 451 | regular     |  3 | girl | no  | white | 56 |  951 | 0 | 0 | 1 | 0 |\n",
       "\n"
      ],
      "text/plain": [
       "   tmathssk treadssk classk      totexpk sex  freelunk race  schidkn totalscore\n",
       "2  473      447      small.class  7      girl no       white 63       920      \n",
       "3  536      450      small.class 21      girl no       black 20       986      \n",
       "11 559      448      regular     16      boy  no       white 69      1007      \n",
       "12 489      447      small.class  5      boy  yes      white 79       936      \n",
       "13 454      431      regular      8      boy  yes      white  5       885      \n",
       "21 500      451      regular      3      girl no       white 56       951      \n",
       "   small boy whiteother freelunch\n",
       "2  1     0   1          0        \n",
       "3  1     0   0          0        \n",
       "11 0     1   1          0        \n",
       "12 1     1   1          1        \n",
       "13 0     1   1          1        \n",
       "21 0     0   1          0        "
      ]
     },
     "metadata": {},
     "output_type": "display_data"
    }
   ],
   "source": [
    "head(my_data)"
   ]
  },
  {
   "cell_type": "code",
   "execution_count": 35,
   "metadata": {
    "vscode": {
     "languageId": "r"
    }
   },
   "outputs": [
    {
     "data": {
      "text/plain": [
       "\n",
       "Call:\n",
       "lm(formula = small ~ boy + totexpk + whiteother + freelunch, \n",
       "    data = my_data)\n",
       "\n",
       "Residuals:\n",
       "    Min      1Q  Median      3Q     Max \n",
       "-0.4743 -0.4647 -0.4569  0.5349  0.5508 \n",
       "\n",
       "Coefficients:\n",
       "              Estimate Std. Error t value Pr(>|t|)    \n",
       "(Intercept)  0.4650322  0.0250795  18.542   <2e-16 ***\n",
       "boy         -0.0003431  0.0163605  -0.021    0.983    \n",
       "totexpk     -0.0007382  0.0014409  -0.512    0.608    \n",
       "whiteother   0.0081225  0.0195025   0.416    0.677    \n",
       "freelunch    0.0011248  0.0181543   0.062    0.951    \n",
       "---\n",
       "Signif. codes:  0 '***' 0.001 '**' 0.01 '*' 0.05 '.' 0.1 ' ' 1\n",
       "\n",
       "Residual standard error: 0.499 on 3728 degrees of freedom\n",
       "Multiple R-squared:  0.0001086,\tAdjusted R-squared:  -0.0009643 \n",
       "F-statistic: 0.1012 on 4 and 3728 DF,  p-value: 0.9821\n"
      ]
     },
     "metadata": {},
     "output_type": "display_data"
    }
   ],
   "source": [
    "small_lm = lm(small~boy+totexpk+whiteother+freelunch,data = my_data)\n",
    "summary(small_lm)"
   ]
  },
  {
   "cell_type": "code",
   "execution_count": 36,
   "metadata": {
    "vscode": {
     "languageId": "r"
    }
   },
   "outputs": [
    {
     "data": {
      "text/plain": [
       "\n",
       "Call:\n",
       "lm(formula = totalscore ~ small, data = my_data)\n",
       "\n",
       "Residuals:\n",
       "    Min      1Q  Median      3Q     Max \n",
       "-282.94  -53.05   -6.94   45.06  320.95 \n",
       "\n",
       "Coefficients:\n",
       "            Estimate Std. Error t value Pr(>|t|)    \n",
       "(Intercept)  917.942      1.670 549.615  < 2e-16 ***\n",
       "small         14.109      2.451   5.756 9.32e-09 ***\n",
       "---\n",
       "Signif. codes:  0 '***' 0.001 '**' 0.01 '*' 0.05 '.' 0.1 ' ' 1\n",
       "\n",
       "Residual standard error: 74.69 on 3731 degrees of freedom\n",
       "Multiple R-squared:  0.008801,\tAdjusted R-squared:  0.008536 \n",
       "F-statistic: 33.13 on 1 and 3731 DF,  p-value: 9.32e-09\n"
      ]
     },
     "metadata": {},
     "output_type": "display_data"
    }
   ],
   "source": [
    "total_score_lm = lm(totalscore~small,data = my_data)\n",
    "summary(total_score_lm)"
   ]
  },
  {
   "cell_type": "code",
   "execution_count": 37,
   "metadata": {
    "vscode": {
     "languageId": "r"
    }
   },
   "outputs": [
    {
     "data": {
      "text/plain": [
       "\n",
       "Call:\n",
       "lm(formula = totalscore ~ small + totexpk, data = my_data)\n",
       "\n",
       "Residuals:\n",
       "    Min      1Q  Median      3Q     Max \n",
       "-275.90  -52.75   -7.33   45.67  316.94 \n",
       "\n",
       "Coefficients:\n",
       "            Estimate Std. Error t value Pr(>|t|)    \n",
       "(Intercept) 907.4293     2.5487 356.034  < 2e-16 ***\n",
       "small        14.2098     2.4420   5.819 6.42e-09 ***\n",
       "totexpk       1.1580     0.2127   5.445 5.52e-08 ***\n",
       "---\n",
       "Signif. codes:  0 '***' 0.001 '**' 0.01 '*' 0.05 '.' 0.1 ' ' 1\n",
       "\n",
       "Residual standard error: 74.41 on 3730 degrees of freedom\n",
       "Multiple R-squared:  0.01662,\tAdjusted R-squared:  0.01609 \n",
       "F-statistic: 31.52 on 2 and 3730 DF,  p-value: 2.676e-14\n"
      ]
     },
     "metadata": {},
     "output_type": "display_data"
    }
   ],
   "source": [
    "total_score_teach_exp_small_lm = lm(totalscore~small+totexpk,data = my_data)\n",
    "summary(total_score_teach_exp_small_lm)"
   ]
  }
 ],
 "metadata": {
  "kernelspec": {
   "display_name": "R",
   "language": "R",
   "name": "ir"
  },
  "language_info": {
   "codemirror_mode": "r",
   "file_extension": ".r",
   "mimetype": "text/x-r-source",
   "name": "R",
   "pygments_lexer": "r",
   "version": "4.3.2"
  }
 },
 "nbformat": 4,
 "nbformat_minor": 2
}
