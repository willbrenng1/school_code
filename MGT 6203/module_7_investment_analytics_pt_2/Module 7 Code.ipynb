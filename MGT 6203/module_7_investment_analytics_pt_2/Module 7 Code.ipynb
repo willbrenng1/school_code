{
 "cells": [
  {
   "cell_type": "code",
   "execution_count": 1,
   "metadata": {
    "vscode": {
     "languageId": "r"
    }
   },
   "outputs": [
    {
     "name": "stderr",
     "output_type": "stream",
     "text": [
      "Warning message:\n",
      "\"package 'PerformanceAnalytics' was built under R version 4.3.3\"\n",
      "Loading required package: xts\n",
      "\n",
      "Warning message:\n",
      "\"package 'xts' was built under R version 4.3.3\"\n",
      "Loading required package: zoo\n",
      "\n",
      "Warning message:\n",
      "\"package 'zoo' was built under R version 4.3.3\"\n",
      "\n",
      "Attaching package: 'zoo'\n",
      "\n",
      "\n",
      "The following objects are masked from 'package:base':\n",
      "\n",
      "    as.Date, as.Date.numeric\n",
      "\n",
      "\n",
      "\n",
      "Attaching package: 'PerformanceAnalytics'\n",
      "\n",
      "\n",
      "The following object is masked from 'package:graphics':\n",
      "\n",
      "    legend\n",
      "\n",
      "\n",
      "\n",
      "Attaching package: 'lubridate'\n",
      "\n",
      "\n",
      "The following objects are masked from 'package:base':\n",
      "\n",
      "    date, intersect, setdiff, union\n",
      "\n",
      "\n"
     ]
    }
   ],
   "source": [
    "library(PerformanceAnalytics)\n",
    "library(xts)\n",
    "library(lubridate)"
   ]
  },
  {
   "cell_type": "code",
   "execution_count": 2,
   "metadata": {
    "vscode": {
     "languageId": "r"
    }
   },
   "outputs": [
    {
     "data": {
      "text/html": [
       "<table class=\"dataframe\">\n",
       "<caption>A data.frame: 5 × 4</caption>\n",
       "<thead>\n",
       "\t<tr><th></th><th scope=col>Date</th><th scope=col>ContraRet</th><th scope=col>Market.Return</th><th scope=col>Risk.Free</th></tr>\n",
       "\t<tr><th></th><th scope=col>&lt;chr&gt;</th><th scope=col>&lt;dbl&gt;</th><th scope=col>&lt;dbl&gt;</th><th scope=col>&lt;dbl&gt;</th></tr>\n",
       "</thead>\n",
       "<tbody>\n",
       "\t<tr><th scope=row>1</th><td>1/31/1980</td><td> 0.024391</td><td> 0.0631</td><td>0.0080</td></tr>\n",
       "\t<tr><th scope=row>2</th><td>2/29/1980</td><td>-0.016874</td><td>-0.0033</td><td>0.0089</td></tr>\n",
       "\t<tr><th scope=row>3</th><td>3/31/1980</td><td>-0.089431</td><td>-0.1169</td><td>0.0121</td></tr>\n",
       "\t<tr><th scope=row>4</th><td>4/30/1980</td><td> 0.017857</td><td> 0.0523</td><td>0.0126</td></tr>\n",
       "\t<tr><th scope=row>5</th><td>5/31/1980</td><td> 0.078947</td><td> 0.0607</td><td>0.0081</td></tr>\n",
       "</tbody>\n",
       "</table>\n"
      ],
      "text/latex": [
       "A data.frame: 5 × 4\n",
       "\\begin{tabular}{r|llll}\n",
       "  & Date & ContraRet & Market.Return & Risk.Free\\\\\n",
       "  & <chr> & <dbl> & <dbl> & <dbl>\\\\\n",
       "\\hline\n",
       "\t1 & 1/31/1980 &  0.024391 &  0.0631 & 0.0080\\\\\n",
       "\t2 & 2/29/1980 & -0.016874 & -0.0033 & 0.0089\\\\\n",
       "\t3 & 3/31/1980 & -0.089431 & -0.1169 & 0.0121\\\\\n",
       "\t4 & 4/30/1980 &  0.017857 &  0.0523 & 0.0126\\\\\n",
       "\t5 & 5/31/1980 &  0.078947 &  0.0607 & 0.0081\\\\\n",
       "\\end{tabular}\n"
      ],
      "text/markdown": [
       "\n",
       "A data.frame: 5 × 4\n",
       "\n",
       "| <!--/--> | Date &lt;chr&gt; | ContraRet &lt;dbl&gt; | Market.Return &lt;dbl&gt; | Risk.Free &lt;dbl&gt; |\n",
       "|---|---|---|---|---|\n",
       "| 1 | 1/31/1980 |  0.024391 |  0.0631 | 0.0080 |\n",
       "| 2 | 2/29/1980 | -0.016874 | -0.0033 | 0.0089 |\n",
       "| 3 | 3/31/1980 | -0.089431 | -0.1169 | 0.0121 |\n",
       "| 4 | 4/30/1980 |  0.017857 |  0.0523 | 0.0126 |\n",
       "| 5 | 5/31/1980 |  0.078947 |  0.0607 | 0.0081 |\n",
       "\n"
      ],
      "text/plain": [
       "  Date      ContraRet Market.Return Risk.Free\n",
       "1 1/31/1980  0.024391  0.0631       0.0080   \n",
       "2 2/29/1980 -0.016874 -0.0033       0.0089   \n",
       "3 3/31/1980 -0.089431 -0.1169       0.0121   \n",
       "4 4/30/1980  0.017857  0.0523       0.0126   \n",
       "5 5/31/1980  0.078947  0.0607       0.0081   "
      ]
     },
     "metadata": {},
     "output_type": "display_data"
    }
   ],
   "source": [
    "fund <- read.csv(\"contrafund.csv\")\n",
    "head(fund,5)"
   ]
  },
  {
   "cell_type": "markdown",
   "metadata": {},
   "source": [
    "Change the date variable from character type to date type\n"
   ]
  },
  {
   "cell_type": "code",
   "execution_count": 3,
   "metadata": {
    "vscode": {
     "languageId": "r"
    }
   },
   "outputs": [
    {
     "data": {
      "text/html": [
       "<table class=\"dataframe\">\n",
       "<caption>A data.frame: 6 × 4</caption>\n",
       "<thead>\n",
       "\t<tr><th></th><th scope=col>Date</th><th scope=col>ContraRet</th><th scope=col>Market.Return</th><th scope=col>Risk.Free</th></tr>\n",
       "\t<tr><th></th><th scope=col>&lt;date&gt;</th><th scope=col>&lt;dbl&gt;</th><th scope=col>&lt;dbl&gt;</th><th scope=col>&lt;dbl&gt;</th></tr>\n",
       "</thead>\n",
       "<tbody>\n",
       "\t<tr><th scope=row>1</th><td>1980-01-31</td><td> 0.024391</td><td> 0.0631</td><td>0.0080</td></tr>\n",
       "\t<tr><th scope=row>2</th><td>1980-02-29</td><td>-0.016874</td><td>-0.0033</td><td>0.0089</td></tr>\n",
       "\t<tr><th scope=row>3</th><td>1980-03-31</td><td>-0.089431</td><td>-0.1169</td><td>0.0121</td></tr>\n",
       "\t<tr><th scope=row>4</th><td>1980-04-30</td><td> 0.017857</td><td> 0.0523</td><td>0.0126</td></tr>\n",
       "\t<tr><th scope=row>5</th><td>1980-05-31</td><td> 0.078947</td><td> 0.0607</td><td>0.0081</td></tr>\n",
       "\t<tr><th scope=row>6</th><td>1980-06-30</td><td> 0.011743</td><td> 0.0367</td><td>0.0061</td></tr>\n",
       "</tbody>\n",
       "</table>\n"
      ],
      "text/latex": [
       "A data.frame: 6 × 4\n",
       "\\begin{tabular}{r|llll}\n",
       "  & Date & ContraRet & Market.Return & Risk.Free\\\\\n",
       "  & <date> & <dbl> & <dbl> & <dbl>\\\\\n",
       "\\hline\n",
       "\t1 & 1980-01-31 &  0.024391 &  0.0631 & 0.0080\\\\\n",
       "\t2 & 1980-02-29 & -0.016874 & -0.0033 & 0.0089\\\\\n",
       "\t3 & 1980-03-31 & -0.089431 & -0.1169 & 0.0121\\\\\n",
       "\t4 & 1980-04-30 &  0.017857 &  0.0523 & 0.0126\\\\\n",
       "\t5 & 1980-05-31 &  0.078947 &  0.0607 & 0.0081\\\\\n",
       "\t6 & 1980-06-30 &  0.011743 &  0.0367 & 0.0061\\\\\n",
       "\\end{tabular}\n"
      ],
      "text/markdown": [
       "\n",
       "A data.frame: 6 × 4\n",
       "\n",
       "| <!--/--> | Date &lt;date&gt; | ContraRet &lt;dbl&gt; | Market.Return &lt;dbl&gt; | Risk.Free &lt;dbl&gt; |\n",
       "|---|---|---|---|---|\n",
       "| 1 | 1980-01-31 |  0.024391 |  0.0631 | 0.0080 |\n",
       "| 2 | 1980-02-29 | -0.016874 | -0.0033 | 0.0089 |\n",
       "| 3 | 1980-03-31 | -0.089431 | -0.1169 | 0.0121 |\n",
       "| 4 | 1980-04-30 |  0.017857 |  0.0523 | 0.0126 |\n",
       "| 5 | 1980-05-31 |  0.078947 |  0.0607 | 0.0081 |\n",
       "| 6 | 1980-06-30 |  0.011743 |  0.0367 | 0.0061 |\n",
       "\n"
      ],
      "text/plain": [
       "  Date       ContraRet Market.Return Risk.Free\n",
       "1 1980-01-31  0.024391  0.0631       0.0080   \n",
       "2 1980-02-29 -0.016874 -0.0033       0.0089   \n",
       "3 1980-03-31 -0.089431 -0.1169       0.0121   \n",
       "4 1980-04-30  0.017857  0.0523       0.0126   \n",
       "5 1980-05-31  0.078947  0.0607       0.0081   \n",
       "6 1980-06-30  0.011743  0.0367       0.0061   "
      ]
     },
     "metadata": {},
     "output_type": "display_data"
    }
   ],
   "source": [
    "fund$Date = mdy(fund$Date)\n",
    "head(fund)"
   ]
  },
  {
   "cell_type": "markdown",
   "metadata": {},
   "source": [
    "Check that the date column is ordered properly. (Better be safe to compute monthly returns.)\n"
   ]
  },
  {
   "cell_type": "code",
   "execution_count": 4,
   "metadata": {
    "vscode": {
     "languageId": "r"
    }
   },
   "outputs": [
    {
     "data": {
      "text/html": [
       "<table class=\"dataframe\">\n",
       "<caption>A data.frame: 6 × 4</caption>\n",
       "<thead>\n",
       "\t<tr><th></th><th scope=col>Date</th><th scope=col>ContraRet</th><th scope=col>Market.Return</th><th scope=col>Risk.Free</th></tr>\n",
       "\t<tr><th></th><th scope=col>&lt;date&gt;</th><th scope=col>&lt;dbl&gt;</th><th scope=col>&lt;dbl&gt;</th><th scope=col>&lt;dbl&gt;</th></tr>\n",
       "</thead>\n",
       "<tbody>\n",
       "\t<tr><th scope=row>1</th><td>1980-01-31</td><td> 0.024391</td><td> 0.0631</td><td>0.0080</td></tr>\n",
       "\t<tr><th scope=row>2</th><td>1980-02-29</td><td>-0.016874</td><td>-0.0033</td><td>0.0089</td></tr>\n",
       "\t<tr><th scope=row>3</th><td>1980-03-31</td><td>-0.089431</td><td>-0.1169</td><td>0.0121</td></tr>\n",
       "\t<tr><th scope=row>4</th><td>1980-04-30</td><td> 0.017857</td><td> 0.0523</td><td>0.0126</td></tr>\n",
       "\t<tr><th scope=row>5</th><td>1980-05-31</td><td> 0.078947</td><td> 0.0607</td><td>0.0081</td></tr>\n",
       "\t<tr><th scope=row>6</th><td>1980-06-30</td><td> 0.011743</td><td> 0.0367</td><td>0.0061</td></tr>\n",
       "</tbody>\n",
       "</table>\n"
      ],
      "text/latex": [
       "A data.frame: 6 × 4\n",
       "\\begin{tabular}{r|llll}\n",
       "  & Date & ContraRet & Market.Return & Risk.Free\\\\\n",
       "  & <date> & <dbl> & <dbl> & <dbl>\\\\\n",
       "\\hline\n",
       "\t1 & 1980-01-31 &  0.024391 &  0.0631 & 0.0080\\\\\n",
       "\t2 & 1980-02-29 & -0.016874 & -0.0033 & 0.0089\\\\\n",
       "\t3 & 1980-03-31 & -0.089431 & -0.1169 & 0.0121\\\\\n",
       "\t4 & 1980-04-30 &  0.017857 &  0.0523 & 0.0126\\\\\n",
       "\t5 & 1980-05-31 &  0.078947 &  0.0607 & 0.0081\\\\\n",
       "\t6 & 1980-06-30 &  0.011743 &  0.0367 & 0.0061\\\\\n",
       "\\end{tabular}\n"
      ],
      "text/markdown": [
       "\n",
       "A data.frame: 6 × 4\n",
       "\n",
       "| <!--/--> | Date &lt;date&gt; | ContraRet &lt;dbl&gt; | Market.Return &lt;dbl&gt; | Risk.Free &lt;dbl&gt; |\n",
       "|---|---|---|---|---|\n",
       "| 1 | 1980-01-31 |  0.024391 |  0.0631 | 0.0080 |\n",
       "| 2 | 1980-02-29 | -0.016874 | -0.0033 | 0.0089 |\n",
       "| 3 | 1980-03-31 | -0.089431 | -0.1169 | 0.0121 |\n",
       "| 4 | 1980-04-30 |  0.017857 |  0.0523 | 0.0126 |\n",
       "| 5 | 1980-05-31 |  0.078947 |  0.0607 | 0.0081 |\n",
       "| 6 | 1980-06-30 |  0.011743 |  0.0367 | 0.0061 |\n",
       "\n"
      ],
      "text/plain": [
       "  Date       ContraRet Market.Return Risk.Free\n",
       "1 1980-01-31  0.024391  0.0631       0.0080   \n",
       "2 1980-02-29 -0.016874 -0.0033       0.0089   \n",
       "3 1980-03-31 -0.089431 -0.1169       0.0121   \n",
       "4 1980-04-30  0.017857  0.0523       0.0126   \n",
       "5 1980-05-31  0.078947  0.0607       0.0081   \n",
       "6 1980-06-30  0.011743  0.0367       0.0061   "
      ]
     },
     "metadata": {},
     "output_type": "display_data"
    }
   ],
   "source": [
    "fund2 = fund[order(fund$Date),]\n",
    "head(fund2)"
   ]
  },
  {
   "cell_type": "markdown",
   "metadata": {},
   "source": [
    " Create an xts dataset (extended time-series with date as the index)\n"
   ]
  },
  {
   "cell_type": "code",
   "execution_count": 5,
   "metadata": {
    "vscode": {
     "languageId": "r"
    }
   },
   "outputs": [
    {
     "data": {
      "text/plain": [
       "           ContraRet Market.Return Risk.Free\n",
       "1980-01-31  0.024391        0.0631    0.0080\n",
       "1980-02-29 -0.016874       -0.0033    0.0089\n",
       "1980-03-31 -0.089431       -0.1169    0.0121\n",
       "1980-04-30  0.017857        0.0523    0.0126\n",
       "1980-05-31  0.078947        0.0607    0.0081\n",
       "1980-06-30  0.011743        0.0367    0.0061"
      ]
     },
     "metadata": {},
     "output_type": "display_data"
    }
   ],
   "source": [
    "fund3 = xts(fund[,-1],order.by = fund2[,1])\n",
    "head(fund3)"
   ]
  },
  {
   "cell_type": "markdown",
   "metadata": {},
   "source": [
    " Compute the cumulative return for the 38 and a half years Jan 1980 to June 2018\n",
    "\n",
    "geometric = True\n",
    "\n",
    "use the geometric mean for calculating cumulative returns, which accounts for compounding effects"
   ]
  },
  {
   "cell_type": "code",
   "execution_count": 6,
   "metadata": {
    "vscode": {
     "languageId": "r"
    }
   },
   "outputs": [
    {
     "data": {
      "text/html": [
       "<table class=\"dataframe\">\n",
       "<caption>A matrix: 1 × 3 of type dbl</caption>\n",
       "<thead>\n",
       "\t<tr><th></th><th scope=col>ContraRet</th><th scope=col>Market.Return</th><th scope=col>Risk.Free</th></tr>\n",
       "</thead>\n",
       "<tbody>\n",
       "\t<tr><th scope=row>Cumulative Return</th><td>141.5677</td><td>69.29182</td><td>4.072008</td></tr>\n",
       "</tbody>\n",
       "</table>\n"
      ],
      "text/latex": [
       "A matrix: 1 × 3 of type dbl\n",
       "\\begin{tabular}{r|lll}\n",
       "  & ContraRet & Market.Return & Risk.Free\\\\\n",
       "\\hline\n",
       "\tCumulative Return & 141.5677 & 69.29182 & 4.072008\\\\\n",
       "\\end{tabular}\n"
      ],
      "text/markdown": [
       "\n",
       "A matrix: 1 × 3 of type dbl\n",
       "\n",
       "| <!--/--> | ContraRet | Market.Return | Risk.Free |\n",
       "|---|---|---|---|\n",
       "| Cumulative Return | 141.5677 | 69.29182 | 4.072008 |\n",
       "\n"
      ],
      "text/plain": [
       "                  ContraRet Market.Return Risk.Free\n",
       "Cumulative Return 141.5677  69.29182      4.072008 "
      ]
     },
     "metadata": {},
     "output_type": "display_data"
    }
   ],
   "source": [
    "Return.cumulative(fund3,geometric = TRUE)"
   ]
  },
  {
   "cell_type": "markdown",
   "metadata": {},
   "source": [
    "Chart the cumulative returns of Contrafund."
   ]
  },
  {
   "cell_type": "code",
   "execution_count": 7,
   "metadata": {
    "vscode": {
     "languageId": "r"
    }
   },
   "outputs": [
    {
     "data": {
      "image/png": "[encoded data removed]",
      "text/plain": [
       "plot without title"
      ]
     },
     "metadata": {
      "image/png": {
       "height": 420,
       "width": 420
      }
     },
     "output_type": "display_data"
    }
   ],
   "source": [
    "chart.CumReturns(fund3$ContraRet,wealth.index = FALSE,geometric = TRUE)"
   ]
  },
  {
   "cell_type": "markdown",
   "metadata": {},
   "source": [
    "Chart the cumulative returns of Contrafund, the market and risk free rate in one chart\n"
   ]
  },
  {
   "cell_type": "code",
   "execution_count": 8,
   "metadata": {
    "vscode": {
     "languageId": "r"
    }
   },
   "outputs": [
    {
     "data": {
      "image/png": "[encoded data removed]",
      "text/plain": [
       "plot without title"
      ]
     },
     "metadata": {
      "image/png": {
       "height": 420,
       "width": 420
      }
     },
     "output_type": "display_data"
    }
   ],
   "source": [
    "chart.CumReturns(fund3, wealth.index = FALSE, geometric = TRUE)"
   ]
  },
  {
   "cell_type": "markdown",
   "metadata": {},
   "source": [
    "Compute the Sharpe Ratio of the Fund\n",
    "\n",
    "measures the excess returns above the risk free rate\n",
    "\n",
    "\n",
    "Output\n",
    "StdDev: standard deviation of the funds return. Higher = more volitile\n",
    "Sharpe: Risk adjust return"
   ]
  },
  {
   "cell_type": "code",
   "execution_count": 15,
   "metadata": {
    "vscode": {
     "languageId": "r"
    }
   },
   "outputs": [
    {
     "ename": "ERROR",
     "evalue": "Error in checkData(R): The data cannot be converted into a time series.  If you are trying to pass in names from a data object with one column, you should use the form 'data[rows, columns, drop = FALSE]'.  Rownames should have standard date formats, such as '1985-03-15'. \n",
     "output_type": "error",
     "traceback": [
      "Error in checkData(R): The data cannot be converted into a time series.  If you are trying to pass in names from a data object with one column, you should use the form 'data[rows, columns, drop = FALSE]'.  Rownames should have standard date formats, such as '1985-03-15'. \nTraceback:\n",
      "1. SharpeRatio(0.1, 0.02)",
      "2. sapply(R, FUN = srm, Rf = Rf, p = p, FUNC = FUNCT, ...)",
      "3. lapply(X = X, FUN = FUN, ...)",
      "4. FUN(X[[i]], ...)",
      "5. Return.excess(R, Rf)",
      "6. checkData(R)",
      "7. stop(\"The data cannot be converted into a time series.  If you are trying to pass in names from a data object with one column, you should use the form 'data[rows, columns, drop = FALSE]'.  Rownames should have standard date formats, such as '1985-03-15'. \")"
     ]
    }
   ],
   "source": [
    "SharpeRatio(.1,.02)"
   ]
  },
  {
   "cell_type": "code",
   "execution_count": 14,
   "metadata": {
    "vscode": {
     "languageId": "r"
    }
   },
   "outputs": [
    {
     "data": {
      "text/plain": [
       "           ContraRet Market.Return Risk.Free\n",
       "1980-01-31  0.024391        0.0631    0.0080\n",
       "1980-02-29 -0.016874       -0.0033    0.0089\n",
       "1980-03-31 -0.089431       -0.1169    0.0121\n",
       "1980-04-30  0.017857        0.0523    0.0126\n",
       "1980-05-31  0.078947        0.0607    0.0081\n",
       "1980-06-30  0.011743        0.0367    0.0061\n",
       "1980-07-31  0.103571        0.0702    0.0053\n",
       "1980-08-31  0.008091        0.0244    0.0064\n",
       "1980-09-30  0.036116        0.0294    0.0075\n",
       "1980-10-31  0.019365        0.0201    0.0095\n",
       "       ...                                  \n",
       "2017-09-30  0.008487        0.0260    0.0009\n",
       "2017-10-31  0.047277        0.0234    0.0009\n",
       "2017-11-30  0.015914        0.0320    0.0008\n",
       "2017-12-31  0.002905        0.0115    0.0009\n",
       "2018-01-31  0.093204        0.0569    0.0011\n",
       "2018-02-28 -0.022947       -0.0354    0.0011\n",
       "2018-03-31 -0.035171       -0.0223    0.0012\n",
       "2018-04-30  0.011990        0.0043    0.0014\n",
       "2018-05-31  0.040553        0.0279    0.0014\n",
       "2018-06-30  0.009323        0.0062    0.0014"
      ]
     },
     "metadata": {},
     "output_type": "display_data"
    }
   ],
   "source": [
    "fund3"
   ]
  },
  {
   "cell_type": "code",
   "execution_count": null,
   "metadata": {
    "vscode": {
     "languageId": "r"
    }
   },
   "outputs": [],
   "source": [
    "SharpeRatio(fund3$ContraRet,fund3$Risk.Free)"
   ]
  },
  {
   "cell_type": "markdown",
   "metadata": {},
   "source": [
    "Compute the Treynor Ratio of the Contrafund\n",
    "\n",
    "measures reward per unit of risk\n",
    "performance of an investement relative to its systematic risk, as measured by beta\n",
    "How much excess return they are receiving for each unit of risk taken\n"
   ]
  },
  {
   "cell_type": "code",
   "execution_count": 10,
   "metadata": {
    "vscode": {
     "languageId": "r"
    }
   },
   "outputs": [
    {
     "data": {
      "text/html": [
       "0.100583827242311"
      ],
      "text/latex": [
       "0.100583827242311"
      ],
      "text/markdown": [
       "0.100583827242311"
      ],
      "text/plain": [
       "[1] 0.1005838"
      ]
     },
     "metadata": {},
     "output_type": "display_data"
    }
   ],
   "source": [
    "TreynorRatio(fund3$ContraRet,fund3$Market.Return,fund3$Risk.Free)"
   ]
  },
  {
   "cell_type": "code",
   "execution_count": 12,
   "metadata": {
    "vscode": {
     "languageId": "r"
    }
   },
   "outputs": [
    {
     "data": {
      "text/plain": [
       "           ContraRet Market.Return Risk.Free\n",
       "1980-01-31  0.024391        0.0631    0.0080\n",
       "1980-02-29 -0.016874       -0.0033    0.0089\n",
       "1980-03-31 -0.089431       -0.1169    0.0121\n",
       "1980-04-30  0.017857        0.0523    0.0126\n",
       "1980-05-31  0.078947        0.0607    0.0081\n",
       "1980-06-30  0.011743        0.0367    0.0061\n",
       "1980-07-31  0.103571        0.0702    0.0053\n",
       "1980-08-31  0.008091        0.0244    0.0064\n",
       "1980-09-30  0.036116        0.0294    0.0075\n",
       "1980-10-31  0.019365        0.0201    0.0095\n",
       "       ...                                  \n",
       "2017-09-30  0.008487        0.0260    0.0009\n",
       "2017-10-31  0.047277        0.0234    0.0009\n",
       "2017-11-30  0.015914        0.0320    0.0008\n",
       "2017-12-31  0.002905        0.0115    0.0009\n",
       "2018-01-31  0.093204        0.0569    0.0011\n",
       "2018-02-28 -0.022947       -0.0354    0.0011\n",
       "2018-03-31 -0.035171       -0.0223    0.0012\n",
       "2018-04-30  0.011990        0.0043    0.0014\n",
       "2018-05-31  0.040553        0.0279    0.0014\n",
       "2018-06-30  0.009323        0.0062    0.0014"
      ]
     },
     "metadata": {},
     "output_type": "display_data"
    }
   ],
   "source": [
    "fund3"
   ]
  },
  {
   "cell_type": "markdown",
   "metadata": {},
   "source": [
    "Compute Jensen's Alpha\n",
    "\n",
    "Measures abnormal returns that the portfolio earns after adjusting beta\n"
   ]
  },
  {
   "cell_type": "code",
   "execution_count": 13,
   "metadata": {
    "vscode": {
     "languageId": "r"
    }
   },
   "outputs": [
    {
     "data": {
      "text/plain": [
       "           ContraRet Market.Return Risk.Free ContraRet.1 Market.Return.1\n",
       "1980-01-31  0.024391        0.0631    0.0080    0.016391          0.0551\n",
       "1980-02-29 -0.016874       -0.0033    0.0089   -0.025774         -0.0122\n",
       "1980-03-31 -0.089431       -0.1169    0.0121   -0.101531         -0.1290\n",
       "1980-04-30  0.017857        0.0523    0.0126    0.005257          0.0397\n",
       "1980-05-31  0.078947        0.0607    0.0081    0.070847          0.0526"
      ]
     },
     "metadata": {},
     "output_type": "display_data"
    }
   ],
   "source": [
    "fund4 <- transform(fund3, FundExcess = ContraRet-Risk.Free, MktExcess = Market.Return-Risk.Free)\n",
    "head(fund4,5)"
   ]
  },
  {
   "cell_type": "code",
   "execution_count": 15,
   "metadata": {
    "vscode": {
     "languageId": "r"
    }
   },
   "outputs": [
    {
     "data": {
      "text/plain": [
       "\n",
       "Call:\n",
       "lm(formula = ContraRet.1 ~ Market.Return.1, data = fund4)\n",
       "\n",
       "Residuals:\n",
       "      Min        1Q    Median        3Q       Max \n",
       "-0.087553 -0.009588  0.001373  0.010343  0.060880 \n",
       "\n",
       "Coefficients:\n",
       "                 Estimate Std. Error t value Pr(>|t|)    \n",
       "(Intercept)     0.0021850  0.0008362   2.613  0.00927 ** \n",
       "Market.Return.1 0.9013625  0.0188580  47.797  < 2e-16 ***\n",
       "---\n",
       "Signif. codes:  0 '***' 0.001 '**' 0.01 '*' 0.05 '.' 0.1 ' ' 1\n",
       "\n",
       "Residual standard error: 0.01777 on 460 degrees of freedom\n",
       "Multiple R-squared:  0.8324,\tAdjusted R-squared:  0.832 \n",
       "F-statistic:  2285 on 1 and 460 DF,  p-value: < 2.2e-16\n"
      ]
     },
     "metadata": {},
     "output_type": "display_data"
    }
   ],
   "source": [
    "basicmodel = lm(ContraRet.1 ~ Market.Return.1, data=fund4)\n",
    "summary(basicmodel)"
   ]
  },
  {
   "cell_type": "markdown",
   "metadata": {},
   "source": [
    "- Observe the value of the intercept: this is Jensen's Alpha\n",
    "  + Answer: Jensen's Alpha = 0.002 = 0.2%\n",
    "\n",
    "- Notice the value of the regression coefficient of Market.Return: this is Beta of the Contrafund\n",
    "  + Answer: Beta of Contrafund = 0.90"
   ]
  },
  {
   "cell_type": "markdown",
   "metadata": {},
   "source": [
    "To understand better, let's compute the Sharpe Ratio sort of 'by hand'. Insert code to compute Sharpe Ratio by hand.\n",
    "We would need Std dev of portfolio returns and mean excess return."
   ]
  },
  {
   "cell_type": "markdown",
   "metadata": {},
   "source": [
    "Please note the differences. The true Sharpe Ratio uses the Standard Deviation of the Excess Returns, not just the fund returns. \n"
   ]
  },
  {
   "cell_type": "code",
   "execution_count": 17,
   "metadata": {
    "vscode": {
     "languageId": "r"
    }
   },
   "outputs": [
    {
     "data": {
      "text/html": [
       "0.189591570309941"
      ],
      "text/latex": [
       "0.189591570309941"
      ],
      "text/markdown": [
       "0.189591570309941"
      ],
      "text/plain": [
       "[1] 0.1895916"
      ]
     },
     "metadata": {},
     "output_type": "display_data"
    }
   ],
   "source": [
    "sharpe_by_hand = mean(fund4$ContraRet - fund4$Risk.Free)/ sd(fund4$ContraRet - fund4$Risk.Free)\n",
    "sharpe_by_hand"
   ]
  },
  {
   "cell_type": "code",
   "execution_count": 19,
   "metadata": {
    "vscode": {
     "languageId": "r"
    }
   },
   "outputs": [
    {
     "data": {
      "text/html": [
       "0.190106819355188"
      ],
      "text/latex": [
       "0.190106819355188"
      ],
      "text/markdown": [
       "0.190106819355188"
      ],
      "text/plain": [
       "[1] 0.1901068"
      ]
     },
     "metadata": {},
     "output_type": "display_data"
    },
    {
     "data": {
      "text/html": [
       "0.189591570309941"
      ],
      "text/latex": [
       "0.189591570309941"
      ],
      "text/markdown": [
       "0.189591570309941"
      ],
      "text/plain": [
       "[1] 0.1895916"
      ]
     },
     "metadata": {},
     "output_type": "display_data"
    },
    {
     "data": {
      "text/html": [
       "0.190106819355188"
      ],
      "text/latex": [
       "0.190106819355188"
      ],
      "text/markdown": [
       "0.190106819355188"
      ],
      "text/plain": [
       "[1] 0.1901068"
      ]
     },
     "metadata": {},
     "output_type": "display_data"
    }
   ],
   "source": [
    "sharpe_by_hand = mean(fund4$ContraRet-fund4$Risk.Free)/sd(fund4$ContraRet)\n",
    "sharpe_by_hand\n",
    "sharpe_by_hand1 = mean(fund4$ContraRet.1)/sd(fund4$ContraRet.1)\n",
    "sharpe_by_hand1\n",
    "\n",
    "sharpe_by_formula = SharpeRatio(fund4$ContraRet, fund4$Risk.Free, FUN = \"StdDev\")\n",
    "sharpe_by_formula[1]"
   ]
  },
  {
   "cell_type": "markdown",
   "metadata": {},
   "source": [
    "This is slightly lower than the value found above: 0.1901068.\n",
    " \n",
    "\n",
    "0.1895916 is the correct value for the Sharpe Ratio, but 0.1901068 is also an accepted value for the Sharpe Ratio. The industry accepts both answers."
   ]
  },
  {
   "cell_type": "markdown",
   "metadata": {},
   "source": [
    "Compute the Annualize Sharpe Ratio"
   ]
  },
  {
   "cell_type": "code",
   "execution_count": 22,
   "metadata": {
    "vscode": {
     "languageId": "r"
    }
   },
   "outputs": [
    {
     "data": {
      "text/html": [
       "0.658549339977008"
      ],
      "text/latex": [
       "0.658549339977008"
      ],
      "text/markdown": [
       "0.658549339977008"
      ],
      "text/plain": [
       "[1] 0.6585493"
      ]
     },
     "metadata": {},
     "output_type": "display_data"
    },
    {
     "data": {
      "text/html": [
       "0.658549339977008"
      ],
      "text/latex": [
       "0.658549339977008"
      ],
      "text/markdown": [
       "0.658549339977008"
      ],
      "text/plain": [
       "[1] 0.6585493"
      ]
     },
     "metadata": {},
     "output_type": "display_data"
    }
   ],
   "source": [
    "# Note that we do NOT use the Cumulative Return for fund4$ContraRet.1\n",
    "# We only use the mean (or expected value) of the excess returns\n",
    "\n",
    "# Annual Sharpe Ratio\n",
    "\n",
    "sharpe_by_hand_annaul = mean(fund4$ContraRet-fund4$Risk.Free)*sqrt(12)/sd(fund4$ContraRet)\n",
    "sharpe_by_hand_annaul\n",
    "\n",
    "sharpe_by_formula_annual = SharpeRatio.annualized(fund4$ContraRet, fund4$Risk.Free,geometric = F)\n",
    "sharpe_by_formula_annual[1]"
   ]
  },
  {
   "cell_type": "markdown",
   "metadata": {},
   "source": [
    "Calculate the Treynor Ratio by Hand"
   ]
  },
  {
   "cell_type": "code",
   "execution_count": 25,
   "metadata": {
    "vscode": {
     "languageId": "r"
    }
   },
   "outputs": [
    {
     "data": {
      "text/html": [
       "0.109419060194495"
      ],
      "text/latex": [
       "0.109419060194495"
      ],
      "text/markdown": [
       "0.109419060194495"
      ],
      "text/plain": [
       "[1] 0.1094191"
      ]
     },
     "metadata": {},
     "output_type": "display_data"
    },
    {
     "data": {
      "text/html": [
       "0.100583827242311"
      ],
      "text/latex": [
       "0.100583827242311"
      ],
      "text/markdown": [
       "0.100583827242311"
      ],
      "text/plain": [
       "[1] 0.1005838"
      ]
     },
     "metadata": {},
     "output_type": "display_data"
    }
   ],
   "source": [
    "beta = summary(basicmodel)$coef[\"Market.Return.1\",\"Estimate\"]\n",
    "\n",
    "treynor_by_hand_annaul = 12*mean(fund4$`ContraRet.1`)/beta\n",
    "treynor_by_hand_annaul\n",
    "\n",
    "TreynorRatio(fund4$ContraRet, fund4$Market.Return,fund4$Risk.Free)"
   ]
  },
  {
   "cell_type": "code",
   "execution_count": 26,
   "metadata": {
    "vscode": {
     "languageId": "r"
    }
   },
   "outputs": [
    {
     "data": {
      "text/html": [
       "0.109419060194495"
      ],
      "text/latex": [
       "0.109419060194495"
      ],
      "text/markdown": [
       "0.109419060194495"
      ],
      "text/plain": [
       "[1] 0.1094191"
      ]
     },
     "metadata": {},
     "output_type": "display_data"
    },
    {
     "data": {
      "text/html": [
       "0.100583827242311"
      ],
      "text/latex": [
       "0.100583827242311"
      ],
      "text/markdown": [
       "0.100583827242311"
      ],
      "text/plain": [
       "[1] 0.1005838"
      ]
     },
     "metadata": {},
     "output_type": "display_data"
    }
   ],
   "source": [
    "beta = summary(basicmodel)$coef[\"Market.Return.1\",\"Estimate\"]\n",
    "treynor_by_hand_annual = 12*mean(fund4$ContraRet.1)/beta\n",
    "treynor_by_hand_annual\n",
    "TreynorRatio(fund4$ContraRet, fund4$Market.Return,fund4$Risk.Free)"
   ]
  }
 ],
 "metadata": {
  "kernelspec": {
   "display_name": "R",
   "language": "R",
   "name": "ir"
  },
  "language_info": {
   "codemirror_mode": "r",
   "file_extension": ".r",
   "mimetype": "text/x-r-source",
   "name": "R",
   "pygments_lexer": "r",
   "version": "4.3.2"
  }
 },
 "nbformat": 4,
 "nbformat_minor": 2
}
