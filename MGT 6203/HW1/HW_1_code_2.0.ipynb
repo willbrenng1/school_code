{
 "cells": [
  {
   "cell_type": "code",
   "execution_count": 52,
   "metadata": {
    "vscode": {
     "languageId": "r"
    }
   },
   "outputs": [
    {
     "data": {
      "text/html": [
       "<table class=\"dataframe\">\n",
       "<caption>A data.frame: 6 × 12</caption>\n",
       "<thead>\n",
       "\t<tr><th></th><th scope=col>Id</th><th scope=col>Model</th><th scope=col>Price</th><th scope=col>Age</th><th scope=col>KM</th><th scope=col>HP</th><th scope=col>Metallic</th><th scope=col>Automatic</th><th scope=col>CC</th><th scope=col>Doors</th><th scope=col>Gears</th><th scope=col>Weight</th></tr>\n",
       "\t<tr><th></th><th scope=col>&lt;int&gt;</th><th scope=col>&lt;chr&gt;</th><th scope=col>&lt;int&gt;</th><th scope=col>&lt;int&gt;</th><th scope=col>&lt;int&gt;</th><th scope=col>&lt;int&gt;</th><th scope=col>&lt;int&gt;</th><th scope=col>&lt;int&gt;</th><th scope=col>&lt;int&gt;</th><th scope=col>&lt;int&gt;</th><th scope=col>&lt;int&gt;</th><th scope=col>&lt;int&gt;</th></tr>\n",
       "</thead>\n",
       "<tbody>\n",
       "\t<tr><th scope=row>1</th><td>1</td><td>TOYOTA Corolla 1800 T SPORT VVT I 2/3-Doors           </td><td>21500</td><td>27</td><td>19700</td><td>192</td><td>0</td><td>0</td><td>1800</td><td>3</td><td>5</td><td>1185</td></tr>\n",
       "\t<tr><th scope=row>2</th><td>2</td><td>TOYOTA Corolla 1.8 VVTL-i T-Sport 3-Drs 2/3-Doors     </td><td>20950</td><td>25</td><td>31461</td><td>192</td><td>0</td><td>0</td><td>1800</td><td>3</td><td>6</td><td>1185</td></tr>\n",
       "\t<tr><th scope=row>3</th><td>3</td><td>TOYOTA Corolla 1.8 16V VVTLI 3DR T SPORT BNS 2/3-Doors</td><td>19950</td><td>22</td><td>43610</td><td>192</td><td>0</td><td>0</td><td>1800</td><td>3</td><td>6</td><td>1185</td></tr>\n",
       "\t<tr><th scope=row>4</th><td>4</td><td>TOYOTA Corolla 1.8 16V VVTLI 3DR T SPORT 2/3-Doors    </td><td>19600</td><td>25</td><td>32189</td><td>192</td><td>0</td><td>0</td><td>1800</td><td>3</td><td>6</td><td>1185</td></tr>\n",
       "\t<tr><th scope=row>5</th><td>5</td><td>TOYOTA Corolla 1.8 16V VVTLI 3DR T SPORT 2/3-Doors    </td><td>21500</td><td>31</td><td>23000</td><td>192</td><td>1</td><td>0</td><td>1800</td><td>3</td><td>6</td><td>1185</td></tr>\n",
       "\t<tr><th scope=row>6</th><td>6</td><td>TOYOTA Corolla 1.8 16V VVTLI 3DR T SPORT 2/3-Doors    </td><td>22500</td><td>32</td><td>34131</td><td>192</td><td>1</td><td>0</td><td>1800</td><td>3</td><td>6</td><td>1185</td></tr>\n",
       "</tbody>\n",
       "</table>\n"
      ],
      "text/latex": [
       "A data.frame: 6 × 12\n",
       "\\begin{tabular}{r|llllllllllll}\n",
       "  & Id & Model & Price & Age & KM & HP & Metallic & Automatic & CC & Doors & Gears & Weight\\\\\n",
       "  & <int> & <chr> & <int> & <int> & <int> & <int> & <int> & <int> & <int> & <int> & <int> & <int>\\\\\n",
       "\\hline\n",
       "\t1 & 1 & TOYOTA Corolla 1800 T SPORT VVT I 2/3-Doors            & 21500 & 27 & 19700 & 192 & 0 & 0 & 1800 & 3 & 5 & 1185\\\\\n",
       "\t2 & 2 & TOYOTA Corolla 1.8 VVTL-i T-Sport 3-Drs 2/3-Doors      & 20950 & 25 & 31461 & 192 & 0 & 0 & 1800 & 3 & 6 & 1185\\\\\n",
       "\t3 & 3 & TOYOTA Corolla 1.8 16V VVTLI 3DR T SPORT BNS 2/3-Doors & 19950 & 22 & 43610 & 192 & 0 & 0 & 1800 & 3 & 6 & 1185\\\\\n",
       "\t4 & 4 & TOYOTA Corolla 1.8 16V VVTLI 3DR T SPORT 2/3-Doors     & 19600 & 25 & 32189 & 192 & 0 & 0 & 1800 & 3 & 6 & 1185\\\\\n",
       "\t5 & 5 & TOYOTA Corolla 1.8 16V VVTLI 3DR T SPORT 2/3-Doors     & 21500 & 31 & 23000 & 192 & 1 & 0 & 1800 & 3 & 6 & 1185\\\\\n",
       "\t6 & 6 & TOYOTA Corolla 1.8 16V VVTLI 3DR T SPORT 2/3-Doors     & 22500 & 32 & 34131 & 192 & 1 & 0 & 1800 & 3 & 6 & 1185\\\\\n",
       "\\end{tabular}\n"
      ],
      "text/markdown": [
       "\n",
       "A data.frame: 6 × 12\n",
       "\n",
       "| <!--/--> | Id &lt;int&gt; | Model &lt;chr&gt; | Price &lt;int&gt; | Age &lt;int&gt; | KM &lt;int&gt; | HP &lt;int&gt; | Metallic &lt;int&gt; | Automatic &lt;int&gt; | CC &lt;int&gt; | Doors &lt;int&gt; | Gears &lt;int&gt; | Weight &lt;int&gt; |\n",
       "|---|---|---|---|---|---|---|---|---|---|---|---|---|\n",
       "| 1 | 1 | TOYOTA Corolla 1800 T SPORT VVT I 2/3-Doors            | 21500 | 27 | 19700 | 192 | 0 | 0 | 1800 | 3 | 5 | 1185 |\n",
       "| 2 | 2 | TOYOTA Corolla 1.8 VVTL-i T-Sport 3-Drs 2/3-Doors      | 20950 | 25 | 31461 | 192 | 0 | 0 | 1800 | 3 | 6 | 1185 |\n",
       "| 3 | 3 | TOYOTA Corolla 1.8 16V VVTLI 3DR T SPORT BNS 2/3-Doors | 19950 | 22 | 43610 | 192 | 0 | 0 | 1800 | 3 | 6 | 1185 |\n",
       "| 4 | 4 | TOYOTA Corolla 1.8 16V VVTLI 3DR T SPORT 2/3-Doors     | 19600 | 25 | 32189 | 192 | 0 | 0 | 1800 | 3 | 6 | 1185 |\n",
       "| 5 | 5 | TOYOTA Corolla 1.8 16V VVTLI 3DR T SPORT 2/3-Doors     | 21500 | 31 | 23000 | 192 | 1 | 0 | 1800 | 3 | 6 | 1185 |\n",
       "| 6 | 6 | TOYOTA Corolla 1.8 16V VVTLI 3DR T SPORT 2/3-Doors     | 22500 | 32 | 34131 | 192 | 1 | 0 | 1800 | 3 | 6 | 1185 |\n",
       "\n"
      ],
      "text/plain": [
       "  Id Model                                                  Price Age KM    HP \n",
       "1 1  TOYOTA Corolla 1800 T SPORT VVT I 2/3-Doors            21500 27  19700 192\n",
       "2 2  TOYOTA Corolla 1.8 VVTL-i T-Sport 3-Drs 2/3-Doors      20950 25  31461 192\n",
       "3 3  TOYOTA Corolla 1.8 16V VVTLI 3DR T SPORT BNS 2/3-Doors 19950 22  43610 192\n",
       "4 4  TOYOTA Corolla 1.8 16V VVTLI 3DR T SPORT 2/3-Doors     19600 25  32189 192\n",
       "5 5  TOYOTA Corolla 1.8 16V VVTLI 3DR T SPORT 2/3-Doors     21500 31  23000 192\n",
       "6 6  TOYOTA Corolla 1.8 16V VVTLI 3DR T SPORT 2/3-Doors     22500 32  34131 192\n",
       "  Metallic Automatic CC   Doors Gears Weight\n",
       "1 0        0         1800 3     5     1185  \n",
       "2 0        0         1800 3     6     1185  \n",
       "3 0        0         1800 3     6     1185  \n",
       "4 0        0         1800 3     6     1185  \n",
       "5 1        0         1800 3     6     1185  \n",
       "6 1        0         1800 3     6     1185  "
      ]
     },
     "metadata": {},
     "output_type": "display_data"
    }
   ],
   "source": [
    "library(fastDummies)\n",
    "library(dplyr)\n",
    "\n",
    "car_data = read.csv(\"C:/Users/Will/Desktop/School/ISYE 6203/HW 1/UsedCars.csv\")\n",
    "head(car_data)"
   ]
  },
  {
   "cell_type": "code",
   "execution_count": 53,
   "metadata": {
    "vscode": {
     "languageId": "r"
    }
   },
   "outputs": [],
   "source": [
    "car_data = dummy_cols(car_data,select_columns = c(\"Model\"))\n",
    "car_data = subset(car_data,select = -c(Model)) "
   ]
  },
  {
   "cell_type": "code",
   "execution_count": 54,
   "metadata": {
    "vscode": {
     "languageId": "r"
    }
   },
   "outputs": [
    {
     "data": {
      "text/html": [
       "<style>\n",
       ".list-inline {list-style: none; margin:0; padding: 0}\n",
       ".list-inline>li {display: inline-block}\n",
       ".list-inline>li:not(:last-child)::after {content: \"\\00b7\"; padding: 0 .5ex}\n",
       "</style>\n",
       "<ol class=list-inline><li>'Id'</li><li>'Price'</li><li>'Age'</li><li>'KM'</li><li>'HP'</li><li>'Metallic'</li><li>'Automatic'</li><li>'CC'</li><li>'Doors'</li><li>'Gears'</li><li>'Weight'</li><li>'Model_TOYOTA Corolla '</li><li>'Model_TOYOTA Corolla ! 1.6-16v vvt-i sol airco sedan 4/5-Doors'</li><li>'Model_TOYOTA Corolla 1 6-16v VVT-i Linea Terra Comfort Airco 5drs 4/5-Doors'</li><li>'Model_TOYOTA Corolla 1.3 3D Linea Terra 2/3-Doors'</li><li>'Model_TOYOTA Corolla 1.3 16V 2/3-Doors'</li><li>'Model_TOYOTA Corolla 1.3 16V HATCHB 2/3-Doors'</li><li>'Model_TOYOTA Corolla 1.3 16V HATCHB G6 2/3-Doors'</li><li>'Model_TOYOTA Corolla 1.3 16V HATCHB LINEA LUNA 2/3-Doors'</li><li>'Model_TOYOTA Corolla 1.3 16V HATCHB LINEA LUNA AUT3 2/3-Doors'</li><li>'Model_TOYOTA Corolla 1.3 16V HATCHB LINEA TERRA 2/3-Doors'</li><li>'Model_TOYOTA Corolla 1.3 16V HATCHB LINEA TERRA AUT3 2/3-Doors'</li><li>'Model_TOYOTA Corolla 1.3 16V HATCHB S 2/3-Doors'</li><li>'Model_TOYOTA Corolla 1.3 16V L. TERRA COMFORT 2/3-Doors'</li><li>'Model_TOYOTA Corolla 1.3 16V LB Linea Luna 4/5-Doors'</li><li>'Model_TOYOTA Corolla 1.3 16V LIFTB G6 4/5-Doors'</li><li>'Model_TOYOTA Corolla 1.3 16V LIFTB LINEA LUNA 4/5-Doors'</li><li>'Model_TOYOTA Corolla 1.3 16V LIFTB LINEA TERRA 4/5-Doors'</li><li>'Model_TOYOTA Corolla 1.3 16V LIFTB LINEA TERRA AUT3 4/5-Doors'</li><li>'Model_TOYOTA Corolla 1.3 16v linea terra '</li><li>'Model_TOYOTA Corolla 1.3 16V Linea Terra 2/3-Doors'</li><li>'Model_TOYOTA Corolla 1.3 16V Linea Terra 4/5-Doors'</li><li>'Model_TOYOTA Corolla 1.3 16V Linea Terra Liftb 2/3-Doors'</li><li>'Model_TOYOTA Corolla 1.3 16V Linea Terra Liftb 4/5-Doors'</li><li>'Model_TOYOTA Corolla 1.3 16V SEDAN LINEA TERRA 4/5-Doors'</li><li>'Model_TOYOTA Corolla 1.3 16V SEDAN LINEA TERRA AUT3 4/5-Doors'</li><li>'Model_TOYOTA Corolla 1.3 16V WAGON LINEA LUNA Stationwagen'</li><li>'Model_TOYOTA Corolla 1.3 16V WAGON LINEA TERRA Stationwagen'</li><li>'Model_TOYOTA Corolla 1.3 G6 liftback 4/5-Doors'</li><li>'Model_TOYOTA Corolla 1.3 Hatchback 2/3-Doors'</li><li>'Model_TOYOTA Corolla 1.3 HB Linea Terra 2/3-Doors'</li><li>'Model_TOYOTA Corolla 1.3 HB LINEA TERRA 2/3-Doors'</li><li>'Model_TOYOTA Corolla 1.3 HB LINEA TERRA AUT 2/3-Doors'</li><li>'Model_TOYOTA Corolla 1.3 HB LINEA TERRA AUT Anders'</li><li>'Model_TOYOTA Corolla 1.3 I LUNA 2/3-Doors'</li><li>'Model_TOYOTA Corolla 1.3 LB LINEA TERRA 4/5-Doors'</li><li>'Model_TOYOTA Corolla 1.3 LIN. Terra 2/3-Doors'</li><li>'Model_TOYOTA Corolla 1.3 Linea Luna Hatchback 2/3-Doors'</li><li>'Model_TOYOTA Corolla 1.3 Linea Terra 3 drs 2/3-Doors'</li><li>'Model_TOYOTA Corolla 1.3 Linea Terra 4/5-Doors'</li><li>'Model_TOYOTA Corolla 1.3 Linea Terra Comfort 4/5-Doors'</li><li>'Model_TOYOTA Corolla 1.3 Linea Terra Hatchback 2/3-Doors'</li><li>'Model_TOYOTA Corolla 1.3 Linea Terra liftback 4/5-Doors'</li><li>'Model_TOYOTA Corolla 1.3 Linea Terra sedan 4/5-Doors'</li><li>'Model_TOYOTA Corolla 1.3 Linea Terra sedan Comf. 4/5-Doors'</li><li>'Model_TOYOTA Corolla 1.3 Linea Terra wagon Stationwagen'</li><li>'Model_TOYOTA Corolla 1.3 SDN LINEA TERRA AUT 4/5-Doors'</li><li>'Model_TOYOTA Corolla 1.3-16V Luna 2/3-Doors'</li><li>'Model_TOYOTA Corolla 1.3i LINEA TERRA 2/3-Doors'</li><li>'Model_TOYOTA Corolla 1.3I LINEATERRA 2/3-Doors'</li><li>'Model_TOYOTA Corolla 1.3i-16v Linea Terra 5d 4/5-Doors'</li><li>'Model_TOYOTA Corolla 1.4 16V 5DR TERRA 4/5-Doors'</li><li>'Model_TOYOTA Corolla 1.4 16V VVT I 3DR 2/3-Doors'</li><li>'Model_TOYOTA Corolla 1.4 16V VVT I 3DR TERRA 2/3-Doors'</li><li>'Model_TOYOTA Corolla 1.4 16V VVT I 3DR TERRA COMFORT 2/3-Doors'</li><li>'Model_TOYOTA Corolla 1.4 16V VVT I 5DR 4/5-Doors'</li><li>'Model_TOYOTA Corolla 1.4 16V VVT I 5DR LUNA 4/5-Doors'</li><li>'Model_TOYOTA Corolla 1.4 16V VVT I 5DR LUNA BNS 4/5-Doors'</li><li>'Model_TOYOTA Corolla 1.4 16V VVT I 5DR SOL 4/5-Doors'</li><li>'Model_TOYOTA Corolla 1.4 16V VVT I 5DR TERRA 4/5-Doors'</li><li>'Model_TOYOTA Corolla 1.4 16V VVT I 5DR TERRA COMFORT 4/5-Doors'</li><li>'Model_TOYOTA Corolla 1.4 16V VVT I HATCHB SOL 2/3-Doors'</li><li>'Model_TOYOTA Corolla 1.4 16V VVT I HATCHB TERRA 2/3-Doors'</li><li>'Model_TOYOTA Corolla 1.4 16V VVT I LIFTB LUNA 4/5-Doors'</li><li>'Model_TOYOTA Corolla 1.4 16V VVT I LIFTB SOL 4/5-Doors'</li><li>'Model_TOYOTA Corolla 1.4 16V VVT I LIFTB TERRA 4/5-Doors'</li><li>'Model_TOYOTA Corolla 1.4 16V VVT I SEDAN TERRA COMF 4/5-Doors'</li><li>'Model_TOYOTA Corolla 1.4 HB LINEA TERRA 2/3-Doors'</li><li>'Model_TOYOTA Corolla 1.4 HB Terra 2/3-Doors'</li><li>'Model_TOYOTA Corolla 1.4 LB LINEA TERRA 4/5-Doors'</li><li>'Model_TOYOTA Corolla 1.4 VVT-i Linea Luna liftback 4/5-Doors'</li><li>'Model_TOYOTA Corolla 1.4 VVT-i Linea Sol HB 2/3-Doors'</li><li>'Model_TOYOTA Corolla 1.4 VVT-i Sol 2/3-Doors'</li><li>'Model_TOYOTA Corolla 1.4 VVT-i Terra 2/3-Doors'</li><li><span style=white-space:pre-wrap>'Model_TOYOTA Corolla 1.4 VVTI  (Nw type) 4/5-Doors'</span></li><li>'Model_TOYOTA Corolla 1.4 VVTI L.Terra HB 4/5-Doors'</li><li>'Model_TOYOTA Corolla 1.4 VVTI LB 4/5-Doors'</li><li>'Model_TOYOTA Corolla 1.4 VVTI Linea Terra 2/3-Doors'</li><li>'Model_TOYOTA Corolla 1.4-16v VVT-i Linea Terra Comfort NIEUW AIRCO 4/5-Doors'</li><li>'Model_TOYOTA Corolla 1.6 3D Terra/Comf. 2/3-Doors'</li><li>'Model_TOYOTA Corolla 1.6 4/5-Doors'</li><li>'Model_TOYOTA Corolla 1.6 5drs 1 4/5-Doors'</li><li>'Model_TOYOTA Corolla 1.6 16V HATCHB G6 2/3-Doors'</li><li>'Model_TOYOTA Corolla 1.6 16V HATCHB G6 R 2/3-Doors'</li><li>'Model_TOYOTA Corolla 1.6 16V HATCHB GTSI 2/3-Doors'</li><li>'Model_TOYOTA Corolla 1.6 16V HATCHB LINEA LUNA 2/3-Doors'</li><li>'Model_TOYOTA Corolla 1.6 16V HATCHB LINEA LUNA AUT4 2/3-Doors'</li><li>'Model_TOYOTA Corolla 1.6 16V HATCHB LINEA TERRA 2/3-Doors'</li><li>'Model_TOYOTA Corolla 1.6 16V HATCHB LINEA TERRA AUT4 2/3-Doors'</li><li>'Model_TOYOTA Corolla 1.6 16V HATCHB S 2/3-Doors'</li><li>'Model_TOYOTA Corolla 1.6 16V HATCHBACK LINEA LUNA 2/3-Doors'</li><li>'Model_TOYOTA Corolla 1.6 16v L.SOL 2/3-Doors'</li><li>'Model_TOYOTA Corolla 1.6 16V LIFTB LINEA LUNA 4/5-Doors'</li><li>'Model_TOYOTA Corolla 1.6 16V LIFTB LINEA LUNA AUT4 4/5-Doors'</li><li>'Model_TOYOTA Corolla 1.6 16V LIFTB LINEA TERRA 4/5-Doors'</li><li>'Model_TOYOTA Corolla 1.6 16V LIFTB LINEA TERRA AUT4 4/5-Doors'</li><li>'Model_TOYOTA Corolla 1.6 16v Liftback Linea Luna 4/5-Doors'</li><li>'Model_TOYOTA Corolla 1.6 16V LIFTBACK LINEA LUNA 4/5-Doors'</li><li>'Model_TOYOTA Corolla 1.6 16v Liftback Linea So 4/5-Doors'</li><li>'Model_TOYOTA Corolla 1.6 16v Liftback Linea Sol 4/5-Doors'</li><li>'Model_TOYOTA Corolla 1.6 16v Liftback Linea Terra 4/5-Doors'</li><li>'Model_TOYOTA Corolla 1.6 16v Linea Luna 2/3-Doors'</li><li>'Model_TOYOTA Corolla 1.6 16v Linea Luna Stationwagen'</li><li>'Model_TOYOTA Corolla 1.6 16v Linea Terra 4/5-Doors'</li><li>'Model_TOYOTA Corolla 1.6 16V S-uitvoering 2/3-Doors'</li><li>'Model_TOYOTA Corolla 1.6 16V SEDAN LINEA LUNA 4/5-Doors'</li><li>'Model_TOYOTA Corolla 1.6 16V SEDAN LINEA LUNA AUT4 4/5-Doors'</li><li>'Model_TOYOTA Corolla 1.6 16V SEDAN LINEA TERRA 4/5-Doors'</li><li>'Model_TOYOTA Corolla 1.6 16V SEDAN LINEA TERRA AUT4 4/5-Doors'</li><li>'Model_TOYOTA Corolla 1.6 16v TERRA 4/5-Doors'</li><li>'Model_TOYOTA Corolla 1.6 16V VVT I 3DR SOL 2/3-Doors'</li><li>'Model_TOYOTA Corolla 1.6 16V VVT I 3DR SOL AUT4 2/3-Doors'</li><li>'Model_TOYOTA Corolla 1.6 16V VVT I 3DR TERRA 2/3-Doors'</li><li>'Model_TOYOTA Corolla 1.6 16V VVT I 3DR TERRA COMF AUT 2/3-Doors'</li><li>'Model_TOYOTA Corolla 1.6 16V VVT I 3DR TERRA COMFORT 2/3-Doors'</li><li>'Model_TOYOTA Corolla 1.6 16V VVT I 5DR EXEC 4/5-Doors'</li><li>'Model_TOYOTA Corolla 1.6 16V VVT I 5DR EXEC BNS 4/5-Doors'</li><li>'Model_TOYOTA Corolla 1.6 16V VVT I 5DR SOL 4/5-Doors'</li><li>'Model_TOYOTA Corolla 1.6 16V VVT I 5DR SOL AUT4 4/5-Doors'</li><li>'Model_TOYOTA Corolla 1.6 16V VVT I 5DR SOL BNS 4/5-Doors'</li><li>'Model_TOYOTA Corolla 1.6 16V VVT I 5DR TERRA 4/5-Doors'</li><li>'Model_TOYOTA Corolla 1.6 16V VVT I 5DR TERRA AUT4 4/5-Doors'</li><li>'Model_TOYOTA Corolla 1.6 16V VVT I 5DR TERRA COMF AUT 4/5-Doors'</li><li>'Model_TOYOTA Corolla 1.6 16V VVT I 5DR TERRA COMFORT 4/5-Doors'</li><li>'Model_TOYOTA Corolla 1.6 16V VVT I HATCHB G6 2/3-Doors'</li><li>'Model_TOYOTA Corolla 1.6 16V VVT I HATCHB G6 4/5-Doors'</li><li>'Model_TOYOTA Corolla 1.6 16V VVT I HATCHB SOL 2/3-Doors'</li><li>'Model_TOYOTA Corolla 1.6 16V VVT I HATCHB SOL AUT4 2/3-Doors'</li><li>'Model_TOYOTA Corolla 1.6 16V VVT I HATCHB TERRA 2/3-Doors'</li><li>'Model_TOYOTA Corolla 1.6 16V VVT I HATCHB TERRA AUT4 2/3-Doors'</li><li>'Model_TOYOTA Corolla 1.6 16V VVT I LIFTB LUNA 4/5-Doors'</li><li>'Model_TOYOTA Corolla 1.6 16V VVT I LIFTB LUNA AUT4 4/5-Doors'</li><li>'Model_TOYOTA Corolla 1.6 16V VVT I LIFTB SOL 4/5-Doors'</li><li>'Model_TOYOTA Corolla 1.6 16V VVT I LIFTB SOL AUT4 4/5-Doors'</li><li>'Model_TOYOTA Corolla 1.6 16V VVT I LIFTB TERRA 4/5-Doors'</li><li>'Model_TOYOTA Corolla 1.6 16V VVT I SEDAN SOL 4/5-Doors'</li><li>'Model_TOYOTA Corolla 1.6 16V VVT I SEDAN SOL AUT4 4/5-Doors'</li><li>'Model_TOYOTA Corolla 1.6 16V VVT I SEDAN SOL BNS AUT4 4/5-Doors'</li><li>'Model_TOYOTA Corolla 1.6 16V VVT I SEDAN TERRA 4/5-Doors'</li><li>'Model_TOYOTA Corolla 1.6 16V VVT I SEDAN TERRA AUT4 4/5-Doors'</li><li>'Model_TOYOTA Corolla 1.6 16V VVT I SEDAN TERRA COMF 4/5-Doors'</li><li>'Model_TOYOTA Corolla 1.6 16V VVT I WAGON BLUE Stationwagen'</li><li>'Model_TOYOTA Corolla 1.6 16V VVT I WAGON TERRA Stationwagen'</li><li>'Model_TOYOTA Corolla 1.6 16v VVT-i Linea Sol 2/3-Doors'</li><li>'Model_TOYOTA Corolla 1.6 16v VVTi Linea Sol 4/5-Doors'</li><li>'Model_TOYOTA Corolla 1.6 16v VVTi Terra Comfort 2/3-Doors'</li><li>'Model_TOYOTA Corolla 1.6 16v VVTi Terra Comfort 4/5-Doors'</li><li>'Model_TOYOTA Corolla 1.6 16V WAGON LINEA LUNA Stationwagen'</li><li>'Model_TOYOTA Corolla 1.6 16V WAGON LINEA TERRA AUT4 Stationwagen'</li><li>'Model_TOYOTA Corolla 1.6 16V WAGON LINEA TERRA Stationwagen'</li><li>'Model_TOYOTA Corolla 1.6 G6 HB 2/3-Doors'</li><li>'Model_TOYOTA Corolla 1.6 G6R HB 2/3-Doors'</li><li>'Model_TOYOTA Corolla 1.6 GL LB 4/5-Doors'</li><li>'Model_TOYOTA Corolla 1.6 GTSi HB 2/3-Doors'</li><li>'Model_TOYOTA Corolla 1.6 GTSi HB 4/5-Doors'</li><li>'Model_TOYOTA Corolla 1.6 Hatchback 2/3-Doors'</li><li>'Model_TOYOTA Corolla 1.6 HATCHBACK 2/3-Doors'</li><li>'Model_TOYOTA Corolla 1.6 HB Linea Luna 2/3-Doors'</li><li>'Model_TOYOTA Corolla 1.6 HB LINEA LUNA 2/3-Doors'</li><li>'Model_TOYOTA Corolla 1.6 HB LINEA LUNA AUT 2/3-Doors'</li><li>'Model_TOYOTA Corolla 1.6 HB LINEA SOL 4/5-Doors'</li><li>'Model_TOYOTA Corolla 1.6 HB Linea Terra 2/3-Doors'</li><li>'Model_TOYOTA Corolla 1.6 HB LINEA TERRA 2/3-Doors'</li><li>'Model_TOYOTA Corolla 1.6 HB SOL 2/3-Doors'</li><li>'Model_TOYOTA Corolla 1.6 HB Terra 4/5-Doors'</li><li>'Model_TOYOTA Corolla 1.6 I lb luna 4/5-Doors'</li><li>'Model_TOYOTA Corolla 1.6 LB 4/5-Doors'</li><li>'Model_TOYOTA Corolla 1.6 lb aut 4/5-Doors'</li><li>'Model_TOYOTA Corolla 1.6 LB LINEA LUNA 4/5-Doors'</li><li>'Model_TOYOTA Corolla 1.6 LB LINEA SOL 4/5-Doors'</li><li>'Model_TOYOTA Corolla 1.6 LB Linea Terra 4/5-Doors'</li><li>'Model_TOYOTA Corolla 1.6 LB LINEA TERRA 4/5-Doors'</li><li>'Model_TOYOTA Corolla 1.6 Lin.Terra Aut. 2/3-Doors'</li><li>'Model_TOYOTA Corolla 1.6 Linea Luna 2/3-Doors'</li><li>'Model_TOYOTA Corolla 1.6 Linea Luna 4/5-Doors'</li><li>'Model_TOYOTA Corolla 1.6 Linea Luna Aut. 4/5-Doors'</li><li>'Model_TOYOTA Corolla 1.6 Linea Luna Wagon Stationwagen'</li><li>'Model_TOYOTA Corolla 1.6 linea terra 4/5-Doors'</li><li>'Model_TOYOTA Corolla 1.6 LINEA TERRA 4/5-Doors'</li><li>'Model_TOYOTA Corolla 1.6 Linea Terra Comfort 2/3-Doors'</li><li>'Model_TOYOTA Corolla 1.6 Linea Terra Comfort 4/5-Doors'</li><li>'Model_TOYOTA Corolla 1.6 Linea Terra Comfort H 2/3-Doors'</li><li>'Model_TOYOTA Corolla 1.6 Linea Terra Comfort HB 2/3-Doors'</li><li>'Model_TOYOTA Corolla 1.6 Linea Terra HB 2/3-Doors'</li><li>'Model_TOYOTA Corolla 1.6 Linea Terra LB 4/5-Doors'</li><li>'Model_TOYOTA Corolla 1.6 Linea Terra Sd 4/5-Doors'</li><li>'Model_TOYOTA Corolla 1.6 Linea Terra Sedan 4/5-Doors'</li><li>'Model_TOYOTA Corolla 1.6 LL HB 4/5-Doors'</li><li>'Model_TOYOTA Corolla 1.6 Luna LB 4/5-Doors'</li><li>'Model_TOYOTA Corolla 1.6 Luna Liftback 4/5-Doors'</li><li>'Model_TOYOTA Corolla 1.6 SD TERRA 4/5-Doors'</li><li>'Model_TOYOTA Corolla 1.6 SDN LINEA SOL 4/5-Doors'</li><li>'Model_TOYOTA Corolla 1.6 SDN LINEA TERRA 4/5-Doors'</li><li>'Model_TOYOTA Corolla 1.6 SDN LINEA TERRA AUT 4/5-Doors'</li><li>'Model_TOYOTA Corolla 1.6 sol lb 4/5-Doors'</li><li>'Model_TOYOTA Corolla 1.6 station 1 Stationwagen'</li><li>'Model_TOYOTA Corolla 1.6 Terra 5-Doors Liftback 4/5-Doors'</li><li>'Model_TOYOTA Corolla 1.6 terra comfort 5drs airco 4/5-Doors'</li><li>'Model_TOYOTA Corolla 1.6 Terra HB 2/3-Doors'</li><li>'Model_TOYOTA Corolla 1.6 Terra LB 4/5-Doors'</li><li>'Model_TOYOTA Corolla 1.6 Terra LB Comf. 4/5-Doors'</li><li>'Model_TOYOTA Corolla 1.6 Terra Stationwagen'</li><li>'Model_TOYOTA Corolla 1.6 VVT-I 5DR LINEA SOL 4/5-Doors'</li><li>'Model_TOYOTA Corolla 1.6 VVT-I 5DR LINEA TERRA 4/5-Doors'</li><li>'Model_TOYOTA Corolla 1.6 VVT-i L. Sol Wagon Stationwagen'</li><li>'Model_TOYOTA Corolla 1.6 VVT-i Linea Sol 4/5-Doors'</li><li>'Model_TOYOTA Corolla 1.6 VVT-i Linea Terra Comfort 2/3-Doors'</li><li>'Model_TOYOTA Corolla 1.6 VVT-i Linea Terra Comfort 4/5-Doors'</li><li>'Model_TOYOTA Corolla 1.6 vvt-i nw model comfort airco 5drs 4/5-Doors'</li><li>'Model_TOYOTA Corolla 1.6 VVTi Linea Luna 2/3-Doors'</li><li>'Model_TOYOTA Corolla 1.6 VVTi Linea Luna 4/5-Doors'</li><li>'Model_TOYOTA Corolla 1.6 VVTi Linea Luna Lift 4/5-Doors'</li><li>'Model_TOYOTA Corolla 1.6 VVTI Linea Sol Sedan 4/5-Doors'</li><li>'Model_TOYOTA Corolla 1.6 VVTi Linea terra 2/3-Doors'</li><li>'Model_TOYOTA Corolla 1.6 VVTi Linea terra 4/5-Doors'</li><li>'Model_TOYOTA Corolla 1.6 VVTI Linea Terra Comfort 2/3-Doors'</li><li>'Model_TOYOTA Corolla 1.6 VVTI Linea Terra Comfort 4/5-Doors'</li><li>'Model_TOYOTA Corolla 1.6 VVTI Linea Terra liftback 4/5-Doors'</li><li>'Model_TOYOTA Corolla 1.6 VVTi Terra Comfort 4/5-Doors'</li><li>'Model_TOYOTA Corolla 1.6 WGN LINEA TERRA Stationwagen'</li><li>'Model_TOYOTA Corolla 1.6-16v Linea Terra 2/3-Doors'</li><li>'Model_TOYOTA Corolla 1.6-16v Linea Terra LB 4/5-Doors'</li><li>'Model_TOYOTA Corolla 1.6-16v VVT-i Executive B.edition 4/5-Doors'</li><li>'Model_TOYOTA Corolla 1.6-16v VVT-i Linea Terra Comfort AIRCO NIEUW 5DRS 4/5-Doors'</li><li>'Model_TOYOTA Corolla 1.6-16v VVT-i Linea Terra Comfort NIEUW AIRCO 5drs 4/5-Doors'</li><li>'Model_TOYOTA Corolla 1.6HB 2/3-Doors'</li><li>'Model_TOYOTA Corolla 1.6i 16V VVT I SOL + Navigatie 4/5-Doors'</li><li>'Model_TOYOTA Corolla 1.6I LIFTBACK 4/5-Doors'</li><li>'Model_TOYOTA Corolla 1.6i Linea Terra HB 2/3-Doors'</li><li>'Model_TOYOTA Corolla 1.6I Luna liftback 4/5-Doors'</li><li>'Model_TOYOTA Corolla 1.6i-16 SPORTS TC 2/3-Doors'</li><li>'Model_TOYOTA Corolla 1.6v VVT-i Linea Sol 4/5-Doors'</li><li>'Model_TOYOTA Corolla 1.8 16V VVTLI 3DR T SPORT 2/3-Doors'</li><li>'Model_TOYOTA Corolla 1.8 16V VVTLI 3DR T SPORT BNS 2/3-Doors'</li><li>'Model_TOYOTA Corolla 1.8 16V VVTLI 5DR T SPORT 4/5-Doors'</li><li>'Model_TOYOTA Corolla 1.8 VVTL-i T-Sport 3-Drs 2/3-Doors'</li><li>'Model_TOYOTA Corolla 1.8 VVTL-i T-Sport 3-Drs 4/5-Doors'</li><li>'Model_TOYOTA Corolla 1.8 VVTL-i T-Sport 4/5-Doors'</li><li>'Model_TOYOTA Corolla 2/3-Doors'</li><li>'Model_TOYOTA Corolla 3drs 13i-16V 2/3-Doors'</li><li>'Model_TOYOTA Corolla 1800 T SPORT VVT I 2/3-Doors'</li><li>'Model_TOYOTA Corolla Hatchback 1.6 Terra Comfort 2/3-Doors'</li><li>'Model_TOYOTA Corolla LIFTBACK 1.3i Linea Luna Liftback 4/5-Doors'</li><li>'Model_TOYOTA Corolla LIFTBACK 1.3i Linea Terra Liftback 4/5-Doors'</li><li>'Model_TOYOTA Corolla LIFTBACK 1.4 16V VVTI TERRA 4/5-Doors'</li><li>'Model_TOYOTA Corolla LIFTBACK 1.4 VVT-i LINEA TERRA 4/5-Doors'</li><li>'Model_TOYOTA Corolla LIFTBACK 1.6 Linea Luna Liftback 4/5-Doors'</li><li>'Model_TOYOTA Corolla LIFTBACK 1.6 Linea Sol 4/5-Doors'</li><li>'Model_TOYOTA Corolla LIFTBACK 1.6 Linea terra 4/5-Doors'</li><li>'Model_TOYOTA Corolla LIFTBACK 1.6 Linea Terra Liftback 4/5-Doors'</li><li>'Model_TOYOTA Corolla Liftback 1.6 VVTI 4/5-Doors'</li><li>'Model_TOYOTA Corolla LIFTBACK 1.6-16v Linea Luna 2/3-Doors'</li><li>'Model_TOYOTA Corolla LIFTBACK 1.6-16v Linea Luna 4/5-Doors'</li><li>'Model_TOYOTA Corolla Linea Luna 1.6i 16V 2/3-Doors'</li></ol>\n"
      ],
      "text/latex": [
       "\\begin{enumerate*}\n",
       "\\item 'Id'\n",
       "\\item 'Price'\n",
       "\\item 'Age'\n",
       "\\item 'KM'\n",
       "\\item 'HP'\n",
       "\\item 'Metallic'\n",
       "\\item 'Automatic'\n",
       "\\item 'CC'\n",
       "\\item 'Doors'\n",
       "\\item 'Gears'\n",
       "\\item 'Weight'\n",
       "\\item 'Model\\_TOYOTA Corolla '\n",
       "\\item 'Model\\_TOYOTA Corolla ! 1.6-16v vvt-i sol airco sedan 4/5-Doors'\n",
       "\\item 'Model\\_TOYOTA Corolla 1 6-16v VVT-i Linea Terra Comfort Airco 5drs 4/5-Doors'\n",
       "\\item 'Model\\_TOYOTA Corolla 1.3 3D Linea Terra 2/3-Doors'\n",
       "\\item 'Model\\_TOYOTA Corolla 1.3 16V 2/3-Doors'\n",
       "\\item 'Model\\_TOYOTA Corolla 1.3 16V HATCHB 2/3-Doors'\n",
       "\\item 'Model\\_TOYOTA Corolla 1.3 16V HATCHB G6 2/3-Doors'\n",
       "\\item 'Model\\_TOYOTA Corolla 1.3 16V HATCHB LINEA LUNA 2/3-Doors'\n",
       "\\item 'Model\\_TOYOTA Corolla 1.3 16V HATCHB LINEA LUNA AUT3 2/3-Doors'\n",
       "\\item 'Model\\_TOYOTA Corolla 1.3 16V HATCHB LINEA TERRA 2/3-Doors'\n",
       "\\item 'Model\\_TOYOTA Corolla 1.3 16V HATCHB LINEA TERRA AUT3 2/3-Doors'\n",
       "\\item 'Model\\_TOYOTA Corolla 1.3 16V HATCHB S 2/3-Doors'\n",
       "\\item 'Model\\_TOYOTA Corolla 1.3 16V L. TERRA COMFORT 2/3-Doors'\n",
       "\\item 'Model\\_TOYOTA Corolla 1.3 16V LB Linea Luna 4/5-Doors'\n",
       "\\item 'Model\\_TOYOTA Corolla 1.3 16V LIFTB G6 4/5-Doors'\n",
       "\\item 'Model\\_TOYOTA Corolla 1.3 16V LIFTB LINEA LUNA 4/5-Doors'\n",
       "\\item 'Model\\_TOYOTA Corolla 1.3 16V LIFTB LINEA TERRA 4/5-Doors'\n",
       "\\item 'Model\\_TOYOTA Corolla 1.3 16V LIFTB LINEA TERRA AUT3 4/5-Doors'\n",
       "\\item 'Model\\_TOYOTA Corolla 1.3 16v linea terra '\n",
       "\\item 'Model\\_TOYOTA Corolla 1.3 16V Linea Terra 2/3-Doors'\n",
       "\\item 'Model\\_TOYOTA Corolla 1.3 16V Linea Terra 4/5-Doors'\n",
       "\\item 'Model\\_TOYOTA Corolla 1.3 16V Linea Terra Liftb 2/3-Doors'\n",
       "\\item 'Model\\_TOYOTA Corolla 1.3 16V Linea Terra Liftb 4/5-Doors'\n",
       "\\item 'Model\\_TOYOTA Corolla 1.3 16V SEDAN LINEA TERRA 4/5-Doors'\n",
       "\\item 'Model\\_TOYOTA Corolla 1.3 16V SEDAN LINEA TERRA AUT3 4/5-Doors'\n",
       "\\item 'Model\\_TOYOTA Corolla 1.3 16V WAGON LINEA LUNA Stationwagen'\n",
       "\\item 'Model\\_TOYOTA Corolla 1.3 16V WAGON LINEA TERRA Stationwagen'\n",
       "\\item 'Model\\_TOYOTA Corolla 1.3 G6 liftback 4/5-Doors'\n",
       "\\item 'Model\\_TOYOTA Corolla 1.3 Hatchback 2/3-Doors'\n",
       "\\item 'Model\\_TOYOTA Corolla 1.3 HB Linea Terra 2/3-Doors'\n",
       "\\item 'Model\\_TOYOTA Corolla 1.3 HB LINEA TERRA 2/3-Doors'\n",
       "\\item 'Model\\_TOYOTA Corolla 1.3 HB LINEA TERRA AUT 2/3-Doors'\n",
       "\\item 'Model\\_TOYOTA Corolla 1.3 HB LINEA TERRA AUT Anders'\n",
       "\\item 'Model\\_TOYOTA Corolla 1.3 I LUNA 2/3-Doors'\n",
       "\\item 'Model\\_TOYOTA Corolla 1.3 LB LINEA TERRA 4/5-Doors'\n",
       "\\item 'Model\\_TOYOTA Corolla 1.3 LIN. Terra 2/3-Doors'\n",
       "\\item 'Model\\_TOYOTA Corolla 1.3 Linea Luna Hatchback 2/3-Doors'\n",
       "\\item 'Model\\_TOYOTA Corolla 1.3 Linea Terra 3 drs 2/3-Doors'\n",
       "\\item 'Model\\_TOYOTA Corolla 1.3 Linea Terra 4/5-Doors'\n",
       "\\item 'Model\\_TOYOTA Corolla 1.3 Linea Terra Comfort 4/5-Doors'\n",
       "\\item 'Model\\_TOYOTA Corolla 1.3 Linea Terra Hatchback 2/3-Doors'\n",
       "\\item 'Model\\_TOYOTA Corolla 1.3 Linea Terra liftback 4/5-Doors'\n",
       "\\item 'Model\\_TOYOTA Corolla 1.3 Linea Terra sedan 4/5-Doors'\n",
       "\\item 'Model\\_TOYOTA Corolla 1.3 Linea Terra sedan Comf. 4/5-Doors'\n",
       "\\item 'Model\\_TOYOTA Corolla 1.3 Linea Terra wagon Stationwagen'\n",
       "\\item 'Model\\_TOYOTA Corolla 1.3 SDN LINEA TERRA AUT 4/5-Doors'\n",
       "\\item 'Model\\_TOYOTA Corolla 1.3-16V Luna 2/3-Doors'\n",
       "\\item 'Model\\_TOYOTA Corolla 1.3i LINEA TERRA 2/3-Doors'\n",
       "\\item 'Model\\_TOYOTA Corolla 1.3I LINEATERRA 2/3-Doors'\n",
       "\\item 'Model\\_TOYOTA Corolla 1.3i-16v Linea Terra 5d 4/5-Doors'\n",
       "\\item 'Model\\_TOYOTA Corolla 1.4 16V 5DR TERRA 4/5-Doors'\n",
       "\\item 'Model\\_TOYOTA Corolla 1.4 16V VVT I 3DR 2/3-Doors'\n",
       "\\item 'Model\\_TOYOTA Corolla 1.4 16V VVT I 3DR TERRA 2/3-Doors'\n",
       "\\item 'Model\\_TOYOTA Corolla 1.4 16V VVT I 3DR TERRA COMFORT 2/3-Doors'\n",
       "\\item 'Model\\_TOYOTA Corolla 1.4 16V VVT I 5DR 4/5-Doors'\n",
       "\\item 'Model\\_TOYOTA Corolla 1.4 16V VVT I 5DR LUNA 4/5-Doors'\n",
       "\\item 'Model\\_TOYOTA Corolla 1.4 16V VVT I 5DR LUNA BNS 4/5-Doors'\n",
       "\\item 'Model\\_TOYOTA Corolla 1.4 16V VVT I 5DR SOL 4/5-Doors'\n",
       "\\item 'Model\\_TOYOTA Corolla 1.4 16V VVT I 5DR TERRA 4/5-Doors'\n",
       "\\item 'Model\\_TOYOTA Corolla 1.4 16V VVT I 5DR TERRA COMFORT 4/5-Doors'\n",
       "\\item 'Model\\_TOYOTA Corolla 1.4 16V VVT I HATCHB SOL 2/3-Doors'\n",
       "\\item 'Model\\_TOYOTA Corolla 1.4 16V VVT I HATCHB TERRA 2/3-Doors'\n",
       "\\item 'Model\\_TOYOTA Corolla 1.4 16V VVT I LIFTB LUNA 4/5-Doors'\n",
       "\\item 'Model\\_TOYOTA Corolla 1.4 16V VVT I LIFTB SOL 4/5-Doors'\n",
       "\\item 'Model\\_TOYOTA Corolla 1.4 16V VVT I LIFTB TERRA 4/5-Doors'\n",
       "\\item 'Model\\_TOYOTA Corolla 1.4 16V VVT I SEDAN TERRA COMF 4/5-Doors'\n",
       "\\item 'Model\\_TOYOTA Corolla 1.4 HB LINEA TERRA 2/3-Doors'\n",
       "\\item 'Model\\_TOYOTA Corolla 1.4 HB Terra 2/3-Doors'\n",
       "\\item 'Model\\_TOYOTA Corolla 1.4 LB LINEA TERRA 4/5-Doors'\n",
       "\\item 'Model\\_TOYOTA Corolla 1.4 VVT-i Linea Luna liftback 4/5-Doors'\n",
       "\\item 'Model\\_TOYOTA Corolla 1.4 VVT-i Linea Sol HB 2/3-Doors'\n",
       "\\item 'Model\\_TOYOTA Corolla 1.4 VVT-i Sol 2/3-Doors'\n",
       "\\item 'Model\\_TOYOTA Corolla 1.4 VVT-i Terra 2/3-Doors'\n",
       "\\item 'Model\\_TOYOTA Corolla 1.4 VVTI  (Nw type) 4/5-Doors'\n",
       "\\item 'Model\\_TOYOTA Corolla 1.4 VVTI L.Terra HB 4/5-Doors'\n",
       "\\item 'Model\\_TOYOTA Corolla 1.4 VVTI LB 4/5-Doors'\n",
       "\\item 'Model\\_TOYOTA Corolla 1.4 VVTI Linea Terra 2/3-Doors'\n",
       "\\item 'Model\\_TOYOTA Corolla 1.4-16v VVT-i Linea Terra Comfort NIEUW AIRCO 4/5-Doors'\n",
       "\\item 'Model\\_TOYOTA Corolla 1.6 3D Terra/Comf. 2/3-Doors'\n",
       "\\item 'Model\\_TOYOTA Corolla 1.6 4/5-Doors'\n",
       "\\item 'Model\\_TOYOTA Corolla 1.6 5drs 1 4/5-Doors'\n",
       "\\item 'Model\\_TOYOTA Corolla 1.6 16V HATCHB G6 2/3-Doors'\n",
       "\\item 'Model\\_TOYOTA Corolla 1.6 16V HATCHB G6 R 2/3-Doors'\n",
       "\\item 'Model\\_TOYOTA Corolla 1.6 16V HATCHB GTSI 2/3-Doors'\n",
       "\\item 'Model\\_TOYOTA Corolla 1.6 16V HATCHB LINEA LUNA 2/3-Doors'\n",
       "\\item 'Model\\_TOYOTA Corolla 1.6 16V HATCHB LINEA LUNA AUT4 2/3-Doors'\n",
       "\\item 'Model\\_TOYOTA Corolla 1.6 16V HATCHB LINEA TERRA 2/3-Doors'\n",
       "\\item 'Model\\_TOYOTA Corolla 1.6 16V HATCHB LINEA TERRA AUT4 2/3-Doors'\n",
       "\\item 'Model\\_TOYOTA Corolla 1.6 16V HATCHB S 2/3-Doors'\n",
       "\\item 'Model\\_TOYOTA Corolla 1.6 16V HATCHBACK LINEA LUNA 2/3-Doors'\n",
       "\\item 'Model\\_TOYOTA Corolla 1.6 16v L.SOL 2/3-Doors'\n",
       "\\item 'Model\\_TOYOTA Corolla 1.6 16V LIFTB LINEA LUNA 4/5-Doors'\n",
       "\\item 'Model\\_TOYOTA Corolla 1.6 16V LIFTB LINEA LUNA AUT4 4/5-Doors'\n",
       "\\item 'Model\\_TOYOTA Corolla 1.6 16V LIFTB LINEA TERRA 4/5-Doors'\n",
       "\\item 'Model\\_TOYOTA Corolla 1.6 16V LIFTB LINEA TERRA AUT4 4/5-Doors'\n",
       "\\item 'Model\\_TOYOTA Corolla 1.6 16v Liftback Linea Luna 4/5-Doors'\n",
       "\\item 'Model\\_TOYOTA Corolla 1.6 16V LIFTBACK LINEA LUNA 4/5-Doors'\n",
       "\\item 'Model\\_TOYOTA Corolla 1.6 16v Liftback Linea So 4/5-Doors'\n",
       "\\item 'Model\\_TOYOTA Corolla 1.6 16v Liftback Linea Sol 4/5-Doors'\n",
       "\\item 'Model\\_TOYOTA Corolla 1.6 16v Liftback Linea Terra 4/5-Doors'\n",
       "\\item 'Model\\_TOYOTA Corolla 1.6 16v Linea Luna 2/3-Doors'\n",
       "\\item 'Model\\_TOYOTA Corolla 1.6 16v Linea Luna Stationwagen'\n",
       "\\item 'Model\\_TOYOTA Corolla 1.6 16v Linea Terra 4/5-Doors'\n",
       "\\item 'Model\\_TOYOTA Corolla 1.6 16V S-uitvoering 2/3-Doors'\n",
       "\\item 'Model\\_TOYOTA Corolla 1.6 16V SEDAN LINEA LUNA 4/5-Doors'\n",
       "\\item 'Model\\_TOYOTA Corolla 1.6 16V SEDAN LINEA LUNA AUT4 4/5-Doors'\n",
       "\\item 'Model\\_TOYOTA Corolla 1.6 16V SEDAN LINEA TERRA 4/5-Doors'\n",
       "\\item 'Model\\_TOYOTA Corolla 1.6 16V SEDAN LINEA TERRA AUT4 4/5-Doors'\n",
       "\\item 'Model\\_TOYOTA Corolla 1.6 16v TERRA 4/5-Doors'\n",
       "\\item 'Model\\_TOYOTA Corolla 1.6 16V VVT I 3DR SOL 2/3-Doors'\n",
       "\\item 'Model\\_TOYOTA Corolla 1.6 16V VVT I 3DR SOL AUT4 2/3-Doors'\n",
       "\\item 'Model\\_TOYOTA Corolla 1.6 16V VVT I 3DR TERRA 2/3-Doors'\n",
       "\\item 'Model\\_TOYOTA Corolla 1.6 16V VVT I 3DR TERRA COMF AUT 2/3-Doors'\n",
       "\\item 'Model\\_TOYOTA Corolla 1.6 16V VVT I 3DR TERRA COMFORT 2/3-Doors'\n",
       "\\item 'Model\\_TOYOTA Corolla 1.6 16V VVT I 5DR EXEC 4/5-Doors'\n",
       "\\item 'Model\\_TOYOTA Corolla 1.6 16V VVT I 5DR EXEC BNS 4/5-Doors'\n",
       "\\item 'Model\\_TOYOTA Corolla 1.6 16V VVT I 5DR SOL 4/5-Doors'\n",
       "\\item 'Model\\_TOYOTA Corolla 1.6 16V VVT I 5DR SOL AUT4 4/5-Doors'\n",
       "\\item 'Model\\_TOYOTA Corolla 1.6 16V VVT I 5DR SOL BNS 4/5-Doors'\n",
       "\\item 'Model\\_TOYOTA Corolla 1.6 16V VVT I 5DR TERRA 4/5-Doors'\n",
       "\\item 'Model\\_TOYOTA Corolla 1.6 16V VVT I 5DR TERRA AUT4 4/5-Doors'\n",
       "\\item 'Model\\_TOYOTA Corolla 1.6 16V VVT I 5DR TERRA COMF AUT 4/5-Doors'\n",
       "\\item 'Model\\_TOYOTA Corolla 1.6 16V VVT I 5DR TERRA COMFORT 4/5-Doors'\n",
       "\\item 'Model\\_TOYOTA Corolla 1.6 16V VVT I HATCHB G6 2/3-Doors'\n",
       "\\item 'Model\\_TOYOTA Corolla 1.6 16V VVT I HATCHB G6 4/5-Doors'\n",
       "\\item 'Model\\_TOYOTA Corolla 1.6 16V VVT I HATCHB SOL 2/3-Doors'\n",
       "\\item 'Model\\_TOYOTA Corolla 1.6 16V VVT I HATCHB SOL AUT4 2/3-Doors'\n",
       "\\item 'Model\\_TOYOTA Corolla 1.6 16V VVT I HATCHB TERRA 2/3-Doors'\n",
       "\\item 'Model\\_TOYOTA Corolla 1.6 16V VVT I HATCHB TERRA AUT4 2/3-Doors'\n",
       "\\item 'Model\\_TOYOTA Corolla 1.6 16V VVT I LIFTB LUNA 4/5-Doors'\n",
       "\\item 'Model\\_TOYOTA Corolla 1.6 16V VVT I LIFTB LUNA AUT4 4/5-Doors'\n",
       "\\item 'Model\\_TOYOTA Corolla 1.6 16V VVT I LIFTB SOL 4/5-Doors'\n",
       "\\item 'Model\\_TOYOTA Corolla 1.6 16V VVT I LIFTB SOL AUT4 4/5-Doors'\n",
       "\\item 'Model\\_TOYOTA Corolla 1.6 16V VVT I LIFTB TERRA 4/5-Doors'\n",
       "\\item 'Model\\_TOYOTA Corolla 1.6 16V VVT I SEDAN SOL 4/5-Doors'\n",
       "\\item 'Model\\_TOYOTA Corolla 1.6 16V VVT I SEDAN SOL AUT4 4/5-Doors'\n",
       "\\item 'Model\\_TOYOTA Corolla 1.6 16V VVT I SEDAN SOL BNS AUT4 4/5-Doors'\n",
       "\\item 'Model\\_TOYOTA Corolla 1.6 16V VVT I SEDAN TERRA 4/5-Doors'\n",
       "\\item 'Model\\_TOYOTA Corolla 1.6 16V VVT I SEDAN TERRA AUT4 4/5-Doors'\n",
       "\\item 'Model\\_TOYOTA Corolla 1.6 16V VVT I SEDAN TERRA COMF 4/5-Doors'\n",
       "\\item 'Model\\_TOYOTA Corolla 1.6 16V VVT I WAGON BLUE Stationwagen'\n",
       "\\item 'Model\\_TOYOTA Corolla 1.6 16V VVT I WAGON TERRA Stationwagen'\n",
       "\\item 'Model\\_TOYOTA Corolla 1.6 16v VVT-i Linea Sol 2/3-Doors'\n",
       "\\item 'Model\\_TOYOTA Corolla 1.6 16v VVTi Linea Sol 4/5-Doors'\n",
       "\\item 'Model\\_TOYOTA Corolla 1.6 16v VVTi Terra Comfort 2/3-Doors'\n",
       "\\item 'Model\\_TOYOTA Corolla 1.6 16v VVTi Terra Comfort 4/5-Doors'\n",
       "\\item 'Model\\_TOYOTA Corolla 1.6 16V WAGON LINEA LUNA Stationwagen'\n",
       "\\item 'Model\\_TOYOTA Corolla 1.6 16V WAGON LINEA TERRA AUT4 Stationwagen'\n",
       "\\item 'Model\\_TOYOTA Corolla 1.6 16V WAGON LINEA TERRA Stationwagen'\n",
       "\\item 'Model\\_TOYOTA Corolla 1.6 G6 HB 2/3-Doors'\n",
       "\\item 'Model\\_TOYOTA Corolla 1.6 G6R HB 2/3-Doors'\n",
       "\\item 'Model\\_TOYOTA Corolla 1.6 GL LB 4/5-Doors'\n",
       "\\item 'Model\\_TOYOTA Corolla 1.6 GTSi HB 2/3-Doors'\n",
       "\\item 'Model\\_TOYOTA Corolla 1.6 GTSi HB 4/5-Doors'\n",
       "\\item 'Model\\_TOYOTA Corolla 1.6 Hatchback 2/3-Doors'\n",
       "\\item 'Model\\_TOYOTA Corolla 1.6 HATCHBACK 2/3-Doors'\n",
       "\\item 'Model\\_TOYOTA Corolla 1.6 HB Linea Luna 2/3-Doors'\n",
       "\\item 'Model\\_TOYOTA Corolla 1.6 HB LINEA LUNA 2/3-Doors'\n",
       "\\item 'Model\\_TOYOTA Corolla 1.6 HB LINEA LUNA AUT 2/3-Doors'\n",
       "\\item 'Model\\_TOYOTA Corolla 1.6 HB LINEA SOL 4/5-Doors'\n",
       "\\item 'Model\\_TOYOTA Corolla 1.6 HB Linea Terra 2/3-Doors'\n",
       "\\item 'Model\\_TOYOTA Corolla 1.6 HB LINEA TERRA 2/3-Doors'\n",
       "\\item 'Model\\_TOYOTA Corolla 1.6 HB SOL 2/3-Doors'\n",
       "\\item 'Model\\_TOYOTA Corolla 1.6 HB Terra 4/5-Doors'\n",
       "\\item 'Model\\_TOYOTA Corolla 1.6 I lb luna 4/5-Doors'\n",
       "\\item 'Model\\_TOYOTA Corolla 1.6 LB 4/5-Doors'\n",
       "\\item 'Model\\_TOYOTA Corolla 1.6 lb aut 4/5-Doors'\n",
       "\\item 'Model\\_TOYOTA Corolla 1.6 LB LINEA LUNA 4/5-Doors'\n",
       "\\item 'Model\\_TOYOTA Corolla 1.6 LB LINEA SOL 4/5-Doors'\n",
       "\\item 'Model\\_TOYOTA Corolla 1.6 LB Linea Terra 4/5-Doors'\n",
       "\\item 'Model\\_TOYOTA Corolla 1.6 LB LINEA TERRA 4/5-Doors'\n",
       "\\item 'Model\\_TOYOTA Corolla 1.6 Lin.Terra Aut. 2/3-Doors'\n",
       "\\item 'Model\\_TOYOTA Corolla 1.6 Linea Luna 2/3-Doors'\n",
       "\\item 'Model\\_TOYOTA Corolla 1.6 Linea Luna 4/5-Doors'\n",
       "\\item 'Model\\_TOYOTA Corolla 1.6 Linea Luna Aut. 4/5-Doors'\n",
       "\\item 'Model\\_TOYOTA Corolla 1.6 Linea Luna Wagon Stationwagen'\n",
       "\\item 'Model\\_TOYOTA Corolla 1.6 linea terra 4/5-Doors'\n",
       "\\item 'Model\\_TOYOTA Corolla 1.6 LINEA TERRA 4/5-Doors'\n",
       "\\item 'Model\\_TOYOTA Corolla 1.6 Linea Terra Comfort 2/3-Doors'\n",
       "\\item 'Model\\_TOYOTA Corolla 1.6 Linea Terra Comfort 4/5-Doors'\n",
       "\\item 'Model\\_TOYOTA Corolla 1.6 Linea Terra Comfort H 2/3-Doors'\n",
       "\\item 'Model\\_TOYOTA Corolla 1.6 Linea Terra Comfort HB 2/3-Doors'\n",
       "\\item 'Model\\_TOYOTA Corolla 1.6 Linea Terra HB 2/3-Doors'\n",
       "\\item 'Model\\_TOYOTA Corolla 1.6 Linea Terra LB 4/5-Doors'\n",
       "\\item 'Model\\_TOYOTA Corolla 1.6 Linea Terra Sd 4/5-Doors'\n",
       "\\item 'Model\\_TOYOTA Corolla 1.6 Linea Terra Sedan 4/5-Doors'\n",
       "\\item 'Model\\_TOYOTA Corolla 1.6 LL HB 4/5-Doors'\n",
       "\\item 'Model\\_TOYOTA Corolla 1.6 Luna LB 4/5-Doors'\n",
       "\\item 'Model\\_TOYOTA Corolla 1.6 Luna Liftback 4/5-Doors'\n",
       "\\item 'Model\\_TOYOTA Corolla 1.6 SD TERRA 4/5-Doors'\n",
       "\\item 'Model\\_TOYOTA Corolla 1.6 SDN LINEA SOL 4/5-Doors'\n",
       "\\item 'Model\\_TOYOTA Corolla 1.6 SDN LINEA TERRA 4/5-Doors'\n",
       "\\item 'Model\\_TOYOTA Corolla 1.6 SDN LINEA TERRA AUT 4/5-Doors'\n",
       "\\item 'Model\\_TOYOTA Corolla 1.6 sol lb 4/5-Doors'\n",
       "\\item 'Model\\_TOYOTA Corolla 1.6 station 1 Stationwagen'\n",
       "\\item 'Model\\_TOYOTA Corolla 1.6 Terra 5-Doors Liftback 4/5-Doors'\n",
       "\\item 'Model\\_TOYOTA Corolla 1.6 terra comfort 5drs airco 4/5-Doors'\n",
       "\\item 'Model\\_TOYOTA Corolla 1.6 Terra HB 2/3-Doors'\n",
       "\\item 'Model\\_TOYOTA Corolla 1.6 Terra LB 4/5-Doors'\n",
       "\\item 'Model\\_TOYOTA Corolla 1.6 Terra LB Comf. 4/5-Doors'\n",
       "\\item 'Model\\_TOYOTA Corolla 1.6 Terra Stationwagen'\n",
       "\\item 'Model\\_TOYOTA Corolla 1.6 VVT-I 5DR LINEA SOL 4/5-Doors'\n",
       "\\item 'Model\\_TOYOTA Corolla 1.6 VVT-I 5DR LINEA TERRA 4/5-Doors'\n",
       "\\item 'Model\\_TOYOTA Corolla 1.6 VVT-i L. Sol Wagon Stationwagen'\n",
       "\\item 'Model\\_TOYOTA Corolla 1.6 VVT-i Linea Sol 4/5-Doors'\n",
       "\\item 'Model\\_TOYOTA Corolla 1.6 VVT-i Linea Terra Comfort 2/3-Doors'\n",
       "\\item 'Model\\_TOYOTA Corolla 1.6 VVT-i Linea Terra Comfort 4/5-Doors'\n",
       "\\item 'Model\\_TOYOTA Corolla 1.6 vvt-i nw model comfort airco 5drs 4/5-Doors'\n",
       "\\item 'Model\\_TOYOTA Corolla 1.6 VVTi Linea Luna 2/3-Doors'\n",
       "\\item 'Model\\_TOYOTA Corolla 1.6 VVTi Linea Luna 4/5-Doors'\n",
       "\\item 'Model\\_TOYOTA Corolla 1.6 VVTi Linea Luna Lift 4/5-Doors'\n",
       "\\item 'Model\\_TOYOTA Corolla 1.6 VVTI Linea Sol Sedan 4/5-Doors'\n",
       "\\item 'Model\\_TOYOTA Corolla 1.6 VVTi Linea terra 2/3-Doors'\n",
       "\\item 'Model\\_TOYOTA Corolla 1.6 VVTi Linea terra 4/5-Doors'\n",
       "\\item 'Model\\_TOYOTA Corolla 1.6 VVTI Linea Terra Comfort 2/3-Doors'\n",
       "\\item 'Model\\_TOYOTA Corolla 1.6 VVTI Linea Terra Comfort 4/5-Doors'\n",
       "\\item 'Model\\_TOYOTA Corolla 1.6 VVTI Linea Terra liftback 4/5-Doors'\n",
       "\\item 'Model\\_TOYOTA Corolla 1.6 VVTi Terra Comfort 4/5-Doors'\n",
       "\\item 'Model\\_TOYOTA Corolla 1.6 WGN LINEA TERRA Stationwagen'\n",
       "\\item 'Model\\_TOYOTA Corolla 1.6-16v Linea Terra 2/3-Doors'\n",
       "\\item 'Model\\_TOYOTA Corolla 1.6-16v Linea Terra LB 4/5-Doors'\n",
       "\\item 'Model\\_TOYOTA Corolla 1.6-16v VVT-i Executive B.edition 4/5-Doors'\n",
       "\\item 'Model\\_TOYOTA Corolla 1.6-16v VVT-i Linea Terra Comfort AIRCO NIEUW 5DRS 4/5-Doors'\n",
       "\\item 'Model\\_TOYOTA Corolla 1.6-16v VVT-i Linea Terra Comfort NIEUW AIRCO 5drs 4/5-Doors'\n",
       "\\item 'Model\\_TOYOTA Corolla 1.6HB 2/3-Doors'\n",
       "\\item 'Model\\_TOYOTA Corolla 1.6i 16V VVT I SOL + Navigatie 4/5-Doors'\n",
       "\\item 'Model\\_TOYOTA Corolla 1.6I LIFTBACK 4/5-Doors'\n",
       "\\item 'Model\\_TOYOTA Corolla 1.6i Linea Terra HB 2/3-Doors'\n",
       "\\item 'Model\\_TOYOTA Corolla 1.6I Luna liftback 4/5-Doors'\n",
       "\\item 'Model\\_TOYOTA Corolla 1.6i-16 SPORTS TC 2/3-Doors'\n",
       "\\item 'Model\\_TOYOTA Corolla 1.6v VVT-i Linea Sol 4/5-Doors'\n",
       "\\item 'Model\\_TOYOTA Corolla 1.8 16V VVTLI 3DR T SPORT 2/3-Doors'\n",
       "\\item 'Model\\_TOYOTA Corolla 1.8 16V VVTLI 3DR T SPORT BNS 2/3-Doors'\n",
       "\\item 'Model\\_TOYOTA Corolla 1.8 16V VVTLI 5DR T SPORT 4/5-Doors'\n",
       "\\item 'Model\\_TOYOTA Corolla 1.8 VVTL-i T-Sport 3-Drs 2/3-Doors'\n",
       "\\item 'Model\\_TOYOTA Corolla 1.8 VVTL-i T-Sport 3-Drs 4/5-Doors'\n",
       "\\item 'Model\\_TOYOTA Corolla 1.8 VVTL-i T-Sport 4/5-Doors'\n",
       "\\item 'Model\\_TOYOTA Corolla 2/3-Doors'\n",
       "\\item 'Model\\_TOYOTA Corolla 3drs 13i-16V 2/3-Doors'\n",
       "\\item 'Model\\_TOYOTA Corolla 1800 T SPORT VVT I 2/3-Doors'\n",
       "\\item 'Model\\_TOYOTA Corolla Hatchback 1.6 Terra Comfort 2/3-Doors'\n",
       "\\item 'Model\\_TOYOTA Corolla LIFTBACK 1.3i Linea Luna Liftback 4/5-Doors'\n",
       "\\item 'Model\\_TOYOTA Corolla LIFTBACK 1.3i Linea Terra Liftback 4/5-Doors'\n",
       "\\item 'Model\\_TOYOTA Corolla LIFTBACK 1.4 16V VVTI TERRA 4/5-Doors'\n",
       "\\item 'Model\\_TOYOTA Corolla LIFTBACK 1.4 VVT-i LINEA TERRA 4/5-Doors'\n",
       "\\item 'Model\\_TOYOTA Corolla LIFTBACK 1.6 Linea Luna Liftback 4/5-Doors'\n",
       "\\item 'Model\\_TOYOTA Corolla LIFTBACK 1.6 Linea Sol 4/5-Doors'\n",
       "\\item 'Model\\_TOYOTA Corolla LIFTBACK 1.6 Linea terra 4/5-Doors'\n",
       "\\item 'Model\\_TOYOTA Corolla LIFTBACK 1.6 Linea Terra Liftback 4/5-Doors'\n",
       "\\item 'Model\\_TOYOTA Corolla Liftback 1.6 VVTI 4/5-Doors'\n",
       "\\item 'Model\\_TOYOTA Corolla LIFTBACK 1.6-16v Linea Luna 2/3-Doors'\n",
       "\\item 'Model\\_TOYOTA Corolla LIFTBACK 1.6-16v Linea Luna 4/5-Doors'\n",
       "\\item 'Model\\_TOYOTA Corolla Linea Luna 1.6i 16V 2/3-Doors'\n",
       "\\end{enumerate*}\n"
      ],
      "text/markdown": [
       "1. 'Id'\n",
       "2. 'Price'\n",
       "3. 'Age'\n",
       "4. 'KM'\n",
       "5. 'HP'\n",
       "6. 'Metallic'\n",
       "7. 'Automatic'\n",
       "8. 'CC'\n",
       "9. 'Doors'\n",
       "10. 'Gears'\n",
       "11. 'Weight'\n",
       "12. 'Model_TOYOTA Corolla '\n",
       "13. 'Model_TOYOTA Corolla ! 1.6-16v vvt-i sol airco sedan 4/5-Doors'\n",
       "14. 'Model_TOYOTA Corolla 1 6-16v VVT-i Linea Terra Comfort Airco 5drs 4/5-Doors'\n",
       "15. 'Model_TOYOTA Corolla 1.3 3D Linea Terra 2/3-Doors'\n",
       "16. 'Model_TOYOTA Corolla 1.3 16V 2/3-Doors'\n",
       "17. 'Model_TOYOTA Corolla 1.3 16V HATCHB 2/3-Doors'\n",
       "18. 'Model_TOYOTA Corolla 1.3 16V HATCHB G6 2/3-Doors'\n",
       "19. 'Model_TOYOTA Corolla 1.3 16V HATCHB LINEA LUNA 2/3-Doors'\n",
       "20. 'Model_TOYOTA Corolla 1.3 16V HATCHB LINEA LUNA AUT3 2/3-Doors'\n",
       "21. 'Model_TOYOTA Corolla 1.3 16V HATCHB LINEA TERRA 2/3-Doors'\n",
       "22. 'Model_TOYOTA Corolla 1.3 16V HATCHB LINEA TERRA AUT3 2/3-Doors'\n",
       "23. 'Model_TOYOTA Corolla 1.3 16V HATCHB S 2/3-Doors'\n",
       "24. 'Model_TOYOTA Corolla 1.3 16V L. TERRA COMFORT 2/3-Doors'\n",
       "25. 'Model_TOYOTA Corolla 1.3 16V LB Linea Luna 4/5-Doors'\n",
       "26. 'Model_TOYOTA Corolla 1.3 16V LIFTB G6 4/5-Doors'\n",
       "27. 'Model_TOYOTA Corolla 1.3 16V LIFTB LINEA LUNA 4/5-Doors'\n",
       "28. 'Model_TOYOTA Corolla 1.3 16V LIFTB LINEA TERRA 4/5-Doors'\n",
       "29. 'Model_TOYOTA Corolla 1.3 16V LIFTB LINEA TERRA AUT3 4/5-Doors'\n",
       "30. 'Model_TOYOTA Corolla 1.3 16v linea terra '\n",
       "31. 'Model_TOYOTA Corolla 1.3 16V Linea Terra 2/3-Doors'\n",
       "32. 'Model_TOYOTA Corolla 1.3 16V Linea Terra 4/5-Doors'\n",
       "33. 'Model_TOYOTA Corolla 1.3 16V Linea Terra Liftb 2/3-Doors'\n",
       "34. 'Model_TOYOTA Corolla 1.3 16V Linea Terra Liftb 4/5-Doors'\n",
       "35. 'Model_TOYOTA Corolla 1.3 16V SEDAN LINEA TERRA 4/5-Doors'\n",
       "36. 'Model_TOYOTA Corolla 1.3 16V SEDAN LINEA TERRA AUT3 4/5-Doors'\n",
       "37. 'Model_TOYOTA Corolla 1.3 16V WAGON LINEA LUNA Stationwagen'\n",
       "38. 'Model_TOYOTA Corolla 1.3 16V WAGON LINEA TERRA Stationwagen'\n",
       "39. 'Model_TOYOTA Corolla 1.3 G6 liftback 4/5-Doors'\n",
       "40. 'Model_TOYOTA Corolla 1.3 Hatchback 2/3-Doors'\n",
       "41. 'Model_TOYOTA Corolla 1.3 HB Linea Terra 2/3-Doors'\n",
       "42. 'Model_TOYOTA Corolla 1.3 HB LINEA TERRA 2/3-Doors'\n",
       "43. 'Model_TOYOTA Corolla 1.3 HB LINEA TERRA AUT 2/3-Doors'\n",
       "44. 'Model_TOYOTA Corolla 1.3 HB LINEA TERRA AUT Anders'\n",
       "45. 'Model_TOYOTA Corolla 1.3 I LUNA 2/3-Doors'\n",
       "46. 'Model_TOYOTA Corolla 1.3 LB LINEA TERRA 4/5-Doors'\n",
       "47. 'Model_TOYOTA Corolla 1.3 LIN. Terra 2/3-Doors'\n",
       "48. 'Model_TOYOTA Corolla 1.3 Linea Luna Hatchback 2/3-Doors'\n",
       "49. 'Model_TOYOTA Corolla 1.3 Linea Terra 3 drs 2/3-Doors'\n",
       "50. 'Model_TOYOTA Corolla 1.3 Linea Terra 4/5-Doors'\n",
       "51. 'Model_TOYOTA Corolla 1.3 Linea Terra Comfort 4/5-Doors'\n",
       "52. 'Model_TOYOTA Corolla 1.3 Linea Terra Hatchback 2/3-Doors'\n",
       "53. 'Model_TOYOTA Corolla 1.3 Linea Terra liftback 4/5-Doors'\n",
       "54. 'Model_TOYOTA Corolla 1.3 Linea Terra sedan 4/5-Doors'\n",
       "55. 'Model_TOYOTA Corolla 1.3 Linea Terra sedan Comf. 4/5-Doors'\n",
       "56. 'Model_TOYOTA Corolla 1.3 Linea Terra wagon Stationwagen'\n",
       "57. 'Model_TOYOTA Corolla 1.3 SDN LINEA TERRA AUT 4/5-Doors'\n",
       "58. 'Model_TOYOTA Corolla 1.3-16V Luna 2/3-Doors'\n",
       "59. 'Model_TOYOTA Corolla 1.3i LINEA TERRA 2/3-Doors'\n",
       "60. 'Model_TOYOTA Corolla 1.3I LINEATERRA 2/3-Doors'\n",
       "61. 'Model_TOYOTA Corolla 1.3i-16v Linea Terra 5d 4/5-Doors'\n",
       "62. 'Model_TOYOTA Corolla 1.4 16V 5DR TERRA 4/5-Doors'\n",
       "63. 'Model_TOYOTA Corolla 1.4 16V VVT I 3DR 2/3-Doors'\n",
       "64. 'Model_TOYOTA Corolla 1.4 16V VVT I 3DR TERRA 2/3-Doors'\n",
       "65. 'Model_TOYOTA Corolla 1.4 16V VVT I 3DR TERRA COMFORT 2/3-Doors'\n",
       "66. 'Model_TOYOTA Corolla 1.4 16V VVT I 5DR 4/5-Doors'\n",
       "67. 'Model_TOYOTA Corolla 1.4 16V VVT I 5DR LUNA 4/5-Doors'\n",
       "68. 'Model_TOYOTA Corolla 1.4 16V VVT I 5DR LUNA BNS 4/5-Doors'\n",
       "69. 'Model_TOYOTA Corolla 1.4 16V VVT I 5DR SOL 4/5-Doors'\n",
       "70. 'Model_TOYOTA Corolla 1.4 16V VVT I 5DR TERRA 4/5-Doors'\n",
       "71. 'Model_TOYOTA Corolla 1.4 16V VVT I 5DR TERRA COMFORT 4/5-Doors'\n",
       "72. 'Model_TOYOTA Corolla 1.4 16V VVT I HATCHB SOL 2/3-Doors'\n",
       "73. 'Model_TOYOTA Corolla 1.4 16V VVT I HATCHB TERRA 2/3-Doors'\n",
       "74. 'Model_TOYOTA Corolla 1.4 16V VVT I LIFTB LUNA 4/5-Doors'\n",
       "75. 'Model_TOYOTA Corolla 1.4 16V VVT I LIFTB SOL 4/5-Doors'\n",
       "76. 'Model_TOYOTA Corolla 1.4 16V VVT I LIFTB TERRA 4/5-Doors'\n",
       "77. 'Model_TOYOTA Corolla 1.4 16V VVT I SEDAN TERRA COMF 4/5-Doors'\n",
       "78. 'Model_TOYOTA Corolla 1.4 HB LINEA TERRA 2/3-Doors'\n",
       "79. 'Model_TOYOTA Corolla 1.4 HB Terra 2/3-Doors'\n",
       "80. 'Model_TOYOTA Corolla 1.4 LB LINEA TERRA 4/5-Doors'\n",
       "81. 'Model_TOYOTA Corolla 1.4 VVT-i Linea Luna liftback 4/5-Doors'\n",
       "82. 'Model_TOYOTA Corolla 1.4 VVT-i Linea Sol HB 2/3-Doors'\n",
       "83. 'Model_TOYOTA Corolla 1.4 VVT-i Sol 2/3-Doors'\n",
       "84. 'Model_TOYOTA Corolla 1.4 VVT-i Terra 2/3-Doors'\n",
       "85. <span style=white-space:pre-wrap>'Model_TOYOTA Corolla 1.4 VVTI  (Nw type) 4/5-Doors'</span>\n",
       "86. 'Model_TOYOTA Corolla 1.4 VVTI L.Terra HB 4/5-Doors'\n",
       "87. 'Model_TOYOTA Corolla 1.4 VVTI LB 4/5-Doors'\n",
       "88. 'Model_TOYOTA Corolla 1.4 VVTI Linea Terra 2/3-Doors'\n",
       "89. 'Model_TOYOTA Corolla 1.4-16v VVT-i Linea Terra Comfort NIEUW AIRCO 4/5-Doors'\n",
       "90. 'Model_TOYOTA Corolla 1.6 3D Terra/Comf. 2/3-Doors'\n",
       "91. 'Model_TOYOTA Corolla 1.6 4/5-Doors'\n",
       "92. 'Model_TOYOTA Corolla 1.6 5drs 1 4/5-Doors'\n",
       "93. 'Model_TOYOTA Corolla 1.6 16V HATCHB G6 2/3-Doors'\n",
       "94. 'Model_TOYOTA Corolla 1.6 16V HATCHB G6 R 2/3-Doors'\n",
       "95. 'Model_TOYOTA Corolla 1.6 16V HATCHB GTSI 2/3-Doors'\n",
       "96. 'Model_TOYOTA Corolla 1.6 16V HATCHB LINEA LUNA 2/3-Doors'\n",
       "97. 'Model_TOYOTA Corolla 1.6 16V HATCHB LINEA LUNA AUT4 2/3-Doors'\n",
       "98. 'Model_TOYOTA Corolla 1.6 16V HATCHB LINEA TERRA 2/3-Doors'\n",
       "99. 'Model_TOYOTA Corolla 1.6 16V HATCHB LINEA TERRA AUT4 2/3-Doors'\n",
       "100. 'Model_TOYOTA Corolla 1.6 16V HATCHB S 2/3-Doors'\n",
       "101. 'Model_TOYOTA Corolla 1.6 16V HATCHBACK LINEA LUNA 2/3-Doors'\n",
       "102. 'Model_TOYOTA Corolla 1.6 16v L.SOL 2/3-Doors'\n",
       "103. 'Model_TOYOTA Corolla 1.6 16V LIFTB LINEA LUNA 4/5-Doors'\n",
       "104. 'Model_TOYOTA Corolla 1.6 16V LIFTB LINEA LUNA AUT4 4/5-Doors'\n",
       "105. 'Model_TOYOTA Corolla 1.6 16V LIFTB LINEA TERRA 4/5-Doors'\n",
       "106. 'Model_TOYOTA Corolla 1.6 16V LIFTB LINEA TERRA AUT4 4/5-Doors'\n",
       "107. 'Model_TOYOTA Corolla 1.6 16v Liftback Linea Luna 4/5-Doors'\n",
       "108. 'Model_TOYOTA Corolla 1.6 16V LIFTBACK LINEA LUNA 4/5-Doors'\n",
       "109. 'Model_TOYOTA Corolla 1.6 16v Liftback Linea So 4/5-Doors'\n",
       "110. 'Model_TOYOTA Corolla 1.6 16v Liftback Linea Sol 4/5-Doors'\n",
       "111. 'Model_TOYOTA Corolla 1.6 16v Liftback Linea Terra 4/5-Doors'\n",
       "112. 'Model_TOYOTA Corolla 1.6 16v Linea Luna 2/3-Doors'\n",
       "113. 'Model_TOYOTA Corolla 1.6 16v Linea Luna Stationwagen'\n",
       "114. 'Model_TOYOTA Corolla 1.6 16v Linea Terra 4/5-Doors'\n",
       "115. 'Model_TOYOTA Corolla 1.6 16V S-uitvoering 2/3-Doors'\n",
       "116. 'Model_TOYOTA Corolla 1.6 16V SEDAN LINEA LUNA 4/5-Doors'\n",
       "117. 'Model_TOYOTA Corolla 1.6 16V SEDAN LINEA LUNA AUT4 4/5-Doors'\n",
       "118. 'Model_TOYOTA Corolla 1.6 16V SEDAN LINEA TERRA 4/5-Doors'\n",
       "119. 'Model_TOYOTA Corolla 1.6 16V SEDAN LINEA TERRA AUT4 4/5-Doors'\n",
       "120. 'Model_TOYOTA Corolla 1.6 16v TERRA 4/5-Doors'\n",
       "121. 'Model_TOYOTA Corolla 1.6 16V VVT I 3DR SOL 2/3-Doors'\n",
       "122. 'Model_TOYOTA Corolla 1.6 16V VVT I 3DR SOL AUT4 2/3-Doors'\n",
       "123. 'Model_TOYOTA Corolla 1.6 16V VVT I 3DR TERRA 2/3-Doors'\n",
       "124. 'Model_TOYOTA Corolla 1.6 16V VVT I 3DR TERRA COMF AUT 2/3-Doors'\n",
       "125. 'Model_TOYOTA Corolla 1.6 16V VVT I 3DR TERRA COMFORT 2/3-Doors'\n",
       "126. 'Model_TOYOTA Corolla 1.6 16V VVT I 5DR EXEC 4/5-Doors'\n",
       "127. 'Model_TOYOTA Corolla 1.6 16V VVT I 5DR EXEC BNS 4/5-Doors'\n",
       "128. 'Model_TOYOTA Corolla 1.6 16V VVT I 5DR SOL 4/5-Doors'\n",
       "129. 'Model_TOYOTA Corolla 1.6 16V VVT I 5DR SOL AUT4 4/5-Doors'\n",
       "130. 'Model_TOYOTA Corolla 1.6 16V VVT I 5DR SOL BNS 4/5-Doors'\n",
       "131. 'Model_TOYOTA Corolla 1.6 16V VVT I 5DR TERRA 4/5-Doors'\n",
       "132. 'Model_TOYOTA Corolla 1.6 16V VVT I 5DR TERRA AUT4 4/5-Doors'\n",
       "133. 'Model_TOYOTA Corolla 1.6 16V VVT I 5DR TERRA COMF AUT 4/5-Doors'\n",
       "134. 'Model_TOYOTA Corolla 1.6 16V VVT I 5DR TERRA COMFORT 4/5-Doors'\n",
       "135. 'Model_TOYOTA Corolla 1.6 16V VVT I HATCHB G6 2/3-Doors'\n",
       "136. 'Model_TOYOTA Corolla 1.6 16V VVT I HATCHB G6 4/5-Doors'\n",
       "137. 'Model_TOYOTA Corolla 1.6 16V VVT I HATCHB SOL 2/3-Doors'\n",
       "138. 'Model_TOYOTA Corolla 1.6 16V VVT I HATCHB SOL AUT4 2/3-Doors'\n",
       "139. 'Model_TOYOTA Corolla 1.6 16V VVT I HATCHB TERRA 2/3-Doors'\n",
       "140. 'Model_TOYOTA Corolla 1.6 16V VVT I HATCHB TERRA AUT4 2/3-Doors'\n",
       "141. 'Model_TOYOTA Corolla 1.6 16V VVT I LIFTB LUNA 4/5-Doors'\n",
       "142. 'Model_TOYOTA Corolla 1.6 16V VVT I LIFTB LUNA AUT4 4/5-Doors'\n",
       "143. 'Model_TOYOTA Corolla 1.6 16V VVT I LIFTB SOL 4/5-Doors'\n",
       "144. 'Model_TOYOTA Corolla 1.6 16V VVT I LIFTB SOL AUT4 4/5-Doors'\n",
       "145. 'Model_TOYOTA Corolla 1.6 16V VVT I LIFTB TERRA 4/5-Doors'\n",
       "146. 'Model_TOYOTA Corolla 1.6 16V VVT I SEDAN SOL 4/5-Doors'\n",
       "147. 'Model_TOYOTA Corolla 1.6 16V VVT I SEDAN SOL AUT4 4/5-Doors'\n",
       "148. 'Model_TOYOTA Corolla 1.6 16V VVT I SEDAN SOL BNS AUT4 4/5-Doors'\n",
       "149. 'Model_TOYOTA Corolla 1.6 16V VVT I SEDAN TERRA 4/5-Doors'\n",
       "150. 'Model_TOYOTA Corolla 1.6 16V VVT I SEDAN TERRA AUT4 4/5-Doors'\n",
       "151. 'Model_TOYOTA Corolla 1.6 16V VVT I SEDAN TERRA COMF 4/5-Doors'\n",
       "152. 'Model_TOYOTA Corolla 1.6 16V VVT I WAGON BLUE Stationwagen'\n",
       "153. 'Model_TOYOTA Corolla 1.6 16V VVT I WAGON TERRA Stationwagen'\n",
       "154. 'Model_TOYOTA Corolla 1.6 16v VVT-i Linea Sol 2/3-Doors'\n",
       "155. 'Model_TOYOTA Corolla 1.6 16v VVTi Linea Sol 4/5-Doors'\n",
       "156. 'Model_TOYOTA Corolla 1.6 16v VVTi Terra Comfort 2/3-Doors'\n",
       "157. 'Model_TOYOTA Corolla 1.6 16v VVTi Terra Comfort 4/5-Doors'\n",
       "158. 'Model_TOYOTA Corolla 1.6 16V WAGON LINEA LUNA Stationwagen'\n",
       "159. 'Model_TOYOTA Corolla 1.6 16V WAGON LINEA TERRA AUT4 Stationwagen'\n",
       "160. 'Model_TOYOTA Corolla 1.6 16V WAGON LINEA TERRA Stationwagen'\n",
       "161. 'Model_TOYOTA Corolla 1.6 G6 HB 2/3-Doors'\n",
       "162. 'Model_TOYOTA Corolla 1.6 G6R HB 2/3-Doors'\n",
       "163. 'Model_TOYOTA Corolla 1.6 GL LB 4/5-Doors'\n",
       "164. 'Model_TOYOTA Corolla 1.6 GTSi HB 2/3-Doors'\n",
       "165. 'Model_TOYOTA Corolla 1.6 GTSi HB 4/5-Doors'\n",
       "166. 'Model_TOYOTA Corolla 1.6 Hatchback 2/3-Doors'\n",
       "167. 'Model_TOYOTA Corolla 1.6 HATCHBACK 2/3-Doors'\n",
       "168. 'Model_TOYOTA Corolla 1.6 HB Linea Luna 2/3-Doors'\n",
       "169. 'Model_TOYOTA Corolla 1.6 HB LINEA LUNA 2/3-Doors'\n",
       "170. 'Model_TOYOTA Corolla 1.6 HB LINEA LUNA AUT 2/3-Doors'\n",
       "171. 'Model_TOYOTA Corolla 1.6 HB LINEA SOL 4/5-Doors'\n",
       "172. 'Model_TOYOTA Corolla 1.6 HB Linea Terra 2/3-Doors'\n",
       "173. 'Model_TOYOTA Corolla 1.6 HB LINEA TERRA 2/3-Doors'\n",
       "174. 'Model_TOYOTA Corolla 1.6 HB SOL 2/3-Doors'\n",
       "175. 'Model_TOYOTA Corolla 1.6 HB Terra 4/5-Doors'\n",
       "176. 'Model_TOYOTA Corolla 1.6 I lb luna 4/5-Doors'\n",
       "177. 'Model_TOYOTA Corolla 1.6 LB 4/5-Doors'\n",
       "178. 'Model_TOYOTA Corolla 1.6 lb aut 4/5-Doors'\n",
       "179. 'Model_TOYOTA Corolla 1.6 LB LINEA LUNA 4/5-Doors'\n",
       "180. 'Model_TOYOTA Corolla 1.6 LB LINEA SOL 4/5-Doors'\n",
       "181. 'Model_TOYOTA Corolla 1.6 LB Linea Terra 4/5-Doors'\n",
       "182. 'Model_TOYOTA Corolla 1.6 LB LINEA TERRA 4/5-Doors'\n",
       "183. 'Model_TOYOTA Corolla 1.6 Lin.Terra Aut. 2/3-Doors'\n",
       "184. 'Model_TOYOTA Corolla 1.6 Linea Luna 2/3-Doors'\n",
       "185. 'Model_TOYOTA Corolla 1.6 Linea Luna 4/5-Doors'\n",
       "186. 'Model_TOYOTA Corolla 1.6 Linea Luna Aut. 4/5-Doors'\n",
       "187. 'Model_TOYOTA Corolla 1.6 Linea Luna Wagon Stationwagen'\n",
       "188. 'Model_TOYOTA Corolla 1.6 linea terra 4/5-Doors'\n",
       "189. 'Model_TOYOTA Corolla 1.6 LINEA TERRA 4/5-Doors'\n",
       "190. 'Model_TOYOTA Corolla 1.6 Linea Terra Comfort 2/3-Doors'\n",
       "191. 'Model_TOYOTA Corolla 1.6 Linea Terra Comfort 4/5-Doors'\n",
       "192. 'Model_TOYOTA Corolla 1.6 Linea Terra Comfort H 2/3-Doors'\n",
       "193. 'Model_TOYOTA Corolla 1.6 Linea Terra Comfort HB 2/3-Doors'\n",
       "194. 'Model_TOYOTA Corolla 1.6 Linea Terra HB 2/3-Doors'\n",
       "195. 'Model_TOYOTA Corolla 1.6 Linea Terra LB 4/5-Doors'\n",
       "196. 'Model_TOYOTA Corolla 1.6 Linea Terra Sd 4/5-Doors'\n",
       "197. 'Model_TOYOTA Corolla 1.6 Linea Terra Sedan 4/5-Doors'\n",
       "198. 'Model_TOYOTA Corolla 1.6 LL HB 4/5-Doors'\n",
       "199. 'Model_TOYOTA Corolla 1.6 Luna LB 4/5-Doors'\n",
       "200. 'Model_TOYOTA Corolla 1.6 Luna Liftback 4/5-Doors'\n",
       "201. 'Model_TOYOTA Corolla 1.6 SD TERRA 4/5-Doors'\n",
       "202. 'Model_TOYOTA Corolla 1.6 SDN LINEA SOL 4/5-Doors'\n",
       "203. 'Model_TOYOTA Corolla 1.6 SDN LINEA TERRA 4/5-Doors'\n",
       "204. 'Model_TOYOTA Corolla 1.6 SDN LINEA TERRA AUT 4/5-Doors'\n",
       "205. 'Model_TOYOTA Corolla 1.6 sol lb 4/5-Doors'\n",
       "206. 'Model_TOYOTA Corolla 1.6 station 1 Stationwagen'\n",
       "207. 'Model_TOYOTA Corolla 1.6 Terra 5-Doors Liftback 4/5-Doors'\n",
       "208. 'Model_TOYOTA Corolla 1.6 terra comfort 5drs airco 4/5-Doors'\n",
       "209. 'Model_TOYOTA Corolla 1.6 Terra HB 2/3-Doors'\n",
       "210. 'Model_TOYOTA Corolla 1.6 Terra LB 4/5-Doors'\n",
       "211. 'Model_TOYOTA Corolla 1.6 Terra LB Comf. 4/5-Doors'\n",
       "212. 'Model_TOYOTA Corolla 1.6 Terra Stationwagen'\n",
       "213. 'Model_TOYOTA Corolla 1.6 VVT-I 5DR LINEA SOL 4/5-Doors'\n",
       "214. 'Model_TOYOTA Corolla 1.6 VVT-I 5DR LINEA TERRA 4/5-Doors'\n",
       "215. 'Model_TOYOTA Corolla 1.6 VVT-i L. Sol Wagon Stationwagen'\n",
       "216. 'Model_TOYOTA Corolla 1.6 VVT-i Linea Sol 4/5-Doors'\n",
       "217. 'Model_TOYOTA Corolla 1.6 VVT-i Linea Terra Comfort 2/3-Doors'\n",
       "218. 'Model_TOYOTA Corolla 1.6 VVT-i Linea Terra Comfort 4/5-Doors'\n",
       "219. 'Model_TOYOTA Corolla 1.6 vvt-i nw model comfort airco 5drs 4/5-Doors'\n",
       "220. 'Model_TOYOTA Corolla 1.6 VVTi Linea Luna 2/3-Doors'\n",
       "221. 'Model_TOYOTA Corolla 1.6 VVTi Linea Luna 4/5-Doors'\n",
       "222. 'Model_TOYOTA Corolla 1.6 VVTi Linea Luna Lift 4/5-Doors'\n",
       "223. 'Model_TOYOTA Corolla 1.6 VVTI Linea Sol Sedan 4/5-Doors'\n",
       "224. 'Model_TOYOTA Corolla 1.6 VVTi Linea terra 2/3-Doors'\n",
       "225. 'Model_TOYOTA Corolla 1.6 VVTi Linea terra 4/5-Doors'\n",
       "226. 'Model_TOYOTA Corolla 1.6 VVTI Linea Terra Comfort 2/3-Doors'\n",
       "227. 'Model_TOYOTA Corolla 1.6 VVTI Linea Terra Comfort 4/5-Doors'\n",
       "228. 'Model_TOYOTA Corolla 1.6 VVTI Linea Terra liftback 4/5-Doors'\n",
       "229. 'Model_TOYOTA Corolla 1.6 VVTi Terra Comfort 4/5-Doors'\n",
       "230. 'Model_TOYOTA Corolla 1.6 WGN LINEA TERRA Stationwagen'\n",
       "231. 'Model_TOYOTA Corolla 1.6-16v Linea Terra 2/3-Doors'\n",
       "232. 'Model_TOYOTA Corolla 1.6-16v Linea Terra LB 4/5-Doors'\n",
       "233. 'Model_TOYOTA Corolla 1.6-16v VVT-i Executive B.edition 4/5-Doors'\n",
       "234. 'Model_TOYOTA Corolla 1.6-16v VVT-i Linea Terra Comfort AIRCO NIEUW 5DRS 4/5-Doors'\n",
       "235. 'Model_TOYOTA Corolla 1.6-16v VVT-i Linea Terra Comfort NIEUW AIRCO 5drs 4/5-Doors'\n",
       "236. 'Model_TOYOTA Corolla 1.6HB 2/3-Doors'\n",
       "237. 'Model_TOYOTA Corolla 1.6i 16V VVT I SOL + Navigatie 4/5-Doors'\n",
       "238. 'Model_TOYOTA Corolla 1.6I LIFTBACK 4/5-Doors'\n",
       "239. 'Model_TOYOTA Corolla 1.6i Linea Terra HB 2/3-Doors'\n",
       "240. 'Model_TOYOTA Corolla 1.6I Luna liftback 4/5-Doors'\n",
       "241. 'Model_TOYOTA Corolla 1.6i-16 SPORTS TC 2/3-Doors'\n",
       "242. 'Model_TOYOTA Corolla 1.6v VVT-i Linea Sol 4/5-Doors'\n",
       "243. 'Model_TOYOTA Corolla 1.8 16V VVTLI 3DR T SPORT 2/3-Doors'\n",
       "244. 'Model_TOYOTA Corolla 1.8 16V VVTLI 3DR T SPORT BNS 2/3-Doors'\n",
       "245. 'Model_TOYOTA Corolla 1.8 16V VVTLI 5DR T SPORT 4/5-Doors'\n",
       "246. 'Model_TOYOTA Corolla 1.8 VVTL-i T-Sport 3-Drs 2/3-Doors'\n",
       "247. 'Model_TOYOTA Corolla 1.8 VVTL-i T-Sport 3-Drs 4/5-Doors'\n",
       "248. 'Model_TOYOTA Corolla 1.8 VVTL-i T-Sport 4/5-Doors'\n",
       "249. 'Model_TOYOTA Corolla 2/3-Doors'\n",
       "250. 'Model_TOYOTA Corolla 3drs 13i-16V 2/3-Doors'\n",
       "251. 'Model_TOYOTA Corolla 1800 T SPORT VVT I 2/3-Doors'\n",
       "252. 'Model_TOYOTA Corolla Hatchback 1.6 Terra Comfort 2/3-Doors'\n",
       "253. 'Model_TOYOTA Corolla LIFTBACK 1.3i Linea Luna Liftback 4/5-Doors'\n",
       "254. 'Model_TOYOTA Corolla LIFTBACK 1.3i Linea Terra Liftback 4/5-Doors'\n",
       "255. 'Model_TOYOTA Corolla LIFTBACK 1.4 16V VVTI TERRA 4/5-Doors'\n",
       "256. 'Model_TOYOTA Corolla LIFTBACK 1.4 VVT-i LINEA TERRA 4/5-Doors'\n",
       "257. 'Model_TOYOTA Corolla LIFTBACK 1.6 Linea Luna Liftback 4/5-Doors'\n",
       "258. 'Model_TOYOTA Corolla LIFTBACK 1.6 Linea Sol 4/5-Doors'\n",
       "259. 'Model_TOYOTA Corolla LIFTBACK 1.6 Linea terra 4/5-Doors'\n",
       "260. 'Model_TOYOTA Corolla LIFTBACK 1.6 Linea Terra Liftback 4/5-Doors'\n",
       "261. 'Model_TOYOTA Corolla Liftback 1.6 VVTI 4/5-Doors'\n",
       "262. 'Model_TOYOTA Corolla LIFTBACK 1.6-16v Linea Luna 2/3-Doors'\n",
       "263. 'Model_TOYOTA Corolla LIFTBACK 1.6-16v Linea Luna 4/5-Doors'\n",
       "264. 'Model_TOYOTA Corolla Linea Luna 1.6i 16V 2/3-Doors'\n",
       "\n",
       "\n"
      ],
      "text/plain": [
       "  [1] \"Id\"                                                                               \n",
       "  [2] \"Price\"                                                                            \n",
       "  [3] \"Age\"                                                                              \n",
       "  [4] \"KM\"                                                                               \n",
       "  [5] \"HP\"                                                                               \n",
       "  [6] \"Metallic\"                                                                         \n",
       "  [7] \"Automatic\"                                                                        \n",
       "  [8] \"CC\"                                                                               \n",
       "  [9] \"Doors\"                                                                            \n",
       " [10] \"Gears\"                                                                            \n",
       " [11] \"Weight\"                                                                           \n",
       " [12] \"Model_TOYOTA Corolla \"                                                            \n",
       " [13] \"Model_TOYOTA Corolla ! 1.6-16v vvt-i sol airco sedan 4/5-Doors\"                   \n",
       " [14] \"Model_TOYOTA Corolla 1 6-16v VVT-i Linea Terra Comfort Airco 5drs 4/5-Doors\"      \n",
       " [15] \"Model_TOYOTA Corolla 1.3 3D Linea Terra 2/3-Doors\"                                \n",
       " [16] \"Model_TOYOTA Corolla 1.3 16V 2/3-Doors\"                                           \n",
       " [17] \"Model_TOYOTA Corolla 1.3 16V HATCHB 2/3-Doors\"                                    \n",
       " [18] \"Model_TOYOTA Corolla 1.3 16V HATCHB G6 2/3-Doors\"                                 \n",
       " [19] \"Model_TOYOTA Corolla 1.3 16V HATCHB LINEA LUNA 2/3-Doors\"                         \n",
       " [20] \"Model_TOYOTA Corolla 1.3 16V HATCHB LINEA LUNA AUT3 2/3-Doors\"                    \n",
       " [21] \"Model_TOYOTA Corolla 1.3 16V HATCHB LINEA TERRA 2/3-Doors\"                        \n",
       " [22] \"Model_TOYOTA Corolla 1.3 16V HATCHB LINEA TERRA AUT3 2/3-Doors\"                   \n",
       " [23] \"Model_TOYOTA Corolla 1.3 16V HATCHB S 2/3-Doors\"                                  \n",
       " [24] \"Model_TOYOTA Corolla 1.3 16V L. TERRA COMFORT 2/3-Doors\"                          \n",
       " [25] \"Model_TOYOTA Corolla 1.3 16V LB Linea Luna 4/5-Doors\"                             \n",
       " [26] \"Model_TOYOTA Corolla 1.3 16V LIFTB G6 4/5-Doors\"                                  \n",
       " [27] \"Model_TOYOTA Corolla 1.3 16V LIFTB LINEA LUNA 4/5-Doors\"                          \n",
       " [28] \"Model_TOYOTA Corolla 1.3 16V LIFTB LINEA TERRA 4/5-Doors\"                         \n",
       " [29] \"Model_TOYOTA Corolla 1.3 16V LIFTB LINEA TERRA AUT3 4/5-Doors\"                    \n",
       " [30] \"Model_TOYOTA Corolla 1.3 16v linea terra \"                                        \n",
       " [31] \"Model_TOYOTA Corolla 1.3 16V Linea Terra 2/3-Doors\"                               \n",
       " [32] \"Model_TOYOTA Corolla 1.3 16V Linea Terra 4/5-Doors\"                               \n",
       " [33] \"Model_TOYOTA Corolla 1.3 16V Linea Terra Liftb 2/3-Doors\"                         \n",
       " [34] \"Model_TOYOTA Corolla 1.3 16V Linea Terra Liftb 4/5-Doors\"                         \n",
       " [35] \"Model_TOYOTA Corolla 1.3 16V SEDAN LINEA TERRA 4/5-Doors\"                         \n",
       " [36] \"Model_TOYOTA Corolla 1.3 16V SEDAN LINEA TERRA AUT3 4/5-Doors\"                    \n",
       " [37] \"Model_TOYOTA Corolla 1.3 16V WAGON LINEA LUNA Stationwagen\"                       \n",
       " [38] \"Model_TOYOTA Corolla 1.3 16V WAGON LINEA TERRA Stationwagen\"                      \n",
       " [39] \"Model_TOYOTA Corolla 1.3 G6 liftback 4/5-Doors\"                                   \n",
       " [40] \"Model_TOYOTA Corolla 1.3 Hatchback 2/3-Doors\"                                     \n",
       " [41] \"Model_TOYOTA Corolla 1.3 HB Linea Terra 2/3-Doors\"                                \n",
       " [42] \"Model_TOYOTA Corolla 1.3 HB LINEA TERRA 2/3-Doors\"                                \n",
       " [43] \"Model_TOYOTA Corolla 1.3 HB LINEA TERRA AUT 2/3-Doors\"                            \n",
       " [44] \"Model_TOYOTA Corolla 1.3 HB LINEA TERRA AUT Anders\"                               \n",
       " [45] \"Model_TOYOTA Corolla 1.3 I LUNA 2/3-Doors\"                                        \n",
       " [46] \"Model_TOYOTA Corolla 1.3 LB LINEA TERRA 4/5-Doors\"                                \n",
       " [47] \"Model_TOYOTA Corolla 1.3 LIN. Terra 2/3-Doors\"                                    \n",
       " [48] \"Model_TOYOTA Corolla 1.3 Linea Luna Hatchback 2/3-Doors\"                          \n",
       " [49] \"Model_TOYOTA Corolla 1.3 Linea Terra 3 drs 2/3-Doors\"                             \n",
       " [50] \"Model_TOYOTA Corolla 1.3 Linea Terra 4/5-Doors\"                                   \n",
       " [51] \"Model_TOYOTA Corolla 1.3 Linea Terra Comfort 4/5-Doors\"                           \n",
       " [52] \"Model_TOYOTA Corolla 1.3 Linea Terra Hatchback 2/3-Doors\"                         \n",
       " [53] \"Model_TOYOTA Corolla 1.3 Linea Terra liftback 4/5-Doors\"                          \n",
       " [54] \"Model_TOYOTA Corolla 1.3 Linea Terra sedan 4/5-Doors\"                             \n",
       " [55] \"Model_TOYOTA Corolla 1.3 Linea Terra sedan Comf. 4/5-Doors\"                       \n",
       " [56] \"Model_TOYOTA Corolla 1.3 Linea Terra wagon Stationwagen\"                          \n",
       " [57] \"Model_TOYOTA Corolla 1.3 SDN LINEA TERRA AUT 4/5-Doors\"                           \n",
       " [58] \"Model_TOYOTA Corolla 1.3-16V Luna 2/3-Doors\"                                      \n",
       " [59] \"Model_TOYOTA Corolla 1.3i LINEA TERRA 2/3-Doors\"                                  \n",
       " [60] \"Model_TOYOTA Corolla 1.3I LINEATERRA 2/3-Doors\"                                   \n",
       " [61] \"Model_TOYOTA Corolla 1.3i-16v Linea Terra 5d 4/5-Doors\"                           \n",
       " [62] \"Model_TOYOTA Corolla 1.4 16V 5DR TERRA 4/5-Doors\"                                 \n",
       " [63] \"Model_TOYOTA Corolla 1.4 16V VVT I 3DR 2/3-Doors\"                                 \n",
       " [64] \"Model_TOYOTA Corolla 1.4 16V VVT I 3DR TERRA 2/3-Doors\"                           \n",
       " [65] \"Model_TOYOTA Corolla 1.4 16V VVT I 3DR TERRA COMFORT 2/3-Doors\"                   \n",
       " [66] \"Model_TOYOTA Corolla 1.4 16V VVT I 5DR 4/5-Doors\"                                 \n",
       " [67] \"Model_TOYOTA Corolla 1.4 16V VVT I 5DR LUNA 4/5-Doors\"                            \n",
       " [68] \"Model_TOYOTA Corolla 1.4 16V VVT I 5DR LUNA BNS 4/5-Doors\"                        \n",
       " [69] \"Model_TOYOTA Corolla 1.4 16V VVT I 5DR SOL 4/5-Doors\"                             \n",
       " [70] \"Model_TOYOTA Corolla 1.4 16V VVT I 5DR TERRA 4/5-Doors\"                           \n",
       " [71] \"Model_TOYOTA Corolla 1.4 16V VVT I 5DR TERRA COMFORT 4/5-Doors\"                   \n",
       " [72] \"Model_TOYOTA Corolla 1.4 16V VVT I HATCHB SOL 2/3-Doors\"                          \n",
       " [73] \"Model_TOYOTA Corolla 1.4 16V VVT I HATCHB TERRA 2/3-Doors\"                        \n",
       " [74] \"Model_TOYOTA Corolla 1.4 16V VVT I LIFTB LUNA 4/5-Doors\"                          \n",
       " [75] \"Model_TOYOTA Corolla 1.4 16V VVT I LIFTB SOL 4/5-Doors\"                           \n",
       " [76] \"Model_TOYOTA Corolla 1.4 16V VVT I LIFTB TERRA 4/5-Doors\"                         \n",
       " [77] \"Model_TOYOTA Corolla 1.4 16V VVT I SEDAN TERRA COMF 4/5-Doors\"                    \n",
       " [78] \"Model_TOYOTA Corolla 1.4 HB LINEA TERRA 2/3-Doors\"                                \n",
       " [79] \"Model_TOYOTA Corolla 1.4 HB Terra 2/3-Doors\"                                      \n",
       " [80] \"Model_TOYOTA Corolla 1.4 LB LINEA TERRA 4/5-Doors\"                                \n",
       " [81] \"Model_TOYOTA Corolla 1.4 VVT-i Linea Luna liftback 4/5-Doors\"                     \n",
       " [82] \"Model_TOYOTA Corolla 1.4 VVT-i Linea Sol HB 2/3-Doors\"                            \n",
       " [83] \"Model_TOYOTA Corolla 1.4 VVT-i Sol 2/3-Doors\"                                     \n",
       " [84] \"Model_TOYOTA Corolla 1.4 VVT-i Terra 2/3-Doors\"                                   \n",
       " [85] \"Model_TOYOTA Corolla 1.4 VVTI  (Nw type) 4/5-Doors\"                               \n",
       " [86] \"Model_TOYOTA Corolla 1.4 VVTI L.Terra HB 4/5-Doors\"                               \n",
       " [87] \"Model_TOYOTA Corolla 1.4 VVTI LB 4/5-Doors\"                                       \n",
       " [88] \"Model_TOYOTA Corolla 1.4 VVTI Linea Terra 2/3-Doors\"                              \n",
       " [89] \"Model_TOYOTA Corolla 1.4-16v VVT-i Linea Terra Comfort NIEUW AIRCO 4/5-Doors\"     \n",
       " [90] \"Model_TOYOTA Corolla 1.6 3D Terra/Comf. 2/3-Doors\"                                \n",
       " [91] \"Model_TOYOTA Corolla 1.6 4/5-Doors\"                                               \n",
       " [92] \"Model_TOYOTA Corolla 1.6 5drs 1 4/5-Doors\"                                        \n",
       " [93] \"Model_TOYOTA Corolla 1.6 16V HATCHB G6 2/3-Doors\"                                 \n",
       " [94] \"Model_TOYOTA Corolla 1.6 16V HATCHB G6 R 2/3-Doors\"                               \n",
       " [95] \"Model_TOYOTA Corolla 1.6 16V HATCHB GTSI 2/3-Doors\"                               \n",
       " [96] \"Model_TOYOTA Corolla 1.6 16V HATCHB LINEA LUNA 2/3-Doors\"                         \n",
       " [97] \"Model_TOYOTA Corolla 1.6 16V HATCHB LINEA LUNA AUT4 2/3-Doors\"                    \n",
       " [98] \"Model_TOYOTA Corolla 1.6 16V HATCHB LINEA TERRA 2/3-Doors\"                        \n",
       " [99] \"Model_TOYOTA Corolla 1.6 16V HATCHB LINEA TERRA AUT4 2/3-Doors\"                   \n",
       "[100] \"Model_TOYOTA Corolla 1.6 16V HATCHB S 2/3-Doors\"                                  \n",
       "[101] \"Model_TOYOTA Corolla 1.6 16V HATCHBACK LINEA LUNA 2/3-Doors\"                      \n",
       "[102] \"Model_TOYOTA Corolla 1.6 16v L.SOL 2/3-Doors\"                                     \n",
       "[103] \"Model_TOYOTA Corolla 1.6 16V LIFTB LINEA LUNA 4/5-Doors\"                          \n",
       "[104] \"Model_TOYOTA Corolla 1.6 16V LIFTB LINEA LUNA AUT4 4/5-Doors\"                     \n",
       "[105] \"Model_TOYOTA Corolla 1.6 16V LIFTB LINEA TERRA 4/5-Doors\"                         \n",
       "[106] \"Model_TOYOTA Corolla 1.6 16V LIFTB LINEA TERRA AUT4 4/5-Doors\"                    \n",
       "[107] \"Model_TOYOTA Corolla 1.6 16v Liftback Linea Luna 4/5-Doors\"                       \n",
       "[108] \"Model_TOYOTA Corolla 1.6 16V LIFTBACK LINEA LUNA 4/5-Doors\"                       \n",
       "[109] \"Model_TOYOTA Corolla 1.6 16v Liftback Linea So 4/5-Doors\"                         \n",
       "[110] \"Model_TOYOTA Corolla 1.6 16v Liftback Linea Sol 4/5-Doors\"                        \n",
       "[111] \"Model_TOYOTA Corolla 1.6 16v Liftback Linea Terra 4/5-Doors\"                      \n",
       "[112] \"Model_TOYOTA Corolla 1.6 16v Linea Luna 2/3-Doors\"                                \n",
       "[113] \"Model_TOYOTA Corolla 1.6 16v Linea Luna Stationwagen\"                             \n",
       "[114] \"Model_TOYOTA Corolla 1.6 16v Linea Terra 4/5-Doors\"                               \n",
       "[115] \"Model_TOYOTA Corolla 1.6 16V S-uitvoering 2/3-Doors\"                              \n",
       "[116] \"Model_TOYOTA Corolla 1.6 16V SEDAN LINEA LUNA 4/5-Doors\"                          \n",
       "[117] \"Model_TOYOTA Corolla 1.6 16V SEDAN LINEA LUNA AUT4 4/5-Doors\"                     \n",
       "[118] \"Model_TOYOTA Corolla 1.6 16V SEDAN LINEA TERRA 4/5-Doors\"                         \n",
       "[119] \"Model_TOYOTA Corolla 1.6 16V SEDAN LINEA TERRA AUT4 4/5-Doors\"                    \n",
       "[120] \"Model_TOYOTA Corolla 1.6 16v TERRA 4/5-Doors\"                                     \n",
       "[121] \"Model_TOYOTA Corolla 1.6 16V VVT I 3DR SOL 2/3-Doors\"                             \n",
       "[122] \"Model_TOYOTA Corolla 1.6 16V VVT I 3DR SOL AUT4 2/3-Doors\"                        \n",
       "[123] \"Model_TOYOTA Corolla 1.6 16V VVT I 3DR TERRA 2/3-Doors\"                           \n",
       "[124] \"Model_TOYOTA Corolla 1.6 16V VVT I 3DR TERRA COMF AUT 2/3-Doors\"                  \n",
       "[125] \"Model_TOYOTA Corolla 1.6 16V VVT I 3DR TERRA COMFORT 2/3-Doors\"                   \n",
       "[126] \"Model_TOYOTA Corolla 1.6 16V VVT I 5DR EXEC 4/5-Doors\"                            \n",
       "[127] \"Model_TOYOTA Corolla 1.6 16V VVT I 5DR EXEC BNS 4/5-Doors\"                        \n",
       "[128] \"Model_TOYOTA Corolla 1.6 16V VVT I 5DR SOL 4/5-Doors\"                             \n",
       "[129] \"Model_TOYOTA Corolla 1.6 16V VVT I 5DR SOL AUT4 4/5-Doors\"                        \n",
       "[130] \"Model_TOYOTA Corolla 1.6 16V VVT I 5DR SOL BNS 4/5-Doors\"                         \n",
       "[131] \"Model_TOYOTA Corolla 1.6 16V VVT I 5DR TERRA 4/5-Doors\"                           \n",
       "[132] \"Model_TOYOTA Corolla 1.6 16V VVT I 5DR TERRA AUT4 4/5-Doors\"                      \n",
       "[133] \"Model_TOYOTA Corolla 1.6 16V VVT I 5DR TERRA COMF AUT 4/5-Doors\"                  \n",
       "[134] \"Model_TOYOTA Corolla 1.6 16V VVT I 5DR TERRA COMFORT 4/5-Doors\"                   \n",
       "[135] \"Model_TOYOTA Corolla 1.6 16V VVT I HATCHB G6 2/3-Doors\"                           \n",
       "[136] \"Model_TOYOTA Corolla 1.6 16V VVT I HATCHB G6 4/5-Doors\"                           \n",
       "[137] \"Model_TOYOTA Corolla 1.6 16V VVT I HATCHB SOL 2/3-Doors\"                          \n",
       "[138] \"Model_TOYOTA Corolla 1.6 16V VVT I HATCHB SOL AUT4 2/3-Doors\"                     \n",
       "[139] \"Model_TOYOTA Corolla 1.6 16V VVT I HATCHB TERRA 2/3-Doors\"                        \n",
       "[140] \"Model_TOYOTA Corolla 1.6 16V VVT I HATCHB TERRA AUT4 2/3-Doors\"                   \n",
       "[141] \"Model_TOYOTA Corolla 1.6 16V VVT I LIFTB LUNA 4/5-Doors\"                          \n",
       "[142] \"Model_TOYOTA Corolla 1.6 16V VVT I LIFTB LUNA AUT4 4/5-Doors\"                     \n",
       "[143] \"Model_TOYOTA Corolla 1.6 16V VVT I LIFTB SOL 4/5-Doors\"                           \n",
       "[144] \"Model_TOYOTA Corolla 1.6 16V VVT I LIFTB SOL AUT4 4/5-Doors\"                      \n",
       "[145] \"Model_TOYOTA Corolla 1.6 16V VVT I LIFTB TERRA 4/5-Doors\"                         \n",
       "[146] \"Model_TOYOTA Corolla 1.6 16V VVT I SEDAN SOL 4/5-Doors\"                           \n",
       "[147] \"Model_TOYOTA Corolla 1.6 16V VVT I SEDAN SOL AUT4 4/5-Doors\"                      \n",
       "[148] \"Model_TOYOTA Corolla 1.6 16V VVT I SEDAN SOL BNS AUT4 4/5-Doors\"                  \n",
       "[149] \"Model_TOYOTA Corolla 1.6 16V VVT I SEDAN TERRA 4/5-Doors\"                         \n",
       "[150] \"Model_TOYOTA Corolla 1.6 16V VVT I SEDAN TERRA AUT4 4/5-Doors\"                    \n",
       "[151] \"Model_TOYOTA Corolla 1.6 16V VVT I SEDAN TERRA COMF 4/5-Doors\"                    \n",
       "[152] \"Model_TOYOTA Corolla 1.6 16V VVT I WAGON BLUE Stationwagen\"                       \n",
       "[153] \"Model_TOYOTA Corolla 1.6 16V VVT I WAGON TERRA Stationwagen\"                      \n",
       "[154] \"Model_TOYOTA Corolla 1.6 16v VVT-i Linea Sol 2/3-Doors\"                           \n",
       "[155] \"Model_TOYOTA Corolla 1.6 16v VVTi Linea Sol 4/5-Doors\"                            \n",
       "[156] \"Model_TOYOTA Corolla 1.6 16v VVTi Terra Comfort 2/3-Doors\"                        \n",
       "[157] \"Model_TOYOTA Corolla 1.6 16v VVTi Terra Comfort 4/5-Doors\"                        \n",
       "[158] \"Model_TOYOTA Corolla 1.6 16V WAGON LINEA LUNA Stationwagen\"                       \n",
       "[159] \"Model_TOYOTA Corolla 1.6 16V WAGON LINEA TERRA AUT4 Stationwagen\"                 \n",
       "[160] \"Model_TOYOTA Corolla 1.6 16V WAGON LINEA TERRA Stationwagen\"                      \n",
       "[161] \"Model_TOYOTA Corolla 1.6 G6 HB 2/3-Doors\"                                         \n",
       "[162] \"Model_TOYOTA Corolla 1.6 G6R HB 2/3-Doors\"                                        \n",
       "[163] \"Model_TOYOTA Corolla 1.6 GL LB 4/5-Doors\"                                         \n",
       "[164] \"Model_TOYOTA Corolla 1.6 GTSi HB 2/3-Doors\"                                       \n",
       "[165] \"Model_TOYOTA Corolla 1.6 GTSi HB 4/5-Doors\"                                       \n",
       "[166] \"Model_TOYOTA Corolla 1.6 Hatchback 2/3-Doors\"                                     \n",
       "[167] \"Model_TOYOTA Corolla 1.6 HATCHBACK 2/3-Doors\"                                     \n",
       "[168] \"Model_TOYOTA Corolla 1.6 HB Linea Luna 2/3-Doors\"                                 \n",
       "[169] \"Model_TOYOTA Corolla 1.6 HB LINEA LUNA 2/3-Doors\"                                 \n",
       "[170] \"Model_TOYOTA Corolla 1.6 HB LINEA LUNA AUT 2/3-Doors\"                             \n",
       "[171] \"Model_TOYOTA Corolla 1.6 HB LINEA SOL 4/5-Doors\"                                  \n",
       "[172] \"Model_TOYOTA Corolla 1.6 HB Linea Terra 2/3-Doors\"                                \n",
       "[173] \"Model_TOYOTA Corolla 1.6 HB LINEA TERRA 2/3-Doors\"                                \n",
       "[174] \"Model_TOYOTA Corolla 1.6 HB SOL 2/3-Doors\"                                        \n",
       "[175] \"Model_TOYOTA Corolla 1.6 HB Terra 4/5-Doors\"                                      \n",
       "[176] \"Model_TOYOTA Corolla 1.6 I lb luna 4/5-Doors\"                                     \n",
       "[177] \"Model_TOYOTA Corolla 1.6 LB 4/5-Doors\"                                            \n",
       "[178] \"Model_TOYOTA Corolla 1.6 lb aut 4/5-Doors\"                                        \n",
       "[179] \"Model_TOYOTA Corolla 1.6 LB LINEA LUNA 4/5-Doors\"                                 \n",
       "[180] \"Model_TOYOTA Corolla 1.6 LB LINEA SOL 4/5-Doors\"                                  \n",
       "[181] \"Model_TOYOTA Corolla 1.6 LB Linea Terra 4/5-Doors\"                                \n",
       "[182] \"Model_TOYOTA Corolla 1.6 LB LINEA TERRA 4/5-Doors\"                                \n",
       "[183] \"Model_TOYOTA Corolla 1.6 Lin.Terra Aut. 2/3-Doors\"                                \n",
       "[184] \"Model_TOYOTA Corolla 1.6 Linea Luna 2/3-Doors\"                                    \n",
       "[185] \"Model_TOYOTA Corolla 1.6 Linea Luna 4/5-Doors\"                                    \n",
       "[186] \"Model_TOYOTA Corolla 1.6 Linea Luna Aut. 4/5-Doors\"                               \n",
       "[187] \"Model_TOYOTA Corolla 1.6 Linea Luna Wagon Stationwagen\"                           \n",
       "[188] \"Model_TOYOTA Corolla 1.6 linea terra 4/5-Doors\"                                   \n",
       "[189] \"Model_TOYOTA Corolla 1.6 LINEA TERRA 4/5-Doors\"                                   \n",
       "[190] \"Model_TOYOTA Corolla 1.6 Linea Terra Comfort 2/3-Doors\"                           \n",
       "[191] \"Model_TOYOTA Corolla 1.6 Linea Terra Comfort 4/5-Doors\"                           \n",
       "[192] \"Model_TOYOTA Corolla 1.6 Linea Terra Comfort H 2/3-Doors\"                         \n",
       "[193] \"Model_TOYOTA Corolla 1.6 Linea Terra Comfort HB 2/3-Doors\"                        \n",
       "[194] \"Model_TOYOTA Corolla 1.6 Linea Terra HB 2/3-Doors\"                                \n",
       "[195] \"Model_TOYOTA Corolla 1.6 Linea Terra LB 4/5-Doors\"                                \n",
       "[196] \"Model_TOYOTA Corolla 1.6 Linea Terra Sd 4/5-Doors\"                                \n",
       "[197] \"Model_TOYOTA Corolla 1.6 Linea Terra Sedan 4/5-Doors\"                             \n",
       "[198] \"Model_TOYOTA Corolla 1.6 LL HB 4/5-Doors\"                                         \n",
       "[199] \"Model_TOYOTA Corolla 1.6 Luna LB 4/5-Doors\"                                       \n",
       "[200] \"Model_TOYOTA Corolla 1.6 Luna Liftback 4/5-Doors\"                                 \n",
       "[201] \"Model_TOYOTA Corolla 1.6 SD TERRA 4/5-Doors\"                                      \n",
       "[202] \"Model_TOYOTA Corolla 1.6 SDN LINEA SOL 4/5-Doors\"                                 \n",
       "[203] \"Model_TOYOTA Corolla 1.6 SDN LINEA TERRA 4/5-Doors\"                               \n",
       "[204] \"Model_TOYOTA Corolla 1.6 SDN LINEA TERRA AUT 4/5-Doors\"                           \n",
       "[205] \"Model_TOYOTA Corolla 1.6 sol lb 4/5-Doors\"                                        \n",
       "[206] \"Model_TOYOTA Corolla 1.6 station 1 Stationwagen\"                                  \n",
       "[207] \"Model_TOYOTA Corolla 1.6 Terra 5-Doors Liftback 4/5-Doors\"                        \n",
       "[208] \"Model_TOYOTA Corolla 1.6 terra comfort 5drs airco 4/5-Doors\"                      \n",
       "[209] \"Model_TOYOTA Corolla 1.6 Terra HB 2/3-Doors\"                                      \n",
       "[210] \"Model_TOYOTA Corolla 1.6 Terra LB 4/5-Doors\"                                      \n",
       "[211] \"Model_TOYOTA Corolla 1.6 Terra LB Comf. 4/5-Doors\"                                \n",
       "[212] \"Model_TOYOTA Corolla 1.6 Terra Stationwagen\"                                      \n",
       "[213] \"Model_TOYOTA Corolla 1.6 VVT-I 5DR LINEA SOL 4/5-Doors\"                           \n",
       "[214] \"Model_TOYOTA Corolla 1.6 VVT-I 5DR LINEA TERRA 4/5-Doors\"                         \n",
       "[215] \"Model_TOYOTA Corolla 1.6 VVT-i L. Sol Wagon Stationwagen\"                         \n",
       "[216] \"Model_TOYOTA Corolla 1.6 VVT-i Linea Sol 4/5-Doors\"                               \n",
       "[217] \"Model_TOYOTA Corolla 1.6 VVT-i Linea Terra Comfort 2/3-Doors\"                     \n",
       "[218] \"Model_TOYOTA Corolla 1.6 VVT-i Linea Terra Comfort 4/5-Doors\"                     \n",
       "[219] \"Model_TOYOTA Corolla 1.6 vvt-i nw model comfort airco 5drs 4/5-Doors\"             \n",
       "[220] \"Model_TOYOTA Corolla 1.6 VVTi Linea Luna 2/3-Doors\"                               \n",
       "[221] \"Model_TOYOTA Corolla 1.6 VVTi Linea Luna 4/5-Doors\"                               \n",
       "[222] \"Model_TOYOTA Corolla 1.6 VVTi Linea Luna Lift 4/5-Doors\"                          \n",
       "[223] \"Model_TOYOTA Corolla 1.6 VVTI Linea Sol Sedan 4/5-Doors\"                          \n",
       "[224] \"Model_TOYOTA Corolla 1.6 VVTi Linea terra 2/3-Doors\"                              \n",
       "[225] \"Model_TOYOTA Corolla 1.6 VVTi Linea terra 4/5-Doors\"                              \n",
       "[226] \"Model_TOYOTA Corolla 1.6 VVTI Linea Terra Comfort 2/3-Doors\"                      \n",
       "[227] \"Model_TOYOTA Corolla 1.6 VVTI Linea Terra Comfort 4/5-Doors\"                      \n",
       "[228] \"Model_TOYOTA Corolla 1.6 VVTI Linea Terra liftback 4/5-Doors\"                     \n",
       "[229] \"Model_TOYOTA Corolla 1.6 VVTi Terra Comfort 4/5-Doors\"                            \n",
       "[230] \"Model_TOYOTA Corolla 1.6 WGN LINEA TERRA Stationwagen\"                            \n",
       "[231] \"Model_TOYOTA Corolla 1.6-16v Linea Terra 2/3-Doors\"                               \n",
       "[232] \"Model_TOYOTA Corolla 1.6-16v Linea Terra LB 4/5-Doors\"                            \n",
       "[233] \"Model_TOYOTA Corolla 1.6-16v VVT-i Executive B.edition 4/5-Doors\"                 \n",
       "[234] \"Model_TOYOTA Corolla 1.6-16v VVT-i Linea Terra Comfort AIRCO NIEUW 5DRS 4/5-Doors\"\n",
       "[235] \"Model_TOYOTA Corolla 1.6-16v VVT-i Linea Terra Comfort NIEUW AIRCO 5drs 4/5-Doors\"\n",
       "[236] \"Model_TOYOTA Corolla 1.6HB 2/3-Doors\"                                             \n",
       "[237] \"Model_TOYOTA Corolla 1.6i 16V VVT I SOL + Navigatie 4/5-Doors\"                    \n",
       "[238] \"Model_TOYOTA Corolla 1.6I LIFTBACK 4/5-Doors\"                                     \n",
       "[239] \"Model_TOYOTA Corolla 1.6i Linea Terra HB 2/3-Doors\"                               \n",
       "[240] \"Model_TOYOTA Corolla 1.6I Luna liftback 4/5-Doors\"                                \n",
       "[241] \"Model_TOYOTA Corolla 1.6i-16 SPORTS TC 2/3-Doors\"                                 \n",
       "[242] \"Model_TOYOTA Corolla 1.6v VVT-i Linea Sol 4/5-Doors\"                              \n",
       "[243] \"Model_TOYOTA Corolla 1.8 16V VVTLI 3DR T SPORT 2/3-Doors\"                         \n",
       "[244] \"Model_TOYOTA Corolla 1.8 16V VVTLI 3DR T SPORT BNS 2/3-Doors\"                     \n",
       "[245] \"Model_TOYOTA Corolla 1.8 16V VVTLI 5DR T SPORT 4/5-Doors\"                         \n",
       "[246] \"Model_TOYOTA Corolla 1.8 VVTL-i T-Sport 3-Drs 2/3-Doors\"                          \n",
       "[247] \"Model_TOYOTA Corolla 1.8 VVTL-i T-Sport 3-Drs 4/5-Doors\"                          \n",
       "[248] \"Model_TOYOTA Corolla 1.8 VVTL-i T-Sport 4/5-Doors\"                                \n",
       "[249] \"Model_TOYOTA Corolla 2/3-Doors\"                                                   \n",
       "[250] \"Model_TOYOTA Corolla 3drs 13i-16V 2/3-Doors\"                                      \n",
       "[251] \"Model_TOYOTA Corolla 1800 T SPORT VVT I 2/3-Doors\"                                \n",
       "[252] \"Model_TOYOTA Corolla Hatchback 1.6 Terra Comfort 2/3-Doors\"                       \n",
       "[253] \"Model_TOYOTA Corolla LIFTBACK 1.3i Linea Luna Liftback 4/5-Doors\"                 \n",
       "[254] \"Model_TOYOTA Corolla LIFTBACK 1.3i Linea Terra Liftback 4/5-Doors\"                \n",
       "[255] \"Model_TOYOTA Corolla LIFTBACK 1.4 16V VVTI TERRA 4/5-Doors\"                       \n",
       "[256] \"Model_TOYOTA Corolla LIFTBACK 1.4 VVT-i LINEA TERRA 4/5-Doors\"                    \n",
       "[257] \"Model_TOYOTA Corolla LIFTBACK 1.6 Linea Luna Liftback 4/5-Doors\"                  \n",
       "[258] \"Model_TOYOTA Corolla LIFTBACK 1.6 Linea Sol 4/5-Doors\"                            \n",
       "[259] \"Model_TOYOTA Corolla LIFTBACK 1.6 Linea terra 4/5-Doors\"                          \n",
       "[260] \"Model_TOYOTA Corolla LIFTBACK 1.6 Linea Terra Liftback 4/5-Doors\"                 \n",
       "[261] \"Model_TOYOTA Corolla Liftback 1.6 VVTI 4/5-Doors\"                                 \n",
       "[262] \"Model_TOYOTA Corolla LIFTBACK 1.6-16v Linea Luna 2/3-Doors\"                       \n",
       "[263] \"Model_TOYOTA Corolla LIFTBACK 1.6-16v Linea Luna 4/5-Doors\"                       \n",
       "[264] \"Model_TOYOTA Corolla Linea Luna 1.6i 16V 2/3-Doors\"                               "
      ]
     },
     "metadata": {},
     "output_type": "display_data"
    }
   ],
   "source": [
    "colnames(car_data)"
   ]
  },
  {
   "cell_type": "code",
   "execution_count": 97,
   "metadata": {
    "vscode": {
     "languageId": "r"
    }
   },
   "outputs": [
    {
     "data": {
      "text/plain": [
       "\n",
       "Call:\n",
       "lm(formula = Price ~ Age + KM + HP + Metallic + Automatic + CC + \n",
       "    Doors + Gears + Weight, data = car_data)\n",
       "\n",
       "Residuals:\n",
       "    Min      1Q  Median      3Q     Max \n",
       "-8117.5  -771.5   -50.0   701.0  6403.5 \n",
       "\n",
       "Coefficients:\n",
       "              Estimate Std. Error t value Pr(>|t|)    \n",
       "(Intercept) -2.883e+03  1.505e+03  -1.916 0.055649 .  \n",
       "Age         -1.299e+02  2.610e+00 -49.782  < 2e-16 ***\n",
       "KM          -1.465e-02  1.441e-03 -10.162  < 2e-16 ***\n",
       "HP           2.540e+01  3.376e+00   7.524 1.01e-13 ***\n",
       "Metallic    -2.281e+01  7.436e+01  -0.307 0.759059    \n",
       "Automatic    4.991e+02  1.497e+02   3.334 0.000881 ***\n",
       "CC          -5.259e-03  8.499e-02  -0.062 0.950667    \n",
       "Doors        1.315e+01  4.086e+01   0.322 0.747638    \n",
       "Gears        6.281e+02  1.927e+02   3.259 0.001148 ** \n",
       "Weight       1.504e+01  1.300e+00  11.567  < 2e-16 ***\n",
       "---\n",
       "Signif. codes:  0 '***' 0.001 '**' 0.01 '*' 0.05 '.' 0.1 ' ' 1\n",
       "\n",
       "Residual standard error: 1227 on 1254 degrees of freedom\n",
       "Multiple R-squared:  0.8649,\tAdjusted R-squared:  0.8639 \n",
       "F-statistic: 891.8 on 9 and 1254 DF,  p-value: < 2.2e-16\n"
      ]
     },
     "metadata": {},
     "output_type": "display_data"
    }
   ],
   "source": [
    "first_price_lm_model = lm(Price~Age+KM+HP+Metallic+Automatic+CC+Doors+Gears+Weight,data = car_data)\n",
    "\n",
    "summary(first_price_lm_model)"
   ]
  },
  {
   "cell_type": "code",
   "execution_count": 98,
   "metadata": {
    "vscode": {
     "languageId": "r"
    }
   },
   "outputs": [
    {
     "data": {
      "text/html": [
       "<table class=\"dataframe\">\n",
       "<caption>A data.frame: 10 × 3</caption>\n",
       "<thead>\n",
       "\t<tr><th></th><th scope=col>Price</th><th scope=col>first_price_model_fitted</th><th scope=col>first_price_model_residuals</th></tr>\n",
       "\t<tr><th></th><th scope=col>&lt;int&gt;</th><th scope=col>&lt;dbl&gt;</th><th scope=col>&lt;dbl&gt;</th></tr>\n",
       "</thead>\n",
       "<tbody>\n",
       "\t<tr><th scope=row>1</th><td>21500</td><td>19186.61</td><td>2313.3889</td></tr>\n",
       "\t<tr><th scope=row>2</th><td>20950</td><td>19902.38</td><td>1047.6167</td></tr>\n",
       "\t<tr><th scope=row>3</th><td>19950</td><td>20114.27</td><td>-164.2689</td></tr>\n",
       "\t<tr><th scope=row>4</th><td>19600</td><td>19891.72</td><td>-291.7201</td></tr>\n",
       "\t<tr><th scope=row>5</th><td>21500</td><td>19223.83</td><td>2276.1696</td></tr>\n",
       "\t<tr><th scope=row>6</th><td>22500</td><td>18930.85</td><td>3569.1535</td></tr>\n",
       "\t<tr><th scope=row>7</th><td>22000</td><td>19698.89</td><td>2301.1095</td></tr>\n",
       "\t<tr><th scope=row>8</th><td>22750</td><td>18564.51</td><td>4185.4929</td></tr>\n",
       "\t<tr><th scope=row>9</th><td>17950</td><td>16239.52</td><td>1710.4842</td></tr>\n",
       "\t<tr><th scope=row>10</th><td>16750</td><td>15604.50</td><td>1145.5044</td></tr>\n",
       "</tbody>\n",
       "</table>\n"
      ],
      "text/latex": [
       "A data.frame: 10 × 3\n",
       "\\begin{tabular}{r|lll}\n",
       "  & Price & first\\_price\\_model\\_fitted & first\\_price\\_model\\_residuals\\\\\n",
       "  & <int> & <dbl> & <dbl>\\\\\n",
       "\\hline\n",
       "\t1 & 21500 & 19186.61 & 2313.3889\\\\\n",
       "\t2 & 20950 & 19902.38 & 1047.6167\\\\\n",
       "\t3 & 19950 & 20114.27 & -164.2689\\\\\n",
       "\t4 & 19600 & 19891.72 & -291.7201\\\\\n",
       "\t5 & 21500 & 19223.83 & 2276.1696\\\\\n",
       "\t6 & 22500 & 18930.85 & 3569.1535\\\\\n",
       "\t7 & 22000 & 19698.89 & 2301.1095\\\\\n",
       "\t8 & 22750 & 18564.51 & 4185.4929\\\\\n",
       "\t9 & 17950 & 16239.52 & 1710.4842\\\\\n",
       "\t10 & 16750 & 15604.50 & 1145.5044\\\\\n",
       "\\end{tabular}\n"
      ],
      "text/markdown": [
       "\n",
       "A data.frame: 10 × 3\n",
       "\n",
       "| <!--/--> | Price &lt;int&gt; | first_price_model_fitted &lt;dbl&gt; | first_price_model_residuals &lt;dbl&gt; |\n",
       "|---|---|---|---|\n",
       "| 1 | 21500 | 19186.61 | 2313.3889 |\n",
       "| 2 | 20950 | 19902.38 | 1047.6167 |\n",
       "| 3 | 19950 | 20114.27 | -164.2689 |\n",
       "| 4 | 19600 | 19891.72 | -291.7201 |\n",
       "| 5 | 21500 | 19223.83 | 2276.1696 |\n",
       "| 6 | 22500 | 18930.85 | 3569.1535 |\n",
       "| 7 | 22000 | 19698.89 | 2301.1095 |\n",
       "| 8 | 22750 | 18564.51 | 4185.4929 |\n",
       "| 9 | 17950 | 16239.52 | 1710.4842 |\n",
       "| 10 | 16750 | 15604.50 | 1145.5044 |\n",
       "\n"
      ],
      "text/plain": [
       "   Price first_price_model_fitted first_price_model_residuals\n",
       "1  21500 19186.61                 2313.3889                  \n",
       "2  20950 19902.38                 1047.6167                  \n",
       "3  19950 20114.27                 -164.2689                  \n",
       "4  19600 19891.72                 -291.7201                  \n",
       "5  21500 19223.83                 2276.1696                  \n",
       "6  22500 18930.85                 3569.1535                  \n",
       "7  22000 19698.89                 2301.1095                  \n",
       "8  22750 18564.51                 4185.4929                  \n",
       "9  17950 16239.52                 1710.4842                  \n",
       "10 16750 15604.50                 1145.5044                  "
      ]
     },
     "metadata": {},
     "output_type": "display_data"
    }
   ],
   "source": [
    "car_data$first_price_model_fitted = first_price_lm_model$fitted.values\n",
    "car_data$first_price_model_residuals = first_price_lm_model$residuals\n",
    "head(car_data[c(\"Price\",\"first_price_model_fitted\",\"first_price_model_residuals\")],10)"
   ]
  },
  {
   "cell_type": "code",
   "execution_count": 99,
   "metadata": {
    "vscode": {
     "languageId": "r"
    }
   },
   "outputs": [],
   "source": [
    "first_model_coefs = as.data.frame(summary(first_price_lm_model)$coefficients)"
   ]
  },
  {
   "cell_type": "code",
   "execution_count": 100,
   "metadata": {
    "vscode": {
     "languageId": "r"
    }
   },
   "outputs": [],
   "source": [
    "first_model_coefs$my_t_stat = first_model_coefs[,1] / first_model_coefs[,2]"
   ]
  },
  {
   "cell_type": "code",
   "execution_count": 101,
   "metadata": {
    "vscode": {
     "languageId": "r"
    }
   },
   "outputs": [
    {
     "data": {
      "text/html": [
       "<table class=\"dataframe\">\n",
       "<caption>A data.frame: 10 × 5</caption>\n",
       "<thead>\n",
       "\t<tr><th></th><th scope=col>Estimate</th><th scope=col>Std. Error</th><th scope=col>t value</th><th scope=col>Pr(&gt;|t|)</th><th scope=col>my_t_stat</th></tr>\n",
       "\t<tr><th></th><th scope=col>&lt;dbl&gt;</th><th scope=col>&lt;dbl&gt;</th><th scope=col>&lt;dbl&gt;</th><th scope=col>&lt;dbl&gt;</th><th scope=col>&lt;dbl&gt;</th></tr>\n",
       "</thead>\n",
       "<tbody>\n",
       "\t<tr><th scope=row>(Intercept)</th><td>-2.882537e+03</td><td>1.504804e+03</td><td> -1.91555684</td><td> 5.564875e-02</td><td> -1.91555684</td></tr>\n",
       "\t<tr><th scope=row>Age</th><td>-1.299451e+02</td><td>2.610276e+00</td><td>-49.78213520</td><td>2.802533e-299</td><td>-49.78213520</td></tr>\n",
       "\t<tr><th scope=row>KM</th><td>-1.464727e-02</td><td>1.441421e-03</td><td>-10.16168388</td><td> 2.295236e-23</td><td>-10.16168388</td></tr>\n",
       "\t<tr><th scope=row>HP</th><td> 2.539843e+01</td><td>3.375622e+00</td><td>  7.52407315</td><td> 1.009200e-13</td><td>  7.52407315</td></tr>\n",
       "\t<tr><th scope=row>Metallic</th><td>-2.281278e+01</td><td>7.436117e+01</td><td> -0.30678348</td><td> 7.590591e-01</td><td> -0.30678348</td></tr>\n",
       "\t<tr><th scope=row>Automatic</th><td> 4.990580e+02</td><td>1.496871e+02</td><td>  3.33400809</td><td> 8.810432e-04</td><td>  3.33400809</td></tr>\n",
       "\t<tr><th scope=row>CC</th><td>-5.259189e-03</td><td>8.498812e-02</td><td> -0.06188146</td><td> 9.506671e-01</td><td> -0.06188146</td></tr>\n",
       "\t<tr><th scope=row>Doors</th><td> 1.315082e+01</td><td>4.086314e+01</td><td>  0.32182598</td><td> 7.476382e-01</td><td>  0.32182598</td></tr>\n",
       "\t<tr><th scope=row>Gears</th><td> 6.281485e+02</td><td>1.927432e+02</td><td>  3.25899198</td><td> 1.148079e-03</td><td>  3.25899198</td></tr>\n",
       "\t<tr><th scope=row>Weight</th><td> 1.503712e+01</td><td>1.300029e+00</td><td> 11.56676201</td><td> 1.790759e-29</td><td> 11.56676201</td></tr>\n",
       "</tbody>\n",
       "</table>\n"
      ],
      "text/latex": [
       "A data.frame: 10 × 5\n",
       "\\begin{tabular}{r|lllll}\n",
       "  & Estimate & Std. Error & t value & Pr(>\\textbar{}t\\textbar{}) & my\\_t\\_stat\\\\\n",
       "  & <dbl> & <dbl> & <dbl> & <dbl> & <dbl>\\\\\n",
       "\\hline\n",
       "\t(Intercept) & -2.882537e+03 & 1.504804e+03 &  -1.91555684 &  5.564875e-02 &  -1.91555684\\\\\n",
       "\tAge & -1.299451e+02 & 2.610276e+00 & -49.78213520 & 2.802533e-299 & -49.78213520\\\\\n",
       "\tKM & -1.464727e-02 & 1.441421e-03 & -10.16168388 &  2.295236e-23 & -10.16168388\\\\\n",
       "\tHP &  2.539843e+01 & 3.375622e+00 &   7.52407315 &  1.009200e-13 &   7.52407315\\\\\n",
       "\tMetallic & -2.281278e+01 & 7.436117e+01 &  -0.30678348 &  7.590591e-01 &  -0.30678348\\\\\n",
       "\tAutomatic &  4.990580e+02 & 1.496871e+02 &   3.33400809 &  8.810432e-04 &   3.33400809\\\\\n",
       "\tCC & -5.259189e-03 & 8.498812e-02 &  -0.06188146 &  9.506671e-01 &  -0.06188146\\\\\n",
       "\tDoors &  1.315082e+01 & 4.086314e+01 &   0.32182598 &  7.476382e-01 &   0.32182598\\\\\n",
       "\tGears &  6.281485e+02 & 1.927432e+02 &   3.25899198 &  1.148079e-03 &   3.25899198\\\\\n",
       "\tWeight &  1.503712e+01 & 1.300029e+00 &  11.56676201 &  1.790759e-29 &  11.56676201\\\\\n",
       "\\end{tabular}\n"
      ],
      "text/markdown": [
       "\n",
       "A data.frame: 10 × 5\n",
       "\n",
       "| <!--/--> | Estimate &lt;dbl&gt; | Std. Error &lt;dbl&gt; | t value &lt;dbl&gt; | Pr(&gt;|t|) &lt;dbl&gt; | my_t_stat &lt;dbl&gt; |\n",
       "|---|---|---|---|---|---|\n",
       "| (Intercept) | -2.882537e+03 | 1.504804e+03 |  -1.91555684 |  5.564875e-02 |  -1.91555684 |\n",
       "| Age | -1.299451e+02 | 2.610276e+00 | -49.78213520 | 2.802533e-299 | -49.78213520 |\n",
       "| KM | -1.464727e-02 | 1.441421e-03 | -10.16168388 |  2.295236e-23 | -10.16168388 |\n",
       "| HP |  2.539843e+01 | 3.375622e+00 |   7.52407315 |  1.009200e-13 |   7.52407315 |\n",
       "| Metallic | -2.281278e+01 | 7.436117e+01 |  -0.30678348 |  7.590591e-01 |  -0.30678348 |\n",
       "| Automatic |  4.990580e+02 | 1.496871e+02 |   3.33400809 |  8.810432e-04 |   3.33400809 |\n",
       "| CC | -5.259189e-03 | 8.498812e-02 |  -0.06188146 |  9.506671e-01 |  -0.06188146 |\n",
       "| Doors |  1.315082e+01 | 4.086314e+01 |   0.32182598 |  7.476382e-01 |   0.32182598 |\n",
       "| Gears |  6.281485e+02 | 1.927432e+02 |   3.25899198 |  1.148079e-03 |   3.25899198 |\n",
       "| Weight |  1.503712e+01 | 1.300029e+00 |  11.56676201 |  1.790759e-29 |  11.56676201 |\n",
       "\n"
      ],
      "text/plain": [
       "            Estimate      Std. Error   t value      Pr(>|t|)      my_t_stat   \n",
       "(Intercept) -2.882537e+03 1.504804e+03  -1.91555684  5.564875e-02  -1.91555684\n",
       "Age         -1.299451e+02 2.610276e+00 -49.78213520 2.802533e-299 -49.78213520\n",
       "KM          -1.464727e-02 1.441421e-03 -10.16168388  2.295236e-23 -10.16168388\n",
       "HP           2.539843e+01 3.375622e+00   7.52407315  1.009200e-13   7.52407315\n",
       "Metallic    -2.281278e+01 7.436117e+01  -0.30678348  7.590591e-01  -0.30678348\n",
       "Automatic    4.990580e+02 1.496871e+02   3.33400809  8.810432e-04   3.33400809\n",
       "CC          -5.259189e-03 8.498812e-02  -0.06188146  9.506671e-01  -0.06188146\n",
       "Doors        1.315082e+01 4.086314e+01   0.32182598  7.476382e-01   0.32182598\n",
       "Gears        6.281485e+02 1.927432e+02   3.25899198  1.148079e-03   3.25899198\n",
       "Weight       1.503712e+01 1.300029e+00  11.56676201  1.790759e-29  11.56676201"
      ]
     },
     "metadata": {},
     "output_type": "display_data"
    }
   ],
   "source": [
    "first_model_coefs"
   ]
  },
  {
   "cell_type": "code",
   "execution_count": 102,
   "metadata": {
    "vscode": {
     "languageId": "r"
    }
   },
   "outputs": [],
   "source": [
    "first_models_degrees_of_freedom = first_price_lm_model$df.residual"
   ]
  },
  {
   "cell_type": "code",
   "execution_count": 103,
   "metadata": {
    "vscode": {
     "languageId": "r"
    }
   },
   "outputs": [
    {
     "data": {
      "text/html": [
       "1254"
      ],
      "text/latex": [
       "1254"
      ],
      "text/markdown": [
       "1254"
      ],
      "text/plain": [
       "[1] 1254"
      ]
     },
     "metadata": {},
     "output_type": "display_data"
    }
   ],
   "source": [
    "first_models_degrees_of_freedom"
   ]
  },
  {
   "cell_type": "code",
   "execution_count": 148,
   "metadata": {
    "vscode": {
     "languageId": "r"
    }
   },
   "outputs": [],
   "source": [
    "crit_value = qt(.975,first_models_degrees_of_freedom)"
   ]
  },
  {
   "cell_type": "code",
   "execution_count": 149,
   "metadata": {
    "vscode": {
     "languageId": "r"
    }
   },
   "outputs": [
    {
     "data": {
      "text/html": [
       "1.96185754407177"
      ],
      "text/latex": [
       "1.96185754407177"
      ],
      "text/markdown": [
       "1.96185754407177"
      ],
      "text/plain": [
       "[1] 1.961858"
      ]
     },
     "metadata": {},
     "output_type": "display_data"
    }
   ],
   "source": [
    "#check\n",
    "\n",
    "crit_value"
   ]
  },
  {
   "cell_type": "code",
   "execution_count": 158,
   "metadata": {
    "vscode": {
     "languageId": "r"
    }
   },
   "outputs": [],
   "source": [
    "#check\n",
    "\n",
    "first_model_coefs$my_p_value = 2 * ( 1-pt(abs(first_model_coefs[, 3]), first_models_degrees_of_freedom))"
   ]
  },
  {
   "cell_type": "code",
   "execution_count": null,
   "metadata": {
    "vscode": {
     "languageId": "r"
    }
   },
   "outputs": [],
   "source": [
    "2 * (1 - pt(abs(first_model_coefs[, 3]), first_models_degrees_of_freedom))"
   ]
  },
  {
   "cell_type": "code",
   "execution_count": 159,
   "metadata": {
    "vscode": {
     "languageId": "r"
    }
   },
   "outputs": [
    {
     "data": {
      "text/html": [
       "<table class=\"dataframe\">\n",
       "<caption>A data.frame: 10 × 6</caption>\n",
       "<thead>\n",
       "\t<tr><th></th><th scope=col>Estimate</th><th scope=col>Std. Error</th><th scope=col>t value</th><th scope=col>Pr(&gt;|t|)</th><th scope=col>my_t_stat</th><th scope=col>my_p_value</th></tr>\n",
       "\t<tr><th></th><th scope=col>&lt;dbl&gt;</th><th scope=col>&lt;dbl&gt;</th><th scope=col>&lt;dbl&gt;</th><th scope=col>&lt;dbl&gt;</th><th scope=col>&lt;dbl&gt;</th><th scope=col>&lt;dbl&gt;</th></tr>\n",
       "</thead>\n",
       "<tbody>\n",
       "\t<tr><th scope=row>(Intercept)</th><td>-2.882537e+03</td><td>1.504804e+03</td><td> -1.91555684</td><td> 5.564875e-02</td><td> -1.91555684</td><td>5.564875e-02</td></tr>\n",
       "\t<tr><th scope=row>Age</th><td>-1.299451e+02</td><td>2.610276e+00</td><td>-49.78213520</td><td>2.802533e-299</td><td>-49.78213520</td><td>0.000000e+00</td></tr>\n",
       "\t<tr><th scope=row>KM</th><td>-1.464727e-02</td><td>1.441421e-03</td><td>-10.16168388</td><td> 2.295236e-23</td><td>-10.16168388</td><td>0.000000e+00</td></tr>\n",
       "\t<tr><th scope=row>HP</th><td> 2.539843e+01</td><td>3.375622e+00</td><td>  7.52407315</td><td> 1.009200e-13</td><td>  7.52407315</td><td>1.008083e-13</td></tr>\n",
       "\t<tr><th scope=row>Metallic</th><td>-2.281278e+01</td><td>7.436117e+01</td><td> -0.30678348</td><td> 7.590591e-01</td><td> -0.30678348</td><td>7.590591e-01</td></tr>\n",
       "\t<tr><th scope=row>Automatic</th><td> 4.990580e+02</td><td>1.496871e+02</td><td>  3.33400809</td><td> 8.810432e-04</td><td>  3.33400809</td><td>8.810432e-04</td></tr>\n",
       "\t<tr><th scope=row>CC</th><td>-5.259189e-03</td><td>8.498812e-02</td><td> -0.06188146</td><td> 9.506671e-01</td><td> -0.06188146</td><td>9.506671e-01</td></tr>\n",
       "\t<tr><th scope=row>Doors</th><td> 1.315082e+01</td><td>4.086314e+01</td><td>  0.32182598</td><td> 7.476382e-01</td><td>  0.32182598</td><td>7.476382e-01</td></tr>\n",
       "\t<tr><th scope=row>Gears</th><td> 6.281485e+02</td><td>1.927432e+02</td><td>  3.25899198</td><td> 1.148079e-03</td><td>  3.25899198</td><td>1.148079e-03</td></tr>\n",
       "\t<tr><th scope=row>Weight</th><td> 1.503712e+01</td><td>1.300029e+00</td><td> 11.56676201</td><td> 1.790759e-29</td><td> 11.56676201</td><td>0.000000e+00</td></tr>\n",
       "</tbody>\n",
       "</table>\n"
      ],
      "text/latex": [
       "A data.frame: 10 × 6\n",
       "\\begin{tabular}{r|llllll}\n",
       "  & Estimate & Std. Error & t value & Pr(>\\textbar{}t\\textbar{}) & my\\_t\\_stat & my\\_p\\_value\\\\\n",
       "  & <dbl> & <dbl> & <dbl> & <dbl> & <dbl> & <dbl>\\\\\n",
       "\\hline\n",
       "\t(Intercept) & -2.882537e+03 & 1.504804e+03 &  -1.91555684 &  5.564875e-02 &  -1.91555684 & 5.564875e-02\\\\\n",
       "\tAge & -1.299451e+02 & 2.610276e+00 & -49.78213520 & 2.802533e-299 & -49.78213520 & 0.000000e+00\\\\\n",
       "\tKM & -1.464727e-02 & 1.441421e-03 & -10.16168388 &  2.295236e-23 & -10.16168388 & 0.000000e+00\\\\\n",
       "\tHP &  2.539843e+01 & 3.375622e+00 &   7.52407315 &  1.009200e-13 &   7.52407315 & 1.008083e-13\\\\\n",
       "\tMetallic & -2.281278e+01 & 7.436117e+01 &  -0.30678348 &  7.590591e-01 &  -0.30678348 & 7.590591e-01\\\\\n",
       "\tAutomatic &  4.990580e+02 & 1.496871e+02 &   3.33400809 &  8.810432e-04 &   3.33400809 & 8.810432e-04\\\\\n",
       "\tCC & -5.259189e-03 & 8.498812e-02 &  -0.06188146 &  9.506671e-01 &  -0.06188146 & 9.506671e-01\\\\\n",
       "\tDoors &  1.315082e+01 & 4.086314e+01 &   0.32182598 &  7.476382e-01 &   0.32182598 & 7.476382e-01\\\\\n",
       "\tGears &  6.281485e+02 & 1.927432e+02 &   3.25899198 &  1.148079e-03 &   3.25899198 & 1.148079e-03\\\\\n",
       "\tWeight &  1.503712e+01 & 1.300029e+00 &  11.56676201 &  1.790759e-29 &  11.56676201 & 0.000000e+00\\\\\n",
       "\\end{tabular}\n"
      ],
      "text/markdown": [
       "\n",
       "A data.frame: 10 × 6\n",
       "\n",
       "| <!--/--> | Estimate &lt;dbl&gt; | Std. Error &lt;dbl&gt; | t value &lt;dbl&gt; | Pr(&gt;|t|) &lt;dbl&gt; | my_t_stat &lt;dbl&gt; | my_p_value &lt;dbl&gt; |\n",
       "|---|---|---|---|---|---|---|\n",
       "| (Intercept) | -2.882537e+03 | 1.504804e+03 |  -1.91555684 |  5.564875e-02 |  -1.91555684 | 5.564875e-02 |\n",
       "| Age | -1.299451e+02 | 2.610276e+00 | -49.78213520 | 2.802533e-299 | -49.78213520 | 0.000000e+00 |\n",
       "| KM | -1.464727e-02 | 1.441421e-03 | -10.16168388 |  2.295236e-23 | -10.16168388 | 0.000000e+00 |\n",
       "| HP |  2.539843e+01 | 3.375622e+00 |   7.52407315 |  1.009200e-13 |   7.52407315 | 1.008083e-13 |\n",
       "| Metallic | -2.281278e+01 | 7.436117e+01 |  -0.30678348 |  7.590591e-01 |  -0.30678348 | 7.590591e-01 |\n",
       "| Automatic |  4.990580e+02 | 1.496871e+02 |   3.33400809 |  8.810432e-04 |   3.33400809 | 8.810432e-04 |\n",
       "| CC | -5.259189e-03 | 8.498812e-02 |  -0.06188146 |  9.506671e-01 |  -0.06188146 | 9.506671e-01 |\n",
       "| Doors |  1.315082e+01 | 4.086314e+01 |   0.32182598 |  7.476382e-01 |   0.32182598 | 7.476382e-01 |\n",
       "| Gears |  6.281485e+02 | 1.927432e+02 |   3.25899198 |  1.148079e-03 |   3.25899198 | 1.148079e-03 |\n",
       "| Weight |  1.503712e+01 | 1.300029e+00 |  11.56676201 |  1.790759e-29 |  11.56676201 | 0.000000e+00 |\n",
       "\n"
      ],
      "text/plain": [
       "            Estimate      Std. Error   t value      Pr(>|t|)      my_t_stat   \n",
       "(Intercept) -2.882537e+03 1.504804e+03  -1.91555684  5.564875e-02  -1.91555684\n",
       "Age         -1.299451e+02 2.610276e+00 -49.78213520 2.802533e-299 -49.78213520\n",
       "KM          -1.464727e-02 1.441421e-03 -10.16168388  2.295236e-23 -10.16168388\n",
       "HP           2.539843e+01 3.375622e+00   7.52407315  1.009200e-13   7.52407315\n",
       "Metallic    -2.281278e+01 7.436117e+01  -0.30678348  7.590591e-01  -0.30678348\n",
       "Automatic    4.990580e+02 1.496871e+02   3.33400809  8.810432e-04   3.33400809\n",
       "CC          -5.259189e-03 8.498812e-02  -0.06188146  9.506671e-01  -0.06188146\n",
       "Doors        1.315082e+01 4.086314e+01   0.32182598  7.476382e-01   0.32182598\n",
       "Gears        6.281485e+02 1.927432e+02   3.25899198  1.148079e-03   3.25899198\n",
       "Weight       1.503712e+01 1.300029e+00  11.56676201  1.790759e-29  11.56676201\n",
       "            my_p_value  \n",
       "(Intercept) 5.564875e-02\n",
       "Age         0.000000e+00\n",
       "KM          0.000000e+00\n",
       "HP          1.008083e-13\n",
       "Metallic    7.590591e-01\n",
       "Automatic   8.810432e-04\n",
       "CC          9.506671e-01\n",
       "Doors       7.476382e-01\n",
       "Gears       1.148079e-03\n",
       "Weight      0.000000e+00"
      ]
     },
     "metadata": {},
     "output_type": "display_data"
    }
   ],
   "source": [
    "first_model_coefs"
   ]
  },
  {
   "cell_type": "markdown",
   "metadata": {},
   "source": [
    "Rsquared and VIF\n"
   ]
  },
  {
   "cell_type": "code",
   "execution_count": 108,
   "metadata": {
    "vscode": {
     "languageId": "r"
    }
   },
   "outputs": [],
   "source": [
    "sse = sum((fitted(first_price_lm_model)- car_data$Price)^2)\n",
    "\n",
    "ssr = sum((fitted(first_price_lm_model)-mean(car_data$Price))^2)"
   ]
  },
  {
   "cell_type": "code",
   "execution_count": 109,
   "metadata": {
    "vscode": {
     "languageId": "r"
    }
   },
   "outputs": [
    {
     "data": {
      "text/html": [
       "0.864867726797135"
      ],
      "text/latex": [
       "0.864867726797135"
      ],
      "text/markdown": [
       "0.864867726797135"
      ],
      "text/plain": [
       "[1] 0.8648677"
      ]
     },
     "metadata": {},
     "output_type": "display_data"
    }
   ],
   "source": [
    "1-(sse/(sse+ssr))"
   ]
  },
  {
   "cell_type": "code",
   "execution_count": 142,
   "metadata": {
    "vscode": {
     "languageId": "r"
    }
   },
   "outputs": [
    {
     "data": {
      "text/html": [
       "13976510322.4304"
      ],
      "text/latex": [
       "13976510322.4304"
      ],
      "text/markdown": [
       "13976510322.4304"
      ],
      "text/plain": [
       "[1] 13976510322"
      ]
     },
     "metadata": {},
     "output_type": "display_data"
    }
   ],
   "source": [
    "sse+ssr"
   ]
  },
  {
   "cell_type": "code",
   "execution_count": 144,
   "metadata": {
    "vscode": {
     "languageId": "r"
    }
   },
   "outputs": [
    {
     "data": {
      "text/html": [
       "1264"
      ],
      "text/latex": [
       "1264"
      ],
      "text/markdown": [
       "1264"
      ],
      "text/plain": [
       "[1] 1264"
      ]
     },
     "metadata": {},
     "output_type": "display_data"
    }
   ],
   "source": [
    "nrow(car_data)"
   ]
  },
  {
   "cell_type": "code",
   "execution_count": 145,
   "metadata": {
    "vscode": {
     "languageId": "r"
    }
   },
   "outputs": [
    {
     "data": {
      "text/html": [
       "13976510322.4304"
      ],
      "text/latex": [
       "13976510322.4304"
      ],
      "text/markdown": [
       "13976510322.4304"
      ],
      "text/plain": [
       "[1] 13976510322"
      ]
     },
     "metadata": {},
     "output_type": "display_data"
    }
   ],
   "source": [
    "var(car_data$Price)*1263"
   ]
  },
  {
   "cell_type": "code",
   "execution_count": 110,
   "metadata": {
    "vscode": {
     "languageId": "r"
    }
   },
   "outputs": [],
   "source": [
    "library(car)"
   ]
  },
  {
   "cell_type": "code",
   "execution_count": 111,
   "metadata": {
    "vscode": {
     "languageId": "r"
    }
   },
   "outputs": [
    {
     "data": {
      "text/html": [
       "<style>\n",
       ".dl-inline {width: auto; margin:0; padding: 0}\n",
       ".dl-inline>dt, .dl-inline>dd {float: none; width: auto; display: inline-block}\n",
       ".dl-inline>dt::after {content: \":\\0020\"; padding-right: .5ex}\n",
       ".dl-inline>dt:not(:first-of-type) {padding-left: .5ex}\n",
       "</style><dl class=dl-inline><dt>Age</dt><dd>1.91477224549513</dd><dt>KM</dt><dd>1.58629885672293</dd><dt>HP</dt><dd>1.54852090052804</dd><dt>Metallic</dt><dd>1.01701366816327</dd><dt>Automatic</dt><dd>1.10181043028758</dd><dt>CC</dt><dd>1.10430744169465</dd><dt>Doors</dt><dd>1.26974891523712</dd><dt>Gears</dt><dd>1.12961833531863</dd><dt>Weight</dt><dd>2.09654097244502</dd></dl>\n"
      ],
      "text/latex": [
       "\\begin{description*}\n",
       "\\item[Age] 1.91477224549513\n",
       "\\item[KM] 1.58629885672293\n",
       "\\item[HP] 1.54852090052804\n",
       "\\item[Metallic] 1.01701366816327\n",
       "\\item[Automatic] 1.10181043028758\n",
       "\\item[CC] 1.10430744169465\n",
       "\\item[Doors] 1.26974891523712\n",
       "\\item[Gears] 1.12961833531863\n",
       "\\item[Weight] 2.09654097244502\n",
       "\\end{description*}\n"
      ],
      "text/markdown": [
       "Age\n",
       ":   1.91477224549513KM\n",
       ":   1.58629885672293HP\n",
       ":   1.54852090052804Metallic\n",
       ":   1.01701366816327Automatic\n",
       ":   1.10181043028758CC\n",
       ":   1.10430744169465Doors\n",
       ":   1.26974891523712Gears\n",
       ":   1.12961833531863Weight\n",
       ":   2.09654097244502\n",
       "\n"
      ],
      "text/plain": [
       "      Age        KM        HP  Metallic Automatic        CC     Doors     Gears \n",
       " 1.914772  1.586299  1.548521  1.017014  1.101810  1.104307  1.269749  1.129618 \n",
       "   Weight \n",
       " 2.096541 "
      ]
     },
     "metadata": {},
     "output_type": "display_data"
    }
   ],
   "source": [
    "vif(first_price_lm_model)"
   ]
  },
  {
   "cell_type": "code",
   "execution_count": 133,
   "metadata": {
    "vscode": {
     "languageId": "r"
    }
   },
   "outputs": [],
   "source": [
    "weight_lm = lm(Weight~Age+KM+HP+Metallic+Automatic+CC+Doors+Gears,data = car_data)"
   ]
  },
  {
   "cell_type": "code",
   "execution_count": 135,
   "metadata": {
    "vscode": {
     "languageId": "r"
    }
   },
   "outputs": [
    {
     "data": {
      "text/plain": [
       "\n",
       "Call:\n",
       "lm(formula = Weight ~ Age + KM + HP + Metallic + Automatic + \n",
       "    CC + Doors + Gears, data = car_data)\n",
       "\n",
       "Residuals:\n",
       "   Min     1Q Median     3Q    Max \n",
       "-62.22 -12.80  -0.52   7.99 527.97 \n",
       "\n",
       "Coefficients:\n",
       "              Estimate Std. Error t value Pr(>|t|)    \n",
       "(Intercept)  8.739e+02  2.143e+01  40.784   <2e-16 ***\n",
       "Age         -7.322e-01  5.278e-02 -13.873   <2e-16 ***\n",
       "KM          -1.229e-06  3.130e-05  -0.039   0.9687    \n",
       "HP           1.210e+00  6.486e-02  18.651   <2e-16 ***\n",
       "Metallic    -1.061e+00  1.614e+00  -0.657   0.5112    \n",
       "Automatic    2.953e+01  3.142e+00   9.399   <2e-16 ***\n",
       "CC           3.710e-03  1.842e-03   2.014   0.0443 *  \n",
       "Doors        1.174e+01  8.231e-01  14.261   <2e-16 ***\n",
       "Gears        9.766e+00  4.176e+00   2.339   0.0195 *  \n",
       "---\n",
       "Signif. codes:  0 '***' 0.001 '**' 0.01 '*' 0.05 '.' 0.1 ' ' 1\n",
       "\n",
       "Residual standard error: 26.65 on 1255 degrees of freedom\n",
       "Multiple R-squared:  0.523,\tAdjusted R-squared:   0.52 \n",
       "F-statistic:   172 on 8 and 1255 DF,  p-value: < 2.2e-16\n"
      ]
     },
     "metadata": {},
     "output_type": "display_data"
    }
   ],
   "source": [
    "summary(weight_lm)"
   ]
  },
  {
   "cell_type": "code",
   "execution_count": 136,
   "metadata": {
    "vscode": {
     "languageId": "r"
    }
   },
   "outputs": [],
   "source": [
    "weight_r_squared =summary(weight_lm)$r.squared"
   ]
  },
  {
   "cell_type": "code",
   "execution_count": 137,
   "metadata": {
    "vscode": {
     "languageId": "r"
    }
   },
   "outputs": [
    {
     "data": {
      "text/html": [
       "0.523023869724915"
      ],
      "text/latex": [
       "0.523023869724915"
      ],
      "text/markdown": [
       "0.523023869724915"
      ],
      "text/plain": [
       "[1] 0.5230239"
      ]
     },
     "metadata": {},
     "output_type": "display_data"
    }
   ],
   "source": [
    "weight_r_squared"
   ]
  },
  {
   "cell_type": "code",
   "execution_count": 119,
   "metadata": {
    "vscode": {
     "languageId": "r"
    }
   },
   "outputs": [
    {
     "data": {
      "text/html": [
       "2.09654097244504"
      ],
      "text/latex": [
       "2.09654097244504"
      ],
      "text/markdown": [
       "2.09654097244504"
      ],
      "text/plain": [
       "[1] 2.096541"
      ]
     },
     "metadata": {},
     "output_type": "display_data"
    }
   ],
   "source": [
    "1/(1-weight_r_squared)"
   ]
  },
  {
   "cell_type": "code",
   "execution_count": 138,
   "metadata": {
    "vscode": {
     "languageId": "r"
    }
   },
   "outputs": [],
   "source": [
    "second_lm_price = lm(Price~Age+KM+HP+Automatic+Gears+Weight,data = car_data)"
   ]
  },
  {
   "cell_type": "code",
   "execution_count": 139,
   "metadata": {
    "vscode": {
     "languageId": "r"
    }
   },
   "outputs": [
    {
     "data": {
      "text/plain": [
       "\n",
       "Call:\n",
       "lm(formula = Price ~ Age + KM + HP + Automatic + Gears + Weight, \n",
       "    data = car_data)\n",
       "\n",
       "Residuals:\n",
       "    Min      1Q  Median      3Q     Max \n",
       "-8193.8  -772.8   -47.9   703.3  6402.3 \n",
       "\n",
       "Coefficients:\n",
       "              Estimate Std. Error t value Pr(>|t|)    \n",
       "(Intercept) -2.930e+03  1.498e+03  -1.956 0.050666 .  \n",
       "Age         -1.299e+02  2.600e+00 -49.942  < 2e-16 ***\n",
       "KM          -1.463e-02  1.439e-03 -10.170  < 2e-16 ***\n",
       "HP           2.527e+01  3.294e+00   7.671  3.4e-14 ***\n",
       "Automatic    4.930e+02  1.476e+02   3.341 0.000861 ***\n",
       "Gears        6.139e+02  1.876e+02   3.272 0.001098 ** \n",
       "Weight       1.519e+01  1.202e+00  12.637  < 2e-16 ***\n",
       "---\n",
       "Signif. codes:  0 '***' 0.001 '**' 0.01 '*' 0.05 '.' 0.1 ' ' 1\n",
       "\n",
       "Residual standard error: 1226 on 1257 degrees of freedom\n",
       "Multiple R-squared:  0.8648,\tAdjusted R-squared:  0.8642 \n",
       "F-statistic:  1341 on 6 and 1257 DF,  p-value: < 2.2e-16\n"
      ]
     },
     "metadata": {},
     "output_type": "display_data"
    }
   ],
   "source": [
    "summary(second_lm_price)"
   ]
  },
  {
   "cell_type": "code",
   "execution_count": 132,
   "metadata": {
    "vscode": {
     "languageId": "r"
    }
   },
   "outputs": [
    {
     "data": {
      "text/html": [
       "0.864202246234989"
      ],
      "text/latex": [
       "0.864202246234989"
      ],
      "text/markdown": [
       "0.864202246234989"
      ],
      "text/plain": [
       "[1] 0.8642022"
      ]
     },
     "metadata": {},
     "output_type": "display_data"
    }
   ],
   "source": [
    "summary(second_lm_price)$adj.r.squared"
   ]
  },
  {
   "cell_type": "code",
   "execution_count": null,
   "metadata": {
    "vscode": {
     "languageId": "r"
    }
   },
   "outputs": [],
   "source": []
  }
 ],
 "metadata": {
  "kernelspec": {
   "display_name": "R",
   "language": "R",
   "name": "ir"
  },
  "language_info": {
   "codemirror_mode": "r",
   "file_extension": ".r",
   "mimetype": "text/x-r-source",
   "name": "R",
   "pygments_lexer": "r",
   "version": "4.3.2"
  }
 },
 "nbformat": 4,
 "nbformat_minor": 2
}
