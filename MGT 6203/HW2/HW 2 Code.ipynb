{
 "cells": [
  {
   "cell_type": "code",
   "execution_count": 2,
   "metadata": {
    "vscode": {
     "languageId": "r"
    }
   },
   "outputs": [
    {
     "name": "stderr",
     "output_type": "stream",
     "text": [
      "Warning message:\n",
      "\"package 'PerformanceAnalytics' was built under R version 4.3.3\"\n",
      "Loading required package: xts\n",
      "\n",
      "Warning message:\n",
      "\"package 'xts' was built under R version 4.3.3\"\n",
      "Loading required package: zoo\n",
      "\n",
      "Warning message:\n",
      "\"package 'zoo' was built under R version 4.3.3\"\n",
      "\n",
      "Attaching package: 'zoo'\n",
      "\n",
      "\n",
      "The following objects are masked from 'package:base':\n",
      "\n",
      "    as.Date, as.Date.numeric\n",
      "\n",
      "\n",
      "\n",
      "Attaching package: 'PerformanceAnalytics'\n",
      "\n",
      "\n",
      "The following object is masked from 'package:graphics':\n",
      "\n",
      "    legend\n",
      "\n",
      "\n",
      "\n",
      "Attaching package: 'lubridate'\n",
      "\n",
      "\n",
      "The following objects are masked from 'package:base':\n",
      "\n",
      "    date, intersect, setdiff, union\n",
      "\n",
      "\n",
      "\n",
      "######################### Warning from 'xts' package ##########################\n",
      "#                                                                             #\n",
      "# The dplyr lag() function breaks how base R's lag() function is supposed to  #\n",
      "# work, which breaks lag(my_xts). Calls to lag(my_xts) that you type or       #\n",
      "# source() into this session won't work correctly.                            #\n",
      "#                                                                             #\n",
      "# Use stats::lag() to make sure you're not using dplyr::lag(), or you can add #\n",
      "# conflictRules('dplyr', exclude = 'lag') to your .Rprofile to stop           #\n",
      "# dplyr from breaking base R's lag() function.                                #\n",
      "#                                                                             #\n",
      "# Code in packages is not affected. It's protected by R's namespace mechanism #\n",
      "# Set `options(xts.warn_dplyr_breaks_lag = FALSE)` to suppress this warning.  #\n",
      "#                                                                             #\n",
      "###############################################################################\n",
      "\n",
      "\n",
      "Attaching package: 'dplyr'\n",
      "\n",
      "\n",
      "The following objects are masked from 'package:xts':\n",
      "\n",
      "    first, last\n",
      "\n",
      "\n",
      "The following objects are masked from 'package:stats':\n",
      "\n",
      "    filter, lag\n",
      "\n",
      "\n",
      "The following objects are masked from 'package:base':\n",
      "\n",
      "    intersect, setdiff, setequal, union\n",
      "\n",
      "\n",
      "\n",
      "Attaching package: 'data.table'\n",
      "\n",
      "\n",
      "The following objects are masked from 'package:dplyr':\n",
      "\n",
      "    between, first, last\n",
      "\n",
      "\n",
      "The following objects are masked from 'package:lubridate':\n",
      "\n",
      "    hour, isoweek, mday, minute, month, quarter, second, wday, week,\n",
      "    yday, year\n",
      "\n",
      "\n",
      "The following objects are masked from 'package:xts':\n",
      "\n",
      "    first, last\n",
      "\n",
      "\n"
     ]
    }
   ],
   "source": [
    "library(PerformanceAnalytics)\n",
    "library(xts)\n",
    "library(lubridate)\n",
    "library(dplyr)\n",
    "library(data.table)\n",
    "library(tidyr)"
   ]
  },
  {
   "cell_type": "code",
   "execution_count": 3,
   "metadata": {
    "vscode": {
     "languageId": "r"
    }
   },
   "outputs": [],
   "source": [
    "apple_data = read.csv(\"Module_06_Data/AAPL.csv\")\n",
    "amc_data = read.csv(\"Module_06_Data/AMC.csv\")\n",
    "amzn_data = read.csv(\"Module_06_Data/AMZN.csv\")\n",
    "cost_data = read.csv(\"Module_06_Data/COST.csv\")\n",
    "gspc_data = read.csv(\"Module_06_Data/gspc.csv\")\n",
    "msft_data = read.csv(\"Module_06_Data/MSFT.csv\")\n",
    "nvda_data = read.csv(\"Module_06_Data/NVDA.csv\")\n",
    "tgt_data = read.csv(\"Module_06_Data/TGT.csv\")\n",
    "wmt_data = read.csv(\"Module_06_Data/WMT.csv\")\n",
    "\n",
    "\n",
    "\n",
    "stock_df_list = stock_df_list = list(\n",
    "  AAPL = apple_data,\n",
    "  AMC = amc_data,\n",
    "  AMZN = amzn_data,\n",
    "  COST = cost_data,\n",
    "  GSPC = gspc_data,\n",
    "  MSFT = msft_data,\n",
    "  NVDA = nvda_data,\n",
    "  TGT = tgt_data,\n",
    "  WMT = wmt_data\n",
    ")\n"
   ]
  },
  {
   "cell_type": "code",
   "execution_count": 4,
   "metadata": {
    "vscode": {
     "languageId": "r"
    }
   },
   "outputs": [],
   "source": [
    "\n",
    "apple_return <- as.vector(apple_data$Return)\n",
    "amc_return <- as.vector(amc_data$Return)\n",
    "amzn_return <-as.vector(amzn_data$Return)\n",
    "cost_return= as.vector(cost_data$Return)\n",
    "gspc_return=as.vector(gspc_data$Return)\n",
    "msft_return=as.vector(msft_data$Return)\n",
    "nvda_return=as.vector(nvda_data$Return)\n",
    "tgt_return=as.vector(tgt_data$Return)\n",
    "wmt_return=as.vector(wmt_data$Return)\n",
    "dates = as.vector(apple_data$Date)\n",
    "\n",
    "stockprice_df <- as.data.frame(cbind(dates,apple_return, amc_return, amzn_return,cost_return,gspc_return,msft_return,nvda_return,tgt_return,wmt_return))\n",
    "\n",
    "stockprice_df$Date <- as.Date(stockprice_df$dates)"
   ]
  },
  {
   "cell_type": "code",
   "execution_count": 6,
   "metadata": {
    "vscode": {
     "languageId": "r"
    }
   },
   "outputs": [],
   "source": [
    "#nov_2023 %>% stockprice_df[stockprice_df[\"Date\"]==\"2023-10-31\"]"
   ]
  },
  {
   "cell_type": "code",
   "execution_count": 105,
   "metadata": {
    "vscode": {
     "languageId": "r"
    }
   },
   "outputs": [],
   "source": [
    "filtered_df = filter(stockprice_df,dates==\"2023-11-30\")\n",
    "melted_df <- pivot_longer(filtered_df, cols = -Date, names_to = \"variable\", values_to = \"value\")"
   ]
  },
  {
   "cell_type": "code",
   "execution_count": 106,
   "metadata": {
    "vscode": {
     "languageId": "r"
    }
   },
   "outputs": [
    {
     "data": {
      "text/html": [
       "<table class=\"dataframe\">\n",
       "<caption>A tibble: 10 × 3</caption>\n",
       "<thead>\n",
       "\t<tr><th scope=col>Date</th><th scope=col>variable</th><th scope=col>value</th></tr>\n",
       "\t<tr><th scope=col>&lt;date&gt;</th><th scope=col>&lt;chr&gt;</th><th scope=col>&lt;chr&gt;</th></tr>\n",
       "</thead>\n",
       "<tbody>\n",
       "\t<tr><td>2023-11-30</td><td>dates       </td><td>2023-11-30  </td></tr>\n",
       "\t<tr><td>2023-11-30</td><td>apple_return</td><td>0.113780227 </td></tr>\n",
       "\t<tr><td>2023-11-30</td><td>amc_return  </td><td>-0.377340833</td></tr>\n",
       "\t<tr><td>2023-11-30</td><td>amzn_return </td><td>0.097678266 </td></tr>\n",
       "\t<tr><td>2023-11-30</td><td>cost_return </td><td>0.074918007 </td></tr>\n",
       "\t<tr><td>2023-11-30</td><td>gspc_return </td><td>0.089179269 </td></tr>\n",
       "\t<tr><td>2023-11-30</td><td>msft_return </td><td>0.122945396 </td></tr>\n",
       "\t<tr><td>2023-11-30</td><td>nvda_return </td><td>0.146885739 </td></tr>\n",
       "\t<tr><td>2023-11-30</td><td>tgt_return  </td><td>0.22029046  </td></tr>\n",
       "\t<tr><td>2023-11-30</td><td>wmt_return  </td><td>-0.047243146</td></tr>\n",
       "</tbody>\n",
       "</table>\n"
      ],
      "text/latex": [
       "A tibble: 10 × 3\n",
       "\\begin{tabular}{lll}\n",
       " Date & variable & value\\\\\n",
       " <date> & <chr> & <chr>\\\\\n",
       "\\hline\n",
       "\t 2023-11-30 & dates        & 2023-11-30  \\\\\n",
       "\t 2023-11-30 & apple\\_return & 0.113780227 \\\\\n",
       "\t 2023-11-30 & amc\\_return   & -0.377340833\\\\\n",
       "\t 2023-11-30 & amzn\\_return  & 0.097678266 \\\\\n",
       "\t 2023-11-30 & cost\\_return  & 0.074918007 \\\\\n",
       "\t 2023-11-30 & gspc\\_return  & 0.089179269 \\\\\n",
       "\t 2023-11-30 & msft\\_return  & 0.122945396 \\\\\n",
       "\t 2023-11-30 & nvda\\_return  & 0.146885739 \\\\\n",
       "\t 2023-11-30 & tgt\\_return   & 0.22029046  \\\\\n",
       "\t 2023-11-30 & wmt\\_return   & -0.047243146\\\\\n",
       "\\end{tabular}\n"
      ],
      "text/markdown": [
       "\n",
       "A tibble: 10 × 3\n",
       "\n",
       "| Date &lt;date&gt; | variable &lt;chr&gt; | value &lt;chr&gt; |\n",
       "|---|---|---|\n",
       "| 2023-11-30 | dates        | 2023-11-30   |\n",
       "| 2023-11-30 | apple_return | 0.113780227  |\n",
       "| 2023-11-30 | amc_return   | -0.377340833 |\n",
       "| 2023-11-30 | amzn_return  | 0.097678266  |\n",
       "| 2023-11-30 | cost_return  | 0.074918007  |\n",
       "| 2023-11-30 | gspc_return  | 0.089179269  |\n",
       "| 2023-11-30 | msft_return  | 0.122945396  |\n",
       "| 2023-11-30 | nvda_return  | 0.146885739  |\n",
       "| 2023-11-30 | tgt_return   | 0.22029046   |\n",
       "| 2023-11-30 | wmt_return   | -0.047243146 |\n",
       "\n"
      ],
      "text/plain": [
       "   Date       variable     value       \n",
       "1  2023-11-30 dates        2023-11-30  \n",
       "2  2023-11-30 apple_return 0.113780227 \n",
       "3  2023-11-30 amc_return   -0.377340833\n",
       "4  2023-11-30 amzn_return  0.097678266 \n",
       "5  2023-11-30 cost_return  0.074918007 \n",
       "6  2023-11-30 gspc_return  0.089179269 \n",
       "7  2023-11-30 msft_return  0.122945396 \n",
       "8  2023-11-30 nvda_return  0.146885739 \n",
       "9  2023-11-30 tgt_return   0.22029046  \n",
       "10 2023-11-30 wmt_return   -0.047243146"
      ]
     },
     "metadata": {},
     "output_type": "display_data"
    }
   ],
   "source": [
    "melted_df"
   ]
  },
  {
   "cell_type": "code",
   "execution_count": 107,
   "metadata": {
    "vscode": {
     "languageId": "r"
    }
   },
   "outputs": [
    {
     "data": {
      "text/html": [
       "<table class=\"dataframe\">\n",
       "<caption>A tibble: 10 × 3</caption>\n",
       "<thead>\n",
       "\t<tr><th scope=col>Date</th><th scope=col>variable</th><th scope=col>value</th></tr>\n",
       "\t<tr><th scope=col>&lt;date&gt;</th><th scope=col>&lt;chr&gt;</th><th scope=col>&lt;chr&gt;</th></tr>\n",
       "</thead>\n",
       "<tbody>\n",
       "\t<tr><td>2023-10-31</td><td>dates       </td><td>2023-10-31  </td></tr>\n",
       "\t<tr><td>2023-10-31</td><td>apple_return</td><td>-0.002569851</td></tr>\n",
       "\t<tr><td>2023-10-31</td><td>amc_return  </td><td>0.336670915 </td></tr>\n",
       "\t<tr><td>2023-10-31</td><td>amzn_return </td><td>0.046963448 </td></tr>\n",
       "\t<tr><td>2023-10-31</td><td>cost_return </td><td>-0.02216071 </td></tr>\n",
       "\t<tr><td>2023-10-31</td><td>gspc_return </td><td>-0.021979689</td></tr>\n",
       "\t<tr><td>2023-10-31</td><td>msft_return </td><td>0.070815336 </td></tr>\n",
       "\t<tr><td>2023-10-31</td><td>nvda_return </td><td>-0.062507193</td></tr>\n",
       "\t<tr><td>2023-10-31</td><td>tgt_return  </td><td>0.00198966  </td></tr>\n",
       "\t<tr><td>2023-10-31</td><td>wmt_return  </td><td>0.021759538 </td></tr>\n",
       "</tbody>\n",
       "</table>\n"
      ],
      "text/latex": [
       "A tibble: 10 × 3\n",
       "\\begin{tabular}{lll}\n",
       " Date & variable & value\\\\\n",
       " <date> & <chr> & <chr>\\\\\n",
       "\\hline\n",
       "\t 2023-10-31 & dates        & 2023-10-31  \\\\\n",
       "\t 2023-10-31 & apple\\_return & -0.002569851\\\\\n",
       "\t 2023-10-31 & amc\\_return   & 0.336670915 \\\\\n",
       "\t 2023-10-31 & amzn\\_return  & 0.046963448 \\\\\n",
       "\t 2023-10-31 & cost\\_return  & -0.02216071 \\\\\n",
       "\t 2023-10-31 & gspc\\_return  & -0.021979689\\\\\n",
       "\t 2023-10-31 & msft\\_return  & 0.070815336 \\\\\n",
       "\t 2023-10-31 & nvda\\_return  & -0.062507193\\\\\n",
       "\t 2023-10-31 & tgt\\_return   & 0.00198966  \\\\\n",
       "\t 2023-10-31 & wmt\\_return   & 0.021759538 \\\\\n",
       "\\end{tabular}\n"
      ],
      "text/markdown": [
       "\n",
       "A tibble: 10 × 3\n",
       "\n",
       "| Date &lt;date&gt; | variable &lt;chr&gt; | value &lt;chr&gt; |\n",
       "|---|---|---|\n",
       "| 2023-10-31 | dates        | 2023-10-31   |\n",
       "| 2023-10-31 | apple_return | -0.002569851 |\n",
       "| 2023-10-31 | amc_return   | 0.336670915  |\n",
       "| 2023-10-31 | amzn_return  | 0.046963448  |\n",
       "| 2023-10-31 | cost_return  | -0.02216071  |\n",
       "| 2023-10-31 | gspc_return  | -0.021979689 |\n",
       "| 2023-10-31 | msft_return  | 0.070815336  |\n",
       "| 2023-10-31 | nvda_return  | -0.062507193 |\n",
       "| 2023-10-31 | tgt_return   | 0.00198966   |\n",
       "| 2023-10-31 | wmt_return   | 0.021759538  |\n",
       "\n"
      ],
      "text/plain": [
       "   Date       variable     value       \n",
       "1  2023-10-31 dates        2023-10-31  \n",
       "2  2023-10-31 apple_return -0.002569851\n",
       "3  2023-10-31 amc_return   0.336670915 \n",
       "4  2023-10-31 amzn_return  0.046963448 \n",
       "5  2023-10-31 cost_return  -0.02216071 \n",
       "6  2023-10-31 gspc_return  -0.021979689\n",
       "7  2023-10-31 msft_return  0.070815336 \n",
       "8  2023-10-31 nvda_return  -0.062507193\n",
       "9  2023-10-31 tgt_return   0.00198966  \n",
       "10 2023-10-31 wmt_return   0.021759538 "
      ]
     },
     "metadata": {},
     "output_type": "display_data"
    }
   ],
   "source": [
    "filtered_df = filter(stockprice_df,dates==\"2023-10-31\")\n",
    "melted_df <- pivot_longer(filtered_df, cols = -Date, names_to = \"variable\", values_to = \"value\")\n",
    "\n",
    "melted_df"
   ]
  },
  {
   "cell_type": "code",
   "execution_count": 9,
   "metadata": {
    "vscode": {
     "languageId": "r"
    }
   },
   "outputs": [
    {
     "name": "stderr",
     "output_type": "stream",
     "text": [
      "Warning message in which.max(melted_df$value):\n",
      "\"NAs introduced by coercion\"\n"
     ]
    },
    {
     "data": {
      "text/html": [
       "<table class=\"dataframe\">\n",
       "<caption>A tibble: 1 × 3</caption>\n",
       "<thead>\n",
       "\t<tr><th scope=col>Date</th><th scope=col>variable</th><th scope=col>value</th></tr>\n",
       "\t<tr><th scope=col>&lt;date&gt;</th><th scope=col>&lt;chr&gt;</th><th scope=col>&lt;chr&gt;</th></tr>\n",
       "</thead>\n",
       "<tbody>\n",
       "\t<tr><td>2023-10-31</td><td>amc_return</td><td>0.336670915</td></tr>\n",
       "</tbody>\n",
       "</table>\n"
      ],
      "text/latex": [
       "A tibble: 1 × 3\n",
       "\\begin{tabular}{lll}\n",
       " Date & variable & value\\\\\n",
       " <date> & <chr> & <chr>\\\\\n",
       "\\hline\n",
       "\t 2023-10-31 & amc\\_return & 0.336670915\\\\\n",
       "\\end{tabular}\n"
      ],
      "text/markdown": [
       "\n",
       "A tibble: 1 × 3\n",
       "\n",
       "| Date &lt;date&gt; | variable &lt;chr&gt; | value &lt;chr&gt; |\n",
       "|---|---|---|\n",
       "| 2023-10-31 | amc_return | 0.336670915 |\n",
       "\n"
      ],
      "text/plain": [
       "  Date       variable   value      \n",
       "1 2023-10-31 amc_return 0.336670915"
      ]
     },
     "metadata": {},
     "output_type": "display_data"
    }
   ],
   "source": [
    "max_index_nov <- which.max(melted_df$value)\n",
    "\n",
    "# Return the entire row based on that index\n",
    "max_row <- melted_df[max_index_nov, ]\n",
    "max_row"
   ]
  },
  {
   "cell_type": "code",
   "execution_count": 10,
   "metadata": {
    "vscode": {
     "languageId": "r"
    }
   },
   "outputs": [],
   "source": [
    "for (i in seq_along(stock_df_list)) {\n",
    "  df <- stock_df_list[[i]]\n",
    "  \n",
    "  # Try parsing the Date column\n",
    "  df$Date <- parse_date_time(df$Date, orders = c(\"mdy\", \"ymd\", \"dmy\"), quiet = TRUE)\n",
    "  \n",
    "  # Check for NAs after parsing\n",
    "  if (any(is.na(df$Date))) {\n",
    "    warning(paste(\"NAs in Date for dataframe:\", names(data_list)[i]))\n",
    "  }\n",
    "  \n",
    "  # Sort by Date\n",
    "  df <- df[order(df$Date), ]\n",
    "\n",
    "  xts(df[,-1],order.by = df[,1])\n",
    "  \n",
    "  # Update the list with the sorted data frame\n",
    "  stock_df_list[[i]] <- df\n",
    "}"
   ]
  },
  {
   "cell_type": "code",
   "execution_count": 11,
   "metadata": {
    "vscode": {
     "languageId": "r"
    }
   },
   "outputs": [
    {
     "data": {
      "text/html": [
       "<table class=\"dataframe\">\n",
       "<caption>A data.frame: 1 × 2</caption>\n",
       "<thead>\n",
       "\t<tr><th></th><th scope=col>Date</th><th scope=col>Return</th></tr>\n",
       "\t<tr><th></th><th scope=col>&lt;dttm&gt;</th><th scope=col>&lt;dbl&gt;</th></tr>\n",
       "</thead>\n",
       "<tbody>\n",
       "\t<tr><th scope=row>21</th><td>2023-05-31</td><td>0.3634365</td></tr>\n",
       "</tbody>\n",
       "</table>\n"
      ],
      "text/latex": [
       "A data.frame: 1 × 2\n",
       "\\begin{tabular}{r|ll}\n",
       "  & Date & Return\\\\\n",
       "  & <dttm> & <dbl>\\\\\n",
       "\\hline\n",
       "\t21 & 2023-05-31 & 0.3634365\\\\\n",
       "\\end{tabular}\n"
      ],
      "text/markdown": [
       "\n",
       "A data.frame: 1 × 2\n",
       "\n",
       "| <!--/--> | Date &lt;dttm&gt; | Return &lt;dbl&gt; |\n",
       "|---|---|---|\n",
       "| 21 | 2023-05-31 | 0.3634365 |\n",
       "\n"
      ],
      "text/plain": [
       "   Date       Return   \n",
       "21 2023-05-31 0.3634365"
      ]
     },
     "metadata": {},
     "output_type": "display_data"
    }
   ],
   "source": [
    "max_index <- which.max(stock_df_list[\"NVDA\"]$NVDA$Return)\n",
    "\n",
    "# Return the entire row based on that index\n",
    "max_row <- stock_df_list[\"NVDA\"]$NVDA[max_index, ]\n",
    "max_row"
   ]
  },
  {
   "cell_type": "code",
   "execution_count": 12,
   "metadata": {
    "vscode": {
     "languageId": "r"
    }
   },
   "outputs": [
    {
     "data": {
      "image/png": "[encoded data removed]",
      "text/plain": [
       "plot without title"
      ]
     },
     "metadata": {
      "image/png": {
       "height": 420,
       "width": 420
      }
     },
     "output_type": "display_data"
    }
   ],
   "source": [
    "# R code\n",
    "plot(stock_df_list[\"NVDA\"]$NVDA$Return, type=\"o\", xaxt='n', xlab=\"Date\", ylab=\"Return\")\n",
    "axis(1, at=1:length(stock_df_list[\"NVDA\"]$NVDA$Date), labels=format(stock_df_list[\"NVDA\"]$NVDA$Date, \"%Y-%m-%d\"), las=2)\n"
   ]
  },
  {
   "cell_type": "code",
   "execution_count": 13,
   "metadata": {
    "vscode": {
     "languageId": "r"
    }
   },
   "outputs": [
    {
     "data": {
      "image/png": "[encoded data removed]",
      "text/plain": [
       "Plot with title \"AAPL\""
      ]
     },
     "metadata": {
      "image/png": {
       "height": 420,
       "width": 420
      }
     },
     "output_type": "display_data"
    },
    {
     "data": {
      "image/png": "[encoded data removed]",
      "text/plain": [
       "Plot with title \"AMC\""
      ]
     },
     "metadata": {
      "image/png": {
       "height": 420,
       "width": 420
      }
     },
     "output_type": "display_data"
    },
    {
     "data": {
      "image/png": "[encoded data removed]",
      "text/plain": [
       "Plot with title \"AMZN\""
      ]
     },
     "metadata": {
      "image/png": {
       "height": 420,
       "width": 420
      }
     },
     "output_type": "display_data"
    },
    {
     "data": {
      "image/png": "[encoded data removed]",
      "text/plain": [
       "Plot with title \"COST\""
      ]
     },
     "metadata": {
      "image/png": {
       "height": 420,
       "width": 420
      }
     },
     "output_type": "display_data"
    },
    {
     "data": {
      "image/png": "[encoded data removed]",
      "text/plain": [
       "Plot with title \"GSPC\""
      ]
     },
     "metadata": {
      "image/png": {
       "height": 420,
       "width": 420
      }
     },
     "output_type": "display_data"
    },
    {
     "data": {
      "image/png": "[encoded data removed]",
      "text/plain": [
       "Plot with title \"MSFT\""
      ]
     },
     "metadata": {
      "image/png": {
       "height": 420,
       "width": 420
      }
     },
     "output_type": "display_data"
    },
    {
     "data": {
      "image/png": "[encoded data removed]",
      "text/plain": [
       "Plot with title \"NVDA\""
      ]
     },
     "metadata": {
      "image/png": {
       "height": 420,
       "width": 420
      }
     },
     "output_type": "display_data"
    },
    {
     "data": {
      "image/png": "[encoded data removed]",
      "text/plain": [
       "Plot with title \"TGT\""
      ]
     },
     "metadata": {
      "image/png": {
       "height": 420,
       "width": 420
      }
     },
     "output_type": "display_data"
    },
    {
     "data": {
      "image/png": "[encoded data removed]",
      "text/plain": [
       "Plot with title \"WMT\""
      ]
     },
     "metadata": {
      "image/png": {
       "height": 420,
       "width": 420
      }
     },
     "output_type": "display_data"
    }
   ],
   "source": [
    "for (i in seq_along(stock_df_list)) {\n",
    "  df <- stock_df_list[[i]]\n",
    "\n",
    "  barplot(df$Return,main = names(stock_df_list[i]))\n",
    "  \n",
    "  \n",
    "}"
   ]
  },
  {
   "cell_type": "code",
   "execution_count": 14,
   "metadata": {
    "vscode": {
     "languageId": "r"
    }
   },
   "outputs": [
    {
     "data": {
      "text/html": [
       "0.079029839001119"
      ],
      "text/latex": [
       "0.079029839001119"
      ],
      "text/markdown": [
       "0.079029839001119"
      ],
      "text/plain": [
       "[1] 0.07902984"
      ]
     },
     "metadata": {},
     "output_type": "display_data"
    },
    {
     "name": "stdout",
     "output_type": "stream",
     "text": [
      "  Stock Standard_Deviation\n",
      "1  AAPL  0.079029839001119\n",
      "2   AMC  0.265520707144589\n",
      "3  AMZN  0.101582831994138\n",
      "4  COST 0.0743028260311011\n",
      "5  GSPC 0.0513647248189277\n",
      "6  MSFT 0.0707112174148177\n",
      "7  NVDA  0.172192658428897\n",
      "8   TGT  0.104212996152102\n",
      "9   WMT  0.059147354411843\n"
     ]
    }
   ],
   "source": [
    "test_df = stock_df_list[\"AAPL\"]$AAPL\n",
    "\n",
    "sd(test_df$Return)\n",
    "\n",
    "sd_list <- list()\n",
    "for (i in seq_along(stock_df_list)) {\n",
    "  df <- stock_df_list[[i]]\n",
    "\n",
    "  standard_dev = sd(df$Return)\n",
    "\n",
    "  #print(table.Stats(df$Return))\n",
    "  \n",
    " \n",
    "  \n",
    "  output = c(Stock = names(stock_df_list)[i], Standard_Deviation = standard_dev)\n",
    "  sd_list[[i]] <- output\n",
    "}\n",
    "\n",
    "sd_df <- do.call(rbind, sd_list)\n",
    "\n",
    "sd_df <- as.data.frame(sd_df)\n",
    "print(sd_df)"
   ]
  },
  {
   "cell_type": "code",
   "execution_count": 15,
   "metadata": {
    "vscode": {
     "languageId": "r"
    }
   },
   "outputs": [
    {
     "data": {
      "text/html": [
       "<table class=\"dataframe\">\n",
       "<caption>A data.frame: 9 × 2</caption>\n",
       "<thead>\n",
       "\t<tr><th scope=col>Stock</th><th scope=col>Standard_Deviation</th></tr>\n",
       "\t<tr><th scope=col>&lt;chr&gt;</th><th scope=col>&lt;chr&gt;</th></tr>\n",
       "</thead>\n",
       "<tbody>\n",
       "\t<tr><td>AAPL</td><td>0.079029839001119 </td></tr>\n",
       "\t<tr><td>AMC </td><td>0.265520707144589 </td></tr>\n",
       "\t<tr><td>AMZN</td><td>0.101582831994138 </td></tr>\n",
       "\t<tr><td>COST</td><td>0.0743028260311011</td></tr>\n",
       "\t<tr><td>GSPC</td><td>0.0513647248189277</td></tr>\n",
       "\t<tr><td>MSFT</td><td>0.0707112174148177</td></tr>\n",
       "\t<tr><td>NVDA</td><td>0.172192658428897 </td></tr>\n",
       "\t<tr><td>TGT </td><td>0.104212996152102 </td></tr>\n",
       "\t<tr><td>WMT </td><td>0.059147354411843 </td></tr>\n",
       "</tbody>\n",
       "</table>\n"
      ],
      "text/latex": [
       "A data.frame: 9 × 2\n",
       "\\begin{tabular}{ll}\n",
       " Stock & Standard\\_Deviation\\\\\n",
       " <chr> & <chr>\\\\\n",
       "\\hline\n",
       "\t AAPL & 0.079029839001119 \\\\\n",
       "\t AMC  & 0.265520707144589 \\\\\n",
       "\t AMZN & 0.101582831994138 \\\\\n",
       "\t COST & 0.0743028260311011\\\\\n",
       "\t GSPC & 0.0513647248189277\\\\\n",
       "\t MSFT & 0.0707112174148177\\\\\n",
       "\t NVDA & 0.172192658428897 \\\\\n",
       "\t TGT  & 0.104212996152102 \\\\\n",
       "\t WMT  & 0.059147354411843 \\\\\n",
       "\\end{tabular}\n"
      ],
      "text/markdown": [
       "\n",
       "A data.frame: 9 × 2\n",
       "\n",
       "| Stock &lt;chr&gt; | Standard_Deviation &lt;chr&gt; |\n",
       "|---|---|\n",
       "| AAPL | 0.079029839001119  |\n",
       "| AMC  | 0.265520707144589  |\n",
       "| AMZN | 0.101582831994138  |\n",
       "| COST | 0.0743028260311011 |\n",
       "| GSPC | 0.0513647248189277 |\n",
       "| MSFT | 0.0707112174148177 |\n",
       "| NVDA | 0.172192658428897  |\n",
       "| TGT  | 0.104212996152102  |\n",
       "| WMT  | 0.059147354411843  |\n",
       "\n"
      ],
      "text/plain": [
       "  Stock Standard_Deviation\n",
       "1 AAPL  0.079029839001119 \n",
       "2 AMC   0.265520707144589 \n",
       "3 AMZN  0.101582831994138 \n",
       "4 COST  0.0743028260311011\n",
       "5 GSPC  0.0513647248189277\n",
       "6 MSFT  0.0707112174148177\n",
       "7 NVDA  0.172192658428897 \n",
       "8 TGT   0.104212996152102 \n",
       "9 WMT   0.059147354411843 "
      ]
     },
     "metadata": {},
     "output_type": "display_data"
    },
    {
     "data": {
      "image/png": "[encoded data removed]",
      "text/plain": [
       "plot without title"
      ]
     },
     "metadata": {
      "image/png": {
       "height": 420,
       "width": 420
      }
     },
     "output_type": "display_data"
    }
   ],
   "source": [
    "sd_df <- do.call(rbind, sd_list)\n",
    "\n",
    "# Convert to data frame and set column names\n",
    "sd_df <- as.data.frame(sd_df)\n",
    "sd_df\n",
    "# Print the results data frame\n",
    "plot(sd_df$Standard_Deviation, xaxt = \"n\", xlab = \"Stock\", ylab = \"Standard Deviation\")\n",
    "\n",
    "axis(1, at = 1:length(sd_df$Stock), labels = sd_df$Stock, las=2)"
   ]
  },
  {
   "cell_type": "code",
   "execution_count": 16,
   "metadata": {
    "vscode": {
     "languageId": "r"
    }
   },
   "outputs": [
    {
     "data": {
      "text/html": [
       "<table class=\"dataframe\">\n",
       "<caption>A data.frame: 9 × 2</caption>\n",
       "<thead>\n",
       "\t<tr><th></th><th scope=col>Stock</th><th scope=col>Standard_Deviation</th></tr>\n",
       "\t<tr><th></th><th scope=col>&lt;chr&gt;</th><th scope=col>&lt;chr&gt;</th></tr>\n",
       "</thead>\n",
       "<tbody>\n",
       "\t<tr><th scope=row>5</th><td>GSPC</td><td>0.0513647248189277</td></tr>\n",
       "\t<tr><th scope=row>9</th><td>WMT </td><td>0.059147354411843 </td></tr>\n",
       "\t<tr><th scope=row>6</th><td>MSFT</td><td>0.0707112174148177</td></tr>\n",
       "\t<tr><th scope=row>4</th><td>COST</td><td>0.0743028260311011</td></tr>\n",
       "\t<tr><th scope=row>1</th><td>AAPL</td><td>0.079029839001119 </td></tr>\n",
       "\t<tr><th scope=row>3</th><td>AMZN</td><td>0.101582831994138 </td></tr>\n",
       "\t<tr><th scope=row>8</th><td>TGT </td><td>0.104212996152102 </td></tr>\n",
       "\t<tr><th scope=row>7</th><td>NVDA</td><td>0.172192658428897 </td></tr>\n",
       "\t<tr><th scope=row>2</th><td>AMC </td><td>0.265520707144589 </td></tr>\n",
       "</tbody>\n",
       "</table>\n"
      ],
      "text/latex": [
       "A data.frame: 9 × 2\n",
       "\\begin{tabular}{r|ll}\n",
       "  & Stock & Standard\\_Deviation\\\\\n",
       "  & <chr> & <chr>\\\\\n",
       "\\hline\n",
       "\t5 & GSPC & 0.0513647248189277\\\\\n",
       "\t9 & WMT  & 0.059147354411843 \\\\\n",
       "\t6 & MSFT & 0.0707112174148177\\\\\n",
       "\t4 & COST & 0.0743028260311011\\\\\n",
       "\t1 & AAPL & 0.079029839001119 \\\\\n",
       "\t3 & AMZN & 0.101582831994138 \\\\\n",
       "\t8 & TGT  & 0.104212996152102 \\\\\n",
       "\t7 & NVDA & 0.172192658428897 \\\\\n",
       "\t2 & AMC  & 0.265520707144589 \\\\\n",
       "\\end{tabular}\n"
      ],
      "text/markdown": [
       "\n",
       "A data.frame: 9 × 2\n",
       "\n",
       "| <!--/--> | Stock &lt;chr&gt; | Standard_Deviation &lt;chr&gt; |\n",
       "|---|---|---|\n",
       "| 5 | GSPC | 0.0513647248189277 |\n",
       "| 9 | WMT  | 0.059147354411843  |\n",
       "| 6 | MSFT | 0.0707112174148177 |\n",
       "| 4 | COST | 0.0743028260311011 |\n",
       "| 1 | AAPL | 0.079029839001119  |\n",
       "| 3 | AMZN | 0.101582831994138  |\n",
       "| 8 | TGT  | 0.104212996152102  |\n",
       "| 7 | NVDA | 0.172192658428897  |\n",
       "| 2 | AMC  | 0.265520707144589  |\n",
       "\n"
      ],
      "text/plain": [
       "  Stock Standard_Deviation\n",
       "5 GSPC  0.0513647248189277\n",
       "9 WMT   0.059147354411843 \n",
       "6 MSFT  0.0707112174148177\n",
       "4 COST  0.0743028260311011\n",
       "1 AAPL  0.079029839001119 \n",
       "3 AMZN  0.101582831994138 \n",
       "8 TGT   0.104212996152102 \n",
       "7 NVDA  0.172192658428897 \n",
       "2 AMC   0.265520707144589 "
      ]
     },
     "metadata": {},
     "output_type": "display_data"
    }
   ],
   "source": [
    "sorted_df <- sd_df[order(sd_df$Standard_Deviation), ]\n",
    "\n",
    "sorted_df"
   ]
  },
  {
   "cell_type": "code",
   "execution_count": 17,
   "metadata": {
    "vscode": {
     "languageId": "r"
    }
   },
   "outputs": [
    {
     "data": {
      "text/html": [
       "0.526685302004474"
      ],
      "text/latex": [
       "0.526685302004474"
      ],
      "text/markdown": [
       "0.526685302004474"
      ],
      "text/plain": [
       "[1] 0.5266853"
      ]
     },
     "metadata": {},
     "output_type": "display_data"
    }
   ],
   "source": [
    "Return.cumulative(stock_df_list[\"AAPL\"]$AAPL$Return, geometric = TRUE)"
   ]
  },
  {
   "cell_type": "code",
   "execution_count": 18,
   "metadata": {
    "vscode": {
     "languageId": "r"
    }
   },
   "outputs": [
    {
     "name": "stdout",
     "output_type": "stream",
     "text": [
      "  Stock         Cum_Return\n",
      "1  AAPL  0.526685302004474\n",
      "2   AMC -0.988967726590125\n",
      "3  AMZN 0.0261569589476822\n",
      "4  COST   1.04024433097917\n",
      "5  GSPC  0.248905445689353\n",
      "6  MSFT  0.417635912024463\n",
      "7  NVDA   4.32795783396872\n",
      "8   TGT -0.325736007430434\n",
      "9   WMT   0.63907245783847\n"
     ]
    },
    {
     "data": {
      "image/png": "[encoded data removed]",
      "text/plain": [
       "plot without title"
      ]
     },
     "metadata": {
      "image/png": {
       "height": 420,
       "width": 420
      }
     },
     "output_type": "display_data"
    }
   ],
   "source": [
    "cum_return_list <- list()\n",
    "for (i in seq_along(stock_df_list)) {\n",
    "  df <- stock_df_list[[i]]\n",
    "\n",
    "  standard_dev = sd(df$Return)\n",
    "  cum_return = Return.cumulative(df$Return, geometric = TRUE)\n",
    "\n",
    "  #print(table.Stats(df$Return))\n",
    "  \n",
    " \n",
    "  \n",
    "  output = c(Stock = names(stock_df_list)[i], Cum_Return = cum_return)\n",
    "  cum_return_list[[i]] <- output\n",
    "}\n",
    "\n",
    "cum_return_df <- do.call(rbind, cum_return_list)\n",
    "\n",
    "cum_return_df <- as.data.frame(cum_return_df)\n",
    "print(cum_return_df)\n",
    "\n",
    "plot(cum_return_df$Cum_Return, xaxt = \"n\", xlab = \"Stock\", ylab = \"Standard Deviation\")\n",
    "\n",
    "axis(1, at = 1:length(cum_return_df$Stock), labels = sd_df$Stock, las=2)"
   ]
  },
  {
   "cell_type": "code",
   "execution_count": 19,
   "metadata": {
    "vscode": {
     "languageId": "r"
    }
   },
   "outputs": [
    {
     "data": {
      "text/plain": [
       "\n",
       "Call:\n",
       "lm(formula = stock_df_list[\"AAPL\"]$AAPL$Return ~ stock_df_list[\"GSPC\"]$GSPC$Return)\n",
       "\n",
       "Residuals:\n",
       "      Min        1Q    Median        3Q       Max \n",
       "-0.103501 -0.030369  0.006615  0.035552  0.109298 \n",
       "\n",
       "Coefficients:\n",
       "                                  Estimate Std. Error t value Pr(>|t|)    \n",
       "(Intercept)                       0.005809   0.008422   0.690    0.495    \n",
       "stock_df_list[\"GSPC\"]$GSPC$Return 1.202980   0.164508   7.313  1.8e-08 ***\n",
       "---\n",
       "Signif. codes:  0 '***' 0.001 '**' 0.01 '*' 0.05 '.' 0.1 ' ' 1\n",
       "\n",
       "Residual standard error: 0.04999 on 34 degrees of freedom\n",
       "Multiple R-squared:  0.6113,\tAdjusted R-squared:  0.5999 \n",
       "F-statistic: 53.47 on 1 and 34 DF,  p-value: 1.802e-08\n"
      ]
     },
     "metadata": {},
     "output_type": "display_data"
    }
   ],
   "source": [
    "summary(lm(stock_df_list[\"AAPL\"]$AAPL$Return~stock_df_list[\"GSPC\"]$GSPC$Return))"
   ]
  },
  {
   "cell_type": "code",
   "execution_count": 108,
   "metadata": {
    "vscode": {
     "languageId": "r"
    }
   },
   "outputs": [
    {
     "name": "stdout",
     "output_type": "stream",
     "text": [
      "[1] \"AAPL\"\n",
      "\n",
      "Call:\n",
      "lm(formula = df$Return ~ stock_df_list[\"GSPC\"]$GSPC$Return)\n",
      "\n",
      "Residuals:\n",
      "      Min        1Q    Median        3Q       Max \n",
      "-0.103501 -0.030369  0.006615  0.035552  0.109298 \n",
      "\n",
      "Coefficients:\n",
      "                                  Estimate Std. Error t value Pr(>|t|)    \n",
      "(Intercept)                       0.005809   0.008422   0.690    0.495    \n",
      "stock_df_list[\"GSPC\"]$GSPC$Return 1.202980   0.164508   7.313  1.8e-08 ***\n",
      "---\n",
      "Signif. codes:  0 '***' 0.001 '**' 0.01 '*' 0.05 '.' 0.1 ' ' 1\n",
      "\n",
      "Residual standard error: 0.04999 on 34 degrees of freedom\n",
      "Multiple R-squared:  0.6113,\tAdjusted R-squared:  0.5999 \n",
      "F-statistic: 53.47 on 1 and 34 DF,  p-value: 1.802e-08\n",
      "\n",
      "[1] \"AMC\"\n",
      "\n",
      "Call:\n",
      "lm(formula = df$Return ~ stock_df_list[\"GSPC\"]$GSPC$Return)\n",
      "\n",
      "Residuals:\n",
      "     Min       1Q   Median       3Q      Max \n",
      "-0.62713 -0.14420 -0.02518  0.15934  0.47789 \n",
      "\n",
      "Coefficients:\n",
      "                                  Estimate Std. Error t value Pr(>|t|)  \n",
      "(Intercept)                       -0.08794    0.04245  -2.072   0.0459 *\n",
      "stock_df_list[\"GSPC\"]$GSPC$Return  1.82978    0.82913   2.207   0.0342 *\n",
      "---\n",
      "Signif. codes:  0 '***' 0.001 '**' 0.01 '*' 0.05 '.' 0.1 ' ' 1\n",
      "\n",
      "Residual standard error: 0.252 on 34 degrees of freedom\n",
      "Multiple R-squared:  0.1253,\tAdjusted R-squared:  0.09957 \n",
      "F-statistic:  4.87 on 1 and 34 DF,  p-value: 0.03418\n",
      "\n",
      "[1] \"AMZN\"\n",
      "\n",
      "Call:\n",
      "lm(formula = df$Return ~ stock_df_list[\"GSPC\"]$GSPC$Return)\n",
      "\n",
      "Residuals:\n",
      "      Min        1Q    Median        3Q       Max \n",
      "-0.195688 -0.044149 -0.000556  0.053425  0.153346 \n",
      "\n",
      "Coefficients:\n",
      "                                   Estimate Std. Error t value Pr(>|t|)    \n",
      "(Intercept)                       -0.004317   0.012817  -0.337    0.738    \n",
      "stock_df_list[\"GSPC\"]$GSPC$Return  1.334190   0.250361   5.329 6.42e-06 ***\n",
      "---\n",
      "Signif. codes:  0 '***' 0.001 '**' 0.01 '*' 0.05 '.' 0.1 ' ' 1\n",
      "\n",
      "Residual standard error: 0.07608 on 34 degrees of freedom\n",
      "Multiple R-squared:  0.4551,\tAdjusted R-squared:  0.4391 \n",
      "F-statistic:  28.4 on 1 and 34 DF,  p-value: 6.421e-06\n",
      "\n",
      "[1] \"COST\"\n",
      "\n",
      "Call:\n",
      "lm(formula = df$Return ~ stock_df_list[\"GSPC\"]$GSPC$Return)\n",
      "\n",
      "Residuals:\n",
      "      Min        1Q    Median        3Q       Max \n",
      "-0.138109 -0.026631 -0.000241  0.025911  0.101125 \n",
      "\n",
      "Coefficients:\n",
      "                                  Estimate Std. Error t value Pr(>|t|)    \n",
      "(Intercept)                       0.014869   0.008751   1.699   0.0984 .  \n",
      "stock_df_list[\"GSPC\"]$GSPC$Return 1.048397   0.170935   6.133 5.79e-07 ***\n",
      "---\n",
      "Signif. codes:  0 '***' 0.001 '**' 0.01 '*' 0.05 '.' 0.1 ' ' 1\n",
      "\n",
      "Residual standard error: 0.05194 on 34 degrees of freedom\n",
      "Multiple R-squared:  0.5253,\tAdjusted R-squared:  0.5113 \n",
      "F-statistic: 37.62 on 1 and 34 DF,  p-value: 5.785e-07\n",
      "\n"
     ]
    },
    {
     "name": "stderr",
     "output_type": "stream",
     "text": [
      "Warning message in summary.lm(lm_model):\n",
      "\"essentially perfect fit: summary may be unreliable\"\n"
     ]
    },
    {
     "name": "stdout",
     "output_type": "stream",
     "text": [
      "[1] \"GSPC\"\n"
     ]
    },
    {
     "name": "stderr",
     "output_type": "stream",
     "text": [
      "Warning message in summary.lm(lm_model):\n",
      "\"essentially perfect fit: summary may be unreliable\"\n"
     ]
    },
    {
     "name": "stdout",
     "output_type": "stream",
     "text": [
      "\n",
      "Call:\n",
      "lm(formula = df$Return ~ stock_df_list[\"GSPC\"]$GSPC$Return)\n",
      "\n",
      "Residuals:\n",
      "       Min         1Q     Median         3Q        Max \n",
      "-1.363e-17 -5.438e-18 -1.835e-18  1.127e-18  8.884e-17 \n",
      "\n",
      "Coefficients:\n",
      "                                    Estimate Std. Error    t value Pr(>|t|)    \n",
      "(Intercept)                       -3.469e-18  2.730e-18 -1.271e+00    0.212    \n",
      "stock_df_list[\"GSPC\"]$GSPC$Return  1.000e+00  5.332e-17  1.875e+16   <2e-16 ***\n",
      "---\n",
      "Signif. codes:  0 '***' 0.001 '**' 0.01 '*' 0.05 '.' 0.1 ' ' 1\n",
      "\n",
      "Residual standard error: 1.62e-17 on 34 degrees of freedom\n",
      "Multiple R-squared:      1,\tAdjusted R-squared:      1 \n",
      "F-statistic: 3.517e+32 on 1 and 34 DF,  p-value: < 2.2e-16\n",
      "\n",
      "[1] \"MSFT\"\n",
      "\n",
      "Call:\n",
      "lm(formula = df$Return ~ stock_df_list[\"GSPC\"]$GSPC$Return)\n",
      "\n",
      "Residuals:\n",
      "      Min        1Q    Median        3Q       Max \n",
      "-0.090970 -0.027314 -0.009285  0.028964  0.114990 \n",
      "\n",
      "Coefficients:\n",
      "                                  Estimate Std. Error t value Pr(>|t|)    \n",
      "(Intercept)                       0.004307   0.007881   0.546    0.588    \n",
      "stock_df_list[\"GSPC\"]$GSPC$Return 1.043741   0.153945   6.780 8.52e-08 ***\n",
      "---\n",
      "Signif. codes:  0 '***' 0.001 '**' 0.01 '*' 0.05 '.' 0.1 ' ' 1\n",
      "\n",
      "Residual standard error: 0.04678 on 34 degrees of freedom\n",
      "Multiple R-squared:  0.5748,\tAdjusted R-squared:  0.5623 \n",
      "F-statistic: 45.97 on 1 and 34 DF,  p-value: 8.517e-08\n",
      "\n",
      "[1] \"NVDA\"\n",
      "\n",
      "Call:\n",
      "lm(formula = df$Return ~ stock_df_list[\"GSPC\"]$GSPC$Return)\n",
      "\n",
      "Residuals:\n",
      "     Min       1Q   Median       3Q      Max \n",
      "-0.25010 -0.08072 -0.01349  0.05899  0.31395 \n",
      "\n",
      "Coefficients:\n",
      "                                  Estimate Std. Error t value Pr(>|t|)    \n",
      "(Intercept)                        0.04341    0.02008   2.161   0.0378 *  \n",
      "stock_df_list[\"GSPC\"]$GSPC$Return  2.45069    0.39229   6.247 4.12e-07 ***\n",
      "---\n",
      "Signif. codes:  0 '***' 0.001 '**' 0.01 '*' 0.05 '.' 0.1 ' ' 1\n",
      "\n",
      "Residual standard error: 0.1192 on 34 degrees of freedom\n",
      "Multiple R-squared:  0.5344,\tAdjusted R-squared:  0.5207 \n",
      "F-statistic: 39.03 on 1 and 34 DF,  p-value: 4.122e-07\n",
      "\n",
      "[1] \"TGT\"\n",
      "\n",
      "Call:\n",
      "lm(formula = df$Return ~ stock_df_list[\"GSPC\"]$GSPC$Return)\n",
      "\n",
      "Residuals:\n",
      "      Min        1Q    Median        3Q       Max \n",
      "-0.274524 -0.038865  0.006323  0.046253  0.199943 \n",
      "\n",
      "Coefficients:\n",
      "                                  Estimate Std. Error t value Pr(>|t|)    \n",
      "(Intercept)                       -0.01464    0.01419  -1.032    0.309    \n",
      "stock_df_list[\"GSPC\"]$GSPC$Return  1.22653    0.27717   4.425 9.43e-05 ***\n",
      "---\n",
      "Signif. codes:  0 '***' 0.001 '**' 0.01 '*' 0.05 '.' 0.1 ' ' 1\n",
      "\n",
      "Residual standard error: 0.08423 on 34 degrees of freedom\n",
      "Multiple R-squared:  0.3655,\tAdjusted R-squared:  0.3468 \n",
      "F-statistic: 19.58 on 1 and 34 DF,  p-value: 9.427e-05\n",
      "\n",
      "[1] \"WMT\"\n",
      "\n",
      "Call:\n",
      "lm(formula = df$Return ~ stock_df_list[\"GSPC\"]$GSPC$Return)\n",
      "\n",
      "Residuals:\n",
      "      Min        1Q    Median        3Q       Max \n",
      "-0.166968 -0.015805  0.002947  0.024566  0.103046 \n",
      "\n",
      "Coefficients:\n",
      "                                  Estimate Std. Error t value Pr(>|t|)    \n",
      "(Intercept)                       0.010764   0.008423   1.278 0.209939    \n",
      "stock_df_list[\"GSPC\"]$GSPC$Return 0.636886   0.164529   3.871 0.000468 ***\n",
      "---\n",
      "Signif. codes:  0 '***' 0.001 '**' 0.01 '*' 0.05 '.' 0.1 ' ' 1\n",
      "\n",
      "Residual standard error: 0.05 on 34 degrees of freedom\n",
      "Multiple R-squared:  0.3059,\tAdjusted R-squared:  0.2855 \n",
      "F-statistic: 14.98 on 1 and 34 DF,  p-value: 0.000468\n",
      "\n",
      "  Stock               r_2\n",
      "1  AAPL 0.611314244659082\n",
      "2   AMC 0.125294851827571\n",
      "3  AMZN 0.455118987079908\n",
      "4  COST 0.525256168419678\n",
      "5  GSPC                 1\n",
      "6  MSFT 0.574828983113047\n",
      "7  NVDA 0.534415098630844\n",
      "8   TGT 0.365463849089793\n",
      "9   WMT 0.305901821803826\n"
     ]
    }
   ],
   "source": [
    "beta_list <- list()\n",
    "\n",
    "for (i in seq_along(stock_df_list)) {\n",
    "  df <- stock_df_list[[i]]\n",
    "\n",
    "  \n",
    "  lm_model = lm(df$Return~stock_df_list[\"GSPC\"]$GSPC$Return)\n",
    "  \n",
    "  r_squared = summary(lm_model)$r.squared\n",
    "  print(names(stock_df_list)[i])\n",
    "  print(summary(lm_model))\n",
    "  \n",
    " \n",
    "  \n",
    "  output = c(Stock = names(stock_df_list)[i], r_2 = r_squared)\n",
    "  beta_list[[i]] <- output\n",
    "}\n",
    "\n",
    " beta_df <- do.call(rbind, beta_list)\n",
    "\n",
    " beta_df <- as.data.frame(beta_df)\n",
    " print(beta_df)\n",
    " \n",
    "  \n",
    "  \n"
   ]
  },
  {
   "cell_type": "code",
   "execution_count": 21,
   "metadata": {
    "vscode": {
     "languageId": "r"
    }
   },
   "outputs": [
    {
     "data": {
      "text/html": [
       "<table class=\"dataframe\">\n",
       "<caption>A data.frame: 36 × 2</caption>\n",
       "<thead>\n",
       "\t<tr><th></th><th scope=col>Date</th><th scope=col>Return</th></tr>\n",
       "\t<tr><th></th><th scope=col>&lt;dttm&gt;</th><th scope=col>&lt;dbl&gt;</th></tr>\n",
       "</thead>\n",
       "<tbody>\n",
       "\t<tr><th scope=row>1</th><td>2021-09-30</td><td>-0.072191738</td></tr>\n",
       "\t<tr><th scope=row>2</th><td>2021-10-29</td><td> 0.058657229</td></tr>\n",
       "\t<tr><th scope=row>3</th><td>2021-11-30</td><td> 0.105081867</td></tr>\n",
       "\t<tr><th scope=row>4</th><td>2021-12-31</td><td> 0.074228550</td></tr>\n",
       "\t<tr><th scope=row>5</th><td>2022-01-31</td><td>-0.015712071</td></tr>\n",
       "\t<tr><th scope=row>6</th><td>2022-02-28</td><td>-0.054065910</td></tr>\n",
       "\t<tr><th scope=row>7</th><td>2022-03-31</td><td> 0.057473380</td></tr>\n",
       "\t<tr><th scope=row>8</th><td>2022-04-29</td><td>-0.097130847</td></tr>\n",
       "\t<tr><th scope=row>9</th><td>2022-05-31</td><td>-0.054495934</td></tr>\n",
       "\t<tr><th scope=row>10</th><td>2022-06-30</td><td>-0.081429783</td></tr>\n",
       "\t<tr><th scope=row>11</th><td>2022-07-29</td><td> 0.188633476</td></tr>\n",
       "\t<tr><th scope=row>12</th><td>2022-08-31</td><td>-0.031207921</td></tr>\n",
       "\t<tr><th scope=row>13</th><td>2022-09-30</td><td>-0.120976879</td></tr>\n",
       "\t<tr><th scope=row>14</th><td>2022-10-31</td><td> 0.109551270</td></tr>\n",
       "\t<tr><th scope=row>15</th><td>2022-11-30</td><td>-0.033027523</td></tr>\n",
       "\t<tr><th scope=row>16</th><td>2022-12-30</td><td>-0.122272433</td></tr>\n",
       "\t<tr><th scope=row>17</th><td>2023-01-31</td><td> 0.110521043</td></tr>\n",
       "\t<tr><th scope=row>18</th><td>2023-02-28</td><td> 0.023183088</td></tr>\n",
       "\t<tr><th scope=row>19</th><td>2023-03-31</td><td> 0.118648633</td></tr>\n",
       "\t<tr><th scope=row>20</th><td>2023-04-28</td><td> 0.028987167</td></tr>\n",
       "\t<tr><th scope=row>21</th><td>2023-05-31</td><td> 0.046058343</td></tr>\n",
       "\t<tr><th scope=row>22</th><td>2023-06-30</td><td> 0.094330025</td></tr>\n",
       "\t<tr><th scope=row>23</th><td>2023-07-31</td><td> 0.012785342</td></tr>\n",
       "\t<tr><th scope=row>24</th><td>2023-08-31</td><td>-0.042383800</td></tr>\n",
       "\t<tr><th scope=row>25</th><td>2023-09-29</td><td>-0.088678333</td></tr>\n",
       "\t<tr><th scope=row>26</th><td>2023-10-31</td><td>-0.002569851</td></tr>\n",
       "\t<tr><th scope=row>27</th><td>2023-11-30</td><td> 0.113780227</td></tr>\n",
       "\t<tr><th scope=row>28</th><td>2023-12-29</td><td> 0.013582465</td></tr>\n",
       "\t<tr><th scope=row>29</th><td>2024-01-31</td><td>-0.042227147</td></tr>\n",
       "\t<tr><th scope=row>30</th><td>2024-02-29</td><td>-0.018543163</td></tr>\n",
       "\t<tr><th scope=row>31</th><td>2024-03-28</td><td>-0.051286359</td></tr>\n",
       "\t<tr><th scope=row>32</th><td>2024-04-30</td><td>-0.006706295</td></tr>\n",
       "\t<tr><th scope=row>33</th><td>2024-05-31</td><td> 0.130222283</td></tr>\n",
       "\t<tr><th scope=row>34</th><td>2024-06-28</td><td> 0.095552634</td></tr>\n",
       "\t<tr><th scope=row>35</th><td>2024-07-31</td><td> 0.054410845</td></tr>\n",
       "\t<tr><th scope=row>36</th><td>2024-08-30</td><td> 0.032353498</td></tr>\n",
       "</tbody>\n",
       "</table>\n"
      ],
      "text/latex": [
       "A data.frame: 36 × 2\n",
       "\\begin{tabular}{r|ll}\n",
       "  & Date & Return\\\\\n",
       "  & <dttm> & <dbl>\\\\\n",
       "\\hline\n",
       "\t1 & 2021-09-30 & -0.072191738\\\\\n",
       "\t2 & 2021-10-29 &  0.058657229\\\\\n",
       "\t3 & 2021-11-30 &  0.105081867\\\\\n",
       "\t4 & 2021-12-31 &  0.074228550\\\\\n",
       "\t5 & 2022-01-31 & -0.015712071\\\\\n",
       "\t6 & 2022-02-28 & -0.054065910\\\\\n",
       "\t7 & 2022-03-31 &  0.057473380\\\\\n",
       "\t8 & 2022-04-29 & -0.097130847\\\\\n",
       "\t9 & 2022-05-31 & -0.054495934\\\\\n",
       "\t10 & 2022-06-30 & -0.081429783\\\\\n",
       "\t11 & 2022-07-29 &  0.188633476\\\\\n",
       "\t12 & 2022-08-31 & -0.031207921\\\\\n",
       "\t13 & 2022-09-30 & -0.120976879\\\\\n",
       "\t14 & 2022-10-31 &  0.109551270\\\\\n",
       "\t15 & 2022-11-30 & -0.033027523\\\\\n",
       "\t16 & 2022-12-30 & -0.122272433\\\\\n",
       "\t17 & 2023-01-31 &  0.110521043\\\\\n",
       "\t18 & 2023-02-28 &  0.023183088\\\\\n",
       "\t19 & 2023-03-31 &  0.118648633\\\\\n",
       "\t20 & 2023-04-28 &  0.028987167\\\\\n",
       "\t21 & 2023-05-31 &  0.046058343\\\\\n",
       "\t22 & 2023-06-30 &  0.094330025\\\\\n",
       "\t23 & 2023-07-31 &  0.012785342\\\\\n",
       "\t24 & 2023-08-31 & -0.042383800\\\\\n",
       "\t25 & 2023-09-29 & -0.088678333\\\\\n",
       "\t26 & 2023-10-31 & -0.002569851\\\\\n",
       "\t27 & 2023-11-30 &  0.113780227\\\\\n",
       "\t28 & 2023-12-29 &  0.013582465\\\\\n",
       "\t29 & 2024-01-31 & -0.042227147\\\\\n",
       "\t30 & 2024-02-29 & -0.018543163\\\\\n",
       "\t31 & 2024-03-28 & -0.051286359\\\\\n",
       "\t32 & 2024-04-30 & -0.006706295\\\\\n",
       "\t33 & 2024-05-31 &  0.130222283\\\\\n",
       "\t34 & 2024-06-28 &  0.095552634\\\\\n",
       "\t35 & 2024-07-31 &  0.054410845\\\\\n",
       "\t36 & 2024-08-30 &  0.032353498\\\\\n",
       "\\end{tabular}\n"
      ],
      "text/markdown": [
       "\n",
       "A data.frame: 36 × 2\n",
       "\n",
       "| <!--/--> | Date &lt;dttm&gt; | Return &lt;dbl&gt; |\n",
       "|---|---|---|\n",
       "| 1 | 2021-09-30 | -0.072191738 |\n",
       "| 2 | 2021-10-29 |  0.058657229 |\n",
       "| 3 | 2021-11-30 |  0.105081867 |\n",
       "| 4 | 2021-12-31 |  0.074228550 |\n",
       "| 5 | 2022-01-31 | -0.015712071 |\n",
       "| 6 | 2022-02-28 | -0.054065910 |\n",
       "| 7 | 2022-03-31 |  0.057473380 |\n",
       "| 8 | 2022-04-29 | -0.097130847 |\n",
       "| 9 | 2022-05-31 | -0.054495934 |\n",
       "| 10 | 2022-06-30 | -0.081429783 |\n",
       "| 11 | 2022-07-29 |  0.188633476 |\n",
       "| 12 | 2022-08-31 | -0.031207921 |\n",
       "| 13 | 2022-09-30 | -0.120976879 |\n",
       "| 14 | 2022-10-31 |  0.109551270 |\n",
       "| 15 | 2022-11-30 | -0.033027523 |\n",
       "| 16 | 2022-12-30 | -0.122272433 |\n",
       "| 17 | 2023-01-31 |  0.110521043 |\n",
       "| 18 | 2023-02-28 |  0.023183088 |\n",
       "| 19 | 2023-03-31 |  0.118648633 |\n",
       "| 20 | 2023-04-28 |  0.028987167 |\n",
       "| 21 | 2023-05-31 |  0.046058343 |\n",
       "| 22 | 2023-06-30 |  0.094330025 |\n",
       "| 23 | 2023-07-31 |  0.012785342 |\n",
       "| 24 | 2023-08-31 | -0.042383800 |\n",
       "| 25 | 2023-09-29 | -0.088678333 |\n",
       "| 26 | 2023-10-31 | -0.002569851 |\n",
       "| 27 | 2023-11-30 |  0.113780227 |\n",
       "| 28 | 2023-12-29 |  0.013582465 |\n",
       "| 29 | 2024-01-31 | -0.042227147 |\n",
       "| 30 | 2024-02-29 | -0.018543163 |\n",
       "| 31 | 2024-03-28 | -0.051286359 |\n",
       "| 32 | 2024-04-30 | -0.006706295 |\n",
       "| 33 | 2024-05-31 |  0.130222283 |\n",
       "| 34 | 2024-06-28 |  0.095552634 |\n",
       "| 35 | 2024-07-31 |  0.054410845 |\n",
       "| 36 | 2024-08-30 |  0.032353498 |\n",
       "\n"
      ],
      "text/plain": [
       "   Date       Return      \n",
       "1  2021-09-30 -0.072191738\n",
       "2  2021-10-29  0.058657229\n",
       "3  2021-11-30  0.105081867\n",
       "4  2021-12-31  0.074228550\n",
       "5  2022-01-31 -0.015712071\n",
       "6  2022-02-28 -0.054065910\n",
       "7  2022-03-31  0.057473380\n",
       "8  2022-04-29 -0.097130847\n",
       "9  2022-05-31 -0.054495934\n",
       "10 2022-06-30 -0.081429783\n",
       "11 2022-07-29  0.188633476\n",
       "12 2022-08-31 -0.031207921\n",
       "13 2022-09-30 -0.120976879\n",
       "14 2022-10-31  0.109551270\n",
       "15 2022-11-30 -0.033027523\n",
       "16 2022-12-30 -0.122272433\n",
       "17 2023-01-31  0.110521043\n",
       "18 2023-02-28  0.023183088\n",
       "19 2023-03-31  0.118648633\n",
       "20 2023-04-28  0.028987167\n",
       "21 2023-05-31  0.046058343\n",
       "22 2023-06-30  0.094330025\n",
       "23 2023-07-31  0.012785342\n",
       "24 2023-08-31 -0.042383800\n",
       "25 2023-09-29 -0.088678333\n",
       "26 2023-10-31 -0.002569851\n",
       "27 2023-11-30  0.113780227\n",
       "28 2023-12-29  0.013582465\n",
       "29 2024-01-31 -0.042227147\n",
       "30 2024-02-29 -0.018543163\n",
       "31 2024-03-28 -0.051286359\n",
       "32 2024-04-30 -0.006706295\n",
       "33 2024-05-31  0.130222283\n",
       "34 2024-06-28  0.095552634\n",
       "35 2024-07-31  0.054410845\n",
       "36 2024-08-30  0.032353498"
      ]
     },
     "metadata": {},
     "output_type": "display_data"
    }
   ],
   "source": [
    "stock_df_list[\"AAPL\"]$AAPL"
   ]
  },
  {
   "cell_type": "code",
   "execution_count": 110,
   "metadata": {
    "vscode": {
     "languageId": "r"
    }
   },
   "outputs": [
    {
     "ename": "ERROR",
     "evalue": "Error in names(coredata(x)) <- value: 'names' attribute [1] must be the same length as the vector [0]\n",
     "output_type": "error",
     "traceback": [
      "Error in names(coredata(x)) <- value: 'names' attribute [1] must be the same length as the vector [0]\nTraceback:\n",
      "1. `names<-`(`*tmp*`, value = \"Return\")",
      "2. `names<-.zoo`(`*tmp*`, value = \"Return\")"
     ]
    }
   ],
   "source": [
    "aapl_xts <- xts(stock_df_list[\"COST\"]$AAPL$Return, order.by = stock_df_list[\"AAPL\"]$AAPL$Date)\n",
    "names(aapl_xts) <- \"Return\""
   ]
  },
  {
   "cell_type": "code",
   "execution_count": 23,
   "metadata": {
    "vscode": {
     "languageId": "r"
    }
   },
   "outputs": [
    {
     "name": "stderr",
     "output_type": "stream",
     "text": [
      "Warning message in table.Drawdowns(xts_table$Return, top = 10, digits = 5):\n",
      "\"Only 3 available in the data.\"\n"
     ]
    },
    {
     "name": "stdout",
     "output_type": "stream",
     "text": [
      "        From     Trough         To    Depth Length To Trough Recovery\n",
      "1 2022-01-31 2022-12-30 2023-05-31 -0.26404     17        12        5\n",
      "2 2023-08-31 2023-10-31 2024-06-28 -0.12955     11         3        8\n",
      "3 2021-09-30 2021-09-30 2021-11-30 -0.07219      3         1        2\n"
     ]
    },
    {
     "name": "stderr",
     "output_type": "stream",
     "text": [
      "Warning message in table.Drawdowns(xts_table$Return, top = 10, digits = 5):\n",
      "\"Only 1 available in the data.\"\n"
     ]
    },
    {
     "data": {
      "image/png": "[encoded data removed]",
      "text/plain": [
       "Plot with title \"AAPL\""
      ]
     },
     "metadata": {
      "image/png": {
       "height": 420,
       "width": 420
      }
     },
     "output_type": "display_data"
    },
    {
     "name": "stdout",
     "output_type": "stream",
     "text": [
      "        From     Trough   To    Depth Length To Trough Recovery\n",
      "1 2021-09-30 2024-04-30 <NA> -0.99329     37        32       NA\n"
     ]
    },
    {
     "name": "stderr",
     "output_type": "stream",
     "text": [
      "Warning message in table.Drawdowns(xts_table$Return, top = 10, digits = 5):\n",
      "\"Only 4 available in the data.\"\n"
     ]
    },
    {
     "data": {
      "image/png": "[encoded data removed]",
      "text/plain": [
       "Plot with title \"AMC\""
      ]
     },
     "metadata": {
      "image/png": {
       "height": 420,
       "width": 420
      }
     },
     "output_type": "display_data"
    },
    {
     "name": "stdout",
     "output_type": "stream",
     "text": [
      "        From     Trough         To    Depth Length To Trough Recovery\n",
      "1 2021-12-31 2022-12-30 2024-02-29 -0.52097     27        13       14\n",
      "2 2024-07-31 2024-08-30       <NA> -0.07633      3         2       NA\n",
      "3 2021-09-30 2021-09-30 2021-11-30 -0.05575      3         1        2\n",
      "4 2024-04-30 2024-04-30 2024-06-28 -0.02983      3         1        2\n"
     ]
    },
    {
     "name": "stderr",
     "output_type": "stream",
     "text": [
      "Warning message in table.Drawdowns(xts_table$Return, top = 10, digits = 5):\n",
      "\"Only 5 available in the data.\"\n"
     ]
    },
    {
     "data": {
      "image/png": "[encoded data removed]",
      "text/plain": [
       "Plot with title \"AMZN\""
      ]
     },
     "metadata": {
      "image/png": {
       "height": 420,
       "width": 420
      }
     },
     "output_type": "display_data"
    },
    {
     "name": "stdout",
     "output_type": "stream",
     "text": [
      "        From     Trough         To    Depth Length To Trough Recovery\n",
      "1 2022-04-29 2022-12-30 2023-11-30 -0.20316     20         9       11\n",
      "2 2022-01-31 2022-01-31 2022-03-31 -0.11022      3         1        2\n",
      "3 2024-07-31 2024-07-31 2024-08-30 -0.03155      2         1        1\n",
      "4 2024-03-28 2024-04-30 2024-05-31 -0.02666      3         2        1\n",
      "5 2021-09-30 2021-09-30 2021-10-29 -0.01571      2         1        1\n"
     ]
    },
    {
     "name": "stderr",
     "output_type": "stream",
     "text": [
      "Warning message in table.Drawdowns(xts_table$Return, top = 10, digits = 5):\n",
      "\"Only 4 available in the data.\"\n"
     ]
    },
    {
     "data": {
      "image/png": "[encoded data removed]",
      "text/plain": [
       "Plot with title \"COST\""
      ]
     },
     "metadata": {
      "image/png": {
       "height": 420,
       "width": 420
      }
     },
     "output_type": "display_data"
    },
    {
     "name": "stdout",
     "output_type": "stream",
     "text": [
      "        From     Trough         To    Depth Length To Trough Recovery\n",
      "1 2022-01-31 2022-09-30 2023-12-29 -0.24770     24         9       15\n",
      "2 2021-09-30 2021-09-30 2021-10-29 -0.04757      2         1        1\n",
      "3 2024-04-30 2024-04-30 2024-05-31 -0.04162      2         1        1\n",
      "4 2021-11-30 2021-11-30 2021-12-31 -0.00833      2         1        1\n"
     ]
    },
    {
     "name": "stderr",
     "output_type": "stream",
     "text": [
      "Warning message in table.Drawdowns(xts_table$Return, top = 10, digits = 5):\n",
      "\"Only 7 available in the data.\"\n"
     ]
    },
    {
     "data": {
      "image/png": "[encoded data removed]",
      "text/plain": [
       "Plot with title \"GSPC\""
      ]
     },
     "metadata": {
      "image/png": {
       "height": 420,
       "width": 420
      }
     },
     "output_type": "display_data"
    },
    {
     "name": "stdout",
     "output_type": "stream",
     "text": [
      "        From     Trough         To    Depth Length To Trough Recovery\n",
      "1 2022-01-31 2022-10-31 2023-06-30 -0.30528     18        10        8\n",
      "2 2024-04-30 2024-04-30 2024-06-28 -0.07461      3         1        2\n",
      "3 2023-07-31 2023-09-29 2023-11-30 -0.07083      5         3        2\n",
      "4 2021-09-30 2021-09-30 2021-10-29 -0.06596      2         1        1\n",
      "5 2024-07-31 2024-08-30       <NA> -0.06501      3         2       NA\n",
      "6 2023-12-29 2023-12-29 2024-01-31 -0.00757      2         1        1\n",
      "7 2021-11-30 2021-11-30 2021-12-31 -0.00128      2         1        1\n"
     ]
    },
    {
     "name": "stderr",
     "output_type": "stream",
     "text": [
      "Warning message in table.Drawdowns(xts_table$Return, top = 10, digits = 5):\n",
      "\"Only 5 available in the data.\"\n"
     ]
    },
    {
     "data": {
      "image/png": "[encoded data removed]",
      "text/plain": [
       "Plot with title \"MSFT\""
      ]
     },
     "metadata": {
      "image/png": {
       "height": 420,
       "width": 420
      }
     },
     "output_type": "display_data"
    },
    {
     "name": "stdout",
     "output_type": "stream",
     "text": [
      "        From     Trough         To    Depth Length To Trough Recovery\n",
      "1 2021-12-31 2022-09-30 2023-05-31 -0.62821     18        10        8\n",
      "2 2023-09-29 2023-10-31 2023-12-29 -0.17367      4         2        2\n",
      "3 2021-09-30 2021-09-30 2021-10-29 -0.07687      2         1        1\n",
      "4 2024-07-31 2024-07-31       <NA> -0.05278      3         1       NA\n",
      "5 2024-04-30 2024-04-30 2024-05-31 -0.04376      2         1        1\n"
     ]
    },
    {
     "name": "stderr",
     "output_type": "stream",
     "text": [
      "Warning message in table.Drawdowns(xts_table$Return, top = 10, digits = 5):\n",
      "\"Only 2 available in the data.\"\n"
     ]
    },
    {
     "data": {
      "image/png": "[encoded data removed]",
      "text/plain": [
       "Plot with title \"NVDA\""
      ]
     },
     "metadata": {
      "image/png": {
       "height": 420,
       "width": 420
      }
     },
     "output_type": "display_data"
    },
    {
     "name": "stdout",
     "output_type": "stream",
     "text": [
      "        From     Trough         To    Depth Length To Trough Recovery\n",
      "1 2021-11-30 2023-09-29       <NA> -0.55411     35        23       NA\n",
      "2 2021-09-30 2021-09-30 2021-10-29 -0.07144      2         1        1\n"
     ]
    },
    {
     "name": "stderr",
     "output_type": "stream",
     "text": [
      "Warning message in table.Drawdowns(xts_table$Return, top = 10, digits = 5):\n",
      "\"Only 7 available in the data.\"\n"
     ]
    },
    {
     "data": {
      "image/png": "[encoded data removed]",
      "text/plain": [
       "Plot with title \"TGT\""
      ]
     },
     "metadata": {
      "image/png": {
       "height": 420,
       "width": 420
      }
     },
     "output_type": "display_data"
    },
    {
     "name": "stdout",
     "output_type": "stream",
     "text": [
      "        From     Trough         To    Depth Length To Trough Recovery\n",
      "1 2022-05-31 2022-06-30 2022-11-30 -0.20242      7         2        5\n",
      "2 2021-11-30 2022-02-28 2022-03-31 -0.09179      5         4        1\n",
      "3 2022-12-30 2022-12-30 2023-06-30 -0.06623      7         1        6\n",
      "4 2021-09-30 2021-09-30 2021-10-29 -0.05684      2         1        1\n",
      "5 2023-11-30 2023-11-30 2024-01-31 -0.04724      3         1        2\n",
      "6 2023-09-29 2023-09-29 2023-10-31 -0.01648      2         1        1\n",
      "7 2024-04-30 2024-04-30 2024-05-31 -0.01363      2         1        1\n"
     ]
    },
    {
     "data": {
      "image/png": "[encoded data removed]",
      "text/plain": [
       "Plot with title \"WMT\""
      ]
     },
     "metadata": {
      "image/png": {
       "height": 420,
       "width": 420
      }
     },
     "output_type": "display_data"
    }
   ],
   "source": [
    "for (i in seq_along(stock_df_list)) {\n",
    "  df <- stock_df_list[[i]]\n",
    "\n",
    "  xts_table <- xts(df$Return, order.by = df$Date)\n",
    "  names(xts_table) <- \"Return\"\n",
    "\n",
    "\n",
    "  print(chart.Drawdown(xts_table))\n",
    "  title(main = names(stock_df_list)[i])\n",
    "  print(table.Drawdowns(xts_table$Return, top = 10, digits = 5))\n",
    " \n",
    "}"
   ]
  },
  {
   "cell_type": "code",
   "execution_count": 24,
   "metadata": {
    "vscode": {
     "languageId": "r"
    }
   },
   "outputs": [
    {
     "name": "stderr",
     "output_type": "stream",
     "text": [
      "Warning message in table.Drawdowns(aapl_xts$Return, top = 10, digits = 5):\n",
      "\"Only 3 available in the data.\"\n"
     ]
    },
    {
     "data": {
      "text/html": [
       "<table class=\"dataframe\">\n",
       "<caption>A data.frame: 3 × 7</caption>\n",
       "<thead>\n",
       "\t<tr><th scope=col>From</th><th scope=col>Trough</th><th scope=col>To</th><th scope=col>Depth</th><th scope=col>Length</th><th scope=col>To Trough</th><th scope=col>Recovery</th></tr>\n",
       "\t<tr><th scope=col>&lt;dttm&gt;</th><th scope=col>&lt;dttm&gt;</th><th scope=col>&lt;dttm&gt;</th><th scope=col>&lt;dbl&gt;</th><th scope=col>&lt;dbl&gt;</th><th scope=col>&lt;dbl&gt;</th><th scope=col>&lt;dbl&gt;</th></tr>\n",
       "</thead>\n",
       "<tbody>\n",
       "\t<tr><td>2022-01-31</td><td>2022-12-30</td><td>2023-05-31</td><td>-0.26404</td><td>17</td><td>12</td><td>5</td></tr>\n",
       "\t<tr><td>2023-08-31</td><td>2023-10-31</td><td>2024-06-28</td><td>-0.12955</td><td>11</td><td> 3</td><td>8</td></tr>\n",
       "\t<tr><td>2021-09-30</td><td>2021-09-30</td><td>2021-11-30</td><td>-0.07219</td><td> 3</td><td> 1</td><td>2</td></tr>\n",
       "</tbody>\n",
       "</table>\n"
      ],
      "text/latex": [
       "A data.frame: 3 × 7\n",
       "\\begin{tabular}{lllllll}\n",
       " From & Trough & To & Depth & Length & To Trough & Recovery\\\\\n",
       " <dttm> & <dttm> & <dttm> & <dbl> & <dbl> & <dbl> & <dbl>\\\\\n",
       "\\hline\n",
       "\t 2022-01-31 & 2022-12-30 & 2023-05-31 & -0.26404 & 17 & 12 & 5\\\\\n",
       "\t 2023-08-31 & 2023-10-31 & 2024-06-28 & -0.12955 & 11 &  3 & 8\\\\\n",
       "\t 2021-09-30 & 2021-09-30 & 2021-11-30 & -0.07219 &  3 &  1 & 2\\\\\n",
       "\\end{tabular}\n"
      ],
      "text/markdown": [
       "\n",
       "A data.frame: 3 × 7\n",
       "\n",
       "| From &lt;dttm&gt; | Trough &lt;dttm&gt; | To &lt;dttm&gt; | Depth &lt;dbl&gt; | Length &lt;dbl&gt; | To Trough &lt;dbl&gt; | Recovery &lt;dbl&gt; |\n",
       "|---|---|---|---|---|---|---|\n",
       "| 2022-01-31 | 2022-12-30 | 2023-05-31 | -0.26404 | 17 | 12 | 5 |\n",
       "| 2023-08-31 | 2023-10-31 | 2024-06-28 | -0.12955 | 11 |  3 | 8 |\n",
       "| 2021-09-30 | 2021-09-30 | 2021-11-30 | -0.07219 |  3 |  1 | 2 |\n",
       "\n"
      ],
      "text/plain": [
       "  From       Trough     To         Depth    Length To Trough Recovery\n",
       "1 2022-01-31 2022-12-30 2023-05-31 -0.26404 17     12        5       \n",
       "2 2023-08-31 2023-10-31 2024-06-28 -0.12955 11      3        8       \n",
       "3 2021-09-30 2021-09-30 2021-11-30 -0.07219  3      1        2       "
      ]
     },
     "metadata": {},
     "output_type": "display_data"
    },
    {
     "data": {
      "image/png": "[encoded data removed]",
      "text/plain": [
       "plot without title"
      ]
     },
     "metadata": {
      "image/png": {
       "height": 420,
       "width": 420
      }
     },
     "output_type": "display_data"
    }
   ],
   "source": [
    "chart.Drawdown(aapl_xts)\n",
    "table.Drawdowns(aapl_xts$Return, top = 10, digits = 5)"
   ]
  },
  {
   "cell_type": "code",
   "execution_count": 25,
   "metadata": {
    "vscode": {
     "languageId": "r"
    }
   },
   "outputs": [
    {
     "data": {
      "text/html": [
       "<style>\n",
       ".list-inline {list-style: none; margin:0; padding: 0}\n",
       ".list-inline>li {display: inline-block}\n",
       ".list-inline>li:not(:last-child)::after {content: \"\\00b7\"; padding: 0 .5ex}\n",
       "</style>\n",
       "<ol class=list-inline><li>-0.072191738</li><li>0.058657229</li><li>0.105081867</li><li>0.07422855</li><li>-0.015712071</li><li>-0.05406591</li><li>0.05747338</li><li>-0.097130847</li><li>-0.054495934</li><li>-0.081429783</li><li>0.188633476</li><li>-0.031207921</li><li>-0.120976879</li><li>0.10955127</li><li>-0.033027523</li><li>-0.122272433</li><li>0.110521043</li><li>0.023183088</li><li>0.118648633</li><li>0.028987167</li><li>0.046058343</li><li>0.094330025</li><li>0.012785342</li><li>-0.0423838</li><li>-0.088678333</li><li>-0.002569851</li><li>0.113780227</li><li>0.013582465</li><li>-0.042227147</li><li>-0.018543163</li><li>-0.051286359</li><li>-0.006706295</li><li>0.130222283</li><li>0.095552634</li><li>0.054410845</li><li>0.032353498</li></ol>\n"
      ],
      "text/latex": [
       "\\begin{enumerate*}\n",
       "\\item -0.072191738\n",
       "\\item 0.058657229\n",
       "\\item 0.105081867\n",
       "\\item 0.07422855\n",
       "\\item -0.015712071\n",
       "\\item -0.05406591\n",
       "\\item 0.05747338\n",
       "\\item -0.097130847\n",
       "\\item -0.054495934\n",
       "\\item -0.081429783\n",
       "\\item 0.188633476\n",
       "\\item -0.031207921\n",
       "\\item -0.120976879\n",
       "\\item 0.10955127\n",
       "\\item -0.033027523\n",
       "\\item -0.122272433\n",
       "\\item 0.110521043\n",
       "\\item 0.023183088\n",
       "\\item 0.118648633\n",
       "\\item 0.028987167\n",
       "\\item 0.046058343\n",
       "\\item 0.094330025\n",
       "\\item 0.012785342\n",
       "\\item -0.0423838\n",
       "\\item -0.088678333\n",
       "\\item -0.002569851\n",
       "\\item 0.113780227\n",
       "\\item 0.013582465\n",
       "\\item -0.042227147\n",
       "\\item -0.018543163\n",
       "\\item -0.051286359\n",
       "\\item -0.006706295\n",
       "\\item 0.130222283\n",
       "\\item 0.095552634\n",
       "\\item 0.054410845\n",
       "\\item 0.032353498\n",
       "\\end{enumerate*}\n"
      ],
      "text/markdown": [
       "1. -0.072191738\n",
       "2. 0.058657229\n",
       "3. 0.105081867\n",
       "4. 0.07422855\n",
       "5. -0.015712071\n",
       "6. -0.05406591\n",
       "7. 0.05747338\n",
       "8. -0.097130847\n",
       "9. -0.054495934\n",
       "10. -0.081429783\n",
       "11. 0.188633476\n",
       "12. -0.031207921\n",
       "13. -0.120976879\n",
       "14. 0.10955127\n",
       "15. -0.033027523\n",
       "16. -0.122272433\n",
       "17. 0.110521043\n",
       "18. 0.023183088\n",
       "19. 0.118648633\n",
       "20. 0.028987167\n",
       "21. 0.046058343\n",
       "22. 0.094330025\n",
       "23. 0.012785342\n",
       "24. -0.0423838\n",
       "25. -0.088678333\n",
       "26. -0.002569851\n",
       "27. 0.113780227\n",
       "28. 0.013582465\n",
       "29. -0.042227147\n",
       "30. -0.018543163\n",
       "31. -0.051286359\n",
       "32. -0.006706295\n",
       "33. 0.130222283\n",
       "34. 0.095552634\n",
       "35. 0.054410845\n",
       "36. 0.032353498\n",
       "\n",
       "\n"
      ],
      "text/plain": [
       " [1] -0.072191738  0.058657229  0.105081867  0.074228550 -0.015712071\n",
       " [6] -0.054065910  0.057473380 -0.097130847 -0.054495934 -0.081429783\n",
       "[11]  0.188633476 -0.031207921 -0.120976879  0.109551270 -0.033027523\n",
       "[16] -0.122272433  0.110521043  0.023183088  0.118648633  0.028987167\n",
       "[21]  0.046058343  0.094330025  0.012785342 -0.042383800 -0.088678333\n",
       "[26] -0.002569851  0.113780227  0.013582465 -0.042227147 -0.018543163\n",
       "[31] -0.051286359 -0.006706295  0.130222283  0.095552634  0.054410845\n",
       "[36]  0.032353498"
      ]
     },
     "metadata": {},
     "output_type": "display_data"
    }
   ],
   "source": [
    "stock_df_list[\"AAPL\"]$AAPL$Return"
   ]
  },
  {
   "cell_type": "markdown",
   "metadata": {},
   "source": [
    "Module 7"
   ]
  },
  {
   "cell_type": "code",
   "execution_count": 3,
   "metadata": {
    "vscode": {
     "languageId": "r"
    }
   },
   "outputs": [],
   "source": [
    "stocks_df = read.csv(\"Module_07_stock_data.csv\")"
   ]
  },
  {
   "cell_type": "code",
   "execution_count": 113,
   "metadata": {
    "vscode": {
     "languageId": "r"
    }
   },
   "outputs": [
    {
     "data": {
      "text/html": [
       "<table class=\"dataframe\">\n",
       "<caption>A data.frame: 6 × 12</caption>\n",
       "<thead>\n",
       "\t<tr><th></th><th scope=col>Date</th><th scope=col>AAPL</th><th scope=col>TSLA</th><th scope=col>NVDA</th><th scope=col>AMZN</th><th scope=col>MSFT</th><th scope=col>META</th><th scope=col>GOOGL</th><th scope=col>BRK.B</th><th scope=col>XOM</th><th scope=col>PFE</th><th scope=col>S.P.500</th></tr>\n",
       "\t<tr><th></th><th scope=col>&lt;chr&gt;</th><th scope=col>&lt;dbl&gt;</th><th scope=col>&lt;dbl&gt;</th><th scope=col>&lt;dbl&gt;</th><th scope=col>&lt;dbl&gt;</th><th scope=col>&lt;dbl&gt;</th><th scope=col>&lt;dbl&gt;</th><th scope=col>&lt;dbl&gt;</th><th scope=col>&lt;dbl&gt;</th><th scope=col>&lt;dbl&gt;</th><th scope=col>&lt;dbl&gt;</th><th scope=col>&lt;dbl&gt;</th></tr>\n",
       "</thead>\n",
       "<tbody>\n",
       "\t<tr><th scope=row>1</th><td>2023-01-03</td><td>123.9046</td><td>108.10</td><td>14.30558</td><td>85.82</td><td>236.1835</td><td>124.3655</td><td>88.89987</td><td>309.91</td><td>100.4146</td><td>46.92820</td><td>3824.14</td></tr>\n",
       "\t<tr><th scope=row>2</th><td>2023-01-04</td><td>125.1826</td><td>113.64</td><td>14.73930</td><td>85.14</td><td>225.8521</td><td>126.9877</td><td>87.86243</td><td>314.55</td><td>100.7069</td><td>45.89369</td><td>3852.97</td></tr>\n",
       "\t<tr><th scope=row>3</th><td>2023-01-05</td><td>123.8551</td><td>110.34</td><td>14.25562</td><td>83.12</td><td>219.1584</td><td>126.5590</td><td>85.98708</td><td>312.90</td><td>102.9601</td><td>45.46341</td><td>3808.10</td></tr>\n",
       "\t<tr><th scope=row>4</th><td>2023-01-06</td><td>128.4122</td><td>113.06</td><td>14.84922</td><td>86.08</td><td>221.7412</td><td>129.6297</td><td>87.12426</td><td>318.69</td><td>104.2046</td><td>46.61693</td><td>3895.08</td></tr>\n",
       "\t<tr><th scope=row>5</th><td>2023-01-09</td><td>128.9373</td><td>119.77</td><td>15.61772</td><td>87.36</td><td>223.9001</td><td>129.0813</td><td>87.80258</td><td>315.53</td><td>102.2625</td><td>44.30074</td><td>3892.09</td></tr>\n",
       "\t<tr><th scope=row>6</th><td>2023-01-10</td><td>129.5119</td><td>118.85</td><td>15.89853</td><td>89.87</td><td>225.6056</td><td>132.5908</td><td>88.20159</td><td>316.35</td><td>103.7897</td><td>43.59580</td><td>3919.25</td></tr>\n",
       "</tbody>\n",
       "</table>\n"
      ],
      "text/latex": [
       "A data.frame: 6 × 12\n",
       "\\begin{tabular}{r|llllllllllll}\n",
       "  & Date & AAPL & TSLA & NVDA & AMZN & MSFT & META & GOOGL & BRK.B & XOM & PFE & S.P.500\\\\\n",
       "  & <chr> & <dbl> & <dbl> & <dbl> & <dbl> & <dbl> & <dbl> & <dbl> & <dbl> & <dbl> & <dbl> & <dbl>\\\\\n",
       "\\hline\n",
       "\t1 & 2023-01-03 & 123.9046 & 108.10 & 14.30558 & 85.82 & 236.1835 & 124.3655 & 88.89987 & 309.91 & 100.4146 & 46.92820 & 3824.14\\\\\n",
       "\t2 & 2023-01-04 & 125.1826 & 113.64 & 14.73930 & 85.14 & 225.8521 & 126.9877 & 87.86243 & 314.55 & 100.7069 & 45.89369 & 3852.97\\\\\n",
       "\t3 & 2023-01-05 & 123.8551 & 110.34 & 14.25562 & 83.12 & 219.1584 & 126.5590 & 85.98708 & 312.90 & 102.9601 & 45.46341 & 3808.10\\\\\n",
       "\t4 & 2023-01-06 & 128.4122 & 113.06 & 14.84922 & 86.08 & 221.7412 & 129.6297 & 87.12426 & 318.69 & 104.2046 & 46.61693 & 3895.08\\\\\n",
       "\t5 & 2023-01-09 & 128.9373 & 119.77 & 15.61772 & 87.36 & 223.9001 & 129.0813 & 87.80258 & 315.53 & 102.2625 & 44.30074 & 3892.09\\\\\n",
       "\t6 & 2023-01-10 & 129.5119 & 118.85 & 15.89853 & 89.87 & 225.6056 & 132.5908 & 88.20159 & 316.35 & 103.7897 & 43.59580 & 3919.25\\\\\n",
       "\\end{tabular}\n"
      ],
      "text/markdown": [
       "\n",
       "A data.frame: 6 × 12\n",
       "\n",
       "| <!--/--> | Date &lt;chr&gt; | AAPL &lt;dbl&gt; | TSLA &lt;dbl&gt; | NVDA &lt;dbl&gt; | AMZN &lt;dbl&gt; | MSFT &lt;dbl&gt; | META &lt;dbl&gt; | GOOGL &lt;dbl&gt; | BRK.B &lt;dbl&gt; | XOM &lt;dbl&gt; | PFE &lt;dbl&gt; | S.P.500 &lt;dbl&gt; |\n",
       "|---|---|---|---|---|---|---|---|---|---|---|---|---|\n",
       "| 1 | 2023-01-03 | 123.9046 | 108.10 | 14.30558 | 85.82 | 236.1835 | 124.3655 | 88.89987 | 309.91 | 100.4146 | 46.92820 | 3824.14 |\n",
       "| 2 | 2023-01-04 | 125.1826 | 113.64 | 14.73930 | 85.14 | 225.8521 | 126.9877 | 87.86243 | 314.55 | 100.7069 | 45.89369 | 3852.97 |\n",
       "| 3 | 2023-01-05 | 123.8551 | 110.34 | 14.25562 | 83.12 | 219.1584 | 126.5590 | 85.98708 | 312.90 | 102.9601 | 45.46341 | 3808.10 |\n",
       "| 4 | 2023-01-06 | 128.4122 | 113.06 | 14.84922 | 86.08 | 221.7412 | 129.6297 | 87.12426 | 318.69 | 104.2046 | 46.61693 | 3895.08 |\n",
       "| 5 | 2023-01-09 | 128.9373 | 119.77 | 15.61772 | 87.36 | 223.9001 | 129.0813 | 87.80258 | 315.53 | 102.2625 | 44.30074 | 3892.09 |\n",
       "| 6 | 2023-01-10 | 129.5119 | 118.85 | 15.89853 | 89.87 | 225.6056 | 132.5908 | 88.20159 | 316.35 | 103.7897 | 43.59580 | 3919.25 |\n",
       "\n"
      ],
      "text/plain": [
       "  Date       AAPL     TSLA   NVDA     AMZN  MSFT     META     GOOGL    BRK.B \n",
       "1 2023-01-03 123.9046 108.10 14.30558 85.82 236.1835 124.3655 88.89987 309.91\n",
       "2 2023-01-04 125.1826 113.64 14.73930 85.14 225.8521 126.9877 87.86243 314.55\n",
       "3 2023-01-05 123.8551 110.34 14.25562 83.12 219.1584 126.5590 85.98708 312.90\n",
       "4 2023-01-06 128.4122 113.06 14.84922 86.08 221.7412 129.6297 87.12426 318.69\n",
       "5 2023-01-09 128.9373 119.77 15.61772 87.36 223.9001 129.0813 87.80258 315.53\n",
       "6 2023-01-10 129.5119 118.85 15.89853 89.87 225.6056 132.5908 88.20159 316.35\n",
       "  XOM      PFE      S.P.500\n",
       "1 100.4146 46.92820 3824.14\n",
       "2 100.7069 45.89369 3852.97\n",
       "3 102.9601 45.46341 3808.10\n",
       "4 104.2046 46.61693 3895.08\n",
       "5 102.2625 44.30074 3892.09\n",
       "6 103.7897 43.59580 3919.25"
      ]
     },
     "metadata": {},
     "output_type": "display_data"
    }
   ],
   "source": [
    "head(stocks_df)"
   ]
  },
  {
   "cell_type": "code",
   "execution_count": 4,
   "metadata": {
    "vscode": {
     "languageId": "r"
    }
   },
   "outputs": [],
   "source": [
    "stocks_df$Date <- parse_date_time(stocks_df$Date, orders = c(\"mdy\", \"ymd\", \"dmy\"), quiet = TRUE)"
   ]
  },
  {
   "cell_type": "code",
   "execution_count": 5,
   "metadata": {
    "vscode": {
     "languageId": "r"
    }
   },
   "outputs": [],
   "source": [
    "stocks_df$Date <- parse_date_time(stocks_df$Date, orders = c(\"mdy\", \"ymd\", \"dmy\"), quiet = TRUE)\n",
    "stocks_df_2 = stocks_df[order(stocks_df$Date),]"
   ]
  },
  {
   "cell_type": "code",
   "execution_count": 6,
   "metadata": {
    "vscode": {
     "languageId": "r"
    }
   },
   "outputs": [
    {
     "data": {
      "text/html": [
       "<table class=\"dataframe\">\n",
       "<caption>A data.frame: 4 × 12</caption>\n",
       "<thead>\n",
       "\t<tr><th></th><th scope=col>Date</th><th scope=col>AAPL</th><th scope=col>TSLA</th><th scope=col>NVDA</th><th scope=col>AMZN</th><th scope=col>MSFT</th><th scope=col>META</th><th scope=col>GOOGL</th><th scope=col>BRK.B</th><th scope=col>XOM</th><th scope=col>PFE</th><th scope=col>S.P.500</th></tr>\n",
       "\t<tr><th></th><th scope=col>&lt;dttm&gt;</th><th scope=col>&lt;dbl&gt;</th><th scope=col>&lt;dbl&gt;</th><th scope=col>&lt;dbl&gt;</th><th scope=col>&lt;dbl&gt;</th><th scope=col>&lt;dbl&gt;</th><th scope=col>&lt;dbl&gt;</th><th scope=col>&lt;dbl&gt;</th><th scope=col>&lt;dbl&gt;</th><th scope=col>&lt;dbl&gt;</th><th scope=col>&lt;dbl&gt;</th><th scope=col>&lt;dbl&gt;</th></tr>\n",
       "</thead>\n",
       "<tbody>\n",
       "\t<tr><th scope=row>1</th><td>2023-01-03</td><td>123.9046</td><td>108.10</td><td>14.30558</td><td>85.82</td><td>236.1835</td><td>124.3655</td><td>88.89987</td><td>309.91</td><td>100.4146</td><td>46.92820</td><td>3824.14</td></tr>\n",
       "\t<tr><th scope=row>2</th><td>2023-01-04</td><td>125.1826</td><td>113.64</td><td>14.73930</td><td>85.14</td><td>225.8521</td><td>126.9877</td><td>87.86243</td><td>314.55</td><td>100.7069</td><td>45.89369</td><td>3852.97</td></tr>\n",
       "\t<tr><th scope=row>3</th><td>2023-01-05</td><td>123.8551</td><td>110.34</td><td>14.25562</td><td>83.12</td><td>219.1584</td><td>126.5590</td><td>85.98708</td><td>312.90</td><td>102.9601</td><td>45.46341</td><td>3808.10</td></tr>\n",
       "\t<tr><th scope=row>4</th><td>2023-01-06</td><td>128.4122</td><td>113.06</td><td>14.84922</td><td>86.08</td><td>221.7412</td><td>129.6297</td><td>87.12426</td><td>318.69</td><td>104.2046</td><td>46.61693</td><td>3895.08</td></tr>\n",
       "</tbody>\n",
       "</table>\n"
      ],
      "text/latex": [
       "A data.frame: 4 × 12\n",
       "\\begin{tabular}{r|llllllllllll}\n",
       "  & Date & AAPL & TSLA & NVDA & AMZN & MSFT & META & GOOGL & BRK.B & XOM & PFE & S.P.500\\\\\n",
       "  & <dttm> & <dbl> & <dbl> & <dbl> & <dbl> & <dbl> & <dbl> & <dbl> & <dbl> & <dbl> & <dbl> & <dbl>\\\\\n",
       "\\hline\n",
       "\t1 & 2023-01-03 & 123.9046 & 108.10 & 14.30558 & 85.82 & 236.1835 & 124.3655 & 88.89987 & 309.91 & 100.4146 & 46.92820 & 3824.14\\\\\n",
       "\t2 & 2023-01-04 & 125.1826 & 113.64 & 14.73930 & 85.14 & 225.8521 & 126.9877 & 87.86243 & 314.55 & 100.7069 & 45.89369 & 3852.97\\\\\n",
       "\t3 & 2023-01-05 & 123.8551 & 110.34 & 14.25562 & 83.12 & 219.1584 & 126.5590 & 85.98708 & 312.90 & 102.9601 & 45.46341 & 3808.10\\\\\n",
       "\t4 & 2023-01-06 & 128.4122 & 113.06 & 14.84922 & 86.08 & 221.7412 & 129.6297 & 87.12426 & 318.69 & 104.2046 & 46.61693 & 3895.08\\\\\n",
       "\\end{tabular}\n"
      ],
      "text/markdown": [
       "\n",
       "A data.frame: 4 × 12\n",
       "\n",
       "| <!--/--> | Date &lt;dttm&gt; | AAPL &lt;dbl&gt; | TSLA &lt;dbl&gt; | NVDA &lt;dbl&gt; | AMZN &lt;dbl&gt; | MSFT &lt;dbl&gt; | META &lt;dbl&gt; | GOOGL &lt;dbl&gt; | BRK.B &lt;dbl&gt; | XOM &lt;dbl&gt; | PFE &lt;dbl&gt; | S.P.500 &lt;dbl&gt; |\n",
       "|---|---|---|---|---|---|---|---|---|---|---|---|---|\n",
       "| 1 | 2023-01-03 | 123.9046 | 108.10 | 14.30558 | 85.82 | 236.1835 | 124.3655 | 88.89987 | 309.91 | 100.4146 | 46.92820 | 3824.14 |\n",
       "| 2 | 2023-01-04 | 125.1826 | 113.64 | 14.73930 | 85.14 | 225.8521 | 126.9877 | 87.86243 | 314.55 | 100.7069 | 45.89369 | 3852.97 |\n",
       "| 3 | 2023-01-05 | 123.8551 | 110.34 | 14.25562 | 83.12 | 219.1584 | 126.5590 | 85.98708 | 312.90 | 102.9601 | 45.46341 | 3808.10 |\n",
       "| 4 | 2023-01-06 | 128.4122 | 113.06 | 14.84922 | 86.08 | 221.7412 | 129.6297 | 87.12426 | 318.69 | 104.2046 | 46.61693 | 3895.08 |\n",
       "\n"
      ],
      "text/plain": [
       "  Date       AAPL     TSLA   NVDA     AMZN  MSFT     META     GOOGL    BRK.B \n",
       "1 2023-01-03 123.9046 108.10 14.30558 85.82 236.1835 124.3655 88.89987 309.91\n",
       "2 2023-01-04 125.1826 113.64 14.73930 85.14 225.8521 126.9877 87.86243 314.55\n",
       "3 2023-01-05 123.8551 110.34 14.25562 83.12 219.1584 126.5590 85.98708 312.90\n",
       "4 2023-01-06 128.4122 113.06 14.84922 86.08 221.7412 129.6297 87.12426 318.69\n",
       "  XOM      PFE      S.P.500\n",
       "1 100.4146 46.92820 3824.14\n",
       "2 100.7069 45.89369 3852.97\n",
       "3 102.9601 45.46341 3808.10\n",
       "4 104.2046 46.61693 3895.08"
      ]
     },
     "metadata": {},
     "output_type": "display_data"
    }
   ],
   "source": [
    "stocks_df_2[(stocks_df_2$Date>= \"2023-01-02\" & stocks_df_2$Date <= \"2023-01-07\"),]"
   ]
  },
  {
   "cell_type": "code",
   "execution_count": 7,
   "metadata": {
    "vscode": {
     "languageId": "r"
    }
   },
   "outputs": [],
   "source": [
    "stocks_df_3 = xts(stocks_df_2[,-1],order.by = stocks_df_2[,1])"
   ]
  },
  {
   "cell_type": "code",
   "execution_count": null,
   "metadata": {
    "vscode": {
     "languageId": "r"
    }
   },
   "outputs": [],
   "source": [
    "# stocks_df_3[(stocks_df_3$date> \"2014-12-03\" & temp$date < \"2014-12-05\"),]"
   ]
  },
  {
   "cell_type": "code",
   "execution_count": null,
   "metadata": {
    "vscode": {
     "languageId": "r"
    }
   },
   "outputs": [],
   "source": [
    "# stocks_df_3 %>%\n",
    "# filter(release_date >= as.Date(\"2000-01-01\") & release_date <= as.Date(\"2020-12-3\"))"
   ]
  },
  {
   "cell_type": "code",
   "execution_count": 118,
   "metadata": {
    "vscode": {
     "languageId": "r"
    }
   },
   "outputs": [
    {
     "name": "stderr",
     "output_type": "stream",
     "text": [
      "Warning message:\n",
      "\"object timezone ('UTC') is different from system timezone ('')\"\n"
     ]
    },
    {
     "data": {
      "text/plain": [
       "             AAPL   TSLA     NVDA   AMZN   MSFT     META    GOOGL  BRK.B    XOM\n",
       "2024-08-23 226.84 220.32 129.3589 177.04 416.79 527.4968 165.4005 453.38 116.32\n",
       "2024-08-26 227.18 213.21 126.4492 175.50 413.49 520.6234 165.9398 454.49 118.81\n",
       "2024-08-27 228.03 209.21 128.2890 173.12 413.84 518.6052 164.4618 460.63 117.68\n",
       "2024-08-28 226.49 205.75 125.5993 170.80 410.60 516.2875 162.6342 464.59 116.52\n",
       "2024-08-29 229.79 206.28 117.5799 172.12 413.12 517.7261 161.5656 468.37 118.13\n",
       "2024-08-30 229.00 214.11 119.3598 178.50 417.14 520.8132 163.1635 475.92 117.94\n",
       "             PFE S.P.500\n",
       "2024-08-23 28.90 5634.61\n",
       "2024-08-26 28.92 5616.84\n",
       "2024-08-27 28.82 5625.80\n",
       "2024-08-28 28.75 5592.18\n",
       "2024-08-29 28.72 5591.96\n",
       "2024-08-30 29.01 5648.40"
      ]
     },
     "metadata": {},
     "output_type": "display_data"
    }
   ],
   "source": [
    "tail(stocks_df_3)"
   ]
  },
  {
   "cell_type": "code",
   "execution_count": 50,
   "metadata": {
    "vscode": {
     "languageId": "r"
    }
   },
   "outputs": [
    {
     "name": "stderr",
     "output_type": "stream",
     "text": [
      "Warning message:\n",
      "\"\u001b[1m\u001b[22mReturning more (or less) than 1 row per `summarise()` group was deprecated in\n",
      "dplyr 1.1.0.\n",
      "\u001b[36mℹ\u001b[39m Please use `reframe()` instead.\n",
      "\u001b[36mℹ\u001b[39m When switching from `summarise()` to `reframe()`, remember that `reframe()`\n",
      "  always returns an ungrouped data frame and adjust accordingly.\"\n"
     ]
    }
   ],
   "source": [
    "jpm_returns <- stocks_df %>%  # create a dplyr dataframe \n",
    "  summarise(return = (AAPL -lag(AAPL)/lag(AAPL)))"
   ]
  },
  {
   "cell_type": "code",
   "execution_count": 53,
   "metadata": {
    "vscode": {
     "languageId": "r"
    }
   },
   "outputs": [
    {
     "data": {
      "text/html": [
       "<style>\n",
       ".list-inline {list-style: none; margin:0; padding: 0}\n",
       ".list-inline>li {display: inline-block}\n",
       ".list-inline>li:not(:last-child)::after {content: \"\\00b7\"; padding: 0 .5ex}\n",
       "</style>\n",
       "<ol class=list-inline><li>'AAPL'</li><li>'TSLA'</li><li>'NVDA'</li><li>'AMZN'</li><li>'MSFT'</li><li>'META'</li><li>'GOOGL'</li><li>'BRK.B'</li><li>'XOM'</li><li>'PFE'</li><li>'S.P.500'</li></ol>\n"
      ],
      "text/latex": [
       "\\begin{enumerate*}\n",
       "\\item 'AAPL'\n",
       "\\item 'TSLA'\n",
       "\\item 'NVDA'\n",
       "\\item 'AMZN'\n",
       "\\item 'MSFT'\n",
       "\\item 'META'\n",
       "\\item 'GOOGL'\n",
       "\\item 'BRK.B'\n",
       "\\item 'XOM'\n",
       "\\item 'PFE'\n",
       "\\item 'S.P.500'\n",
       "\\end{enumerate*}\n"
      ],
      "text/markdown": [
       "1. 'AAPL'\n",
       "2. 'TSLA'\n",
       "3. 'NVDA'\n",
       "4. 'AMZN'\n",
       "5. 'MSFT'\n",
       "6. 'META'\n",
       "7. 'GOOGL'\n",
       "8. 'BRK.B'\n",
       "9. 'XOM'\n",
       "10. 'PFE'\n",
       "11. 'S.P.500'\n",
       "\n",
       "\n"
      ],
      "text/plain": [
       " [1] \"AAPL\"    \"TSLA\"    \"NVDA\"    \"AMZN\"    \"MSFT\"    \"META\"    \"GOOGL\"  \n",
       " [8] \"BRK.B\"   \"XOM\"     \"PFE\"     \"S.P.500\""
      ]
     },
     "metadata": {},
     "output_type": "display_data"
    }
   ],
   "source": [
    "colnames(stocks_df_3)"
   ]
  },
  {
   "cell_type": "code",
   "execution_count": 8,
   "metadata": {
    "vscode": {
     "languageId": "r"
    }
   },
   "outputs": [],
   "source": [
    "for (cols in colnames(stocks_df_3)[1:11]) {\n",
    "  \n",
    "    new_col_name <- paste0(cols, \"_returns\")\n",
    "    \n",
    "    # Calculate returns\n",
    "    returns <- (stocks_df_3[, cols] - lag(stocks_df_3[, cols])) / lag(stocks_df_3[, cols])\n",
    "    \n",
    "    # Merge the returns as a new column in the xts object\n",
    "    stocks_df_3 <- merge(stocks_df_3, setNames(returns, new_col_name))\n",
    "}\n",
    "\n",
    "# View the updated xts object\n",
    "#head(stocks_df)"
   ]
  },
  {
   "cell_type": "code",
   "execution_count": 9,
   "metadata": {
    "vscode": {
     "languageId": "r"
    }
   },
   "outputs": [],
   "source": [
    "stocks_df_3 <- na.omit(stocks_df_3)"
   ]
  },
  {
   "cell_type": "code",
   "execution_count": 10,
   "metadata": {
    "vscode": {
     "languageId": "r"
    }
   },
   "outputs": [
    {
     "data": {
      "text/html": [
       "<style>\n",
       ".list-inline {list-style: none; margin:0; padding: 0}\n",
       ".list-inline>li {display: inline-block}\n",
       ".list-inline>li:not(:last-child)::after {content: \"\\00b7\"; padding: 0 .5ex}\n",
       "</style>\n",
       "<ol class=list-inline><li>'AAPL'</li><li>'TSLA'</li><li>'NVDA'</li><li>'AMZN'</li><li>'MSFT'</li><li>'META'</li><li>'GOOGL'</li><li>'BRK.B'</li><li>'XOM'</li><li>'PFE'</li><li>'S.P.500'</li><li>'AAPL_returns'</li><li>'TSLA_returns'</li><li>'NVDA_returns'</li><li>'AMZN_returns'</li><li>'MSFT_returns'</li><li>'META_returns'</li><li>'GOOGL_returns'</li><li>'BRK.B_returns'</li><li>'XOM_returns'</li><li>'PFE_returns'</li><li>'S.P.500_returns'</li></ol>\n"
      ],
      "text/latex": [
       "\\begin{enumerate*}\n",
       "\\item 'AAPL'\n",
       "\\item 'TSLA'\n",
       "\\item 'NVDA'\n",
       "\\item 'AMZN'\n",
       "\\item 'MSFT'\n",
       "\\item 'META'\n",
       "\\item 'GOOGL'\n",
       "\\item 'BRK.B'\n",
       "\\item 'XOM'\n",
       "\\item 'PFE'\n",
       "\\item 'S.P.500'\n",
       "\\item 'AAPL\\_returns'\n",
       "\\item 'TSLA\\_returns'\n",
       "\\item 'NVDA\\_returns'\n",
       "\\item 'AMZN\\_returns'\n",
       "\\item 'MSFT\\_returns'\n",
       "\\item 'META\\_returns'\n",
       "\\item 'GOOGL\\_returns'\n",
       "\\item 'BRK.B\\_returns'\n",
       "\\item 'XOM\\_returns'\n",
       "\\item 'PFE\\_returns'\n",
       "\\item 'S.P.500\\_returns'\n",
       "\\end{enumerate*}\n"
      ],
      "text/markdown": [
       "1. 'AAPL'\n",
       "2. 'TSLA'\n",
       "3. 'NVDA'\n",
       "4. 'AMZN'\n",
       "5. 'MSFT'\n",
       "6. 'META'\n",
       "7. 'GOOGL'\n",
       "8. 'BRK.B'\n",
       "9. 'XOM'\n",
       "10. 'PFE'\n",
       "11. 'S.P.500'\n",
       "12. 'AAPL_returns'\n",
       "13. 'TSLA_returns'\n",
       "14. 'NVDA_returns'\n",
       "15. 'AMZN_returns'\n",
       "16. 'MSFT_returns'\n",
       "17. 'META_returns'\n",
       "18. 'GOOGL_returns'\n",
       "19. 'BRK.B_returns'\n",
       "20. 'XOM_returns'\n",
       "21. 'PFE_returns'\n",
       "22. 'S.P.500_returns'\n",
       "\n",
       "\n"
      ],
      "text/plain": [
       " [1] \"AAPL\"            \"TSLA\"            \"NVDA\"            \"AMZN\"           \n",
       " [5] \"MSFT\"            \"META\"            \"GOOGL\"           \"BRK.B\"          \n",
       " [9] \"XOM\"             \"PFE\"             \"S.P.500\"         \"AAPL_returns\"   \n",
       "[13] \"TSLA_returns\"    \"NVDA_returns\"    \"AMZN_returns\"    \"MSFT_returns\"   \n",
       "[17] \"META_returns\"    \"GOOGL_returns\"   \"BRK.B_returns\"   \"XOM_returns\"    \n",
       "[21] \"PFE_returns\"     \"S.P.500_returns\""
      ]
     },
     "metadata": {},
     "output_type": "display_data"
    }
   ],
   "source": [
    "colnames(stocks_df_3)"
   ]
  },
  {
   "cell_type": "code",
   "execution_count": 11,
   "metadata": {
    "vscode": {
     "languageId": "r"
    }
   },
   "outputs": [
    {
     "name": "stderr",
     "output_type": "stream",
     "text": [
      "Warning message:\n",
      "\"object timezone ('UTC') is different from system timezone ('')\n",
      "  NOTE: set 'options(xts_check_TZ = FALSE)' to disable this warning\n",
      "    This note is displayed once per session\"\n"
     ]
    },
    {
     "data": {
      "text/plain": [
       "             AAPL   TSLA     NVDA   AMZN   MSFT     META    GOOGL  BRK.B    XOM\n",
       "2024-08-23 226.84 220.32 129.3589 177.04 416.79 527.4968 165.4005 453.38 116.32\n",
       "2024-08-26 227.18 213.21 126.4492 175.50 413.49 520.6234 165.9398 454.49 118.81\n",
       "2024-08-27 228.03 209.21 128.2890 173.12 413.84 518.6052 164.4618 460.63 117.68\n",
       "2024-08-28 226.49 205.75 125.5993 170.80 410.60 516.2875 162.6342 464.59 116.52\n",
       "2024-08-29 229.79 206.28 117.5799 172.12 413.12 517.7261 161.5656 468.37 118.13\n",
       "2024-08-30 229.00 214.11 119.3598 178.50 417.14 520.8132 163.1635 475.92 117.94\n",
       "             PFE S.P.500 AAPL_returns TSLA_returns NVDA_returns AMZN_returns\n",
       "2024-08-23 28.90 5634.61  0.010288147  0.045855898   0.04549861  0.005166572\n",
       "2024-08-26 28.92 5616.84  0.001498838 -0.032271244  -0.02249363 -0.008698562\n",
       "2024-08-27 28.82 5625.80  0.003741554 -0.018760846   0.01455012 -0.013561281\n",
       "2024-08-28 28.75 5592.18 -0.006753468 -0.016538438  -0.02096651 -0.013401064\n",
       "2024-08-29 28.72 5591.96  0.014570125  0.002575936  -0.06384845  0.007728291\n",
       "2024-08-30 29.01 5648.40 -0.003437892  0.037958124   0.01513739  0.037067192\n",
       "            MSFT_returns META_returns GOOGL_returns BRK.B_returns  XOM_returns\n",
       "2024-08-23  0.0029840471 -0.007388219   0.011111069   0.009687562  0.013858592\n",
       "2024-08-26 -0.0079177001 -0.013030247   0.003260518   0.002448245  0.021406447\n",
       "2024-08-27  0.0008464681 -0.003876367  -0.008907101   0.013509681 -0.009510961\n",
       "2024-08-28 -0.0078290892 -0.004469197  -0.011112373   0.008596903 -0.009857271\n",
       "2024-08-29  0.0061373331  0.002786429  -0.006570501   0.008136204  0.013817376\n",
       "2024-08-30  0.0097308762  0.005962800   0.009890008   0.016119774 -0.001608354\n",
       "             PFE_returns S.P.500_returns\n",
       "2024-08-23  0.0041695250    1.148337e-02\n",
       "2024-08-26  0.0006920574   -3.153727e-03\n",
       "2024-08-27 -0.0034578278    1.595196e-03\n",
       "2024-08-28 -0.0024288583   -5.975973e-03\n",
       "2024-08-29 -0.0010435021   -3.937907e-05\n",
       "2024-08-30  0.0100975252    1.009305e-02"
      ]
     },
     "metadata": {},
     "output_type": "display_data"
    }
   ],
   "source": [
    "tail(stocks_df_3)"
   ]
  },
  {
   "cell_type": "code",
   "execution_count": 12,
   "metadata": {
    "vscode": {
     "languageId": "r"
    }
   },
   "outputs": [
    {
     "name": "stdout",
     "output_type": "stream",
     "text": [
      "[1] \"AAPL_returns\"\n",
      "                              AAPL_returns\n",
      "StdDev Sharpe (Rf=0%, p=95%):   0.10261117\n",
      "VaR Sharpe (Rf=0%, p=95%):      0.07466168\n",
      "ES Sharpe (Rf=0%, p=95%):       0.05595160\n",
      "[1] \"TSLA_returns\"\n",
      "                              TSLA_returns\n",
      "StdDev Sharpe (Rf=0%, p=95%):   0.06002297\n",
      "VaR Sharpe (Rf=0%, p=95%):      0.04080616\n",
      "ES Sharpe (Rf=0%, p=95%):       0.03055124\n",
      "[1] \"NVDA_returns\"\n",
      "                              NVDA_returns\n",
      "StdDev Sharpe (Rf=0%, p=95%):    0.1668490\n",
      "VaR Sharpe (Rf=0%, p=95%):       0.1883782\n",
      "ES Sharpe (Rf=0%, p=95%):        0.1883782\n",
      "[1] \"AMZN_returns\"\n",
      "                              AMZN_returns\n",
      "StdDev Sharpe (Rf=0%, p=95%):   0.09158981\n",
      "VaR Sharpe (Rf=0%, p=95%):      0.06276420\n",
      "ES Sharpe (Rf=0%, p=95%):       0.04266625\n",
      "[1] \"MSFT_returns\"\n",
      "                              MSFT_returns\n",
      "StdDev Sharpe (Rf=0%, p=95%):   0.09017615\n",
      "VaR Sharpe (Rf=0%, p=95%):      0.06170371\n",
      "ES Sharpe (Rf=0%, p=95%):       0.04562269\n",
      "[1] \"META_returns\"\n"
     ]
    },
    {
     "name": "stderr",
     "output_type": "stream",
     "text": [
      "VaR calculation produces unreliable result (inverse risk) for column: 1 : -0.00202810071456462\n",
      "\n"
     ]
    },
    {
     "name": "stdout",
     "output_type": "stream",
     "text": [
      "                              META_returns\n",
      "StdDev Sharpe (Rf=0%, p=95%):   0.14142748\n",
      "VaR Sharpe (Rf=0%, p=95%):              NA\n",
      "ES Sharpe (Rf=0%, p=95%):       0.06289563\n",
      "[1] \"GOOGL_returns\"\n",
      "                              GOOGL_returns\n",
      "StdDev Sharpe (Rf=0%, p=95%):    0.07931645\n",
      "VaR Sharpe (Rf=0%, p=95%):       0.05378617\n",
      "ES Sharpe (Rf=0%, p=95%):        0.03282169\n",
      "[1] \"BRK.B_returns\"\n",
      "                              BRK.B_returns\n",
      "StdDev Sharpe (Rf=0%, p=95%):    0.10584038\n",
      "VaR Sharpe (Rf=0%, p=95%):       0.06803063\n",
      "ES Sharpe (Rf=0%, p=95%):        0.04724292\n",
      "[1] \"XOM_returns\"\n",
      "                              XOM_returns\n",
      "StdDev Sharpe (Rf=0%, p=95%):  0.02305129\n",
      "VaR Sharpe (Rf=0%, p=95%):     0.01477650\n",
      "ES Sharpe (Rf=0%, p=95%):      0.01110577\n",
      "[1] \"PFE_returns\"\n",
      "                              PFE_returns\n",
      "StdDev Sharpe (Rf=0%, p=95%): -0.08263805\n",
      "VaR Sharpe (Rf=0%, p=95%):    -0.05055253\n",
      "ES Sharpe (Rf=0%, p=95%):     -0.03629650\n",
      "[1] \"S.P.500_returns\"\n",
      "                              S.P.500_returns\n",
      "StdDev Sharpe (Rf=0%, p=95%):      0.09975272\n",
      "VaR Sharpe (Rf=0%, p=95%):         0.06374548\n",
      "ES Sharpe (Rf=0%, p=95%):          0.04782707\n"
     ]
    }
   ],
   "source": [
    "for (cols in colnames(stocks_df_3)[12:22]){\n",
    "\n",
    "    print(cols)\n",
    "    \n",
    "   print( SharpeRatio(stocks_df_3[, cols],.04/252))\n",
    "}"
   ]
  },
  {
   "cell_type": "markdown",
   "metadata": {},
   "source": [
    "                                 Average\n",
    "StdDev Sharpe (Rf=0%, p=95%): 0.14281279\n",
    "VaR Sharpe (Rf=0%, p=95%):    0.09933910\n",
    "ES Sharpe (Rf=0%, p=95%):     0.07419542"
   ]
  },
  {
   "cell_type": "code",
   "execution_count": 13,
   "metadata": {
    "vscode": {
     "languageId": "r"
    }
   },
   "outputs": [
    {
     "name": "stdout",
     "output_type": "stream",
     "text": [
      "[1] \"AAPL_returns\"\n",
      "[1] 0.364819\n",
      "[1] \"TSLA_returns\"\n",
      "[1] 0.2054808\n",
      "[1] \"NVDA_returns\"\n",
      "[1] 1.031937\n",
      "[1] \"AMZN_returns\"\n",
      "[1] 0.3221144\n",
      "[1] \"MSFT_returns\"\n",
      "[1] 0.2996651\n",
      "[1] \"META_returns\"\n",
      "[1] 0.7349736\n",
      "[1] \"GOOGL_returns\"\n",
      "[1] 0.2898155\n",
      "[1] \"BRK.B_returns\"\n",
      "[1] 0.3953052\n",
      "[1] \"XOM_returns\"\n",
      "[1] 0.153499\n",
      "[1] \"PFE_returns\"\n",
      "[1] -0.8044181\n",
      "[1] \"S.P.500_returns\"\n",
      "[1] 0.2162104\n"
     ]
    }
   ],
   "source": [
    "for (cols in colnames(stocks_df_3)[12:22]){\n",
    "\n",
    "    print(cols)\n",
    "    \n",
    "    print(TreynorRatio(stocks_df_3[, cols],stocks_df_3$S.P.500_returns,.04/252))\n",
    "}"
   ]
  },
  {
   "cell_type": "code",
   "execution_count": 14,
   "metadata": {
    "vscode": {
     "languageId": "r"
    }
   },
   "outputs": [
    {
     "name": "stderr",
     "output_type": "stream",
     "text": [
      "Warning message:\n",
      "\"object timezone ('UTC') is different from system timezone ('')\"\n"
     ]
    },
    {
     "data": {
      "text/plain": [
       "               AAPL   TSLA     NVDA  AMZN     MSFT     META    GOOGL  BRK.B\n",
       "2023-01-04 125.1826 113.64 14.73930 85.14 225.8521 126.9877 87.86243 314.55\n",
       "2023-01-05 123.8551 110.34 14.25562 83.12 219.1584 126.5590 85.98708 312.90\n",
       "2023-01-06 128.4122 113.06 14.84922 86.08 221.7412 129.6297 87.12426 318.69\n",
       "2023-01-09 128.9373 119.77 15.61772 87.36 223.9001 129.0813 87.80258 315.53\n",
       "2023-01-10 129.5119 118.85 15.89853 89.87 225.6056 132.5908 88.20159 316.35\n",
       "2023-01-11 132.2462 123.22 15.99047 95.09 232.4275 132.4911 91.29394 320.37\n",
       "                XOM      PFE S.P.500 AAPL_returns TSLA_returns NVDA_returns\n",
       "2023-01-04 100.7069 45.89369 3852.97  0.010314199  0.051248853  0.030317947\n",
       "2023-01-05 102.9601 45.46341 3808.10 -0.010604564 -0.029039098 -0.032815728\n",
       "2023-01-06 104.2046 46.61693 3895.08  0.036794034  0.024651090  0.041640286\n",
       "2023-01-09 102.2625 44.30074 3892.09  0.004088823  0.059349011  0.051753250\n",
       "2023-01-10 103.7897 43.59580 3919.25  0.004456313 -0.007681374  0.017980486\n",
       "2023-01-11 104.9965 43.44017 3969.61  0.021112340  0.036769060  0.005782799\n",
       "           AMZN_returns MSFT_returns  META_returns GOOGL_returns BRK.B_returns\n",
       "2023-01-04 -0.007923565 -0.043743189  0.0210839428  -0.011669729   0.014972037\n",
       "2023-01-05 -0.023725589 -0.029637784 -0.0033760046  -0.021344172  -0.005245570\n",
       "2023-01-06  0.035611152  0.011785268  0.0242633754   0.013224969   0.018504342\n",
       "2023-01-09  0.014869874  0.009736354 -0.0042301656   0.007785683  -0.009915603\n",
       "2023-01-10  0.028731709  0.007617191  0.0271877392   0.004544396   0.002598825\n",
       "2023-01-11  0.058083826  0.030238160 -0.0007518296   0.035059982   0.012707409\n",
       "            XOM_returns  PFE_returns S.P.500_returns\n",
       "2023-01-04  0.002910525 -0.022044482    0.0075389706\n",
       "2023-01-05  0.022374194 -0.009375555   -0.0116455289\n",
       "2023-01-06  0.012086754  0.025372463    0.0228407810\n",
       "2023-01-09 -0.018637387 -0.049685655   -0.0007676325\n",
       "2023-01-10  0.014934932 -0.015912534    0.0069782332\n",
       "2023-01-11  0.011626936 -0.003569798    0.0128494246"
      ]
     },
     "metadata": {},
     "output_type": "display_data"
    }
   ],
   "source": [
    "head(stocks_df_3)"
   ]
  },
  {
   "cell_type": "code",
   "execution_count": 15,
   "metadata": {
    "vscode": {
     "languageId": "r"
    }
   },
   "outputs": [],
   "source": [
    "for (cols in colnames(stocks_df_3)[12:22]) {\n",
    "  \n",
    "    new_col_name <- paste0(cols, \"_returns_v_risk_free\")\n",
    "    \n",
    "    # Calculate returns\n",
    "    returns <- stocks_df_3[, cols] - (.04/252)\n",
    "    \n",
    "    # Merge the returns as a new column in the xts object\n",
    "    stocks_df_3 <- merge(stocks_df_3, setNames(returns, new_col_name))\n",
    "}\n",
    "\n",
    "# View the updated xts object\n",
    "#head(stocks_df)"
   ]
  },
  {
   "cell_type": "code",
   "execution_count": 20,
   "metadata": {
    "vscode": {
     "languageId": "r"
    }
   },
   "outputs": [],
   "source": [
    "stocks_df_3$Average <- rowMeans(stocks_df_3[, c(\"AAPL_returns\", \"TSLA_returns\", \"NVDA_returns\")])"
   ]
  },
  {
   "cell_type": "code",
   "execution_count": 21,
   "metadata": {
    "vscode": {
     "languageId": "r"
    }
   },
   "outputs": [
    {
     "name": "stdout",
     "output_type": "stream",
     "text": [
      "                                 Average\n",
      "StdDev Sharpe (Rf=0%, p=95%): 0.14281279\n",
      "VaR Sharpe (Rf=0%, p=95%):    0.09933910\n",
      "ES Sharpe (Rf=0%, p=95%):     0.07419542\n"
     ]
    }
   ],
   "source": [
    "print( SharpeRatio(stocks_df_3$Average,.04/252))"
   ]
  },
  {
   "cell_type": "code",
   "execution_count": 18,
   "metadata": {
    "vscode": {
     "languageId": "r"
    }
   },
   "outputs": [
    {
     "name": "stdout",
     "output_type": "stream",
     "text": [
      "[1] \"AAPL_returns_returns_v_risk_freejensens\"\n",
      "                        (Intercept) S.P.500_returns_returns_v_risk_free \n",
      "                       0.0005371558                        1.0763663726 \n",
      "[1] \"TSLA_returns_returns_v_risk_freejensens\"\n",
      "                        (Intercept) S.P.500_returns_returns_v_risk_free \n",
      "                       0.0002915451                        2.2004740464 \n",
      "[1] \"NVDA_returns_returns_v_risk_freejensens\"\n",
      "                        (Intercept) S.P.500_returns_returns_v_risk_free \n",
      "                        0.003526462                         2.387101038 \n",
      "[1] \"AMZN_returns_returns_v_risk_freejensens\"\n",
      "                        (Intercept) S.P.500_returns_returns_v_risk_free \n",
      "                       0.0005424136                        1.5390250854 \n",
      "[1] \"MSFT_returns_returns_v_risk_freejensens\"\n",
      "                        (Intercept) S.P.500_returns_returns_v_risk_free \n",
      "                       0.0003520141                        1.1846043884 \n",
      "[1] \"META_returns_returns_v_risk_freejensens\"\n",
      "                        (Intercept) S.P.500_returns_returns_v_risk_free \n",
      "                         0.00217321                          1.74599414 \n",
      "[1] \"GOOGL_returns_returns_v_risk_freejensens\"\n",
      "                        (Intercept) S.P.500_returns_returns_v_risk_free \n",
      "                       0.0003889435                        1.3347169951 \n",
      "[1] \"BRK.B_returns_returns_v_risk_freejensens\"\n",
      "                        (Intercept) S.P.500_returns_returns_v_risk_free \n",
      "                       0.0004048339                        0.6201942364 \n",
      "[1] \"XOM_returns_returns_v_risk_freejensens\"\n",
      "                        (Intercept) S.P.500_returns_returns_v_risk_free \n",
      "                       1.725776e-05                        3.836678e-01 \n",
      "[1] \"PFE_returns_returns_v_risk_freejensens\"\n",
      "                        (Intercept) S.P.500_returns_returns_v_risk_free \n",
      "                        -0.00148884                          0.35005586 \n",
      "[1] \"S.P.500_returns_returns_v_risk_freejensens\"\n",
      "                        (Intercept) S.P.500_returns_returns_v_risk_free \n",
      "                      -1.189297e-18                        1.000000e+00 \n"
     ]
    }
   ],
   "source": [
    "for (cols in colnames(stocks_df_3)[23:33]) {\n",
    "  \n",
    "    new_col_name <- paste0(cols,\"jensens\")\n",
    "    print(new_col_name)\n",
    "    \n",
    "    # Calculate returns\n",
    "    basicmodel = lm(stocks_df_3[, cols] ~ S.P.500_returns_returns_v_risk_free, data=stocks_df_3)\n",
    "    print(basicmodel$coefficients)\n",
    "    \n",
    "    # Merge the returns as a new column in the xts object\n",
    "    #stocks_df_3 <- merge(stocks_df_3, setNames(returns, new_col_name))\n",
    "    }"
   ]
  },
  {
   "cell_type": "markdown",
   "metadata": {},
   "source": [
    "Module 8"
   ]
  },
  {
   "cell_type": "code",
   "execution_count": 81,
   "metadata": {
    "vscode": {
     "languageId": "r"
    }
   },
   "outputs": [],
   "source": [
    "mod_9_data = read.csv(\"Module_08_fall_2024.csv\")"
   ]
  },
  {
   "cell_type": "code",
   "execution_count": 83,
   "metadata": {
    "vscode": {
     "languageId": "r"
    }
   },
   "outputs": [],
   "source": [
    "mod_9_data$Date <- parse_date_time(mod_9_data$Date, orders = c(\"mdy\", \"ymd\", \"dmy\"), quiet = TRUE)\n",
    "mod_9_data_2 = mod_9_data[order(mod_9_data$Date),]"
   ]
  },
  {
   "cell_type": "code",
   "execution_count": 85,
   "metadata": {
    "vscode": {
     "languageId": "r"
    }
   },
   "outputs": [],
   "source": [
    "mod_9_data_2$FITLX_RF = mod_9_data_2$FITLX - mod_9_data_2$RF"
   ]
  },
  {
   "cell_type": "code",
   "execution_count": 95,
   "metadata": {
    "vscode": {
     "languageId": "r"
    }
   },
   "outputs": [],
   "source": [
    "mod_9_data_2$MKT_RF = mod_9_data_2$MKT - mod_9_data_2$RF"
   ]
  },
  {
   "cell_type": "code",
   "execution_count": 96,
   "metadata": {
    "vscode": {
     "languageId": "r"
    }
   },
   "outputs": [
    {
     "data": {
      "text/html": [
       "<table class=\"dataframe\">\n",
       "<caption>A data.frame: 6 × 11</caption>\n",
       "<thead>\n",
       "\t<tr><th></th><th scope=col>Date</th><th scope=col>FITLX</th><th scope=col>MKT</th><th scope=col>RF</th><th scope=col>SMB</th><th scope=col>HML</th><th scope=col>MOM</th><th scope=col>BAB</th><th scope=col>QMJ</th><th scope=col>FITLX_RF</th><th scope=col>MKT_RF</th></tr>\n",
       "\t<tr><th></th><th scope=col>&lt;dttm&gt;</th><th scope=col>&lt;dbl&gt;</th><th scope=col>&lt;dbl&gt;</th><th scope=col>&lt;dbl&gt;</th><th scope=col>&lt;dbl&gt;</th><th scope=col>&lt;dbl&gt;</th><th scope=col>&lt;dbl&gt;</th><th scope=col>&lt;dbl&gt;</th><th scope=col>&lt;dbl&gt;</th><th scope=col>&lt;dbl&gt;</th><th scope=col>&lt;dbl&gt;</th></tr>\n",
       "</thead>\n",
       "<tbody>\n",
       "\t<tr><th scope=row>1</th><td>2023-01-03</td><td>-0.2400827</td><td>-0.46</td><td>0.02</td><td>-0.17</td><td> 0.22</td><td>-1.58</td><td> 0.44</td><td>-0.35</td><td>-0.26008272</td><td>-0.48</td></tr>\n",
       "\t<tr><th scope=row>2</th><td>2023-01-04</td><td> 0.6016745</td><td> 0.92</td><td>0.02</td><td> 0.64</td><td> 0.14</td><td>-2.09</td><td>-0.09</td><td>-0.66</td><td> 0.58167448</td><td> 0.90</td></tr>\n",
       "\t<tr><th scope=row>3</th><td>2023-01-05</td><td>-1.3157857</td><td>-1.09</td><td>0.02</td><td> 0.21</td><td> 1.32</td><td> 1.16</td><td> 0.79</td><td> 0.46</td><td>-1.33578568</td><td>-1.11</td></tr>\n",
       "\t<tr><th scope=row>4</th><td>2023-01-06</td><td> 2.1818256</td><td> 2.25</td><td>0.02</td><td> 0.07</td><td>-0.02</td><td>-0.20</td><td> 0.24</td><td> 0.77</td><td> 2.16182562</td><td> 2.23</td></tr>\n",
       "\t<tr><th scope=row>5</th><td>2023-01-09</td><td> 0.1186059</td><td> 0.09</td><td>0.02</td><td> 0.39</td><td>-0.95</td><td>-1.72</td><td>-1.08</td><td> 0.03</td><td> 0.09860592</td><td> 0.07</td></tr>\n",
       "\t<tr><th scope=row>6</th><td>2023-01-10</td><td> 0.7109068</td><td> 0.76</td><td>0.02</td><td> 0.81</td><td>-0.82</td><td>-0.65</td><td>-0.43</td><td> 0.01</td><td> 0.69090679</td><td> 0.74</td></tr>\n",
       "</tbody>\n",
       "</table>\n"
      ],
      "text/latex": [
       "A data.frame: 6 × 11\n",
       "\\begin{tabular}{r|lllllllllll}\n",
       "  & Date & FITLX & MKT & RF & SMB & HML & MOM & BAB & QMJ & FITLX\\_RF & MKT\\_RF\\\\\n",
       "  & <dttm> & <dbl> & <dbl> & <dbl> & <dbl> & <dbl> & <dbl> & <dbl> & <dbl> & <dbl> & <dbl>\\\\\n",
       "\\hline\n",
       "\t1 & 2023-01-03 & -0.2400827 & -0.46 & 0.02 & -0.17 &  0.22 & -1.58 &  0.44 & -0.35 & -0.26008272 & -0.48\\\\\n",
       "\t2 & 2023-01-04 &  0.6016745 &  0.92 & 0.02 &  0.64 &  0.14 & -2.09 & -0.09 & -0.66 &  0.58167448 &  0.90\\\\\n",
       "\t3 & 2023-01-05 & -1.3157857 & -1.09 & 0.02 &  0.21 &  1.32 &  1.16 &  0.79 &  0.46 & -1.33578568 & -1.11\\\\\n",
       "\t4 & 2023-01-06 &  2.1818256 &  2.25 & 0.02 &  0.07 & -0.02 & -0.20 &  0.24 &  0.77 &  2.16182562 &  2.23\\\\\n",
       "\t5 & 2023-01-09 &  0.1186059 &  0.09 & 0.02 &  0.39 & -0.95 & -1.72 & -1.08 &  0.03 &  0.09860592 &  0.07\\\\\n",
       "\t6 & 2023-01-10 &  0.7109068 &  0.76 & 0.02 &  0.81 & -0.82 & -0.65 & -0.43 &  0.01 &  0.69090679 &  0.74\\\\\n",
       "\\end{tabular}\n"
      ],
      "text/markdown": [
       "\n",
       "A data.frame: 6 × 11\n",
       "\n",
       "| <!--/--> | Date &lt;dttm&gt; | FITLX &lt;dbl&gt; | MKT &lt;dbl&gt; | RF &lt;dbl&gt; | SMB &lt;dbl&gt; | HML &lt;dbl&gt; | MOM &lt;dbl&gt; | BAB &lt;dbl&gt; | QMJ &lt;dbl&gt; | FITLX_RF &lt;dbl&gt; | MKT_RF &lt;dbl&gt; |\n",
       "|---|---|---|---|---|---|---|---|---|---|---|---|\n",
       "| 1 | 2023-01-03 | -0.2400827 | -0.46 | 0.02 | -0.17 |  0.22 | -1.58 |  0.44 | -0.35 | -0.26008272 | -0.48 |\n",
       "| 2 | 2023-01-04 |  0.6016745 |  0.92 | 0.02 |  0.64 |  0.14 | -2.09 | -0.09 | -0.66 |  0.58167448 |  0.90 |\n",
       "| 3 | 2023-01-05 | -1.3157857 | -1.09 | 0.02 |  0.21 |  1.32 |  1.16 |  0.79 |  0.46 | -1.33578568 | -1.11 |\n",
       "| 4 | 2023-01-06 |  2.1818256 |  2.25 | 0.02 |  0.07 | -0.02 | -0.20 |  0.24 |  0.77 |  2.16182562 |  2.23 |\n",
       "| 5 | 2023-01-09 |  0.1186059 |  0.09 | 0.02 |  0.39 | -0.95 | -1.72 | -1.08 |  0.03 |  0.09860592 |  0.07 |\n",
       "| 6 | 2023-01-10 |  0.7109068 |  0.76 | 0.02 |  0.81 | -0.82 | -0.65 | -0.43 |  0.01 |  0.69090679 |  0.74 |\n",
       "\n"
      ],
      "text/plain": [
       "  Date       FITLX      MKT   RF   SMB   HML   MOM   BAB   QMJ   FITLX_RF   \n",
       "1 2023-01-03 -0.2400827 -0.46 0.02 -0.17  0.22 -1.58  0.44 -0.35 -0.26008272\n",
       "2 2023-01-04  0.6016745  0.92 0.02  0.64  0.14 -2.09 -0.09 -0.66  0.58167448\n",
       "3 2023-01-05 -1.3157857 -1.09 0.02  0.21  1.32  1.16  0.79  0.46 -1.33578568\n",
       "4 2023-01-06  2.1818256  2.25 0.02  0.07 -0.02 -0.20  0.24  0.77  2.16182562\n",
       "5 2023-01-09  0.1186059  0.09 0.02  0.39 -0.95 -1.72 -1.08  0.03  0.09860592\n",
       "6 2023-01-10  0.7109068  0.76 0.02  0.81 -0.82 -0.65 -0.43  0.01  0.69090679\n",
       "  MKT_RF\n",
       "1 -0.48 \n",
       "2  0.90 \n",
       "3 -1.11 \n",
       "4  2.23 \n",
       "5  0.07 \n",
       "6  0.74 "
      ]
     },
     "metadata": {},
     "output_type": "display_data"
    }
   ],
   "source": [
    "head(mod_9_data_2)"
   ]
  },
  {
   "cell_type": "code",
   "execution_count": 89,
   "metadata": {
    "vscode": {
     "languageId": "r"
    }
   },
   "outputs": [
    {
     "name": "stderr",
     "output_type": "stream",
     "text": [
      "Warning message:\n",
      "\"\u001b[1m\u001b[22mReturning more (or less) than 1 row per `summarise()` group was deprecated in\n",
      "dplyr 1.1.0.\n",
      "\u001b[36mℹ\u001b[39m Please use `reframe()` instead.\n",
      "\u001b[36mℹ\u001b[39m When switching from `summarise()` to `reframe()`, remember that `reframe()`\n",
      "  always returns an ungrouped data frame and adjust accordingly.\"\n"
     ]
    }
   ],
   "source": [
    "flix_returns <- mod_9_data_2 %>%  # create a dplyr dataframe \n",
    "  summarise(return = (FITLX_RF -lag(FITLX_RF))/lag(FITLX_RF))"
   ]
  },
  {
   "cell_type": "code",
   "execution_count": 93,
   "metadata": {
    "vscode": {
     "languageId": "r"
    }
   },
   "outputs": [
    {
     "data": {
      "text/html": [
       "0.085996783304905"
      ],
      "text/latex": [
       "0.085996783304905"
      ],
      "text/markdown": [
       "0.085996783304905"
      ],
      "text/plain": [
       "[1] 0.08599678"
      ]
     },
     "metadata": {},
     "output_type": "display_data"
    }
   ],
   "source": [
    "mean(mod_9_data_2$FITLX_RF)"
   ]
  },
  {
   "cell_type": "code",
   "execution_count": 94,
   "metadata": {
    "vscode": {
     "languageId": "r"
    }
   },
   "outputs": [
    {
     "data": {
      "text/html": [
       "0.845785577987137"
      ],
      "text/latex": [
       "0.845785577987137"
      ],
      "text/markdown": [
       "0.845785577987137"
      ],
      "text/plain": [
       "[1] 0.8457856"
      ]
     },
     "metadata": {},
     "output_type": "display_data"
    }
   ],
   "source": [
    "sd(mod_9_data_2$FITLX_RF)"
   ]
  },
  {
   "cell_type": "code",
   "execution_count": 98,
   "metadata": {
    "vscode": {
     "languageId": "r"
    }
   },
   "outputs": [
    {
     "data": {
      "text/html": [
       "396"
      ],
      "text/latex": [
       "396"
      ],
      "text/markdown": [
       "396"
      ],
      "text/plain": [
       "[1] 396"
      ]
     },
     "metadata": {},
     "output_type": "display_data"
    }
   ],
   "source": [
    "nrow(mod_9_data_2)"
   ]
  },
  {
   "cell_type": "code",
   "execution_count": 99,
   "metadata": {
    "vscode": {
     "languageId": "r"
    }
   },
   "outputs": [
    {
     "data": {
      "text/html": [
       "1.64871060117935"
      ],
      "text/latex": [
       "1.64871060117935"
      ],
      "text/markdown": [
       "1.64871060117935"
      ],
      "text/plain": [
       "[1] 1.648711"
      ]
     },
     "metadata": {},
     "output_type": "display_data"
    }
   ],
   "source": [
    "qt(0.05, 396, lower.tail = FALSE)\n"
   ]
  },
  {
   "cell_type": "code",
   "execution_count": 97,
   "metadata": {
    "vscode": {
     "languageId": "r"
    }
   },
   "outputs": [
    {
     "data": {
      "text/plain": [
       "\n",
       "Call:\n",
       "lm(formula = FITLX_RF ~ MKT_RF, data = mod_9_data_2)\n",
       "\n",
       "Residuals:\n",
       "     Min       1Q   Median       3Q      Max \n",
       "-0.74016 -0.12266  0.00849  0.11526  1.14229 \n",
       "\n",
       "Coefficients:\n",
       "            Estimate Std. Error t value Pr(>|t|)    \n",
       "(Intercept) 0.005876   0.010294   0.571    0.568    \n",
       "MKT_RF      1.022491   0.012777  80.025   <2e-16 ***\n",
       "---\n",
       "Signif. codes:  0 '***' 0.001 '**' 0.01 '*' 0.05 '.' 0.1 ' ' 1\n",
       "\n",
       "Residual standard error: 0.2039 on 394 degrees of freedom\n",
       "Multiple R-squared:  0.942,\tAdjusted R-squared:  0.9419 \n",
       "F-statistic:  6404 on 1 and 394 DF,  p-value: < 2.2e-16\n"
      ]
     },
     "metadata": {},
     "output_type": "display_data"
    }
   ],
   "source": [
    "summary(lm(FITLX_RF~MKT_RF,data = mod_9_data_2))"
   ]
  },
  {
   "cell_type": "code",
   "execution_count": 100,
   "metadata": {
    "vscode": {
     "languageId": "r"
    }
   },
   "outputs": [
    {
     "data": {
      "text/plain": [
       "\n",
       "Call:\n",
       "lm(formula = FITLX_RF ~ MKT_RF + SMB + HML, data = mod_9_data_2)\n",
       "\n",
       "Residuals:\n",
       "     Min       1Q   Median       3Q      Max \n",
       "-0.51422 -0.08704  0.00275  0.08443  0.83653 \n",
       "\n",
       "Coefficients:\n",
       "             Estimate Std. Error t value Pr(>|t|)    \n",
       "(Intercept) -0.004208   0.007227  -0.582    0.561    \n",
       "MKT_RF       1.030337   0.009857 104.524  < 2e-16 ***\n",
       "SMB         -0.155989   0.012969 -12.028  < 2e-16 ***\n",
       "HML         -0.100330   0.012144  -8.262 2.24e-15 ***\n",
       "---\n",
       "Signif. codes:  0 '***' 0.001 '**' 0.01 '*' 0.05 '.' 0.1 ' ' 1\n",
       "\n",
       "Residual standard error: 0.1428 on 392 degrees of freedom\n",
       "Multiple R-squared:  0.9717,\tAdjusted R-squared:  0.9715 \n",
       "F-statistic:  4488 on 3 and 392 DF,  p-value: < 2.2e-16\n"
      ]
     },
     "metadata": {},
     "output_type": "display_data"
    }
   ],
   "source": [
    "summary(lm(FITLX_RF~MKT_RF+SMB+HML,data = mod_9_data_2))"
   ]
  },
  {
   "cell_type": "code",
   "execution_count": 101,
   "metadata": {
    "vscode": {
     "languageId": "r"
    }
   },
   "outputs": [
    {
     "data": {
      "text/plain": [
       "\n",
       "Call:\n",
       "lm(formula = FITLX_RF ~ MKT_RF + SMB + HML + MOM, data = mod_9_data_2)\n",
       "\n",
       "Residuals:\n",
       "     Min       1Q   Median       3Q      Max \n",
       "-0.53654 -0.08345  0.00179  0.08369  0.81567 \n",
       "\n",
       "Coefficients:\n",
       "             Estimate Std. Error t value Pr(>|t|)    \n",
       "(Intercept) -0.003239   0.007182  -0.451  0.65223    \n",
       "MKT_RF       1.028999   0.009797 105.037  < 2e-16 ***\n",
       "SMB         -0.142770   0.013813 -10.336  < 2e-16 ***\n",
       "HML         -0.100507   0.012053  -8.339  1.3e-15 ***\n",
       "MOM          0.024683   0.009360   2.637  0.00869 ** \n",
       "---\n",
       "Signif. codes:  0 '***' 0.001 '**' 0.01 '*' 0.05 '.' 0.1 ' ' 1\n",
       "\n",
       "Residual standard error: 0.1417 on 391 degrees of freedom\n",
       "Multiple R-squared:  0.9722,\tAdjusted R-squared:  0.9719 \n",
       "F-statistic:  3419 on 4 and 391 DF,  p-value: < 2.2e-16\n"
      ]
     },
     "metadata": {},
     "output_type": "display_data"
    }
   ],
   "source": [
    "summary(lm(FITLX_RF~MKT_RF+SMB+HML+MOM,data = mod_9_data_2))"
   ]
  },
  {
   "cell_type": "code",
   "execution_count": 102,
   "metadata": {
    "vscode": {
     "languageId": "r"
    }
   },
   "outputs": [
    {
     "data": {
      "text/plain": [
       "\n",
       "Call:\n",
       "lm(formula = FITLX_RF ~ MKT_RF + SMB + HML + MOM + QMJ + BAB, \n",
       "    data = mod_9_data_2)\n",
       "\n",
       "Residuals:\n",
       "     Min       1Q   Median       3Q      Max \n",
       "-0.56151 -0.07374  0.00484  0.08200  0.77765 \n",
       "\n",
       "Coefficients:\n",
       "             Estimate Std. Error t value Pr(>|t|)    \n",
       "(Intercept) -0.004599   0.007204  -0.638    0.524    \n",
       "MKT_RF       1.023222   0.010808  94.676  < 2e-16 ***\n",
       "SMB         -0.133928   0.015298  -8.755  < 2e-16 ***\n",
       "HML         -0.086376   0.015617  -5.531 5.86e-08 ***\n",
       "MOM          0.022747   0.009491   2.397    0.017 *  \n",
       "QMJ          0.032868   0.022775   1.443    0.150    \n",
       "BAB         -0.034432   0.022754  -1.513    0.131    \n",
       "---\n",
       "Signif. codes:  0 '***' 0.001 '**' 0.01 '*' 0.05 '.' 0.1 ' ' 1\n",
       "\n",
       "Residual standard error: 0.1413 on 389 degrees of freedom\n",
       "Multiple R-squared:  0.9725,\tAdjusted R-squared:  0.9721 \n",
       "F-statistic:  2293 on 6 and 389 DF,  p-value: < 2.2e-16\n"
      ]
     },
     "metadata": {},
     "output_type": "display_data"
    }
   ],
   "source": [
    "summary(lm(FITLX_RF~MKT_RF+SMB+HML+MOM+QMJ+BAB,data = mod_9_data_2))"
   ]
  }
 ],
 "metadata": {
  "kernelspec": {
   "display_name": "R",
   "language": "R",
   "name": "ir"
  },
  "language_info": {
   "codemirror_mode": "r",
   "file_extension": ".r",
   "mimetype": "text/x-r-source",
   "name": "R",
   "pygments_lexer": "r",
   "version": "4.3.2"
  }
 },
 "nbformat": 4,
 "nbformat_minor": 2
}
