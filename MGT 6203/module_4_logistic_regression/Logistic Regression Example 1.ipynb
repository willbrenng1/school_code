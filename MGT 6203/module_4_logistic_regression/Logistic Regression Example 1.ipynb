{
 "cells": [
  {
   "cell_type": "code",
   "execution_count": 1,
   "metadata": {
    "vscode": {
     "languageId": "r"
    }
   },
   "outputs": [
    {
     "name": "stderr",
     "output_type": "stream",
     "text": [
      "Loading required package: ggplot2\n",
      "\n",
      "Warning message:\n",
      "\"package 'ggplot2' was built under R version 4.3.3\"\n",
      "Loading required package: lattice\n",
      "\n",
      "Type 'citation(\"pROC\")' for a citation.\n",
      "\n",
      "\n",
      "Attaching package: 'pROC'\n",
      "\n",
      "\n",
      "The following objects are masked from 'package:stats':\n",
      "\n",
      "    cov, smooth, var\n",
      "\n",
      "\n"
     ]
    }
   ],
   "source": [
    "library(caret)\n",
    "library(pROC)"
   ]
  },
  {
   "cell_type": "code",
   "execution_count": 2,
   "metadata": {
    "vscode": {
     "languageId": "r"
    }
   },
   "outputs": [],
   "source": [
    "# Set seed for reproducibility\n",
    "set.seed(123)\n",
    "\n",
    "# Simulate data\n",
    "n <- 100  # Number of observations\n",
    "x1 <- rnorm(n, mean = 2, sd = 1)  # Predictor 1\n",
    "x2 <- rnorm(n, mean = -1, sd = 2) # Predictor 2\n",
    "\n",
    "# Logistic function to simulate binary outcome\n",
    "logit_p <- 0.5 + 0.3 * x1 - 0.4 * x2\n",
    "prob <- exp(logit_p) / (1 + exp(logit_p))\n",
    "y <- rbinom(n, size = 1, prob = prob)  # Binary outcome\n",
    "\n",
    "# Create a dataframe\n",
    "data <- data.frame(y, x1, x2)"
   ]
  },
  {
   "cell_type": "code",
   "execution_count": 4,
   "metadata": {
    "vscode": {
     "languageId": "r"
    }
   },
   "outputs": [
    {
     "data": {
      "text/html": [
       "<table class=\"dataframe\">\n",
       "<caption>A data.frame: 6 × 3</caption>\n",
       "<thead>\n",
       "\t<tr><th></th><th scope=col>y</th><th scope=col>x1</th><th scope=col>x2</th></tr>\n",
       "\t<tr><th></th><th scope=col>&lt;int&gt;</th><th scope=col>&lt;dbl&gt;</th><th scope=col>&lt;dbl&gt;</th></tr>\n",
       "</thead>\n",
       "<tbody>\n",
       "\t<tr><th scope=row>1</th><td>0</td><td>1.439524</td><td>-2.4208131</td></tr>\n",
       "\t<tr><th scope=row>2</th><td>1</td><td>1.769823</td><td>-0.4862326</td></tr>\n",
       "\t<tr><th scope=row>3</th><td>0</td><td>3.558708</td><td>-1.4933838</td></tr>\n",
       "\t<tr><th scope=row>4</th><td>1</td><td>2.070508</td><td>-1.6950852</td></tr>\n",
       "\t<tr><th scope=row>5</th><td>1</td><td>2.129288</td><td>-2.9032371</td></tr>\n",
       "\t<tr><th scope=row>6</th><td>1</td><td>3.715065</td><td>-1.0900554</td></tr>\n",
       "</tbody>\n",
       "</table>\n"
      ],
      "text/latex": [
       "A data.frame: 6 × 3\n",
       "\\begin{tabular}{r|lll}\n",
       "  & y & x1 & x2\\\\\n",
       "  & <int> & <dbl> & <dbl>\\\\\n",
       "\\hline\n",
       "\t1 & 0 & 1.439524 & -2.4208131\\\\\n",
       "\t2 & 1 & 1.769823 & -0.4862326\\\\\n",
       "\t3 & 0 & 3.558708 & -1.4933838\\\\\n",
       "\t4 & 1 & 2.070508 & -1.6950852\\\\\n",
       "\t5 & 1 & 2.129288 & -2.9032371\\\\\n",
       "\t6 & 1 & 3.715065 & -1.0900554\\\\\n",
       "\\end{tabular}\n"
      ],
      "text/markdown": [
       "\n",
       "A data.frame: 6 × 3\n",
       "\n",
       "| <!--/--> | y &lt;int&gt; | x1 &lt;dbl&gt; | x2 &lt;dbl&gt; |\n",
       "|---|---|---|---|\n",
       "| 1 | 0 | 1.439524 | -2.4208131 |\n",
       "| 2 | 1 | 1.769823 | -0.4862326 |\n",
       "| 3 | 0 | 3.558708 | -1.4933838 |\n",
       "| 4 | 1 | 2.070508 | -1.6950852 |\n",
       "| 5 | 1 | 2.129288 | -2.9032371 |\n",
       "| 6 | 1 | 3.715065 | -1.0900554 |\n",
       "\n"
      ],
      "text/plain": [
       "  y x1       x2        \n",
       "1 0 1.439524 -2.4208131\n",
       "2 1 1.769823 -0.4862326\n",
       "3 0 3.558708 -1.4933838\n",
       "4 1 2.070508 -1.6950852\n",
       "5 1 2.129288 -2.9032371\n",
       "6 1 3.715065 -1.0900554"
      ]
     },
     "metadata": {},
     "output_type": "display_data"
    }
   ],
   "source": [
    "head(data)"
   ]
  },
  {
   "cell_type": "code",
   "execution_count": 5,
   "metadata": {
    "vscode": {
     "languageId": "r"
    }
   },
   "outputs": [],
   "source": [
    "model <- glm(y ~ x1 + x2, data = data, family = binomial())"
   ]
  },
  {
   "cell_type": "code",
   "execution_count": 6,
   "metadata": {
    "vscode": {
     "languageId": "r"
    }
   },
   "outputs": [
    {
     "data": {
      "text/plain": [
       "\n",
       "Call:\n",
       "glm(formula = y ~ x1 + x2, family = binomial(), data = data)\n",
       "\n",
       "Coefficients:\n",
       "            Estimate Std. Error z value Pr(>|z|)   \n",
       "(Intercept)   1.0757     0.7595   1.416  0.15670   \n",
       "x1            0.1721     0.3484   0.494  0.62129   \n",
       "x2           -0.4627     0.1566  -2.956  0.00312 **\n",
       "---\n",
       "Signif. codes:  0 '***' 0.001 '**' 0.01 '*' 0.05 '.' 0.1 ' ' 1\n",
       "\n",
       "(Dispersion parameter for binomial family taken to be 1)\n",
       "\n",
       "    Null deviance: 84.542  on 99  degrees of freedom\n",
       "Residual deviance: 73.882  on 97  degrees of freedom\n",
       "AIC: 79.882\n",
       "\n",
       "Number of Fisher Scoring iterations: 5\n"
      ]
     },
     "metadata": {},
     "output_type": "display_data"
    }
   ],
   "source": [
    "summary(model)"
   ]
  },
  {
   "cell_type": "code",
   "execution_count": 7,
   "metadata": {
    "vscode": {
     "languageId": "r"
    }
   },
   "outputs": [],
   "source": [
    "probabilities <- predict(model, type = \"response\")"
   ]
  },
  {
   "cell_type": "code",
   "execution_count": 9,
   "metadata": {
    "vscode": {
     "languageId": "r"
    }
   },
   "outputs": [],
   "source": [
    "predicted_classes <- ifelse(probabilities > 0.5, 1, 0)"
   ]
  },
  {
   "cell_type": "code",
   "execution_count": 10,
   "metadata": {
    "vscode": {
     "languageId": "r"
    }
   },
   "outputs": [
    {
     "name": "stdout",
     "output_type": "stream",
     "text": [
      "Confusion Matrix and Statistics\n",
      "\n",
      "          Reference\n",
      "Prediction  0  1\n",
      "         0  1  2\n",
      "         1 14 83\n",
      "                                          \n",
      "               Accuracy : 0.84            \n",
      "                 95% CI : (0.7532, 0.9057)\n",
      "    No Information Rate : 0.85            \n",
      "    P-Value [Acc > NIR] : 0.67246         \n",
      "                                          \n",
      "                  Kappa : 0.0643          \n",
      "                                          \n",
      " Mcnemar's Test P-Value : 0.00596         \n",
      "                                          \n",
      "            Sensitivity : 0.06667         \n",
      "            Specificity : 0.97647         \n",
      "         Pos Pred Value : 0.33333         \n",
      "         Neg Pred Value : 0.85567         \n",
      "             Prevalence : 0.15000         \n",
      "         Detection Rate : 0.01000         \n",
      "   Detection Prevalence : 0.03000         \n",
      "      Balanced Accuracy : 0.52157         \n",
      "                                          \n",
      "       'Positive' Class : 0               \n",
      "                                          \n"
     ]
    },
    {
     "name": "stderr",
     "output_type": "stream",
     "text": [
      "Setting levels: control = 0, case = 1\n",
      "\n",
      "Setting direction: controls < cases\n",
      "\n"
     ]
    }
   ],
   "source": [
    "# Confusion matrix\n",
    "conf_matrix <- confusionMatrix(as.factor(predicted_classes), as.factor(data$y))\n",
    "print(conf_matrix)\n",
    "\n",
    "# Compute the ROC curve\n",
    "roc_result <- roc(data$y, probabilities)"
   ]
  },
  {
   "cell_type": "code",
   "execution_count": 11,
   "metadata": {
    "vscode": {
     "languageId": "r"
    }
   },
   "outputs": [
    {
     "name": "stdout",
     "output_type": "stream",
     "text": [
      "Area under the curve: 0.7514\n"
     ]
    },
    {
     "data": {
      "image/png": "[encoded data removed]",
      "text/plain": [
       "Plot with title \"ROC Curve\""
      ]
     },
     "metadata": {
      "image/png": {
       "height": 420,
       "width": 420
      }
     },
     "output_type": "display_data"
    }
   ],
   "source": [
    "# Setting levels: control = 0, case = 1\n",
    "# Setting direction: controls < cases\n",
    "# is not an error but rather informative output. \n",
    "# This output indicates how the roc() function is interpreting the data:\n",
    "# Setting levels: It has set '0' as the control (or negative class) and '1' as the case (or positive class). This is standard for a binary outcome where '1' typically represents the presence of a condition or a positive result, and '0' represents the absence or a negative result.\n",
    "# Setting direction: The direction 'controls < cases' means that a lower predicted probability is interpreted as more likely to be a control (negative) and a higher probability as more likely to be a case (positive). This is the expected behavior in most logistic regression models where a higher probability indicates a stronger inclination towards the positive class.\n",
    "\n",
    "# Plot the ROC curve\n",
    "plot(roc_result, main = \"ROC Curve\")\n",
    "text(0.5, 0.1, paste(\"AUC =\", round(auc(roc_result), 2)), col = \"red\")\n",
    "\n",
    "# Print AUC score\n",
    "print(auc(roc_result))"
   ]
  }
 ],
 "metadata": {
  "kernelspec": {
   "display_name": "R",
   "language": "R",
   "name": "ir"
  },
  "language_info": {
   "codemirror_mode": "r",
   "file_extension": ".r",
   "mimetype": "text/x-r-source",
   "name": "R",
   "pygments_lexer": "r",
   "version": "4.3.2"
  }
 },
 "nbformat": 4,
 "nbformat_minor": 2
}
