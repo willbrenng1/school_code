{
 "cells": [
  {
   "cell_type": "code",
   "execution_count": 1,
   "metadata": {
    "vscode": {
     "languageId": "r"
    }
   },
   "outputs": [],
   "source": [
    "#Step 1: Generate Synthetic Data\n",
    "set.seed(123) # For reproducibility\n",
    "n <- 100000 # Number of observations\n",
    "# Generate data\n",
    "Age <- round(runif(n, 18, 65)) # Random ages between 18 and 65\n",
    "Smoker <- sample(0:1, n, replace = TRUE) # Randomly assign smoker status\n",
    "Intercept <- -2.2 # Arbitrary intercept for the logistic model\n",
    "Beta_Age <- 0.04 # Effect size for Age\n",
    "Beta_Smoker <- 0.85 # Effect size for Smoker"
   ]
  },
  {
   "cell_type": "code",
   "execution_count": 2,
   "metadata": {
    "vscode": {
     "languageId": "r"
    }
   },
   "outputs": [],
   "source": [
    "LogOdds <- Intercept + Beta_Age * Age + Beta_Smoker * Smoker"
   ]
  },
  {
   "cell_type": "code",
   "execution_count": 4,
   "metadata": {
    "vscode": {
     "languageId": "r"
    }
   },
   "outputs": [],
   "source": [
    "Prob <- exp(LogOdds) / (1 + exp(LogOdds))\n",
    "Outcome <- ifelse(runif(n) < Prob, 1, 0) # Generate binary outcome based on probability"
   ]
  },
  {
   "cell_type": "code",
   "execution_count": 5,
   "metadata": {
    "vscode": {
     "languageId": "r"
    }
   },
   "outputs": [
    {
     "data": {
      "text/plain": [
       "\n",
       "Call:\n",
       "glm(formula = Outcome ~ Age + Smoker, family = binomial(link = \"logit\"), \n",
       "    data = data)\n",
       "\n",
       "Coefficients:\n",
       "              Estimate Std. Error z value Pr(>|z|)    \n",
       "(Intercept) -2.1825917  0.0239110  -91.28   <2e-16 ***\n",
       "Age          0.0398077  0.0005074   78.46   <2e-16 ***\n",
       "Smoker       0.8395645  0.0134222   62.55   <2e-16 ***\n",
       "---\n",
       "Signif. codes:  0 '***' 0.001 '**' 0.01 '*' 0.05 '.' 0.1 ' ' 1\n",
       "\n",
       "(Dispersion parameter for binomial family taken to be 1)\n",
       "\n",
       "    Null deviance: 138377  on 99999  degrees of freedom\n",
       "Residual deviance: 128072  on 99997  degrees of freedom\n",
       "AIC: 128078\n",
       "\n",
       "Number of Fisher Scoring iterations: 4\n"
      ]
     },
     "metadata": {},
     "output_type": "display_data"
    }
   ],
   "source": [
    "# Combine into a data frame\n",
    "data <- data.frame(Outcome, Age, Smoker)\n",
    "# Fit model\n",
    "model <- glm(Outcome ~ Age + Smoker, data = data, family = binomial(link = \"logit\"))\n",
    "# Step 2: Fit Logistic Regression Model\n",
    "# Display summary\n",
    "summary(model)"
   ]
  }
 ],
 "metadata": {
  "kernelspec": {
   "display_name": "R",
   "language": "R",
   "name": "ir"
  },
  "language_info": {
   "codemirror_mode": "r",
   "file_extension": ".r",
   "mimetype": "text/x-r-source",
   "name": "R",
   "pygments_lexer": "r",
   "version": "4.3.2"
  }
 },
 "nbformat": 4,
 "nbformat_minor": 2
}
