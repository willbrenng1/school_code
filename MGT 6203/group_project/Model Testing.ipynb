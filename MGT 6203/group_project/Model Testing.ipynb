{
 "cells": [
  {
   "cell_type": "code",
   "execution_count": 1,
   "metadata": {
    "vscode": {
     "languageId": "r"
    }
   },
   "outputs": [
    {
     "name": "stderr",
     "output_type": "stream",
     "text": [
      "\n",
      "Attaching package: 'dplyr'\n",
      "\n",
      "\n",
      "The following objects are masked from 'package:stats':\n",
      "\n",
      "    filter, lag\n",
      "\n",
      "\n",
      "The following objects are masked from 'package:base':\n",
      "\n",
      "    intersect, setdiff, setequal, union\n",
      "\n",
      "\n",
      "Warning message:\n",
      "\"package 'ggplot2' was built under R version 4.3.3\"\n",
      "Registered S3 method overwritten by 'GGally':\n",
      "  method from   \n",
      "  +.gg   ggplot2\n",
      "\n",
      "Warning message:\n",
      "\"package 'fastDummies' was built under R version 4.3.3\"\n",
      "Warning message:\n",
      "\"package 'reshape2' was built under R version 4.3.3\"\n",
      "\n",
      "Attaching package: 'reshape2'\n",
      "\n",
      "\n",
      "The following object is masked from 'package:tidyr':\n",
      "\n",
      "    smiths\n",
      "\n",
      "\n"
     ]
    }
   ],
   "source": [
    "health_data = read.csv(\"health_data.csv\")\n",
    "\n",
    "library(dplyr)\n",
    "library(tidyr)\n",
    "library(ggplot2)\n",
    "library(GGally)\n",
    "library(fastDummies)\n",
    "library(reshape2)"
   ]
  },
  {
   "cell_type": "code",
   "execution_count": 2,
   "metadata": {
    "vscode": {
     "languageId": "r"
    }
   },
   "outputs": [
    {
     "data": {
      "text/html": [
       "<table class=\"dataframe\">\n",
       "<caption>A data.frame: 6 × 18</caption>\n",
       "<thead>\n",
       "\t<tr><th></th><th scope=col>PatientID</th><th scope=col>Age</th><th scope=col>Gender</th><th scope=col>BMI</th><th scope=col>SmokingStatus</th><th scope=col>AlcoholConsumption</th><th scope=col>ExerciseFrequency</th><th scope=col>CholesterolLevel</th><th scope=col>BloodPressure</th><th scope=col>Diabetes</th><th scope=col>HeartDisease</th><th scope=col>PhysicalActivityLevel</th><th scope=col>DietQuality</th><th scope=col>MedicationAdherence</th><th scope=col>AnnualCheckups</th><th scope=col>GeneticRisk</th><th scope=col>HealthcareCost</th><th scope=col>Outcome</th></tr>\n",
       "\t<tr><th></th><th scope=col>&lt;int&gt;</th><th scope=col>&lt;int&gt;</th><th scope=col>&lt;chr&gt;</th><th scope=col>&lt;dbl&gt;</th><th scope=col>&lt;chr&gt;</th><th scope=col>&lt;chr&gt;</th><th scope=col>&lt;chr&gt;</th><th scope=col>&lt;dbl&gt;</th><th scope=col>&lt;chr&gt;</th><th scope=col>&lt;chr&gt;</th><th scope=col>&lt;chr&gt;</th><th scope=col>&lt;chr&gt;</th><th scope=col>&lt;chr&gt;</th><th scope=col>&lt;chr&gt;</th><th scope=col>&lt;int&gt;</th><th scope=col>&lt;dbl&gt;</th><th scope=col>&lt;dbl&gt;</th><th scope=col>&lt;chr&gt;</th></tr>\n",
       "</thead>\n",
       "<tbody>\n",
       "\t<tr><th scope=row>1</th><td>1</td><td>82</td><td>Male  </td><td>27.72798</td><td>Never  </td><td>Never       </td><td>Never    </td><td>170.5041</td><td>124/80</td><td>No </td><td>Yes</td><td>Low   </td><td>Average</td><td>Medium</td><td>2</td><td>0.89</td><td>20974.84</td><td>Healthy </td></tr>\n",
       "\t<tr><th scope=row>2</th><td>2</td><td>62</td><td>Female</td><td>26.12258</td><td>Former </td><td>Never       </td><td>Sometimes</td><td>183.7046</td><td>155/75</td><td>Yes</td><td>No </td><td>Low   </td><td>Good   </td><td>Medium</td><td>1</td><td>0.95</td><td>12693.40</td><td>Healthy </td></tr>\n",
       "\t<tr><th scope=row>3</th><td>3</td><td>26</td><td>Female</td><td>37.61520</td><td>Never  </td><td>Occasionally</td><td>Never    </td><td>256.5829</td><td>100/96</td><td>No </td><td>No </td><td>Medium</td><td>Average</td><td>High  </td><td>1</td><td>1.00</td><td>13103.52</td><td>Critical</td></tr>\n",
       "\t<tr><th scope=row>4</th><td>4</td><td>64</td><td>Male  </td><td>33.12029</td><td>Current</td><td>Never       </td><td>Sometimes</td><td>163.4861</td><td>159/82</td><td>No </td><td>No </td><td>Medium</td><td>Average</td><td>Medium</td><td>3</td><td>1.00</td><td>15920.20</td><td>Healthy </td></tr>\n",
       "\t<tr><th scope=row>5</th><td>5</td><td>34</td><td>Female</td><td>30.66780</td><td>Never  </td><td>Regularly   </td><td>Sometimes</td><td>247.2195</td><td>131/80</td><td>No </td><td>No </td><td>Medium</td><td>Average</td><td>High  </td><td>4</td><td>1.00</td><td>18529.89</td><td>Critical</td></tr>\n",
       "\t<tr><th scope=row>6</th><td>6</td><td>34</td><td>Male  </td><td>28.12764</td><td>Never  </td><td>Never       </td><td>Sometimes</td><td>173.1878</td><td>144/93</td><td>Yes</td><td>No </td><td>Medium</td><td>Poor   </td><td>Medium</td><td>3</td><td>0.97</td><td>12930.51</td><td>Healthy </td></tr>\n",
       "</tbody>\n",
       "</table>\n"
      ],
      "text/latex": [
       "A data.frame: 6 × 18\n",
       "\\begin{tabular}{r|llllllllllllllllll}\n",
       "  & PatientID & Age & Gender & BMI & SmokingStatus & AlcoholConsumption & ExerciseFrequency & CholesterolLevel & BloodPressure & Diabetes & HeartDisease & PhysicalActivityLevel & DietQuality & MedicationAdherence & AnnualCheckups & GeneticRisk & HealthcareCost & Outcome\\\\\n",
       "  & <int> & <int> & <chr> & <dbl> & <chr> & <chr> & <chr> & <dbl> & <chr> & <chr> & <chr> & <chr> & <chr> & <chr> & <int> & <dbl> & <dbl> & <chr>\\\\\n",
       "\\hline\n",
       "\t1 & 1 & 82 & Male   & 27.72798 & Never   & Never        & Never     & 170.5041 & 124/80 & No  & Yes & Low    & Average & Medium & 2 & 0.89 & 20974.84 & Healthy \\\\\n",
       "\t2 & 2 & 62 & Female & 26.12258 & Former  & Never        & Sometimes & 183.7046 & 155/75 & Yes & No  & Low    & Good    & Medium & 1 & 0.95 & 12693.40 & Healthy \\\\\n",
       "\t3 & 3 & 26 & Female & 37.61520 & Never   & Occasionally & Never     & 256.5829 & 100/96 & No  & No  & Medium & Average & High   & 1 & 1.00 & 13103.52 & Critical\\\\\n",
       "\t4 & 4 & 64 & Male   & 33.12029 & Current & Never        & Sometimes & 163.4861 & 159/82 & No  & No  & Medium & Average & Medium & 3 & 1.00 & 15920.20 & Healthy \\\\\n",
       "\t5 & 5 & 34 & Female & 30.66780 & Never   & Regularly    & Sometimes & 247.2195 & 131/80 & No  & No  & Medium & Average & High   & 4 & 1.00 & 18529.89 & Critical\\\\\n",
       "\t6 & 6 & 34 & Male   & 28.12764 & Never   & Never        & Sometimes & 173.1878 & 144/93 & Yes & No  & Medium & Poor    & Medium & 3 & 0.97 & 12930.51 & Healthy \\\\\n",
       "\\end{tabular}\n"
      ],
      "text/markdown": [
       "\n",
       "A data.frame: 6 × 18\n",
       "\n",
       "| <!--/--> | PatientID &lt;int&gt; | Age &lt;int&gt; | Gender &lt;chr&gt; | BMI &lt;dbl&gt; | SmokingStatus &lt;chr&gt; | AlcoholConsumption &lt;chr&gt; | ExerciseFrequency &lt;chr&gt; | CholesterolLevel &lt;dbl&gt; | BloodPressure &lt;chr&gt; | Diabetes &lt;chr&gt; | HeartDisease &lt;chr&gt; | PhysicalActivityLevel &lt;chr&gt; | DietQuality &lt;chr&gt; | MedicationAdherence &lt;chr&gt; | AnnualCheckups &lt;int&gt; | GeneticRisk &lt;dbl&gt; | HealthcareCost &lt;dbl&gt; | Outcome &lt;chr&gt; |\n",
       "|---|---|---|---|---|---|---|---|---|---|---|---|---|---|---|---|---|---|---|\n",
       "| 1 | 1 | 82 | Male   | 27.72798 | Never   | Never        | Never     | 170.5041 | 124/80 | No  | Yes | Low    | Average | Medium | 2 | 0.89 | 20974.84 | Healthy  |\n",
       "| 2 | 2 | 62 | Female | 26.12258 | Former  | Never        | Sometimes | 183.7046 | 155/75 | Yes | No  | Low    | Good    | Medium | 1 | 0.95 | 12693.40 | Healthy  |\n",
       "| 3 | 3 | 26 | Female | 37.61520 | Never   | Occasionally | Never     | 256.5829 | 100/96 | No  | No  | Medium | Average | High   | 1 | 1.00 | 13103.52 | Critical |\n",
       "| 4 | 4 | 64 | Male   | 33.12029 | Current | Never        | Sometimes | 163.4861 | 159/82 | No  | No  | Medium | Average | Medium | 3 | 1.00 | 15920.20 | Healthy  |\n",
       "| 5 | 5 | 34 | Female | 30.66780 | Never   | Regularly    | Sometimes | 247.2195 | 131/80 | No  | No  | Medium | Average | High   | 4 | 1.00 | 18529.89 | Critical |\n",
       "| 6 | 6 | 34 | Male   | 28.12764 | Never   | Never        | Sometimes | 173.1878 | 144/93 | Yes | No  | Medium | Poor    | Medium | 3 | 0.97 | 12930.51 | Healthy  |\n",
       "\n"
      ],
      "text/plain": [
       "  PatientID Age Gender BMI      SmokingStatus AlcoholConsumption\n",
       "1 1         82  Male   27.72798 Never         Never             \n",
       "2 2         62  Female 26.12258 Former        Never             \n",
       "3 3         26  Female 37.61520 Never         Occasionally      \n",
       "4 4         64  Male   33.12029 Current       Never             \n",
       "5 5         34  Female 30.66780 Never         Regularly         \n",
       "6 6         34  Male   28.12764 Never         Never             \n",
       "  ExerciseFrequency CholesterolLevel BloodPressure Diabetes HeartDisease\n",
       "1 Never             170.5041         124/80        No       Yes         \n",
       "2 Sometimes         183.7046         155/75        Yes      No          \n",
       "3 Never             256.5829         100/96        No       No          \n",
       "4 Sometimes         163.4861         159/82        No       No          \n",
       "5 Sometimes         247.2195         131/80        No       No          \n",
       "6 Sometimes         173.1878         144/93        Yes      No          \n",
       "  PhysicalActivityLevel DietQuality MedicationAdherence AnnualCheckups\n",
       "1 Low                   Average     Medium              2             \n",
       "2 Low                   Good        Medium              1             \n",
       "3 Medium                Average     High                1             \n",
       "4 Medium                Average     Medium              3             \n",
       "5 Medium                Average     High                4             \n",
       "6 Medium                Poor        Medium              3             \n",
       "  GeneticRisk HealthcareCost Outcome \n",
       "1 0.89        20974.84       Healthy \n",
       "2 0.95        12693.40       Healthy \n",
       "3 1.00        13103.52       Critical\n",
       "4 1.00        15920.20       Healthy \n",
       "5 1.00        18529.89       Critical\n",
       "6 0.97        12930.51       Healthy "
      ]
     },
     "metadata": {},
     "output_type": "display_data"
    },
    {
     "data": {
      "text/plain": [
       "   PatientID           Age           Gender               BMI       \n",
       " Min.   :     1   Min.   :18.00   Length:300000      Min.   :15.00  \n",
       " 1st Qu.: 75001   1st Qu.:35.00   Class :character   1st Qu.:26.63  \n",
       " Median :150001   Median :53.00   Mode  :character   Median :30.13  \n",
       " Mean   :150001   Mean   :53.49                      Mean   :30.07  \n",
       " 3rd Qu.:225000   3rd Qu.:72.00                      3rd Qu.:33.62  \n",
       " Max.   :300000   Max.   :89.00                      Max.   :40.00  \n",
       " SmokingStatus      AlcoholConsumption ExerciseFrequency  CholesterolLevel\n",
       " Length:300000      Length:300000      Length:300000      Min.   :100.0   \n",
       " Class :character   Class :character   Class :character   1st Qu.:192.5   \n",
       " Mode  :character   Mode  :character   Mode  :character   Median :214.5   \n",
       "                                                          Mean   :214.6   \n",
       "                                                          3rd Qu.:236.6   \n",
       "                                                          Max.   :300.0   \n",
       " BloodPressure        Diabetes         HeartDisease       PhysicalActivityLevel\n",
       " Length:300000      Length:300000      Length:300000      Length:300000        \n",
       " Class :character   Class :character   Class :character   Class :character     \n",
       " Mode  :character   Mode  :character   Mode  :character   Mode  :character     \n",
       "                                                                               \n",
       "                                                                               \n",
       "                                                                               \n",
       " DietQuality        MedicationAdherence AnnualCheckups  GeneticRisk    \n",
       " Length:300000      Length:300000       Min.   :0      Min.   :0.7600  \n",
       " Class :character   Class :character    1st Qu.:1      1st Qu.:0.9800  \n",
       " Mode  :character   Mode  :character    Median :2      Median :1.0000  \n",
       "                                        Mean   :2      Mean   :0.9856  \n",
       "                                        3rd Qu.:3      3rd Qu.:1.0000  \n",
       "                                        Max.   :4      Max.   :1.0000  \n",
       " HealthcareCost    Outcome         \n",
       " Min.   :  500   Length:300000     \n",
       " 1st Qu.: 7740   Class :character  \n",
       " Median :11969   Mode  :character  \n",
       " Mean   :12434                     \n",
       " 3rd Qu.:16664                     \n",
       " Max.   :44761                     "
      ]
     },
     "metadata": {},
     "output_type": "display_data"
    },
    {
     "data": {
      "text/html": [
       "<table class=\"dataframe\">\n",
       "<caption>A data.frame: 1 × 19</caption>\n",
       "<thead>\n",
       "\t<tr><th scope=col>PatientID</th><th scope=col>Age</th><th scope=col>Gender</th><th scope=col>BMI</th><th scope=col>SmokingStatus</th><th scope=col>AlcoholConsumption</th><th scope=col>ExerciseFrequency</th><th scope=col>CholesterolLevel</th><th scope=col>BloodPressureNumerator</th><th scope=col>BloodPressureDenominator</th><th scope=col>Diabetes</th><th scope=col>HeartDisease</th><th scope=col>PhysicalActivityLevel</th><th scope=col>DietQuality</th><th scope=col>MedicationAdherence</th><th scope=col>AnnualCheckups</th><th scope=col>GeneticRisk</th><th scope=col>HealthcareCost</th><th scope=col>Outcome</th></tr>\n",
       "\t<tr><th scope=col>&lt;int&gt;</th><th scope=col>&lt;int&gt;</th><th scope=col>&lt;int&gt;</th><th scope=col>&lt;int&gt;</th><th scope=col>&lt;int&gt;</th><th scope=col>&lt;int&gt;</th><th scope=col>&lt;int&gt;</th><th scope=col>&lt;int&gt;</th><th scope=col>&lt;int&gt;</th><th scope=col>&lt;int&gt;</th><th scope=col>&lt;int&gt;</th><th scope=col>&lt;int&gt;</th><th scope=col>&lt;int&gt;</th><th scope=col>&lt;int&gt;</th><th scope=col>&lt;int&gt;</th><th scope=col>&lt;int&gt;</th><th scope=col>&lt;int&gt;</th><th scope=col>&lt;int&gt;</th><th scope=col>&lt;int&gt;</th></tr>\n",
       "</thead>\n",
       "<tbody>\n",
       "\t<tr><td>0</td><td>0</td><td>0</td><td>0</td><td>0</td><td>0</td><td>0</td><td>0</td><td>0</td><td>0</td><td>0</td><td>0</td><td>0</td><td>0</td><td>0</td><td>0</td><td>0</td><td>0</td><td>0</td></tr>\n",
       "</tbody>\n",
       "</table>\n"
      ],
      "text/latex": [
       "A data.frame: 1 × 19\n",
       "\\begin{tabular}{lllllllllllllllllll}\n",
       " PatientID & Age & Gender & BMI & SmokingStatus & AlcoholConsumption & ExerciseFrequency & CholesterolLevel & BloodPressureNumerator & BloodPressureDenominator & Diabetes & HeartDisease & PhysicalActivityLevel & DietQuality & MedicationAdherence & AnnualCheckups & GeneticRisk & HealthcareCost & Outcome\\\\\n",
       " <int> & <int> & <int> & <int> & <int> & <int> & <int> & <int> & <int> & <int> & <int> & <int> & <int> & <int> & <int> & <int> & <int> & <int> & <int>\\\\\n",
       "\\hline\n",
       "\t 0 & 0 & 0 & 0 & 0 & 0 & 0 & 0 & 0 & 0 & 0 & 0 & 0 & 0 & 0 & 0 & 0 & 0 & 0\\\\\n",
       "\\end{tabular}\n"
      ],
      "text/markdown": [
       "\n",
       "A data.frame: 1 × 19\n",
       "\n",
       "| PatientID &lt;int&gt; | Age &lt;int&gt; | Gender &lt;int&gt; | BMI &lt;int&gt; | SmokingStatus &lt;int&gt; | AlcoholConsumption &lt;int&gt; | ExerciseFrequency &lt;int&gt; | CholesterolLevel &lt;int&gt; | BloodPressureNumerator &lt;int&gt; | BloodPressureDenominator &lt;int&gt; | Diabetes &lt;int&gt; | HeartDisease &lt;int&gt; | PhysicalActivityLevel &lt;int&gt; | DietQuality &lt;int&gt; | MedicationAdherence &lt;int&gt; | AnnualCheckups &lt;int&gt; | GeneticRisk &lt;int&gt; | HealthcareCost &lt;int&gt; | Outcome &lt;int&gt; |\n",
       "|---|---|---|---|---|---|---|---|---|---|---|---|---|---|---|---|---|---|---|\n",
       "| 0 | 0 | 0 | 0 | 0 | 0 | 0 | 0 | 0 | 0 | 0 | 0 | 0 | 0 | 0 | 0 | 0 | 0 | 0 |\n",
       "\n"
      ],
      "text/plain": [
       "  PatientID Age Gender BMI SmokingStatus AlcoholConsumption ExerciseFrequency\n",
       "1 0         0   0      0   0             0                  0                \n",
       "  CholesterolLevel BloodPressureNumerator BloodPressureDenominator Diabetes\n",
       "1 0                0                      0                        0       \n",
       "  HeartDisease PhysicalActivityLevel DietQuality MedicationAdherence\n",
       "1 0            0                     0           0                  \n",
       "  AnnualCheckups GeneticRisk HealthcareCost Outcome\n",
       "1 0              0           0              0      "
      ]
     },
     "metadata": {},
     "output_type": "display_data"
    }
   ],
   "source": [
    "head(health_data)\n",
    "summary(health_data)\n",
    "\n",
    "\n",
    "\n",
    "health_data= health_data %>% separate(BloodPressure, c(\"BloodPressureNumerator\",\"BloodPressureDenominator\"),\"/\")\n",
    "\n",
    "health_data$`BloodPressureNumerator` <- as.numeric(as.character(health_data$`BloodPressureNumerator`))\n",
    "health_data$`BloodPressureDenominator` <- as.numeric(as.character(health_data$`BloodPressureDenominator`))\n",
    "\n",
    "health_data %>% summarise_all(~sum(is.na(.)))\n",
    "\n",
    "\n",
    "\n",
    "numeric_data = health_data[,unlist(lapply(health_data, is.numeric))]\n",
    "cat_data = health_data[,unlist(lapply(health_data, is.character))]\n"
   ]
  },
  {
   "cell_type": "code",
   "execution_count": 3,
   "metadata": {
    "vscode": {
     "languageId": "r"
    }
   },
   "outputs": [],
   "source": [
    "health_data_clean = health_data\n",
    "\n",
    "health_data_clean$Gender = factor(health_data_clean$Gender,level = c('Male','Female',\"Other\"))\n",
    "health_data_clean$SmokingStatus = factor(health_data_clean$SmokingStatus,levels = c('Never','Former','Current'))\n",
    "health_data_clean$AlcoholConsumption = factor(health_data_clean$AlcoholConsumption,levels = c('Never','Occasionally','Regularly'))\n",
    "health_data_clean$ExerciseFrequency = factor(health_data_clean$ExerciseFrequency,levels = c('Never','Sometimes','Often','Rarely'))\n",
    "health_data_clean$PhysicalActivityLevel = factor(health_data_clean$PhysicalActivityLevel,levels = c('Low','Medium','High'))\n",
    "health_data_clean$DietQuality = factor(health_data_clean$DietQuality,levels = c('Average','Good','Poor'))\n",
    "health_data_clean$MedicationAdherence = factor(health_data_clean$MedicationAdherence,levels = c('Medium','High','Low'))\n",
    "health_data_clean$Outcome = factor(health_data_clean$Outcome,levels = c('Healthy','Critical','At Risk'))\n",
    "\n",
    "library(fastDummies)\n",
    "\n",
    "health_data_lm = dummy_cols(health_data_clean,select_columns = c(\"Gender\",\"SmokingStatus\",\"AlcoholConsumption\",\"ExerciseFrequency\",\"Diabetes\",\"HeartDisease\",\"PhysicalActivityLevel\",\"DietQuality\",\"MedicationAdherence\",\"Outcome\"))\n",
    "health_data_lm = subset(health_data_lm, select=-c(Gender,SmokingStatus,AlcoholConsumption,ExerciseFrequency,Diabetes,HeartDisease,PhysicalActivityLevel,DietQuality,MedicationAdherence,Outcome,PatientID))\n",
    "names(health_data_lm)[names(health_data_lm) == 'Outcome_At Risk'] <- 'Outcome_at_risk'\n"
   ]
  },
  {
   "cell_type": "markdown",
   "metadata": {},
   "source": [
    "Linear Regression - Random Forest\n"
   ]
  },
  {
   "cell_type": "code",
   "execution_count": 4,
   "metadata": {
    "vscode": {
     "languageId": "r"
    }
   },
   "outputs": [
    {
     "name": "stderr",
     "output_type": "stream",
     "text": [
      "Warning message:\n",
      "\"package 'randomForest' was built under R version 4.3.3\"\n",
      "randomForest 4.7-1.1\n",
      "\n"
     ]
    },
    {
     "name": "stderr",
     "output_type": "stream",
     "text": [
      "Type rfNews() to see new features/changes/bug fixes.\n",
      "\n",
      "\n",
      "Attaching package: 'randomForest'\n",
      "\n",
      "\n",
      "The following object is masked from 'package:ggplot2':\n",
      "\n",
      "    margin\n",
      "\n",
      "\n",
      "The following object is masked from 'package:dplyr':\n",
      "\n",
      "    combine\n",
      "\n",
      "\n",
      "Warning message:\n",
      "\"package 'ranger' was built under R version 4.3.3\"\n",
      "\n",
      "Attaching package: 'ranger'\n",
      "\n",
      "\n",
      "The following object is masked from 'package:randomForest':\n",
      "\n",
      "    importance\n",
      "\n",
      "\n"
     ]
    }
   ],
   "source": [
    "library(randomForest)\n",
    "library(ranger)"
   ]
  },
  {
   "cell_type": "code",
   "execution_count": 5,
   "metadata": {
    "vscode": {
     "languageId": "r"
    }
   },
   "outputs": [
    {
     "name": "stdout",
     "output_type": "stream",
     "text": [
      "Growing trees.. Progress: 81%. Estimated remaining time: 7 seconds.\n",
      "Ranger result\n",
      "\n",
      "Call:\n",
      " ranger(HealthcareCost ~ ., data = health_data_lm, mtry = 3, num.trees = 100,      importance = \"impurity\") \n",
      "\n",
      "Type:                             Regression \n",
      "Number of trees:                  100 \n",
      "Sample size:                      300000 \n",
      "Number of independent variables:  36 \n",
      "Mtry:                             3 \n",
      "Target node size:                 5 \n",
      "Variable importance mode:         impurity \n",
      "Splitrule:                        variance \n",
      "OOB prediction error (MSE):       27403663 \n",
      "R squared (OOB):                  0.3519425 \n"
     ]
    }
   ],
   "source": [
    "rand_forest_hc <- ranger(\n",
    "  HealthcareCost ~ ., \n",
    "  data = health_data_lm, \n",
    "  mtry = 3, \n",
    "  num.trees = 100, \n",
    "  importance = 'impurity'\n",
    ")\n",
    "\n",
    "print(rand_forest_hc)"
   ]
  },
  {
   "cell_type": "code",
   "execution_count": 6,
   "metadata": {
    "vscode": {
     "languageId": "r"
    }
   },
   "outputs": [
    {
     "data": {
      "image/png": "[encoded data removed]",
      "text/plain": [
       "plot without title"
      ]
     },
     "metadata": {
      "image/png": {
       "height": 420,
       "width": 420
      }
     },
     "output_type": "display_data"
    }
   ],
   "source": [
    "importance_score = rand_forest_hc$variable.importance\n",
    "important_vars_df = data.frame(Variables = names(importance_score),Score= importance_score)\n",
    "\n",
    "ggplot(important_vars_df, aes(x = reorder(Variables, Score), y = Score)) +\n",
    "  geom_bar(stat = \"identity\") +\n",
    "  coord_flip() +\n",
    "  labs(title = \"Variable Importance - LM Healthcare Cost\",\n",
    "       x = \"Feature\",\n",
    "       y = \"Importance\") +\n",
    "  theme_minimal()"
   ]
  },
  {
   "cell_type": "markdown",
   "metadata": {},
   "source": [
    "Logstic Regression - Random Forest"
   ]
  },
  {
   "cell_type": "code",
   "execution_count": 7,
   "metadata": {
    "vscode": {
     "languageId": "r"
    }
   },
   "outputs": [
    {
     "name": "stderr",
     "output_type": "stream",
     "text": [
      "Warning message:\n",
      "\"package 'nnet' was built under R version 4.3.3\"\n"
     ]
    }
   ],
   "source": [
    "library(nnet)\n",
    "library(speedglm)"
   ]
  },
  {
   "cell_type": "code",
   "execution_count": 8,
   "metadata": {
    "vscode": {
     "languageId": "r"
    }
   },
   "outputs": [
    {
     "name": "stderr",
     "output_type": "stream",
     "text": [
      "Warning message:\n",
      "\"package 'speedglm' was built under R version 4.3.3\"\n",
      "Loading required package: Matrix\n",
      "\n"
     ]
    },
    {
     "name": "stderr",
     "output_type": "stream",
     "text": [
      "\n",
      "Attaching package: 'Matrix'\n",
      "\n",
      "\n",
      "The following objects are masked from 'package:tidyr':\n",
      "\n",
      "    expand, pack, unpack\n",
      "\n",
      "\n",
      "Loading required package: MASS\n",
      "\n",
      "\n",
      "Attaching package: 'MASS'\n",
      "\n",
      "\n",
      "The following object is masked from 'package:dplyr':\n",
      "\n",
      "    select\n",
      "\n",
      "\n",
      "Loading required package: biglm\n",
      "\n",
      "Warning message:\n",
      "\"package 'biglm' was built under R version 4.3.3\"\n",
      "Loading required package: DBI\n",
      "\n"
     ]
    }
   ],
   "source": [
    "\n",
    "library(speedglm)"
   ]
  },
  {
   "cell_type": "code",
   "execution_count": 9,
   "metadata": {
    "vscode": {
     "languageId": "r"
    }
   },
   "outputs": [],
   "source": [
    "library(randomForest)\n",
    "library(ranger)"
   ]
  },
  {
   "cell_type": "markdown",
   "metadata": {},
   "source": [
    "Log Regression - Outcome"
   ]
  },
  {
   "cell_type": "code",
   "execution_count": 10,
   "metadata": {
    "vscode": {
     "languageId": "r"
    }
   },
   "outputs": [],
   "source": [
    "health_data_log_reg = dummy_cols(health_data,select_columns = c(\"Gender\",\"SmokingStatus\",\"AlcoholConsumption\",\"ExerciseFrequency\",\"Diabetes\",\"HeartDisease\",\"PhysicalActivityLevel\",\"DietQuality\",\"MedicationAdherence\",\"Outcome\"))\n",
    "names(health_data_log_reg)[names(health_data_log_reg) == 'Outcome_At Risk'] <- 'Outcome_at_risk'\n",
    "health_data_log_reg_outcome <- subset(health_data_log_reg, select = -c(Outcome_at_risk,Outcome_Critical,Outcome_Healthy,PatientID,Gender,SmokingStatus,AlcoholConsumption,ExerciseFrequency,PhysicalActivityLevel,PhysicalActivityLevel,DietQuality,MedicationAdherence,Gender_Other,Diabetes,MedicationAdherence_Medium,ExerciseFrequency_Sometimes,AlcoholConsumption_Regularly,SmokingStatus_Never))\n",
    "health_data_log_reg_outcome$Outcome <- as.factor(health_data_log_reg_outcome$Outcome)"
   ]
  },
  {
   "cell_type": "code",
   "execution_count": 11,
   "metadata": {
    "vscode": {
     "languageId": "r"
    }
   },
   "outputs": [
    {
     "data": {
      "text/html": [
       "<style>\n",
       ".list-inline {list-style: none; margin:0; padding: 0}\n",
       ".list-inline>li {display: inline-block}\n",
       ".list-inline>li:not(:last-child)::after {content: \"\\00b7\"; padding: 0 .5ex}\n",
       "</style>\n",
       "<ol class=list-inline><li>'Age'</li><li>'BMI'</li><li>'CholesterolLevel'</li><li>'BloodPressureNumerator'</li><li>'BloodPressureDenominator'</li><li>'HeartDisease'</li><li>'AnnualCheckups'</li><li>'GeneticRisk'</li><li>'HealthcareCost'</li><li>'Outcome'</li><li>'Gender_Female'</li><li>'Gender_Male'</li><li>'SmokingStatus_Current'</li><li>'SmokingStatus_Former'</li><li>'AlcoholConsumption_Never'</li><li>'AlcoholConsumption_Occasionally'</li><li>'ExerciseFrequency_Never'</li><li>'ExerciseFrequency_Often'</li><li>'ExerciseFrequency_Rarely'</li><li>'Diabetes_No'</li><li>'Diabetes_Yes'</li><li>'HeartDisease_No'</li><li>'HeartDisease_Yes'</li><li>'PhysicalActivityLevel_High'</li><li>'PhysicalActivityLevel_Low'</li><li>'PhysicalActivityLevel_Medium'</li><li>'DietQuality_Average'</li><li>'DietQuality_Good'</li><li>'DietQuality_Poor'</li><li>'MedicationAdherence_High'</li><li>'MedicationAdherence_Low'</li></ol>\n"
      ],
      "text/latex": [
       "\\begin{enumerate*}\n",
       "\\item 'Age'\n",
       "\\item 'BMI'\n",
       "\\item 'CholesterolLevel'\n",
       "\\item 'BloodPressureNumerator'\n",
       "\\item 'BloodPressureDenominator'\n",
       "\\item 'HeartDisease'\n",
       "\\item 'AnnualCheckups'\n",
       "\\item 'GeneticRisk'\n",
       "\\item 'HealthcareCost'\n",
       "\\item 'Outcome'\n",
       "\\item 'Gender\\_Female'\n",
       "\\item 'Gender\\_Male'\n",
       "\\item 'SmokingStatus\\_Current'\n",
       "\\item 'SmokingStatus\\_Former'\n",
       "\\item 'AlcoholConsumption\\_Never'\n",
       "\\item 'AlcoholConsumption\\_Occasionally'\n",
       "\\item 'ExerciseFrequency\\_Never'\n",
       "\\item 'ExerciseFrequency\\_Often'\n",
       "\\item 'ExerciseFrequency\\_Rarely'\n",
       "\\item 'Diabetes\\_No'\n",
       "\\item 'Diabetes\\_Yes'\n",
       "\\item 'HeartDisease\\_No'\n",
       "\\item 'HeartDisease\\_Yes'\n",
       "\\item 'PhysicalActivityLevel\\_High'\n",
       "\\item 'PhysicalActivityLevel\\_Low'\n",
       "\\item 'PhysicalActivityLevel\\_Medium'\n",
       "\\item 'DietQuality\\_Average'\n",
       "\\item 'DietQuality\\_Good'\n",
       "\\item 'DietQuality\\_Poor'\n",
       "\\item 'MedicationAdherence\\_High'\n",
       "\\item 'MedicationAdherence\\_Low'\n",
       "\\end{enumerate*}\n"
      ],
      "text/markdown": [
       "1. 'Age'\n",
       "2. 'BMI'\n",
       "3. 'CholesterolLevel'\n",
       "4. 'BloodPressureNumerator'\n",
       "5. 'BloodPressureDenominator'\n",
       "6. 'HeartDisease'\n",
       "7. 'AnnualCheckups'\n",
       "8. 'GeneticRisk'\n",
       "9. 'HealthcareCost'\n",
       "10. 'Outcome'\n",
       "11. 'Gender_Female'\n",
       "12. 'Gender_Male'\n",
       "13. 'SmokingStatus_Current'\n",
       "14. 'SmokingStatus_Former'\n",
       "15. 'AlcoholConsumption_Never'\n",
       "16. 'AlcoholConsumption_Occasionally'\n",
       "17. 'ExerciseFrequency_Never'\n",
       "18. 'ExerciseFrequency_Often'\n",
       "19. 'ExerciseFrequency_Rarely'\n",
       "20. 'Diabetes_No'\n",
       "21. 'Diabetes_Yes'\n",
       "22. 'HeartDisease_No'\n",
       "23. 'HeartDisease_Yes'\n",
       "24. 'PhysicalActivityLevel_High'\n",
       "25. 'PhysicalActivityLevel_Low'\n",
       "26. 'PhysicalActivityLevel_Medium'\n",
       "27. 'DietQuality_Average'\n",
       "28. 'DietQuality_Good'\n",
       "29. 'DietQuality_Poor'\n",
       "30. 'MedicationAdherence_High'\n",
       "31. 'MedicationAdherence_Low'\n",
       "\n",
       "\n"
      ],
      "text/plain": [
       " [1] \"Age\"                             \"BMI\"                            \n",
       " [3] \"CholesterolLevel\"                \"BloodPressureNumerator\"         \n",
       " [5] \"BloodPressureDenominator\"        \"HeartDisease\"                   \n",
       " [7] \"AnnualCheckups\"                  \"GeneticRisk\"                    \n",
       " [9] \"HealthcareCost\"                  \"Outcome\"                        \n",
       "[11] \"Gender_Female\"                   \"Gender_Male\"                    \n",
       "[13] \"SmokingStatus_Current\"           \"SmokingStatus_Former\"           \n",
       "[15] \"AlcoholConsumption_Never\"        \"AlcoholConsumption_Occasionally\"\n",
       "[17] \"ExerciseFrequency_Never\"         \"ExerciseFrequency_Often\"        \n",
       "[19] \"ExerciseFrequency_Rarely\"        \"Diabetes_No\"                    \n",
       "[21] \"Diabetes_Yes\"                    \"HeartDisease_No\"                \n",
       "[23] \"HeartDisease_Yes\"                \"PhysicalActivityLevel_High\"     \n",
       "[25] \"PhysicalActivityLevel_Low\"       \"PhysicalActivityLevel_Medium\"   \n",
       "[27] \"DietQuality_Average\"             \"DietQuality_Good\"               \n",
       "[29] \"DietQuality_Poor\"                \"MedicationAdherence_High\"       \n",
       "[31] \"MedicationAdherence_Low\"        "
      ]
     },
     "metadata": {},
     "output_type": "display_data"
    }
   ],
   "source": [
    "colnames(health_data_log_reg_outcome)"
   ]
  },
  {
   "cell_type": "code",
   "execution_count": 99,
   "metadata": {
    "vscode": {
     "languageId": "r"
    }
   },
   "outputs": [],
   "source": [
    "health_data_log_reg = dummy_cols(health_data,select_columns = c(\"Gender\",\"SmokingStatus\",\"AlcoholConsumption\",\"ExerciseFrequency\",\"Diabetes\",\"HeartDisease\",\"PhysicalActivityLevel\",\"DietQuality\",\"MedicationAdherence\",\"Outcome\"))\n",
    "names(health_data_log_reg)[names(health_data_log_reg) == 'Outcome_At Risk'] <- 'Outcome_at_risk'\n",
    "health_data_log_reg_exercise <- subset(health_data_log_reg, select = -c(ExerciseFrequency_Never,ExerciseFrequency_Often,ExerciseFrequency_Rarely,Outcome_Healthy,PatientID,Gender,SmokingStatus,AlcoholConsumption,PhysicalActivityLevel,PhysicalActivityLevel,DietQuality,MedicationAdherence,Gender_Other,Diabetes,MedicationAdherence_Medium,ExerciseFrequency_Sometimes,AlcoholConsumption_Regularly,SmokingStatus_Never))\n",
    "health_data_log_reg_exercise$ExerciseFrequency <- as.factor(health_data_log_reg_exercise$ExerciseFrequency)"
   ]
  },
  {
   "cell_type": "code",
   "execution_count": 100,
   "metadata": {
    "vscode": {
     "languageId": "r"
    }
   },
   "outputs": [
    {
     "name": "stdout",
     "output_type": "stream",
     "text": [
      "Growing trees.. Progress: 75%. Estimated remaining time: 10 seconds.\n",
      "Ranger result\n",
      "\n",
      "Call:\n",
      " ranger(ExerciseFrequency ~ ., data = health_data_log_reg_exercise,      mtry = 3, num.trees = 100, importance = \"impurity\") \n",
      "\n",
      "Type:                             Classification \n",
      "Number of trees:                  100 \n",
      "Sample size:                      300000 \n",
      "Number of independent variables:  30 \n",
      "Mtry:                             3 \n",
      "Target node size:                 1 \n",
      "Variable importance mode:         impurity \n",
      "Splitrule:                        gini \n",
      "OOB prediction error:             70.09 % \n"
     ]
    }
   ],
   "source": [
    "rand_forest_log_exercise <- ranger(\n",
    "  ExerciseFrequency ~ ., \n",
    "  data = health_data_log_reg_exercise, \n",
    "  mtry = 3, \n",
    "  num.trees = 100, \n",
    "  importance = 'impurity'\n",
    ")\n",
    "print(rand_forest_log_exercise)"
   ]
  },
  {
   "cell_type": "code",
   "execution_count": 101,
   "metadata": {
    "vscode": {
     "languageId": "r"
    }
   },
   "outputs": [
    {
     "data": {
      "image/png": "[encoded data removed]",
      "text/plain": [
       "plot without title"
      ]
     },
     "metadata": {
      "image/png": {
       "height": 420,
       "width": 420
      }
     },
     "output_type": "display_data"
    }
   ],
   "source": [
    "importance_scores_exercise = rand_forest_log_exercise$variable.importance\n",
    "important_vars_df_log_exercise = data.frame(Variables = names(importance_scores_exercise),Score= importance_scores_exercise)\n",
    "\n",
    "ggplot(important_vars_df_log_exercise, aes(x = reorder(Variables, Score), y = Score)) +\n",
    "  geom_bar(stat = \"identity\") +\n",
    "  coord_flip() +\n",
    "  labs(title = \"Variable Importance - LG Exercise\",\n",
    "       x = \"Feature\",\n",
    "       y = \"Importance\") +\n",
    "  theme_minimal()"
   ]
  },
  {
   "cell_type": "code",
   "execution_count": 12,
   "metadata": {
    "vscode": {
     "languageId": "r"
    }
   },
   "outputs": [
    {
     "name": "stdout",
     "output_type": "stream",
     "text": [
      "Ranger result\n",
      "\n",
      "Call:\n",
      " ranger(Outcome ~ ., data = health_data_log_reg_outcome, mtry = 3,      num.trees = 100, importance = \"impurity\") \n",
      "\n",
      "Type:                             Classification \n",
      "Number of trees:                  100 \n",
      "Sample size:                      300000 \n",
      "Number of independent variables:  30 \n",
      "Mtry:                             3 \n",
      "Target node size:                 1 \n",
      "Variable importance mode:         impurity \n",
      "Splitrule:                        gini \n",
      "OOB prediction error:             17.91 % \n"
     ]
    }
   ],
   "source": [
    "rand_forest_log <- ranger(\n",
    "  Outcome ~ ., \n",
    "  data = health_data_log_reg_outcome, \n",
    "  mtry = 3, \n",
    "  num.trees = 100, \n",
    "  importance = 'impurity'\n",
    ")\n",
    "print(rand_forest_log)"
   ]
  },
  {
   "cell_type": "code",
   "execution_count": 13,
   "metadata": {
    "vscode": {
     "languageId": "r"
    }
   },
   "outputs": [
    {
     "data": {
      "image/png": "[encoded data removed]",
      "text/plain": [
       "plot without title"
      ]
     },
     "metadata": {
      "image/png": {
       "height": 420,
       "width": 420
      }
     },
     "output_type": "display_data"
    }
   ],
   "source": [
    "importance_scores = rand_forest_log$variable.importance\n",
    "important_vars_df_log = data.frame(Variables = names(importance_scores),Score= importance_scores)\n",
    "\n",
    "ggplot(important_vars_df_log, aes(x = reorder(Variables, Score), y = Score)) +\n",
    "  geom_bar(stat = \"identity\") +\n",
    "  coord_flip() +\n",
    "  labs(title = \"Variable Importance - LG Outcome\",\n",
    "       x = \"Feature\",\n",
    "       y = \"Importance\") +\n",
    "  theme_minimal()"
   ]
  },
  {
   "cell_type": "markdown",
   "metadata": {},
   "source": [
    "Log Regression - Heart Disease"
   ]
  },
  {
   "cell_type": "code",
   "execution_count": 46,
   "metadata": {
    "vscode": {
     "languageId": "r"
    }
   },
   "outputs": [],
   "source": [
    "health_data_log_reg = dummy_cols(health_data,select_columns = c(\"Gender\",\"SmokingStatus\",\"AlcoholConsumption\",\"ExerciseFrequency\",\"Diabetes\",\"HeartDisease\",\"PhysicalActivityLevel\",\"DietQuality\",\"MedicationAdherence\",\"Outcome\"))\n",
    "names(health_data_log_reg)[names(health_data_log_reg) == 'Outcome_At Risk'] <- 'Outcome_at_risk'\n",
    "health_data_log_reg_heart_disease <- subset(health_data_log_reg, select = -c(HealthcareCost,HeartDisease_No,HeartDisease_Yes,PatientID,Gender,SmokingStatus,AlcoholConsumption,ExerciseFrequency,PhysicalActivityLevel,PhysicalActivityLevel,DietQuality,MedicationAdherence,Gender_Other,Diabetes,MedicationAdherence_Medium,ExerciseFrequency_Sometimes,AlcoholConsumption_Regularly,SmokingStatus_Never))\n",
    "health_data_log_reg_heart_disease$HeartDisease <- as.factor(health_data_log_reg_heart_disease$HeartDisease)"
   ]
  },
  {
   "cell_type": "code",
   "execution_count": 79,
   "metadata": {
    "vscode": {
     "languageId": "r"
    }
   },
   "outputs": [
    {
     "name": "stdout",
     "output_type": "stream",
     "text": [
      "Growing trees.. Progress: 66%. Estimated remaining time: 15 seconds.\n",
      "Ranger result\n",
      "\n",
      "Call:\n",
      " ranger(HeartDisease ~ ., data = health_data_log_reg_heart_disease,      mtry = 3, num.trees = 150, probability = TRUE, importance = \"impurity\") \n",
      "\n",
      "Type:                             Probability estimation \n",
      "Number of trees:                  150 \n",
      "Sample size:                      300000 \n",
      "Number of independent variables:  30 \n",
      "Mtry:                             3 \n",
      "Target node size:                 10 \n",
      "Variable importance mode:         impurity \n",
      "Splitrule:                        gini \n",
      "OOB prediction error (Brier s.):  0.09014097 \n"
     ]
    }
   ],
   "source": [
    "rand_forest_log_heart_disease <- ranger(\n",
    "  HeartDisease ~ ., \n",
    "  data = health_data_log_reg_heart_disease, mtry = 3, \n",
    "  num.trees = 150, \n",
    "  probability = TRUE, \n",
    "  importance = 'impurity'\n",
    ")\n",
    "print(rand_forest_log_heart_disease)"
   ]
  },
  {
   "cell_type": "code",
   "execution_count": 80,
   "metadata": {
    "vscode": {
     "languageId": "r"
    }
   },
   "outputs": [
    {
     "data": {
      "image/png": "[encoded data removed]",
      "text/plain": [
       "plot without title"
      ]
     },
     "metadata": {
      "image/png": {
       "height": 420,
       "width": 420
      }
     },
     "output_type": "display_data"
    }
   ],
   "source": [
    "importance_scores_heart_disease = rand_forest_log_heart_disease$variable.importance\n",
    "important_vars_df_log_heart_disease = data.frame(Variables = names(importance_scores_heart_disease),Score= importance_scores_heart_disease)\n",
    "\n",
    "ggplot(important_vars_df_log_heart_disease, aes(x = reorder(Variables, Score), y = Score)) +\n",
    "  geom_bar(stat = \"identity\") +\n",
    "  coord_flip() +\n",
    "  labs(title = \"Variable Importance - LG Heart Disease\",\n",
    "       x = \"Feature\",\n",
    "       y = \"Importance\") +\n",
    "  theme_minimal()"
   ]
  },
  {
   "cell_type": "code",
   "execution_count": 52,
   "metadata": {
    "vscode": {
     "languageId": "r"
    }
   },
   "outputs": [],
   "source": [
    "library(caret)\n",
    "library(pROC)"
   ]
  },
  {
   "cell_type": "code",
   "execution_count": 69,
   "metadata": {
    "vscode": {
     "languageId": "r"
    }
   },
   "outputs": [],
   "source": [
    "predictions_heart_disease <- predict(rand_forest_log_heart_disease, \n",
    "                                    data = dplyr::select(health_data_log_reg_heart_disease, -HeartDisease))$predictions\n",
    "predictions_heart_disease <- as.data.frame(predictions_heart_disease)\n",
    "\n",
    "predictions_heart_disease <- predictions_heart_disease %>%\n",
    "  mutate(Pred = ifelse(No > 0.8, 0, 1))\n",
    "\n",
    "actual_heart_disease <- ifelse(health_data_log_reg_heart_disease$HeartDisease == \"No\", 0, 1)"
   ]
  },
  {
   "cell_type": "code",
   "execution_count": 70,
   "metadata": {
    "vscode": {
     "languageId": "r"
    }
   },
   "outputs": [
    {
     "name": "stdout",
     "output_type": "stream",
     "text": [
      "Confusion Matrix and Statistics\n",
      "\n",
      "          Reference\n",
      "Prediction      0      1\n",
      "         0 270209  10510\n",
      "         1      5  19276\n",
      "                                          \n",
      "               Accuracy : 0.965           \n",
      "                 95% CI : (0.9643, 0.9656)\n",
      "    No Information Rate : 0.9007          \n",
      "    P-Value [Acc > NIR] : < 2.2e-16       \n",
      "                                          \n",
      "                  Kappa : 0.7676          \n",
      "                                          \n",
      " Mcnemar's Test P-Value : < 2.2e-16       \n",
      "                                          \n",
      "            Sensitivity : 1.0000          \n",
      "            Specificity : 0.6471          \n",
      "         Pos Pred Value : 0.9626          \n",
      "         Neg Pred Value : 0.9997          \n",
      "             Prevalence : 0.9007          \n",
      "         Detection Rate : 0.9007          \n",
      "   Detection Prevalence : 0.9357          \n",
      "      Balanced Accuracy : 0.8236          \n",
      "                                          \n",
      "       'Positive' Class : 0               \n",
      "                                          \n"
     ]
    }
   ],
   "source": [
    "actual_factor_heart_disease <- factor(actual_heart_disease)\n",
    "\n",
    "conf_matrix <- confusionMatrix(as.factor(predictions_heart_disease$Pred), actual_factor_heart_disease)\n",
    "print(conf_matrix)"
   ]
  },
  {
   "cell_type": "code",
   "execution_count": 56,
   "metadata": {
    "vscode": {
     "languageId": "r"
    }
   },
   "outputs": [],
   "source": [
    "health_data_log_reg = dummy_cols(health_data,select_columns = c(\"Gender\",\"SmokingStatus\",\"AlcoholConsumption\",\"ExerciseFrequency\",\"Diabetes\",\"HeartDisease\",\"PhysicalActivityLevel\",\"DietQuality\",\"MedicationAdherence\",\"Outcome\"))\n",
    "names(health_data_log_reg)[names(health_data_log_reg) == 'Outcome_At Risk'] <- 'Outcome_at_risk'\n",
    "health_data_log_reg_heart_diabetes <- subset(health_data_log_reg, select = -c(HealthcareCost,Diabetes_No,Diabetes_Yes,PatientID,Gender,SmokingStatus,AlcoholConsumption,ExerciseFrequency,PhysicalActivityLevel,PhysicalActivityLevel,DietQuality,MedicationAdherence,Gender_Other,MedicationAdherence_Medium,ExerciseFrequency_Sometimes,AlcoholConsumption_Regularly,SmokingStatus_Never))\n",
    "health_data_log_reg_heart_diabetes$Diabetes <- as.factor(health_data_log_reg_heart_diabetes$Diabetes)"
   ]
  },
  {
   "cell_type": "code",
   "execution_count": 57,
   "metadata": {
    "vscode": {
     "languageId": "r"
    }
   },
   "outputs": [
    {
     "name": "stdout",
     "output_type": "stream",
     "text": [
      "Ranger result\n",
      "\n",
      "Call:\n",
      " ranger(Diabetes ~ ., data = health_data_log_reg_heart_diabetes,      mtry = 3, num.trees = 100, probability = TRUE, importance = \"impurity\") \n",
      "\n",
      "Type:                             Probability estimation \n",
      "Number of trees:                  100 \n",
      "Sample size:                      300000 \n",
      "Number of independent variables:  31 \n",
      "Mtry:                             3 \n",
      "Target node size:                 10 \n",
      "Variable importance mode:         impurity \n",
      "Splitrule:                        gini \n",
      "OOB prediction error (Brier s.):  0.1286424 \n"
     ]
    }
   ],
   "source": [
    "rand_forest_log_heart_diabetes <- ranger(\n",
    "  Diabetes ~ ., \n",
    "  data = health_data_log_reg_heart_diabetes, mtry = 3, \n",
    "  num.trees = 100, \n",
    "  probability = TRUE, \n",
    "  importance = 'impurity'\n",
    ")\n",
    "print(rand_forest_log_heart_diabetes)"
   ]
  },
  {
   "cell_type": "code",
   "execution_count": 73,
   "metadata": {
    "vscode": {
     "languageId": "r"
    }
   },
   "outputs": [
    {
     "data": {
      "image/png": "[encoded data removed]",
      "text/plain": [
       "plot without title"
      ]
     },
     "metadata": {
      "image/png": {
       "height": 420,
       "width": 420
      }
     },
     "output_type": "display_data"
    }
   ],
   "source": [
    "importance_scores_diabetes = rand_forest_log_heart_diabetes$variable.importance\n",
    "important_vars_df_log_diabetes = data.frame(Variables = names(importance_scores_diabetes),Score= importance_scores_diabetes)\n",
    "\n",
    "ggplot(important_vars_df_log_diabetes, aes(x = reorder(Variables, Score), y = Score)) +\n",
    "  geom_bar(stat = \"identity\") +\n",
    "  coord_flip() +\n",
    "  labs(title = \"Variable Importance - LG Diabetes\",\n",
    "       x = \"Feature\",\n",
    "       y = \"Importance\") +\n",
    "  theme_minimal()"
   ]
  },
  {
   "cell_type": "code",
   "execution_count": 95,
   "metadata": {
    "vscode": {
     "languageId": "r"
    }
   },
   "outputs": [
    {
     "ename": "ERROR",
     "evalue": "Error in predict.ranger.forest(forest, data, predict.all, num.trees, type, : Error: Invalid value for 'type'. Use 'response', 'se', 'terminalNodes', or 'quantiles'.\n",
     "output_type": "error",
     "traceback": [
      "Error in predict.ranger.forest(forest, data, predict.all, num.trees, type, : Error: Invalid value for 'type'. Use 'response', 'se', 'terminalNodes', or 'quantiles'.\nTraceback:\n",
      "1. predict(rand_forest_log_heart_diabetes, data = dplyr::select(health_data_log_reg_heart_diabetes), \n .     type = \"prob\")",
      "2. predict.ranger(rand_forest_log_heart_diabetes, data = dplyr::select(health_data_log_reg_heart_diabetes), \n .     type = \"prob\")",
      "3. predict(forest, data, predict.all, num.trees, type, se.method, \n .     seed, num.threads, verbose, object$inbag.counts, ...)",
      "4. predict.ranger.forest(forest, data, predict.all, num.trees, type, \n .     se.method, seed, num.threads, verbose, object$inbag.counts, \n .     ...)",
      "5. stop(\"Error: Invalid value for 'type'. Use 'response', 'se', 'terminalNodes', or 'quantiles'.\")"
     ]
    }
   ],
   "source": [
    "predictions_diabetes <- predict(rand_forest_log_heart_diabetes, \n",
    "                                    data = dplyr::select(health_data_log_reg_heart_diabetes),type=\"prob\")$predictions\n",
    "predictions_diabetes <- as.data.frame(predictions_diabetes)\n",
    "\n",
    "predictions_heart_diabetes <- predictions_diabetes %>%\n",
    "  mutate(Pred = ifelse(No > 0.8, 0, 1))\n",
    "\n",
    "actual_heart_diabetes<- ifelse(health_data_log_reg_heart_diabetes$Diabetes == \"No\", 0, 1)"
   ]
  },
  {
   "cell_type": "code",
   "execution_count": 90,
   "metadata": {
    "vscode": {
     "languageId": "r"
    }
   },
   "outputs": [
    {
     "name": "stdout",
     "output_type": "stream",
     "text": [
      "Confusion Matrix and Statistics\n",
      "\n",
      "          Reference\n",
      "Prediction      0      1\n",
      "         0 254511   4477\n",
      "         1    450  40562\n",
      "                                         \n",
      "               Accuracy : 0.9836         \n",
      "                 95% CI : (0.9831, 0.984)\n",
      "    No Information Rate : 0.8499         \n",
      "    P-Value [Acc > NIR] : < 2.2e-16      \n",
      "                                         \n",
      "                  Kappa : 0.9332         \n",
      "                                         \n",
      " Mcnemar's Test P-Value : < 2.2e-16      \n",
      "                                         \n",
      "            Sensitivity : 0.9982         \n",
      "            Specificity : 0.9006         \n",
      "         Pos Pred Value : 0.9827         \n",
      "         Neg Pred Value : 0.9890         \n",
      "             Prevalence : 0.8499         \n",
      "         Detection Rate : 0.8484         \n",
      "   Detection Prevalence : 0.8633         \n",
      "      Balanced Accuracy : 0.9494         \n",
      "                                         \n",
      "       'Positive' Class : 0              \n",
      "                                         \n"
     ]
    }
   ],
   "source": [
    "actual_factor_diabetes <- factor(actual_heart_diabetes)\n",
    "\n",
    "conf_matrix_diabetes <- confusionMatrix(as.factor(predictions_heart_diabetes$Pred), actual_factor_diabetes)\n",
    "print(conf_matrix_diabetes)"
   ]
  },
  {
   "cell_type": "code",
   "execution_count": 92,
   "metadata": {
    "vscode": {
     "languageId": "r"
    }
   },
   "outputs": [
    {
     "name": "stderr",
     "output_type": "stream",
     "text": [
      "Warning message:\n",
      "\"package 'ROCR' was built under R version 4.3.3\"\n"
     ]
    }
   ],
   "source": [
    "library(ROCR)"
   ]
  },
  {
   "cell_type": "code",
   "execution_count": 93,
   "metadata": {
    "vscode": {
     "languageId": "r"
    }
   },
   "outputs": [
    {
     "ename": "ERROR",
     "evalue": "Error: Format of predictions is invalid. It couldn't be coerced to a list.\n",
     "output_type": "error",
     "traceback": [
      "Error: Format of predictions is invalid. It couldn't be coerced to a list.\nTraceback:\n",
      "1. prediction(as.factor(predictions_heart_diabetes$Pred), actual_factor_diabetes)",
      "2. stop(\"Format of predictions is invalid. It couldn't be coerced to a list.\", \n .     call. = FALSE)"
     ]
    }
   ],
   "source": [
    "pred = prediction(as.factor(predictions_heart_diabetes$Pred),actual_factor_diabetes)\n",
    "class(pred)\n",
    "perf = performance(pred,\"tpr\",\"fpr\") #tpr and fpr are true and false postive rates\n",
    "plot(perf,colorize=T)"
   ]
  }
 ],
 "metadata": {
  "kernelspec": {
   "display_name": "R",
   "language": "R",
   "name": "ir"
  },
  "language_info": {
   "codemirror_mode": "r",
   "file_extension": ".r",
   "mimetype": "text/x-r-source",
   "name": "R",
   "pygments_lexer": "r",
   "version": "4.3.2"
  }
 },
 "nbformat": 4,
 "nbformat_minor": 2
}
