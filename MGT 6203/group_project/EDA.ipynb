{
 "cells": [
  {
   "cell_type": "code",
   "execution_count": 5,
   "metadata": {
    "vscode": {
     "languageId": "r"
    }
   },
   "outputs": [],
   "source": [
    "health_data = read.csv(\"health_data.csv\")"
   ]
  },
  {
   "cell_type": "code",
   "execution_count": 6,
   "metadata": {
    "vscode": {
     "languageId": "r"
    }
   },
   "outputs": [],
   "source": [
    "library(dplyr)\n",
    "library(tidyr)\n",
    "library(ggplot2)\n",
    "library(GGally)\n",
    "library(fastDummies)\n",
    "library(reshape2)"
   ]
  },
  {
   "cell_type": "code",
   "execution_count": 7,
   "metadata": {
    "vscode": {
     "languageId": "r"
    }
   },
   "outputs": [
    {
     "data": {
      "text/html": [
       "<table class=\"dataframe\">\n",
       "<caption>A data.frame: 6 × 18</caption>\n",
       "<thead>\n",
       "\t<tr><th></th><th scope=col>PatientID</th><th scope=col>Age</th><th scope=col>Gender</th><th scope=col>BMI</th><th scope=col>SmokingStatus</th><th scope=col>AlcoholConsumption</th><th scope=col>ExerciseFrequency</th><th scope=col>CholesterolLevel</th><th scope=col>BloodPressure</th><th scope=col>Diabetes</th><th scope=col>HeartDisease</th><th scope=col>PhysicalActivityLevel</th><th scope=col>DietQuality</th><th scope=col>MedicationAdherence</th><th scope=col>AnnualCheckups</th><th scope=col>GeneticRisk</th><th scope=col>HealthcareCost</th><th scope=col>Outcome</th></tr>\n",
       "\t<tr><th></th><th scope=col>&lt;int&gt;</th><th scope=col>&lt;int&gt;</th><th scope=col>&lt;chr&gt;</th><th scope=col>&lt;dbl&gt;</th><th scope=col>&lt;chr&gt;</th><th scope=col>&lt;chr&gt;</th><th scope=col>&lt;chr&gt;</th><th scope=col>&lt;dbl&gt;</th><th scope=col>&lt;chr&gt;</th><th scope=col>&lt;chr&gt;</th><th scope=col>&lt;chr&gt;</th><th scope=col>&lt;chr&gt;</th><th scope=col>&lt;chr&gt;</th><th scope=col>&lt;chr&gt;</th><th scope=col>&lt;int&gt;</th><th scope=col>&lt;dbl&gt;</th><th scope=col>&lt;dbl&gt;</th><th scope=col>&lt;chr&gt;</th></tr>\n",
       "</thead>\n",
       "<tbody>\n",
       "\t<tr><th scope=row>1</th><td>1</td><td>82</td><td>Male  </td><td>27.72798</td><td>Never  </td><td>Never       </td><td>Never    </td><td>170.5041</td><td>124/80</td><td>No </td><td>Yes</td><td>Low   </td><td>Average</td><td>Medium</td><td>2</td><td>0.89</td><td>20974.84</td><td>Healthy </td></tr>\n",
       "\t<tr><th scope=row>2</th><td>2</td><td>62</td><td>Female</td><td>26.12258</td><td>Former </td><td>Never       </td><td>Sometimes</td><td>183.7046</td><td>155/75</td><td>Yes</td><td>No </td><td>Low   </td><td>Good   </td><td>Medium</td><td>1</td><td>0.95</td><td>12693.40</td><td>Healthy </td></tr>\n",
       "\t<tr><th scope=row>3</th><td>3</td><td>26</td><td>Female</td><td>37.61520</td><td>Never  </td><td>Occasionally</td><td>Never    </td><td>256.5829</td><td>100/96</td><td>No </td><td>No </td><td>Medium</td><td>Average</td><td>High  </td><td>1</td><td>1.00</td><td>13103.52</td><td>Critical</td></tr>\n",
       "\t<tr><th scope=row>4</th><td>4</td><td>64</td><td>Male  </td><td>33.12029</td><td>Current</td><td>Never       </td><td>Sometimes</td><td>163.4861</td><td>159/82</td><td>No </td><td>No </td><td>Medium</td><td>Average</td><td>Medium</td><td>3</td><td>1.00</td><td>15920.20</td><td>Healthy </td></tr>\n",
       "\t<tr><th scope=row>5</th><td>5</td><td>34</td><td>Female</td><td>30.66780</td><td>Never  </td><td>Regularly   </td><td>Sometimes</td><td>247.2195</td><td>131/80</td><td>No </td><td>No </td><td>Medium</td><td>Average</td><td>High  </td><td>4</td><td>1.00</td><td>18529.89</td><td>Critical</td></tr>\n",
       "\t<tr><th scope=row>6</th><td>6</td><td>34</td><td>Male  </td><td>28.12764</td><td>Never  </td><td>Never       </td><td>Sometimes</td><td>173.1878</td><td>144/93</td><td>Yes</td><td>No </td><td>Medium</td><td>Poor   </td><td>Medium</td><td>3</td><td>0.97</td><td>12930.51</td><td>Healthy </td></tr>\n",
       "</tbody>\n",
       "</table>\n"
      ],
      "text/latex": [
       "A data.frame: 6 × 18\n",
       "\\begin{tabular}{r|llllllllllllllllll}\n",
       "  & PatientID & Age & Gender & BMI & SmokingStatus & AlcoholConsumption & ExerciseFrequency & CholesterolLevel & BloodPressure & Diabetes & HeartDisease & PhysicalActivityLevel & DietQuality & MedicationAdherence & AnnualCheckups & GeneticRisk & HealthcareCost & Outcome\\\\\n",
       "  & <int> & <int> & <chr> & <dbl> & <chr> & <chr> & <chr> & <dbl> & <chr> & <chr> & <chr> & <chr> & <chr> & <chr> & <int> & <dbl> & <dbl> & <chr>\\\\\n",
       "\\hline\n",
       "\t1 & 1 & 82 & Male   & 27.72798 & Never   & Never        & Never     & 170.5041 & 124/80 & No  & Yes & Low    & Average & Medium & 2 & 0.89 & 20974.84 & Healthy \\\\\n",
       "\t2 & 2 & 62 & Female & 26.12258 & Former  & Never        & Sometimes & 183.7046 & 155/75 & Yes & No  & Low    & Good    & Medium & 1 & 0.95 & 12693.40 & Healthy \\\\\n",
       "\t3 & 3 & 26 & Female & 37.61520 & Never   & Occasionally & Never     & 256.5829 & 100/96 & No  & No  & Medium & Average & High   & 1 & 1.00 & 13103.52 & Critical\\\\\n",
       "\t4 & 4 & 64 & Male   & 33.12029 & Current & Never        & Sometimes & 163.4861 & 159/82 & No  & No  & Medium & Average & Medium & 3 & 1.00 & 15920.20 & Healthy \\\\\n",
       "\t5 & 5 & 34 & Female & 30.66780 & Never   & Regularly    & Sometimes & 247.2195 & 131/80 & No  & No  & Medium & Average & High   & 4 & 1.00 & 18529.89 & Critical\\\\\n",
       "\t6 & 6 & 34 & Male   & 28.12764 & Never   & Never        & Sometimes & 173.1878 & 144/93 & Yes & No  & Medium & Poor    & Medium & 3 & 0.97 & 12930.51 & Healthy \\\\\n",
       "\\end{tabular}\n"
      ],
      "text/markdown": [
       "\n",
       "A data.frame: 6 × 18\n",
       "\n",
       "| <!--/--> | PatientID &lt;int&gt; | Age &lt;int&gt; | Gender &lt;chr&gt; | BMI &lt;dbl&gt; | SmokingStatus &lt;chr&gt; | AlcoholConsumption &lt;chr&gt; | ExerciseFrequency &lt;chr&gt; | CholesterolLevel &lt;dbl&gt; | BloodPressure &lt;chr&gt; | Diabetes &lt;chr&gt; | HeartDisease &lt;chr&gt; | PhysicalActivityLevel &lt;chr&gt; | DietQuality &lt;chr&gt; | MedicationAdherence &lt;chr&gt; | AnnualCheckups &lt;int&gt; | GeneticRisk &lt;dbl&gt; | HealthcareCost &lt;dbl&gt; | Outcome &lt;chr&gt; |\n",
       "|---|---|---|---|---|---|---|---|---|---|---|---|---|---|---|---|---|---|---|\n",
       "| 1 | 1 | 82 | Male   | 27.72798 | Never   | Never        | Never     | 170.5041 | 124/80 | No  | Yes | Low    | Average | Medium | 2 | 0.89 | 20974.84 | Healthy  |\n",
       "| 2 | 2 | 62 | Female | 26.12258 | Former  | Never        | Sometimes | 183.7046 | 155/75 | Yes | No  | Low    | Good    | Medium | 1 | 0.95 | 12693.40 | Healthy  |\n",
       "| 3 | 3 | 26 | Female | 37.61520 | Never   | Occasionally | Never     | 256.5829 | 100/96 | No  | No  | Medium | Average | High   | 1 | 1.00 | 13103.52 | Critical |\n",
       "| 4 | 4 | 64 | Male   | 33.12029 | Current | Never        | Sometimes | 163.4861 | 159/82 | No  | No  | Medium | Average | Medium | 3 | 1.00 | 15920.20 | Healthy  |\n",
       "| 5 | 5 | 34 | Female | 30.66780 | Never   | Regularly    | Sometimes | 247.2195 | 131/80 | No  | No  | Medium | Average | High   | 4 | 1.00 | 18529.89 | Critical |\n",
       "| 6 | 6 | 34 | Male   | 28.12764 | Never   | Never        | Sometimes | 173.1878 | 144/93 | Yes | No  | Medium | Poor    | Medium | 3 | 0.97 | 12930.51 | Healthy  |\n",
       "\n"
      ],
      "text/plain": [
       "  PatientID Age Gender BMI      SmokingStatus AlcoholConsumption\n",
       "1 1         82  Male   27.72798 Never         Never             \n",
       "2 2         62  Female 26.12258 Former        Never             \n",
       "3 3         26  Female 37.61520 Never         Occasionally      \n",
       "4 4         64  Male   33.12029 Current       Never             \n",
       "5 5         34  Female 30.66780 Never         Regularly         \n",
       "6 6         34  Male   28.12764 Never         Never             \n",
       "  ExerciseFrequency CholesterolLevel BloodPressure Diabetes HeartDisease\n",
       "1 Never             170.5041         124/80        No       Yes         \n",
       "2 Sometimes         183.7046         155/75        Yes      No          \n",
       "3 Never             256.5829         100/96        No       No          \n",
       "4 Sometimes         163.4861         159/82        No       No          \n",
       "5 Sometimes         247.2195         131/80        No       No          \n",
       "6 Sometimes         173.1878         144/93        Yes      No          \n",
       "  PhysicalActivityLevel DietQuality MedicationAdherence AnnualCheckups\n",
       "1 Low                   Average     Medium              2             \n",
       "2 Low                   Good        Medium              1             \n",
       "3 Medium                Average     High                1             \n",
       "4 Medium                Average     Medium              3             \n",
       "5 Medium                Average     High                4             \n",
       "6 Medium                Poor        Medium              3             \n",
       "  GeneticRisk HealthcareCost Outcome \n",
       "1 0.89        20974.84       Healthy \n",
       "2 0.95        12693.40       Healthy \n",
       "3 1.00        13103.52       Critical\n",
       "4 1.00        15920.20       Healthy \n",
       "5 1.00        18529.89       Critical\n",
       "6 0.97        12930.51       Healthy "
      ]
     },
     "metadata": {},
     "output_type": "display_data"
    },
    {
     "data": {
      "text/plain": [
       "   PatientID           Age           Gender               BMI       \n",
       " Min.   :     1   Min.   :18.00   Length:300000      Min.   :15.00  \n",
       " 1st Qu.: 75001   1st Qu.:35.00   Class :character   1st Qu.:26.63  \n",
       " Median :150001   Median :53.00   Mode  :character   Median :30.13  \n",
       " Mean   :150001   Mean   :53.49                      Mean   :30.07  \n",
       " 3rd Qu.:225000   3rd Qu.:72.00                      3rd Qu.:33.62  \n",
       " Max.   :300000   Max.   :89.00                      Max.   :40.00  \n",
       " SmokingStatus      AlcoholConsumption ExerciseFrequency  CholesterolLevel\n",
       " Length:300000      Length:300000      Length:300000      Min.   :100.0   \n",
       " Class :character   Class :character   Class :character   1st Qu.:192.5   \n",
       " Mode  :character   Mode  :character   Mode  :character   Median :214.5   \n",
       "                                                          Mean   :214.6   \n",
       "                                                          3rd Qu.:236.6   \n",
       "                                                          Max.   :300.0   \n",
       " BloodPressure        Diabetes         HeartDisease       PhysicalActivityLevel\n",
       " Length:300000      Length:300000      Length:300000      Length:300000        \n",
       " Class :character   Class :character   Class :character   Class :character     \n",
       " Mode  :character   Mode  :character   Mode  :character   Mode  :character     \n",
       "                                                                               \n",
       "                                                                               \n",
       "                                                                               \n",
       " DietQuality        MedicationAdherence AnnualCheckups  GeneticRisk    \n",
       " Length:300000      Length:300000       Min.   :0      Min.   :0.7600  \n",
       " Class :character   Class :character    1st Qu.:1      1st Qu.:0.9800  \n",
       " Mode  :character   Mode  :character    Median :2      Median :1.0000  \n",
       "                                        Mean   :2      Mean   :0.9856  \n",
       "                                        3rd Qu.:3      3rd Qu.:1.0000  \n",
       "                                        Max.   :4      Max.   :1.0000  \n",
       " HealthcareCost    Outcome         \n",
       " Min.   :  500   Length:300000     \n",
       " 1st Qu.: 7740   Class :character  \n",
       " Median :11969   Mode  :character  \n",
       " Mean   :12434                     \n",
       " 3rd Qu.:16664                     \n",
       " Max.   :44761                     "
      ]
     },
     "metadata": {},
     "output_type": "display_data"
    },
    {
     "data": {
      "text/html": [
       "<table class=\"dataframe\">\n",
       "<caption>A data.frame: 1 × 19</caption>\n",
       "<thead>\n",
       "\t<tr><th scope=col>PatientID</th><th scope=col>Age</th><th scope=col>Gender</th><th scope=col>BMI</th><th scope=col>SmokingStatus</th><th scope=col>AlcoholConsumption</th><th scope=col>ExerciseFrequency</th><th scope=col>CholesterolLevel</th><th scope=col>BloodPressureNumerator</th><th scope=col>BloodPressureDenominator</th><th scope=col>Diabetes</th><th scope=col>HeartDisease</th><th scope=col>PhysicalActivityLevel</th><th scope=col>DietQuality</th><th scope=col>MedicationAdherence</th><th scope=col>AnnualCheckups</th><th scope=col>GeneticRisk</th><th scope=col>HealthcareCost</th><th scope=col>Outcome</th></tr>\n",
       "\t<tr><th scope=col>&lt;int&gt;</th><th scope=col>&lt;int&gt;</th><th scope=col>&lt;int&gt;</th><th scope=col>&lt;int&gt;</th><th scope=col>&lt;int&gt;</th><th scope=col>&lt;int&gt;</th><th scope=col>&lt;int&gt;</th><th scope=col>&lt;int&gt;</th><th scope=col>&lt;int&gt;</th><th scope=col>&lt;int&gt;</th><th scope=col>&lt;int&gt;</th><th scope=col>&lt;int&gt;</th><th scope=col>&lt;int&gt;</th><th scope=col>&lt;int&gt;</th><th scope=col>&lt;int&gt;</th><th scope=col>&lt;int&gt;</th><th scope=col>&lt;int&gt;</th><th scope=col>&lt;int&gt;</th><th scope=col>&lt;int&gt;</th></tr>\n",
       "</thead>\n",
       "<tbody>\n",
       "\t<tr><td>0</td><td>0</td><td>0</td><td>0</td><td>0</td><td>0</td><td>0</td><td>0</td><td>0</td><td>0</td><td>0</td><td>0</td><td>0</td><td>0</td><td>0</td><td>0</td><td>0</td><td>0</td><td>0</td></tr>\n",
       "</tbody>\n",
       "</table>\n"
      ],
      "text/latex": [
       "A data.frame: 1 × 19\n",
       "\\begin{tabular}{lllllllllllllllllll}\n",
       " PatientID & Age & Gender & BMI & SmokingStatus & AlcoholConsumption & ExerciseFrequency & CholesterolLevel & BloodPressureNumerator & BloodPressureDenominator & Diabetes & HeartDisease & PhysicalActivityLevel & DietQuality & MedicationAdherence & AnnualCheckups & GeneticRisk & HealthcareCost & Outcome\\\\\n",
       " <int> & <int> & <int> & <int> & <int> & <int> & <int> & <int> & <int> & <int> & <int> & <int> & <int> & <int> & <int> & <int> & <int> & <int> & <int>\\\\\n",
       "\\hline\n",
       "\t 0 & 0 & 0 & 0 & 0 & 0 & 0 & 0 & 0 & 0 & 0 & 0 & 0 & 0 & 0 & 0 & 0 & 0 & 0\\\\\n",
       "\\end{tabular}\n"
      ],
      "text/markdown": [
       "\n",
       "A data.frame: 1 × 19\n",
       "\n",
       "| PatientID &lt;int&gt; | Age &lt;int&gt; | Gender &lt;int&gt; | BMI &lt;int&gt; | SmokingStatus &lt;int&gt; | AlcoholConsumption &lt;int&gt; | ExerciseFrequency &lt;int&gt; | CholesterolLevel &lt;int&gt; | BloodPressureNumerator &lt;int&gt; | BloodPressureDenominator &lt;int&gt; | Diabetes &lt;int&gt; | HeartDisease &lt;int&gt; | PhysicalActivityLevel &lt;int&gt; | DietQuality &lt;int&gt; | MedicationAdherence &lt;int&gt; | AnnualCheckups &lt;int&gt; | GeneticRisk &lt;int&gt; | HealthcareCost &lt;int&gt; | Outcome &lt;int&gt; |\n",
       "|---|---|---|---|---|---|---|---|---|---|---|---|---|---|---|---|---|---|---|\n",
       "| 0 | 0 | 0 | 0 | 0 | 0 | 0 | 0 | 0 | 0 | 0 | 0 | 0 | 0 | 0 | 0 | 0 | 0 | 0 |\n",
       "\n"
      ],
      "text/plain": [
       "  PatientID Age Gender BMI SmokingStatus AlcoholConsumption ExerciseFrequency\n",
       "1 0         0   0      0   0             0                  0                \n",
       "  CholesterolLevel BloodPressureNumerator BloodPressureDenominator Diabetes\n",
       "1 0                0                      0                        0       \n",
       "  HeartDisease PhysicalActivityLevel DietQuality MedicationAdherence\n",
       "1 0            0                     0           0                  \n",
       "  AnnualCheckups GeneticRisk HealthcareCost Outcome\n",
       "1 0              0           0              0      "
      ]
     },
     "metadata": {},
     "output_type": "display_data"
    }
   ],
   "source": [
    "head(health_data)\n",
    "summary(health_data)\n",
    "\n",
    "\n",
    "\n",
    "health_data= health_data %>% separate(BloodPressure, c(\"BloodPressureNumerator\",\"BloodPressureDenominator\"),\"/\")\n",
    "\n",
    "health_data$`BloodPressureNumerator` <- as.numeric(as.character(health_data$`BloodPressureNumerator`))\n",
    "health_data$`BloodPressureDenominator` <- as.numeric(as.character(health_data$`BloodPressureDenominator`))\n",
    "\n",
    "health_data %>% summarise_all(~sum(is.na(.)))\n",
    "\n",
    "\n",
    "\n",
    "numeric_data = health_data[,unlist(lapply(health_data, is.numeric))]\n",
    "cat_data = health_data[,unlist(lapply(health_data, is.character))]\n"
   ]
  },
  {
   "cell_type": "markdown",
   "metadata": {},
   "source": [
    "EDA"
   ]
  },
  {
   "cell_type": "code",
   "execution_count": 104,
   "metadata": {
    "vscode": {
     "languageId": "r"
    }
   },
   "outputs": [
    {
     "data": {
      "image/png": "[encoded data removed]",
      "text/plain": [
       "plot without title"
      ]
     },
     "metadata": {
      "image/png": {
       "height": 420,
       "width": 420
      }
     },
     "output_type": "display_data"
    },
    {
     "data": {
      "image/png": "[encoded data removed]",
      "text/plain": [
       "plot without title"
      ]
     },
     "metadata": {
      "image/png": {
       "height": 420,
       "width": 420
      }
     },
     "output_type": "display_data"
    },
    {
     "data": {
      "image/png": "[encoded data removed]",
      "text/plain": [
       "plot without title"
      ]
     },
     "metadata": {
      "image/png": {
       "height": 420,
       "width": 420
      }
     },
     "output_type": "display_data"
    },
    {
     "data": {
      "image/png": "[encoded data removed]",
      "text/plain": [
       "plot without title"
      ]
     },
     "metadata": {
      "image/png": {
       "height": 420,
       "width": 420
      }
     },
     "output_type": "display_data"
    },
    {
     "data": {
      "image/png": "[encoded data removed]",
      "text/plain": [
       "plot without title"
      ]
     },
     "metadata": {
      "image/png": {
       "height": 420,
       "width": 420
      }
     },
     "output_type": "display_data"
    },
    {
     "data": {
      "image/png": "[encoded data removed]",
      "text/plain": [
       "plot without title"
      ]
     },
     "metadata": {
      "image/png": {
       "height": 420,
       "width": 420
      }
     },
     "output_type": "display_data"
    },
    {
     "data": {
      "image/png": "[encoded data removed]",
      "text/plain": [
       "plot without title"
      ]
     },
     "metadata": {
      "image/png": {
       "height": 420,
       "width": 420
      }
     },
     "output_type": "display_data"
    },
    {
     "data": {
      "image/png": "[encoded data removed]",
      "text/plain": [
       "plot without title"
      ]
     },
     "metadata": {
      "image/png": {
       "height": 420,
       "width": 420
      }
     },
     "output_type": "display_data"
    },
    {
     "data": {
      "image/png": "[encoded data removed]",
      "text/plain": [
       "plot without title"
      ]
     },
     "metadata": {
      "image/png": {
       "height": 420,
       "width": 420
      }
     },
     "output_type": "display_data"
    },
    {
     "data": {
      "image/png": "[encoded data removed]",
      "text/plain": [
       "plot without title"
      ]
     },
     "metadata": {
      "image/png": {
       "height": 420,
       "width": 420
      }
     },
     "output_type": "display_data"
    },
    {
     "data": {
      "image/png": "[encoded data removed]",
      "text/plain": [
       "plot without title"
      ]
     },
     "metadata": {
      "image/png": {
       "height": 420,
       "width": 420
      }
     },
     "output_type": "display_data"
    }
   ],
   "source": [
    "ggplot(gather(numeric_data),aes(value)) + geom_histogram(bins = 20) + facet_wrap(~key,scales = \"free_x\")\n",
    "\n",
    "for (e in colnames(cat_data)){\n",
    "    plots = ggplot(cat_data,aes_string(x=e)) +geom_bar()\n",
    "    print(plots)\n",
    "}\n",
    "\n",
    "\n"
   ]
  },
  {
   "cell_type": "code",
   "execution_count": 143,
   "metadata": {
    "vscode": {
     "languageId": "r"
    }
   },
   "outputs": [
    {
     "data": {
      "text/html": [
       "<table class=\"dataframe\">\n",
       "<caption>A matrix: 9 × 9 of type dbl</caption>\n",
       "<thead>\n",
       "\t<tr><th></th><th scope=col>PatientID</th><th scope=col>Age</th><th scope=col>BMI</th><th scope=col>CholesterolLevel</th><th scope=col>BloodPressureNumerator</th><th scope=col>BloodPressureDenominator</th><th scope=col>AnnualCheckups</th><th scope=col>GeneticRisk</th><th scope=col>HealthcareCost</th></tr>\n",
       "</thead>\n",
       "<tbody>\n",
       "\t<tr><th scope=row>PatientID</th><td> 1.0000000000</td><td>-0.0035904652</td><td> 0.0020946681</td><td> 7.219769e-04</td><td>-7.620670e-04</td><td> 1.972583e-03</td><td> 2.048590e-03</td><td>-0.001142953</td><td>-0.002123729</td></tr>\n",
       "\t<tr><th scope=row>Age</th><td>-0.0035904652</td><td> 1.0000000000</td><td> 0.0021220258</td><td> 5.568294e-03</td><td>-3.512299e-04</td><td> 2.800764e-03</td><td> 2.552506e-03</td><td> 0.001070987</td><td> 0.000228597</td></tr>\n",
       "\t<tr><th scope=row>BMI</th><td> 0.0020946681</td><td> 0.0021220258</td><td> 1.0000000000</td><td> 2.407180e-02</td><td>-7.542906e-04</td><td> 2.992010e-04</td><td> 2.273552e-03</td><td> 0.017387906</td><td> 0.027923690</td></tr>\n",
       "\t<tr><th scope=row>CholesterolLevel</th><td> 0.0007219769</td><td> 0.0055682943</td><td> 0.0240717996</td><td> 1.000000e+00</td><td> 4.800351e-05</td><td> 8.554731e-04</td><td>-1.534916e-03</td><td> 0.074641943</td><td> 0.142667505</td></tr>\n",
       "\t<tr><th scope=row>BloodPressureNumerator</th><td>-0.0007620670</td><td>-0.0003512299</td><td>-0.0007542906</td><td> 4.800351e-05</td><td> 1.000000e+00</td><td> 2.067876e-01</td><td> 7.207095e-04</td><td> 0.001187322</td><td> 0.001834840</td></tr>\n",
       "\t<tr><th scope=row>BloodPressureDenominator</th><td> 0.0019725830</td><td> 0.0028007638</td><td> 0.0002992010</td><td> 8.554731e-04</td><td> 2.067876e-01</td><td> 1.000000e+00</td><td>-5.701872e-05</td><td>-0.003064295</td><td>-0.001231840</td></tr>\n",
       "\t<tr><th scope=row>AnnualCheckups</th><td> 0.0020485901</td><td> 0.0025525059</td><td> 0.0022735524</td><td>-1.534916e-03</td><td> 7.207095e-04</td><td>-5.701872e-05</td><td> 1.000000e+00</td><td>-0.001045505</td><td> 0.001276601</td></tr>\n",
       "\t<tr><th scope=row>GeneticRisk</th><td>-0.0011429531</td><td> 0.0010709875</td><td> 0.0173879065</td><td> 7.464194e-02</td><td> 1.187322e-03</td><td>-3.064295e-03</td><td>-1.045505e-03</td><td> 1.000000000</td><td> 0.187852908</td></tr>\n",
       "\t<tr><th scope=row>HealthcareCost</th><td>-0.0021237294</td><td> 0.0002285970</td><td> 0.0279236904</td><td> 1.426675e-01</td><td> 1.834840e-03</td><td>-1.231840e-03</td><td> 1.276601e-03</td><td> 0.187852908</td><td> 1.000000000</td></tr>\n",
       "</tbody>\n",
       "</table>\n"
      ],
      "text/latex": [
       "A matrix: 9 × 9 of type dbl\n",
       "\\begin{tabular}{r|lllllllll}\n",
       "  & PatientID & Age & BMI & CholesterolLevel & BloodPressureNumerator & BloodPressureDenominator & AnnualCheckups & GeneticRisk & HealthcareCost\\\\\n",
       "\\hline\n",
       "\tPatientID &  1.0000000000 & -0.0035904652 &  0.0020946681 &  7.219769e-04 & -7.620670e-04 &  1.972583e-03 &  2.048590e-03 & -0.001142953 & -0.002123729\\\\\n",
       "\tAge & -0.0035904652 &  1.0000000000 &  0.0021220258 &  5.568294e-03 & -3.512299e-04 &  2.800764e-03 &  2.552506e-03 &  0.001070987 &  0.000228597\\\\\n",
       "\tBMI &  0.0020946681 &  0.0021220258 &  1.0000000000 &  2.407180e-02 & -7.542906e-04 &  2.992010e-04 &  2.273552e-03 &  0.017387906 &  0.027923690\\\\\n",
       "\tCholesterolLevel &  0.0007219769 &  0.0055682943 &  0.0240717996 &  1.000000e+00 &  4.800351e-05 &  8.554731e-04 & -1.534916e-03 &  0.074641943 &  0.142667505\\\\\n",
       "\tBloodPressureNumerator & -0.0007620670 & -0.0003512299 & -0.0007542906 &  4.800351e-05 &  1.000000e+00 &  2.067876e-01 &  7.207095e-04 &  0.001187322 &  0.001834840\\\\\n",
       "\tBloodPressureDenominator &  0.0019725830 &  0.0028007638 &  0.0002992010 &  8.554731e-04 &  2.067876e-01 &  1.000000e+00 & -5.701872e-05 & -0.003064295 & -0.001231840\\\\\n",
       "\tAnnualCheckups &  0.0020485901 &  0.0025525059 &  0.0022735524 & -1.534916e-03 &  7.207095e-04 & -5.701872e-05 &  1.000000e+00 & -0.001045505 &  0.001276601\\\\\n",
       "\tGeneticRisk & -0.0011429531 &  0.0010709875 &  0.0173879065 &  7.464194e-02 &  1.187322e-03 & -3.064295e-03 & -1.045505e-03 &  1.000000000 &  0.187852908\\\\\n",
       "\tHealthcareCost & -0.0021237294 &  0.0002285970 &  0.0279236904 &  1.426675e-01 &  1.834840e-03 & -1.231840e-03 &  1.276601e-03 &  0.187852908 &  1.000000000\\\\\n",
       "\\end{tabular}\n"
      ],
      "text/markdown": [
       "\n",
       "A matrix: 9 × 9 of type dbl\n",
       "\n",
       "| <!--/--> | PatientID | Age | BMI | CholesterolLevel | BloodPressureNumerator | BloodPressureDenominator | AnnualCheckups | GeneticRisk | HealthcareCost |\n",
       "|---|---|---|---|---|---|---|---|---|---|\n",
       "| PatientID |  1.0000000000 | -0.0035904652 |  0.0020946681 |  7.219769e-04 | -7.620670e-04 |  1.972583e-03 |  2.048590e-03 | -0.001142953 | -0.002123729 |\n",
       "| Age | -0.0035904652 |  1.0000000000 |  0.0021220258 |  5.568294e-03 | -3.512299e-04 |  2.800764e-03 |  2.552506e-03 |  0.001070987 |  0.000228597 |\n",
       "| BMI |  0.0020946681 |  0.0021220258 |  1.0000000000 |  2.407180e-02 | -7.542906e-04 |  2.992010e-04 |  2.273552e-03 |  0.017387906 |  0.027923690 |\n",
       "| CholesterolLevel |  0.0007219769 |  0.0055682943 |  0.0240717996 |  1.000000e+00 |  4.800351e-05 |  8.554731e-04 | -1.534916e-03 |  0.074641943 |  0.142667505 |\n",
       "| BloodPressureNumerator | -0.0007620670 | -0.0003512299 | -0.0007542906 |  4.800351e-05 |  1.000000e+00 |  2.067876e-01 |  7.207095e-04 |  0.001187322 |  0.001834840 |\n",
       "| BloodPressureDenominator |  0.0019725830 |  0.0028007638 |  0.0002992010 |  8.554731e-04 |  2.067876e-01 |  1.000000e+00 | -5.701872e-05 | -0.003064295 | -0.001231840 |\n",
       "| AnnualCheckups |  0.0020485901 |  0.0025525059 |  0.0022735524 | -1.534916e-03 |  7.207095e-04 | -5.701872e-05 |  1.000000e+00 | -0.001045505 |  0.001276601 |\n",
       "| GeneticRisk | -0.0011429531 |  0.0010709875 |  0.0173879065 |  7.464194e-02 |  1.187322e-03 | -3.064295e-03 | -1.045505e-03 |  1.000000000 |  0.187852908 |\n",
       "| HealthcareCost | -0.0021237294 |  0.0002285970 |  0.0279236904 |  1.426675e-01 |  1.834840e-03 | -1.231840e-03 |  1.276601e-03 |  0.187852908 |  1.000000000 |\n",
       "\n"
      ],
      "text/plain": [
       "                         PatientID     Age           BMI          \n",
       "PatientID                 1.0000000000 -0.0035904652  0.0020946681\n",
       "Age                      -0.0035904652  1.0000000000  0.0021220258\n",
       "BMI                       0.0020946681  0.0021220258  1.0000000000\n",
       "CholesterolLevel          0.0007219769  0.0055682943  0.0240717996\n",
       "BloodPressureNumerator   -0.0007620670 -0.0003512299 -0.0007542906\n",
       "BloodPressureDenominator  0.0019725830  0.0028007638  0.0002992010\n",
       "AnnualCheckups            0.0020485901  0.0025525059  0.0022735524\n",
       "GeneticRisk              -0.0011429531  0.0010709875  0.0173879065\n",
       "HealthcareCost           -0.0021237294  0.0002285970  0.0279236904\n",
       "                         CholesterolLevel BloodPressureNumerator\n",
       "PatientID                 7.219769e-04    -7.620670e-04         \n",
       "Age                       5.568294e-03    -3.512299e-04         \n",
       "BMI                       2.407180e-02    -7.542906e-04         \n",
       "CholesterolLevel          1.000000e+00     4.800351e-05         \n",
       "BloodPressureNumerator    4.800351e-05     1.000000e+00         \n",
       "BloodPressureDenominator  8.554731e-04     2.067876e-01         \n",
       "AnnualCheckups           -1.534916e-03     7.207095e-04         \n",
       "GeneticRisk               7.464194e-02     1.187322e-03         \n",
       "HealthcareCost            1.426675e-01     1.834840e-03         \n",
       "                         BloodPressureDenominator AnnualCheckups GeneticRisk \n",
       "PatientID                 1.972583e-03             2.048590e-03  -0.001142953\n",
       "Age                       2.800764e-03             2.552506e-03   0.001070987\n",
       "BMI                       2.992010e-04             2.273552e-03   0.017387906\n",
       "CholesterolLevel          8.554731e-04            -1.534916e-03   0.074641943\n",
       "BloodPressureNumerator    2.067876e-01             7.207095e-04   0.001187322\n",
       "BloodPressureDenominator  1.000000e+00            -5.701872e-05  -0.003064295\n",
       "AnnualCheckups           -5.701872e-05             1.000000e+00  -0.001045505\n",
       "GeneticRisk              -3.064295e-03            -1.045505e-03   1.000000000\n",
       "HealthcareCost           -1.231840e-03             1.276601e-03   0.187852908\n",
       "                         HealthcareCost\n",
       "PatientID                -0.002123729  \n",
       "Age                       0.000228597  \n",
       "BMI                       0.027923690  \n",
       "CholesterolLevel          0.142667505  \n",
       "BloodPressureNumerator    0.001834840  \n",
       "BloodPressureDenominator -0.001231840  \n",
       "AnnualCheckups            0.001276601  \n",
       "GeneticRisk               0.187852908  \n",
       "HealthcareCost            1.000000000  "
      ]
     },
     "metadata": {},
     "output_type": "display_data"
    },
    {
     "data": {
      "image/png": "[encoded data removed]",
      "text/plain": [
       "plot without title"
      ]
     },
     "metadata": {
      "image/png": {
       "height": 420,
       "width": 420
      }
     },
     "output_type": "display_data"
    }
   ],
   "source": [
    "correlation_matrix = cor(numeric_data)\n",
    "melted_corr_matrix = melt(correlation_matrix)\n",
    "correlation_matrix\n",
    "ggplot(data = melted_corr_matrix, aes(x = Var1, y = Var2, fill = value)) +\n",
    "  geom_tile() +\n",
    "  scale_fill_gradient2(low = \"blue\", high = \"red\", mid = \"white\", \n",
    "                       midpoint = 0, limit = c(-1, 1), \n",
    "                       name = \"Correlation\") +\n",
    "  theme_minimal() +\n",
    "  theme(axis.text.x = element_text(angle = 45, hjust = 1)) +\n",
    "  labs(title = \"Correlation Heat Map\", x = \"\", y = \"\")"
   ]
  },
  {
   "cell_type": "code",
   "execution_count": 10,
   "metadata": {
    "vscode": {
     "languageId": "r"
    }
   },
   "outputs": [],
   "source": [
    "health_data_clean = health_data"
   ]
  },
  {
   "cell_type": "code",
   "execution_count": 11,
   "metadata": {
    "vscode": {
     "languageId": "r"
    }
   },
   "outputs": [],
   "source": [
    "health_data_clean$Gender = factor(health_data_clean$Gender,level = c('Male','Female',\"Other\"))\n",
    "health_data_clean$SmokingStatus = factor(health_data_clean$SmokingStatus,levels = c('Never','Former','Current'))\n",
    "health_data_clean$AlcoholConsumption = factor(health_data_clean$AlcoholConsumption,levels = c('Never','Occasionally','Regularly'))\n",
    "health_data_clean$ExerciseFrequency = factor(health_data_clean$ExerciseFrequency,levels = c('Never','Sometimes','Often','Rarely'))\n",
    "health_data_clean$PhysicalActivityLevel = factor(health_data_clean$PhysicalActivityLevel,levels = c('Low','Medium','High'))\n",
    "health_data_clean$DietQuality = factor(health_data_clean$DietQuality,levels = c('Average','Good','Poor'))\n",
    "health_data_clean$MedicationAdherence = factor(health_data_clean$MedicationAdherence,levels = c('Medium','High','Low'))\n",
    "health_data_clean$Outcome = factor(health_data_clean$Outcome,levels = c('Healthy','Critical','At Risk'))"
   ]
  },
  {
   "cell_type": "code",
   "execution_count": 12,
   "metadata": {
    "vscode": {
     "languageId": "r"
    }
   },
   "outputs": [],
   "source": [
    "library(fastDummies)"
   ]
  },
  {
   "cell_type": "code",
   "execution_count": 13,
   "metadata": {
    "vscode": {
     "languageId": "r"
    }
   },
   "outputs": [],
   "source": [
    "health_data_lm = dummy_cols(health_data_clean,select_columns = c(\"Gender\",\"SmokingStatus\",\"AlcoholConsumption\",\"ExerciseFrequency\",\"Diabetes\",\"HeartDisease\",\"PhysicalActivityLevel\",\"DietQuality\",\"MedicationAdherence\",\"Outcome\"))\n",
    "health_data_lm = subset(health_data_lm, select=-c(Gender,SmokingStatus,AlcoholConsumption,ExerciseFrequency,Diabetes,HeartDisease,PhysicalActivityLevel,DietQuality,MedicationAdherence,Outcome,PatientID))\n",
    "names(health_data_lm)[names(health_data_lm) == 'Outcome_At Risk'] <- 'Outcome_at_risk'"
   ]
  },
  {
   "cell_type": "code",
   "execution_count": 108,
   "metadata": {
    "vscode": {
     "languageId": "r"
    }
   },
   "outputs": [
    {
     "data": {
      "image/png": "[encoded data removed]",
      "text/plain": [
       "Plot with title \"PatientID\""
      ]
     },
     "metadata": {
      "image/png": {
       "height": 420,
       "width": 420
      }
     },
     "output_type": "display_data"
    },
    {
     "data": {
      "image/png": "[encoded data removed]",
      "text/plain": [
       "Plot with title \"Age\""
      ]
     },
     "metadata": {
      "image/png": {
       "height": 420,
       "width": 420
      }
     },
     "output_type": "display_data"
    },
    {
     "data": {
      "image/png": "[encoded data removed]",
      "text/plain": [
       "Plot with title \"BMI\""
      ]
     },
     "metadata": {
      "image/png": {
       "height": 420,
       "width": 420
      }
     },
     "output_type": "display_data"
    },
    {
     "data": {
      "image/png": "[encoded data removed]",
      "text/plain": [
       "Plot with title \"CholesterolLevel\""
      ]
     },
     "metadata": {
      "image/png": {
       "height": 420,
       "width": 420
      }
     },
     "output_type": "display_data"
    },
    {
     "data": {
      "image/png": "[encoded data removed]",
      "text/plain": [
       "Plot with title \"BloodPressureNumerator\""
      ]
     },
     "metadata": {
      "image/png": {
       "height": 420,
       "width": 420
      }
     },
     "output_type": "display_data"
    },
    {
     "data": {
      "image/png": "[encoded data removed]",
      "text/plain": [
       "Plot with title \"BloodPressureDenominator\""
      ]
     },
     "metadata": {
      "image/png": {
       "height": 420,
       "width": 420
      }
     },
     "output_type": "display_data"
    },
    {
     "data": {
      "image/png": "[encoded data removed]",
      "text/plain": [
       "Plot with title \"AnnualCheckups\""
      ]
     },
     "metadata": {
      "image/png": {
       "height": 420,
       "width": 420
      }
     },
     "output_type": "display_data"
    },
    {
     "data": {
      "image/png": "[encoded data removed]",
      "text/plain": [
       "Plot with title \"GeneticRisk\""
      ]
     },
     "metadata": {
      "image/png": {
       "height": 420,
       "width": 420
      }
     },
     "output_type": "display_data"
    },
    {
     "data": {
      "image/png": "[encoded data removed]",
      "text/plain": [
       "Plot with title \"HealthcareCost\""
      ]
     },
     "metadata": {
      "image/png": {
       "height": 420,
       "width": 420
      }
     },
     "output_type": "display_data"
    }
   ],
   "source": [
    "for (e in colnames(numeric_data)){\n",
    "    boxplot(health_data_clean[[e]], main = e)\n",
    "    #print(plots)\n",
    "}"
   ]
  },
  {
   "cell_type": "code",
   "execution_count": 109,
   "metadata": {
    "vscode": {
     "languageId": "r"
    }
   },
   "outputs": [],
   "source": [
    "at_risk = health_data_clean %>% filter(Outcome==\"At Risk\")\n",
    "health = health_data_clean %>% filter(Outcome==\"Healthy\") \n",
    "critical = health_data_clean %>% filter(Outcome==\"Critical\")"
   ]
  },
  {
   "cell_type": "code",
   "execution_count": 110,
   "metadata": {
    "vscode": {
     "languageId": "r"
    }
   },
   "outputs": [],
   "source": [
    "mean_at_risk <- colMeans(select(at_risk, where(is.numeric)), na.rm = TRUE)\n",
    "mean_health <- colMeans(select(health, where(is.numeric)), na.rm = TRUE)\n",
    "mean_critical <- colMeans(select(critical, where(is.numeric)), na.rm = TRUE)"
   ]
  },
  {
   "cell_type": "code",
   "execution_count": 111,
   "metadata": {
    "vscode": {
     "languageId": "r"
    }
   },
   "outputs": [],
   "source": [
    "mean_df <- data.frame(\n",
    "  variable = names(mean_at_risk),\n",
    "  At_Risk = mean_at_risk,\n",
    "  Healthy = mean_health,\n",
    "  Critical = mean_critical\n",
    ")\n",
    "\n",
    "\n",
    "mean_df_long <- pivot_longer(mean_df, cols = -variable, names_to = \"Group\", values_to = \"Mean\")"
   ]
  },
  {
   "cell_type": "code",
   "execution_count": 112,
   "metadata": {
    "vscode": {
     "languageId": "r"
    }
   },
   "outputs": [
    {
     "data": {
      "image/png": "[encoded data removed]",
      "text/plain": [
       "plot without title"
      ]
     },
     "metadata": {
      "image/png": {
       "height": 420,
       "width": 420
      }
     },
     "output_type": "display_data"
    }
   ],
   "source": [
    "ggplot(mean_df_long, aes(x = Group, y = Mean, fill = Group)) +\n",
    "  geom_bar(stat = \"identity\", position = \"dodge\") +\n",
    "  \n",
    " \n",
    "  geom_text(aes(label = round(Mean, 2)), \n",
    "            position = position_dodge(width = 0.9), \n",
    "            vjust = 0, size = 2.5) +  \n",
    "  \n",
    "  facet_wrap(~ variable, scales = \"free_y\") +\n",
    "  theme_minimal() +\n",
    "  labs(title = \"Comparison of Averages by Outcome Group\",\n",
    "       x = \"Outcome Group\",\n",
    "       y = \"Average Value\") +\n",
    "  theme(axis.text.x = element_text(angle = 45, hjust = 1),\n",
    "        strip.text = element_text(size = 10))"
   ]
  },
  {
   "cell_type": "code",
   "execution_count": 113,
   "metadata": {
    "vscode": {
     "languageId": "r"
    }
   },
   "outputs": [
    {
     "data": {
      "image/png": "[encoded data removed]",
      "text/plain": [
       "plot without title"
      ]
     },
     "metadata": {
      "image/png": {
       "height": 420,
       "width": 420
      }
     },
     "output_type": "display_data"
    }
   ],
   "source": [
    "long_data <- pivot_longer(\n",
    "  health_data_clean,\n",
    "  cols = c(Gender, SmokingStatus, AlcoholConsumption, ExerciseFrequency, PhysicalActivityLevel, DietQuality, MedicationAdherence,Diabetes,HeartDisease),\n",
    "  names_to = \"Variable\",\n",
    "  values_to = \"Value\"\n",
    ")\n",
    "\n",
    "ggplot(long_data, aes(x = Value, fill = Outcome)) +\n",
    "  geom_bar(position = \"dodge\") +  \n",
    "  facet_wrap(~ Variable, scales = \"free_x\") +  \n",
    "  theme_minimal() +\n",
    "  labs(title = \"Comparison of Counts by Outcome Group for Categorical Variables\",\n",
    "       x = \"Category Value\",\n",
    "       y = \"Count\") +\n",
    "  theme(axis.text.x = element_text(angle = 45, hjust = 1), \n",
    "        strip.text = element_text(size = 10))  "
   ]
  },
  {
   "cell_type": "markdown",
   "metadata": {},
   "source": [
    "Linear Regression"
   ]
  },
  {
   "cell_type": "code",
   "execution_count": 161,
   "metadata": {
    "vscode": {
     "languageId": "r"
    }
   },
   "outputs": [
    {
     "data": {
      "text/plain": [
       "\n",
       "Call:\n",
       "lm(formula = HealthcareCost ~ Outcome_Healthy + Outcome_Critical + \n",
       "    GeneticRisk + PhysicalActivityLevel_High, data = health_data_lm)\n",
       "\n",
       "Residuals:\n",
       "     Min       1Q   Median       3Q      Max \n",
       "-17190.0  -3708.1    -79.5   3541.8  24671.0 \n",
       "\n",
       "Coefficients:\n",
       "                           Estimate Std. Error  t value Pr(>|t|)    \n",
       "(Intercept)                15975.67     382.55   41.761   <2e-16 ***\n",
       "Outcome_Healthy            -4978.15      34.27 -145.284   <2e-16 ***\n",
       "Outcome_Critical            4975.75      38.49  129.257   <2e-16 ***\n",
       "GeneticRisk                 -861.49     381.23   -2.260   0.0238 *  \n",
       "PhysicalActivityLevel_High    -8.66      23.79   -0.364   0.7158    \n",
       "---\n",
       "Signif. codes:  0 '***' 0.001 '**' 0.01 '*' 0.05 '.' 0.1 ' ' 1\n",
       "\n",
       "Residual standard error: 5202 on 299995 degrees of freedom\n",
       "Multiple R-squared:  0.3601,\tAdjusted R-squared:  0.3601 \n",
       "F-statistic: 4.22e+04 on 4 and 299995 DF,  p-value: < 2.2e-16\n"
      ]
     },
     "metadata": {},
     "output_type": "display_data"
    }
   ],
   "source": [
    "summary(lm(HealthcareCost~Outcome_Healthy+Outcome_Critical+GeneticRisk+PhysicalActivityLevel_High,data = health_data_lm))"
   ]
  },
  {
   "cell_type": "code",
   "execution_count": 39,
   "metadata": {
    "vscode": {
     "languageId": "r"
    }
   },
   "outputs": [],
   "source": [
    "health_data_lm_1 <- subset(health_data_lm, select = -c(Gender,SmokingStatus,AlcoholConsumption,ExerciseFrequency,Diabetes,HeartDisease,PhysicalActivityLevel,DietQuality,MedicationAdherence,Outcome,PatientID,\n",
    "log_HealthcareCost,\n",
    "SmokingStatus_Never,AlcoholConsumption_Never,ExerciseFrequency_Never,Diabetes_No,HeartDisease_No,PhysicalActivityLevel_Low,DietQuality_Average,MedicationAdherence_Medium,Outcome_Healthy,\n",
    "Gender_Male,log_CholesterolLevel,log_GeneticRisk,log_BMI,log_HealthcareCost,Outcome_Critical,`Outcome_At Risk`))"
   ]
  },
  {
   "cell_type": "code",
   "execution_count": 40,
   "metadata": {
    "vscode": {
     "languageId": "r"
    }
   },
   "outputs": [],
   "source": [
    "health_data_lm_2 <- subset(health_data_lm, select = -c(Gender,SmokingStatus,AlcoholConsumption,ExerciseFrequency,Diabetes,HeartDisease,PhysicalActivityLevel,DietQuality,MedicationAdherence,Outcome,PatientID,HealthcareCost,\n",
    "SmokingStatus_Never,AlcoholConsumption_Never,ExerciseFrequency_Never,Diabetes_No,HeartDisease_No,PhysicalActivityLevel_Low,DietQuality_Average,MedicationAdherence_Medium,Outcome_Healthy,Gender_Male,log_CholesterolLevel,log_GeneticRisk,log_BMI,Outcome_Critical,`Outcome_At Risk`))"
   ]
  },
  {
   "cell_type": "code",
   "execution_count": 24,
   "metadata": {
    "vscode": {
     "languageId": "r"
    }
   },
   "outputs": [],
   "source": [
    "test_lm = lm(HealthcareCost~.,data=health_data_lm_1)"
   ]
  },
  {
   "cell_type": "code",
   "execution_count": 37,
   "metadata": {
    "vscode": {
     "languageId": "r"
    }
   },
   "outputs": [
    {
     "data": {
      "text/plain": [
       "\n",
       "Call:\n",
       "lm(formula = HealthcareCost ~ CholesterolLevel + GeneticRisk, \n",
       "    data = health_data_lm)\n",
       "\n",
       "Residuals:\n",
       "    Min      1Q  Median      3Q     Max \n",
       "-2.2726 -0.6975 -0.0486  0.6479  4.6101 \n",
       "\n",
       "Coefficients:\n",
       "                  Estimate Std. Error t value Pr(>|t|)    \n",
       "(Intercept)      -6.641794   0.066468  -99.92   <2e-16 ***\n",
       "CholesterolLevel  0.129367   0.001783   72.57   <2e-16 ***\n",
       "GeneticRisk       6.738758   0.067415   99.96   <2e-16 ***\n",
       "---\n",
       "Signif. codes:  0 '***' 0.001 '**' 0.01 '*' 0.05 '.' 0.1 ' ' 1\n",
       "\n",
       "Residual standard error: 0.9737 on 299997 degrees of freedom\n",
       "Multiple R-squared:  0.05193,\tAdjusted R-squared:  0.05192 \n",
       "F-statistic:  8216 on 2 and 299997 DF,  p-value: < 2.2e-16\n"
      ]
     },
     "metadata": {},
     "output_type": "display_data"
    }
   ],
   "source": [
    "summary(lm(HealthcareCost~CholesterolLevel+GeneticRisk,\n",
    "data = health_data_lm))"
   ]
  },
  {
   "cell_type": "code",
   "execution_count": 26,
   "metadata": {
    "vscode": {
     "languageId": "r"
    }
   },
   "outputs": [],
   "source": [
    "test_lm <- step(test_lm, direction = \"backward\", trace = 0)"
   ]
  },
  {
   "cell_type": "code",
   "execution_count": 27,
   "metadata": {
    "vscode": {
     "languageId": "r"
    }
   },
   "outputs": [
    {
     "data": {
      "text/plain": [
       "\n",
       "Call:\n",
       "lm(formula = HealthcareCost ~ BMI + CholesterolLevel + GeneticRisk + \n",
       "    ExerciseFrequency_Sometimes, data = health_data_lm_1)\n",
       "\n",
       "Residuals:\n",
       "     Min       1Q   Median       3Q      Max \n",
       "-15059.0  -4536.2   -314.9   4209.2  30000.4 \n",
       "\n",
       "Coefficients:\n",
       "                              Estimate Std. Error t value Pr(>|t|)    \n",
       "(Intercept)                 -3.704e+04  4.375e+02 -84.673   <2e-16 ***\n",
       "BMI                          2.801e+01  2.293e+00  12.217   <2e-16 ***\n",
       "CholesterolLevel             2.582e+01  3.572e-01  72.290   <2e-16 ***\n",
       "GeneticRisk                  4.374e+04  4.383e+02  99.777   <2e-16 ***\n",
       "ExerciseFrequency_Sometimes -4.222e+01  2.523e+01  -1.674   0.0942 .  \n",
       "---\n",
       "Signif. codes:  0 '***' 0.001 '**' 0.01 '*' 0.05 '.' 0.1 ' ' 1\n",
       "\n",
       "Residual standard error: 6330 on 299995 degrees of freedom\n",
       "Multiple R-squared:  0.05241,\tAdjusted R-squared:  0.0524 \n",
       "F-statistic:  4148 on 4 and 299995 DF,  p-value: < 2.2e-16\n"
      ]
     },
     "metadata": {},
     "output_type": "display_data"
    }
   ],
   "source": [
    "summary(test_lm)"
   ]
  },
  {
   "cell_type": "code",
   "execution_count": 28,
   "metadata": {
    "vscode": {
     "languageId": "r"
    }
   },
   "outputs": [
    {
     "data": {
      "image/png": "[encoded data removed]",
      "text/plain": [
       "Plot with title \"\""
      ]
     },
     "metadata": {
      "image/png": {
       "height": 420,
       "width": 420
      }
     },
     "output_type": "display_data"
    },
    {
     "data": {
      "image/png": "[encoded data removed]",
      "text/plain": [
       "Plot with title \"\""
      ]
     },
     "metadata": {
      "image/png": {
       "height": 420,
       "width": 420
      }
     },
     "output_type": "display_data"
    },
    {
     "data": {
      "image/png": "[encoded data removed]",
      "text/plain": [
       "Plot with title \"\""
      ]
     },
     "metadata": {
      "image/png": {
       "height": 420,
       "width": 420
      }
     },
     "output_type": "display_data"
    },
    {
     "data": {
      "image/png": "[encoded data removed]",
      "text/plain": [
       "Plot with title \"\""
      ]
     },
     "metadata": {
      "image/png": {
       "height": 420,
       "width": 420
      }
     },
     "output_type": "display_data"
    }
   ],
   "source": [
    "plot(test_lm)"
   ]
  },
  {
   "cell_type": "code",
   "execution_count": 42,
   "metadata": {
    "vscode": {
     "languageId": "r"
    }
   },
   "outputs": [
    {
     "data": {
      "text/plain": [
       "\n",
       "Call:\n",
       "lm(formula = HealthcareCost ~ ., data = health_data_lm_1)\n",
       "\n",
       "Residuals:\n",
       "    Min      1Q  Median      3Q     Max \n",
       "-2.3123 -0.6974 -0.0483  0.6472  4.6197 \n",
       "\n",
       "Coefficients:\n",
       "                                  Estimate Std. Error t value Pr(>|t|)    \n",
       "(Intercept)                     -6.6319321  0.0667517 -99.352   <2e-16 ***\n",
       "Age                             -0.0007166  0.0017774  -0.403    0.687    \n",
       "BMI                              0.0217296  0.0017781  12.221   <2e-16 ***\n",
       "CholesterolLevel                 0.1288894  0.0017828  72.295   <2e-16 ***\n",
       "BloodPressureNumerator           0.0018966  0.0018166   1.044    0.296    \n",
       "BloodPressureDenominator        -0.0011938  0.0018166  -0.657    0.511    \n",
       "AnnualCheckups                   0.0011451  0.0012562   0.912    0.362    \n",
       "GeneticRisk                      6.7252139  0.0674099  99.766   <2e-16 ***\n",
       "Gender_Female                    0.0045389  0.0035914   1.264    0.206    \n",
       "Gender_Other                    -0.0000100  0.0127307  -0.001    0.999    \n",
       "SmokingStatus_Former             0.0027909  0.0045875   0.608    0.543    \n",
       "SmokingStatus_Current           -0.0012998  0.0045977  -0.283    0.777    \n",
       "AlcoholConsumption_Occasionally -0.0011995  0.0041040  -0.292    0.770    \n",
       "AlcoholConsumption_Regularly    -0.0058449  0.0047049  -1.242    0.214    \n",
       "ExerciseFrequency_Sometimes     -0.0066768  0.0051310  -1.301    0.193    \n",
       "ExerciseFrequency_Often         -0.0024289  0.0056139  -0.433    0.665    \n",
       "ExerciseFrequency_Rarely         0.0011996  0.0051313   0.234    0.815    \n",
       "Diabetes_Yes                     0.0023933  0.0049759   0.481    0.631    \n",
       "HeartDisease_Yes                -0.0031251  0.0059434  -0.526    0.599    \n",
       "PhysicalActivityLevel_Medium     0.0011059  0.0039717   0.278    0.781    \n",
       "PhysicalActivityLevel_High       0.0017595  0.0048767   0.361    0.718    \n",
       "DietQuality_Good                 0.0033062  0.0047027   0.703    0.482    \n",
       "DietQuality_Poor                 0.0037337  0.0041069   0.909    0.363    \n",
       "MedicationAdherence_High        -0.0012438  0.0041072  -0.303    0.762    \n",
       "MedicationAdherence_Low          0.0003549  0.0047030   0.075    0.940    \n",
       "---\n",
       "Signif. codes:  0 '***' 0.001 '**' 0.01 '*' 0.05 '.' 0.1 ' ' 1\n",
       "\n",
       "Residual standard error: 0.9735 on 299975 degrees of freedom\n",
       "Multiple R-squared:  0.05244,\tAdjusted R-squared:  0.05236 \n",
       "F-statistic: 691.7 on 24 and 299975 DF,  p-value: < 2.2e-16\n"
      ]
     },
     "metadata": {},
     "output_type": "display_data"
    }
   ],
   "source": [
    "test_lm_1 = lm(HealthcareCost~.,data=health_data_lm_1)\n",
    "summary(test_lm_1)"
   ]
  },
  {
   "cell_type": "code",
   "execution_count": 30,
   "metadata": {
    "vscode": {
     "languageId": "r"
    }
   },
   "outputs": [],
   "source": [
    "test_lm_backwards <- step(test_lm_1, direction = \"backward\", trace = 0)"
   ]
  },
  {
   "cell_type": "code",
   "execution_count": 31,
   "metadata": {
    "vscode": {
     "languageId": "r"
    }
   },
   "outputs": [
    {
     "data": {
      "text/plain": [
       "\n",
       "Call:\n",
       "lm(formula = log_HealthcareCost ~ BMI + CholesterolLevel + GeneticRisk, \n",
       "    data = health_data_lm_2)\n",
       "\n",
       "Residuals:\n",
       "    Min      1Q  Median      3Q     Max \n",
       "-3.2822 -0.2561  0.1751  0.4939  1.6536 \n",
       "\n",
       "Coefficients:\n",
       "                  Estimate Std. Error t value Pr(>|t|)    \n",
       "(Intercept)      4.7440536  0.0530190  89.478   <2e-16 ***\n",
       "BMI              0.0024102  0.0002779   8.672   <2e-16 ***\n",
       "CholesterolLevel 0.0022978  0.0000433  53.072   <2e-16 ***\n",
       "GeneticRisk      3.9670546  0.0531324  74.664   <2e-16 ***\n",
       "---\n",
       "Signif. codes:  0 '***' 0.001 '**' 0.01 '*' 0.05 '.' 0.1 ' ' 1\n",
       "\n",
       "Residual standard error: 0.7673 on 299996 degrees of freedom\n",
       "Multiple R-squared:  0.02962,\tAdjusted R-squared:  0.02961 \n",
       "F-statistic:  3052 on 3 and 299996 DF,  p-value: < 2.2e-16\n"
      ]
     },
     "metadata": {},
     "output_type": "display_data"
    }
   ],
   "source": [
    "summary(test_lm_backwards)"
   ]
  },
  {
   "cell_type": "code",
   "execution_count": 34,
   "metadata": {
    "vscode": {
     "languageId": "r"
    }
   },
   "outputs": [],
   "source": [
    "library(e1071)"
   ]
  },
  {
   "cell_type": "code",
   "execution_count": 118,
   "metadata": {
    "vscode": {
     "languageId": "r"
    }
   },
   "outputs": [],
   "source": [
    "clustering_data = subset(health_data_lm, select = -c(Outcome_Healthy, Outcome_Critical,`Outcome_At Risk`))\n",
    "\n"
   ]
  },
  {
   "cell_type": "code",
   "execution_count": 119,
   "metadata": {
    "vscode": {
     "languageId": "r"
    }
   },
   "outputs": [
    {
     "data": {
      "text/html": [
       "<table class=\"dataframe\">\n",
       "<caption>A matrix: 6 × 34 of type dbl</caption>\n",
       "<thead>\n",
       "\t<tr><th></th><th scope=col>Age</th><th scope=col>BMI</th><th scope=col>CholesterolLevel</th><th scope=col>BloodPressureNumerator</th><th scope=col>BloodPressureDenominator</th><th scope=col>AnnualCheckups</th><th scope=col>GeneticRisk</th><th scope=col>HealthcareCost</th><th scope=col>Gender_Male</th><th scope=col>Gender_Female</th><th scope=col>⋯</th><th scope=col>HeartDisease_Yes</th><th scope=col>PhysicalActivityLevel_Low</th><th scope=col>PhysicalActivityLevel_Medium</th><th scope=col>PhysicalActivityLevel_High</th><th scope=col>DietQuality_Average</th><th scope=col>DietQuality_Good</th><th scope=col>DietQuality_Poor</th><th scope=col>MedicationAdherence_Medium</th><th scope=col>MedicationAdherence_High</th><th scope=col>MedicationAdherence_Low</th></tr>\n",
       "</thead>\n",
       "<tbody>\n",
       "\t<tr><th scope=row>1</th><td> 1.3713125</td><td>-0.4641360</td><td>-1.3582832</td><td>-0.4039493</td><td>-0.4151675</td><td> 5.654056e-05</td><td>-3.6156621</td><td>1.31349248</td><td> 1.0254282</td><td>-0.9846166</td><td>⋯</td><td> 3.0119455</td><td> 1.2254150</td><td>-0.8187424</td><td>-0.4983476</td><td> 0.9977409</td><td>-0.4996971</td><td>-0.6531929</td><td> 0.9972887</td><td>-0.6529904</td><td>-0.499546</td></tr>\n",
       "\t<tr><th scope=row>2</th><td> 0.4093303</td><td>-0.7824921</td><td>-0.9515588</td><td> 0.7898919</td><td>-0.7154040</td><td>-7.067005e-01</td><td>-1.3466784</td><td>0.03996491</td><td>-0.9751991</td><td> 1.0156203</td><td>⋯</td><td>-0.3320102</td><td> 1.2254150</td><td>-0.8187424</td><td>-0.4983476</td><td>-1.0022609</td><td> 2.0012058</td><td>-0.6531929</td><td> 0.9972887</td><td>-0.6529904</td><td>-0.499546</td></tr>\n",
       "\t<tr><th scope=row>3</th><td>-1.3222377</td><td> 1.4965344</td><td> 1.2939160</td><td>-1.3282134</td><td> 0.5455890</td><td>-7.067005e-01</td><td> 0.5441414</td><td>0.10303416</td><td>-0.9751991</td><td> 1.0156203</td><td>⋯</td><td>-0.3320102</td><td>-0.8160474</td><td> 1.2213813</td><td>-0.4983476</td><td> 0.9977409</td><td>-0.4996971</td><td>-0.6531929</td><td>-1.0027154</td><td> 1.5314110</td><td>-0.499546</td></tr>\n",
       "\t<tr><th scope=row>4</th><td> 0.5055285</td><td> 0.6051777</td><td>-1.5745152</td><td> 0.9439359</td><td>-0.2950730</td><td> 7.068136e-01</td><td> 0.5441414</td><td>0.53618605</td><td> 1.0254282</td><td>-0.9846166</td><td>⋯</td><td>-0.3320102</td><td>-0.8160474</td><td> 1.2213813</td><td>-0.4983476</td><td> 0.9977409</td><td>-0.4996971</td><td>-0.6531929</td><td> 0.9972887</td><td>-0.6529904</td><td>-0.499546</td></tr>\n",
       "\t<tr><th scope=row>5</th><td>-0.9374448</td><td> 0.1188408</td><td> 1.0054178</td><td>-0.1343722</td><td>-0.4151675</td><td> 1.413571e+00</td><td> 0.5441414</td><td>0.93750576</td><td>-0.9751991</td><td> 1.0156203</td><td>⋯</td><td>-0.3320102</td><td>-0.8160474</td><td> 1.2213813</td><td>-0.4983476</td><td> 0.9977409</td><td>-0.4996971</td><td>-0.6531929</td><td>-1.0027154</td><td> 1.5314110</td><td>-0.499546</td></tr>\n",
       "\t<tr><th scope=row>6</th><td>-0.9374448</td><td>-0.3848817</td><td>-1.2755950</td><td> 0.3662709</td><td> 0.3654472</td><td> 7.068136e-01</td><td>-0.5903505</td><td>0.07642888</td><td> 1.0254282</td><td>-0.9846166</td><td>⋯</td><td>-0.3320102</td><td>-0.8160474</td><td> 1.2213813</td><td>-0.4983476</td><td>-1.0022609</td><td>-0.4996971</td><td> 1.5309362</td><td> 0.9972887</td><td>-0.6529904</td><td>-0.499546</td></tr>\n",
       "</tbody>\n",
       "</table>\n"
      ],
      "text/latex": [
       "A matrix: 6 × 34 of type dbl\n",
       "\\begin{tabular}{r|lllllllllllllllllllll}\n",
       "  & Age & BMI & CholesterolLevel & BloodPressureNumerator & BloodPressureDenominator & AnnualCheckups & GeneticRisk & HealthcareCost & Gender\\_Male & Gender\\_Female & ⋯ & HeartDisease\\_Yes & PhysicalActivityLevel\\_Low & PhysicalActivityLevel\\_Medium & PhysicalActivityLevel\\_High & DietQuality\\_Average & DietQuality\\_Good & DietQuality\\_Poor & MedicationAdherence\\_Medium & MedicationAdherence\\_High & MedicationAdherence\\_Low\\\\\n",
       "\\hline\n",
       "\t1 &  1.3713125 & -0.4641360 & -1.3582832 & -0.4039493 & -0.4151675 &  5.654056e-05 & -3.6156621 & 1.31349248 &  1.0254282 & -0.9846166 & ⋯ &  3.0119455 &  1.2254150 & -0.8187424 & -0.4983476 &  0.9977409 & -0.4996971 & -0.6531929 &  0.9972887 & -0.6529904 & -0.499546\\\\\n",
       "\t2 &  0.4093303 & -0.7824921 & -0.9515588 &  0.7898919 & -0.7154040 & -7.067005e-01 & -1.3466784 & 0.03996491 & -0.9751991 &  1.0156203 & ⋯ & -0.3320102 &  1.2254150 & -0.8187424 & -0.4983476 & -1.0022609 &  2.0012058 & -0.6531929 &  0.9972887 & -0.6529904 & -0.499546\\\\\n",
       "\t3 & -1.3222377 &  1.4965344 &  1.2939160 & -1.3282134 &  0.5455890 & -7.067005e-01 &  0.5441414 & 0.10303416 & -0.9751991 &  1.0156203 & ⋯ & -0.3320102 & -0.8160474 &  1.2213813 & -0.4983476 &  0.9977409 & -0.4996971 & -0.6531929 & -1.0027154 &  1.5314110 & -0.499546\\\\\n",
       "\t4 &  0.5055285 &  0.6051777 & -1.5745152 &  0.9439359 & -0.2950730 &  7.068136e-01 &  0.5441414 & 0.53618605 &  1.0254282 & -0.9846166 & ⋯ & -0.3320102 & -0.8160474 &  1.2213813 & -0.4983476 &  0.9977409 & -0.4996971 & -0.6531929 &  0.9972887 & -0.6529904 & -0.499546\\\\\n",
       "\t5 & -0.9374448 &  0.1188408 &  1.0054178 & -0.1343722 & -0.4151675 &  1.413571e+00 &  0.5441414 & 0.93750576 & -0.9751991 &  1.0156203 & ⋯ & -0.3320102 & -0.8160474 &  1.2213813 & -0.4983476 &  0.9977409 & -0.4996971 & -0.6531929 & -1.0027154 &  1.5314110 & -0.499546\\\\\n",
       "\t6 & -0.9374448 & -0.3848817 & -1.2755950 &  0.3662709 &  0.3654472 &  7.068136e-01 & -0.5903505 & 0.07642888 &  1.0254282 & -0.9846166 & ⋯ & -0.3320102 & -0.8160474 &  1.2213813 & -0.4983476 & -1.0022609 & -0.4996971 &  1.5309362 &  0.9972887 & -0.6529904 & -0.499546\\\\\n",
       "\\end{tabular}\n"
      ],
      "text/markdown": [
       "\n",
       "A matrix: 6 × 34 of type dbl\n",
       "\n",
       "| <!--/--> | Age | BMI | CholesterolLevel | BloodPressureNumerator | BloodPressureDenominator | AnnualCheckups | GeneticRisk | HealthcareCost | Gender_Male | Gender_Female | ⋯ | HeartDisease_Yes | PhysicalActivityLevel_Low | PhysicalActivityLevel_Medium | PhysicalActivityLevel_High | DietQuality_Average | DietQuality_Good | DietQuality_Poor | MedicationAdherence_Medium | MedicationAdherence_High | MedicationAdherence_Low |\n",
       "|---|---|---|---|---|---|---|---|---|---|---|---|---|---|---|---|---|---|---|---|---|---|\n",
       "| 1 |  1.3713125 | -0.4641360 | -1.3582832 | -0.4039493 | -0.4151675 |  5.654056e-05 | -3.6156621 | 1.31349248 |  1.0254282 | -0.9846166 | ⋯ |  3.0119455 |  1.2254150 | -0.8187424 | -0.4983476 |  0.9977409 | -0.4996971 | -0.6531929 |  0.9972887 | -0.6529904 | -0.499546 |\n",
       "| 2 |  0.4093303 | -0.7824921 | -0.9515588 |  0.7898919 | -0.7154040 | -7.067005e-01 | -1.3466784 | 0.03996491 | -0.9751991 |  1.0156203 | ⋯ | -0.3320102 |  1.2254150 | -0.8187424 | -0.4983476 | -1.0022609 |  2.0012058 | -0.6531929 |  0.9972887 | -0.6529904 | -0.499546 |\n",
       "| 3 | -1.3222377 |  1.4965344 |  1.2939160 | -1.3282134 |  0.5455890 | -7.067005e-01 |  0.5441414 | 0.10303416 | -0.9751991 |  1.0156203 | ⋯ | -0.3320102 | -0.8160474 |  1.2213813 | -0.4983476 |  0.9977409 | -0.4996971 | -0.6531929 | -1.0027154 |  1.5314110 | -0.499546 |\n",
       "| 4 |  0.5055285 |  0.6051777 | -1.5745152 |  0.9439359 | -0.2950730 |  7.068136e-01 |  0.5441414 | 0.53618605 |  1.0254282 | -0.9846166 | ⋯ | -0.3320102 | -0.8160474 |  1.2213813 | -0.4983476 |  0.9977409 | -0.4996971 | -0.6531929 |  0.9972887 | -0.6529904 | -0.499546 |\n",
       "| 5 | -0.9374448 |  0.1188408 |  1.0054178 | -0.1343722 | -0.4151675 |  1.413571e+00 |  0.5441414 | 0.93750576 | -0.9751991 |  1.0156203 | ⋯ | -0.3320102 | -0.8160474 |  1.2213813 | -0.4983476 |  0.9977409 | -0.4996971 | -0.6531929 | -1.0027154 |  1.5314110 | -0.499546 |\n",
       "| 6 | -0.9374448 | -0.3848817 | -1.2755950 |  0.3662709 |  0.3654472 |  7.068136e-01 | -0.5903505 | 0.07642888 |  1.0254282 | -0.9846166 | ⋯ | -0.3320102 | -0.8160474 |  1.2213813 | -0.4983476 | -1.0022609 | -0.4996971 |  1.5309362 |  0.9972887 | -0.6529904 | -0.499546 |\n",
       "\n"
      ],
      "text/plain": [
       "  Age        BMI        CholesterolLevel BloodPressureNumerator\n",
       "1  1.3713125 -0.4641360 -1.3582832       -0.4039493            \n",
       "2  0.4093303 -0.7824921 -0.9515588        0.7898919            \n",
       "3 -1.3222377  1.4965344  1.2939160       -1.3282134            \n",
       "4  0.5055285  0.6051777 -1.5745152        0.9439359            \n",
       "5 -0.9374448  0.1188408  1.0054178       -0.1343722            \n",
       "6 -0.9374448 -0.3848817 -1.2755950        0.3662709            \n",
       "  BloodPressureDenominator AnnualCheckups GeneticRisk HealthcareCost\n",
       "1 -0.4151675                5.654056e-05  -3.6156621  1.31349248    \n",
       "2 -0.7154040               -7.067005e-01  -1.3466784  0.03996491    \n",
       "3  0.5455890               -7.067005e-01   0.5441414  0.10303416    \n",
       "4 -0.2950730                7.068136e-01   0.5441414  0.53618605    \n",
       "5 -0.4151675                1.413571e+00   0.5441414  0.93750576    \n",
       "6  0.3654472                7.068136e-01  -0.5903505  0.07642888    \n",
       "  Gender_Male Gender_Female ⋯ HeartDisease_Yes PhysicalActivityLevel_Low\n",
       "1  1.0254282  -0.9846166    ⋯  3.0119455        1.2254150               \n",
       "2 -0.9751991   1.0156203    ⋯ -0.3320102        1.2254150               \n",
       "3 -0.9751991   1.0156203    ⋯ -0.3320102       -0.8160474               \n",
       "4  1.0254282  -0.9846166    ⋯ -0.3320102       -0.8160474               \n",
       "5 -0.9751991   1.0156203    ⋯ -0.3320102       -0.8160474               \n",
       "6  1.0254282  -0.9846166    ⋯ -0.3320102       -0.8160474               \n",
       "  PhysicalActivityLevel_Medium PhysicalActivityLevel_High DietQuality_Average\n",
       "1 -0.8187424                   -0.4983476                  0.9977409         \n",
       "2 -0.8187424                   -0.4983476                 -1.0022609         \n",
       "3  1.2213813                   -0.4983476                  0.9977409         \n",
       "4  1.2213813                   -0.4983476                  0.9977409         \n",
       "5  1.2213813                   -0.4983476                  0.9977409         \n",
       "6  1.2213813                   -0.4983476                 -1.0022609         \n",
       "  DietQuality_Good DietQuality_Poor MedicationAdherence_Medium\n",
       "1 -0.4996971       -0.6531929        0.9972887                \n",
       "2  2.0012058       -0.6531929        0.9972887                \n",
       "3 -0.4996971       -0.6531929       -1.0027154                \n",
       "4 -0.4996971       -0.6531929        0.9972887                \n",
       "5 -0.4996971       -0.6531929       -1.0027154                \n",
       "6 -0.4996971        1.5309362        0.9972887                \n",
       "  MedicationAdherence_High MedicationAdherence_Low\n",
       "1 -0.6529904               -0.499546              \n",
       "2 -0.6529904               -0.499546              \n",
       "3  1.5314110               -0.499546              \n",
       "4 -0.6529904               -0.499546              \n",
       "5  1.5314110               -0.499546              \n",
       "6 -0.6529904               -0.499546              "
      ]
     },
     "metadata": {},
     "output_type": "display_data"
    }
   ],
   "source": [
    "head(clustering_data)"
   ]
  },
  {
   "cell_type": "code",
   "execution_count": 130,
   "metadata": {
    "vscode": {
     "languageId": "r"
    }
   },
   "outputs": [],
   "source": [
    "test=kmeans(x=numeric_data,centers = 3,nstart = 25)"
   ]
  },
  {
   "cell_type": "code",
   "execution_count": 131,
   "metadata": {
    "vscode": {
     "languageId": "r"
    }
   },
   "outputs": [],
   "source": [
    "health_data_clean$cluster = test$cluster"
   ]
  },
  {
   "cell_type": "code",
   "execution_count": 124,
   "metadata": {
    "vscode": {
     "languageId": "r"
    }
   },
   "outputs": [],
   "source": [
    "library(cluster)"
   ]
  },
  {
   "cell_type": "code",
   "execution_count": 126,
   "metadata": {
    "vscode": {
     "languageId": "r"
    }
   },
   "outputs": [
    {
     "ename": "ERROR",
     "evalue": "Error in if (is.na(n) || n > 65536L) stop(\"size cannot be NA nor exceed 65536\"): missing value where TRUE/FALSE needed\n",
     "output_type": "error",
     "traceback": [
      "Error in if (is.na(n) || n > 65536L) stop(\"size cannot be NA nor exceed 65536\"): missing value where TRUE/FALSE needed\nTraceback:\n",
      "1. hclust(clustering_data, method = \"average\")"
     ]
    }
   ],
   "source": [
    "hc = hclust(clustering_data, method = \"average\")"
   ]
  },
  {
   "cell_type": "markdown",
   "metadata": {},
   "source": [
    "Random Forest Linear Regression"
   ]
  },
  {
   "cell_type": "code",
   "execution_count": 14,
   "metadata": {
    "vscode": {
     "languageId": "r"
    }
   },
   "outputs": [
    {
     "name": "stderr",
     "output_type": "stream",
     "text": [
      "Warning message:\n",
      "\"package 'randomForest' was built under R version 4.3.3\"\n"
     ]
    },
    {
     "name": "stderr",
     "output_type": "stream",
     "text": [
      "randomForest 4.7-1.1\n",
      "\n",
      "Type rfNews() to see new features/changes/bug fixes.\n",
      "\n",
      "\n",
      "Attaching package: 'randomForest'\n",
      "\n",
      "\n",
      "The following object is masked from 'package:ggplot2':\n",
      "\n",
      "    margin\n",
      "\n",
      "\n",
      "The following object is masked from 'package:dplyr':\n",
      "\n",
      "    combine\n",
      "\n",
      "\n",
      "Warning message:\n",
      "\"package 'ranger' was built under R version 4.3.3\"\n",
      "\n",
      "Attaching package: 'ranger'\n",
      "\n",
      "\n",
      "The following object is masked from 'package:randomForest':\n",
      "\n",
      "    importance\n",
      "\n",
      "\n"
     ]
    }
   ],
   "source": [
    "library(randomForest)\n",
    "library(ranger)"
   ]
  },
  {
   "cell_type": "code",
   "execution_count": 12,
   "metadata": {
    "vscode": {
     "languageId": "r"
    }
   },
   "outputs": [
    {
     "name": "stdout",
     "output_type": "stream",
     "text": [
      "Growing trees.. Progress: 76%. Estimated remaining time: 9 seconds.\n"
     ]
    }
   ],
   "source": [
    "rand_forest_ranger <- ranger(\n",
    "  HealthcareCost ~ ., \n",
    "  data = health_data_lm, \n",
    "  mtry = 3, \n",
    "  num.trees = 100, \n",
    "  importance = 'impurity'\n",
    ")"
   ]
  },
  {
   "cell_type": "code",
   "execution_count": 13,
   "metadata": {
    "vscode": {
     "languageId": "r"
    }
   },
   "outputs": [
    {
     "name": "stdout",
     "output_type": "stream",
     "text": [
      "Ranger result\n",
      "\n",
      "Call:\n",
      " ranger(HealthcareCost ~ ., data = health_data_lm, mtry = 3, num.trees = 100,      importance = \"impurity\") \n",
      "\n",
      "Type:                             Regression \n",
      "Number of trees:                  100 \n",
      "Sample size:                      300000 \n",
      "Number of independent variables:  36 \n",
      "Mtry:                             3 \n",
      "Target node size:                 5 \n",
      "Variable importance mode:         impurity \n",
      "Splitrule:                        variance \n",
      "OOB prediction error (MSE):       27418632 \n",
      "R squared (OOB):                  0.3515885 \n"
     ]
    }
   ],
   "source": [
    "print(rand_forest_ranger)"
   ]
  },
  {
   "cell_type": "code",
   "execution_count": 20,
   "metadata": {
    "vscode": {
     "languageId": "r"
    }
   },
   "outputs": [],
   "source": [
    "importance_score = rand_forest_ranger$variable.importance"
   ]
  },
  {
   "cell_type": "code",
   "execution_count": 24,
   "metadata": {
    "vscode": {
     "languageId": "r"
    }
   },
   "outputs": [
    {
     "data": {
      "image/png": "[encoded data removed]",
      "text/plain": [
       "plot without title"
      ]
     },
     "metadata": {
      "image/png": {
       "height": 420,
       "width": 420
      }
     },
     "output_type": "display_data"
    }
   ],
   "source": [
    "importance_score = rand_forest_ranger$variable.importance\n",
    "important_vars_df = data.frame(Variables = names(importance_score),Score= importance_score)\n",
    "\n",
    "ggplot(important_vars_df, aes(x = reorder(Variables, Score), y = Score)) +\n",
    "  geom_bar(stat = \"identity\") +\n",
    "  coord_flip() +\n",
    "  labs(title = \"Variable Importance\",\n",
    "       x = \"Feature\",\n",
    "       y = \"Importance\") +\n",
    "  theme_minimal()"
   ]
  },
  {
   "cell_type": "code",
   "execution_count": 34,
   "metadata": {
    "vscode": {
     "languageId": "r"
    }
   },
   "outputs": [
    {
     "data": {
      "text/html": [
       "<table class=\"dataframe\">\n",
       "<caption>A data.frame: 6 × 38</caption>\n",
       "<thead>\n",
       "\t<tr><th></th><th scope=col>Age</th><th scope=col>BMI</th><th scope=col>CholesterolLevel</th><th scope=col>BloodPressureNumerator</th><th scope=col>BloodPressureDenominator</th><th scope=col>AnnualCheckups</th><th scope=col>GeneticRisk</th><th scope=col>HealthcareCost</th><th scope=col>Gender_Female</th><th scope=col>Gender_Male</th><th scope=col>⋯</th><th scope=col>DietQuality_Average</th><th scope=col>DietQuality_Good</th><th scope=col>DietQuality_Poor</th><th scope=col>MedicationAdherence_High</th><th scope=col>MedicationAdherence_Low</th><th scope=col>MedicationAdherence_Medium</th><th scope=col>Outcome_at_risk</th><th scope=col>Outcome_Critical</th><th scope=col>Outcome_Healthy</th><th scope=col>BMIxAge</th></tr>\n",
       "\t<tr><th></th><th scope=col>&lt;int&gt;</th><th scope=col>&lt;dbl&gt;</th><th scope=col>&lt;dbl&gt;</th><th scope=col>&lt;dbl&gt;</th><th scope=col>&lt;dbl&gt;</th><th scope=col>&lt;int&gt;</th><th scope=col>&lt;dbl&gt;</th><th scope=col>&lt;dbl&gt;</th><th scope=col>&lt;int&gt;</th><th scope=col>&lt;int&gt;</th><th scope=col>⋯</th><th scope=col>&lt;int&gt;</th><th scope=col>&lt;int&gt;</th><th scope=col>&lt;int&gt;</th><th scope=col>&lt;int&gt;</th><th scope=col>&lt;int&gt;</th><th scope=col>&lt;int&gt;</th><th scope=col>&lt;int&gt;</th><th scope=col>&lt;int&gt;</th><th scope=col>&lt;int&gt;</th><th scope=col>&lt;dbl&gt;</th></tr>\n",
       "</thead>\n",
       "<tbody>\n",
       "\t<tr><th scope=row>1</th><td>82</td><td>27.72798</td><td>170.5041</td><td>124</td><td>80</td><td>2</td><td>0.89</td><td>20974.84</td><td>0</td><td>1</td><td>⋯</td><td>1</td><td>0</td><td>0</td><td>0</td><td>0</td><td>1</td><td>0</td><td>0</td><td>1</td><td>24.67790</td></tr>\n",
       "\t<tr><th scope=row>2</th><td>62</td><td>26.12258</td><td>183.7046</td><td>155</td><td>75</td><td>1</td><td>0.95</td><td>12693.40</td><td>1</td><td>0</td><td>⋯</td><td>0</td><td>1</td><td>0</td><td>0</td><td>0</td><td>1</td><td>0</td><td>0</td><td>1</td><td>24.81645</td></tr>\n",
       "\t<tr><th scope=row>3</th><td>26</td><td>37.61520</td><td>256.5829</td><td>100</td><td>96</td><td>1</td><td>1.00</td><td>13103.52</td><td>1</td><td>0</td><td>⋯</td><td>1</td><td>0</td><td>0</td><td>1</td><td>0</td><td>0</td><td>0</td><td>1</td><td>0</td><td>37.61520</td></tr>\n",
       "\t<tr><th scope=row>4</th><td>64</td><td>33.12029</td><td>163.4861</td><td>159</td><td>82</td><td>3</td><td>1.00</td><td>15920.20</td><td>0</td><td>1</td><td>⋯</td><td>1</td><td>0</td><td>0</td><td>0</td><td>0</td><td>1</td><td>0</td><td>0</td><td>1</td><td>33.12029</td></tr>\n",
       "\t<tr><th scope=row>5</th><td>34</td><td>30.66780</td><td>247.2195</td><td>131</td><td>80</td><td>4</td><td>1.00</td><td>18529.89</td><td>1</td><td>0</td><td>⋯</td><td>1</td><td>0</td><td>0</td><td>1</td><td>0</td><td>0</td><td>0</td><td>1</td><td>0</td><td>30.66780</td></tr>\n",
       "\t<tr><th scope=row>6</th><td>34</td><td>28.12764</td><td>173.1878</td><td>144</td><td>93</td><td>3</td><td>0.97</td><td>12930.51</td><td>0</td><td>1</td><td>⋯</td><td>0</td><td>0</td><td>1</td><td>0</td><td>0</td><td>1</td><td>0</td><td>0</td><td>1</td><td>27.28381</td></tr>\n",
       "</tbody>\n",
       "</table>\n"
      ],
      "text/latex": [
       "A data.frame: 6 × 38\n",
       "\\begin{tabular}{r|lllllllllllllllllllll}\n",
       "  & Age & BMI & CholesterolLevel & BloodPressureNumerator & BloodPressureDenominator & AnnualCheckups & GeneticRisk & HealthcareCost & Gender\\_Female & Gender\\_Male & ⋯ & DietQuality\\_Average & DietQuality\\_Good & DietQuality\\_Poor & MedicationAdherence\\_High & MedicationAdherence\\_Low & MedicationAdherence\\_Medium & Outcome\\_at\\_risk & Outcome\\_Critical & Outcome\\_Healthy & BMIxAge\\\\\n",
       "  & <int> & <dbl> & <dbl> & <dbl> & <dbl> & <int> & <dbl> & <dbl> & <int> & <int> & ⋯ & <int> & <int> & <int> & <int> & <int> & <int> & <int> & <int> & <int> & <dbl>\\\\\n",
       "\\hline\n",
       "\t1 & 82 & 27.72798 & 170.5041 & 124 & 80 & 2 & 0.89 & 20974.84 & 0 & 1 & ⋯ & 1 & 0 & 0 & 0 & 0 & 1 & 0 & 0 & 1 & 24.67790\\\\\n",
       "\t2 & 62 & 26.12258 & 183.7046 & 155 & 75 & 1 & 0.95 & 12693.40 & 1 & 0 & ⋯ & 0 & 1 & 0 & 0 & 0 & 1 & 0 & 0 & 1 & 24.81645\\\\\n",
       "\t3 & 26 & 37.61520 & 256.5829 & 100 & 96 & 1 & 1.00 & 13103.52 & 1 & 0 & ⋯ & 1 & 0 & 0 & 1 & 0 & 0 & 0 & 1 & 0 & 37.61520\\\\\n",
       "\t4 & 64 & 33.12029 & 163.4861 & 159 & 82 & 3 & 1.00 & 15920.20 & 0 & 1 & ⋯ & 1 & 0 & 0 & 0 & 0 & 1 & 0 & 0 & 1 & 33.12029\\\\\n",
       "\t5 & 34 & 30.66780 & 247.2195 & 131 & 80 & 4 & 1.00 & 18529.89 & 1 & 0 & ⋯ & 1 & 0 & 0 & 1 & 0 & 0 & 0 & 1 & 0 & 30.66780\\\\\n",
       "\t6 & 34 & 28.12764 & 173.1878 & 144 & 93 & 3 & 0.97 & 12930.51 & 0 & 1 & ⋯ & 0 & 0 & 1 & 0 & 0 & 1 & 0 & 0 & 1 & 27.28381\\\\\n",
       "\\end{tabular}\n"
      ],
      "text/markdown": [
       "\n",
       "A data.frame: 6 × 38\n",
       "\n",
       "| <!--/--> | Age &lt;int&gt; | BMI &lt;dbl&gt; | CholesterolLevel &lt;dbl&gt; | BloodPressureNumerator &lt;dbl&gt; | BloodPressureDenominator &lt;dbl&gt; | AnnualCheckups &lt;int&gt; | GeneticRisk &lt;dbl&gt; | HealthcareCost &lt;dbl&gt; | Gender_Female &lt;int&gt; | Gender_Male &lt;int&gt; | ⋯ ⋯ | DietQuality_Average &lt;int&gt; | DietQuality_Good &lt;int&gt; | DietQuality_Poor &lt;int&gt; | MedicationAdherence_High &lt;int&gt; | MedicationAdherence_Low &lt;int&gt; | MedicationAdherence_Medium &lt;int&gt; | Outcome_at_risk &lt;int&gt; | Outcome_Critical &lt;int&gt; | Outcome_Healthy &lt;int&gt; | BMIxAge &lt;dbl&gt; |\n",
       "|---|---|---|---|---|---|---|---|---|---|---|---|---|---|---|---|---|---|---|---|---|---|\n",
       "| 1 | 82 | 27.72798 | 170.5041 | 124 | 80 | 2 | 0.89 | 20974.84 | 0 | 1 | ⋯ | 1 | 0 | 0 | 0 | 0 | 1 | 0 | 0 | 1 | 24.67790 |\n",
       "| 2 | 62 | 26.12258 | 183.7046 | 155 | 75 | 1 | 0.95 | 12693.40 | 1 | 0 | ⋯ | 0 | 1 | 0 | 0 | 0 | 1 | 0 | 0 | 1 | 24.81645 |\n",
       "| 3 | 26 | 37.61520 | 256.5829 | 100 | 96 | 1 | 1.00 | 13103.52 | 1 | 0 | ⋯ | 1 | 0 | 0 | 1 | 0 | 0 | 0 | 1 | 0 | 37.61520 |\n",
       "| 4 | 64 | 33.12029 | 163.4861 | 159 | 82 | 3 | 1.00 | 15920.20 | 0 | 1 | ⋯ | 1 | 0 | 0 | 0 | 0 | 1 | 0 | 0 | 1 | 33.12029 |\n",
       "| 5 | 34 | 30.66780 | 247.2195 | 131 | 80 | 4 | 1.00 | 18529.89 | 1 | 0 | ⋯ | 1 | 0 | 0 | 1 | 0 | 0 | 0 | 1 | 0 | 30.66780 |\n",
       "| 6 | 34 | 28.12764 | 173.1878 | 144 | 93 | 3 | 0.97 | 12930.51 | 0 | 1 | ⋯ | 0 | 0 | 1 | 0 | 0 | 1 | 0 | 0 | 1 | 27.28381 |\n",
       "\n"
      ],
      "text/plain": [
       "  Age BMI      CholesterolLevel BloodPressureNumerator BloodPressureDenominator\n",
       "1 82  27.72798 170.5041         124                    80                      \n",
       "2 62  26.12258 183.7046         155                    75                      \n",
       "3 26  37.61520 256.5829         100                    96                      \n",
       "4 64  33.12029 163.4861         159                    82                      \n",
       "5 34  30.66780 247.2195         131                    80                      \n",
       "6 34  28.12764 173.1878         144                    93                      \n",
       "  AnnualCheckups GeneticRisk HealthcareCost Gender_Female Gender_Male ⋯\n",
       "1 2              0.89        20974.84       0             1           ⋯\n",
       "2 1              0.95        12693.40       1             0           ⋯\n",
       "3 1              1.00        13103.52       1             0           ⋯\n",
       "4 3              1.00        15920.20       0             1           ⋯\n",
       "5 4              1.00        18529.89       1             0           ⋯\n",
       "6 3              0.97        12930.51       0             1           ⋯\n",
       "  DietQuality_Average DietQuality_Good DietQuality_Poor\n",
       "1 1                   0                0               \n",
       "2 0                   1                0               \n",
       "3 1                   0                0               \n",
       "4 1                   0                0               \n",
       "5 1                   0                0               \n",
       "6 0                   0                1               \n",
       "  MedicationAdherence_High MedicationAdherence_Low MedicationAdherence_Medium\n",
       "1 0                        0                       1                         \n",
       "2 0                        0                       1                         \n",
       "3 1                        0                       0                         \n",
       "4 0                        0                       1                         \n",
       "5 1                        0                       0                         \n",
       "6 0                        0                       1                         \n",
       "  Outcome_at_risk Outcome_Critical Outcome_Healthy BMIxAge \n",
       "1 0               0                1               24.67790\n",
       "2 0               0                1               24.81645\n",
       "3 0               1                0               37.61520\n",
       "4 0               0                1               33.12029\n",
       "5 0               1                0               30.66780\n",
       "6 0               0                1               27.28381"
      ]
     },
     "metadata": {},
     "output_type": "display_data"
    }
   ],
   "source": [
    "head(health_data_lm)"
   ]
  },
  {
   "cell_type": "code",
   "execution_count": 39,
   "metadata": {
    "vscode": {
     "languageId": "r"
    }
   },
   "outputs": [],
   "source": [
    "health_data_lm$genriskxclevel = health_data_lm$GeneticRisk*health_data_lm$CholesterolLevel "
   ]
  },
  {
   "cell_type": "code",
   "execution_count": 43,
   "metadata": {
    "vscode": {
     "languageId": "r"
    }
   },
   "outputs": [
    {
     "data": {
      "text/plain": [
       "\n",
       "Call:\n",
       "lm(formula = HealthcareCost ~ genriskxclevel + Age + BMI + Outcome_Critical + \n",
       "    Outcome_Healthy, data = health_data_lm)\n",
       "\n",
       "Residuals:\n",
       "     Min       1Q   Median       3Q      Max \n",
       "-17204.2  -3708.2    -81.1   3543.2  24687.1 \n",
       "\n",
       "Coefficients:\n",
       "                   Estimate Std. Error  t value Pr(>|t|)    \n",
       "(Intercept)       1.515e+04  9.548e+01  158.692   <2e-16 ***\n",
       "genriskxclevel   -3.139e-01  3.016e-01   -1.041    0.298    \n",
       "Age               9.108e-02  4.568e-01    0.199    0.842    \n",
       "BMI               7.945e-01  1.886e+00    0.421    0.674    \n",
       "Outcome_Critical  4.979e+03  3.861e+01  128.936   <2e-16 ***\n",
       "Outcome_Healthy  -4.965e+03  3.369e+01 -147.374   <2e-16 ***\n",
       "---\n",
       "Signif. codes:  0 '***' 0.001 '**' 0.01 '*' 0.05 '.' 0.1 ' ' 1\n",
       "\n",
       "Residual standard error: 5202 on 299994 degrees of freedom\n",
       "Multiple R-squared:  0.3601,\tAdjusted R-squared:   0.36 \n",
       "F-statistic: 3.376e+04 on 5 and 299994 DF,  p-value: < 2.2e-16\n"
      ]
     },
     "metadata": {},
     "output_type": "display_data"
    }
   ],
   "source": [
    "summary(lm(HealthcareCost ~ genriskxclevel+Age+BMI+Outcome_Critical+Outcome_Healthy,data = health_data_lm))"
   ]
  },
  {
   "cell_type": "markdown",
   "metadata": {},
   "source": [
    "Logistic Regression Random Forest"
   ]
  },
  {
   "cell_type": "code",
   "execution_count": 15,
   "metadata": {
    "vscode": {
     "languageId": "r"
    }
   },
   "outputs": [
    {
     "name": "stderr",
     "output_type": "stream",
     "text": [
      "Installing package into 'C:/Users/Will/AppData/Local/R/win-library/4.3'\n",
      "(as 'lib' is unspecified)\n",
      "\n"
     ]
    },
    {
     "name": "stdout",
     "output_type": "stream",
     "text": [
      "package 'nnet' successfully unpacked and MD5 sums checked\n",
      "\n",
      "The downloaded binary packages are in\n",
      "\tC:\\Users\\Will\\AppData\\Local\\Temp\\RtmpEXsNvL\\downloaded_packages\n"
     ]
    },
    {
     "name": "stderr",
     "output_type": "stream",
     "text": [
      "Warning message:\n",
      "\"package 'nnet' was built under R version 4.3.3\"\n"
     ]
    }
   ],
   "source": [
    "install.packages(\"nnet\")\n",
    "library(nnet)"
   ]
  },
  {
   "cell_type": "code",
   "execution_count": 16,
   "metadata": {
    "vscode": {
     "languageId": "r"
    }
   },
   "outputs": [],
   "source": [
    "health_data_log_reg = dummy_cols(health_data,select_columns = c(\"Gender\",\"SmokingStatus\",\"AlcoholConsumption\",\"ExerciseFrequency\",\"Diabetes\",\"HeartDisease\",\"PhysicalActivityLevel\",\"DietQuality\",\"MedicationAdherence\"))\n",
    "health_data_log_reg$Outcome <- as.factor(health_data_log_reg$Outcome)"
   ]
  },
  {
   "cell_type": "code",
   "execution_count": 14,
   "metadata": {
    "vscode": {
     "languageId": "r"
    }
   },
   "outputs": [
    {
     "name": "stdout",
     "output_type": "stream",
     "text": [
      "# weights:  162 (106 variable)\n",
      "initial  value 329583.686601 \n",
      "iter  10 value 191136.467307\n",
      "iter  20 value 183586.599385\n",
      "iter  30 value 178916.060557\n",
      "iter  40 value 173257.078644\n",
      "iter  50 value 156516.526097\n",
      "iter  60 value 136459.747421\n",
      "iter  70 value 132419.068641\n",
      "iter  80 value 132403.532835\n",
      "final  value 132403.491786 \n",
      "converged\n"
     ]
    }
   ],
   "source": [
    "multi_log_model <- multinom(Outcome ~ ., data = health_data_log_reg)"
   ]
  },
  {
   "cell_type": "code",
   "execution_count": 15,
   "metadata": {
    "vscode": {
     "languageId": "r"
    }
   },
   "outputs": [
    {
     "data": {
      "text/plain": [
       "Call:\n",
       "multinom(formula = Outcome ~ ., data = health_data_log_reg)\n",
       "\n",
       "Coefficients:\n",
       "         (Intercept)     PatientID           Age GenderMale GenderOther\n",
       "Critical   -64.93623 -9.943487e-08 -0.0006892460  -16.23513   -16.23354\n",
       "Healthy    269.02026 -5.060917e-08 -0.0001789553   67.26603    67.22856\n",
       "                  BMI SmokingStatusFormer SmokingStatusNever\n",
       "Critical  0.009114409           -16.24891          -16.24715\n",
       "Healthy  -0.010897177            67.24978           67.24618\n",
       "         AlcoholConsumptionOccasionally AlcoholConsumptionRegularly\n",
       "Critical                       -16.2401                   -16.24018\n",
       "Healthy                         67.2524                    67.25135\n",
       "         ExerciseFrequencyOften ExerciseFrequencyRarely\n",
       "Critical              -12.97737               -12.99831\n",
       "Healthy                53.81038                53.79546\n",
       "         ExerciseFrequencySometimes CholesterolLevel BloodPressureNumerator\n",
       "Critical                  -12.97714       0.01011635           0.0002066921\n",
       "Healthy                    53.80679      -0.01013303           0.0002240950\n",
       "         BloodPressureDenominator DiabetesYes HeartDiseaseYes\n",
       "Critical             0.0004244412   -21.64042        -21.6498\n",
       "Healthy              0.0006564083    89.67965         89.6662\n",
       "         PhysicalActivityLevelLow PhysicalActivityLevelMedium DietQualityGood\n",
       "Critical                -16.23808                   -16.23541       -16.23080\n",
       "Healthy                  67.25635                    67.25591        67.25116\n",
       "         DietQualityPoor MedicationAdherenceLow MedicationAdherenceMedium\n",
       "Critical       -16.23773              -16.23709                 -16.23343\n",
       "Healthy         67.26074               67.25172                  67.25808\n",
       "         AnnualCheckups GeneticRisk HealthcareCost Gender_Female Gender_Male\n",
       "Critical  -0.0018726073    367.3618   0.0001763784     -32.46755   -16.23513\n",
       "Healthy   -0.0003907795  -1536.2177  -0.0001810331     134.52567    67.26603\n",
       "         Gender_Other SmokingStatus_Current SmokingStatus_Former\n",
       "Critical    -16.23354             -32.44017            -16.24891\n",
       "Healthy      67.22856             134.52431             67.24978\n",
       "         SmokingStatus_Never AlcoholConsumption_Never\n",
       "Critical           -16.24715                -32.45595\n",
       "Healthy             67.24618                134.51652\n",
       "         AlcoholConsumption_Occasionally AlcoholConsumption_Regularly\n",
       "Critical                        -16.2401                    -16.24018\n",
       "Healthy                          67.2524                     67.25135\n",
       "         ExerciseFrequency_Never ExerciseFrequency_Often\n",
       "Critical                -25.9834               -12.97737\n",
       "Healthy                 107.6076                53.81038\n",
       "         ExerciseFrequency_Rarely ExerciseFrequency_Sometimes Diabetes_No\n",
       "Critical                -12.99831                   -12.97714    -43.2958\n",
       "Healthy                  53.79546                    53.80679    179.3406\n",
       "         Diabetes_Yes HeartDisease_No HeartDisease_Yes\n",
       "Critical    -21.64042       -43.28642         -21.6498\n",
       "Healthy      89.67965       179.35406          89.6662\n",
       "         PhysicalActivityLevel_High PhysicalActivityLevel_Low\n",
       "Critical                  -32.46274                 -16.23808\n",
       "Healthy                   134.50800                  67.25635\n",
       "         PhysicalActivityLevel_Medium DietQuality_Average DietQuality_Good\n",
       "Critical                    -16.23541           -32.46769        -16.23080\n",
       "Healthy                      67.25591           134.50837         67.25116\n",
       "         DietQuality_Poor MedicationAdherence_High MedicationAdherence_Low\n",
       "Critical        -16.23773                -32.46571               -16.23709\n",
       "Healthy          67.26074                134.51046                67.25172\n",
       "         MedicationAdherence_Medium\n",
       "Critical                  -16.23343\n",
       "Healthy                    67.25808\n",
       "\n",
       "Std. Errors:\n",
       "          (Intercept)    PatientID          Age   GenderMale  GenderOther\n",
       "Critical 3.052301e-07 9.045293e-08 1.852622e-05 1.468715e-07 7.083424e-09\n",
       "Healthy  2.784476e-07 8.150333e-08 1.720169e-05 1.350214e-07 6.574019e-09\n",
       "                  BMI SmokingStatusFormer SmokingStatusNever\n",
       "Critical 9.381275e-06        5.646858e-08       1.860092e-07\n",
       "Healthy  8.420554e-06        5.419017e-08       1.705448e-07\n",
       "         AlcoholConsumptionOccasionally AlcoholConsumptionRegularly\n",
       "Critical                   8.954795e-08                6.292527e-08\n",
       "Healthy                    8.492601e-08                5.926941e-08\n",
       "         ExerciseFrequencyOften ExerciseFrequencyRarely\n",
       "Critical           6.150972e-08            9.026728e-08\n",
       "Healthy            5.257093e-08            8.749168e-08\n",
       "         ExerciseFrequencySometimes CholesterolLevel BloodPressureNumerator\n",
       "Critical               9.979836e-08     0.0001013145           0.0001059483\n",
       "Healthy                8.741429e-08     0.0001016970           0.0001177619\n",
       "         BloodPressureDenominator  DiabetesYes HeartDiseaseYes\n",
       "Critical             3.846760e-05 4.501948e-08    3.050752e-08\n",
       "Healthy              3.877429e-05 3.997969e-08    2.873727e-08\n",
       "         PhysicalActivityLevelLow PhysicalActivityLevelMedium DietQualityGood\n",
       "Critical             1.220195e-07                1.218347e-07    6.265591e-08\n",
       "Healthy              1.126208e-07                1.107096e-07    5.745706e-08\n",
       "         DietQualityPoor MedicationAdherenceLow MedicationAdherenceMedium\n",
       "Critical    8.948750e-08           5.851975e-08              1.535106e-07\n",
       "Healthy     8.179289e-08           5.565894e-08              1.381662e-07\n",
       "         AnnualCheckups  GeneticRisk HealthcareCost Gender_Female  Gender_Male\n",
       "Critical   6.097760e-07 3.052301e-07   1.489133e-06  1.513645e-07 1.468715e-07\n",
       "Healthy    5.578551e-07 2.784476e-07   1.366461e-06  1.368563e-07 1.350214e-07\n",
       "         Gender_Other SmokingStatus_Current SmokingStatus_Former\n",
       "Critical 7.083424e-09          6.279554e-08         5.646858e-08\n",
       "Healthy  6.574019e-09          5.386647e-08         5.419017e-08\n",
       "         SmokingStatus_Never AlcoholConsumption_Never\n",
       "Critical        1.860092e-07             1.535290e-07\n",
       "Healthy         1.705448e-07             1.350107e-07\n",
       "         AlcoholConsumption_Occasionally AlcoholConsumption_Regularly\n",
       "Critical                    8.954795e-08                 6.292527e-08\n",
       "Healthy                     8.492601e-08                 5.926941e-08\n",
       "         ExerciseFrequency_Never ExerciseFrequency_Often\n",
       "Critical            5.630925e-08            6.150972e-08\n",
       "Healthy             5.484264e-08            5.257093e-08\n",
       "         ExerciseFrequency_Rarely ExerciseFrequency_Sometimes  Diabetes_No\n",
       "Critical             9.026728e-08                9.979836e-08 2.606076e-07\n",
       "Healthy              8.749168e-08                8.741429e-08 2.390120e-07\n",
       "         Diabetes_Yes HeartDisease_No HeartDisease_Yes\n",
       "Critical 4.501948e-08    2.747538e-07     3.050752e-08\n",
       "Healthy  3.997969e-08    2.497347e-07     2.873727e-08\n",
       "         PhysicalActivityLevel_High PhysicalActivityLevel_Low\n",
       "Critical               6.143643e-08              1.220195e-07\n",
       "Healthy                5.514859e-08              1.126208e-07\n",
       "         PhysicalActivityLevel_Medium DietQuality_Average DietQuality_Good\n",
       "Critical                 1.218347e-07        1.534246e-07     6.265591e-08\n",
       "Healthy                  1.107096e-07        1.396174e-07     5.745706e-08\n",
       "         DietQuality_Poor MedicationAdherence_High MedicationAdherence_Low\n",
       "Critical     8.948750e-08             9.332265e-08            5.851975e-08\n",
       "Healthy      8.179289e-08             8.490176e-08            5.565894e-08\n",
       "         MedicationAdherence_Medium\n",
       "Critical               1.535106e-07\n",
       "Healthy                1.381662e-07\n",
       "\n",
       "Residual Deviance: 264807 \n",
       "AIC: 264915 "
      ]
     },
     "metadata": {},
     "output_type": "display_data"
    }
   ],
   "source": [
    "summary(multi_log_model)"
   ]
  },
  {
   "cell_type": "code",
   "execution_count": 18,
   "metadata": {
    "vscode": {
     "languageId": "r"
    }
   },
   "outputs": [
    {
     "name": "stdout",
     "output_type": "stream",
     "text": [
      "Growing trees.. Progress: 91%. Estimated remaining time: 3 seconds.\n",
      "Ranger result\n",
      "\n",
      "Call:\n",
      " ranger(Outcome ~ ., data = health_data_log_reg, mtry = 3, num.trees = 100,      importance = \"impurity\") \n",
      "\n",
      "Type:                             Classification \n",
      "Number of trees:                  100 \n",
      "Sample size:                      300000 \n",
      "Number of independent variables:  44 \n",
      "Mtry:                             3 \n",
      "Target node size:                 1 \n",
      "Variable importance mode:         impurity \n",
      "Splitrule:                        gini \n",
      "OOB prediction error:             18.68 % \n"
     ]
    }
   ],
   "source": [
    "rand_forest_log <- ranger(\n",
    "  Outcome ~ ., \n",
    "  data = health_data_log_reg, \n",
    "  mtry = 3, \n",
    "  num.trees = 100, \n",
    "  importance = 'impurity'\n",
    ")\n",
    "print(rand_forest_log)\n",
    "\n"
   ]
  },
  {
   "cell_type": "code",
   "execution_count": 19,
   "metadata": {
    "vscode": {
     "languageId": "r"
    }
   },
   "outputs": [
    {
     "data": {
      "image/png": "[encoded data removed]",
      "text/plain": [
       "plot without title"
      ]
     },
     "metadata": {
      "image/png": {
       "height": 420,
       "width": 420
      }
     },
     "output_type": "display_data"
    }
   ],
   "source": [
    "importance_scores = rand_forest_log$variable.importance\n",
    "important_vars_df_log = data.frame(Variables = names(importance_scores),Score= importance_scores)\n",
    "\n",
    "ggplot(important_vars_df_log, aes(x = reorder(Variables, Score), y = Score)) +\n",
    "  geom_bar(stat = \"identity\") +\n",
    "  coord_flip() +\n",
    "  labs(title = \"Variable Importance\",\n",
    "       x = \"Feature\",\n",
    "       y = \"Importance\") +\n",
    "  theme_minimal()"
   ]
  },
  {
   "cell_type": "markdown",
   "metadata": {},
   "source": [
    "Elastic Net"
   ]
  },
  {
   "cell_type": "code",
   "execution_count": 17,
   "metadata": {
    "vscode": {
     "languageId": "r"
    }
   },
   "outputs": [
    {
     "name": "stderr",
     "output_type": "stream",
     "text": [
      "Loading required package: Matrix\n",
      "\n",
      "\n",
      "Attaching package: 'Matrix'\n",
      "\n",
      "\n",
      "The following objects are masked from 'package:tidyr':\n",
      "\n",
      "    expand, pack, unpack\n",
      "\n",
      "\n",
      "Loaded glmnet 4.1-8\n",
      "\n",
      "\n",
      "Attaching package: 'MASS'\n",
      "\n",
      "\n",
      "The following object is masked from 'package:dplyr':\n",
      "\n",
      "    select\n",
      "\n",
      "\n",
      "Loading required package: lattice\n",
      "\n"
     ]
    }
   ],
   "source": [
    "library(glmnet)\n",
    "library(MASS)\n",
    "library(caret)"
   ]
  },
  {
   "cell_type": "code",
   "execution_count": 18,
   "metadata": {
    "vscode": {
     "languageId": "r"
    }
   },
   "outputs": [
    {
     "name": "stdout",
     "output_type": "stream",
     "text": [
      "+ Fold01.Rep1: alpha=0.0000, lambda=0.2 \n",
      "- Fold01.Rep1: alpha=0.0000, lambda=0.2 \n",
      "+ Fold01.Rep1: alpha=0.1111, lambda=0.2 \n",
      "- Fold01.Rep1: alpha=0.1111, lambda=0.2 \n",
      "+ Fold01.Rep1: alpha=0.2222, lambda=0.2 \n",
      "- Fold01.Rep1: alpha=0.2222, lambda=0.2 \n",
      "+ Fold01.Rep1: alpha=0.3333, lambda=0.2 \n",
      "- Fold01.Rep1: alpha=0.3333, lambda=0.2 \n",
      "+ Fold01.Rep1: alpha=0.4444, lambda=0.2 \n",
      "- Fold01.Rep1: alpha=0.4444, lambda=0.2 \n",
      "+ Fold01.Rep1: alpha=0.5556, lambda=0.2 \n",
      "- Fold01.Rep1: alpha=0.5556, lambda=0.2 \n",
      "+ Fold01.Rep1: alpha=0.6667, lambda=0.2 \n",
      "- Fold01.Rep1: alpha=0.6667, lambda=0.2 \n",
      "+ Fold01.Rep1: alpha=0.7778, lambda=0.2 \n",
      "- Fold01.Rep1: alpha=0.7778, lambda=0.2 \n",
      "+ Fold01.Rep1: alpha=0.8889, lambda=0.2 \n",
      "- Fold01.Rep1: alpha=0.8889, lambda=0.2 \n",
      "+ Fold01.Rep1: alpha=1.0000, lambda=0.2 \n",
      "- Fold01.Rep1: alpha=1.0000, lambda=0.2 \n",
      "+ Fold02.Rep1: alpha=0.0000, lambda=0.2 \n",
      "- Fold02.Rep1: alpha=0.0000, lambda=0.2 \n",
      "+ Fold02.Rep1: alpha=0.1111, lambda=0.2 \n",
      "- Fold02.Rep1: alpha=0.1111, lambda=0.2 \n",
      "+ Fold02.Rep1: alpha=0.2222, lambda=0.2 \n",
      "- Fold02.Rep1: alpha=0.2222, lambda=0.2 \n",
      "+ Fold02.Rep1: alpha=0.3333, lambda=0.2 \n",
      "- Fold02.Rep1: alpha=0.3333, lambda=0.2 \n",
      "+ Fold02.Rep1: alpha=0.4444, lambda=0.2 \n",
      "- Fold02.Rep1: alpha=0.4444, lambda=0.2 \n",
      "+ Fold02.Rep1: alpha=0.5556, lambda=0.2 \n",
      "- Fold02.Rep1: alpha=0.5556, lambda=0.2 \n",
      "+ Fold02.Rep1: alpha=0.6667, lambda=0.2 \n",
      "- Fold02.Rep1: alpha=0.6667, lambda=0.2 \n",
      "+ Fold02.Rep1: alpha=0.7778, lambda=0.2 \n",
      "- Fold02.Rep1: alpha=0.7778, lambda=0.2 \n",
      "+ Fold02.Rep1: alpha=0.8889, lambda=0.2 \n",
      "- Fold02.Rep1: alpha=0.8889, lambda=0.2 \n",
      "+ Fold02.Rep1: alpha=1.0000, lambda=0.2 \n",
      "- Fold02.Rep1: alpha=1.0000, lambda=0.2 \n",
      "+ Fold03.Rep1: alpha=0.0000, lambda=0.2 \n",
      "- Fold03.Rep1: alpha=0.0000, lambda=0.2 \n",
      "+ Fold03.Rep1: alpha=0.1111, lambda=0.2 \n",
      "- Fold03.Rep1: alpha=0.1111, lambda=0.2 \n",
      "+ Fold03.Rep1: alpha=0.2222, lambda=0.2 \n",
      "- Fold03.Rep1: alpha=0.2222, lambda=0.2 \n",
      "+ Fold03.Rep1: alpha=0.3333, lambda=0.2 \n",
      "- Fold03.Rep1: alpha=0.3333, lambda=0.2 \n",
      "+ Fold03.Rep1: alpha=0.4444, lambda=0.2 \n",
      "- Fold03.Rep1: alpha=0.4444, lambda=0.2 \n",
      "+ Fold03.Rep1: alpha=0.5556, lambda=0.2 \n",
      "- Fold03.Rep1: alpha=0.5556, lambda=0.2 \n",
      "+ Fold03.Rep1: alpha=0.6667, lambda=0.2 \n",
      "- Fold03.Rep1: alpha=0.6667, lambda=0.2 \n",
      "+ Fold03.Rep1: alpha=0.7778, lambda=0.2 \n",
      "- Fold03.Rep1: alpha=0.7778, lambda=0.2 \n",
      "+ Fold03.Rep1: alpha=0.8889, lambda=0.2 \n",
      "- Fold03.Rep1: alpha=0.8889, lambda=0.2 \n",
      "+ Fold03.Rep1: alpha=1.0000, lambda=0.2 \n",
      "- Fold03.Rep1: alpha=1.0000, lambda=0.2 \n",
      "+ Fold04.Rep1: alpha=0.0000, lambda=0.2 \n",
      "- Fold04.Rep1: alpha=0.0000, lambda=0.2 \n",
      "+ Fold04.Rep1: alpha=0.1111, lambda=0.2 \n",
      "- Fold04.Rep1: alpha=0.1111, lambda=0.2 \n",
      "+ Fold04.Rep1: alpha=0.2222, lambda=0.2 \n",
      "- Fold04.Rep1: alpha=0.2222, lambda=0.2 \n",
      "+ Fold04.Rep1: alpha=0.3333, lambda=0.2 \n",
      "- Fold04.Rep1: alpha=0.3333, lambda=0.2 \n",
      "+ Fold04.Rep1: alpha=0.4444, lambda=0.2 \n",
      "- Fold04.Rep1: alpha=0.4444, lambda=0.2 \n",
      "+ Fold04.Rep1: alpha=0.5556, lambda=0.2 \n",
      "- Fold04.Rep1: alpha=0.5556, lambda=0.2 \n",
      "+ Fold04.Rep1: alpha=0.6667, lambda=0.2 \n",
      "- Fold04.Rep1: alpha=0.6667, lambda=0.2 \n",
      "+ Fold04.Rep1: alpha=0.7778, lambda=0.2 \n",
      "- Fold04.Rep1: alpha=0.7778, lambda=0.2 \n",
      "+ Fold04.Rep1: alpha=0.8889, lambda=0.2 \n",
      "- Fold04.Rep1: alpha=0.8889, lambda=0.2 \n",
      "+ Fold04.Rep1: alpha=1.0000, lambda=0.2 \n",
      "- Fold04.Rep1: alpha=1.0000, lambda=0.2 \n",
      "+ Fold05.Rep1: alpha=0.0000, lambda=0.2 \n",
      "- Fold05.Rep1: alpha=0.0000, lambda=0.2 \n",
      "+ Fold05.Rep1: alpha=0.1111, lambda=0.2 \n",
      "- Fold05.Rep1: alpha=0.1111, lambda=0.2 \n",
      "+ Fold05.Rep1: alpha=0.2222, lambda=0.2 \n",
      "- Fold05.Rep1: alpha=0.2222, lambda=0.2 \n",
      "+ Fold05.Rep1: alpha=0.3333, lambda=0.2 \n",
      "- Fold05.Rep1: alpha=0.3333, lambda=0.2 \n",
      "+ Fold05.Rep1: alpha=0.4444, lambda=0.2 \n",
      "- Fold05.Rep1: alpha=0.4444, lambda=0.2 \n",
      "+ Fold05.Rep1: alpha=0.5556, lambda=0.2 \n",
      "- Fold05.Rep1: alpha=0.5556, lambda=0.2 \n",
      "+ Fold05.Rep1: alpha=0.6667, lambda=0.2 \n",
      "- Fold05.Rep1: alpha=0.6667, lambda=0.2 \n",
      "+ Fold05.Rep1: alpha=0.7778, lambda=0.2 \n",
      "- Fold05.Rep1: alpha=0.7778, lambda=0.2 \n",
      "+ Fold05.Rep1: alpha=0.8889, lambda=0.2 \n",
      "- Fold05.Rep1: alpha=0.8889, lambda=0.2 \n",
      "+ Fold05.Rep1: alpha=1.0000, lambda=0.2 \n",
      "- Fold05.Rep1: alpha=1.0000, lambda=0.2 \n",
      "+ Fold06.Rep1: alpha=0.0000, lambda=0.2 \n",
      "- Fold06.Rep1: alpha=0.0000, lambda=0.2 \n",
      "+ Fold06.Rep1: alpha=0.1111, lambda=0.2 \n",
      "- Fold06.Rep1: alpha=0.1111, lambda=0.2 \n",
      "+ Fold06.Rep1: alpha=0.2222, lambda=0.2 \n",
      "- Fold06.Rep1: alpha=0.2222, lambda=0.2 \n",
      "+ Fold06.Rep1: alpha=0.3333, lambda=0.2 \n",
      "- Fold06.Rep1: alpha=0.3333, lambda=0.2 \n",
      "+ Fold06.Rep1: alpha=0.4444, lambda=0.2 \n",
      "- Fold06.Rep1: alpha=0.4444, lambda=0.2 \n",
      "+ Fold06.Rep1: alpha=0.5556, lambda=0.2 \n",
      "- Fold06.Rep1: alpha=0.5556, lambda=0.2 \n",
      "+ Fold06.Rep1: alpha=0.6667, lambda=0.2 \n",
      "- Fold06.Rep1: alpha=0.6667, lambda=0.2 \n",
      "+ Fold06.Rep1: alpha=0.7778, lambda=0.2 \n",
      "- Fold06.Rep1: alpha=0.7778, lambda=0.2 \n",
      "+ Fold06.Rep1: alpha=0.8889, lambda=0.2 \n",
      "- Fold06.Rep1: alpha=0.8889, lambda=0.2 \n",
      "+ Fold06.Rep1: alpha=1.0000, lambda=0.2 \n",
      "- Fold06.Rep1: alpha=1.0000, lambda=0.2 \n",
      "+ Fold07.Rep1: alpha=0.0000, lambda=0.2 \n",
      "- Fold07.Rep1: alpha=0.0000, lambda=0.2 \n",
      "+ Fold07.Rep1: alpha=0.1111, lambda=0.2 \n",
      "- Fold07.Rep1: alpha=0.1111, lambda=0.2 \n",
      "+ Fold07.Rep1: alpha=0.2222, lambda=0.2 \n",
      "- Fold07.Rep1: alpha=0.2222, lambda=0.2 \n",
      "+ Fold07.Rep1: alpha=0.3333, lambda=0.2 \n",
      "- Fold07.Rep1: alpha=0.3333, lambda=0.2 \n",
      "+ Fold07.Rep1: alpha=0.4444, lambda=0.2 \n",
      "- Fold07.Rep1: alpha=0.4444, lambda=0.2 \n",
      "+ Fold07.Rep1: alpha=0.5556, lambda=0.2 \n",
      "- Fold07.Rep1: alpha=0.5556, lambda=0.2 \n",
      "+ Fold07.Rep1: alpha=0.6667, lambda=0.2 \n",
      "- Fold07.Rep1: alpha=0.6667, lambda=0.2 \n",
      "+ Fold07.Rep1: alpha=0.7778, lambda=0.2 \n",
      "- Fold07.Rep1: alpha=0.7778, lambda=0.2 \n",
      "+ Fold07.Rep1: alpha=0.8889, lambda=0.2 \n",
      "- Fold07.Rep1: alpha=0.8889, lambda=0.2 \n",
      "+ Fold07.Rep1: alpha=1.0000, lambda=0.2 \n",
      "- Fold07.Rep1: alpha=1.0000, lambda=0.2 \n",
      "+ Fold08.Rep1: alpha=0.0000, lambda=0.2 \n",
      "- Fold08.Rep1: alpha=0.0000, lambda=0.2 \n",
      "+ Fold08.Rep1: alpha=0.1111, lambda=0.2 \n",
      "- Fold08.Rep1: alpha=0.1111, lambda=0.2 \n",
      "+ Fold08.Rep1: alpha=0.2222, lambda=0.2 \n",
      "- Fold08.Rep1: alpha=0.2222, lambda=0.2 \n",
      "+ Fold08.Rep1: alpha=0.3333, lambda=0.2 \n",
      "- Fold08.Rep1: alpha=0.3333, lambda=0.2 \n",
      "+ Fold08.Rep1: alpha=0.4444, lambda=0.2 \n",
      "- Fold08.Rep1: alpha=0.4444, lambda=0.2 \n",
      "+ Fold08.Rep1: alpha=0.5556, lambda=0.2 \n",
      "- Fold08.Rep1: alpha=0.5556, lambda=0.2 \n",
      "+ Fold08.Rep1: alpha=0.6667, lambda=0.2 \n",
      "- Fold08.Rep1: alpha=0.6667, lambda=0.2 \n",
      "+ Fold08.Rep1: alpha=0.7778, lambda=0.2 \n",
      "- Fold08.Rep1: alpha=0.7778, lambda=0.2 \n",
      "+ Fold08.Rep1: alpha=0.8889, lambda=0.2 \n",
      "- Fold08.Rep1: alpha=0.8889, lambda=0.2 \n",
      "+ Fold08.Rep1: alpha=1.0000, lambda=0.2 \n",
      "- Fold08.Rep1: alpha=1.0000, lambda=0.2 \n",
      "+ Fold09.Rep1: alpha=0.0000, lambda=0.2 \n",
      "- Fold09.Rep1: alpha=0.0000, lambda=0.2 \n",
      "+ Fold09.Rep1: alpha=0.1111, lambda=0.2 \n",
      "- Fold09.Rep1: alpha=0.1111, lambda=0.2 \n",
      "+ Fold09.Rep1: alpha=0.2222, lambda=0.2 \n",
      "- Fold09.Rep1: alpha=0.2222, lambda=0.2 \n",
      "+ Fold09.Rep1: alpha=0.3333, lambda=0.2 \n",
      "- Fold09.Rep1: alpha=0.3333, lambda=0.2 \n",
      "+ Fold09.Rep1: alpha=0.4444, lambda=0.2 \n",
      "- Fold09.Rep1: alpha=0.4444, lambda=0.2 \n",
      "+ Fold09.Rep1: alpha=0.5556, lambda=0.2 \n",
      "- Fold09.Rep1: alpha=0.5556, lambda=0.2 \n",
      "+ Fold09.Rep1: alpha=0.6667, lambda=0.2 \n",
      "- Fold09.Rep1: alpha=0.6667, lambda=0.2 \n",
      "+ Fold09.Rep1: alpha=0.7778, lambda=0.2 \n",
      "- Fold09.Rep1: alpha=0.7778, lambda=0.2 \n",
      "+ Fold09.Rep1: alpha=0.8889, lambda=0.2 \n",
      "- Fold09.Rep1: alpha=0.8889, lambda=0.2 \n",
      "+ Fold09.Rep1: alpha=1.0000, lambda=0.2 \n",
      "- Fold09.Rep1: alpha=1.0000, lambda=0.2 \n",
      "+ Fold10.Rep1: alpha=0.0000, lambda=0.2 \n",
      "- Fold10.Rep1: alpha=0.0000, lambda=0.2 \n",
      "+ Fold10.Rep1: alpha=0.1111, lambda=0.2 \n",
      "- Fold10.Rep1: alpha=0.1111, lambda=0.2 \n",
      "+ Fold10.Rep1: alpha=0.2222, lambda=0.2 \n",
      "- Fold10.Rep1: alpha=0.2222, lambda=0.2 \n",
      "+ Fold10.Rep1: alpha=0.3333, lambda=0.2 \n",
      "- Fold10.Rep1: alpha=0.3333, lambda=0.2 \n",
      "+ Fold10.Rep1: alpha=0.4444, lambda=0.2 \n",
      "- Fold10.Rep1: alpha=0.4444, lambda=0.2 \n",
      "+ Fold10.Rep1: alpha=0.5556, lambda=0.2 \n",
      "- Fold10.Rep1: alpha=0.5556, lambda=0.2 \n",
      "+ Fold10.Rep1: alpha=0.6667, lambda=0.2 \n",
      "- Fold10.Rep1: alpha=0.6667, lambda=0.2 \n",
      "+ Fold10.Rep1: alpha=0.7778, lambda=0.2 \n",
      "- Fold10.Rep1: alpha=0.7778, lambda=0.2 \n",
      "+ Fold10.Rep1: alpha=0.8889, lambda=0.2 \n",
      "- Fold10.Rep1: alpha=0.8889, lambda=0.2 \n",
      "+ Fold10.Rep1: alpha=1.0000, lambda=0.2 \n",
      "- Fold10.Rep1: alpha=1.0000, lambda=0.2 \n",
      "+ Fold01.Rep2: alpha=0.0000, lambda=0.2 \n",
      "- Fold01.Rep2: alpha=0.0000, lambda=0.2 \n",
      "+ Fold01.Rep2: alpha=0.1111, lambda=0.2 \n",
      "- Fold01.Rep2: alpha=0.1111, lambda=0.2 \n",
      "+ Fold01.Rep2: alpha=0.2222, lambda=0.2 \n",
      "- Fold01.Rep2: alpha=0.2222, lambda=0.2 \n",
      "+ Fold01.Rep2: alpha=0.3333, lambda=0.2 \n",
      "- Fold01.Rep2: alpha=0.3333, lambda=0.2 \n",
      "+ Fold01.Rep2: alpha=0.4444, lambda=0.2 \n",
      "- Fold01.Rep2: alpha=0.4444, lambda=0.2 \n",
      "+ Fold01.Rep2: alpha=0.5556, lambda=0.2 \n",
      "- Fold01.Rep2: alpha=0.5556, lambda=0.2 \n",
      "+ Fold01.Rep2: alpha=0.6667, lambda=0.2 \n",
      "- Fold01.Rep2: alpha=0.6667, lambda=0.2 \n",
      "+ Fold01.Rep2: alpha=0.7778, lambda=0.2 \n",
      "- Fold01.Rep2: alpha=0.7778, lambda=0.2 \n",
      "+ Fold01.Rep2: alpha=0.8889, lambda=0.2 \n",
      "- Fold01.Rep2: alpha=0.8889, lambda=0.2 \n",
      "+ Fold01.Rep2: alpha=1.0000, lambda=0.2 \n",
      "- Fold01.Rep2: alpha=1.0000, lambda=0.2 \n",
      "+ Fold02.Rep2: alpha=0.0000, lambda=0.2 \n",
      "- Fold02.Rep2: alpha=0.0000, lambda=0.2 \n",
      "+ Fold02.Rep2: alpha=0.1111, lambda=0.2 \n",
      "- Fold02.Rep2: alpha=0.1111, lambda=0.2 \n",
      "+ Fold02.Rep2: alpha=0.2222, lambda=0.2 \n",
      "- Fold02.Rep2: alpha=0.2222, lambda=0.2 \n",
      "+ Fold02.Rep2: alpha=0.3333, lambda=0.2 \n",
      "- Fold02.Rep2: alpha=0.3333, lambda=0.2 \n",
      "+ Fold02.Rep2: alpha=0.4444, lambda=0.2 \n",
      "- Fold02.Rep2: alpha=0.4444, lambda=0.2 \n",
      "+ Fold02.Rep2: alpha=0.5556, lambda=0.2 \n",
      "- Fold02.Rep2: alpha=0.5556, lambda=0.2 \n",
      "+ Fold02.Rep2: alpha=0.6667, lambda=0.2 \n",
      "- Fold02.Rep2: alpha=0.6667, lambda=0.2 \n",
      "+ Fold02.Rep2: alpha=0.7778, lambda=0.2 \n",
      "- Fold02.Rep2: alpha=0.7778, lambda=0.2 \n",
      "+ Fold02.Rep2: alpha=0.8889, lambda=0.2 \n",
      "- Fold02.Rep2: alpha=0.8889, lambda=0.2 \n",
      "+ Fold02.Rep2: alpha=1.0000, lambda=0.2 \n",
      "- Fold02.Rep2: alpha=1.0000, lambda=0.2 \n",
      "+ Fold03.Rep2: alpha=0.0000, lambda=0.2 \n",
      "- Fold03.Rep2: alpha=0.0000, lambda=0.2 \n",
      "+ Fold03.Rep2: alpha=0.1111, lambda=0.2 \n",
      "- Fold03.Rep2: alpha=0.1111, lambda=0.2 \n",
      "+ Fold03.Rep2: alpha=0.2222, lambda=0.2 \n",
      "- Fold03.Rep2: alpha=0.2222, lambda=0.2 \n",
      "+ Fold03.Rep2: alpha=0.3333, lambda=0.2 \n",
      "- Fold03.Rep2: alpha=0.3333, lambda=0.2 \n",
      "+ Fold03.Rep2: alpha=0.4444, lambda=0.2 \n",
      "- Fold03.Rep2: alpha=0.4444, lambda=0.2 \n",
      "+ Fold03.Rep2: alpha=0.5556, lambda=0.2 \n",
      "- Fold03.Rep2: alpha=0.5556, lambda=0.2 \n",
      "+ Fold03.Rep2: alpha=0.6667, lambda=0.2 \n",
      "- Fold03.Rep2: alpha=0.6667, lambda=0.2 \n",
      "+ Fold03.Rep2: alpha=0.7778, lambda=0.2 \n",
      "- Fold03.Rep2: alpha=0.7778, lambda=0.2 \n",
      "+ Fold03.Rep2: alpha=0.8889, lambda=0.2 \n",
      "- Fold03.Rep2: alpha=0.8889, lambda=0.2 \n",
      "+ Fold03.Rep2: alpha=1.0000, lambda=0.2 \n",
      "- Fold03.Rep2: alpha=1.0000, lambda=0.2 \n",
      "+ Fold04.Rep2: alpha=0.0000, lambda=0.2 \n",
      "- Fold04.Rep2: alpha=0.0000, lambda=0.2 \n",
      "+ Fold04.Rep2: alpha=0.1111, lambda=0.2 \n",
      "- Fold04.Rep2: alpha=0.1111, lambda=0.2 \n",
      "+ Fold04.Rep2: alpha=0.2222, lambda=0.2 \n",
      "- Fold04.Rep2: alpha=0.2222, lambda=0.2 \n",
      "+ Fold04.Rep2: alpha=0.3333, lambda=0.2 \n",
      "- Fold04.Rep2: alpha=0.3333, lambda=0.2 \n",
      "+ Fold04.Rep2: alpha=0.4444, lambda=0.2 \n",
      "- Fold04.Rep2: alpha=0.4444, lambda=0.2 \n",
      "+ Fold04.Rep2: alpha=0.5556, lambda=0.2 \n",
      "- Fold04.Rep2: alpha=0.5556, lambda=0.2 \n",
      "+ Fold04.Rep2: alpha=0.6667, lambda=0.2 \n",
      "- Fold04.Rep2: alpha=0.6667, lambda=0.2 \n",
      "+ Fold04.Rep2: alpha=0.7778, lambda=0.2 \n",
      "- Fold04.Rep2: alpha=0.7778, lambda=0.2 \n",
      "+ Fold04.Rep2: alpha=0.8889, lambda=0.2 \n",
      "- Fold04.Rep2: alpha=0.8889, lambda=0.2 \n",
      "+ Fold04.Rep2: alpha=1.0000, lambda=0.2 \n",
      "- Fold04.Rep2: alpha=1.0000, lambda=0.2 \n",
      "+ Fold05.Rep2: alpha=0.0000, lambda=0.2 \n",
      "- Fold05.Rep2: alpha=0.0000, lambda=0.2 \n",
      "+ Fold05.Rep2: alpha=0.1111, lambda=0.2 \n",
      "- Fold05.Rep2: alpha=0.1111, lambda=0.2 \n",
      "+ Fold05.Rep2: alpha=0.2222, lambda=0.2 \n",
      "- Fold05.Rep2: alpha=0.2222, lambda=0.2 \n",
      "+ Fold05.Rep2: alpha=0.3333, lambda=0.2 \n",
      "- Fold05.Rep2: alpha=0.3333, lambda=0.2 \n",
      "+ Fold05.Rep2: alpha=0.4444, lambda=0.2 \n",
      "- Fold05.Rep2: alpha=0.4444, lambda=0.2 \n",
      "+ Fold05.Rep2: alpha=0.5556, lambda=0.2 \n",
      "- Fold05.Rep2: alpha=0.5556, lambda=0.2 \n",
      "+ Fold05.Rep2: alpha=0.6667, lambda=0.2 \n",
      "- Fold05.Rep2: alpha=0.6667, lambda=0.2 \n",
      "+ Fold05.Rep2: alpha=0.7778, lambda=0.2 \n",
      "- Fold05.Rep2: alpha=0.7778, lambda=0.2 \n",
      "+ Fold05.Rep2: alpha=0.8889, lambda=0.2 \n",
      "- Fold05.Rep2: alpha=0.8889, lambda=0.2 \n",
      "+ Fold05.Rep2: alpha=1.0000, lambda=0.2 \n",
      "- Fold05.Rep2: alpha=1.0000, lambda=0.2 \n",
      "+ Fold06.Rep2: alpha=0.0000, lambda=0.2 \n",
      "- Fold06.Rep2: alpha=0.0000, lambda=0.2 \n",
      "+ Fold06.Rep2: alpha=0.1111, lambda=0.2 \n",
      "- Fold06.Rep2: alpha=0.1111, lambda=0.2 \n",
      "+ Fold06.Rep2: alpha=0.2222, lambda=0.2 \n",
      "- Fold06.Rep2: alpha=0.2222, lambda=0.2 \n",
      "+ Fold06.Rep2: alpha=0.3333, lambda=0.2 \n",
      "- Fold06.Rep2: alpha=0.3333, lambda=0.2 \n",
      "+ Fold06.Rep2: alpha=0.4444, lambda=0.2 \n",
      "- Fold06.Rep2: alpha=0.4444, lambda=0.2 \n",
      "+ Fold06.Rep2: alpha=0.5556, lambda=0.2 \n",
      "- Fold06.Rep2: alpha=0.5556, lambda=0.2 \n",
      "+ Fold06.Rep2: alpha=0.6667, lambda=0.2 \n",
      "- Fold06.Rep2: alpha=0.6667, lambda=0.2 \n",
      "+ Fold06.Rep2: alpha=0.7778, lambda=0.2 \n",
      "- Fold06.Rep2: alpha=0.7778, lambda=0.2 \n",
      "+ Fold06.Rep2: alpha=0.8889, lambda=0.2 \n",
      "- Fold06.Rep2: alpha=0.8889, lambda=0.2 \n",
      "+ Fold06.Rep2: alpha=1.0000, lambda=0.2 \n",
      "- Fold06.Rep2: alpha=1.0000, lambda=0.2 \n",
      "+ Fold07.Rep2: alpha=0.0000, lambda=0.2 \n",
      "- Fold07.Rep2: alpha=0.0000, lambda=0.2 \n",
      "+ Fold07.Rep2: alpha=0.1111, lambda=0.2 \n",
      "- Fold07.Rep2: alpha=0.1111, lambda=0.2 \n",
      "+ Fold07.Rep2: alpha=0.2222, lambda=0.2 \n",
      "- Fold07.Rep2: alpha=0.2222, lambda=0.2 \n",
      "+ Fold07.Rep2: alpha=0.3333, lambda=0.2 \n",
      "- Fold07.Rep2: alpha=0.3333, lambda=0.2 \n",
      "+ Fold07.Rep2: alpha=0.4444, lambda=0.2 \n",
      "- Fold07.Rep2: alpha=0.4444, lambda=0.2 \n",
      "+ Fold07.Rep2: alpha=0.5556, lambda=0.2 \n",
      "- Fold07.Rep2: alpha=0.5556, lambda=0.2 \n",
      "+ Fold07.Rep2: alpha=0.6667, lambda=0.2 \n",
      "- Fold07.Rep2: alpha=0.6667, lambda=0.2 \n",
      "+ Fold07.Rep2: alpha=0.7778, lambda=0.2 \n",
      "- Fold07.Rep2: alpha=0.7778, lambda=0.2 \n",
      "+ Fold07.Rep2: alpha=0.8889, lambda=0.2 \n",
      "- Fold07.Rep2: alpha=0.8889, lambda=0.2 \n",
      "+ Fold07.Rep2: alpha=1.0000, lambda=0.2 \n",
      "- Fold07.Rep2: alpha=1.0000, lambda=0.2 \n",
      "+ Fold08.Rep2: alpha=0.0000, lambda=0.2 \n",
      "- Fold08.Rep2: alpha=0.0000, lambda=0.2 \n",
      "+ Fold08.Rep2: alpha=0.1111, lambda=0.2 \n",
      "- Fold08.Rep2: alpha=0.1111, lambda=0.2 \n",
      "+ Fold08.Rep2: alpha=0.2222, lambda=0.2 \n",
      "- Fold08.Rep2: alpha=0.2222, lambda=0.2 \n",
      "+ Fold08.Rep2: alpha=0.3333, lambda=0.2 \n",
      "- Fold08.Rep2: alpha=0.3333, lambda=0.2 \n",
      "+ Fold08.Rep2: alpha=0.4444, lambda=0.2 \n",
      "- Fold08.Rep2: alpha=0.4444, lambda=0.2 \n",
      "+ Fold08.Rep2: alpha=0.5556, lambda=0.2 \n",
      "- Fold08.Rep2: alpha=0.5556, lambda=0.2 \n",
      "+ Fold08.Rep2: alpha=0.6667, lambda=0.2 \n",
      "- Fold08.Rep2: alpha=0.6667, lambda=0.2 \n",
      "+ Fold08.Rep2: alpha=0.7778, lambda=0.2 \n",
      "- Fold08.Rep2: alpha=0.7778, lambda=0.2 \n",
      "+ Fold08.Rep2: alpha=0.8889, lambda=0.2 \n",
      "- Fold08.Rep2: alpha=0.8889, lambda=0.2 \n",
      "+ Fold08.Rep2: alpha=1.0000, lambda=0.2 \n",
      "- Fold08.Rep2: alpha=1.0000, lambda=0.2 \n",
      "+ Fold09.Rep2: alpha=0.0000, lambda=0.2 \n",
      "- Fold09.Rep2: alpha=0.0000, lambda=0.2 \n",
      "+ Fold09.Rep2: alpha=0.1111, lambda=0.2 \n",
      "- Fold09.Rep2: alpha=0.1111, lambda=0.2 \n",
      "+ Fold09.Rep2: alpha=0.2222, lambda=0.2 \n",
      "- Fold09.Rep2: alpha=0.2222, lambda=0.2 \n",
      "+ Fold09.Rep2: alpha=0.3333, lambda=0.2 \n",
      "- Fold09.Rep2: alpha=0.3333, lambda=0.2 \n",
      "+ Fold09.Rep2: alpha=0.4444, lambda=0.2 \n",
      "- Fold09.Rep2: alpha=0.4444, lambda=0.2 \n",
      "+ Fold09.Rep2: alpha=0.5556, lambda=0.2 \n",
      "- Fold09.Rep2: alpha=0.5556, lambda=0.2 \n",
      "+ Fold09.Rep2: alpha=0.6667, lambda=0.2 \n",
      "- Fold09.Rep2: alpha=0.6667, lambda=0.2 \n",
      "+ Fold09.Rep2: alpha=0.7778, lambda=0.2 \n",
      "- Fold09.Rep2: alpha=0.7778, lambda=0.2 \n",
      "+ Fold09.Rep2: alpha=0.8889, lambda=0.2 \n",
      "- Fold09.Rep2: alpha=0.8889, lambda=0.2 \n",
      "+ Fold09.Rep2: alpha=1.0000, lambda=0.2 \n",
      "- Fold09.Rep2: alpha=1.0000, lambda=0.2 \n",
      "+ Fold10.Rep2: alpha=0.0000, lambda=0.2 \n",
      "- Fold10.Rep2: alpha=0.0000, lambda=0.2 \n",
      "+ Fold10.Rep2: alpha=0.1111, lambda=0.2 \n",
      "- Fold10.Rep2: alpha=0.1111, lambda=0.2 \n",
      "+ Fold10.Rep2: alpha=0.2222, lambda=0.2 \n",
      "- Fold10.Rep2: alpha=0.2222, lambda=0.2 \n",
      "+ Fold10.Rep2: alpha=0.3333, lambda=0.2 \n",
      "- Fold10.Rep2: alpha=0.3333, lambda=0.2 \n",
      "+ Fold10.Rep2: alpha=0.4444, lambda=0.2 \n",
      "- Fold10.Rep2: alpha=0.4444, lambda=0.2 \n",
      "+ Fold10.Rep2: alpha=0.5556, lambda=0.2 \n",
      "- Fold10.Rep2: alpha=0.5556, lambda=0.2 \n",
      "+ Fold10.Rep2: alpha=0.6667, lambda=0.2 \n",
      "- Fold10.Rep2: alpha=0.6667, lambda=0.2 \n",
      "+ Fold10.Rep2: alpha=0.7778, lambda=0.2 \n",
      "- Fold10.Rep2: alpha=0.7778, lambda=0.2 \n",
      "+ Fold10.Rep2: alpha=0.8889, lambda=0.2 \n",
      "- Fold10.Rep2: alpha=0.8889, lambda=0.2 \n",
      "+ Fold10.Rep2: alpha=1.0000, lambda=0.2 \n",
      "- Fold10.Rep2: alpha=1.0000, lambda=0.2 \n",
      "+ Fold01.Rep3: alpha=0.0000, lambda=0.2 \n",
      "- Fold01.Rep3: alpha=0.0000, lambda=0.2 \n",
      "+ Fold01.Rep3: alpha=0.1111, lambda=0.2 \n",
      "- Fold01.Rep3: alpha=0.1111, lambda=0.2 \n",
      "+ Fold01.Rep3: alpha=0.2222, lambda=0.2 \n",
      "- Fold01.Rep3: alpha=0.2222, lambda=0.2 \n",
      "+ Fold01.Rep3: alpha=0.3333, lambda=0.2 \n",
      "- Fold01.Rep3: alpha=0.3333, lambda=0.2 \n",
      "+ Fold01.Rep3: alpha=0.4444, lambda=0.2 \n",
      "- Fold01.Rep3: alpha=0.4444, lambda=0.2 \n",
      "+ Fold01.Rep3: alpha=0.5556, lambda=0.2 \n",
      "- Fold01.Rep3: alpha=0.5556, lambda=0.2 \n",
      "+ Fold01.Rep3: alpha=0.6667, lambda=0.2 \n",
      "- Fold01.Rep3: alpha=0.6667, lambda=0.2 \n",
      "+ Fold01.Rep3: alpha=0.7778, lambda=0.2 \n",
      "- Fold01.Rep3: alpha=0.7778, lambda=0.2 \n",
      "+ Fold01.Rep3: alpha=0.8889, lambda=0.2 \n",
      "- Fold01.Rep3: alpha=0.8889, lambda=0.2 \n",
      "+ Fold01.Rep3: alpha=1.0000, lambda=0.2 \n",
      "- Fold01.Rep3: alpha=1.0000, lambda=0.2 \n",
      "+ Fold02.Rep3: alpha=0.0000, lambda=0.2 \n",
      "- Fold02.Rep3: alpha=0.0000, lambda=0.2 \n",
      "+ Fold02.Rep3: alpha=0.1111, lambda=0.2 \n",
      "- Fold02.Rep3: alpha=0.1111, lambda=0.2 \n",
      "+ Fold02.Rep3: alpha=0.2222, lambda=0.2 \n",
      "- Fold02.Rep3: alpha=0.2222, lambda=0.2 \n",
      "+ Fold02.Rep3: alpha=0.3333, lambda=0.2 \n",
      "- Fold02.Rep3: alpha=0.3333, lambda=0.2 \n",
      "+ Fold02.Rep3: alpha=0.4444, lambda=0.2 \n",
      "- Fold02.Rep3: alpha=0.4444, lambda=0.2 \n",
      "+ Fold02.Rep3: alpha=0.5556, lambda=0.2 \n",
      "- Fold02.Rep3: alpha=0.5556, lambda=0.2 \n",
      "+ Fold02.Rep3: alpha=0.6667, lambda=0.2 \n",
      "- Fold02.Rep3: alpha=0.6667, lambda=0.2 \n",
      "+ Fold02.Rep3: alpha=0.7778, lambda=0.2 \n",
      "- Fold02.Rep3: alpha=0.7778, lambda=0.2 \n",
      "+ Fold02.Rep3: alpha=0.8889, lambda=0.2 \n",
      "- Fold02.Rep3: alpha=0.8889, lambda=0.2 \n",
      "+ Fold02.Rep3: alpha=1.0000, lambda=0.2 \n",
      "- Fold02.Rep3: alpha=1.0000, lambda=0.2 \n",
      "+ Fold03.Rep3: alpha=0.0000, lambda=0.2 \n",
      "- Fold03.Rep3: alpha=0.0000, lambda=0.2 \n",
      "+ Fold03.Rep3: alpha=0.1111, lambda=0.2 \n",
      "- Fold03.Rep3: alpha=0.1111, lambda=0.2 \n",
      "+ Fold03.Rep3: alpha=0.2222, lambda=0.2 \n",
      "- Fold03.Rep3: alpha=0.2222, lambda=0.2 \n",
      "+ Fold03.Rep3: alpha=0.3333, lambda=0.2 \n",
      "- Fold03.Rep3: alpha=0.3333, lambda=0.2 \n",
      "+ Fold03.Rep3: alpha=0.4444, lambda=0.2 \n",
      "- Fold03.Rep3: alpha=0.4444, lambda=0.2 \n",
      "+ Fold03.Rep3: alpha=0.5556, lambda=0.2 \n",
      "- Fold03.Rep3: alpha=0.5556, lambda=0.2 \n",
      "+ Fold03.Rep3: alpha=0.6667, lambda=0.2 \n",
      "- Fold03.Rep3: alpha=0.6667, lambda=0.2 \n",
      "+ Fold03.Rep3: alpha=0.7778, lambda=0.2 \n",
      "- Fold03.Rep3: alpha=0.7778, lambda=0.2 \n",
      "+ Fold03.Rep3: alpha=0.8889, lambda=0.2 \n",
      "model fit failed for Fold03.Rep3: alpha=0.8889, lambda=0.2 Error : cannot allocate vector of size 74.2 Mb\n",
      " \n"
     ]
    },
    {
     "name": "stderr",
     "output_type": "stream",
     "text": [
      "Warning message:\n",
      "\"model fit failed for Fold03.Rep3: alpha=0.8889, lambda=0.2 Error : cannot allocate vector of size 74.2 Mb\n",
      "\"\n"
     ]
    },
    {
     "name": "stdout",
     "output_type": "stream",
     "text": [
      "- Fold03.Rep3: alpha=0.8889, lambda=0.2 \n",
      "+ Fold03.Rep3: alpha=1.0000, lambda=0.2 \n",
      "- Fold03.Rep3: alpha=1.0000, lambda=0.2 \n",
      "+ Fold04.Rep3: alpha=0.0000, lambda=0.2 \n",
      "- Fold04.Rep3: alpha=0.0000, lambda=0.2 \n",
      "+ Fold04.Rep3: alpha=0.1111, lambda=0.2 \n",
      "- Fold04.Rep3: alpha=0.1111, lambda=0.2 \n",
      "+ Fold04.Rep3: alpha=0.2222, lambda=0.2 \n",
      "- Fold04.Rep3: alpha=0.2222, lambda=0.2 \n",
      "+ Fold04.Rep3: alpha=0.3333, lambda=0.2 \n",
      "- Fold04.Rep3: alpha=0.3333, lambda=0.2 \n",
      "+ Fold04.Rep3: alpha=0.4444, lambda=0.2 \n",
      "- Fold04.Rep3: alpha=0.4444, lambda=0.2 \n",
      "+ Fold04.Rep3: alpha=0.5556, lambda=0.2 \n",
      "- Fold04.Rep3: alpha=0.5556, lambda=0.2 \n",
      "+ Fold04.Rep3: alpha=0.6667, lambda=0.2 \n",
      "- Fold04.Rep3: alpha=0.6667, lambda=0.2 \n",
      "+ Fold04.Rep3: alpha=0.7778, lambda=0.2 \n",
      "- Fold04.Rep3: alpha=0.7778, lambda=0.2 \n",
      "+ Fold04.Rep3: alpha=0.8889, lambda=0.2 \n",
      "- Fold04.Rep3: alpha=0.8889, lambda=0.2 \n",
      "+ Fold04.Rep3: alpha=1.0000, lambda=0.2 \n",
      "- Fold04.Rep3: alpha=1.0000, lambda=0.2 \n",
      "+ Fold05.Rep3: alpha=0.0000, lambda=0.2 \n",
      "- Fold05.Rep3: alpha=0.0000, lambda=0.2 \n",
      "+ Fold05.Rep3: alpha=0.1111, lambda=0.2 \n",
      "- Fold05.Rep3: alpha=0.1111, lambda=0.2 \n",
      "+ Fold05.Rep3: alpha=0.2222, lambda=0.2 \n",
      "- Fold05.Rep3: alpha=0.2222, lambda=0.2 \n",
      "+ Fold05.Rep3: alpha=0.3333, lambda=0.2 \n",
      "- Fold05.Rep3: alpha=0.3333, lambda=0.2 \n",
      "+ Fold05.Rep3: alpha=0.4444, lambda=0.2 \n",
      "- Fold05.Rep3: alpha=0.4444, lambda=0.2 \n",
      "+ Fold05.Rep3: alpha=0.5556, lambda=0.2 \n",
      "- Fold05.Rep3: alpha=0.5556, lambda=0.2 \n",
      "+ Fold05.Rep3: alpha=0.6667, lambda=0.2 \n",
      "- Fold05.Rep3: alpha=0.6667, lambda=0.2 \n",
      "+ Fold05.Rep3: alpha=0.7778, lambda=0.2 \n",
      "- Fold05.Rep3: alpha=0.7778, lambda=0.2 \n",
      "+ Fold05.Rep3: alpha=0.8889, lambda=0.2 \n",
      "- Fold05.Rep3: alpha=0.8889, lambda=0.2 \n",
      "+ Fold05.Rep3: alpha=1.0000, lambda=0.2 \n",
      "- Fold05.Rep3: alpha=1.0000, lambda=0.2 \n",
      "+ Fold06.Rep3: alpha=0.0000, lambda=0.2 \n",
      "- Fold06.Rep3: alpha=0.0000, lambda=0.2 \n",
      "+ Fold06.Rep3: alpha=0.1111, lambda=0.2 \n",
      "- Fold06.Rep3: alpha=0.1111, lambda=0.2 \n",
      "+ Fold06.Rep3: alpha=0.2222, lambda=0.2 \n",
      "- Fold06.Rep3: alpha=0.2222, lambda=0.2 \n",
      "+ Fold06.Rep3: alpha=0.3333, lambda=0.2 \n",
      "- Fold06.Rep3: alpha=0.3333, lambda=0.2 \n",
      "+ Fold06.Rep3: alpha=0.4444, lambda=0.2 \n",
      "- Fold06.Rep3: alpha=0.4444, lambda=0.2 \n",
      "+ Fold06.Rep3: alpha=0.5556, lambda=0.2 \n",
      "- Fold06.Rep3: alpha=0.5556, lambda=0.2 \n",
      "+ Fold06.Rep3: alpha=0.6667, lambda=0.2 \n",
      "- Fold06.Rep3: alpha=0.6667, lambda=0.2 \n",
      "+ Fold06.Rep3: alpha=0.7778, lambda=0.2 \n",
      "- Fold06.Rep3: alpha=0.7778, lambda=0.2 \n",
      "+ Fold06.Rep3: alpha=0.8889, lambda=0.2 \n",
      "- Fold06.Rep3: alpha=0.8889, lambda=0.2 \n",
      "+ Fold06.Rep3: alpha=1.0000, lambda=0.2 \n",
      "- Fold06.Rep3: alpha=1.0000, lambda=0.2 \n",
      "+ Fold07.Rep3: alpha=0.0000, lambda=0.2 \n",
      "- Fold07.Rep3: alpha=0.0000, lambda=0.2 \n",
      "+ Fold07.Rep3: alpha=0.1111, lambda=0.2 \n",
      "- Fold07.Rep3: alpha=0.1111, lambda=0.2 \n",
      "+ Fold07.Rep3: alpha=0.2222, lambda=0.2 \n",
      "- Fold07.Rep3: alpha=0.2222, lambda=0.2 \n",
      "+ Fold07.Rep3: alpha=0.3333, lambda=0.2 \n",
      "- Fold07.Rep3: alpha=0.3333, lambda=0.2 \n",
      "+ Fold07.Rep3: alpha=0.4444, lambda=0.2 \n",
      "- Fold07.Rep3: alpha=0.4444, lambda=0.2 \n",
      "+ Fold07.Rep3: alpha=0.5556, lambda=0.2 \n",
      "- Fold07.Rep3: alpha=0.5556, lambda=0.2 \n",
      "+ Fold07.Rep3: alpha=0.6667, lambda=0.2 \n",
      "- Fold07.Rep3: alpha=0.6667, lambda=0.2 \n",
      "+ Fold07.Rep3: alpha=0.7778, lambda=0.2 \n",
      "- Fold07.Rep3: alpha=0.7778, lambda=0.2 \n",
      "+ Fold07.Rep3: alpha=0.8889, lambda=0.2 \n",
      "- Fold07.Rep3: alpha=0.8889, lambda=0.2 \n",
      "+ Fold07.Rep3: alpha=1.0000, lambda=0.2 \n",
      "- Fold07.Rep3: alpha=1.0000, lambda=0.2 \n",
      "+ Fold08.Rep3: alpha=0.0000, lambda=0.2 \n",
      "- Fold08.Rep3: alpha=0.0000, lambda=0.2 \n",
      "+ Fold08.Rep3: alpha=0.1111, lambda=0.2 \n",
      "- Fold08.Rep3: alpha=0.1111, lambda=0.2 \n",
      "+ Fold08.Rep3: alpha=0.2222, lambda=0.2 \n",
      "- Fold08.Rep3: alpha=0.2222, lambda=0.2 \n",
      "+ Fold08.Rep3: alpha=0.3333, lambda=0.2 \n",
      "- Fold08.Rep3: alpha=0.3333, lambda=0.2 \n",
      "+ Fold08.Rep3: alpha=0.4444, lambda=0.2 \n",
      "- Fold08.Rep3: alpha=0.4444, lambda=0.2 \n",
      "+ Fold08.Rep3: alpha=0.5556, lambda=0.2 \n",
      "- Fold08.Rep3: alpha=0.5556, lambda=0.2 \n",
      "+ Fold08.Rep3: alpha=0.6667, lambda=0.2 \n",
      "- Fold08.Rep3: alpha=0.6667, lambda=0.2 \n",
      "+ Fold08.Rep3: alpha=0.7778, lambda=0.2 \n",
      "- Fold08.Rep3: alpha=0.7778, lambda=0.2 \n",
      "+ Fold08.Rep3: alpha=0.8889, lambda=0.2 \n",
      "- Fold08.Rep3: alpha=0.8889, lambda=0.2 \n",
      "+ Fold08.Rep3: alpha=1.0000, lambda=0.2 \n",
      "- Fold08.Rep3: alpha=1.0000, lambda=0.2 \n",
      "+ Fold09.Rep3: alpha=0.0000, lambda=0.2 \n",
      "- Fold09.Rep3: alpha=0.0000, lambda=0.2 \n",
      "+ Fold09.Rep3: alpha=0.1111, lambda=0.2 \n",
      "- Fold09.Rep3: alpha=0.1111, lambda=0.2 \n",
      "+ Fold09.Rep3: alpha=0.2222, lambda=0.2 \n",
      "- Fold09.Rep3: alpha=0.2222, lambda=0.2 \n",
      "+ Fold09.Rep3: alpha=0.3333, lambda=0.2 \n",
      "- Fold09.Rep3: alpha=0.3333, lambda=0.2 \n",
      "+ Fold09.Rep3: alpha=0.4444, lambda=0.2 \n",
      "- Fold09.Rep3: alpha=0.4444, lambda=0.2 \n",
      "+ Fold09.Rep3: alpha=0.5556, lambda=0.2 \n",
      "- Fold09.Rep3: alpha=0.5556, lambda=0.2 \n",
      "+ Fold09.Rep3: alpha=0.6667, lambda=0.2 \n",
      "- Fold09.Rep3: alpha=0.6667, lambda=0.2 \n",
      "+ Fold09.Rep3: alpha=0.7778, lambda=0.2 \n",
      "- Fold09.Rep3: alpha=0.7778, lambda=0.2 \n",
      "+ Fold09.Rep3: alpha=0.8889, lambda=0.2 \n",
      "- Fold09.Rep3: alpha=0.8889, lambda=0.2 \n",
      "+ Fold09.Rep3: alpha=1.0000, lambda=0.2 \n",
      "- Fold09.Rep3: alpha=1.0000, lambda=0.2 \n",
      "+ Fold10.Rep3: alpha=0.0000, lambda=0.2 \n",
      "- Fold10.Rep3: alpha=0.0000, lambda=0.2 \n",
      "+ Fold10.Rep3: alpha=0.1111, lambda=0.2 \n",
      "- Fold10.Rep3: alpha=0.1111, lambda=0.2 \n",
      "+ Fold10.Rep3: alpha=0.2222, lambda=0.2 \n",
      "- Fold10.Rep3: alpha=0.2222, lambda=0.2 \n",
      "+ Fold10.Rep3: alpha=0.3333, lambda=0.2 \n",
      "- Fold10.Rep3: alpha=0.3333, lambda=0.2 \n",
      "+ Fold10.Rep3: alpha=0.4444, lambda=0.2 \n",
      "- Fold10.Rep3: alpha=0.4444, lambda=0.2 \n",
      "+ Fold10.Rep3: alpha=0.5556, lambda=0.2 \n",
      "- Fold10.Rep3: alpha=0.5556, lambda=0.2 \n",
      "+ Fold10.Rep3: alpha=0.6667, lambda=0.2 \n",
      "- Fold10.Rep3: alpha=0.6667, lambda=0.2 \n",
      "+ Fold10.Rep3: alpha=0.7778, lambda=0.2 \n",
      "- Fold10.Rep3: alpha=0.7778, lambda=0.2 \n",
      "+ Fold10.Rep3: alpha=0.8889, lambda=0.2 \n",
      "- Fold10.Rep3: alpha=0.8889, lambda=0.2 \n",
      "+ Fold10.Rep3: alpha=1.0000, lambda=0.2 \n",
      "- Fold10.Rep3: alpha=1.0000, lambda=0.2 \n",
      "+ Fold01.Rep4: alpha=0.0000, lambda=0.2 \n",
      "- Fold01.Rep4: alpha=0.0000, lambda=0.2 \n",
      "+ Fold01.Rep4: alpha=0.1111, lambda=0.2 \n",
      "- Fold01.Rep4: alpha=0.1111, lambda=0.2 \n",
      "+ Fold01.Rep4: alpha=0.2222, lambda=0.2 \n",
      "- Fold01.Rep4: alpha=0.2222, lambda=0.2 \n",
      "+ Fold01.Rep4: alpha=0.3333, lambda=0.2 \n",
      "- Fold01.Rep4: alpha=0.3333, lambda=0.2 \n",
      "+ Fold01.Rep4: alpha=0.4444, lambda=0.2 \n",
      "- Fold01.Rep4: alpha=0.4444, lambda=0.2 \n",
      "+ Fold01.Rep4: alpha=0.5556, lambda=0.2 \n",
      "- Fold01.Rep4: alpha=0.5556, lambda=0.2 \n",
      "+ Fold01.Rep4: alpha=0.6667, lambda=0.2 \n",
      "- Fold01.Rep4: alpha=0.6667, lambda=0.2 \n",
      "+ Fold01.Rep4: alpha=0.7778, lambda=0.2 \n",
      "- Fold01.Rep4: alpha=0.7778, lambda=0.2 \n",
      "+ Fold01.Rep4: alpha=0.8889, lambda=0.2 \n",
      "- Fold01.Rep4: alpha=0.8889, lambda=0.2 \n",
      "+ Fold01.Rep4: alpha=1.0000, lambda=0.2 \n",
      "- Fold01.Rep4: alpha=1.0000, lambda=0.2 \n",
      "+ Fold02.Rep4: alpha=0.0000, lambda=0.2 \n",
      "- Fold02.Rep4: alpha=0.0000, lambda=0.2 \n",
      "+ Fold02.Rep4: alpha=0.1111, lambda=0.2 \n",
      "- Fold02.Rep4: alpha=0.1111, lambda=0.2 \n",
      "+ Fold02.Rep4: alpha=0.2222, lambda=0.2 \n",
      "- Fold02.Rep4: alpha=0.2222, lambda=0.2 \n",
      "+ Fold02.Rep4: alpha=0.3333, lambda=0.2 \n",
      "- Fold02.Rep4: alpha=0.3333, lambda=0.2 \n",
      "+ Fold02.Rep4: alpha=0.4444, lambda=0.2 \n",
      "- Fold02.Rep4: alpha=0.4444, lambda=0.2 \n",
      "+ Fold02.Rep4: alpha=0.5556, lambda=0.2 \n",
      "- Fold02.Rep4: alpha=0.5556, lambda=0.2 \n",
      "+ Fold02.Rep4: alpha=0.6667, lambda=0.2 \n",
      "- Fold02.Rep4: alpha=0.6667, lambda=0.2 \n",
      "+ Fold02.Rep4: alpha=0.7778, lambda=0.2 \n",
      "- Fold02.Rep4: alpha=0.7778, lambda=0.2 \n",
      "+ Fold02.Rep4: alpha=0.8889, lambda=0.2 \n",
      "- Fold02.Rep4: alpha=0.8889, lambda=0.2 \n",
      "+ Fold02.Rep4: alpha=1.0000, lambda=0.2 \n",
      "- Fold02.Rep4: alpha=1.0000, lambda=0.2 \n",
      "+ Fold03.Rep4: alpha=0.0000, lambda=0.2 \n",
      "- Fold03.Rep4: alpha=0.0000, lambda=0.2 \n",
      "+ Fold03.Rep4: alpha=0.1111, lambda=0.2 \n",
      "- Fold03.Rep4: alpha=0.1111, lambda=0.2 \n",
      "+ Fold03.Rep4: alpha=0.2222, lambda=0.2 \n",
      "- Fold03.Rep4: alpha=0.2222, lambda=0.2 \n",
      "+ Fold03.Rep4: alpha=0.3333, lambda=0.2 \n",
      "- Fold03.Rep4: alpha=0.3333, lambda=0.2 \n",
      "+ Fold03.Rep4: alpha=0.4444, lambda=0.2 \n",
      "- Fold03.Rep4: alpha=0.4444, lambda=0.2 \n",
      "+ Fold03.Rep4: alpha=0.5556, lambda=0.2 \n",
      "- Fold03.Rep4: alpha=0.5556, lambda=0.2 \n",
      "+ Fold03.Rep4: alpha=0.6667, lambda=0.2 \n",
      "- Fold03.Rep4: alpha=0.6667, lambda=0.2 \n",
      "+ Fold03.Rep4: alpha=0.7778, lambda=0.2 \n",
      "- Fold03.Rep4: alpha=0.7778, lambda=0.2 \n",
      "+ Fold03.Rep4: alpha=0.8889, lambda=0.2 \n",
      "- Fold03.Rep4: alpha=0.8889, lambda=0.2 \n",
      "+ Fold03.Rep4: alpha=1.0000, lambda=0.2 \n",
      "- Fold03.Rep4: alpha=1.0000, lambda=0.2 \n",
      "+ Fold04.Rep4: alpha=0.0000, lambda=0.2 \n",
      "- Fold04.Rep4: alpha=0.0000, lambda=0.2 \n",
      "+ Fold04.Rep4: alpha=0.1111, lambda=0.2 \n",
      "- Fold04.Rep4: alpha=0.1111, lambda=0.2 \n",
      "+ Fold04.Rep4: alpha=0.2222, lambda=0.2 \n",
      "- Fold04.Rep4: alpha=0.2222, lambda=0.2 \n",
      "+ Fold04.Rep4: alpha=0.3333, lambda=0.2 \n",
      "- Fold04.Rep4: alpha=0.3333, lambda=0.2 \n",
      "+ Fold04.Rep4: alpha=0.4444, lambda=0.2 \n",
      "- Fold04.Rep4: alpha=0.4444, lambda=0.2 \n",
      "+ Fold04.Rep4: alpha=0.5556, lambda=0.2 \n",
      "- Fold04.Rep4: alpha=0.5556, lambda=0.2 \n",
      "+ Fold04.Rep4: alpha=0.6667, lambda=0.2 \n",
      "- Fold04.Rep4: alpha=0.6667, lambda=0.2 \n",
      "+ Fold04.Rep4: alpha=0.7778, lambda=0.2 \n",
      "- Fold04.Rep4: alpha=0.7778, lambda=0.2 \n",
      "+ Fold04.Rep4: alpha=0.8889, lambda=0.2 \n",
      "- Fold04.Rep4: alpha=0.8889, lambda=0.2 \n",
      "+ Fold04.Rep4: alpha=1.0000, lambda=0.2 \n",
      "- Fold04.Rep4: alpha=1.0000, lambda=0.2 \n",
      "+ Fold05.Rep4: alpha=0.0000, lambda=0.2 \n",
      "- Fold05.Rep4: alpha=0.0000, lambda=0.2 \n",
      "+ Fold05.Rep4: alpha=0.1111, lambda=0.2 \n",
      "- Fold05.Rep4: alpha=0.1111, lambda=0.2 \n",
      "+ Fold05.Rep4: alpha=0.2222, lambda=0.2 \n",
      "- Fold05.Rep4: alpha=0.2222, lambda=0.2 \n",
      "+ Fold05.Rep4: alpha=0.3333, lambda=0.2 \n",
      "- Fold05.Rep4: alpha=0.3333, lambda=0.2 \n",
      "+ Fold05.Rep4: alpha=0.4444, lambda=0.2 \n",
      "- Fold05.Rep4: alpha=0.4444, lambda=0.2 \n",
      "+ Fold05.Rep4: alpha=0.5556, lambda=0.2 \n",
      "- Fold05.Rep4: alpha=0.5556, lambda=0.2 \n",
      "+ Fold05.Rep4: alpha=0.6667, lambda=0.2 \n",
      "- Fold05.Rep4: alpha=0.6667, lambda=0.2 \n",
      "+ Fold05.Rep4: alpha=0.7778, lambda=0.2 \n",
      "- Fold05.Rep4: alpha=0.7778, lambda=0.2 \n",
      "+ Fold05.Rep4: alpha=0.8889, lambda=0.2 \n",
      "- Fold05.Rep4: alpha=0.8889, lambda=0.2 \n",
      "+ Fold05.Rep4: alpha=1.0000, lambda=0.2 \n",
      "- Fold05.Rep4: alpha=1.0000, lambda=0.2 \n",
      "+ Fold06.Rep4: alpha=0.0000, lambda=0.2 \n",
      "- Fold06.Rep4: alpha=0.0000, lambda=0.2 \n",
      "+ Fold06.Rep4: alpha=0.1111, lambda=0.2 \n",
      "- Fold06.Rep4: alpha=0.1111, lambda=0.2 \n",
      "+ Fold06.Rep4: alpha=0.2222, lambda=0.2 \n",
      "- Fold06.Rep4: alpha=0.2222, lambda=0.2 \n",
      "+ Fold06.Rep4: alpha=0.3333, lambda=0.2 \n",
      "- Fold06.Rep4: alpha=0.3333, lambda=0.2 \n",
      "+ Fold06.Rep4: alpha=0.4444, lambda=0.2 \n",
      "- Fold06.Rep4: alpha=0.4444, lambda=0.2 \n",
      "+ Fold06.Rep4: alpha=0.5556, lambda=0.2 \n",
      "- Fold06.Rep4: alpha=0.5556, lambda=0.2 \n",
      "+ Fold06.Rep4: alpha=0.6667, lambda=0.2 \n",
      "- Fold06.Rep4: alpha=0.6667, lambda=0.2 \n",
      "+ Fold06.Rep4: alpha=0.7778, lambda=0.2 \n",
      "- Fold06.Rep4: alpha=0.7778, lambda=0.2 \n",
      "+ Fold06.Rep4: alpha=0.8889, lambda=0.2 \n",
      "- Fold06.Rep4: alpha=0.8889, lambda=0.2 \n",
      "+ Fold06.Rep4: alpha=1.0000, lambda=0.2 \n",
      "- Fold06.Rep4: alpha=1.0000, lambda=0.2 \n",
      "+ Fold07.Rep4: alpha=0.0000, lambda=0.2 \n",
      "- Fold07.Rep4: alpha=0.0000, lambda=0.2 \n",
      "+ Fold07.Rep4: alpha=0.1111, lambda=0.2 \n",
      "- Fold07.Rep4: alpha=0.1111, lambda=0.2 \n",
      "+ Fold07.Rep4: alpha=0.2222, lambda=0.2 \n",
      "- Fold07.Rep4: alpha=0.2222, lambda=0.2 \n",
      "+ Fold07.Rep4: alpha=0.3333, lambda=0.2 \n",
      "- Fold07.Rep4: alpha=0.3333, lambda=0.2 \n",
      "+ Fold07.Rep4: alpha=0.4444, lambda=0.2 \n",
      "- Fold07.Rep4: alpha=0.4444, lambda=0.2 \n",
      "+ Fold07.Rep4: alpha=0.5556, lambda=0.2 \n",
      "- Fold07.Rep4: alpha=0.5556, lambda=0.2 \n",
      "+ Fold07.Rep4: alpha=0.6667, lambda=0.2 \n",
      "- Fold07.Rep4: alpha=0.6667, lambda=0.2 \n",
      "+ Fold07.Rep4: alpha=0.7778, lambda=0.2 \n",
      "- Fold07.Rep4: alpha=0.7778, lambda=0.2 \n",
      "+ Fold07.Rep4: alpha=0.8889, lambda=0.2 \n",
      "- Fold07.Rep4: alpha=0.8889, lambda=0.2 \n",
      "+ Fold07.Rep4: alpha=1.0000, lambda=0.2 \n",
      "- Fold07.Rep4: alpha=1.0000, lambda=0.2 \n",
      "+ Fold08.Rep4: alpha=0.0000, lambda=0.2 \n",
      "- Fold08.Rep4: alpha=0.0000, lambda=0.2 \n",
      "+ Fold08.Rep4: alpha=0.1111, lambda=0.2 \n",
      "- Fold08.Rep4: alpha=0.1111, lambda=0.2 \n",
      "+ Fold08.Rep4: alpha=0.2222, lambda=0.2 \n",
      "- Fold08.Rep4: alpha=0.2222, lambda=0.2 \n",
      "+ Fold08.Rep4: alpha=0.3333, lambda=0.2 \n",
      "- Fold08.Rep4: alpha=0.3333, lambda=0.2 \n",
      "+ Fold08.Rep4: alpha=0.4444, lambda=0.2 \n",
      "- Fold08.Rep4: alpha=0.4444, lambda=0.2 \n",
      "+ Fold08.Rep4: alpha=0.5556, lambda=0.2 \n",
      "model fit failed for Fold08.Rep4: alpha=0.5556, lambda=0.2 Error : cannot allocate vector of size 74.2 Mb\n",
      " \n"
     ]
    },
    {
     "name": "stderr",
     "output_type": "stream",
     "text": [
      "Warning message:\n",
      "\"model fit failed for Fold08.Rep4: alpha=0.5556, lambda=0.2 Error : cannot allocate vector of size 74.2 Mb\n",
      "\"\n"
     ]
    },
    {
     "name": "stdout",
     "output_type": "stream",
     "text": [
      "- Fold08.Rep4: alpha=0.5556, lambda=0.2 \n",
      "+ Fold08.Rep4: alpha=0.6667, lambda=0.2 \n",
      "- Fold08.Rep4: alpha=0.6667, lambda=0.2 \n",
      "+ Fold08.Rep4: alpha=0.7778, lambda=0.2 \n",
      "- Fold08.Rep4: alpha=0.7778, lambda=0.2 \n",
      "+ Fold08.Rep4: alpha=0.8889, lambda=0.2 \n",
      "- Fold08.Rep4: alpha=0.8889, lambda=0.2 \n",
      "+ Fold08.Rep4: alpha=1.0000, lambda=0.2 \n",
      "- Fold08.Rep4: alpha=1.0000, lambda=0.2 \n",
      "+ Fold09.Rep4: alpha=0.0000, lambda=0.2 \n",
      "- Fold09.Rep4: alpha=0.0000, lambda=0.2 \n",
      "+ Fold09.Rep4: alpha=0.1111, lambda=0.2 \n",
      "- Fold09.Rep4: alpha=0.1111, lambda=0.2 \n",
      "+ Fold09.Rep4: alpha=0.2222, lambda=0.2 \n",
      "- Fold09.Rep4: alpha=0.2222, lambda=0.2 \n",
      "+ Fold09.Rep4: alpha=0.3333, lambda=0.2 \n",
      "- Fold09.Rep4: alpha=0.3333, lambda=0.2 \n",
      "+ Fold09.Rep4: alpha=0.4444, lambda=0.2 \n",
      "- Fold09.Rep4: alpha=0.4444, lambda=0.2 \n",
      "+ Fold09.Rep4: alpha=0.5556, lambda=0.2 \n",
      "- Fold09.Rep4: alpha=0.5556, lambda=0.2 \n",
      "+ Fold09.Rep4: alpha=0.6667, lambda=0.2 \n",
      "- Fold09.Rep4: alpha=0.6667, lambda=0.2 \n",
      "+ Fold09.Rep4: alpha=0.7778, lambda=0.2 \n",
      "- Fold09.Rep4: alpha=0.7778, lambda=0.2 \n",
      "+ Fold09.Rep4: alpha=0.8889, lambda=0.2 \n",
      "- Fold09.Rep4: alpha=0.8889, lambda=0.2 \n",
      "+ Fold09.Rep4: alpha=1.0000, lambda=0.2 \n",
      "- Fold09.Rep4: alpha=1.0000, lambda=0.2 \n",
      "+ Fold10.Rep4: alpha=0.0000, lambda=0.2 \n",
      "- Fold10.Rep4: alpha=0.0000, lambda=0.2 \n",
      "+ Fold10.Rep4: alpha=0.1111, lambda=0.2 \n",
      "- Fold10.Rep4: alpha=0.1111, lambda=0.2 \n",
      "+ Fold10.Rep4: alpha=0.2222, lambda=0.2 \n",
      "- Fold10.Rep4: alpha=0.2222, lambda=0.2 \n",
      "+ Fold10.Rep4: alpha=0.3333, lambda=0.2 \n",
      "- Fold10.Rep4: alpha=0.3333, lambda=0.2 \n",
      "+ Fold10.Rep4: alpha=0.4444, lambda=0.2 \n",
      "- Fold10.Rep4: alpha=0.4444, lambda=0.2 \n",
      "+ Fold10.Rep4: alpha=0.5556, lambda=0.2 \n",
      "- Fold10.Rep4: alpha=0.5556, lambda=0.2 \n",
      "+ Fold10.Rep4: alpha=0.6667, lambda=0.2 \n",
      "- Fold10.Rep4: alpha=0.6667, lambda=0.2 \n",
      "+ Fold10.Rep4: alpha=0.7778, lambda=0.2 \n",
      "- Fold10.Rep4: alpha=0.7778, lambda=0.2 \n",
      "+ Fold10.Rep4: alpha=0.8889, lambda=0.2 \n",
      "- Fold10.Rep4: alpha=0.8889, lambda=0.2 \n",
      "+ Fold10.Rep4: alpha=1.0000, lambda=0.2 \n",
      "- Fold10.Rep4: alpha=1.0000, lambda=0.2 \n",
      "+ Fold01.Rep5: alpha=0.0000, lambda=0.2 \n",
      "- Fold01.Rep5: alpha=0.0000, lambda=0.2 \n",
      "+ Fold01.Rep5: alpha=0.1111, lambda=0.2 \n",
      "- Fold01.Rep5: alpha=0.1111, lambda=0.2 \n",
      "+ Fold01.Rep5: alpha=0.2222, lambda=0.2 \n",
      "- Fold01.Rep5: alpha=0.2222, lambda=0.2 \n",
      "+ Fold01.Rep5: alpha=0.3333, lambda=0.2 \n",
      "- Fold01.Rep5: alpha=0.3333, lambda=0.2 \n",
      "+ Fold01.Rep5: alpha=0.4444, lambda=0.2 \n",
      "- Fold01.Rep5: alpha=0.4444, lambda=0.2 \n",
      "+ Fold01.Rep5: alpha=0.5556, lambda=0.2 \n",
      "- Fold01.Rep5: alpha=0.5556, lambda=0.2 \n",
      "+ Fold01.Rep5: alpha=0.6667, lambda=0.2 \n",
      "- Fold01.Rep5: alpha=0.6667, lambda=0.2 \n",
      "+ Fold01.Rep5: alpha=0.7778, lambda=0.2 \n",
      "- Fold01.Rep5: alpha=0.7778, lambda=0.2 \n",
      "+ Fold01.Rep5: alpha=0.8889, lambda=0.2 \n",
      "- Fold01.Rep5: alpha=0.8889, lambda=0.2 \n",
      "+ Fold01.Rep5: alpha=1.0000, lambda=0.2 \n",
      "- Fold01.Rep5: alpha=1.0000, lambda=0.2 \n",
      "+ Fold02.Rep5: alpha=0.0000, lambda=0.2 \n",
      "- Fold02.Rep5: alpha=0.0000, lambda=0.2 \n",
      "+ Fold02.Rep5: alpha=0.1111, lambda=0.2 \n",
      "- Fold02.Rep5: alpha=0.1111, lambda=0.2 \n",
      "+ Fold02.Rep5: alpha=0.2222, lambda=0.2 \n",
      "- Fold02.Rep5: alpha=0.2222, lambda=0.2 \n",
      "+ Fold02.Rep5: alpha=0.3333, lambda=0.2 \n",
      "- Fold02.Rep5: alpha=0.3333, lambda=0.2 \n",
      "+ Fold02.Rep5: alpha=0.4444, lambda=0.2 \n",
      "- Fold02.Rep5: alpha=0.4444, lambda=0.2 \n",
      "+ Fold02.Rep5: alpha=0.5556, lambda=0.2 \n",
      "- Fold02.Rep5: alpha=0.5556, lambda=0.2 \n",
      "+ Fold02.Rep5: alpha=0.6667, lambda=0.2 \n",
      "- Fold02.Rep5: alpha=0.6667, lambda=0.2 \n",
      "+ Fold02.Rep5: alpha=0.7778, lambda=0.2 \n",
      "- Fold02.Rep5: alpha=0.7778, lambda=0.2 \n",
      "+ Fold02.Rep5: alpha=0.8889, lambda=0.2 \n",
      "- Fold02.Rep5: alpha=0.8889, lambda=0.2 \n",
      "+ Fold02.Rep5: alpha=1.0000, lambda=0.2 \n",
      "- Fold02.Rep5: alpha=1.0000, lambda=0.2 \n",
      "+ Fold03.Rep5: alpha=0.0000, lambda=0.2 \n",
      "- Fold03.Rep5: alpha=0.0000, lambda=0.2 \n",
      "+ Fold03.Rep5: alpha=0.1111, lambda=0.2 \n",
      "- Fold03.Rep5: alpha=0.1111, lambda=0.2 \n",
      "+ Fold03.Rep5: alpha=0.2222, lambda=0.2 \n",
      "- Fold03.Rep5: alpha=0.2222, lambda=0.2 \n",
      "+ Fold03.Rep5: alpha=0.3333, lambda=0.2 \n",
      "- Fold03.Rep5: alpha=0.3333, lambda=0.2 \n",
      "+ Fold03.Rep5: alpha=0.4444, lambda=0.2 \n",
      "- Fold03.Rep5: alpha=0.4444, lambda=0.2 \n",
      "+ Fold03.Rep5: alpha=0.5556, lambda=0.2 \n",
      "- Fold03.Rep5: alpha=0.5556, lambda=0.2 \n",
      "+ Fold03.Rep5: alpha=0.6667, lambda=0.2 \n",
      "- Fold03.Rep5: alpha=0.6667, lambda=0.2 \n",
      "+ Fold03.Rep5: alpha=0.7778, lambda=0.2 \n",
      "- Fold03.Rep5: alpha=0.7778, lambda=0.2 \n",
      "+ Fold03.Rep5: alpha=0.8889, lambda=0.2 \n",
      "- Fold03.Rep5: alpha=0.8889, lambda=0.2 \n",
      "+ Fold03.Rep5: alpha=1.0000, lambda=0.2 \n",
      "- Fold03.Rep5: alpha=1.0000, lambda=0.2 \n",
      "+ Fold04.Rep5: alpha=0.0000, lambda=0.2 \n",
      "- Fold04.Rep5: alpha=0.0000, lambda=0.2 \n",
      "+ Fold04.Rep5: alpha=0.1111, lambda=0.2 \n",
      "- Fold04.Rep5: alpha=0.1111, lambda=0.2 \n",
      "+ Fold04.Rep5: alpha=0.2222, lambda=0.2 \n",
      "- Fold04.Rep5: alpha=0.2222, lambda=0.2 \n",
      "+ Fold04.Rep5: alpha=0.3333, lambda=0.2 \n",
      "- Fold04.Rep5: alpha=0.3333, lambda=0.2 \n",
      "+ Fold04.Rep5: alpha=0.4444, lambda=0.2 \n",
      "- Fold04.Rep5: alpha=0.4444, lambda=0.2 \n",
      "+ Fold04.Rep5: alpha=0.5556, lambda=0.2 \n",
      "- Fold04.Rep5: alpha=0.5556, lambda=0.2 \n",
      "+ Fold04.Rep5: alpha=0.6667, lambda=0.2 \n",
      "model fit failed for Fold04.Rep5: alpha=0.6667, lambda=0.2 Error : cannot allocate vector of size 74.2 Mb\n",
      " \n"
     ]
    },
    {
     "name": "stderr",
     "output_type": "stream",
     "text": [
      "Warning message:\n",
      "\"model fit failed for Fold04.Rep5: alpha=0.6667, lambda=0.2 Error : cannot allocate vector of size 74.2 Mb\n",
      "\"\n"
     ]
    },
    {
     "name": "stdout",
     "output_type": "stream",
     "text": [
      "- Fold04.Rep5: alpha=0.6667, lambda=0.2 \n",
      "+ Fold04.Rep5: alpha=0.7778, lambda=0.2 \n",
      "- Fold04.Rep5: alpha=0.7778, lambda=0.2 \n",
      "+ Fold04.Rep5: alpha=0.8889, lambda=0.2 \n",
      "- Fold04.Rep5: alpha=0.8889, lambda=0.2 \n",
      "+ Fold04.Rep5: alpha=1.0000, lambda=0.2 \n",
      "- Fold04.Rep5: alpha=1.0000, lambda=0.2 \n",
      "+ Fold05.Rep5: alpha=0.0000, lambda=0.2 \n",
      "- Fold05.Rep5: alpha=0.0000, lambda=0.2 \n",
      "+ Fold05.Rep5: alpha=0.1111, lambda=0.2 \n",
      "- Fold05.Rep5: alpha=0.1111, lambda=0.2 \n",
      "+ Fold05.Rep5: alpha=0.2222, lambda=0.2 \n",
      "- Fold05.Rep5: alpha=0.2222, lambda=0.2 \n",
      "+ Fold05.Rep5: alpha=0.3333, lambda=0.2 \n",
      "- Fold05.Rep5: alpha=0.3333, lambda=0.2 \n",
      "+ Fold05.Rep5: alpha=0.4444, lambda=0.2 \n",
      "- Fold05.Rep5: alpha=0.4444, lambda=0.2 \n",
      "+ Fold05.Rep5: alpha=0.5556, lambda=0.2 \n",
      "- Fold05.Rep5: alpha=0.5556, lambda=0.2 \n",
      "+ Fold05.Rep5: alpha=0.6667, lambda=0.2 \n",
      "- Fold05.Rep5: alpha=0.6667, lambda=0.2 \n",
      "+ Fold05.Rep5: alpha=0.7778, lambda=0.2 \n",
      "- Fold05.Rep5: alpha=0.7778, lambda=0.2 \n",
      "+ Fold05.Rep5: alpha=0.8889, lambda=0.2 \n",
      "- Fold05.Rep5: alpha=0.8889, lambda=0.2 \n",
      "+ Fold05.Rep5: alpha=1.0000, lambda=0.2 \n",
      "- Fold05.Rep5: alpha=1.0000, lambda=0.2 \n",
      "+ Fold06.Rep5: alpha=0.0000, lambda=0.2 \n",
      "- Fold06.Rep5: alpha=0.0000, lambda=0.2 \n",
      "+ Fold06.Rep5: alpha=0.1111, lambda=0.2 \n",
      "- Fold06.Rep5: alpha=0.1111, lambda=0.2 \n",
      "+ Fold06.Rep5: alpha=0.2222, lambda=0.2 \n",
      "- Fold06.Rep5: alpha=0.2222, lambda=0.2 \n",
      "+ Fold06.Rep5: alpha=0.3333, lambda=0.2 \n",
      "- Fold06.Rep5: alpha=0.3333, lambda=0.2 \n",
      "+ Fold06.Rep5: alpha=0.4444, lambda=0.2 \n",
      "- Fold06.Rep5: alpha=0.4444, lambda=0.2 \n",
      "+ Fold06.Rep5: alpha=0.5556, lambda=0.2 \n",
      "- Fold06.Rep5: alpha=0.5556, lambda=0.2 \n",
      "+ Fold06.Rep5: alpha=0.6667, lambda=0.2 \n",
      "- Fold06.Rep5: alpha=0.6667, lambda=0.2 \n",
      "+ Fold06.Rep5: alpha=0.7778, lambda=0.2 \n",
      "- Fold06.Rep5: alpha=0.7778, lambda=0.2 \n",
      "+ Fold06.Rep5: alpha=0.8889, lambda=0.2 \n",
      "- Fold06.Rep5: alpha=0.8889, lambda=0.2 \n",
      "+ Fold06.Rep5: alpha=1.0000, lambda=0.2 \n",
      "- Fold06.Rep5: alpha=1.0000, lambda=0.2 \n",
      "+ Fold07.Rep5: alpha=0.0000, lambda=0.2 \n",
      "- Fold07.Rep5: alpha=0.0000, lambda=0.2 \n",
      "+ Fold07.Rep5: alpha=0.1111, lambda=0.2 \n",
      "- Fold07.Rep5: alpha=0.1111, lambda=0.2 \n",
      "+ Fold07.Rep5: alpha=0.2222, lambda=0.2 \n",
      "- Fold07.Rep5: alpha=0.2222, lambda=0.2 \n",
      "+ Fold07.Rep5: alpha=0.3333, lambda=0.2 \n",
      "- Fold07.Rep5: alpha=0.3333, lambda=0.2 \n",
      "+ Fold07.Rep5: alpha=0.4444, lambda=0.2 \n",
      "- Fold07.Rep5: alpha=0.4444, lambda=0.2 \n",
      "+ Fold07.Rep5: alpha=0.5556, lambda=0.2 \n",
      "- Fold07.Rep5: alpha=0.5556, lambda=0.2 \n",
      "+ Fold07.Rep5: alpha=0.6667, lambda=0.2 \n",
      "- Fold07.Rep5: alpha=0.6667, lambda=0.2 \n",
      "+ Fold07.Rep5: alpha=0.7778, lambda=0.2 \n",
      "- Fold07.Rep5: alpha=0.7778, lambda=0.2 \n",
      "+ Fold07.Rep5: alpha=0.8889, lambda=0.2 \n",
      "- Fold07.Rep5: alpha=0.8889, lambda=0.2 \n",
      "+ Fold07.Rep5: alpha=1.0000, lambda=0.2 \n",
      "- Fold07.Rep5: alpha=1.0000, lambda=0.2 \n",
      "+ Fold08.Rep5: alpha=0.0000, lambda=0.2 \n",
      "- Fold08.Rep5: alpha=0.0000, lambda=0.2 \n",
      "+ Fold08.Rep5: alpha=0.1111, lambda=0.2 \n",
      "- Fold08.Rep5: alpha=0.1111, lambda=0.2 \n",
      "+ Fold08.Rep5: alpha=0.2222, lambda=0.2 \n",
      "- Fold08.Rep5: alpha=0.2222, lambda=0.2 \n",
      "+ Fold08.Rep5: alpha=0.3333, lambda=0.2 \n",
      "- Fold08.Rep5: alpha=0.3333, lambda=0.2 \n",
      "+ Fold08.Rep5: alpha=0.4444, lambda=0.2 \n",
      "- Fold08.Rep5: alpha=0.4444, lambda=0.2 \n",
      "+ Fold08.Rep5: alpha=0.5556, lambda=0.2 \n",
      "- Fold08.Rep5: alpha=0.5556, lambda=0.2 \n",
      "+ Fold08.Rep5: alpha=0.6667, lambda=0.2 \n",
      "- Fold08.Rep5: alpha=0.6667, lambda=0.2 \n",
      "+ Fold08.Rep5: alpha=0.7778, lambda=0.2 \n",
      "- Fold08.Rep5: alpha=0.7778, lambda=0.2 \n",
      "+ Fold08.Rep5: alpha=0.8889, lambda=0.2 \n",
      "- Fold08.Rep5: alpha=0.8889, lambda=0.2 \n",
      "+ Fold08.Rep5: alpha=1.0000, lambda=0.2 \n",
      "- Fold08.Rep5: alpha=1.0000, lambda=0.2 \n",
      "+ Fold09.Rep5: alpha=0.0000, lambda=0.2 \n",
      "- Fold09.Rep5: alpha=0.0000, lambda=0.2 \n",
      "+ Fold09.Rep5: alpha=0.1111, lambda=0.2 \n",
      "- Fold09.Rep5: alpha=0.1111, lambda=0.2 \n",
      "+ Fold09.Rep5: alpha=0.2222, lambda=0.2 \n",
      "- Fold09.Rep5: alpha=0.2222, lambda=0.2 \n",
      "+ Fold09.Rep5: alpha=0.3333, lambda=0.2 \n",
      "- Fold09.Rep5: alpha=0.3333, lambda=0.2 \n",
      "+ Fold09.Rep5: alpha=0.4444, lambda=0.2 \n",
      "- Fold09.Rep5: alpha=0.4444, lambda=0.2 \n",
      "+ Fold09.Rep5: alpha=0.5556, lambda=0.2 \n",
      "- Fold09.Rep5: alpha=0.5556, lambda=0.2 \n",
      "+ Fold09.Rep5: alpha=0.6667, lambda=0.2 \n",
      "- Fold09.Rep5: alpha=0.6667, lambda=0.2 \n",
      "+ Fold09.Rep5: alpha=0.7778, lambda=0.2 \n",
      "- Fold09.Rep5: alpha=0.7778, lambda=0.2 \n",
      "+ Fold09.Rep5: alpha=0.8889, lambda=0.2 \n",
      "- Fold09.Rep5: alpha=0.8889, lambda=0.2 \n",
      "+ Fold09.Rep5: alpha=1.0000, lambda=0.2 \n",
      "- Fold09.Rep5: alpha=1.0000, lambda=0.2 \n",
      "+ Fold10.Rep5: alpha=0.0000, lambda=0.2 \n",
      "- Fold10.Rep5: alpha=0.0000, lambda=0.2 \n",
      "+ Fold10.Rep5: alpha=0.1111, lambda=0.2 \n",
      "- Fold10.Rep5: alpha=0.1111, lambda=0.2 \n",
      "+ Fold10.Rep5: alpha=0.2222, lambda=0.2 \n",
      "- Fold10.Rep5: alpha=0.2222, lambda=0.2 \n",
      "+ Fold10.Rep5: alpha=0.3333, lambda=0.2 \n",
      "- Fold10.Rep5: alpha=0.3333, lambda=0.2 \n",
      "+ Fold10.Rep5: alpha=0.4444, lambda=0.2 \n",
      "- Fold10.Rep5: alpha=0.4444, lambda=0.2 \n",
      "+ Fold10.Rep5: alpha=0.5556, lambda=0.2 \n",
      "- Fold10.Rep5: alpha=0.5556, lambda=0.2 \n",
      "+ Fold10.Rep5: alpha=0.6667, lambda=0.2 \n",
      "- Fold10.Rep5: alpha=0.6667, lambda=0.2 \n",
      "+ Fold10.Rep5: alpha=0.7778, lambda=0.2 \n",
      "- Fold10.Rep5: alpha=0.7778, lambda=0.2 \n",
      "+ Fold10.Rep5: alpha=0.8889, lambda=0.2 \n",
      "- Fold10.Rep5: alpha=0.8889, lambda=0.2 \n",
      "+ Fold10.Rep5: alpha=1.0000, lambda=0.2 \n",
      "- Fold10.Rep5: alpha=1.0000, lambda=0.2 \n"
     ]
    },
    {
     "name": "stderr",
     "output_type": "stream",
     "text": [
      "Warning message in nominalTrainWorkflow(x = x, y = y, wts = weights, info = trainInfo, :\n",
      "\"There were missing values in resampled performance measures.\"\n"
     ]
    },
    {
     "name": "stdout",
     "output_type": "stream",
     "text": [
      "Aggregating results\n",
      "Selecting tuning parameters\n",
      "Fitting alpha = 1, lambda = 0.2 on full training set\n"
     ]
    }
   ],
   "source": [
    "custom = trainControl(method = \"repeatedcv\",\n",
    "\n",
    "                       number = 10,\n",
    "\n",
    "                       repeats = 5,\n",
    "\n",
    "                       verboseIter = TRUE)\n",
    "\n",
    "\n",
    "e_net = train(HealthcareCost~.,health_data_lm,method=\"glmnet\",tuneGrid =expand.grid(alpha=seq(0,1,length=10),\n",
    "                                  lambda = seq(0.0001,0.2,length=5)),trControl=custom)"
   ]
  },
  {
   "cell_type": "code",
   "execution_count": 21,
   "metadata": {
    "vscode": {
     "languageId": "r"
    }
   },
   "outputs": [
    {
     "data": {
      "image/png": "[encoded data removed]",
      "text/plain": [
       "plot without title"
      ]
     },
     "metadata": {
      "image/png": {
       "height": 420,
       "width": 420
      }
     },
     "output_type": "display_data"
    }
   ],
   "source": [
    "plot(x=e_net$results$Rsquared,y=e_net$)"
   ]
  },
  {
   "cell_type": "code",
   "execution_count": 25,
   "metadata": {
    "vscode": {
     "languageId": "r"
    }
   },
   "outputs": [
    {
     "ename": "",
     "evalue": "",
     "output_type": "error",
     "traceback": [
      "\u001b[1;31mThe Kernel crashed while executing code in the current cell or a previous cell. \n",
      "\u001b[1;31mPlease review the code in the cell(s) to identify a possible cause of the failure. \n",
      "\u001b[1;31mClick <a href='https://aka.ms/vscodeJupyterKernelCrash'>here</a> for more info. \n",
      "\u001b[1;31mView Jupyter <a href='command:jupyter.viewOutput'>log</a> for further details."
     ]
    }
   ],
   "source": [
    "e_net$finalModel"
   ]
  }
 ],
 "metadata": {
  "kernelspec": {
   "display_name": "R",
   "language": "R",
   "name": "ir"
  },
  "language_info": {
   "codemirror_mode": "r",
   "file_extension": ".r",
   "mimetype": "text/x-r-source",
   "name": "R",
   "pygments_lexer": "r",
   "version": "4.3.2"
  }
 },
 "nbformat": 4,
 "nbformat_minor": 2
}
