{
 "cells": [
  {
   "cell_type": "markdown",
   "metadata": {},
   "source": [
    "Data Import and Cleaning"
   ]
  },
  {
   "cell_type": "code",
   "execution_count": null,
   "metadata": {
    "vscode": {
     "languageId": "r"
    }
   },
   "outputs": [],
   "source": [
    "health_data = read.csv(\"health_data.csv\")\n",
    "\n",
    "library(dplyr)\n",
    "library(tidyr)\n",
    "library(ggplot2)\n",
    "library(GGally)\n",
    "library(fastDummies)\n",
    "library(reshape2)\n",
    "library(randomForest)\n",
    "library(ranger)\n",
    "library(nnet)\n",
    "library(speedglm)\n",
    "\n",
    "head(health_data)\n",
    "summary(health_data)\n",
    "\n",
    "\n",
    "\n",
    "health_data= health_data %>% separate(BloodPressure, c(\"BloodPressureNumerator\",\"BloodPressureDenominator\"),\"/\")\n",
    "\n",
    "health_data$`BloodPressureNumerator` <- as.numeric(as.character(health_data$`BloodPressureNumerator`))\n",
    "health_data$`BloodPressureDenominator` <- as.numeric(as.character(health_data$`BloodPressureDenominator`))\n",
    "\n",
    "health_data %>% summarise_all(~sum(is.na(.)))\n",
    "\n",
    "\n",
    "\n",
    "numeric_data = health_data[,unlist(lapply(health_data, is.numeric))]\n",
    "cat_data = health_data[,unlist(lapply(health_data, is.character))]\n",
    "\n",
    "health_data_clean = health_data\n",
    "\n",
    "health_data_clean$Gender = factor(health_data_clean$Gender,level = c('Male','Female',\"Other\"))\n",
    "health_data_clean$SmokingStatus = factor(health_data_clean$SmokingStatus,levels = c('Never','Former','Current'))\n",
    "health_data_clean$AlcoholConsumption = factor(health_data_clean$AlcoholConsumption,levels = c('Never','Occasionally','Regularly'))\n",
    "health_data_clean$ExerciseFrequency = factor(health_data_clean$ExerciseFrequency,levels = c('Never','Sometimes','Often','Rarely'))\n",
    "health_data_clean$PhysicalActivityLevel = factor(health_data_clean$PhysicalActivityLevel,levels = c('Low','Medium','High'))\n",
    "health_data_clean$DietQuality = factor(health_data_clean$DietQuality,levels = c('Average','Good','Poor'))\n",
    "health_data_clean$MedicationAdherence = factor(health_data_clean$MedicationAdherence,levels = c('Medium','High','Low'))\n",
    "health_data_clean$Outcome = factor(health_data_clean$Outcome,levels = c('Healthy','Critical','At Risk'))\n",
    "\n",
    "library(fastDummies)\n",
    "\n",
    "health_data_lm = dummy_cols(health_data_clean,select_columns = c(\"Gender\",\"SmokingStatus\",\"AlcoholConsumption\",\"ExerciseFrequency\",\"Diabetes\",\"HeartDisease\",\"PhysicalActivityLevel\",\"DietQuality\",\"MedicationAdherence\",\"Outcome\"))\n",
    "health_data_lm = subset(health_data_lm, select=-c(Gender,SmokingStatus,AlcoholConsumption,ExerciseFrequency,Diabetes,HeartDisease,PhysicalActivityLevel,DietQuality,MedicationAdherence,Outcome,PatientID))\n",
    "names(health_data_lm)[names(health_data_lm) == 'Outcome_At Risk'] <- 'Outcome_at_risk'\n"
   ]
  },
  {
   "cell_type": "markdown",
   "metadata": {},
   "source": [
    "Heart Disease Log Regression"
   ]
  },
  {
   "cell_type": "code",
   "execution_count": null,
   "metadata": {
    "vscode": {
     "languageId": "r"
    }
   },
   "outputs": [],
   "source": [
    "health_data_log_reg = dummy_cols(health_data,select_columns = c(\"Gender\",\"SmokingStatus\",\"AlcoholConsumption\",\"ExerciseFrequency\",\"Diabetes\",\"HeartDisease\",\"PhysicalActivityLevel\",\"DietQuality\",\"MedicationAdherence\",\"Outcome\"))\n",
    "names(health_data_log_reg)[names(health_data_log_reg) == 'Outcome_At Risk'] <- 'Outcome_at_risk'\n",
    "health_data_log_reg_heart_disease <- subset(health_data_log_reg, select = -c(HealthcareCost,HeartDisease_No,HeartDisease_Yes,PatientID,Gender,SmokingStatus,AlcoholConsumption,ExerciseFrequency,PhysicalActivityLevel,PhysicalActivityLevel,DietQuality,MedicationAdherence,Gender_Other,Diabetes,MedicationAdherence_Medium,ExerciseFrequency_Sometimes,AlcoholConsumption_Regularly,SmokingStatus_Never))\n",
    "health_data_log_reg_heart_disease$HeartDisease <- as.factor(health_data_log_reg_heart_disease$HeartDisease)"
   ]
  },
  {
   "cell_type": "code",
   "execution_count": null,
   "metadata": {
    "vscode": {
     "languageId": "r"
    }
   },
   "outputs": [],
   "source": [
    "rand_forest_log_heart_disease <- ranger(\n",
    "  HeartDisease ~ ., \n",
    "  data = health_data_log_reg_heart_disease, mtry = 3, \n",
    "  num.trees = 150, \n",
    "  probability = TRUE, \n",
    "  importance = 'impurity'\n",
    ")\n",
    "print(rand_forest_log_heart_disease)"
   ]
  },
  {
   "cell_type": "code",
   "execution_count": null,
   "metadata": {
    "vscode": {
     "languageId": "r"
    }
   },
   "outputs": [],
   "source": [
    "importance_scores_heart_disease = rand_forest_log_heart_disease$variable.importance\n",
    "important_vars_df_log_heart_disease = data.frame(Variables = names(importance_scores_heart_disease),Score= importance_scores_heart_disease)\n",
    "\n",
    "ggplot(important_vars_df_log_heart_disease, aes(x = reorder(Variables, Score), y = Score)) +\n",
    "  geom_bar(stat = \"identity\") +\n",
    "  coord_flip() +\n",
    "  labs(title = \"Variable Importance - LG Heart Disease\",\n",
    "       x = \"Feature\",\n",
    "       y = \"Importance\") +\n",
    "  theme_minimal()"
   ]
  },
  {
   "cell_type": "code",
   "execution_count": null,
   "metadata": {
    "vscode": {
     "languageId": "r"
    }
   },
   "outputs": [],
   "source": [
    "predictions_heart_disease <- predict(rand_forest_log_heart_disease, \n",
    "                                    data = dplyr::select(health_data_log_reg_heart_disease, -HeartDisease))$predictions\n",
    "predictions_heart_disease <- as.data.frame(predictions_heart_disease)\n",
    "\n",
    "predictions_heart_disease <- predictions_heart_disease %>%\n",
    "  mutate(Pred = ifelse(No > 0.8, 0, 1))\n",
    "\n",
    "actual_heart_disease <- ifelse(health_data_log_reg_heart_disease$HeartDisease == \"No\", 0, 1)\n",
    "\n",
    "\n",
    "actual_factor_heart_disease <- factor(actual_heart_disease)\n",
    "\n",
    "conf_matrix <- confusionMatrix(as.factor(predictions_heart_disease$Pred), actual_factor_heart_disease)\n",
    "print(conf_matrix)"
   ]
  },
  {
   "cell_type": "markdown",
   "metadata": {},
   "source": [
    "Diabetes Log Regression"
   ]
  },
  {
   "cell_type": "code",
   "execution_count": null,
   "metadata": {
    "vscode": {
     "languageId": "r"
    }
   },
   "outputs": [],
   "source": [
    "health_data_log_reg = dummy_cols(health_data,select_columns = c(\"Gender\",\"SmokingStatus\",\"AlcoholConsumption\",\"ExerciseFrequency\",\"Diabetes\",\"HeartDisease\",\"PhysicalActivityLevel\",\"DietQuality\",\"MedicationAdherence\",\"Outcome\"))\n",
    "names(health_data_log_reg)[names(health_data_log_reg) == 'Outcome_At Risk'] <- 'Outcome_at_risk'\n",
    "health_data_log_reg_heart_diabetes <- subset(health_data_log_reg, select = -c(HealthcareCost,Diabetes_No,Diabetes_Yes,PatientID,Gender,SmokingStatus,AlcoholConsumption,ExerciseFrequency,PhysicalActivityLevel,PhysicalActivityLevel,DietQuality,MedicationAdherence,Gender_Other,MedicationAdherence_Medium,ExerciseFrequency_Sometimes,AlcoholConsumption_Regularly,SmokingStatus_Never))\n",
    "health_data_log_reg_heart_diabetes$Diabetes <- as.factor(health_data_log_reg_heart_diabetes$Diabetes)"
   ]
  },
  {
   "cell_type": "code",
   "execution_count": null,
   "metadata": {
    "vscode": {
     "languageId": "r"
    }
   },
   "outputs": [],
   "source": [
    "rand_forest_log_heart_diabetes <- ranger(\n",
    "  Diabetes ~ ., \n",
    "  data = health_data_log_reg_heart_diabetes, mtry = 3, \n",
    "  num.trees = 100, \n",
    "  probability = TRUE, \n",
    "  importance = 'impurity'\n",
    ")\n",
    "print(rand_forest_log_heart_diabetes)"
   ]
  },
  {
   "cell_type": "code",
   "execution_count": null,
   "metadata": {
    "vscode": {
     "languageId": "r"
    }
   },
   "outputs": [],
   "source": [
    "importance_scores_diabetes = rand_forest_log_heart_diabetes$variable.importance\n",
    "important_vars_df_log_diabetes = data.frame(Variables = names(importance_scores_diabetes),Score= importance_scores_diabetes)\n",
    "\n",
    "ggplot(important_vars_df_log_diabetes, aes(x = reorder(Variables, Score), y = Score)) +\n",
    "  geom_bar(stat = \"identity\") +\n",
    "  coord_flip() +\n",
    "  labs(title = \"Variable Importance - LG Diabetes\",\n",
    "       x = \"Feature\",\n",
    "       y = \"Importance\") +\n",
    "  theme_minimal()"
   ]
  },
  {
   "cell_type": "code",
   "execution_count": null,
   "metadata": {
    "vscode": {
     "languageId": "r"
    }
   },
   "outputs": [],
   "source": [
    "predictions_diabetes <- predict(rand_forest_log_heart_diabetes, \n",
    "                                    data = dplyr::select(health_data_log_reg_heart_diabetes),type=\"prob\")$predictions\n",
    "predictions_diabetes <- as.data.frame(predictions_diabetes)\n",
    "\n",
    "predictions_heart_diabetes <- predictions_diabetes %>%\n",
    "  mutate(Pred = ifelse(No > 0.8, 0, 1))\n",
    "\n",
    "actual_heart_diabetes<- ifelse(health_data_log_reg_heart_diabetes$Diabetes == \"No\", 0, 1)"
   ]
  },
  {
   "cell_type": "code",
   "execution_count": null,
   "metadata": {
    "vscode": {
     "languageId": "r"
    }
   },
   "outputs": [],
   "source": [
    "actual_factor_diabetes <- factor(actual_heart_diabetes)\n",
    "\n",
    "conf_matrix_diabetes <- confusionMatrix(as.factor(predictions_heart_diabetes$Pred), actual_factor_diabetes)\n",
    "print(conf_matrix_diabetes)"
   ]
  }
 ],
 "metadata": {
  "kernelspec": {
   "display_name": "R",
   "language": "R",
   "name": "ir"
  },
  "language_info": {
   "name": "R"
  }
 },
 "nbformat": 4,
 "nbformat_minor": 2
}
