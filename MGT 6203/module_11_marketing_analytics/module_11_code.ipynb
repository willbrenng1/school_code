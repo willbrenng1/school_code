{
 "cells": [
  {
   "cell_type": "code",
   "execution_count": 2,
   "metadata": {
    "vscode": {
     "languageId": "r"
    }
   },
   "outputs": [
    {
     "name": "stderr",
     "output_type": "stream",
     "text": [
      "Loading required package: dplyr\n",
      "\n",
      "\n",
      "Attaching package: 'dplyr'\n",
      "\n",
      "\n",
      "The following objects are masked from 'package:stats':\n",
      "\n",
      "    filter, lag\n",
      "\n",
      "\n",
      "The following objects are masked from 'package:base':\n",
      "\n",
      "    intersect, setdiff, setequal, union\n",
      "\n",
      "\n"
     ]
    }
   ],
   "source": [
    "### Week 11 Code\n",
    "\n",
    "\n",
    "## Code Courtesy: \"An introduction to Facebook ad analysis using R\" Kaggle kernel by ChrisBow\n",
    "## For more information, please visit: https://www.kaggle.com/chrisbow/an-introduction-to-facebook-ad-analysis-using-r/data\n",
    "\n",
    "\n",
    "##Dataset Courtesy: https://www.kaggle.com/loveall/clicks-conversion-tracking\n",
    "\n",
    "\n",
    "##IMPORTANT NOTE - dplyr is extensively used as a part of this code. Please check for dplyr learning resources in R Learning Guide\n",
    "#previously provided. \n",
    "#Strong Recommendation - http://rpubs.com/justmarkham/dplyr-tutorial and corresponding Video - https://www.youtube.com/watch?v=jWjqLW-u3hc&t=1511s\n",
    "#You will be comfortable with most dplyr verbs 20-25 mins into the video. We will be discussing the code in more detail in TA hours\n",
    "#Your future assignments will involve a bit of dplyr coding questions - it is a very good tool for data wrangling. We encourage you to \n",
    "#learn it in some capacity.\n",
    "\n",
    "\n",
    "#Setting the working directory. Change to your local directory where you download the dataset\n",
    "setwd(\"C:/Users/Will/Desktop/School/ISYE 6203/Module 11 - Marketing Analytics\")\n",
    "\n",
    "\n",
    "#DataExplorer package for exploratory data analysis \n",
    "#Useful Documentation- https://cran.r-project.org/web/packages/DataExplorer/vignettes/dataexplorer-intro.html\n",
    "if (!require(DataExplorer)) install.packages(\"DataExplorer\")\n",
    "library(DataExplorer)\n",
    "\n",
    "#dplyr - Data Wrangling Package. Check R Learning Guide for resources to quickly learn dplyr\n",
    "if (!require(dplyr)) install.packages(\"dplyr\")\n",
    "library(dplyr)\n"
   ]
  },
  {
   "cell_type": "code",
   "execution_count": 8,
   "metadata": {
    "vscode": {
     "languageId": "r"
    }
   },
   "outputs": [
    {
     "data": {
      "text/html": [
       "<table class=\"dataframe\">\n",
       "<caption>A data.frame: 6 × 11</caption>\n",
       "<thead>\n",
       "\t<tr><th></th><th scope=col>ad_id</th><th scope=col>xyz_campaign_id</th><th scope=col>fb_campaign_id</th><th scope=col>age</th><th scope=col>gender</th><th scope=col>interest</th><th scope=col>Impressions</th><th scope=col>Clicks</th><th scope=col>Spent</th><th scope=col>Total_Conversion</th><th scope=col>Approved_Conversion</th></tr>\n",
       "\t<tr><th></th><th scope=col>&lt;int&gt;</th><th scope=col>&lt;int&gt;</th><th scope=col>&lt;int&gt;</th><th scope=col>&lt;chr&gt;</th><th scope=col>&lt;chr&gt;</th><th scope=col>&lt;int&gt;</th><th scope=col>&lt;int&gt;</th><th scope=col>&lt;int&gt;</th><th scope=col>&lt;dbl&gt;</th><th scope=col>&lt;int&gt;</th><th scope=col>&lt;int&gt;</th></tr>\n",
       "</thead>\n",
       "<tbody>\n",
       "\t<tr><th scope=row>1</th><td>708746</td><td>916</td><td>103916</td><td>30-34</td><td>M</td><td>15</td><td> 7350</td><td>1</td><td>1.43</td><td>2</td><td>1</td></tr>\n",
       "\t<tr><th scope=row>2</th><td>708749</td><td>916</td><td>103917</td><td>30-34</td><td>M</td><td>16</td><td>17861</td><td>2</td><td>1.82</td><td>2</td><td>0</td></tr>\n",
       "\t<tr><th scope=row>3</th><td>708771</td><td>916</td><td>103920</td><td>30-34</td><td>M</td><td>20</td><td>  693</td><td>0</td><td>0.00</td><td>1</td><td>0</td></tr>\n",
       "\t<tr><th scope=row>4</th><td>708815</td><td>916</td><td>103928</td><td>30-34</td><td>M</td><td>28</td><td> 4259</td><td>1</td><td>1.25</td><td>1</td><td>0</td></tr>\n",
       "\t<tr><th scope=row>5</th><td>708818</td><td>916</td><td>103928</td><td>30-34</td><td>M</td><td>28</td><td> 4133</td><td>1</td><td>1.29</td><td>1</td><td>1</td></tr>\n",
       "\t<tr><th scope=row>6</th><td>708820</td><td>916</td><td>103929</td><td>30-34</td><td>M</td><td>29</td><td> 1915</td><td>0</td><td>0.00</td><td>1</td><td>1</td></tr>\n",
       "</tbody>\n",
       "</table>\n"
      ],
      "text/latex": [
       "A data.frame: 6 × 11\n",
       "\\begin{tabular}{r|lllllllllll}\n",
       "  & ad\\_id & xyz\\_campaign\\_id & fb\\_campaign\\_id & age & gender & interest & Impressions & Clicks & Spent & Total\\_Conversion & Approved\\_Conversion\\\\\n",
       "  & <int> & <int> & <int> & <chr> & <chr> & <int> & <int> & <int> & <dbl> & <int> & <int>\\\\\n",
       "\\hline\n",
       "\t1 & 708746 & 916 & 103916 & 30-34 & M & 15 &  7350 & 1 & 1.43 & 2 & 1\\\\\n",
       "\t2 & 708749 & 916 & 103917 & 30-34 & M & 16 & 17861 & 2 & 1.82 & 2 & 0\\\\\n",
       "\t3 & 708771 & 916 & 103920 & 30-34 & M & 20 &   693 & 0 & 0.00 & 1 & 0\\\\\n",
       "\t4 & 708815 & 916 & 103928 & 30-34 & M & 28 &  4259 & 1 & 1.25 & 1 & 0\\\\\n",
       "\t5 & 708818 & 916 & 103928 & 30-34 & M & 28 &  4133 & 1 & 1.29 & 1 & 1\\\\\n",
       "\t6 & 708820 & 916 & 103929 & 30-34 & M & 29 &  1915 & 0 & 0.00 & 1 & 1\\\\\n",
       "\\end{tabular}\n"
      ],
      "text/markdown": [
       "\n",
       "A data.frame: 6 × 11\n",
       "\n",
       "| <!--/--> | ad_id &lt;int&gt; | xyz_campaign_id &lt;int&gt; | fb_campaign_id &lt;int&gt; | age &lt;chr&gt; | gender &lt;chr&gt; | interest &lt;int&gt; | Impressions &lt;int&gt; | Clicks &lt;int&gt; | Spent &lt;dbl&gt; | Total_Conversion &lt;int&gt; | Approved_Conversion &lt;int&gt; |\n",
       "|---|---|---|---|---|---|---|---|---|---|---|---|\n",
       "| 1 | 708746 | 916 | 103916 | 30-34 | M | 15 |  7350 | 1 | 1.43 | 2 | 1 |\n",
       "| 2 | 708749 | 916 | 103917 | 30-34 | M | 16 | 17861 | 2 | 1.82 | 2 | 0 |\n",
       "| 3 | 708771 | 916 | 103920 | 30-34 | M | 20 |   693 | 0 | 0.00 | 1 | 0 |\n",
       "| 4 | 708815 | 916 | 103928 | 30-34 | M | 28 |  4259 | 1 | 1.25 | 1 | 0 |\n",
       "| 5 | 708818 | 916 | 103928 | 30-34 | M | 28 |  4133 | 1 | 1.29 | 1 | 1 |\n",
       "| 6 | 708820 | 916 | 103929 | 30-34 | M | 29 |  1915 | 0 | 0.00 | 1 | 1 |\n",
       "\n"
      ],
      "text/plain": [
       "  ad_id  xyz_campaign_id fb_campaign_id age   gender interest Impressions\n",
       "1 708746 916             103916         30-34 M      15        7350      \n",
       "2 708749 916             103917         30-34 M      16       17861      \n",
       "3 708771 916             103920         30-34 M      20         693      \n",
       "4 708815 916             103928         30-34 M      28        4259      \n",
       "5 708818 916             103928         30-34 M      28        4133      \n",
       "6 708820 916             103929         30-34 M      29        1915      \n",
       "  Clicks Spent Total_Conversion Approved_Conversion\n",
       "1 1      1.43  2                1                  \n",
       "2 2      1.82  2                0                  \n",
       "3 0      0.00  1                0                  \n",
       "4 1      1.25  1                0                  \n",
       "5 1      1.29  1                1                  \n",
       "6 0      0.00  1                1                  "
      ]
     },
     "metadata": {},
     "output_type": "display_data"
    }
   ],
   "source": [
    "#Download this dataset and place it in your working directory\n",
    "data <- read.csv(\"KAG_conversion_data.csv\",stringsAsFactors = FALSE)\n",
    "\n",
    "head(data)"
   ]
  },
  {
   "cell_type": "code",
   "execution_count": 9,
   "metadata": {
    "vscode": {
     "languageId": "r"
    }
   },
   "outputs": [
    {
     "data": {
      "text/html": [
       "<table class=\"dataframe\">\n",
       "<caption>A data.frame: 6 × 10</caption>\n",
       "<thead>\n",
       "\t<tr><th></th><th scope=col>ad_id</th><th scope=col>campaign_id</th><th scope=col>age</th><th scope=col>gender</th><th scope=col>interest</th><th scope=col>Impressions</th><th scope=col>Clicks</th><th scope=col>Spent</th><th scope=col>Total_Conversion</th><th scope=col>Approved_Conversion</th></tr>\n",
       "\t<tr><th></th><th scope=col>&lt;int&gt;</th><th scope=col>&lt;int&gt;</th><th scope=col>&lt;chr&gt;</th><th scope=col>&lt;chr&gt;</th><th scope=col>&lt;int&gt;</th><th scope=col>&lt;int&gt;</th><th scope=col>&lt;int&gt;</th><th scope=col>&lt;dbl&gt;</th><th scope=col>&lt;int&gt;</th><th scope=col>&lt;int&gt;</th></tr>\n",
       "</thead>\n",
       "<tbody>\n",
       "\t<tr><th scope=row>1</th><td>708746</td><td>916</td><td>30-34</td><td>M</td><td>15</td><td> 7350</td><td>1</td><td>1.43</td><td>2</td><td>1</td></tr>\n",
       "\t<tr><th scope=row>2</th><td>708749</td><td>916</td><td>30-34</td><td>M</td><td>16</td><td>17861</td><td>2</td><td>1.82</td><td>2</td><td>0</td></tr>\n",
       "\t<tr><th scope=row>3</th><td>708771</td><td>916</td><td>30-34</td><td>M</td><td>20</td><td>  693</td><td>0</td><td>0.00</td><td>1</td><td>0</td></tr>\n",
       "\t<tr><th scope=row>4</th><td>708815</td><td>916</td><td>30-34</td><td>M</td><td>28</td><td> 4259</td><td>1</td><td>1.25</td><td>1</td><td>0</td></tr>\n",
       "\t<tr><th scope=row>5</th><td>708818</td><td>916</td><td>30-34</td><td>M</td><td>28</td><td> 4133</td><td>1</td><td>1.29</td><td>1</td><td>1</td></tr>\n",
       "\t<tr><th scope=row>6</th><td>708820</td><td>916</td><td>30-34</td><td>M</td><td>29</td><td> 1915</td><td>0</td><td>0.00</td><td>1</td><td>1</td></tr>\n",
       "</tbody>\n",
       "</table>\n"
      ],
      "text/latex": [
       "A data.frame: 6 × 10\n",
       "\\begin{tabular}{r|llllllllll}\n",
       "  & ad\\_id & campaign\\_id & age & gender & interest & Impressions & Clicks & Spent & Total\\_Conversion & Approved\\_Conversion\\\\\n",
       "  & <int> & <int> & <chr> & <chr> & <int> & <int> & <int> & <dbl> & <int> & <int>\\\\\n",
       "\\hline\n",
       "\t1 & 708746 & 916 & 30-34 & M & 15 &  7350 & 1 & 1.43 & 2 & 1\\\\\n",
       "\t2 & 708749 & 916 & 30-34 & M & 16 & 17861 & 2 & 1.82 & 2 & 0\\\\\n",
       "\t3 & 708771 & 916 & 30-34 & M & 20 &   693 & 0 & 0.00 & 1 & 0\\\\\n",
       "\t4 & 708815 & 916 & 30-34 & M & 28 &  4259 & 1 & 1.25 & 1 & 0\\\\\n",
       "\t5 & 708818 & 916 & 30-34 & M & 28 &  4133 & 1 & 1.29 & 1 & 1\\\\\n",
       "\t6 & 708820 & 916 & 30-34 & M & 29 &  1915 & 0 & 0.00 & 1 & 1\\\\\n",
       "\\end{tabular}\n"
      ],
      "text/markdown": [
       "\n",
       "A data.frame: 6 × 10\n",
       "\n",
       "| <!--/--> | ad_id &lt;int&gt; | campaign_id &lt;int&gt; | age &lt;chr&gt; | gender &lt;chr&gt; | interest &lt;int&gt; | Impressions &lt;int&gt; | Clicks &lt;int&gt; | Spent &lt;dbl&gt; | Total_Conversion &lt;int&gt; | Approved_Conversion &lt;int&gt; |\n",
       "|---|---|---|---|---|---|---|---|---|---|---|\n",
       "| 1 | 708746 | 916 | 30-34 | M | 15 |  7350 | 1 | 1.43 | 2 | 1 |\n",
       "| 2 | 708749 | 916 | 30-34 | M | 16 | 17861 | 2 | 1.82 | 2 | 0 |\n",
       "| 3 | 708771 | 916 | 30-34 | M | 20 |   693 | 0 | 0.00 | 1 | 0 |\n",
       "| 4 | 708815 | 916 | 30-34 | M | 28 |  4259 | 1 | 1.25 | 1 | 0 |\n",
       "| 5 | 708818 | 916 | 30-34 | M | 28 |  4133 | 1 | 1.29 | 1 | 1 |\n",
       "| 6 | 708820 | 916 | 30-34 | M | 29 |  1915 | 0 | 0.00 | 1 | 1 |\n",
       "\n"
      ],
      "text/plain": [
       "  ad_id  campaign_id age   gender interest Impressions Clicks Spent\n",
       "1 708746 916         30-34 M      15        7350       1      1.43 \n",
       "2 708749 916         30-34 M      16       17861       2      1.82 \n",
       "3 708771 916         30-34 M      20         693       0      0.00 \n",
       "4 708815 916         30-34 M      28        4259       1      1.25 \n",
       "5 708818 916         30-34 M      28        4133       1      1.29 \n",
       "6 708820 916         30-34 M      29        1915       0      0.00 \n",
       "  Total_Conversion Approved_Conversion\n",
       "1 2                1                  \n",
       "2 2                0                  \n",
       "3 1                0                  \n",
       "4 1                0                  \n",
       "5 1                1                  \n",
       "6 1                1                  "
      ]
     },
     "metadata": {},
     "output_type": "display_data"
    }
   ],
   "source": [
    "#Dataset manipulation\n",
    "#Drop fb_campaign_id\n",
    "data<- data %>% select(-fb_campaign_id)\n",
    "#rename xyz_campaign_id\n",
    "data<- data %>% rename(campaign_id=xyz_campaign_id)\n",
    "\n",
    "\n",
    "\n",
    "head(data)"
   ]
  },
  {
   "cell_type": "code",
   "execution_count": null,
   "metadata": {
    "vscode": {
     "languageId": "r"
    }
   },
   "outputs": [],
   "source": [
    "#Check the data dictionary provided with the code for meanings of various columns\n",
    "\n",
    "\n",
    "#Columns: \n",
    "#\n",
    "#1.) ad_id: unique ID for each ad. Acts as primray key/sole identifier for that ad \n",
    "#\n",
    "#2.) campaign_id: an ID associated with each ad campaign of a company.\n",
    "#\n",
    "#3.) age: age of the person to whom the ad is shown.\n",
    "#\n",
    "#4.) gender: gender of the person to whom the add is shown\n",
    "#\n",
    "#5.) interest: a code specifying the category to which the person's interest belongs (interests are as mentioned in the person's Facebook public profile).\n",
    "#\n",
    "#6.) Impressions: the number of times the ad was shown.\n",
    "#\n",
    "#7.) Clicks: number of clicks on for that ad.\n",
    "#\n",
    "#8.) Spent: Amount paid by a company to Facebook, to show that ad.\n",
    "#\n",
    "#9.) Total conversion: Total number of people who enquired about the product after seeing the ad.\n",
    "#\n",
    "#10.) Approved conversion: Total number of people who bought the product after seeing the ad.\n"
   ]
  },
  {
   "cell_type": "code",
   "execution_count": 10,
   "metadata": {
    "vscode": {
     "languageId": "r"
    }
   },
   "outputs": [
    {
     "data": {
      "text/html": [
       "1143"
      ],
      "text/latex": [
       "1143"
      ],
      "text/markdown": [
       "1143"
      ],
      "text/plain": [
       "[1] 1143"
      ]
     },
     "metadata": {},
     "output_type": "display_data"
    },
    {
     "data": {
      "text/html": [
       "3"
      ],
      "text/latex": [
       "3"
      ],
      "text/markdown": [
       "3"
      ],
      "text/plain": [
       "[1] 3"
      ]
     },
     "metadata": {},
     "output_type": "display_data"
    },
    {
     "data": {
      "text/html": [
       "<style>\n",
       ".list-inline {list-style: none; margin:0; padding: 0}\n",
       ".list-inline>li {display: inline-block}\n",
       ".list-inline>li:not(:last-child)::after {content: \"\\00b7\"; padding: 0 .5ex}\n",
       "</style>\n",
       "<ol class=list-inline><li>'30-34'</li><li>'35-39'</li><li>'40-44'</li><li>'45-49'</li></ol>\n"
      ],
      "text/latex": [
       "\\begin{enumerate*}\n",
       "\\item '30-34'\n",
       "\\item '35-39'\n",
       "\\item '40-44'\n",
       "\\item '45-49'\n",
       "\\end{enumerate*}\n"
      ],
      "text/markdown": [
       "1. '30-34'\n",
       "2. '35-39'\n",
       "3. '40-44'\n",
       "4. '45-49'\n",
       "\n",
       "\n"
      ],
      "text/plain": [
       "[1] \"30-34\" \"35-39\" \"40-44\" \"45-49\""
      ]
     },
     "metadata": {},
     "output_type": "display_data"
    },
    {
     "data": {
      "text/html": [
       "<style>\n",
       ".list-inline {list-style: none; margin:0; padding: 0}\n",
       ".list-inline>li {display: inline-block}\n",
       ".list-inline>li:not(:last-child)::after {content: \"\\00b7\"; padding: 0 .5ex}\n",
       "</style>\n",
       "<ol class=list-inline><li>'M'</li><li>'F'</li></ol>\n"
      ],
      "text/latex": [
       "\\begin{enumerate*}\n",
       "\\item 'M'\n",
       "\\item 'F'\n",
       "\\end{enumerate*}\n"
      ],
      "text/markdown": [
       "1. 'M'\n",
       "2. 'F'\n",
       "\n",
       "\n"
      ],
      "text/plain": [
       "[1] \"M\" \"F\""
      ]
     },
     "metadata": {},
     "output_type": "display_data"
    },
    {
     "name": "stdout",
     "output_type": "stream",
     "text": [
      "Rows: 1,143\n",
      "Columns: 10\n",
      "$ ad_id               \u001b[3m\u001b[90m<int>\u001b[39m\u001b[23m 708746, 708749, 708771, 708815, 708818, 708820, 70…\n",
      "$ campaign_id         \u001b[3m\u001b[90m<int>\u001b[39m\u001b[23m 916, 916, 916, 916, 916, 916, 916, 916, 916, 916, …\n",
      "$ age                 \u001b[3m\u001b[90m<chr>\u001b[39m\u001b[23m \"30-34\", \"30-34\", \"30-34\", \"30-34\", \"30-34\", \"30-3…\n",
      "$ gender              \u001b[3m\u001b[90m<chr>\u001b[39m\u001b[23m \"M\", \"M\", \"M\", \"M\", \"M\", \"M\", \"M\", \"M\", \"M\", \"M\", …\n",
      "$ interest            \u001b[3m\u001b[90m<int>\u001b[39m\u001b[23m 15, 16, 20, 28, 28, 29, 15, 16, 27, 28, 31, 7, 16,…\n",
      "$ Impressions         \u001b[3m\u001b[90m<int>\u001b[39m\u001b[23m 7350, 17861, 693, 4259, 4133, 1915, 15615, 10951, …\n",
      "$ Clicks              \u001b[3m\u001b[90m<int>\u001b[39m\u001b[23m 1, 2, 0, 1, 1, 0, 3, 1, 1, 3, 0, 0, 0, 0, 7, 0, 1,…\n",
      "$ Spent               \u001b[3m\u001b[90m<dbl>\u001b[39m\u001b[23m 1.43, 1.82, 0.00, 1.25, 1.29, 0.00, 4.77, 1.27, 1.…\n",
      "$ Total_Conversion    \u001b[3m\u001b[90m<int>\u001b[39m\u001b[23m 2, 2, 1, 1, 1, 1, 1, 1, 1, 1, 1, 1, 1, 1, 1, 1, 1,…\n",
      "$ Approved_Conversion \u001b[3m\u001b[90m<int>\u001b[39m\u001b[23m 1, 0, 0, 0, 1, 1, 0, 1, 0, 0, 0, 0, 0, 0, 1, 1, 0,…\n"
     ]
    }
   ],
   "source": [
    "## Quickly exploring the dataset\n",
    "\n",
    "\n",
    "#How many facebook ads do we have? \n",
    "length(data$ad_id)\n",
    "#1143\n",
    "\n",
    "\n",
    "#How many unique facebook ad campaigns are there?\n",
    "length(unique(data$campaign_id))\n",
    "#3\n",
    "\n",
    "\n",
    "#What age groups were ads targeted at? \n",
    "unique(data$age)\n",
    "# 30-34 35-39 40-44 45-49\n",
    "\n",
    "\n",
    "#Genders - \n",
    "unique(data$gender)\n",
    "#M F\n",
    "\n",
    "\n",
    "#Quick glimpse at the data and data types\n",
    "glimpse(data)"
   ]
  },
  {
   "cell_type": "code",
   "execution_count": 11,
   "metadata": {
    "vscode": {
     "languageId": "r"
    }
   },
   "outputs": [],
   "source": [
    "### Gender and Age are Factors. Let us change them into integer data as: \n",
    "# replace character string age ranges with number (average age of the range)\n",
    "#(It is neccessary to convert them into categorical/numerical variables for groupby analysis)\n",
    "data$age[data$age == '30-34'] <- 32\n",
    "data$age[data$age == '35-39'] <- 37\n",
    "data$age[data$age == '40-44'] <- 42\n",
    "data$age[data$age == '45-49'] <- 47\n"
   ]
  },
  {
   "cell_type": "code",
   "execution_count": 12,
   "metadata": {
    "vscode": {
     "languageId": "r"
    }
   },
   "outputs": [],
   "source": [
    "# convert variable to integer\n",
    "data$age <- as.integer(data$age)"
   ]
  },
  {
   "cell_type": "code",
   "execution_count": 13,
   "metadata": {
    "vscode": {
     "languageId": "r"
    }
   },
   "outputs": [],
   "source": [
    "# convert gender variable to integer\n",
    "data$gender[data$gender == 'M'] <- 0\n",
    "data$gender[data$gender == 'F'] <- 1\n",
    "data$gender <- as.integer(data$gender)\n"
   ]
  },
  {
   "cell_type": "code",
   "execution_count": 14,
   "metadata": {
    "vscode": {
     "languageId": "r"
    }
   },
   "outputs": [
    {
     "data": {
      "text/html": [
       "<style>\n",
       ".dl-inline {width: auto; margin:0; padding: 0}\n",
       ".dl-inline>dt, .dl-inline>dd {float: none; width: auto; display: inline-block}\n",
       ".dl-inline>dt::after {content: \":\\0020\"; padding-right: .5ex}\n",
       ".dl-inline>dt:not(:first-of-type) {padding-left: .5ex}\n",
       "</style><dl class=dl-inline><dt>ad_id</dt><dd>0</dd><dt>campaign_id</dt><dd>0</dd><dt>age</dt><dd>0</dd><dt>gender</dt><dd>0</dd><dt>interest</dt><dd>0</dd><dt>Impressions</dt><dd>0</dd><dt>Clicks</dt><dd>0</dd><dt>Spent</dt><dd>0</dd><dt>Total_Conversion</dt><dd>0</dd><dt>Approved_Conversion</dt><dd>0</dd></dl>\n"
      ],
      "text/latex": [
       "\\begin{description*}\n",
       "\\item[ad\\textbackslash{}\\_id] 0\n",
       "\\item[campaign\\textbackslash{}\\_id] 0\n",
       "\\item[age] 0\n",
       "\\item[gender] 0\n",
       "\\item[interest] 0\n",
       "\\item[Impressions] 0\n",
       "\\item[Clicks] 0\n",
       "\\item[Spent] 0\n",
       "\\item[Total\\textbackslash{}\\_Conversion] 0\n",
       "\\item[Approved\\textbackslash{}\\_Conversion] 0\n",
       "\\end{description*}\n"
      ],
      "text/markdown": [
       "ad_id\n",
       ":   0campaign_id\n",
       ":   0age\n",
       ":   0gender\n",
       ":   0interest\n",
       ":   0Impressions\n",
       ":   0Clicks\n",
       ":   0Spent\n",
       ":   0Total_Conversion\n",
       ":   0Approved_Conversion\n",
       ":   0\n",
       "\n"
      ],
      "text/plain": [
       "              ad_id         campaign_id                 age              gender \n",
       "                  0                   0                   0                   0 \n",
       "           interest         Impressions              Clicks               Spent \n",
       "                  0                   0                   0                   0 \n",
       "   Total_Conversion Approved_Conversion \n",
       "                  0                   0 "
      ]
     },
     "metadata": {},
     "output_type": "display_data"
    }
   ],
   "source": [
    "#Checking for missing data\n",
    "sapply(data,function(x) sum(is.na(x)))\n",
    "#What does above command do? \n",
    "#Above command simultaneously checks no of NA values in all columns of dataset \"data\"\n",
    "#For eg: running sum(is.na(data$gender)) gives number of NA values in \"gender\" column of data.\n",
    "#We want to do this for all columns without running it manually. sapply() helps apply a function \n",
    "#to each column of a dataset. "
   ]
  },
  {
   "cell_type": "code",
   "execution_count": 15,
   "metadata": {
    "vscode": {
     "languageId": "r"
    }
   },
   "outputs": [
    {
     "data": {
      "image/png": "[encoded data removed]",
      "text/plain": [
       "plot without title"
      ]
     },
     "metadata": {
      "image/png": {
       "height": 420,
       "width": 420
      }
     },
     "output_type": "display_data"
    }
   ],
   "source": [
    "#Easier Alternative way to check for missing data (using Data Explorer Package)\n",
    "plot_missing(data)\n"
   ]
  },
  {
   "cell_type": "code",
   "execution_count": 16,
   "metadata": {
    "vscode": {
     "languageId": "r"
    }
   },
   "outputs": [
    {
     "data": {
      "text/plain": [
       "     ad_id          campaign_id        age            gender      \n",
       " Min.   : 708746   Min.   : 916   Min.   :32.00   Min.   :0.0000  \n",
       " 1st Qu.: 777633   1st Qu.: 936   1st Qu.:32.00   1st Qu.:0.0000  \n",
       " Median :1121185   Median :1178   Median :37.00   Median :0.0000  \n",
       " Mean   : 987261   Mean   :1067   Mean   :38.32   Mean   :0.4821  \n",
       " 3rd Qu.:1121805   3rd Qu.:1178   3rd Qu.:42.00   3rd Qu.:1.0000  \n",
       " Max.   :1314415   Max.   :1178   Max.   :47.00   Max.   :1.0000  \n",
       "    interest       Impressions          Clicks           Spent       \n",
       " Min.   :  2.00   Min.   :     87   Min.   :  0.00   Min.   :  0.00  \n",
       " 1st Qu.: 16.00   1st Qu.:   6504   1st Qu.:  1.00   1st Qu.:  1.48  \n",
       " Median : 25.00   Median :  51509   Median :  8.00   Median : 12.37  \n",
       " Mean   : 32.77   Mean   : 186732   Mean   : 33.39   Mean   : 51.36  \n",
       " 3rd Qu.: 31.00   3rd Qu.: 221769   3rd Qu.: 37.50   3rd Qu.: 60.02  \n",
       " Max.   :114.00   Max.   :3052003   Max.   :421.00   Max.   :639.95  \n",
       " Total_Conversion Approved_Conversion\n",
       " Min.   : 0.000   Min.   : 0.000     \n",
       " 1st Qu.: 1.000   1st Qu.: 0.000     \n",
       " Median : 1.000   Median : 1.000     \n",
       " Mean   : 2.856   Mean   : 0.944     \n",
       " 3rd Qu.: 3.000   3rd Qu.: 1.000     \n",
       " Max.   :60.000   Max.   :21.000     "
      ]
     },
     "metadata": {},
     "output_type": "display_data"
    }
   ],
   "source": [
    "#Descriptive Statistics of the dataset\n",
    "summary(data)\n"
   ]
  },
  {
   "cell_type": "code",
   "execution_count": null,
   "metadata": {
    "vscode": {
     "languageId": "r"
    }
   },
   "outputs": [],
   "source": [
    "##### Creating Additional Useful Features\n",
    "\n",
    "\n",
    "#1) Click-through-rate (CTR). This is the percentage of how many of our impressions became clicks. \n",
    "#A high CTR is often seen as a sign of good creative being presented to a relevant audience. \n",
    "#A low click through rate is suggestive of less-than-engaging adverts (design and / or messaging) and / or \n",
    "#presentation of adverts to an inappropriate audience. What is seen as a good CTR will depend on the type of \n",
    "#advert (website banner, Google Shopping ad, search network test ad etc.) and can vary across sectors, but 2% would be a reasonable benchmark.\n",
    "\n",
    "\n",
    "#2) Cost Per Click (CPC). Self-explanatory this one: how much (on average) did each click cost. \n",
    "#While it can often be seen as desirable to reduce the cost per click, the CPC needs to be considered along with \n",
    "#other variables. For example, a campaign with an average CPC of �0.5 and a CR of 5% is \n",
    "#likely achieving more with its budget than one with a CPC of �0.2 and a CR of 1% (assuming the conversion value is the same.\n",
    "\n",
    "\n",
    "\n",
    "\n",
    "#3) Cost per Conversion (CostPerConv_Total). This is the cost per 'conversion'. What a conversion is will be\n",
    "#determined by the objectives of the campaign. It could be a partial sale, someone completing a contact form on a landing page,\n",
    "#downloading an e-book, watching a video, or simply spending more than a particular amount of time or \n",
    "#viewing over a target number of pages on a website.\n",
    "\n",
    "\n",
    "#4) Cost per Approved Conversion (CostPerConv_Approved). This is the cost per approved conversion (guaranteed sale).\n",
    "\n",
    "\n",
    "#5) Cost per mille: Cost Per Mille (CPM). This number is the cost of one thousand impressions. \n",
    "#If your objective is ad exposure to increase brand awareness, this might be an important KPI for you to measure."
   ]
  },
  {
   "cell_type": "code",
   "execution_count": 17,
   "metadata": {
    "vscode": {
     "languageId": "r"
    }
   },
   "outputs": [],
   "source": [
    "\n",
    "data <- data %>% mutate(CTR = round(((Clicks / Impressions) * 100),4), \n",
    "                        CPC = ifelse(Clicks != 0, round(Spent / Clicks,4), Spent), \n",
    "                        CostPerConv_Total = ifelse(Total_Conversion !=0,round(Spent/Total_Conversion,4),Spent),\n",
    "                        CostPerConv_Approved = ifelse(Approved_Conversion !=0,round(Spent/Approved_Conversion,4),Spent),\n",
    "                        CPM = round((Spent / Impressions) * 1000, 2) )"
   ]
  },
  {
   "cell_type": "code",
   "execution_count": 18,
   "metadata": {
    "vscode": {
     "languageId": "r"
    }
   },
   "outputs": [
    {
     "data": {
      "text/html": [
       "<table class=\"dataframe\">\n",
       "<caption>A data.frame: 6 × 15</caption>\n",
       "<thead>\n",
       "\t<tr><th></th><th scope=col>ad_id</th><th scope=col>campaign_id</th><th scope=col>age</th><th scope=col>gender</th><th scope=col>interest</th><th scope=col>Impressions</th><th scope=col>Clicks</th><th scope=col>Spent</th><th scope=col>Total_Conversion</th><th scope=col>Approved_Conversion</th><th scope=col>CTR</th><th scope=col>CPC</th><th scope=col>CostPerConv_Total</th><th scope=col>CostPerConv_Approved</th><th scope=col>CPM</th></tr>\n",
       "\t<tr><th></th><th scope=col>&lt;int&gt;</th><th scope=col>&lt;int&gt;</th><th scope=col>&lt;int&gt;</th><th scope=col>&lt;int&gt;</th><th scope=col>&lt;int&gt;</th><th scope=col>&lt;int&gt;</th><th scope=col>&lt;int&gt;</th><th scope=col>&lt;dbl&gt;</th><th scope=col>&lt;int&gt;</th><th scope=col>&lt;int&gt;</th><th scope=col>&lt;dbl&gt;</th><th scope=col>&lt;dbl&gt;</th><th scope=col>&lt;dbl&gt;</th><th scope=col>&lt;dbl&gt;</th><th scope=col>&lt;dbl&gt;</th></tr>\n",
       "</thead>\n",
       "<tbody>\n",
       "\t<tr><th scope=row>1</th><td>708746</td><td>916</td><td>32</td><td>0</td><td>15</td><td> 7350</td><td>1</td><td>1.43</td><td>2</td><td>1</td><td>0.0136</td><td>1.43</td><td>0.715</td><td>1.43</td><td>0.19</td></tr>\n",
       "\t<tr><th scope=row>2</th><td>708749</td><td>916</td><td>32</td><td>0</td><td>16</td><td>17861</td><td>2</td><td>1.82</td><td>2</td><td>0</td><td>0.0112</td><td>0.91</td><td>0.910</td><td>1.82</td><td>0.10</td></tr>\n",
       "\t<tr><th scope=row>3</th><td>708771</td><td>916</td><td>32</td><td>0</td><td>20</td><td>  693</td><td>0</td><td>0.00</td><td>1</td><td>0</td><td>0.0000</td><td>0.00</td><td>0.000</td><td>0.00</td><td>0.00</td></tr>\n",
       "\t<tr><th scope=row>4</th><td>708815</td><td>916</td><td>32</td><td>0</td><td>28</td><td> 4259</td><td>1</td><td>1.25</td><td>1</td><td>0</td><td>0.0235</td><td>1.25</td><td>1.250</td><td>1.25</td><td>0.29</td></tr>\n",
       "\t<tr><th scope=row>5</th><td>708818</td><td>916</td><td>32</td><td>0</td><td>28</td><td> 4133</td><td>1</td><td>1.29</td><td>1</td><td>1</td><td>0.0242</td><td>1.29</td><td>1.290</td><td>1.29</td><td>0.31</td></tr>\n",
       "\t<tr><th scope=row>6</th><td>708820</td><td>916</td><td>32</td><td>0</td><td>29</td><td> 1915</td><td>0</td><td>0.00</td><td>1</td><td>1</td><td>0.0000</td><td>0.00</td><td>0.000</td><td>0.00</td><td>0.00</td></tr>\n",
       "</tbody>\n",
       "</table>\n"
      ],
      "text/latex": [
       "A data.frame: 6 × 15\n",
       "\\begin{tabular}{r|lllllllllllllll}\n",
       "  & ad\\_id & campaign\\_id & age & gender & interest & Impressions & Clicks & Spent & Total\\_Conversion & Approved\\_Conversion & CTR & CPC & CostPerConv\\_Total & CostPerConv\\_Approved & CPM\\\\\n",
       "  & <int> & <int> & <int> & <int> & <int> & <int> & <int> & <dbl> & <int> & <int> & <dbl> & <dbl> & <dbl> & <dbl> & <dbl>\\\\\n",
       "\\hline\n",
       "\t1 & 708746 & 916 & 32 & 0 & 15 &  7350 & 1 & 1.43 & 2 & 1 & 0.0136 & 1.43 & 0.715 & 1.43 & 0.19\\\\\n",
       "\t2 & 708749 & 916 & 32 & 0 & 16 & 17861 & 2 & 1.82 & 2 & 0 & 0.0112 & 0.91 & 0.910 & 1.82 & 0.10\\\\\n",
       "\t3 & 708771 & 916 & 32 & 0 & 20 &   693 & 0 & 0.00 & 1 & 0 & 0.0000 & 0.00 & 0.000 & 0.00 & 0.00\\\\\n",
       "\t4 & 708815 & 916 & 32 & 0 & 28 &  4259 & 1 & 1.25 & 1 & 0 & 0.0235 & 1.25 & 1.250 & 1.25 & 0.29\\\\\n",
       "\t5 & 708818 & 916 & 32 & 0 & 28 &  4133 & 1 & 1.29 & 1 & 1 & 0.0242 & 1.29 & 1.290 & 1.29 & 0.31\\\\\n",
       "\t6 & 708820 & 916 & 32 & 0 & 29 &  1915 & 0 & 0.00 & 1 & 1 & 0.0000 & 0.00 & 0.000 & 0.00 & 0.00\\\\\n",
       "\\end{tabular}\n"
      ],
      "text/markdown": [
       "\n",
       "A data.frame: 6 × 15\n",
       "\n",
       "| <!--/--> | ad_id &lt;int&gt; | campaign_id &lt;int&gt; | age &lt;int&gt; | gender &lt;int&gt; | interest &lt;int&gt; | Impressions &lt;int&gt; | Clicks &lt;int&gt; | Spent &lt;dbl&gt; | Total_Conversion &lt;int&gt; | Approved_Conversion &lt;int&gt; | CTR &lt;dbl&gt; | CPC &lt;dbl&gt; | CostPerConv_Total &lt;dbl&gt; | CostPerConv_Approved &lt;dbl&gt; | CPM &lt;dbl&gt; |\n",
       "|---|---|---|---|---|---|---|---|---|---|---|---|---|---|---|---|\n",
       "| 1 | 708746 | 916 | 32 | 0 | 15 |  7350 | 1 | 1.43 | 2 | 1 | 0.0136 | 1.43 | 0.715 | 1.43 | 0.19 |\n",
       "| 2 | 708749 | 916 | 32 | 0 | 16 | 17861 | 2 | 1.82 | 2 | 0 | 0.0112 | 0.91 | 0.910 | 1.82 | 0.10 |\n",
       "| 3 | 708771 | 916 | 32 | 0 | 20 |   693 | 0 | 0.00 | 1 | 0 | 0.0000 | 0.00 | 0.000 | 0.00 | 0.00 |\n",
       "| 4 | 708815 | 916 | 32 | 0 | 28 |  4259 | 1 | 1.25 | 1 | 0 | 0.0235 | 1.25 | 1.250 | 1.25 | 0.29 |\n",
       "| 5 | 708818 | 916 | 32 | 0 | 28 |  4133 | 1 | 1.29 | 1 | 1 | 0.0242 | 1.29 | 1.290 | 1.29 | 0.31 |\n",
       "| 6 | 708820 | 916 | 32 | 0 | 29 |  1915 | 0 | 0.00 | 1 | 1 | 0.0000 | 0.00 | 0.000 | 0.00 | 0.00 |\n",
       "\n"
      ],
      "text/plain": [
       "  ad_id  campaign_id age gender interest Impressions Clicks Spent\n",
       "1 708746 916         32  0      15        7350       1      1.43 \n",
       "2 708749 916         32  0      16       17861       2      1.82 \n",
       "3 708771 916         32  0      20         693       0      0.00 \n",
       "4 708815 916         32  0      28        4259       1      1.25 \n",
       "5 708818 916         32  0      28        4133       1      1.29 \n",
       "6 708820 916         32  0      29        1915       0      0.00 \n",
       "  Total_Conversion Approved_Conversion CTR    CPC  CostPerConv_Total\n",
       "1 2                1                   0.0136 1.43 0.715            \n",
       "2 2                0                   0.0112 0.91 0.910            \n",
       "3 1                0                   0.0000 0.00 0.000            \n",
       "4 1                0                   0.0235 1.25 1.250            \n",
       "5 1                1                   0.0242 1.29 1.290            \n",
       "6 1                1                   0.0000 0.00 0.000            \n",
       "  CostPerConv_Approved CPM \n",
       "1 1.43                 0.19\n",
       "2 1.82                 0.10\n",
       "3 0.00                 0.00\n",
       "4 1.25                 0.29\n",
       "5 1.29                 0.31\n",
       "6 0.00                 0.00"
      ]
     },
     "metadata": {},
     "output_type": "display_data"
    }
   ],
   "source": [
    "head(data)"
   ]
  },
  {
   "cell_type": "code",
   "execution_count": 19,
   "metadata": {
    "vscode": {
     "languageId": "r"
    }
   },
   "outputs": [
    {
     "data": {
      "text/html": [
       "625"
      ],
      "text/latex": [
       "625"
      ],
      "text/markdown": [
       "625"
      ],
      "text/plain": [
       "[1] 625"
      ]
     },
     "metadata": {},
     "output_type": "display_data"
    }
   ],
   "source": [
    "######## Analysis of dataset through some questions- \n",
    "\n",
    "\n",
    "\n",
    "\n",
    "#How many ads belong to camapaign(campaign_id) 1178?\n",
    "data %>% filter(campaign_id == 1178 ) %>% nrow()"
   ]
  },
  {
   "cell_type": "code",
   "execution_count": 20,
   "metadata": {
    "vscode": {
     "languageId": "r"
    }
   },
   "outputs": [
    {
     "data": {
      "text/html": [
       "<table class=\"dataframe\">\n",
       "<caption>A tibble: 3 × 2</caption>\n",
       "<thead>\n",
       "\t<tr><th scope=col>campaign_id</th><th scope=col>n_ads</th></tr>\n",
       "\t<tr><th scope=col>&lt;int&gt;</th><th scope=col>&lt;int&gt;</th></tr>\n",
       "</thead>\n",
       "<tbody>\n",
       "\t<tr><td> 916</td><td> 54</td></tr>\n",
       "\t<tr><td> 936</td><td>464</td></tr>\n",
       "\t<tr><td>1178</td><td>625</td></tr>\n",
       "</tbody>\n",
       "</table>\n"
      ],
      "text/latex": [
       "A tibble: 3 × 2\n",
       "\\begin{tabular}{ll}\n",
       " campaign\\_id & n\\_ads\\\\\n",
       " <int> & <int>\\\\\n",
       "\\hline\n",
       "\t  916 &  54\\\\\n",
       "\t  936 & 464\\\\\n",
       "\t 1178 & 625\\\\\n",
       "\\end{tabular}\n"
      ],
      "text/markdown": [
       "\n",
       "A tibble: 3 × 2\n",
       "\n",
       "| campaign_id &lt;int&gt; | n_ads &lt;int&gt; |\n",
       "|---|---|\n",
       "|  916 |  54 |\n",
       "|  936 | 464 |\n",
       "| 1178 | 625 |\n",
       "\n"
      ],
      "text/plain": [
       "  campaign_id n_ads\n",
       "1  916         54  \n",
       "2  936        464  \n",
       "3 1178        625  "
      ]
     },
     "metadata": {},
     "output_type": "display_data"
    }
   ],
   "source": [
    "#Which is the smallest and the largest campaign? \n",
    "data %>% group_by(campaign_id) %>% summarise(n_ads = length(ad_id))\n",
    "#Smallest - 916 , Largest - 1178"
   ]
  },
  {
   "cell_type": "code",
   "execution_count": 21,
   "metadata": {
    "vscode": {
     "languageId": "r"
    }
   },
   "outputs": [
    {
     "data": {
      "text/html": [
       "<table class=\"dataframe\">\n",
       "<caption>A tibble: 2 × 2</caption>\n",
       "<thead>\n",
       "\t<tr><th scope=col>gender</th><th scope=col>count</th></tr>\n",
       "\t<tr><th scope=col>&lt;int&gt;</th><th scope=col>&lt;int&gt;</th></tr>\n",
       "</thead>\n",
       "<tbody>\n",
       "\t<tr><td>0</td><td>278</td></tr>\n",
       "\t<tr><td>1</td><td>281</td></tr>\n",
       "</tbody>\n",
       "</table>\n"
      ],
      "text/latex": [
       "A tibble: 2 × 2\n",
       "\\begin{tabular}{ll}\n",
       " gender & count\\\\\n",
       " <int> & <int>\\\\\n",
       "\\hline\n",
       "\t 0 & 278\\\\\n",
       "\t 1 & 281\\\\\n",
       "\\end{tabular}\n"
      ],
      "text/markdown": [
       "\n",
       "A tibble: 2 × 2\n",
       "\n",
       "| gender &lt;int&gt; | count &lt;int&gt; |\n",
       "|---|---|\n",
       "| 0 | 278 |\n",
       "| 1 | 281 |\n",
       "\n"
      ],
      "text/plain": [
       "  gender count\n",
       "1 0      278  \n",
       "2 1      281  "
      ]
     },
     "metadata": {},
     "output_type": "display_data"
    }
   ],
   "source": [
    "#How many ads which have never caused any approved conversion were targeted towards female audiences?\n",
    "data %>% filter(Approved_Conversion ==0 ) %>% group_by(gender) %>% summarise(count=length(ad_id))#nrow()\n",
    "#281"
   ]
  },
  {
   "cell_type": "code",
   "execution_count": 22,
   "metadata": {
    "vscode": {
     "languageId": "r"
    }
   },
   "outputs": [
    {
     "data": {
      "text/html": [
       "48.9063867016623"
      ],
      "text/latex": [
       "48.9063867016623"
      ],
      "text/markdown": [
       "48.9063867016623"
      ],
      "text/plain": [
       "[1] 48.90639"
      ]
     },
     "metadata": {},
     "output_type": "display_data"
    },
    {
     "data": {
      "text/html": [
       "48.9063867016623"
      ],
      "text/latex": [
       "48.9063867016623"
      ],
      "text/markdown": [
       "48.9063867016623"
      ],
      "text/plain": [
       "[1] 48.90639"
      ]
     },
     "metadata": {},
     "output_type": "display_data"
    }
   ],
   "source": [
    "#What percentage of total ads (use ad_ids for calculation) have never caused any approved conversion?\n",
    "(data %>% filter(Approved_Conversion ==0 ) %>% nrow()) / (data %>% nrow()) * 100\n",
    "(nrow(data[data$Approved_Conversion==0,]))/(nrow(data))*100 #Traditional R syntax - Also works\n",
    "#48.9064%"
   ]
  },
  {
   "cell_type": "code",
   "execution_count": 23,
   "metadata": {
    "vscode": {
     "languageId": "r"
    }
   },
   "outputs": [
    {
     "data": {
      "text/html": [
       "<table class=\"dataframe\">\n",
       "<caption>A tibble: 3 × 3</caption>\n",
       "<thead>\n",
       "\t<tr><th scope=col>campaign_id</th><th scope=col>n_ads</th><th scope=col>campaign_Impr</th></tr>\n",
       "\t<tr><th scope=col>&lt;int&gt;</th><th scope=col>&lt;int&gt;</th><th scope=col>&lt;dbl&gt;</th></tr>\n",
       "</thead>\n",
       "<tbody>\n",
       "\t<tr><td> 916</td><td> 54</td><td>  8943.056</td></tr>\n",
       "\t<tr><td> 936</td><td>464</td><td> 17517.644</td></tr>\n",
       "\t<tr><td>1178</td><td>625</td><td>327717.946</td></tr>\n",
       "</tbody>\n",
       "</table>\n"
      ],
      "text/latex": [
       "A tibble: 3 × 3\n",
       "\\begin{tabular}{lll}\n",
       " campaign\\_id & n\\_ads & campaign\\_Impr\\\\\n",
       " <int> & <int> & <dbl>\\\\\n",
       "\\hline\n",
       "\t  916 &  54 &   8943.056\\\\\n",
       "\t  936 & 464 &  17517.644\\\\\n",
       "\t 1178 & 625 & 327717.946\\\\\n",
       "\\end{tabular}\n"
      ],
      "text/markdown": [
       "\n",
       "A tibble: 3 × 3\n",
       "\n",
       "| campaign_id &lt;int&gt; | n_ads &lt;int&gt; | campaign_Impr &lt;dbl&gt; |\n",
       "|---|---|---|\n",
       "|  916 |  54 |   8943.056 |\n",
       "|  936 | 464 |  17517.644 |\n",
       "| 1178 | 625 | 327717.946 |\n",
       "\n"
      ],
      "text/plain": [
       "  campaign_id n_ads campaign_Impr\n",
       "1  916         54     8943.056   \n",
       "2  936        464    17517.644   \n",
       "3 1178        625   327717.946   "
      ]
     },
     "metadata": {},
     "output_type": "display_data"
    }
   ],
   "source": [
    "#Which campaign had the best brand awareness result wrt the Impressions on an average? \n",
    "data %>% group_by(campaign_id) %>% summarise(n_ads = length(ad_id),campaign_Impr = mean(Impressions))\n",
    "#1178 - Mean Impressions of 327718 per ad"
   ]
  },
  {
   "cell_type": "code",
   "execution_count": 24,
   "metadata": {
    "vscode": {
     "languageId": "r"
    }
   },
   "outputs": [
    {
     "data": {
      "text/html": [
       "<table class=\"dataframe\">\n",
       "<caption>A tibble: 3 × 3</caption>\n",
       "<thead>\n",
       "\t<tr><th scope=col>campaign_id</th><th scope=col>n_ads</th><th scope=col>campaign_CPM</th></tr>\n",
       "\t<tr><th scope=col>&lt;int&gt;</th><th scope=col>&lt;int&gt;</th><th scope=col>&lt;dbl&gt;</th></tr>\n",
       "</thead>\n",
       "<tbody>\n",
       "\t<tr><td> 936</td><td>464</td><td>0.2240948</td></tr>\n",
       "\t<tr><td> 916</td><td> 54</td><td>0.2405556</td></tr>\n",
       "\t<tr><td>1178</td><td>625</td><td>0.2503360</td></tr>\n",
       "</tbody>\n",
       "</table>\n"
      ],
      "text/latex": [
       "A tibble: 3 × 3\n",
       "\\begin{tabular}{lll}\n",
       " campaign\\_id & n\\_ads & campaign\\_CPM\\\\\n",
       " <int> & <int> & <dbl>\\\\\n",
       "\\hline\n",
       "\t  936 & 464 & 0.2240948\\\\\n",
       "\t  916 &  54 & 0.2405556\\\\\n",
       "\t 1178 & 625 & 0.2503360\\\\\n",
       "\\end{tabular}\n"
      ],
      "text/markdown": [
       "\n",
       "A tibble: 3 × 3\n",
       "\n",
       "| campaign_id &lt;int&gt; | n_ads &lt;int&gt; | campaign_CPM &lt;dbl&gt; |\n",
       "|---|---|---|\n",
       "|  936 | 464 | 0.2240948 |\n",
       "|  916 |  54 | 0.2405556 |\n",
       "| 1178 | 625 | 0.2503360 |\n",
       "\n"
      ],
      "text/plain": [
       "  campaign_id n_ads campaign_CPM\n",
       "1  936        464   0.2240948   \n",
       "2  916         54   0.2405556   \n",
       "3 1178        625   0.2503360   "
      ]
     },
     "metadata": {},
     "output_type": "display_data"
    }
   ],
   "source": [
    "#Which campaign had spent most efficiently on brand awareness on an average (least Cost per mille)?\n",
    "data %>% group_by(campaign_id) %>% summarise(n_ads = length(ad_id),campaign_CPM = mean(CPM)) %>%\n",
    "  arrange(campaign_CPM)\n",
    "#936 - 0.224 CPM"
   ]
  },
  {
   "cell_type": "code",
   "execution_count": 25,
   "metadata": {
    "vscode": {
     "languageId": "r"
    }
   },
   "outputs": [
    {
     "data": {
      "text/html": [
       "<table class=\"dataframe\">\n",
       "<caption>A data.frame: 1 × 15</caption>\n",
       "<thead>\n",
       "\t<tr><th scope=col>ad_id</th><th scope=col>campaign_id</th><th scope=col>age</th><th scope=col>gender</th><th scope=col>interest</th><th scope=col>Impressions</th><th scope=col>Clicks</th><th scope=col>Spent</th><th scope=col>Total_Conversion</th><th scope=col>Approved_Conversion</th><th scope=col>CTR</th><th scope=col>CPC</th><th scope=col>CostPerConv_Total</th><th scope=col>CostPerConv_Approved</th><th scope=col>CPM</th></tr>\n",
       "\t<tr><th scope=col>&lt;int&gt;</th><th scope=col>&lt;int&gt;</th><th scope=col>&lt;int&gt;</th><th scope=col>&lt;int&gt;</th><th scope=col>&lt;int&gt;</th><th scope=col>&lt;int&gt;</th><th scope=col>&lt;int&gt;</th><th scope=col>&lt;dbl&gt;</th><th scope=col>&lt;int&gt;</th><th scope=col>&lt;int&gt;</th><th scope=col>&lt;dbl&gt;</th><th scope=col>&lt;dbl&gt;</th><th scope=col>&lt;dbl&gt;</th><th scope=col>&lt;dbl&gt;</th><th scope=col>&lt;dbl&gt;</th></tr>\n",
       "</thead>\n",
       "<tbody>\n",
       "\t<tr><td>1121104</td><td>1178</td><td>32</td><td>0</td><td>16</td><td>2080666</td><td>202</td><td>360.15</td><td>40</td><td>21</td><td>0.0097</td><td>1.7829</td><td>9.0038</td><td>17.15</td><td>0.17</td></tr>\n",
       "</tbody>\n",
       "</table>\n"
      ],
      "text/latex": [
       "A data.frame: 1 × 15\n",
       "\\begin{tabular}{lllllllllllllll}\n",
       " ad\\_id & campaign\\_id & age & gender & interest & Impressions & Clicks & Spent & Total\\_Conversion & Approved\\_Conversion & CTR & CPC & CostPerConv\\_Total & CostPerConv\\_Approved & CPM\\\\\n",
       " <int> & <int> & <int> & <int> & <int> & <int> & <int> & <dbl> & <int> & <int> & <dbl> & <dbl> & <dbl> & <dbl> & <dbl>\\\\\n",
       "\\hline\n",
       "\t 1121104 & 1178 & 32 & 0 & 16 & 2080666 & 202 & 360.15 & 40 & 21 & 0.0097 & 1.7829 & 9.0038 & 17.15 & 0.17\\\\\n",
       "\\end{tabular}\n"
      ],
      "text/markdown": [
       "\n",
       "A data.frame: 1 × 15\n",
       "\n",
       "| ad_id &lt;int&gt; | campaign_id &lt;int&gt; | age &lt;int&gt; | gender &lt;int&gt; | interest &lt;int&gt; | Impressions &lt;int&gt; | Clicks &lt;int&gt; | Spent &lt;dbl&gt; | Total_Conversion &lt;int&gt; | Approved_Conversion &lt;int&gt; | CTR &lt;dbl&gt; | CPC &lt;dbl&gt; | CostPerConv_Total &lt;dbl&gt; | CostPerConv_Approved &lt;dbl&gt; | CPM &lt;dbl&gt; |\n",
       "|---|---|---|---|---|---|---|---|---|---|---|---|---|---|---|\n",
       "| 1121104 | 1178 | 32 | 0 | 16 | 2080666 | 202 | 360.15 | 40 | 21 | 0.0097 | 1.7829 | 9.0038 | 17.15 | 0.17 |\n",
       "\n"
      ],
      "text/plain": [
       "  ad_id   campaign_id age gender interest Impressions Clicks Spent \n",
       "1 1121104 1178        32  0      16       2080666     202    360.15\n",
       "  Total_Conversion Approved_Conversion CTR    CPC    CostPerConv_Total\n",
       "1 40               21                  0.0097 1.7829 9.0038           \n",
       "  CostPerConv_Approved CPM \n",
       "1 17.15                0.17"
      ]
     },
     "metadata": {},
     "output_type": "display_data"
    },
    {
     "data": {
      "text/html": [
       "<table class=\"dataframe\">\n",
       "<caption>A data.frame: 1143 × 15</caption>\n",
       "<thead>\n",
       "\t<tr><th scope=col>ad_id</th><th scope=col>campaign_id</th><th scope=col>age</th><th scope=col>gender</th><th scope=col>interest</th><th scope=col>Impressions</th><th scope=col>Clicks</th><th scope=col>Spent</th><th scope=col>Total_Conversion</th><th scope=col>Approved_Conversion</th><th scope=col>CTR</th><th scope=col>CPC</th><th scope=col>CostPerConv_Total</th><th scope=col>CostPerConv_Approved</th><th scope=col>CPM</th></tr>\n",
       "\t<tr><th scope=col>&lt;int&gt;</th><th scope=col>&lt;int&gt;</th><th scope=col>&lt;int&gt;</th><th scope=col>&lt;int&gt;</th><th scope=col>&lt;int&gt;</th><th scope=col>&lt;int&gt;</th><th scope=col>&lt;int&gt;</th><th scope=col>&lt;dbl&gt;</th><th scope=col>&lt;int&gt;</th><th scope=col>&lt;int&gt;</th><th scope=col>&lt;dbl&gt;</th><th scope=col>&lt;dbl&gt;</th><th scope=col>&lt;dbl&gt;</th><th scope=col>&lt;dbl&gt;</th><th scope=col>&lt;dbl&gt;</th></tr>\n",
       "</thead>\n",
       "<tbody>\n",
       "\t<tr><td>1121104</td><td>1178</td><td>32</td><td>0</td><td> 16</td><td>2080666</td><td>202</td><td>360.15</td><td>40</td><td>21</td><td>0.0097</td><td>1.7829</td><td> 9.0038</td><td>17.1500</td><td>0.17</td></tr>\n",
       "\t<tr><td>1121100</td><td>1178</td><td>32</td><td>0</td><td> 15</td><td>3052003</td><td>340</td><td>639.95</td><td>60</td><td>17</td><td>0.0111</td><td>1.8822</td><td>10.6658</td><td>37.6441</td><td>0.21</td></tr>\n",
       "\t<tr><td>1121091</td><td>1178</td><td>32</td><td>0</td><td> 10</td><td>1194718</td><td>141</td><td>254.05</td><td>28</td><td>14</td><td>0.0118</td><td>1.8018</td><td> 9.0732</td><td>18.1464</td><td>0.21</td></tr>\n",
       "\t<tr><td>1121108</td><td>1178</td><td>32</td><td>0</td><td> 16</td><td> 984521</td><td> 95</td><td>163.90</td><td>26</td><td>14</td><td>0.0096</td><td>1.7253</td><td> 6.3038</td><td>11.7071</td><td>0.17</td></tr>\n",
       "\t<tr><td>1121814</td><td>1178</td><td>32</td><td>1</td><td> 27</td><td>2223278</td><td>421</td><td>612.30</td><td>38</td><td>13</td><td>0.0189</td><td>1.4544</td><td>16.1132</td><td>47.1000</td><td>0.28</td></tr>\n",
       "\t<tr><td>1121206</td><td>1178</td><td>32</td><td>0</td><td> 29</td><td> 227925</td><td> 22</td><td> 35.31</td><td>22</td><td>12</td><td>0.0097</td><td>1.6050</td><td> 1.6050</td><td> 2.9425</td><td>0.15</td></tr>\n",
       "\t<tr><td>1121098</td><td>1178</td><td>32</td><td>0</td><td> 15</td><td>1267550</td><td>123</td><td>236.77</td><td>24</td><td>10</td><td>0.0097</td><td>1.9250</td><td> 9.8654</td><td>23.6770</td><td>0.19</td></tr>\n",
       "\t<tr><td>1121677</td><td>1178</td><td>47</td><td>0</td><td> 29</td><td>1391924</td><td>258</td><td>422.84</td><td>17</td><td>10</td><td>0.0185</td><td>1.6389</td><td>24.8729</td><td>42.2840</td><td>0.30</td></tr>\n",
       "\t<tr><td>1121824</td><td>1178</td><td>32</td><td>1</td><td> 29</td><td>1705246</td><td>295</td><td>429.48</td><td>23</td><td>10</td><td>0.0173</td><td>1.4559</td><td>18.6730</td><td>42.9480</td><td>0.25</td></tr>\n",
       "\t<tr><td>1314398</td><td>1178</td><td>42</td><td>1</td><td>112</td><td>1137635</td><td>211</td><td>301.05</td><td>30</td><td>10</td><td>0.0185</td><td>1.4268</td><td>10.0350</td><td>30.1050</td><td>0.26</td></tr>\n",
       "\t<tr><td>1121125</td><td>1178</td><td>32</td><td>0</td><td> 20</td><td>1034284</td><td>152</td><td>257.71</td><td>20</td><td> 9</td><td>0.0147</td><td>1.6955</td><td>12.8855</td><td>28.6344</td><td>0.25</td></tr>\n",
       "\t<tr><td>1314367</td><td>1178</td><td>32</td><td>1</td><td>111</td><td> 665817</td><td>117</td><td>163.80</td><td>23</td><td> 9</td><td>0.0176</td><td>1.4000</td><td> 7.1217</td><td>18.2000</td><td>0.25</td></tr>\n",
       "\t<tr><td>1314387</td><td>1178</td><td>42</td><td>1</td><td>101</td><td> 696612</td><td>152</td><td>223.19</td><td>31</td><td> 9</td><td>0.0218</td><td>1.4684</td><td> 7.1997</td><td>24.7989</td><td>0.32</td></tr>\n",
       "\t<tr><td>1121203</td><td>1178</td><td>32</td><td>0</td><td> 29</td><td>1048861</td><td>128</td><td>219.77</td><td>22</td><td> 8</td><td>0.0122</td><td>1.7170</td><td> 9.9895</td><td>27.4713</td><td>0.21</td></tr>\n",
       "\t<tr><td>1121278</td><td>1178</td><td>32</td><td>0</td><td>  7</td><td>1044442</td><td>142</td><td>245.60</td><td>22</td><td> 8</td><td>0.0136</td><td>1.7296</td><td>11.1636</td><td>30.7000</td><td>0.24</td></tr>\n",
       "\t<tr><td>1121367</td><td>1178</td><td>37</td><td>0</td><td> 28</td><td>1447755</td><td>233</td><td>420.58</td><td>11</td><td> 8</td><td>0.0161</td><td>1.8051</td><td>38.2345</td><td>52.5725</td><td>0.29</td></tr>\n",
       "\t<tr><td>1121676</td><td>1178</td><td>47</td><td>0</td><td> 29</td><td>1026304</td><td>168</td><td>277.58</td><td>17</td><td> 8</td><td>0.0164</td><td>1.6523</td><td>16.3282</td><td>34.6975</td><td>0.27</td></tr>\n",
       "\t<tr><td>1122273</td><td>1178</td><td>47</td><td>1</td><td> 29</td><td>1097966</td><td>266</td><td>369.07</td><td>16</td><td> 8</td><td>0.0242</td><td>1.3875</td><td>23.0669</td><td>46.1337</td><td>0.34</td></tr>\n",
       "\t<tr><td>1121167</td><td>1178</td><td>32</td><td>0</td><td> 25</td><td>1063508</td><td>145</td><td>260.38</td><td>23</td><td> 7</td><td>0.0136</td><td>1.7957</td><td>11.3209</td><td>37.1971</td><td>0.24</td></tr>\n",
       "\t<tr><td>1121196</td><td>1178</td><td>32</td><td>0</td><td> 28</td><td>1392288</td><td>206</td><td>358.55</td><td>31</td><td> 7</td><td>0.0148</td><td>1.7405</td><td>11.5661</td><td>51.2214</td><td>0.26</td></tr>\n",
       "\t<tr><td>1121601</td><td>1178</td><td>47</td><td>0</td><td> 16</td><td>2286228</td><td>353</td><td>603.38</td><td>16</td><td> 7</td><td>0.0154</td><td>1.7093</td><td>37.7113</td><td>86.1971</td><td>0.26</td></tr>\n",
       "\t<tr><td>1314386</td><td>1178</td><td>42</td><td>1</td><td>100</td><td> 834243</td><td>166</td><td>246.75</td><td>18</td><td> 7</td><td>0.0199</td><td>1.4864</td><td>13.7083</td><td>35.2500</td><td>0.30</td></tr>\n",
       "\t<tr><td>1121302</td><td>1178</td><td>37</td><td>0</td><td> 16</td><td>1206533</td><td>128</td><td>236.12</td><td>17</td><td> 6</td><td>0.0106</td><td>1.8447</td><td>13.8894</td><td>39.3533</td><td>0.20</td></tr>\n",
       "\t<tr><td>1121452</td><td>1178</td><td>42</td><td>0</td><td> 16</td><td>1663441</td><td>205</td><td>359.47</td><td>17</td><td> 6</td><td>0.0123</td><td>1.7535</td><td>21.1453</td><td>59.9117</td><td>0.22</td></tr>\n",
       "\t<tr><td>1121812</td><td>1178</td><td>32</td><td>1</td><td> 27</td><td> 935646</td><td>170</td><td>256.47</td><td>19</td><td> 6</td><td>0.0182</td><td>1.5086</td><td>13.4984</td><td>42.7450</td><td>0.27</td></tr>\n",
       "\t<tr><td>1121828</td><td>1178</td><td>32</td><td>1</td><td> 29</td><td> 990404</td><td>153</td><td>226.54</td><td>12</td><td> 6</td><td>0.0154</td><td>1.4807</td><td>18.8783</td><td>37.7567</td><td>0.23</td></tr>\n",
       "\t<tr><td>1121845</td><td>1178</td><td>32</td><td>1</td><td> 32</td><td> 390339</td><td> 60</td><td>105.02</td><td> 9</td><td> 6</td><td>0.0154</td><td>1.7503</td><td>11.6689</td><td>17.5033</td><td>0.27</td></tr>\n",
       "\t<tr><td>1121976</td><td>1178</td><td>37</td><td>1</td><td> 29</td><td> 707260</td><td>135</td><td>210.82</td><td>13</td><td> 6</td><td>0.0191</td><td>1.5616</td><td>16.2169</td><td>35.1367</td><td>0.30</td></tr>\n",
       "\t<tr><td>1122105</td><td>1178</td><td>42</td><td>1</td><td> 26</td><td> 303971</td><td> 77</td><td>106.93</td><td>11</td><td> 6</td><td>0.0253</td><td>1.3887</td><td> 9.7209</td><td>17.8217</td><td>0.35</td></tr>\n",
       "\t<tr><td>1121092</td><td>1178</td><td>32</td><td>0</td><td> 10</td><td> 637648</td><td> 67</td><td>122.40</td><td>13</td><td> 5</td><td>0.0105</td><td>1.8269</td><td> 9.4154</td><td>24.4800</td><td>0.19</td></tr>\n",
       "\t<tr><td>⋮</td><td>⋮</td><td>⋮</td><td>⋮</td><td>⋮</td><td>⋮</td><td>⋮</td><td>⋮</td><td>⋮</td><td>⋮</td><td>⋮</td><td>⋮</td><td>⋮</td><td>⋮</td><td>⋮</td></tr>\n",
       "\t<tr><td>1314307</td><td>1178</td><td>32</td><td>0</td><td>111</td><td>  98606</td><td>  9</td><td> 12.11</td><td> 1</td><td>0</td><td>0.0091</td><td>1.3456</td><td> 12.1100</td><td> 12.11</td><td>0.12</td></tr>\n",
       "\t<tr><td>1314313</td><td>1178</td><td>37</td><td>0</td><td>102</td><td> 128859</td><td> 16</td><td> 23.70</td><td> 1</td><td>0</td><td>0.0124</td><td>1.4812</td><td> 23.7000</td><td> 23.70</td><td>0.18</td></tr>\n",
       "\t<tr><td>1314318</td><td>1178</td><td>37</td><td>0</td><td>107</td><td> 112776</td><td>  9</td><td> 12.68</td><td> 1</td><td>0</td><td>0.0080</td><td>1.4089</td><td> 12.6800</td><td> 12.68</td><td>0.11</td></tr>\n",
       "\t<tr><td>1314320</td><td>1178</td><td>37</td><td>0</td><td>109</td><td> 106492</td><td> 14</td><td> 21.26</td><td> 2</td><td>0</td><td>0.0131</td><td>1.5186</td><td> 10.6300</td><td> 21.26</td><td>0.20</td></tr>\n",
       "\t<tr><td>1314321</td><td>1178</td><td>37</td><td>0</td><td>110</td><td> 233845</td><td> 30</td><td> 40.73</td><td> 3</td><td>0</td><td>0.0128</td><td>1.3577</td><td> 13.5767</td><td> 40.73</td><td>0.17</td></tr>\n",
       "\t<tr><td>1314323</td><td>1178</td><td>37</td><td>0</td><td>112</td><td> 155426</td><td> 17</td><td> 25.01</td><td> 3</td><td>0</td><td>0.0109</td><td>1.4712</td><td>  8.3367</td><td> 25.01</td><td>0.16</td></tr>\n",
       "\t<tr><td>1314325</td><td>1178</td><td>37</td><td>0</td><td>114</td><td>  61441</td><td>  5</td><td>  7.70</td><td> 1</td><td>0</td><td>0.0081</td><td>1.5400</td><td>  7.7000</td><td>  7.70</td><td>0.13</td></tr>\n",
       "\t<tr><td>1314327</td><td>1178</td><td>42</td><td>0</td><td>101</td><td>  68619</td><td> 10</td><td> 14.96</td><td> 1</td><td>0</td><td>0.0146</td><td>1.4960</td><td> 14.9600</td><td> 14.96</td><td>0.22</td></tr>\n",
       "\t<tr><td>1314331</td><td>1178</td><td>42</td><td>0</td><td>105</td><td> 137879</td><td> 19</td><td> 28.47</td><td> 2</td><td>0</td><td>0.0138</td><td>1.4984</td><td> 14.2350</td><td> 28.47</td><td>0.21</td></tr>\n",
       "\t<tr><td>1314332</td><td>1178</td><td>42</td><td>0</td><td>106</td><td>  67710</td><td> 10</td><td> 15.15</td><td> 1</td><td>0</td><td>0.0148</td><td>1.5150</td><td> 15.1500</td><td> 15.15</td><td>0.22</td></tr>\n",
       "\t<tr><td>1314338</td><td>1178</td><td>42</td><td>0</td><td>112</td><td>  91180</td><td> 10</td><td> 13.56</td><td> 1</td><td>0</td><td>0.0110</td><td>1.3560</td><td> 13.5600</td><td> 13.56</td><td>0.15</td></tr>\n",
       "\t<tr><td>1314341</td><td>1178</td><td>47</td><td>0</td><td>100</td><td> 101410</td><td> 12</td><td> 17.94</td><td> 4</td><td>0</td><td>0.0118</td><td>1.4950</td><td>  4.4850</td><td> 17.94</td><td>0.18</td></tr>\n",
       "\t<tr><td>1314345</td><td>1178</td><td>47</td><td>0</td><td>104</td><td> 125650</td><td> 20</td><td> 30.08</td><td> 4</td><td>0</td><td>0.0159</td><td>1.5040</td><td>  7.5200</td><td> 30.08</td><td>0.24</td></tr>\n",
       "\t<tr><td>1314353</td><td>1178</td><td>47</td><td>0</td><td>112</td><td> 108426</td><td> 13</td><td> 19.58</td><td> 1</td><td>0</td><td>0.0120</td><td>1.5062</td><td> 19.5800</td><td> 19.58</td><td>0.18</td></tr>\n",
       "\t<tr><td>1314354</td><td>1178</td><td>47</td><td>0</td><td>113</td><td> 138525</td><td>  9</td><td> 13.65</td><td> 3</td><td>0</td><td>0.0065</td><td>1.5167</td><td>  4.5500</td><td> 13.65</td><td>0.10</td></tr>\n",
       "\t<tr><td>1314355</td><td>1178</td><td>47</td><td>0</td><td>114</td><td> 150858</td><td> 21</td><td> 30.26</td><td> 1</td><td>0</td><td>0.0139</td><td>1.4410</td><td> 30.2600</td><td> 30.26</td><td>0.20</td></tr>\n",
       "\t<tr><td>1314361</td><td>1178</td><td>32</td><td>1</td><td>105</td><td> 596831</td><td> 86</td><td>120.88</td><td>11</td><td>0</td><td>0.0144</td><td>1.4056</td><td> 10.9891</td><td>120.88</td><td>0.20</td></tr>\n",
       "\t<tr><td>1314364</td><td>1178</td><td>32</td><td>1</td><td>108</td><td> 132124</td><td>  8</td><td> 11.19</td><td> 4</td><td>0</td><td>0.0061</td><td>1.3987</td><td>  2.7975</td><td> 11.19</td><td>0.08</td></tr>\n",
       "\t<tr><td>1314371</td><td>1178</td><td>37</td><td>1</td><td>100</td><td>  72982</td><td> 11</td><td> 15.05</td><td> 1</td><td>0</td><td>0.0151</td><td>1.3682</td><td> 15.0500</td><td> 15.05</td><td>0.21</td></tr>\n",
       "\t<tr><td>1314377</td><td>1178</td><td>37</td><td>1</td><td>106</td><td> 485369</td><td>114</td><td>164.64</td><td> 3</td><td>0</td><td>0.0235</td><td>1.4442</td><td> 54.8800</td><td>164.64</td><td>0.34</td></tr>\n",
       "\t<tr><td>1314382</td><td>1178</td><td>37</td><td>1</td><td>111</td><td>  99810</td><td> 14</td><td> 20.05</td><td> 2</td><td>0</td><td>0.0140</td><td>1.4321</td><td> 10.0250</td><td> 20.05</td><td>0.20</td></tr>\n",
       "\t<tr><td>1314388</td><td>1178</td><td>42</td><td>1</td><td>102</td><td> 329333</td><td> 48</td><td> 67.61</td><td> 1</td><td>0</td><td>0.0146</td><td>1.4085</td><td> 67.6100</td><td> 67.61</td><td>0.21</td></tr>\n",
       "\t<tr><td>1314389</td><td>1178</td><td>42</td><td>1</td><td>103</td><td>1114711</td><td>224</td><td>319.00</td><td> 6</td><td>0</td><td>0.0201</td><td>1.4241</td><td> 53.1667</td><td>319.00</td><td>0.29</td></tr>\n",
       "\t<tr><td>1314390</td><td>1178</td><td>42</td><td>1</td><td>104</td><td> 267316</td><td> 58</td><td> 82.93</td><td> 3</td><td>0</td><td>0.0217</td><td>1.4298</td><td> 27.6433</td><td> 82.93</td><td>0.31</td></tr>\n",
       "\t<tr><td>1314391</td><td>1178</td><td>42</td><td>1</td><td>105</td><td> 228629</td><td> 38</td><td> 57.00</td><td> 2</td><td>0</td><td>0.0166</td><td>1.5000</td><td> 28.5000</td><td> 57.00</td><td>0.25</td></tr>\n",
       "\t<tr><td>1314397</td><td>1178</td><td>42</td><td>1</td><td>111</td><td> 402975</td><td> 83</td><td>120.90</td><td> 1</td><td>0</td><td>0.0206</td><td>1.4566</td><td>120.9000</td><td>120.90</td><td>0.30</td></tr>\n",
       "\t<tr><td>1314404</td><td>1178</td><td>47</td><td>1</td><td>103</td><td>  71982</td><td> 11</td><td> 16.34</td><td> 1</td><td>0</td><td>0.0153</td><td>1.4855</td><td> 16.3400</td><td> 16.34</td><td>0.23</td></tr>\n",
       "\t<tr><td>1314407</td><td>1178</td><td>47</td><td>1</td><td>106</td><td> 107100</td><td> 23</td><td> 33.71</td><td> 1</td><td>0</td><td>0.0215</td><td>1.4657</td><td> 33.7100</td><td> 33.71</td><td>0.31</td></tr>\n",
       "\t<tr><td>1314411</td><td>1178</td><td>47</td><td>1</td><td>110</td><td> 637549</td><td>120</td><td>173.88</td><td> 3</td><td>0</td><td>0.0188</td><td>1.4490</td><td> 57.9600</td><td>173.88</td><td>0.27</td></tr>\n",
       "\t<tr><td>1314412</td><td>1178</td><td>47</td><td>1</td><td>111</td><td> 151531</td><td> 28</td><td> 40.29</td><td> 2</td><td>0</td><td>0.0185</td><td>1.4389</td><td> 20.1450</td><td> 40.29</td><td>0.27</td></tr>\n",
       "</tbody>\n",
       "</table>\n"
      ],
      "text/latex": [
       "A data.frame: 1143 × 15\n",
       "\\begin{tabular}{lllllllllllllll}\n",
       " ad\\_id & campaign\\_id & age & gender & interest & Impressions & Clicks & Spent & Total\\_Conversion & Approved\\_Conversion & CTR & CPC & CostPerConv\\_Total & CostPerConv\\_Approved & CPM\\\\\n",
       " <int> & <int> & <int> & <int> & <int> & <int> & <int> & <dbl> & <int> & <int> & <dbl> & <dbl> & <dbl> & <dbl> & <dbl>\\\\\n",
       "\\hline\n",
       "\t 1121104 & 1178 & 32 & 0 &  16 & 2080666 & 202 & 360.15 & 40 & 21 & 0.0097 & 1.7829 &  9.0038 & 17.1500 & 0.17\\\\\n",
       "\t 1121100 & 1178 & 32 & 0 &  15 & 3052003 & 340 & 639.95 & 60 & 17 & 0.0111 & 1.8822 & 10.6658 & 37.6441 & 0.21\\\\\n",
       "\t 1121091 & 1178 & 32 & 0 &  10 & 1194718 & 141 & 254.05 & 28 & 14 & 0.0118 & 1.8018 &  9.0732 & 18.1464 & 0.21\\\\\n",
       "\t 1121108 & 1178 & 32 & 0 &  16 &  984521 &  95 & 163.90 & 26 & 14 & 0.0096 & 1.7253 &  6.3038 & 11.7071 & 0.17\\\\\n",
       "\t 1121814 & 1178 & 32 & 1 &  27 & 2223278 & 421 & 612.30 & 38 & 13 & 0.0189 & 1.4544 & 16.1132 & 47.1000 & 0.28\\\\\n",
       "\t 1121206 & 1178 & 32 & 0 &  29 &  227925 &  22 &  35.31 & 22 & 12 & 0.0097 & 1.6050 &  1.6050 &  2.9425 & 0.15\\\\\n",
       "\t 1121098 & 1178 & 32 & 0 &  15 & 1267550 & 123 & 236.77 & 24 & 10 & 0.0097 & 1.9250 &  9.8654 & 23.6770 & 0.19\\\\\n",
       "\t 1121677 & 1178 & 47 & 0 &  29 & 1391924 & 258 & 422.84 & 17 & 10 & 0.0185 & 1.6389 & 24.8729 & 42.2840 & 0.30\\\\\n",
       "\t 1121824 & 1178 & 32 & 1 &  29 & 1705246 & 295 & 429.48 & 23 & 10 & 0.0173 & 1.4559 & 18.6730 & 42.9480 & 0.25\\\\\n",
       "\t 1314398 & 1178 & 42 & 1 & 112 & 1137635 & 211 & 301.05 & 30 & 10 & 0.0185 & 1.4268 & 10.0350 & 30.1050 & 0.26\\\\\n",
       "\t 1121125 & 1178 & 32 & 0 &  20 & 1034284 & 152 & 257.71 & 20 &  9 & 0.0147 & 1.6955 & 12.8855 & 28.6344 & 0.25\\\\\n",
       "\t 1314367 & 1178 & 32 & 1 & 111 &  665817 & 117 & 163.80 & 23 &  9 & 0.0176 & 1.4000 &  7.1217 & 18.2000 & 0.25\\\\\n",
       "\t 1314387 & 1178 & 42 & 1 & 101 &  696612 & 152 & 223.19 & 31 &  9 & 0.0218 & 1.4684 &  7.1997 & 24.7989 & 0.32\\\\\n",
       "\t 1121203 & 1178 & 32 & 0 &  29 & 1048861 & 128 & 219.77 & 22 &  8 & 0.0122 & 1.7170 &  9.9895 & 27.4713 & 0.21\\\\\n",
       "\t 1121278 & 1178 & 32 & 0 &   7 & 1044442 & 142 & 245.60 & 22 &  8 & 0.0136 & 1.7296 & 11.1636 & 30.7000 & 0.24\\\\\n",
       "\t 1121367 & 1178 & 37 & 0 &  28 & 1447755 & 233 & 420.58 & 11 &  8 & 0.0161 & 1.8051 & 38.2345 & 52.5725 & 0.29\\\\\n",
       "\t 1121676 & 1178 & 47 & 0 &  29 & 1026304 & 168 & 277.58 & 17 &  8 & 0.0164 & 1.6523 & 16.3282 & 34.6975 & 0.27\\\\\n",
       "\t 1122273 & 1178 & 47 & 1 &  29 & 1097966 & 266 & 369.07 & 16 &  8 & 0.0242 & 1.3875 & 23.0669 & 46.1337 & 0.34\\\\\n",
       "\t 1121167 & 1178 & 32 & 0 &  25 & 1063508 & 145 & 260.38 & 23 &  7 & 0.0136 & 1.7957 & 11.3209 & 37.1971 & 0.24\\\\\n",
       "\t 1121196 & 1178 & 32 & 0 &  28 & 1392288 & 206 & 358.55 & 31 &  7 & 0.0148 & 1.7405 & 11.5661 & 51.2214 & 0.26\\\\\n",
       "\t 1121601 & 1178 & 47 & 0 &  16 & 2286228 & 353 & 603.38 & 16 &  7 & 0.0154 & 1.7093 & 37.7113 & 86.1971 & 0.26\\\\\n",
       "\t 1314386 & 1178 & 42 & 1 & 100 &  834243 & 166 & 246.75 & 18 &  7 & 0.0199 & 1.4864 & 13.7083 & 35.2500 & 0.30\\\\\n",
       "\t 1121302 & 1178 & 37 & 0 &  16 & 1206533 & 128 & 236.12 & 17 &  6 & 0.0106 & 1.8447 & 13.8894 & 39.3533 & 0.20\\\\\n",
       "\t 1121452 & 1178 & 42 & 0 &  16 & 1663441 & 205 & 359.47 & 17 &  6 & 0.0123 & 1.7535 & 21.1453 & 59.9117 & 0.22\\\\\n",
       "\t 1121812 & 1178 & 32 & 1 &  27 &  935646 & 170 & 256.47 & 19 &  6 & 0.0182 & 1.5086 & 13.4984 & 42.7450 & 0.27\\\\\n",
       "\t 1121828 & 1178 & 32 & 1 &  29 &  990404 & 153 & 226.54 & 12 &  6 & 0.0154 & 1.4807 & 18.8783 & 37.7567 & 0.23\\\\\n",
       "\t 1121845 & 1178 & 32 & 1 &  32 &  390339 &  60 & 105.02 &  9 &  6 & 0.0154 & 1.7503 & 11.6689 & 17.5033 & 0.27\\\\\n",
       "\t 1121976 & 1178 & 37 & 1 &  29 &  707260 & 135 & 210.82 & 13 &  6 & 0.0191 & 1.5616 & 16.2169 & 35.1367 & 0.30\\\\\n",
       "\t 1122105 & 1178 & 42 & 1 &  26 &  303971 &  77 & 106.93 & 11 &  6 & 0.0253 & 1.3887 &  9.7209 & 17.8217 & 0.35\\\\\n",
       "\t 1121092 & 1178 & 32 & 0 &  10 &  637648 &  67 & 122.40 & 13 &  5 & 0.0105 & 1.8269 &  9.4154 & 24.4800 & 0.19\\\\\n",
       "\t ⋮ & ⋮ & ⋮ & ⋮ & ⋮ & ⋮ & ⋮ & ⋮ & ⋮ & ⋮ & ⋮ & ⋮ & ⋮ & ⋮ & ⋮\\\\\n",
       "\t 1314307 & 1178 & 32 & 0 & 111 &   98606 &   9 &  12.11 &  1 & 0 & 0.0091 & 1.3456 &  12.1100 &  12.11 & 0.12\\\\\n",
       "\t 1314313 & 1178 & 37 & 0 & 102 &  128859 &  16 &  23.70 &  1 & 0 & 0.0124 & 1.4812 &  23.7000 &  23.70 & 0.18\\\\\n",
       "\t 1314318 & 1178 & 37 & 0 & 107 &  112776 &   9 &  12.68 &  1 & 0 & 0.0080 & 1.4089 &  12.6800 &  12.68 & 0.11\\\\\n",
       "\t 1314320 & 1178 & 37 & 0 & 109 &  106492 &  14 &  21.26 &  2 & 0 & 0.0131 & 1.5186 &  10.6300 &  21.26 & 0.20\\\\\n",
       "\t 1314321 & 1178 & 37 & 0 & 110 &  233845 &  30 &  40.73 &  3 & 0 & 0.0128 & 1.3577 &  13.5767 &  40.73 & 0.17\\\\\n",
       "\t 1314323 & 1178 & 37 & 0 & 112 &  155426 &  17 &  25.01 &  3 & 0 & 0.0109 & 1.4712 &   8.3367 &  25.01 & 0.16\\\\\n",
       "\t 1314325 & 1178 & 37 & 0 & 114 &   61441 &   5 &   7.70 &  1 & 0 & 0.0081 & 1.5400 &   7.7000 &   7.70 & 0.13\\\\\n",
       "\t 1314327 & 1178 & 42 & 0 & 101 &   68619 &  10 &  14.96 &  1 & 0 & 0.0146 & 1.4960 &  14.9600 &  14.96 & 0.22\\\\\n",
       "\t 1314331 & 1178 & 42 & 0 & 105 &  137879 &  19 &  28.47 &  2 & 0 & 0.0138 & 1.4984 &  14.2350 &  28.47 & 0.21\\\\\n",
       "\t 1314332 & 1178 & 42 & 0 & 106 &   67710 &  10 &  15.15 &  1 & 0 & 0.0148 & 1.5150 &  15.1500 &  15.15 & 0.22\\\\\n",
       "\t 1314338 & 1178 & 42 & 0 & 112 &   91180 &  10 &  13.56 &  1 & 0 & 0.0110 & 1.3560 &  13.5600 &  13.56 & 0.15\\\\\n",
       "\t 1314341 & 1178 & 47 & 0 & 100 &  101410 &  12 &  17.94 &  4 & 0 & 0.0118 & 1.4950 &   4.4850 &  17.94 & 0.18\\\\\n",
       "\t 1314345 & 1178 & 47 & 0 & 104 &  125650 &  20 &  30.08 &  4 & 0 & 0.0159 & 1.5040 &   7.5200 &  30.08 & 0.24\\\\\n",
       "\t 1314353 & 1178 & 47 & 0 & 112 &  108426 &  13 &  19.58 &  1 & 0 & 0.0120 & 1.5062 &  19.5800 &  19.58 & 0.18\\\\\n",
       "\t 1314354 & 1178 & 47 & 0 & 113 &  138525 &   9 &  13.65 &  3 & 0 & 0.0065 & 1.5167 &   4.5500 &  13.65 & 0.10\\\\\n",
       "\t 1314355 & 1178 & 47 & 0 & 114 &  150858 &  21 &  30.26 &  1 & 0 & 0.0139 & 1.4410 &  30.2600 &  30.26 & 0.20\\\\\n",
       "\t 1314361 & 1178 & 32 & 1 & 105 &  596831 &  86 & 120.88 & 11 & 0 & 0.0144 & 1.4056 &  10.9891 & 120.88 & 0.20\\\\\n",
       "\t 1314364 & 1178 & 32 & 1 & 108 &  132124 &   8 &  11.19 &  4 & 0 & 0.0061 & 1.3987 &   2.7975 &  11.19 & 0.08\\\\\n",
       "\t 1314371 & 1178 & 37 & 1 & 100 &   72982 &  11 &  15.05 &  1 & 0 & 0.0151 & 1.3682 &  15.0500 &  15.05 & 0.21\\\\\n",
       "\t 1314377 & 1178 & 37 & 1 & 106 &  485369 & 114 & 164.64 &  3 & 0 & 0.0235 & 1.4442 &  54.8800 & 164.64 & 0.34\\\\\n",
       "\t 1314382 & 1178 & 37 & 1 & 111 &   99810 &  14 &  20.05 &  2 & 0 & 0.0140 & 1.4321 &  10.0250 &  20.05 & 0.20\\\\\n",
       "\t 1314388 & 1178 & 42 & 1 & 102 &  329333 &  48 &  67.61 &  1 & 0 & 0.0146 & 1.4085 &  67.6100 &  67.61 & 0.21\\\\\n",
       "\t 1314389 & 1178 & 42 & 1 & 103 & 1114711 & 224 & 319.00 &  6 & 0 & 0.0201 & 1.4241 &  53.1667 & 319.00 & 0.29\\\\\n",
       "\t 1314390 & 1178 & 42 & 1 & 104 &  267316 &  58 &  82.93 &  3 & 0 & 0.0217 & 1.4298 &  27.6433 &  82.93 & 0.31\\\\\n",
       "\t 1314391 & 1178 & 42 & 1 & 105 &  228629 &  38 &  57.00 &  2 & 0 & 0.0166 & 1.5000 &  28.5000 &  57.00 & 0.25\\\\\n",
       "\t 1314397 & 1178 & 42 & 1 & 111 &  402975 &  83 & 120.90 &  1 & 0 & 0.0206 & 1.4566 & 120.9000 & 120.90 & 0.30\\\\\n",
       "\t 1314404 & 1178 & 47 & 1 & 103 &   71982 &  11 &  16.34 &  1 & 0 & 0.0153 & 1.4855 &  16.3400 &  16.34 & 0.23\\\\\n",
       "\t 1314407 & 1178 & 47 & 1 & 106 &  107100 &  23 &  33.71 &  1 & 0 & 0.0215 & 1.4657 &  33.7100 &  33.71 & 0.31\\\\\n",
       "\t 1314411 & 1178 & 47 & 1 & 110 &  637549 & 120 & 173.88 &  3 & 0 & 0.0188 & 1.4490 &  57.9600 & 173.88 & 0.27\\\\\n",
       "\t 1314412 & 1178 & 47 & 1 & 111 &  151531 &  28 &  40.29 &  2 & 0 & 0.0185 & 1.4389 &  20.1450 &  40.29 & 0.27\\\\\n",
       "\\end{tabular}\n"
      ],
      "text/markdown": [
       "\n",
       "A data.frame: 1143 × 15\n",
       "\n",
       "| ad_id &lt;int&gt; | campaign_id &lt;int&gt; | age &lt;int&gt; | gender &lt;int&gt; | interest &lt;int&gt; | Impressions &lt;int&gt; | Clicks &lt;int&gt; | Spent &lt;dbl&gt; | Total_Conversion &lt;int&gt; | Approved_Conversion &lt;int&gt; | CTR &lt;dbl&gt; | CPC &lt;dbl&gt; | CostPerConv_Total &lt;dbl&gt; | CostPerConv_Approved &lt;dbl&gt; | CPM &lt;dbl&gt; |\n",
       "|---|---|---|---|---|---|---|---|---|---|---|---|---|---|---|\n",
       "| 1121104 | 1178 | 32 | 0 |  16 | 2080666 | 202 | 360.15 | 40 | 21 | 0.0097 | 1.7829 |  9.0038 | 17.1500 | 0.17 |\n",
       "| 1121100 | 1178 | 32 | 0 |  15 | 3052003 | 340 | 639.95 | 60 | 17 | 0.0111 | 1.8822 | 10.6658 | 37.6441 | 0.21 |\n",
       "| 1121091 | 1178 | 32 | 0 |  10 | 1194718 | 141 | 254.05 | 28 | 14 | 0.0118 | 1.8018 |  9.0732 | 18.1464 | 0.21 |\n",
       "| 1121108 | 1178 | 32 | 0 |  16 |  984521 |  95 | 163.90 | 26 | 14 | 0.0096 | 1.7253 |  6.3038 | 11.7071 | 0.17 |\n",
       "| 1121814 | 1178 | 32 | 1 |  27 | 2223278 | 421 | 612.30 | 38 | 13 | 0.0189 | 1.4544 | 16.1132 | 47.1000 | 0.28 |\n",
       "| 1121206 | 1178 | 32 | 0 |  29 |  227925 |  22 |  35.31 | 22 | 12 | 0.0097 | 1.6050 |  1.6050 |  2.9425 | 0.15 |\n",
       "| 1121098 | 1178 | 32 | 0 |  15 | 1267550 | 123 | 236.77 | 24 | 10 | 0.0097 | 1.9250 |  9.8654 | 23.6770 | 0.19 |\n",
       "| 1121677 | 1178 | 47 | 0 |  29 | 1391924 | 258 | 422.84 | 17 | 10 | 0.0185 | 1.6389 | 24.8729 | 42.2840 | 0.30 |\n",
       "| 1121824 | 1178 | 32 | 1 |  29 | 1705246 | 295 | 429.48 | 23 | 10 | 0.0173 | 1.4559 | 18.6730 | 42.9480 | 0.25 |\n",
       "| 1314398 | 1178 | 42 | 1 | 112 | 1137635 | 211 | 301.05 | 30 | 10 | 0.0185 | 1.4268 | 10.0350 | 30.1050 | 0.26 |\n",
       "| 1121125 | 1178 | 32 | 0 |  20 | 1034284 | 152 | 257.71 | 20 |  9 | 0.0147 | 1.6955 | 12.8855 | 28.6344 | 0.25 |\n",
       "| 1314367 | 1178 | 32 | 1 | 111 |  665817 | 117 | 163.80 | 23 |  9 | 0.0176 | 1.4000 |  7.1217 | 18.2000 | 0.25 |\n",
       "| 1314387 | 1178 | 42 | 1 | 101 |  696612 | 152 | 223.19 | 31 |  9 | 0.0218 | 1.4684 |  7.1997 | 24.7989 | 0.32 |\n",
       "| 1121203 | 1178 | 32 | 0 |  29 | 1048861 | 128 | 219.77 | 22 |  8 | 0.0122 | 1.7170 |  9.9895 | 27.4713 | 0.21 |\n",
       "| 1121278 | 1178 | 32 | 0 |   7 | 1044442 | 142 | 245.60 | 22 |  8 | 0.0136 | 1.7296 | 11.1636 | 30.7000 | 0.24 |\n",
       "| 1121367 | 1178 | 37 | 0 |  28 | 1447755 | 233 | 420.58 | 11 |  8 | 0.0161 | 1.8051 | 38.2345 | 52.5725 | 0.29 |\n",
       "| 1121676 | 1178 | 47 | 0 |  29 | 1026304 | 168 | 277.58 | 17 |  8 | 0.0164 | 1.6523 | 16.3282 | 34.6975 | 0.27 |\n",
       "| 1122273 | 1178 | 47 | 1 |  29 | 1097966 | 266 | 369.07 | 16 |  8 | 0.0242 | 1.3875 | 23.0669 | 46.1337 | 0.34 |\n",
       "| 1121167 | 1178 | 32 | 0 |  25 | 1063508 | 145 | 260.38 | 23 |  7 | 0.0136 | 1.7957 | 11.3209 | 37.1971 | 0.24 |\n",
       "| 1121196 | 1178 | 32 | 0 |  28 | 1392288 | 206 | 358.55 | 31 |  7 | 0.0148 | 1.7405 | 11.5661 | 51.2214 | 0.26 |\n",
       "| 1121601 | 1178 | 47 | 0 |  16 | 2286228 | 353 | 603.38 | 16 |  7 | 0.0154 | 1.7093 | 37.7113 | 86.1971 | 0.26 |\n",
       "| 1314386 | 1178 | 42 | 1 | 100 |  834243 | 166 | 246.75 | 18 |  7 | 0.0199 | 1.4864 | 13.7083 | 35.2500 | 0.30 |\n",
       "| 1121302 | 1178 | 37 | 0 |  16 | 1206533 | 128 | 236.12 | 17 |  6 | 0.0106 | 1.8447 | 13.8894 | 39.3533 | 0.20 |\n",
       "| 1121452 | 1178 | 42 | 0 |  16 | 1663441 | 205 | 359.47 | 17 |  6 | 0.0123 | 1.7535 | 21.1453 | 59.9117 | 0.22 |\n",
       "| 1121812 | 1178 | 32 | 1 |  27 |  935646 | 170 | 256.47 | 19 |  6 | 0.0182 | 1.5086 | 13.4984 | 42.7450 | 0.27 |\n",
       "| 1121828 | 1178 | 32 | 1 |  29 |  990404 | 153 | 226.54 | 12 |  6 | 0.0154 | 1.4807 | 18.8783 | 37.7567 | 0.23 |\n",
       "| 1121845 | 1178 | 32 | 1 |  32 |  390339 |  60 | 105.02 |  9 |  6 | 0.0154 | 1.7503 | 11.6689 | 17.5033 | 0.27 |\n",
       "| 1121976 | 1178 | 37 | 1 |  29 |  707260 | 135 | 210.82 | 13 |  6 | 0.0191 | 1.5616 | 16.2169 | 35.1367 | 0.30 |\n",
       "| 1122105 | 1178 | 42 | 1 |  26 |  303971 |  77 | 106.93 | 11 |  6 | 0.0253 | 1.3887 |  9.7209 | 17.8217 | 0.35 |\n",
       "| 1121092 | 1178 | 32 | 0 |  10 |  637648 |  67 | 122.40 | 13 |  5 | 0.0105 | 1.8269 |  9.4154 | 24.4800 | 0.19 |\n",
       "| ⋮ | ⋮ | ⋮ | ⋮ | ⋮ | ⋮ | ⋮ | ⋮ | ⋮ | ⋮ | ⋮ | ⋮ | ⋮ | ⋮ | ⋮ |\n",
       "| 1314307 | 1178 | 32 | 0 | 111 |   98606 |   9 |  12.11 |  1 | 0 | 0.0091 | 1.3456 |  12.1100 |  12.11 | 0.12 |\n",
       "| 1314313 | 1178 | 37 | 0 | 102 |  128859 |  16 |  23.70 |  1 | 0 | 0.0124 | 1.4812 |  23.7000 |  23.70 | 0.18 |\n",
       "| 1314318 | 1178 | 37 | 0 | 107 |  112776 |   9 |  12.68 |  1 | 0 | 0.0080 | 1.4089 |  12.6800 |  12.68 | 0.11 |\n",
       "| 1314320 | 1178 | 37 | 0 | 109 |  106492 |  14 |  21.26 |  2 | 0 | 0.0131 | 1.5186 |  10.6300 |  21.26 | 0.20 |\n",
       "| 1314321 | 1178 | 37 | 0 | 110 |  233845 |  30 |  40.73 |  3 | 0 | 0.0128 | 1.3577 |  13.5767 |  40.73 | 0.17 |\n",
       "| 1314323 | 1178 | 37 | 0 | 112 |  155426 |  17 |  25.01 |  3 | 0 | 0.0109 | 1.4712 |   8.3367 |  25.01 | 0.16 |\n",
       "| 1314325 | 1178 | 37 | 0 | 114 |   61441 |   5 |   7.70 |  1 | 0 | 0.0081 | 1.5400 |   7.7000 |   7.70 | 0.13 |\n",
       "| 1314327 | 1178 | 42 | 0 | 101 |   68619 |  10 |  14.96 |  1 | 0 | 0.0146 | 1.4960 |  14.9600 |  14.96 | 0.22 |\n",
       "| 1314331 | 1178 | 42 | 0 | 105 |  137879 |  19 |  28.47 |  2 | 0 | 0.0138 | 1.4984 |  14.2350 |  28.47 | 0.21 |\n",
       "| 1314332 | 1178 | 42 | 0 | 106 |   67710 |  10 |  15.15 |  1 | 0 | 0.0148 | 1.5150 |  15.1500 |  15.15 | 0.22 |\n",
       "| 1314338 | 1178 | 42 | 0 | 112 |   91180 |  10 |  13.56 |  1 | 0 | 0.0110 | 1.3560 |  13.5600 |  13.56 | 0.15 |\n",
       "| 1314341 | 1178 | 47 | 0 | 100 |  101410 |  12 |  17.94 |  4 | 0 | 0.0118 | 1.4950 |   4.4850 |  17.94 | 0.18 |\n",
       "| 1314345 | 1178 | 47 | 0 | 104 |  125650 |  20 |  30.08 |  4 | 0 | 0.0159 | 1.5040 |   7.5200 |  30.08 | 0.24 |\n",
       "| 1314353 | 1178 | 47 | 0 | 112 |  108426 |  13 |  19.58 |  1 | 0 | 0.0120 | 1.5062 |  19.5800 |  19.58 | 0.18 |\n",
       "| 1314354 | 1178 | 47 | 0 | 113 |  138525 |   9 |  13.65 |  3 | 0 | 0.0065 | 1.5167 |   4.5500 |  13.65 | 0.10 |\n",
       "| 1314355 | 1178 | 47 | 0 | 114 |  150858 |  21 |  30.26 |  1 | 0 | 0.0139 | 1.4410 |  30.2600 |  30.26 | 0.20 |\n",
       "| 1314361 | 1178 | 32 | 1 | 105 |  596831 |  86 | 120.88 | 11 | 0 | 0.0144 | 1.4056 |  10.9891 | 120.88 | 0.20 |\n",
       "| 1314364 | 1178 | 32 | 1 | 108 |  132124 |   8 |  11.19 |  4 | 0 | 0.0061 | 1.3987 |   2.7975 |  11.19 | 0.08 |\n",
       "| 1314371 | 1178 | 37 | 1 | 100 |   72982 |  11 |  15.05 |  1 | 0 | 0.0151 | 1.3682 |  15.0500 |  15.05 | 0.21 |\n",
       "| 1314377 | 1178 | 37 | 1 | 106 |  485369 | 114 | 164.64 |  3 | 0 | 0.0235 | 1.4442 |  54.8800 | 164.64 | 0.34 |\n",
       "| 1314382 | 1178 | 37 | 1 | 111 |   99810 |  14 |  20.05 |  2 | 0 | 0.0140 | 1.4321 |  10.0250 |  20.05 | 0.20 |\n",
       "| 1314388 | 1178 | 42 | 1 | 102 |  329333 |  48 |  67.61 |  1 | 0 | 0.0146 | 1.4085 |  67.6100 |  67.61 | 0.21 |\n",
       "| 1314389 | 1178 | 42 | 1 | 103 | 1114711 | 224 | 319.00 |  6 | 0 | 0.0201 | 1.4241 |  53.1667 | 319.00 | 0.29 |\n",
       "| 1314390 | 1178 | 42 | 1 | 104 |  267316 |  58 |  82.93 |  3 | 0 | 0.0217 | 1.4298 |  27.6433 |  82.93 | 0.31 |\n",
       "| 1314391 | 1178 | 42 | 1 | 105 |  228629 |  38 |  57.00 |  2 | 0 | 0.0166 | 1.5000 |  28.5000 |  57.00 | 0.25 |\n",
       "| 1314397 | 1178 | 42 | 1 | 111 |  402975 |  83 | 120.90 |  1 | 0 | 0.0206 | 1.4566 | 120.9000 | 120.90 | 0.30 |\n",
       "| 1314404 | 1178 | 47 | 1 | 103 |   71982 |  11 |  16.34 |  1 | 0 | 0.0153 | 1.4855 |  16.3400 |  16.34 | 0.23 |\n",
       "| 1314407 | 1178 | 47 | 1 | 106 |  107100 |  23 |  33.71 |  1 | 0 | 0.0215 | 1.4657 |  33.7100 |  33.71 | 0.31 |\n",
       "| 1314411 | 1178 | 47 | 1 | 110 |  637549 | 120 | 173.88 |  3 | 0 | 0.0188 | 1.4490 |  57.9600 | 173.88 | 0.27 |\n",
       "| 1314412 | 1178 | 47 | 1 | 111 |  151531 |  28 |  40.29 |  2 | 0 | 0.0185 | 1.4389 |  20.1450 |  40.29 | 0.27 |\n",
       "\n"
      ],
      "text/plain": [
       "     ad_id   campaign_id age gender interest Impressions Clicks Spent \n",
       "1    1121104 1178        32  0       16      2080666     202    360.15\n",
       "2    1121100 1178        32  0       15      3052003     340    639.95\n",
       "3    1121091 1178        32  0       10      1194718     141    254.05\n",
       "4    1121108 1178        32  0       16       984521      95    163.90\n",
       "5    1121814 1178        32  1       27      2223278     421    612.30\n",
       "6    1121206 1178        32  0       29       227925      22     35.31\n",
       "7    1121098 1178        32  0       15      1267550     123    236.77\n",
       "8    1121677 1178        47  0       29      1391924     258    422.84\n",
       "9    1121824 1178        32  1       29      1705246     295    429.48\n",
       "10   1314398 1178        42  1      112      1137635     211    301.05\n",
       "11   1121125 1178        32  0       20      1034284     152    257.71\n",
       "12   1314367 1178        32  1      111       665817     117    163.80\n",
       "13   1314387 1178        42  1      101       696612     152    223.19\n",
       "14   1121203 1178        32  0       29      1048861     128    219.77\n",
       "15   1121278 1178        32  0        7      1044442     142    245.60\n",
       "16   1121367 1178        37  0       28      1447755     233    420.58\n",
       "17   1121676 1178        47  0       29      1026304     168    277.58\n",
       "18   1122273 1178        47  1       29      1097966     266    369.07\n",
       "19   1121167 1178        32  0       25      1063508     145    260.38\n",
       "20   1121196 1178        32  0       28      1392288     206    358.55\n",
       "21   1121601 1178        47  0       16      2286228     353    603.38\n",
       "22   1314386 1178        42  1      100       834243     166    246.75\n",
       "23   1121302 1178        37  0       16      1206533     128    236.12\n",
       "24   1121452 1178        42  0       16      1663441     205    359.47\n",
       "25   1121812 1178        32  1       27       935646     170    256.47\n",
       "26   1121828 1178        32  1       29       990404     153    226.54\n",
       "27   1121845 1178        32  1       32       390339      60    105.02\n",
       "28   1121976 1178        37  1       29       707260     135    210.82\n",
       "29   1122105 1178        42  1       26       303971      77    106.93\n",
       "30   1121092 1178        32  0       10       637648      67    122.40\n",
       "⋮    ⋮       ⋮           ⋮   ⋮      ⋮        ⋮           ⋮      ⋮     \n",
       "1114 1314307 1178        32  0      111        98606       9     12.11\n",
       "1115 1314313 1178        37  0      102       128859      16     23.70\n",
       "1116 1314318 1178        37  0      107       112776       9     12.68\n",
       "1117 1314320 1178        37  0      109       106492      14     21.26\n",
       "1118 1314321 1178        37  0      110       233845      30     40.73\n",
       "1119 1314323 1178        37  0      112       155426      17     25.01\n",
       "1120 1314325 1178        37  0      114        61441       5      7.70\n",
       "1121 1314327 1178        42  0      101        68619      10     14.96\n",
       "1122 1314331 1178        42  0      105       137879      19     28.47\n",
       "1123 1314332 1178        42  0      106        67710      10     15.15\n",
       "1124 1314338 1178        42  0      112        91180      10     13.56\n",
       "1125 1314341 1178        47  0      100       101410      12     17.94\n",
       "1126 1314345 1178        47  0      104       125650      20     30.08\n",
       "1127 1314353 1178        47  0      112       108426      13     19.58\n",
       "1128 1314354 1178        47  0      113       138525       9     13.65\n",
       "1129 1314355 1178        47  0      114       150858      21     30.26\n",
       "1130 1314361 1178        32  1      105       596831      86    120.88\n",
       "1131 1314364 1178        32  1      108       132124       8     11.19\n",
       "1132 1314371 1178        37  1      100        72982      11     15.05\n",
       "1133 1314377 1178        37  1      106       485369     114    164.64\n",
       "1134 1314382 1178        37  1      111        99810      14     20.05\n",
       "1135 1314388 1178        42  1      102       329333      48     67.61\n",
       "1136 1314389 1178        42  1      103      1114711     224    319.00\n",
       "1137 1314390 1178        42  1      104       267316      58     82.93\n",
       "1138 1314391 1178        42  1      105       228629      38     57.00\n",
       "1139 1314397 1178        42  1      111       402975      83    120.90\n",
       "1140 1314404 1178        47  1      103        71982      11     16.34\n",
       "1141 1314407 1178        47  1      106       107100      23     33.71\n",
       "1142 1314411 1178        47  1      110       637549     120    173.88\n",
       "1143 1314412 1178        47  1      111       151531      28     40.29\n",
       "     Total_Conversion Approved_Conversion CTR    CPC    CostPerConv_Total\n",
       "1    40               21                  0.0097 1.7829  9.0038          \n",
       "2    60               17                  0.0111 1.8822 10.6658          \n",
       "3    28               14                  0.0118 1.8018  9.0732          \n",
       "4    26               14                  0.0096 1.7253  6.3038          \n",
       "5    38               13                  0.0189 1.4544 16.1132          \n",
       "6    22               12                  0.0097 1.6050  1.6050          \n",
       "7    24               10                  0.0097 1.9250  9.8654          \n",
       "8    17               10                  0.0185 1.6389 24.8729          \n",
       "9    23               10                  0.0173 1.4559 18.6730          \n",
       "10   30               10                  0.0185 1.4268 10.0350          \n",
       "11   20                9                  0.0147 1.6955 12.8855          \n",
       "12   23                9                  0.0176 1.4000  7.1217          \n",
       "13   31                9                  0.0218 1.4684  7.1997          \n",
       "14   22                8                  0.0122 1.7170  9.9895          \n",
       "15   22                8                  0.0136 1.7296 11.1636          \n",
       "16   11                8                  0.0161 1.8051 38.2345          \n",
       "17   17                8                  0.0164 1.6523 16.3282          \n",
       "18   16                8                  0.0242 1.3875 23.0669          \n",
       "19   23                7                  0.0136 1.7957 11.3209          \n",
       "20   31                7                  0.0148 1.7405 11.5661          \n",
       "21   16                7                  0.0154 1.7093 37.7113          \n",
       "22   18                7                  0.0199 1.4864 13.7083          \n",
       "23   17                6                  0.0106 1.8447 13.8894          \n",
       "24   17                6                  0.0123 1.7535 21.1453          \n",
       "25   19                6                  0.0182 1.5086 13.4984          \n",
       "26   12                6                  0.0154 1.4807 18.8783          \n",
       "27    9                6                  0.0154 1.7503 11.6689          \n",
       "28   13                6                  0.0191 1.5616 16.2169          \n",
       "29   11                6                  0.0253 1.3887  9.7209          \n",
       "30   13                5                  0.0105 1.8269  9.4154          \n",
       "⋮    ⋮                ⋮                   ⋮      ⋮      ⋮                \n",
       "1114  1               0                   0.0091 1.3456  12.1100         \n",
       "1115  1               0                   0.0124 1.4812  23.7000         \n",
       "1116  1               0                   0.0080 1.4089  12.6800         \n",
       "1117  2               0                   0.0131 1.5186  10.6300         \n",
       "1118  3               0                   0.0128 1.3577  13.5767         \n",
       "1119  3               0                   0.0109 1.4712   8.3367         \n",
       "1120  1               0                   0.0081 1.5400   7.7000         \n",
       "1121  1               0                   0.0146 1.4960  14.9600         \n",
       "1122  2               0                   0.0138 1.4984  14.2350         \n",
       "1123  1               0                   0.0148 1.5150  15.1500         \n",
       "1124  1               0                   0.0110 1.3560  13.5600         \n",
       "1125  4               0                   0.0118 1.4950   4.4850         \n",
       "1126  4               0                   0.0159 1.5040   7.5200         \n",
       "1127  1               0                   0.0120 1.5062  19.5800         \n",
       "1128  3               0                   0.0065 1.5167   4.5500         \n",
       "1129  1               0                   0.0139 1.4410  30.2600         \n",
       "1130 11               0                   0.0144 1.4056  10.9891         \n",
       "1131  4               0                   0.0061 1.3987   2.7975         \n",
       "1132  1               0                   0.0151 1.3682  15.0500         \n",
       "1133  3               0                   0.0235 1.4442  54.8800         \n",
       "1134  2               0                   0.0140 1.4321  10.0250         \n",
       "1135  1               0                   0.0146 1.4085  67.6100         \n",
       "1136  6               0                   0.0201 1.4241  53.1667         \n",
       "1137  3               0                   0.0217 1.4298  27.6433         \n",
       "1138  2               0                   0.0166 1.5000  28.5000         \n",
       "1139  1               0                   0.0206 1.4566 120.9000         \n",
       "1140  1               0                   0.0153 1.4855  16.3400         \n",
       "1141  1               0                   0.0215 1.4657  33.7100         \n",
       "1142  3               0                   0.0188 1.4490  57.9600         \n",
       "1143  2               0                   0.0185 1.4389  20.1450         \n",
       "     CostPerConv_Approved CPM \n",
       "1    17.1500              0.17\n",
       "2    37.6441              0.21\n",
       "3    18.1464              0.21\n",
       "4    11.7071              0.17\n",
       "5    47.1000              0.28\n",
       "6     2.9425              0.15\n",
       "7    23.6770              0.19\n",
       "8    42.2840              0.30\n",
       "9    42.9480              0.25\n",
       "10   30.1050              0.26\n",
       "11   28.6344              0.25\n",
       "12   18.2000              0.25\n",
       "13   24.7989              0.32\n",
       "14   27.4713              0.21\n",
       "15   30.7000              0.24\n",
       "16   52.5725              0.29\n",
       "17   34.6975              0.27\n",
       "18   46.1337              0.34\n",
       "19   37.1971              0.24\n",
       "20   51.2214              0.26\n",
       "21   86.1971              0.26\n",
       "22   35.2500              0.30\n",
       "23   39.3533              0.20\n",
       "24   59.9117              0.22\n",
       "25   42.7450              0.27\n",
       "26   37.7567              0.23\n",
       "27   17.5033              0.27\n",
       "28   35.1367              0.30\n",
       "29   17.8217              0.35\n",
       "30   24.4800              0.19\n",
       "⋮    ⋮                    ⋮   \n",
       "1114  12.11               0.12\n",
       "1115  23.70               0.18\n",
       "1116  12.68               0.11\n",
       "1117  21.26               0.20\n",
       "1118  40.73               0.17\n",
       "1119  25.01               0.16\n",
       "1120   7.70               0.13\n",
       "1121  14.96               0.22\n",
       "1122  28.47               0.21\n",
       "1123  15.15               0.22\n",
       "1124  13.56               0.15\n",
       "1125  17.94               0.18\n",
       "1126  30.08               0.24\n",
       "1127  19.58               0.18\n",
       "1128  13.65               0.10\n",
       "1129  30.26               0.20\n",
       "1130 120.88               0.20\n",
       "1131  11.19               0.08\n",
       "1132  15.05               0.21\n",
       "1133 164.64               0.34\n",
       "1134  20.05               0.20\n",
       "1135  67.61               0.21\n",
       "1136 319.00               0.29\n",
       "1137  82.93               0.31\n",
       "1138  57.00               0.25\n",
       "1139 120.90               0.30\n",
       "1140  16.34               0.23\n",
       "1141  33.71               0.31\n",
       "1142 173.88               0.27\n",
       "1143  40.29               0.27"
      ]
     },
     "metadata": {},
     "output_type": "display_data"
    }
   ],
   "source": [
    "#Which ad was the most successful wrt approved conversions?\n",
    "data %>% filter(Approved_Conversion == max(Approved_Conversion))\n",
    "#1121104 - Approved Conversion : 40\n",
    "#Alternative way to do this - Arrange in descending order of approved conversion and check first row\n",
    "data %>% arrange(desc(Approved_Conversion))"
   ]
  },
  {
   "cell_type": "code",
   "execution_count": 26,
   "metadata": {
    "vscode": {
     "languageId": "r"
    }
   },
   "outputs": [
    {
     "data": {
      "text/html": [
       "71"
      ],
      "text/latex": [
       "71"
      ],
      "text/markdown": [
       "71"
      ],
      "text/plain": [
       "[1] 71"
      ]
     },
     "metadata": {},
     "output_type": "display_data"
    }
   ],
   "source": [
    "#How many ads which have not spent any money led to approved conversions? \n",
    "data %>% filter(Spent==0 & Approved_Conversion !=0) %>% nrow()\n",
    "#71\n"
   ]
  },
  {
   "cell_type": "code",
   "execution_count": 27,
   "metadata": {
    "vscode": {
     "languageId": "r"
    }
   },
   "outputs": [
    {
     "data": {
      "text/html": [
       "<table class=\"dataframe\">\n",
       "<caption>A tibble: 3 × 2</caption>\n",
       "<thead>\n",
       "\t<tr><th scope=col>campaign_id</th><th scope=col>n_ads</th></tr>\n",
       "\t<tr><th scope=col>&lt;int&gt;</th><th scope=col>&lt;int&gt;</th></tr>\n",
       "</thead>\n",
       "<tbody>\n",
       "\t<tr><td> 936</td><td>60</td></tr>\n",
       "\t<tr><td> 916</td><td> 8</td></tr>\n",
       "\t<tr><td>1178</td><td> 3</td></tr>\n",
       "</tbody>\n",
       "</table>\n"
      ],
      "text/latex": [
       "A tibble: 3 × 2\n",
       "\\begin{tabular}{ll}\n",
       " campaign\\_id & n\\_ads\\\\\n",
       " <int> & <int>\\\\\n",
       "\\hline\n",
       "\t  936 & 60\\\\\n",
       "\t  916 &  8\\\\\n",
       "\t 1178 &  3\\\\\n",
       "\\end{tabular}\n"
      ],
      "text/markdown": [
       "\n",
       "A tibble: 3 × 2\n",
       "\n",
       "| campaign_id &lt;int&gt; | n_ads &lt;int&gt; |\n",
       "|---|---|\n",
       "|  936 | 60 |\n",
       "|  916 |  8 |\n",
       "| 1178 |  3 |\n",
       "\n"
      ],
      "text/plain": [
       "  campaign_id n_ads\n",
       "1  936        60   \n",
       "2  916         8   \n",
       "3 1178         3   "
      ]
     },
     "metadata": {},
     "output_type": "display_data"
    }
   ],
   "source": [
    "#Which campaign did most of such cost effective ads as described previously?\n",
    "data %>% filter(Spent==0 & Approved_Conversion !=0) %>% group_by(campaign_id) %>%\n",
    "  summarise(n_ads = length(ad_id)) %>% arrange(desc(n_ads))\n",
    "#936 - 60 ads"
   ]
  },
  {
   "cell_type": "code",
   "execution_count": 29,
   "metadata": {
    "vscode": {
     "languageId": "r"
    }
   },
   "outputs": [
    {
     "data": {
      "text/html": [
       "<table class=\"dataframe\">\n",
       "<caption>A data.frame: 1 × 15</caption>\n",
       "<thead>\n",
       "\t<tr><th scope=col>ad_id</th><th scope=col>campaign_id</th><th scope=col>age</th><th scope=col>gender</th><th scope=col>interest</th><th scope=col>Impressions</th><th scope=col>Clicks</th><th scope=col>Spent</th><th scope=col>Total_Conversion</th><th scope=col>Approved_Conversion</th><th scope=col>CTR</th><th scope=col>CPC</th><th scope=col>CostPerConv_Total</th><th scope=col>CostPerConv_Approved</th><th scope=col>CPM</th></tr>\n",
       "\t<tr><th scope=col>&lt;int&gt;</th><th scope=col>&lt;int&gt;</th><th scope=col>&lt;int&gt;</th><th scope=col>&lt;int&gt;</th><th scope=col>&lt;int&gt;</th><th scope=col>&lt;int&gt;</th><th scope=col>&lt;int&gt;</th><th scope=col>&lt;dbl&gt;</th><th scope=col>&lt;int&gt;</th><th scope=col>&lt;int&gt;</th><th scope=col>&lt;dbl&gt;</th><th scope=col>&lt;dbl&gt;</th><th scope=col>&lt;dbl&gt;</th><th scope=col>&lt;dbl&gt;</th><th scope=col>&lt;dbl&gt;</th></tr>\n",
       "</thead>\n",
       "<tbody>\n",
       "\t<tr><td>951641</td><td>936</td><td>42</td><td>1</td><td>2</td><td>87</td><td>0</td><td>0</td><td>1</td><td>1</td><td>0</td><td>0</td><td>0</td><td>0</td><td>0</td></tr>\n",
       "</tbody>\n",
       "</table>\n"
      ],
      "text/latex": [
       "A data.frame: 1 × 15\n",
       "\\begin{tabular}{lllllllllllllll}\n",
       " ad\\_id & campaign\\_id & age & gender & interest & Impressions & Clicks & Spent & Total\\_Conversion & Approved\\_Conversion & CTR & CPC & CostPerConv\\_Total & CostPerConv\\_Approved & CPM\\\\\n",
       " <int> & <int> & <int> & <int> & <int> & <int> & <int> & <dbl> & <int> & <int> & <dbl> & <dbl> & <dbl> & <dbl> & <dbl>\\\\\n",
       "\\hline\n",
       "\t 951641 & 936 & 42 & 1 & 2 & 87 & 0 & 0 & 1 & 1 & 0 & 0 & 0 & 0 & 0\\\\\n",
       "\\end{tabular}\n"
      ],
      "text/markdown": [
       "\n",
       "A data.frame: 1 × 15\n",
       "\n",
       "| ad_id &lt;int&gt; | campaign_id &lt;int&gt; | age &lt;int&gt; | gender &lt;int&gt; | interest &lt;int&gt; | Impressions &lt;int&gt; | Clicks &lt;int&gt; | Spent &lt;dbl&gt; | Total_Conversion &lt;int&gt; | Approved_Conversion &lt;int&gt; | CTR &lt;dbl&gt; | CPC &lt;dbl&gt; | CostPerConv_Total &lt;dbl&gt; | CostPerConv_Approved &lt;dbl&gt; | CPM &lt;dbl&gt; |\n",
       "|---|---|---|---|---|---|---|---|---|---|---|---|---|---|---|\n",
       "| 951641 | 936 | 42 | 1 | 2 | 87 | 0 | 0 | 1 | 1 | 0 | 0 | 0 | 0 | 0 |\n",
       "\n"
      ],
      "text/plain": [
       "  ad_id  campaign_id age gender interest Impressions Clicks Spent\n",
       "1 951641 936         42  1      2        87          0      0    \n",
       "  Total_Conversion Approved_Conversion CTR CPC CostPerConv_Total\n",
       "1 1                1                   0   0   0                \n",
       "  CostPerConv_Approved CPM\n",
       "1 0                    0  "
      ]
     },
     "metadata": {},
     "output_type": "display_data"
    },
    {
     "data": {
      "text/html": [
       "<table class=\"dataframe\">\n",
       "<caption>A data.frame: 1 × 1</caption>\n",
       "<thead>\n",
       "\t<tr><th scope=col>ad_id</th></tr>\n",
       "\t<tr><th scope=col>&lt;int&gt;</th></tr>\n",
       "</thead>\n",
       "<tbody>\n",
       "\t<tr><td>951641</td></tr>\n",
       "</tbody>\n",
       "</table>\n"
      ],
      "text/latex": [
       "A data.frame: 1 × 1\n",
       "\\begin{tabular}{l}\n",
       " ad\\_id\\\\\n",
       " <int>\\\\\n",
       "\\hline\n",
       "\t 951641\\\\\n",
       "\\end{tabular}\n"
      ],
      "text/markdown": [
       "\n",
       "A data.frame: 1 × 1\n",
       "\n",
       "| ad_id &lt;int&gt; |\n",
       "|---|\n",
       "| 951641 |\n",
       "\n"
      ],
      "text/plain": [
       "  ad_id \n",
       "1 951641"
      ]
     },
     "metadata": {},
     "output_type": "display_data"
    }
   ],
   "source": [
    "#Which ad generated least impressions?\n",
    "data %>% filter(Impressions == min(Impressions))\n",
    "#951641\n",
    "\n",
    "#To get only ad_id above: \n",
    "data %>% filter(Impressions == min(Impressions)) %>% select(ad_id)"
   ]
  },
  {
   "cell_type": "code",
   "execution_count": 30,
   "metadata": {
    "vscode": {
     "languageId": "r"
    }
   },
   "outputs": [
    {
     "data": {
      "text/html": [
       "<table class=\"dataframe\">\n",
       "<caption>A data.frame: 1 × 1</caption>\n",
       "<thead>\n",
       "\t<tr><th scope=col>ad_id</th></tr>\n",
       "\t<tr><th scope=col>&lt;int&gt;</th></tr>\n",
       "</thead>\n",
       "<tbody>\n",
       "\t<tr><td>951641</td></tr>\n",
       "</tbody>\n",
       "</table>\n"
      ],
      "text/latex": [
       "A data.frame: 1 × 1\n",
       "\\begin{tabular}{l}\n",
       " ad\\_id\\\\\n",
       " <int>\\\\\n",
       "\\hline\n",
       "\t 951641\\\\\n",
       "\\end{tabular}\n"
      ],
      "text/markdown": [
       "\n",
       "A data.frame: 1 × 1\n",
       "\n",
       "| ad_id &lt;int&gt; |\n",
       "|---|\n",
       "| 951641 |\n",
       "\n"
      ],
      "text/plain": [
       "  ad_id \n",
       "1 951641"
      ]
     },
     "metadata": {},
     "output_type": "display_data"
    }
   ],
   "source": [
    "#Which ad that costed the least based on CPC led to least impressions?\n",
    "data %>% filter(CPC == min(CPC)) %>% filter(Impressions == min(Impressions)) %>% select(ad_id)\n",
    "#951641"
   ]
  }
 ],
 "metadata": {
  "kernelspec": {
   "display_name": "R",
   "language": "R",
   "name": "ir"
  },
  "language_info": {
   "codemirror_mode": "r",
   "file_extension": ".r",
   "mimetype": "text/x-r-source",
   "name": "R",
   "pygments_lexer": "r",
   "version": "4.3.2"
  }
 },
 "nbformat": 4,
 "nbformat_minor": 2
}
