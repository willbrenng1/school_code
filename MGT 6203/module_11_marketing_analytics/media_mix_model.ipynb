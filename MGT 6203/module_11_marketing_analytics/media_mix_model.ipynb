{
 "cells": [
  {
   "cell_type": "code",
   "execution_count": 1,
   "metadata": {
    "vscode": {
     "languageId": "r"
    }
   },
   "outputs": [],
   "source": [
    "##read data\n",
    "trans = read.csv('transactions.csv', header=TRUE)\n",
    "impress = read.csv('impressions.csv', header=TRUE)"
   ]
  },
  {
   "cell_type": "code",
   "execution_count": 6,
   "metadata": {
    "vscode": {
     "languageId": "r"
    }
   },
   "outputs": [],
   "source": [
    "##combine transaction and impression datasets together\n",
    "cadence <-xtabs (~ date + channel , data = impress )\n",
    "transbyday <-xtabs (~date , data = trans )"
   ]
  },
  {
   "cell_type": "code",
   "execution_count": 7,
   "metadata": {
    "vscode": {
     "languageId": "r"
    }
   },
   "outputs": [
    {
     "data": {
      "text/html": [
       "<table class=\"dataframe\">\n",
       "<caption>A data.frame: 6 × 5</caption>\n",
       "<thead>\n",
       "\t<tr><th></th><th scope=col>trans</th><th scope=col>direct</th><th scope=col>display</th><th scope=col>email</th><th scope=col>social</th></tr>\n",
       "\t<tr><th></th><th scope=col>&lt;int&gt;</th><th scope=col>&lt;int&gt;</th><th scope=col>&lt;int&gt;</th><th scope=col>&lt;int&gt;</th><th scope=col>&lt;int&gt;</th></tr>\n",
       "</thead>\n",
       "<tbody>\n",
       "\t<tr><th scope=row>2017-01-01</th><td>325</td><td>   0</td><td>3786</td><td>   0</td><td>7481</td></tr>\n",
       "\t<tr><th scope=row>2017-01-02</th><td>357</td><td>   0</td><td>3792</td><td>   0</td><td>7416</td></tr>\n",
       "\t<tr><th scope=row>2017-01-03</th><td>589</td><td>   0</td><td>3656</td><td>4798</td><td>7505</td></tr>\n",
       "\t<tr><th scope=row>2017-01-04</th><td>479</td><td>   0</td><td>3731</td><td>   0</td><td>7648</td></tr>\n",
       "\t<tr><th scope=row>2017-01-05</th><td>403</td><td>   0</td><td>3770</td><td>   0</td><td>7620</td></tr>\n",
       "\t<tr><th scope=row>2017-01-06</th><td>498</td><td>4974</td><td>3611</td><td>   0</td><td>7614</td></tr>\n",
       "</tbody>\n",
       "</table>\n"
      ],
      "text/latex": [
       "A data.frame: 6 × 5\n",
       "\\begin{tabular}{r|lllll}\n",
       "  & trans & direct & display & email & social\\\\\n",
       "  & <int> & <int> & <int> & <int> & <int>\\\\\n",
       "\\hline\n",
       "\t2017-01-01 & 325 &    0 & 3786 &    0 & 7481\\\\\n",
       "\t2017-01-02 & 357 &    0 & 3792 &    0 & 7416\\\\\n",
       "\t2017-01-03 & 589 &    0 & 3656 & 4798 & 7505\\\\\n",
       "\t2017-01-04 & 479 &    0 & 3731 &    0 & 7648\\\\\n",
       "\t2017-01-05 & 403 &    0 & 3770 &    0 & 7620\\\\\n",
       "\t2017-01-06 & 498 & 4974 & 3611 &    0 & 7614\\\\\n",
       "\\end{tabular}\n"
      ],
      "text/markdown": [
       "\n",
       "A data.frame: 6 × 5\n",
       "\n",
       "| <!--/--> | trans &lt;int&gt; | direct &lt;int&gt; | display &lt;int&gt; | email &lt;int&gt; | social &lt;int&gt; |\n",
       "|---|---|---|---|---|---|\n",
       "| 2017-01-01 | 325 |    0 | 3786 |    0 | 7481 |\n",
       "| 2017-01-02 | 357 |    0 | 3792 |    0 | 7416 |\n",
       "| 2017-01-03 | 589 |    0 | 3656 | 4798 | 7505 |\n",
       "| 2017-01-04 | 479 |    0 | 3731 |    0 | 7648 |\n",
       "| 2017-01-05 | 403 |    0 | 3770 |    0 | 7620 |\n",
       "| 2017-01-06 | 498 | 4974 | 3611 |    0 | 7614 |\n",
       "\n"
      ],
      "text/plain": [
       "           trans direct display email social\n",
       "2017-01-01 325      0   3786       0  7481  \n",
       "2017-01-02 357      0   3792       0  7416  \n",
       "2017-01-03 589      0   3656    4798  7505  \n",
       "2017-01-04 479      0   3731       0  7648  \n",
       "2017-01-05 403      0   3770       0  7620  \n",
       "2017-01-06 498   4974   3611       0  7614  "
      ]
     },
     "metadata": {},
     "output_type": "display_data"
    }
   ],
   "source": [
    "mdata <- as.data.frame(cbind(trans = transbyday[1:57],cadence[2:58,])) # aligining\n",
    "\n",
    "#view data\n",
    "head(mdata)\n"
   ]
  },
  {
   "cell_type": "markdown",
   "metadata": {},
   "source": [
    "# Marketing Mix Modeling\n",
    "\n",
    "A \"marketing mix model\" or \"MMM\" is a regression relating advertising spending or total impressions to some response such as \"sales (transactions)\". Marketing mix modeling (MMM) is also a statistical analysis utilizing marketing time series data to estimate the impact of various marketing strategies on sales and then predict the impact of future sets of marketing mix or tactics. It is often used to optimize advertising mix and promotional tactics with respect to sales revenue or profit.\n",
    "\n",
    "In order to investigate the relationships or correlations between total sales (transactions) and impression factors (four different advertising channels - display ads, social media ads, email ads, and direct mail ads) within a specific time period, we implemented linear regression model for marketing mix modeling. By analyzing the correlations between marketing activities and the transactions, weakness and strengths of various channels, seasonality of consumer's response, the marketing team could evaluate the cost efficiency and thus move forward to optimize the resources allocation for marketing spending, and strategically plan marketing events to improve the effectiveness of marketing efforts.\n",
    "\n",
    "A simple marketing mix model for our case could be represented as follows:\n",
    "$$sales_t = \\beta_0 + \\beta_1direct_t + \\beta_2display_t + \\beta_3email_t + \\beta_4social_t + \\epsilon_t$$\n",
    "\n",
    "the $\\beta$'s represent the unknown relationship between advertising spending and sales. For instance, $\\beta_1$ means the increase in sales we will gain for each additional display impression unit while holding other impression factors fixed.\n",
    "\n",
    "* Exploration plots"
   ]
  },
  {
   "cell_type": "code",
   "execution_count": 8,
   "metadata": {
    "vscode": {
     "languageId": "r"
    }
   },
   "outputs": [
    {
     "data": {
      "image/png": "[encoded data removed]",
      "text/plain": [
       "Plot with title \"Email v. Sales\""
      ]
     },
     "metadata": {
      "image/png": {
       "height": 420,
       "width": 420
      }
     },
     "output_type": "display_data"
    }
   ],
   "source": [
    "par(mfrow=c(1,4))\n",
    "plot(x=mdata$display, y=mdata$trans, xlab=\"Display\",\n",
    "     ylab=\"Transactions\", main=\"Display v. Sales\",col=\"dodgerblue\")\n",
    "plot(x=mdata$social, y=mdata$trans, xlab=\"Social\",\n",
    "     ylab=\"Transactions\", main=\"Social v. Sales\",col=\"dodgerblue\")\n",
    "plot(x=mdata$direct, y=mdata$trans, xlab=\"Direct\",\n",
    "     ylab=\"Transactions\", main=\"Direct vs. Sales\",col=\"dodgerblue\")\n",
    "plot(x=mdata$email, y=mdata$trans, xlab=\"Email\",\n",
    "     ylab=\"Transactions\", main=\"Email v. Sales\",col=\"dodgerblue\")"
   ]
  },
  {
   "cell_type": "markdown",
   "metadata": {},
   "source": [
    "Those plots gave us a general idea about how's the relationship between impression factors and sales, the Display channel tends to show a different trend compared to others, which will be explored more in the following model building part.\n"
   ]
  },
  {
   "cell_type": "code",
   "execution_count": 9,
   "metadata": {
    "vscode": {
     "languageId": "r"
    }
   },
   "outputs": [
    {
     "data": {
      "text/html": [
       "<table class=\"dataframe\">\n",
       "<caption>A matrix: 5 × 5 of type dbl</caption>\n",
       "<thead>\n",
       "\t<tr><th></th><th scope=col>trans</th><th scope=col>direct</th><th scope=col>display</th><th scope=col>email</th><th scope=col>social</th></tr>\n",
       "</thead>\n",
       "<tbody>\n",
       "\t<tr><th scope=row>trans</th><td> 1.000</td><td> 0.070</td><td>-0.028</td><td> 0.529</td><td> 0.395</td></tr>\n",
       "\t<tr><th scope=row>direct</th><td> 0.070</td><td> 1.000</td><td>-0.235</td><td>-0.077</td><td>-0.007</td></tr>\n",
       "\t<tr><th scope=row>display</th><td>-0.028</td><td>-0.235</td><td> 1.000</td><td>-0.068</td><td> 0.142</td></tr>\n",
       "\t<tr><th scope=row>email</th><td> 0.529</td><td>-0.077</td><td>-0.068</td><td> 1.000</td><td>-0.025</td></tr>\n",
       "\t<tr><th scope=row>social</th><td> 0.395</td><td>-0.007</td><td> 0.142</td><td>-0.025</td><td> 1.000</td></tr>\n",
       "</tbody>\n",
       "</table>\n"
      ],
      "text/latex": [
       "A matrix: 5 × 5 of type dbl\n",
       "\\begin{tabular}{r|lllll}\n",
       "  & trans & direct & display & email & social\\\\\n",
       "\\hline\n",
       "\ttrans &  1.000 &  0.070 & -0.028 &  0.529 &  0.395\\\\\n",
       "\tdirect &  0.070 &  1.000 & -0.235 & -0.077 & -0.007\\\\\n",
       "\tdisplay & -0.028 & -0.235 &  1.000 & -0.068 &  0.142\\\\\n",
       "\temail &  0.529 & -0.077 & -0.068 &  1.000 & -0.025\\\\\n",
       "\tsocial &  0.395 & -0.007 &  0.142 & -0.025 &  1.000\\\\\n",
       "\\end{tabular}\n"
      ],
      "text/markdown": [
       "\n",
       "A matrix: 5 × 5 of type dbl\n",
       "\n",
       "| <!--/--> | trans | direct | display | email | social |\n",
       "|---|---|---|---|---|---|\n",
       "| trans |  1.000 |  0.070 | -0.028 |  0.529 |  0.395 |\n",
       "| direct |  0.070 |  1.000 | -0.235 | -0.077 | -0.007 |\n",
       "| display | -0.028 | -0.235 |  1.000 | -0.068 |  0.142 |\n",
       "| email |  0.529 | -0.077 | -0.068 |  1.000 | -0.025 |\n",
       "| social |  0.395 | -0.007 |  0.142 | -0.025 |  1.000 |\n",
       "\n"
      ],
      "text/plain": [
       "        trans  direct display email  social\n",
       "trans    1.000  0.070 -0.028   0.529  0.395\n",
       "direct   0.070  1.000 -0.235  -0.077 -0.007\n",
       "display -0.028 -0.235  1.000  -0.068  0.142\n",
       "email    0.529 -0.077 -0.068   1.000 -0.025\n",
       "social   0.395 -0.007  0.142  -0.025  1.000"
      ]
     },
     "metadata": {},
     "output_type": "display_data"
    }
   ],
   "source": [
    "res <- cor(mdata)\n",
    "round(res, 3)"
   ]
  },
  {
   "cell_type": "markdown",
   "metadata": {},
   "source": [
    "Based on the correlation matrix, it can be easily found that Email, and Social seems to have a bigger impact on Sales compared with direct and display. They have positive correlations, which are 0.529, and 0.395, and the other two factors seem to have a slight impact.\n",
    "\n",
    "We can have observations of the sales and other advertising data for different impression channels, which will give us the data to estimate these unknown parameters of the model, and the process will be shown below."
   ]
  },
  {
   "cell_type": "markdown",
   "metadata": {},
   "source": [
    "**Model 1: Basic regression relating transactions to impressions**\n",
    "\n",
    "The model 1 can be written as\n",
    "$$Sales_t=\\beta_0 + \\beta_1direct_t+\\beta_2display_t+\\beta_3 email_t+\\beta_4social_t+\\epsilon_t$$"
   ]
  },
  {
   "cell_type": "code",
   "execution_count": 10,
   "metadata": {
    "vscode": {
     "languageId": "r"
    }
   },
   "outputs": [
    {
     "data": {
      "text/plain": [
       "\n",
       "Call:\n",
       "lm(formula = trans ~ direct + display + email + social, data = mdata)\n",
       "\n",
       "Residuals:\n",
       "    Min      1Q  Median      3Q     Max \n",
       "-103.79  -64.91  -44.29   66.11  212.14 \n",
       "\n",
       "Coefficients:\n",
       "              Estimate Std. Error t value Pr(>|t|)    \n",
       "(Intercept) 510.038308 928.122592   0.550 0.584989    \n",
       "direct        0.014278   0.013765   1.037 0.304416    \n",
       "display      -0.054943   0.248928  -0.221 0.826175    \n",
       "email         0.039164   0.007354   5.325 2.18e-06 ***\n",
       "social        0.013127   0.003278   4.005 0.000198 ***\n",
       "---\n",
       "Signif. codes:  0 '***' 0.001 '**' 0.01 '*' 0.05 '.' 0.1 ' ' 1\n",
       "\n",
       "Residual standard error: 91.98 on 52 degrees of freedom\n",
       "Multiple R-squared:  0.4603,\tAdjusted R-squared:  0.4188 \n",
       "F-statistic: 11.09 on 4 and 52 DF,  p-value: 1.406e-06\n"
      ]
     },
     "metadata": {},
     "output_type": "display_data"
    }
   ],
   "source": [
    "model1 <- lm(trans ~ direct + display + email  + social , data = mdata)\n",
    "summary (model1)"
   ]
  },
  {
   "cell_type": "markdown",
   "metadata": {},
   "source": [
    "* From the above output, there are two statistically significant effects, which are social  and email impressions, and we gain 0.013 and 0.039 additional transactions for each impression.\n",
    "\n",
    "* The estimated effect of Display is negative but not significant."
   ]
  },
  {
   "cell_type": "markdown",
   "metadata": {},
   "source": [
    "**Model 2: running the second model with time factor**\n",
    "\n",
    "The model 2 can be written as\n",
    "$$Sales_t=\\beta_0 + \\beta_1direct_t+\\beta_2display_t+\\beta_3 email_t+\\beta_4social_t+\\beta_5-_10dayofweek+\\epsilon_t$$"
   ]
  },
  {
   "cell_type": "code",
   "execution_count": 13,
   "metadata": {
    "vscode": {
     "languageId": "r"
    }
   },
   "outputs": [
    {
     "data": {
      "text/plain": [
       "\n",
       "Call:\n",
       "lm(formula = trans ~ direct + display + email + social + dayofweek, \n",
       "    data = mdata)\n",
       "\n",
       "Residuals:\n",
       "   Min     1Q Median     3Q    Max \n",
       "-87.09 -51.78 -21.70  25.46 221.46 \n",
       "\n",
       "Coefficients:\n",
       "                     Estimate Std. Error t value Pr(>|t|)    \n",
       "(Intercept)         3.482e+02  8.919e+02   0.390 0.698063    \n",
       "direct              2.954e-02  1.417e-02   2.085 0.042632 *  \n",
       "display            -3.112e-02  2.391e-01  -0.130 0.896986    \n",
       "email              -9.607e-01  1.463e+00  -0.656 0.514809    \n",
       "social              1.275e-02  3.077e-03   4.144 0.000145 ***\n",
       "dayofweekMonday     7.141e+01  4.562e+01   1.565 0.124357    \n",
       "dayofweekSaturday   6.445e+01  4.560e+01   1.413 0.164318    \n",
       "dayofweekSunday     5.529e+01  4.460e+01   1.240 0.221330    \n",
       "dayofweekThursday   6.766e+01  4.534e+01   1.492 0.142440    \n",
       "dayofweekTuesday    4.877e+03  7.030e+03   0.694 0.491313    \n",
       "dayofweekWednesday  1.711e+02  4.534e+01   3.774 0.000459 ***\n",
       "---\n",
       "Signif. codes:  0 '***' 0.001 '**' 0.01 '*' 0.05 '.' 0.1 ' ' 1\n",
       "\n",
       "Residual standard error: 83.94 on 46 degrees of freedom\n",
       "Multiple R-squared:  0.6024,\tAdjusted R-squared:  0.516 \n",
       "F-statistic:  6.97 on 10 and 46 DF,  p-value: 1.582e-06\n"
      ]
     },
     "metadata": {},
     "output_type": "display_data"
    }
   ],
   "source": [
    "#Day of week, in linear regression, since dayofweek is character variable with 7 levels,the output includes 6 levels (no Friday). \n",
    "mdata$dayofweek <- weekdays(as.Date(rownames(mdata)))\n",
    "model2 <- lm(trans ~  direct + display + email +social + dayofweek, data = mdata)\n",
    "summary(model2)"
   ]
  },
  {
   "cell_type": "markdown",
   "metadata": {},
   "source": [
    "**Model 3: running the third model with ad stock variable**\n",
    "We usually use an exponential decay function to describe how the effect of the advertisements drops. Additionally, markets defined a term named advertising adstock, which describes the prolonged or lagged effect of advertising on consumer purchase behavior. It is also known as 'advertising carry-over'. Adstock is an important component of marketing-mix models. An ad stock variable is created by computing the exponential decay of the impressions on each day and then sum up the total stock from impressions on previous days.\n"
   ]
  },
  {
   "cell_type": "code",
   "execution_count": 15,
   "metadata": {
    "vscode": {
     "languageId": "r"
    }
   },
   "outputs": [],
   "source": [
    "# add Ad Stock variable over time for the different channels, the codes use an exponential decay function to describe how the effect of the ad falls off over time,the decay rate for each stock variable was specified based on intuition, so An ad stock variable is created by computing the exponential decay of the impressions on each day and then summing up the total \"stock\" from impressions on previous days.\n",
    "#filter function was used to apply linear filtering to a univariate time series or to each series separately of a multivariate time series. Filter specifies the decay rate/filter coefficients in reverse time order. The method \"recursive\" means that an autoregression is used.\n",
    "\n",
    "mdata$email.stock <- as.numeric(filter(x=mdata$email, filter =0.5, method =\"recursive\"))\n",
    "mdata$display.stock <- as.numeric(filter(x=mdata$display, filter =0.3, method =\"recursive\"))\n",
    "mdata$direct.stock <- as.numeric(filter(x=mdata$direct, filter =0.75, method =\"recursive\"))\n",
    "mdata$social.stock <- as.numeric(filter(x=mdata$social, filter =0.3, method =\"recursive\"))"
   ]
  },
  {
   "cell_type": "code",
   "execution_count": 16,
   "metadata": {
    "vscode": {
     "languageId": "r"
    }
   },
   "outputs": [
    {
     "data": {
      "image/png": "[encoded data removed]",
      "text/plain": [
       "plot without title"
      ]
     },
     "metadata": {
      "image/png": {
       "height": 420,
       "width": 420
      }
     },
     "output_type": "display_data"
    }
   ],
   "source": [
    "# Plot the Ad Stock variables over time for the different channels\n",
    "par(mfrow=c(2,2))\n",
    "plot(mdata$email.stock, type =\"l\", xlab =\"Day\", ylab =\"Email Ad Stock\")\n",
    "plot(mdata$display.stock, type =\"l\", xlab =\"Day\", ylab =\"Display Ad Stock\")\n",
    "plot(mdata$direct.stock, type =\"l\", xlab =\"Days\", ylab =\"Direct Stock\")\n",
    "plot(mdata$social.stock, type =\"l\", xlab =\"Days\", ylab =\"Social Stock\")"
   ]
  },
  {
   "cell_type": "markdown",
   "metadata": {},
   "source": [
    "The model 3 can be written as\n",
    "\n",
    "$Sales_t=\\beta_0 + \\beta_1direct.ad.effect_t+\\beta_2display.ad.effect_t+\\beta_3 email.ad.effect_t+\\beta_4social.ad.effect_t+\\epsilon_t$\n",
    "\n",
    "In order to make the results more precisely, we will remove first few observations to allow for the \"Warmup\" of the advertising effect based on the theory of advertising effect."
   ]
  },
  {
   "cell_type": "code",
   "execution_count": 19,
   "metadata": {
    "vscode": {
     "languageId": "r"
    }
   },
   "outputs": [
    {
     "data": {
      "text/plain": [
       "\n",
       "Call:\n",
       "lm(formula = trans ~ direct.stock + display.stock + email.stock + \n",
       "    social.stock, data = mdata[5:nrow(mdata), ])\n",
       "\n",
       "Residuals:\n",
       "     Min       1Q   Median       3Q      Max \n",
       "-170.442  -31.630   -3.793   19.411  125.000 \n",
       "\n",
       "Coefficients:\n",
       "                Estimate Std. Error t value Pr(>|t|)    \n",
       "(Intercept)   -4.605e+02  7.538e+02  -0.611    0.544    \n",
       "direct.stock   5.557e-02  6.193e-03   8.974 7.75e-12 ***\n",
       "display.stock  1.283e-01  1.414e-01   0.907    0.369    \n",
       "email.stock    5.054e-02  4.814e-03  10.499 5.03e-14 ***\n",
       "social.stock   9.468e-03  1.422e-03   6.659 2.45e-08 ***\n",
       "---\n",
       "Signif. codes:  0 '***' 0.001 '**' 0.01 '*' 0.05 '.' 0.1 ' ' 1\n",
       "\n",
       "Residual standard error: 54.17 on 48 degrees of freedom\n",
       "Multiple R-squared:  0.8147,\tAdjusted R-squared:  0.7992 \n",
       "F-statistic: 52.74 on 4 and 48 DF,  p-value: < 2.2e-16\n"
      ]
     },
     "metadata": {},
     "output_type": "display_data"
    }
   ],
   "source": [
    "##run model with ad stock variables\n",
    "model3 <- lm(trans~  direct.stock + display.stock +email.stock +social.stock, data = mdata[5:nrow(mdata),])\n",
    "summary(model3)"
   ]
  },
  {
   "cell_type": "markdown",
   "metadata": {},
   "source": [
    "* Positive effects for all forms of advertising.\n",
    "\n",
    "* Email and Direct appears to have a similar influence on sales.\n",
    "\n",
    "* All effects are statistically significant except for Display. Display still has a high standard error after the adjustment of advertising effect and it indicates that we do not have a precise estimate of its effect. This happened because daily display impressions are pretty much the same every day. \n",
    "\n",
    "\n",
    "In our case, we assumed a decay rate for each channel when we created the advertising effect variables. We selected a small decay rate for display and social and a larger rate for email due to our intuition, which is reasonable as people normally have a short memory in display and social ads while having a slightly longer memory in email impressions."
   ]
  },
  {
   "cell_type": "markdown",
   "metadata": {},
   "source": [
    "**Model 4: running the fourth model with interaction terms**\n",
    "\n",
    "The model 4 can be written as\n",
    "\n",
    "$Sales_t=\\beta_0 + \\beta_1direct.ad.effect_t+\\beta_2display.ad.effect_t+\\beta_3 email.ad.effect_t+\\beta_4social.ad.effect_t+\\beta_5interaction+\\epsilon_t$\n"
   ]
  },
  {
   "cell_type": "code",
   "execution_count": 20,
   "metadata": {
    "vscode": {
     "languageId": "r"
    }
   },
   "outputs": [
    {
     "data": {
      "text/plain": [
       "\n",
       "Call:\n",
       "lm(formula = trans ~ direct.stock + display.stock + email.stock + \n",
       "    social.stock + direct.stock * display.stock, data = mdata[5:nrow(mdata), \n",
       "    ])\n",
       "\n",
       "Residuals:\n",
       "     Min       1Q   Median       3Q      Max \n",
       "-206.914  -22.394   -1.517   23.371  130.328 \n",
       "\n",
       "Coefficients:\n",
       "                             Estimate Std. Error t value Pr(>|t|)    \n",
       "(Intercept)                 3.287e+02  7.936e+02   0.414   0.6806    \n",
       "direct.stock               -1.364e+00  6.001e-01  -2.273   0.0276 *  \n",
       "display.stock              -2.121e-02  1.492e-01  -0.142   0.8876    \n",
       "email.stock                 5.118e-02  4.607e-03  11.109 9.63e-15 ***\n",
       "social.stock                1.040e-02  1.415e-03   7.354 2.38e-09 ***\n",
       "direct.stock:display.stock  2.679e-04  1.133e-04   2.366   0.0222 *  \n",
       "---\n",
       "Signif. codes:  0 '***' 0.001 '**' 0.01 '*' 0.05 '.' 0.1 ' ' 1\n",
       "\n",
       "Residual standard error: 51.75 on 47 degrees of freedom\n",
       "Multiple R-squared:  0.8344,\tAdjusted R-squared:  0.8168 \n",
       "F-statistic: 47.35 on 5 and 47 DF,  p-value: < 2.2e-16\n"
      ]
     },
     "metadata": {},
     "output_type": "display_data"
    }
   ],
   "source": [
    "##run model with ad stock variables and interaction term\n",
    "model4 <-lm( trans ~ direct.stock + display.stock +email.stock +social.stock + direct.stock * display.stock, data = mdata[5:nrow(mdata),])\n",
    "summary (model4)"
   ]
  }
 ],
 "metadata": {
  "kernelspec": {
   "display_name": "R",
   "language": "R",
   "name": "ir"
  },
  "language_info": {
   "codemirror_mode": "r",
   "file_extension": ".r",
   "mimetype": "text/x-r-source",
   "name": "R",
   "pygments_lexer": "r",
   "version": "4.3.2"
  }
 },
 "nbformat": 4,
 "nbformat_minor": 2
}
