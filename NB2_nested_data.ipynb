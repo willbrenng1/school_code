{
  "cells": [
    {
      "cell_type": "markdown",
      "id": "3deb3c0d",
      "metadata": {
        "id": "3deb3c0d"
      },
      "source": [
        "_Main topics covered during today's session:_\n",
        "\n",
        "This NB:\n",
        "\n",
        "1. **Intro to Nested Data**\n",
        "\n",
        "Next NB:\n",
        "1. **Nested Data Example -- NBA data**"
      ]
    },
    {
      "cell_type": "markdown",
      "id": "3e486c9a",
      "metadata": {
        "id": "3e486c9a"
      },
      "source": [
        "# Intro to Nested Data"
      ]
    },
    {
      "cell_type": "markdown",
      "id": "ceb30c51",
      "metadata": {
        "id": "ceb30c51"
      },
      "source": [
        "#### Main data structures in Python -\n",
        "1. Lists\n",
        "2. Tuples\n",
        "3. Dictionaries\n",
        "4. Sets\n",
        "\n",
        "#### You can nest these data structures one inside the other. For example -\n",
        "1. List of lists\n",
        "2. List of tuples\n",
        "3. List of dictionaries\n",
        "4. Dictionary of lists\n",
        "5. Dictionary of dictionaries\n",
        "6. Dictionary of lists of dictionaries.....\n",
        "etc.\n",
        "\n",
        "#### You should know how to handle a complex nested data to get the information you want.\n",
        "\n",
        "#### The methodology is to go step by step and understand how the complex nested data is structured.\n",
        "\n",
        "\n",
        "Let's see some examples to get more idea about these nested data structures -"
      ]
    },
    {
      "cell_type": "code",
      "execution_count": 1,
      "id": "ca6afedd",
      "metadata": {
        "id": "ca6afedd"
      },
      "outputs": [],
      "source": [
        "# a fairly simple nested data structure\n",
        "# dictionary of dictionaries\n",
        "details_dict = {\n",
        "  \"firstName\": \"John\",\n",
        "  \"lastName\": \"Smith\",\n",
        "  \"isAlive\": True,\n",
        "  \"age\": 25,\n",
        "\n",
        "    \"address\": {\n",
        "    \"streetAddress\": \"21 2nd Street\",\n",
        "    \"city\": \"New York\",\n",
        "    \"state\": \"NY\",\n",
        "    \"postalCode\": \"10021-3100\"},\n",
        "\n",
        "  \"phoneNumbers\": {\n",
        "    \"home\":   {\n",
        "                \"type\": \"home\",\n",
        "                \"number\": \"212 555-1234\"\n",
        "              },\n",
        "    \"office\":{\n",
        "               \"type\": \"office\",\n",
        "               \"number\": \"646 555-4567\"\n",
        "             },\n",
        "    \"modile\":{\n",
        "               \"type\": \"mobile\",\n",
        "               \"number\": \"123 456-7890\"\n",
        "             }\n",
        "  },\n",
        "  \"children\": [\"Alice\", \"Ben\"],\n",
        "  \"spouse\": None\n",
        "\n",
        "}"
      ]
    },
    {
      "cell_type": "markdown",
      "id": "13966d35",
      "metadata": {
        "id": "13966d35"
      },
      "source": [
        "#### The site PythonTutor is fantastic for visualizing these data structures.\n",
        "\n",
        "Let's take our details_dict over there and see what it looks like.\n",
        "\n",
        "https://pythontutor.com/python-debugger.html#mode=edit\n"
      ]
    },
    {
      "cell_type": "markdown",
      "id": "378231c0",
      "metadata": {
        "id": "378231c0"
      },
      "source": [
        "#### Now let's look at one that is a bit more complex."
      ]
    },
    {
      "cell_type": "code",
      "execution_count": 2,
      "id": "c1a2d249",
      "metadata": {
        "id": "c1a2d249"
      },
      "outputs": [],
      "source": [
        "nested_data = {\n",
        "    \"ApartmentBuilding\":{\n",
        "        \"Address\":{\n",
        "            \"HouseNumber\": 5,\n",
        "            \"Street\": \"DataStreet\",\n",
        "            \"ZipCode\": 5100\n",
        "        },\n",
        "        \"Apartments\":[\n",
        "            {\n",
        "                \"Number\": 1,\n",
        "                \"Price\": 500,\n",
        "                \"Residents\": [\n",
        "                    {\n",
        "                        \"Name\": \"Bob\",\n",
        "                        \"Age\": 45\n",
        "                    },\n",
        "                    {\n",
        "                        \"Name\": \"Alice\",\n",
        "                        \"Age\": 33\n",
        "                    }\n",
        "                ]\n",
        "            },\n",
        "            {\n",
        "                \"Number\": 2,\n",
        "                \"Price\": 750,\n",
        "                \"Residents\": [\n",
        "                    {\n",
        "                        \"Name\": \"Jane\",\n",
        "                        \"Age\": 28\n",
        "                    },\n",
        "                    {\n",
        "                        \"Name\": \"William\",\n",
        "                        \"Age\": 29\n",
        "                    }\n",
        "                ]\n",
        "            },\n",
        "            {\n",
        "                \"Number\": 3,\n",
        "                \"Price\": 1000,\n",
        "                \"Residents\": []\n",
        "            }\n",
        "        ]\n",
        "    }\n",
        "}"
      ]
    },
    {
      "cell_type": "markdown",
      "id": "16acb3ad",
      "metadata": {
        "id": "16acb3ad"
      },
      "source": [
        "#### What does it look like in Python Tutor?\n",
        "\n",
        "*****************************************************\n",
        "\n",
        "#### Now let's look at how to address this with code. At each step below, we will go back to Python Tutor to cross-reference the data structure's visual representation with the syntax of how we are addressing each element."
      ]
    },
    {
      "cell_type": "code",
      "execution_count": 3,
      "id": "54e154c7",
      "metadata": {
        "id": "54e154c7"
      },
      "outputs": [
        {
          "data": {
            "text/plain": [
              "dict"
            ]
          },
          "execution_count": 3,
          "metadata": {},
          "output_type": "execute_result"
        }
      ],
      "source": [
        "type(nested_data)"
      ]
    },
    {
      "cell_type": "code",
      "execution_count": 4,
      "id": "4f8acefd",
      "metadata": {
        "id": "4f8acefd"
      },
      "outputs": [
        {
          "name": "stdout",
          "output_type": "stream",
          "text": [
            "Key : ApartmentBuilding ,\n",
            " Value : {'Address': {'HouseNumber': 5, 'Street': 'DataStreet', 'ZipCode': 5100}, 'Apartments': [{'Number': 1, 'Price': 500, 'Residents': [{'Name': 'Bob', 'Age': 45}, {'Name': 'Alice', 'Age': 33}]}, {'Number': 2, 'Price': 750, 'Residents': [{'Name': 'Jane', 'Age': 28}, {'Name': 'William', 'Age': 29}]}, {'Number': 3, 'Price': 1000, 'Residents': []}]}\n",
            "\n"
          ]
        }
      ],
      "source": [
        "# note that the dictionary contains a single key and single value\n",
        "# the single value is a dictionary with 2 keys\n",
        "for key , value in nested_data.items():\n",
        "    print(\"Key : {} ,\\n Value : {}\\n\".format(key,value))"
      ]
    },
    {
      "cell_type": "code",
      "execution_count": 5,
      "id": "d524bd7e",
      "metadata": {
        "id": "d524bd7e"
      },
      "outputs": [
        {
          "data": {
            "text/plain": [
              "1"
            ]
          },
          "execution_count": 5,
          "metadata": {},
          "output_type": "execute_result"
        }
      ],
      "source": [
        "len(nested_data)"
      ]
    },
    {
      "cell_type": "markdown",
      "id": "3b633f5b",
      "metadata": {
        "id": "3b633f5b"
      },
      "source": [
        "Addressing the highest level key in the overall dictionary."
      ]
    },
    {
      "cell_type": "code",
      "execution_count": 6,
      "id": "3d9605fd",
      "metadata": {
        "id": "3d9605fd"
      },
      "outputs": [
        {
          "data": {
            "text/plain": [
              "dict"
            ]
          },
          "execution_count": 6,
          "metadata": {},
          "output_type": "execute_result"
        }
      ],
      "source": [
        "# how to address the highest level key\n",
        "type(nested_data['ApartmentBuilding'])"
      ]
    },
    {
      "cell_type": "markdown",
      "id": "ce085606",
      "metadata": {
        "id": "ce085606"
      },
      "source": [
        "Now we see how to address the dictionary that is the value of the highest level key."
      ]
    },
    {
      "cell_type": "code",
      "execution_count": 7,
      "id": "6a659f63",
      "metadata": {
        "id": "6a659f63"
      },
      "outputs": [
        {
          "name": "stdout",
          "output_type": "stream",
          "text": [
            "Key : Address | Value : {'HouseNumber': 5, 'Street': 'DataStreet', 'ZipCode': 5100}\n",
            "\n",
            "Key : Apartments | Value : [{'Number': 1, 'Price': 500, 'Residents': [{'Name': 'Bob', 'Age': 45}, {'Name': 'Alice', 'Age': 33}]}, {'Number': 2, 'Price': 750, 'Residents': [{'Name': 'Jane', 'Age': 28}, {'Name': 'William', 'Age': 29}]}, {'Number': 3, 'Price': 1000, 'Residents': []}]\n",
            "\n"
          ]
        }
      ],
      "source": [
        "for key , value in nested_data['ApartmentBuilding'].items():\n",
        "    print(\"Key : {} | Value : {}\\n\".format(key,value))"
      ]
    },
    {
      "cell_type": "markdown",
      "id": "c3d5d452",
      "metadata": {
        "id": "c3d5d452"
      },
      "source": [
        "Now we go one level down, to the list that is the value of the 'Apartments' key."
      ]
    },
    {
      "cell_type": "code",
      "execution_count": 8,
      "id": "ff47ce5b",
      "metadata": {
        "id": "ff47ce5b"
      },
      "outputs": [
        {
          "data": {
            "text/plain": [
              "list"
            ]
          },
          "execution_count": 8,
          "metadata": {},
          "output_type": "execute_result"
        }
      ],
      "source": [
        "type(nested_data['ApartmentBuilding']['Apartments'])"
      ]
    },
    {
      "cell_type": "code",
      "execution_count": 10,
      "id": "2663eabd",
      "metadata": {
        "id": "2663eabd"
      },
      "outputs": [
        {
          "name": "stdout",
          "output_type": "stream",
          "text": [
            "Structure 0 : {'Number': 1, 'Price': 500, 'Residents': [{'Name': 'Bob', 'Age': 45}, {'Name': 'Alice', 'Age': 33}]}\n",
            "Structure 1 : {'Number': 2, 'Price': 750, 'Residents': [{'Name': 'Jane', 'Age': 28}, {'Name': 'William', 'Age': 29}]}\n",
            "Structure 2 : {'Number': 3, 'Price': 1000, 'Residents': []}\n"
          ]
        }
      ],
      "source": [
        "# using enumerate\n",
        "# this is a list of dictionaries\n",
        "for i , structure in enumerate(nested_data['ApartmentBuilding']['Apartments']):\n",
        "    print(\"Structure {} : {}\".format(i , structure))"
      ]
    },
    {
      "cell_type": "markdown",
      "id": "24c45787",
      "metadata": {
        "id": "24c45787"
      },
      "source": [
        "The key 'Residents' is a also list of dictionaries. How do we address these?\n",
        "\n",
        "Let's print out the 'Residents' list items from the first and second dictionaries in the list."
      ]
    },
    {
      "cell_type": "code",
      "execution_count": 11,
      "id": "6bec226f",
      "metadata": {
        "id": "6bec226f"
      },
      "outputs": [
        {
          "name": "stdout",
          "output_type": "stream",
          "text": [
            "{'Name': 'Bob', 'Age': 45}\n",
            "{'Name': 'Alice', 'Age': 33}\n"
          ]
        }
      ],
      "source": [
        "for structure in (nested_data['ApartmentBuilding']['Apartments'][0]['Residents']):\n",
        "    print(structure)"
      ]
    },
    {
      "cell_type": "markdown",
      "id": "f2e31943",
      "metadata": {
        "id": "f2e31943"
      },
      "source": [
        "Now let's print each dict in the list individually."
      ]
    },
    {
      "cell_type": "code",
      "execution_count": 12,
      "id": "4e37fc1e",
      "metadata": {
        "id": "4e37fc1e"
      },
      "outputs": [
        {
          "name": "stdout",
          "output_type": "stream",
          "text": [
            "First dict in the list:\n",
            "{'Name': 'Bob', 'Age': 45}\n",
            "Second dict in the list:\n",
            "{'Name': 'Alice', 'Age': 33}\n"
          ]
        }
      ],
      "source": [
        "print(\"First dict in the list:\")\n",
        "print(nested_data['ApartmentBuilding']['Apartments'][0]['Residents'][0])\n",
        "print(\"Second dict in the list:\")\n",
        "print(nested_data['ApartmentBuilding']['Apartments'][0]['Residents'][1])"
      ]
    },
    {
      "cell_type": "markdown",
      "id": "a7ac19af",
      "metadata": {
        "id": "a7ac19af"
      },
      "source": [
        "Note that there are 2 entries in each dictionary. How do we get the values of each of them?\n",
        "\n",
        "Using .items():"
      ]
    },
    {
      "cell_type": "code",
      "execution_count": 13,
      "id": "e29b416f",
      "metadata": {
        "id": "e29b416f"
      },
      "outputs": [
        {
          "name": "stdout",
          "output_type": "stream",
          "text": [
            "For the first dict:\n",
            "Key : Name | Value : Bob\n",
            "Key : Age | Value : 45\n",
            "\n",
            "For the second dict:\n",
            "Key : Name | Value : Alice\n",
            "Key : Age | Value : 33\n"
          ]
        }
      ],
      "source": [
        "print(\"For the first dict:\")\n",
        "for key, value in nested_data['ApartmentBuilding']['Apartments'][0]['Residents'][0].items():\n",
        "    print(\"Key : {} | Value : {}\".format(key,value))\n",
        "\n",
        "print(\"\\nFor the second dict:\")\n",
        "for key, value in nested_data['ApartmentBuilding']['Apartments'][0]['Residents'][1].items():\n",
        "    print(\"Key : {} | Value : {}\".format(key,value))"
      ]
    },
    {
      "cell_type": "markdown",
      "id": "50d3a066",
      "metadata": {
        "id": "50d3a066"
      },
      "source": [
        "#### Here is a data structure and some simple questions that require us to retrieve information from it."
      ]
    },
    {
      "cell_type": "markdown",
      "id": "9116d22c",
      "metadata": {
        "id": "9116d22c"
      },
      "source": [
        "### Q1. Find the names of all children and put into a list."
      ]
    },
    {
      "cell_type": "code",
      "execution_count": null,
      "id": "7988e424",
      "metadata": {
        "id": "7988e424"
      },
      "outputs": [],
      "source": [
        "children = []\n",
        "for unit in my_family:\n",
        "    for child in unit['children']:\n",
        "        children.append(child['name'])\n",
        "print(children)"
      ]
    },
    {
      "cell_type": "code",
      "execution_count": 25,
      "id": "5f76816a",
      "metadata": {},
      "outputs": [
        {
          "name": "stdout",
          "output_type": "stream",
          "text": [
            "['Dylan', 'Landon', 'Diane', 'Joshua', 'Allison']\n"
          ]
        }
      ],
      "source": [
        "children = []\n",
        "for fam in my_family:\n",
        "    for kids in fam[\"children\"]:\n",
        "        children.append(kids[\"name\"])\n",
        "\n",
        "print(children)\n",
        "    "
      ]
    },
    {
      "cell_type": "markdown",
      "id": "4aa5c693",
      "metadata": {
        "id": "4aa5c693"
      },
      "source": [
        "### Q2. Find nicknames of all children and put into a list."
      ]
    },
    {
      "cell_type": "code",
      "execution_count": null,
      "id": "76614ca0",
      "metadata": {
        "id": "76614ca0"
      },
      "outputs": [],
      "source": [
        "children = []\n",
        "for unit in my_family:\n",
        "    for child in unit['children']:\n",
        "         children.append(child['nickname'])\n",
        "print(children)"
      ]
    },
    {
      "cell_type": "code",
      "execution_count": 28,
      "id": "9cb81dc5",
      "metadata": {},
      "outputs": [
        {
          "name": "stdout",
          "output_type": "stream",
          "text": [
            "['Dillybeans', 'Landybean', 'Dini', 'Joshie', 'Alli']\n"
          ]
        }
      ],
      "source": [
        "nick_names=[]\n",
        "\n",
        "for fam in my_family:\n",
        "    for nick in fam[\"children\"]:\n",
        "        nick_names.append(nick[\"nickname\"])\n",
        "print(nick_names)"
      ]
    },
    {
      "cell_type": "markdown",
      "id": "bb3a443f",
      "metadata": {
        "id": "bb3a443f"
      },
      "source": [
        "### Q3. Find names and ages of children in the non-local family unit and put into a list."
      ]
    },
    {
      "cell_type": "code",
      "execution_count": 33,
      "id": "1696348b",
      "metadata": {
        "id": "1696348b"
      },
      "outputs": [
        {
          "name": "stdout",
          "output_type": "stream",
          "text": [
            "[('Diane', 31), ('Joshua', 28), ('Allison', 26)]\n"
          ]
        }
      ],
      "source": [
        "child_ages = []\n",
        "for unit in my_family:\n",
        "    if unit['local'] == False:\n",
        "        for child in unit['children']:\n",
        "            name_and_age = child['name'], child['age']\n",
        "            child_ages.append(name_and_age)\n",
        "print (child_ages)"
      ]
    },
    {
      "cell_type": "code",
      "execution_count": 34,
      "id": "ebcd6a19",
      "metadata": {},
      "outputs": [
        {
          "name": "stdout",
          "output_type": "stream",
          "text": [
            "[('Diane', 31), ('Joshua', 28), ('Allison', 26)]\n"
          ]
        }
      ],
      "source": [
        "kids_list =[]\n",
        "for fam in my_family:\n",
        "    if fam[\"local\"] is False:\n",
        "        for kids in fam[\"children\"]:\n",
        "           kids_list.append((kids[\"name\"],kids[\"age\"]))\n",
        "print(kids_list)"
      ]
    },
    {
      "cell_type": "markdown",
      "id": "0edd3e04",
      "metadata": {
        "id": "0edd3e04"
      },
      "source": [
        "### Q4. Which child loves Super Mario?"
      ]
    },
    {
      "cell_type": "code",
      "execution_count": 37,
      "id": "24131e17",
      "metadata": {},
      "outputs": [
        {
          "name": "stdout",
          "output_type": "stream",
          "text": [
            "Dylan\n"
          ]
        }
      ],
      "source": [
        "for fam in my_family:\n",
        "    for kids in fam[\"children\"]:\n",
        "        if kids[\"loves\"] == \"Super Mario\":\n",
        "            print( kids[\"name\"])"
      ]
    },
    {
      "cell_type": "code",
      "execution_count": null,
      "id": "7abe2424",
      "metadata": {
        "id": "7abe2424"
      },
      "outputs": [],
      "source": [
        "loves_Mario = None\n",
        "for unit in my_family:\n",
        "    for child in unit['children']:\n",
        "        if child['loves'] == 'Super Mario':\n",
        "            loves_Mario = child['name']\n",
        "print (f\"{loves_Mario} really loves Super Mario.\")"
      ]
    },
    {
      "cell_type": "markdown",
      "id": "5234a36c",
      "metadata": {},
      "source": []
    },
    {
      "cell_type": "markdown",
      "id": "1cf33ef5",
      "metadata": {
        "id": "1cf33ef5"
      },
      "source": [
        "### Q5. Who is into trains, and at what age?"
      ]
    },
    {
      "cell_type": "code",
      "execution_count": 39,
      "id": "a27f75c4",
      "metadata": {},
      "outputs": [
        {
          "name": "stdout",
          "output_type": "stream",
          "text": [
            "Joshua has really love trains since he was 28 years old\n"
          ]
        }
      ],
      "source": [
        "names = None\n",
        "ages = None\n",
        "likes = None\n",
        "\n",
        "for fam in my_family:\n",
        "    for kids in fam[\"children\"]:\n",
        "        if kids[\"loves\"] == \"trains\":\n",
        "            names = kids[\"name\"]\n",
        "            ages = kids[\"age\"]\n",
        "            likes = kids[\"loves\"]\n",
        "\n",
        "print(f\"{names} has really love {likes} since he was {ages} years old\")"
      ]
    },
    {
      "cell_type": "code",
      "execution_count": null,
      "id": "f6996344",
      "metadata": {
        "id": "f6996344"
      },
      "outputs": [],
      "source": [
        "loves_trains = None\n",
        "loves_trains_age = None\n",
        "for unit in my_family:\n",
        "    for child in unit['children']:\n",
        "\n",
        "        if child['loves'] == 'trains':\n",
        "            loves_trains = child['nickname']\n",
        "            loves_trains_age = child['age']\n",
        "print (f\"{loves_trains} is still very much into trains, even at the age of {loves_trains_age}.\")"
      ]
    },
    {
      "cell_type": "markdown",
      "id": "bd24477e",
      "metadata": {
        "id": "bd24477e"
      },
      "source": [
        "### Q6. Who likes blue color?"
      ]
    },
    {
      "cell_type": "code",
      "execution_count": 44,
      "id": "0469741b",
      "metadata": {},
      "outputs": [
        {
          "name": "stdout",
          "output_type": "stream",
          "text": [
            "Landon blue\n"
          ]
        }
      ],
      "source": [
        "names = None\n",
        "color = None\n",
        "\n",
        "for fam in my_family:\n",
        "    for kids in fam[\"children\"]:\n",
        "        if kids[\"favorite_color\"]==\"blue\":\n",
        "            names = kids[\"name\"]\n",
        "            color = kids[\"favorite_color\"]\n",
        "\n",
        "print(names,color)"
      ]
    },
    {
      "cell_type": "code",
      "execution_count": null,
      "id": "504cabba",
      "metadata": {
        "id": "504cabba"
      },
      "outputs": [],
      "source": [
        "likes_blue = None\n",
        "for unit in my_family:\n",
        "    for child in unit['children']:\n",
        "        if child['favorite_color'] == 'blue':\n",
        "            likes_blue = child['name']\n",
        "print (f\"{likes_blue}'s favorite color is blue.\")"
      ]
    },
    {
      "cell_type": "code",
      "execution_count": 14,
      "id": "63f08f3e",
      "metadata": {
        "id": "63f08f3e"
      },
      "outputs": [],
      "source": [
        "my_family = [\n",
        "  { \"family_name\": \"Tunnicliffe\",\n",
        "    \"num_people\": 4,\n",
        "    \"local\": True,\n",
        "    \"city\": \"Bethpage, NY\",\n",
        "    \"date_established\": 2014,\n",
        "    \"names\": [\"Diane\", \"Steve\", \"Dylan\", \"Landon\"],\n",
        "    \"number_of_children\": 2,\n",
        "    \"children\": [\n",
        "      {\n",
        "        \"name\": \"Dylan\",\n",
        "        \"age\": 5,\n",
        "        \"favorite_color\": \"black\",\n",
        "        \"nickname\": \"Dillybeans\",\n",
        "        \"loves\": \"Super Mario\",\n",
        "      },\n",
        "      {\n",
        "        \"name\": \"Landon\",\n",
        "        \"age\": 2,\n",
        "        \"favorite_color\": \"blue\",\n",
        "        \"nickname\": \"Landybean\",\n",
        "        \"loves\": \"trucks\",\n",
        "      }\n",
        "    ]\n",
        "  },\n",
        "  { \"family_name\": \"Agulnick\",\n",
        "    \"num_people\": 5,\n",
        "    \"local\": False,\n",
        "    \"city\": \"Newton, MA\",\n",
        "    \"date_established\": 1987,\n",
        "    \"names\": [\"Ellen\", \"Mark\", \"Diane\", \"Joshua\", \"Allison\"],\n",
        "    \"number_of_children\": 3,\n",
        "    \"children\": [\n",
        "      {\n",
        "        \"name\": \"Diane\",\n",
        "        \"age\": 31,\n",
        "        \"favorite_color\": \"pink\",\n",
        "        \"nickname\": \"Dini\",\n",
        "        \"loves\": \"unicorns\",\n",
        "      },\n",
        "      {\n",
        "        \"name\": \"Joshua\",\n",
        "        \"age\": 28,\n",
        "        \"favorite_color\": \"red\",\n",
        "        \"nickname\": \"Joshie\",\n",
        "        \"loves\": \"trains\",\n",
        "      },\n",
        "      {\n",
        "        \"name\": \"Allison\",\n",
        "        \"age\": 26,\n",
        "        \"favorite_color\": \"purple\",\n",
        "        \"nickname\": \"Alli\",\n",
        "        \"loves\": \"candy\",\n",
        "      }\n",
        "    ]\n",
        "  }\n",
        "]"
      ]
    },
    {
      "cell_type": "markdown",
      "id": "d7b8d775",
      "metadata": {
        "id": "d7b8d775"
      },
      "source": [
        "### Q7. Oldest and Youngest child"
      ]
    },
    {
      "cell_type": "code",
      "execution_count": 70,
      "id": "b9b538b1",
      "metadata": {},
      "outputs": [
        {
          "name": "stdout",
          "output_type": "stream",
          "text": [
            "Diane Landon\n"
          ]
        }
      ],
      "source": [
        "children =[]\n",
        "for fam in my_family:\n",
        "    for kids in fam[\"children\"]:\n",
        "        children.append(kids)\n",
        "    sorted_list = (sorted(children,key=lambda child:child[\"age\"],reverse=True))\n",
        "    oldest = sorted_list[0][\"name\"]\n",
        "    youngest = sorted_list[-1][\"name\"]\n",
        "\n",
        "print(oldest,youngest)"
      ]
    },
    {
      "cell_type": "code",
      "execution_count": 71,
      "id": "2d3336d4",
      "metadata": {
        "id": "2d3336d4"
      },
      "outputs": [
        {
          "name": "stdout",
          "output_type": "stream",
          "text": [
            "The oldest child is Diane. The youngest child is Landon.\n"
          ]
        }
      ],
      "source": [
        "oldest_child = None\n",
        "youngest_child = None\n",
        "children = []\n",
        "for unit in my_family:\n",
        "    for child in unit['children']:\n",
        "        children.append(child)\n",
        "sorted_children = (sorted(children, key = lambda child: child['age'], reverse = True))\n",
        "oldest_child = sorted_children[0]['name']\n",
        "youngest_child = sorted_children[-1]['name']\n",
        "print(f\"The oldest child is {oldest_child}. The youngest child is {youngest_child}.\")"
      ]
    },
    {
      "cell_type": "markdown",
      "id": "b2c6d161",
      "metadata": {
        "id": "b2c6d161"
      },
      "source": [
        "Useful link to understand nested data structures more deeply - https://web.stanford.edu/class/archive/cs/cs106ap/cs106ap.1198/lectures/15-NestedCollections/15-Nested_Data_Structures.pdf"
      ]
    },
    {
      "cell_type": "code",
      "execution_count": null,
      "id": "3a79c97b",
      "metadata": {
        "id": "3a79c97b"
      },
      "outputs": [],
      "source": []
    }
  ],
  "metadata": {
    "colab": {
      "provenance": []
    },
    "kernelspec": {
      "display_name": "Python 3 (ipykernel)",
      "language": "python",
      "name": "python3"
    },
    "language_info": {
      "codemirror_mode": {
        "name": "ipython",
        "version": 3
      },
      "file_extension": ".py",
      "mimetype": "text/x-python",
      "name": "python",
      "nbconvert_exporter": "python",
      "pygments_lexer": "ipython3",
      "version": "3.10.2"
    }
  },
  "nbformat": 4,
  "nbformat_minor": 5
}
