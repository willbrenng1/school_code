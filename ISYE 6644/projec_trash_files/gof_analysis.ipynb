{
 "cells": [
  {
   "cell_type": "code",
   "execution_count": 148,
   "metadata": {},
   "outputs": [],
   "source": [
    "import pandas as pd\n",
    "from statsmodels.stats.power import FTestAnovaPower\n",
    "import scipy.stats as stats\n",
    "from collections import defaultdict\n",
    "import numpy as np\n",
    "import math"
   ]
  },
  {
   "cell_type": "markdown",
   "metadata": {},
   "source": [
    "Power Analysis"
   ]
  },
  {
   "cell_type": "code",
   "execution_count": 124,
   "metadata": {},
   "outputs": [],
   "source": [
    "def cohens_f(f_stat, df_groups, df_obs):\n",
    "    \n",
    "    eta_squared = (f_stat * df_groups) / (f_stat * df_groups + df_obs)\n",
    "    cohens_f = np.sqrt(eta_squared / (1 - eta_squared))\n",
    "    return cohens_f\n"
   ]
  },
  {
   "cell_type": "code",
   "execution_count": 17,
   "metadata": {},
   "outputs": [],
   "source": [
    "game_output_data = pd.read_csv(r\"ISYE 6644/project/C\\:\\\\Users\\\\Will\\\\Documents\\\\school_data\\\\gol.csv\")"
   ]
  },
  {
   "cell_type": "code",
   "execution_count": 46,
   "metadata": {},
   "outputs": [],
   "source": [
    "variable_summary_output_df = game_output_data.groupby([\"matrix_size\",\"initial_percent_alive\",\"run\"],as_index=False)[\"gen\"].max()\n"
   ]
  },
  {
   "cell_type": "code",
   "execution_count": null,
   "metadata": {},
   "outputs": [],
   "source": [
    "anova_results = []\n",
    "for size in variable_summary_output_df[\"matrix_size\"].unique():\n",
    "    size_df = variable_summary_output_df[variable_summary_output_df[\"matrix_size\"]==size]\n",
    "    percent_alive_grouped_df = size_df.groupby([\"initial_percent_alive\",\"run\"],as_index=False)[\"gen\"].max()\n",
    "    grouped_lists = percent_alive_grouped_df.groupby(\"initial_percent_alive\")[\"gen\"].apply(list)\n",
    "\n",
    "    f_stat, p_value = stats.f_oneway(*grouped_lists)\n",
    "    \n",
    "    degree_of_freedom_groups = len(grouped_lists)-1\n",
    "    degree_of_freedom_observations = size_df.shape[0] - len(grouped_lists)\n",
    "    con_f = cohens_f(f_stat,degree_of_freedom_groups,degree_of_freedom_observations)\n",
    "    anova_results.append({\n",
    "        \"matrix_size\": size,\n",
    "        \"f_stat\": f_stat,\n",
    "        \"p_value\": p_value,\n",
    "        \"cohen_f\":con_f\n",
    "    })\n",
    "    "
   ]
  },
  {
   "cell_type": "markdown",
   "metadata": {},
   "source": [
    "19"
   ]
  },
  {
   "cell_type": "code",
   "execution_count": 130,
   "metadata": {},
   "outputs": [
    {
     "data": {
      "text/html": [
       "<div>\n",
       "<style scoped>\n",
       "    .dataframe tbody tr th:only-of-type {\n",
       "        vertical-align: middle;\n",
       "    }\n",
       "\n",
       "    .dataframe tbody tr th {\n",
       "        vertical-align: top;\n",
       "    }\n",
       "\n",
       "    .dataframe thead th {\n",
       "        text-align: right;\n",
       "    }\n",
       "</style>\n",
       "<table border=\"1\" class=\"dataframe\">\n",
       "  <thead>\n",
       "    <tr style=\"text-align: right;\">\n",
       "      <th></th>\n",
       "      <th>matrix_size</th>\n",
       "      <th>f_stat</th>\n",
       "      <th>p_value</th>\n",
       "      <th>cohen_f</th>\n",
       "    </tr>\n",
       "  </thead>\n",
       "  <tbody>\n",
       "    <tr>\n",
       "      <th>0</th>\n",
       "      <td>100</td>\n",
       "      <td>4.800275</td>\n",
       "      <td>9.036791e-09</td>\n",
       "      <td>0.674361</td>\n",
       "    </tr>\n",
       "    <tr>\n",
       "      <th>1</th>\n",
       "      <td>400</td>\n",
       "      <td>15.969233</td>\n",
       "      <td>4.181975e-29</td>\n",
       "      <td>1.229990</td>\n",
       "    </tr>\n",
       "    <tr>\n",
       "      <th>2</th>\n",
       "      <td>900</td>\n",
       "      <td>41.474539</td>\n",
       "      <td>6.083548e-56</td>\n",
       "      <td>1.982213</td>\n",
       "    </tr>\n",
       "    <tr>\n",
       "      <th>3</th>\n",
       "      <td>1600</td>\n",
       "      <td>39.418029</td>\n",
       "      <td>2.581696e-54</td>\n",
       "      <td>1.932444</td>\n",
       "    </tr>\n",
       "    <tr>\n",
       "      <th>4</th>\n",
       "      <td>2500</td>\n",
       "      <td>37.450042</td>\n",
       "      <td>1.075697e-52</td>\n",
       "      <td>1.883587</td>\n",
       "    </tr>\n",
       "    <tr>\n",
       "      <th>5</th>\n",
       "      <td>3600</td>\n",
       "      <td>53.304607</td>\n",
       "      <td>3.086617e-64</td>\n",
       "      <td>2.247201</td>\n",
       "    </tr>\n",
       "    <tr>\n",
       "      <th>6</th>\n",
       "      <td>4900</td>\n",
       "      <td>76.949741</td>\n",
       "      <td>4.698422e-77</td>\n",
       "      <td>2.699995</td>\n",
       "    </tr>\n",
       "    <tr>\n",
       "      <th>7</th>\n",
       "      <td>6400</td>\n",
       "      <td>62.820664</td>\n",
       "      <td>7.007767e-70</td>\n",
       "      <td>2.439556</td>\n",
       "    </tr>\n",
       "    <tr>\n",
       "      <th>8</th>\n",
       "      <td>8100</td>\n",
       "      <td>54.586706</td>\n",
       "      <td>4.816261e-65</td>\n",
       "      <td>2.274065</td>\n",
       "    </tr>\n",
       "    <tr>\n",
       "      <th>9</th>\n",
       "      <td>10000</td>\n",
       "      <td>37.941779</td>\n",
       "      <td>4.178323e-53</td>\n",
       "      <td>1.895913</td>\n",
       "    </tr>\n",
       "  </tbody>\n",
       "</table>\n",
       "</div>"
      ],
      "text/plain": [
       "   matrix_size     f_stat       p_value   cohen_f\n",
       "0          100   4.800275  9.036791e-09  0.674361\n",
       "1          400  15.969233  4.181975e-29  1.229990\n",
       "2          900  41.474539  6.083548e-56  1.982213\n",
       "3         1600  39.418029  2.581696e-54  1.932444\n",
       "4         2500  37.450042  1.075697e-52  1.883587\n",
       "5         3600  53.304607  3.086617e-64  2.247201\n",
       "6         4900  76.949741  4.698422e-77  2.699995\n",
       "7         6400  62.820664  7.007767e-70  2.439556\n",
       "8         8100  54.586706  4.816261e-65  2.274065\n",
       "9        10000  37.941779  4.178323e-53  1.895913"
      ]
     },
     "execution_count": 130,
     "metadata": {},
     "output_type": "execute_result"
    }
   ],
   "source": [
    "anova_analysis_df = pd.DataFrame(anova_results)\n",
    "anova_analysis_df"
   ]
  },
  {
   "cell_type": "code",
   "execution_count": 156,
   "metadata": {},
   "outputs": [],
   "source": [
    "sample_size_dict = {}\n",
    "for _,r in anova_analysis_df.iterrows():\n",
    "    effect = float(r[\"cohen_f\"])\n",
    "    if effect>=1:\n",
    "        effect=.98\n",
    "    power_analysis = FTestAnovaPower()\n",
    "    z= power_analysis.solve_power(effect_size=effect, alpha=.05, power=.9, k_groups=19)\n",
    "    sample_size_dict[int(r[\"matrix_size\"]/10)]=  (math.ceil(z))"
   ]
  },
  {
   "cell_type": "code",
   "execution_count": 157,
   "metadata": {},
   "outputs": [
    {
     "data": {
      "text/plain": [
       "{10: 72,\n",
       " 40: 44,\n",
       " 90: 44,\n",
       " 160: 44,\n",
       " 250: 44,\n",
       " 360: 44,\n",
       " 490: 44,\n",
       " 640: 44,\n",
       " 810: 44,\n",
       " 1000: 44}"
      ]
     },
     "execution_count": 157,
     "metadata": {},
     "output_type": "execute_result"
    }
   ],
   "source": [
    "sample_size_dict"
   ]
  },
  {
   "cell_type": "code",
   "execution_count": 90,
   "metadata": {},
   "outputs": [],
   "source": [
    "grouped = variable_summary_output_df.groupby([\"matrix_size\",\"initial_percent_alive\"])[\"gen\"].apply(list)"
   ]
  },
  {
   "cell_type": "code",
   "execution_count": 92,
   "metadata": {},
   "outputs": [],
   "source": [
    "f_stat, p_value = stats.f_oneway(*grouped)"
   ]
  },
  {
   "cell_type": "code",
   "execution_count": 93,
   "metadata": {},
   "outputs": [
    {
     "data": {
      "text/plain": [
       "np.float64(41.0008386812046)"
      ]
     },
     "execution_count": 93,
     "metadata": {},
     "output_type": "execute_result"
    }
   ],
   "source": [
    "f_stat"
   ]
  },
  {
   "cell_type": "markdown",
   "metadata": {},
   "source": [
    "Based on the average number of generations for each variable combination, when running a anova one way variance test indicates there is there is a significant different between those group mean. Which tells us that there is a different between the groups when it comes to generation size.\n",
    "F stat: 41\n",
    "\n",
    "The null hypothese for this these is; There is not a significant different between the groups. With a p-value of less than .05, we can we can reject the null hypthoese is favor of the alternative, which is there is a significant different between the groups"
   ]
  },
  {
   "cell_type": "code",
   "execution_count": null,
   "metadata": {},
   "outputs": [],
   "source": [
    "power_analysis = FTestAnovaPower()\n",
    "\n"
   ]
  },
  {
   "cell_type": "code",
   "execution_count": 145,
   "metadata": {},
   "outputs": [
    {
     "name": "stdout",
     "output_type": "stream",
     "text": [
      "Required sample size per group: 60\n"
     ]
    }
   ],
   "source": [
    "\n",
    "effect_size = 0.674361  # Example: small effect size (Cohen's f)\n",
    "alpha = 0.05  # Significance level\n",
    "power = 0.80  # Desired power\n",
    "\n",
    "# Create the power analysis object\n",
    "power_analysis = FTestAnovaPower()\n",
    "\n",
    "# Calculate the required sample size\n",
    "sample_size = power_analysis.solve_power(effect_size=effect_size, alpha=alpha, power=power, k_groups=19)  # k_groups is the number of groups\n",
    "\n",
    "# Print the sample size\n",
    "print(f\"Required sample size per group: {round(sample_size)}\")\n"
   ]
  },
  {
   "cell_type": "code",
   "execution_count": 19,
   "metadata": {},
   "outputs": [
    {
     "data": {
      "text/html": [
       "<div>\n",
       "<style scoped>\n",
       "    .dataframe tbody tr th:only-of-type {\n",
       "        vertical-align: middle;\n",
       "    }\n",
       "\n",
       "    .dataframe tbody tr th {\n",
       "        vertical-align: top;\n",
       "    }\n",
       "\n",
       "    .dataframe thead tr th {\n",
       "        text-align: left;\n",
       "    }\n",
       "</style>\n",
       "<table border=\"1\" class=\"dataframe\">\n",
       "  <thead>\n",
       "    <tr>\n",
       "      <th></th>\n",
       "      <th>matrix_size</th>\n",
       "      <th>initial_percent_alive</th>\n",
       "      <th colspan=\"2\" halign=\"left\">gen</th>\n",
       "    </tr>\n",
       "    <tr>\n",
       "      <th></th>\n",
       "      <th></th>\n",
       "      <th></th>\n",
       "      <th>mean</th>\n",
       "      <th>std</th>\n",
       "    </tr>\n",
       "  </thead>\n",
       "  <tbody>\n",
       "    <tr>\n",
       "      <th>0</th>\n",
       "      <td>100</td>\n",
       "      <td>0.05</td>\n",
       "      <td>1.181818</td>\n",
       "      <td>0.404520</td>\n",
       "    </tr>\n",
       "    <tr>\n",
       "      <th>1</th>\n",
       "      <td>100</td>\n",
       "      <td>0.10</td>\n",
       "      <td>21.363636</td>\n",
       "      <td>38.761509</td>\n",
       "    </tr>\n",
       "    <tr>\n",
       "      <th>2</th>\n",
       "      <td>100</td>\n",
       "      <td>0.15</td>\n",
       "      <td>17.272727</td>\n",
       "      <td>22.347666</td>\n",
       "    </tr>\n",
       "    <tr>\n",
       "      <th>3</th>\n",
       "      <td>100</td>\n",
       "      <td>0.20</td>\n",
       "      <td>42.000000</td>\n",
       "      <td>39.547440</td>\n",
       "    </tr>\n",
       "    <tr>\n",
       "      <th>4</th>\n",
       "      <td>100</td>\n",
       "      <td>0.25</td>\n",
       "      <td>30.545455</td>\n",
       "      <td>26.934601</td>\n",
       "    </tr>\n",
       "    <tr>\n",
       "      <th>...</th>\n",
       "      <td>...</td>\n",
       "      <td>...</td>\n",
       "      <td>...</td>\n",
       "      <td>...</td>\n",
       "    </tr>\n",
       "    <tr>\n",
       "      <th>185</th>\n",
       "      <td>10000</td>\n",
       "      <td>0.75</td>\n",
       "      <td>99.000000</td>\n",
       "      <td>0.000000</td>\n",
       "    </tr>\n",
       "    <tr>\n",
       "      <th>186</th>\n",
       "      <td>10000</td>\n",
       "      <td>0.80</td>\n",
       "      <td>82.272727</td>\n",
       "      <td>37.226579</td>\n",
       "    </tr>\n",
       "    <tr>\n",
       "      <th>187</th>\n",
       "      <td>10000</td>\n",
       "      <td>0.85</td>\n",
       "      <td>41.181818</td>\n",
       "      <td>45.860262</td>\n",
       "    </tr>\n",
       "    <tr>\n",
       "      <th>188</th>\n",
       "      <td>10000</td>\n",
       "      <td>0.90</td>\n",
       "      <td>13.272727</td>\n",
       "      <td>28.471357</td>\n",
       "    </tr>\n",
       "    <tr>\n",
       "      <th>189</th>\n",
       "      <td>10000</td>\n",
       "      <td>0.95</td>\n",
       "      <td>2.272727</td>\n",
       "      <td>0.467099</td>\n",
       "    </tr>\n",
       "  </tbody>\n",
       "</table>\n",
       "<p>190 rows × 4 columns</p>\n",
       "</div>"
      ],
      "text/plain": [
       "    matrix_size initial_percent_alive        gen           \n",
       "                                            mean        std\n",
       "0           100                  0.05   1.181818   0.404520\n",
       "1           100                  0.10  21.363636  38.761509\n",
       "2           100                  0.15  17.272727  22.347666\n",
       "3           100                  0.20  42.000000  39.547440\n",
       "4           100                  0.25  30.545455  26.934601\n",
       "..          ...                   ...        ...        ...\n",
       "185       10000                  0.75  99.000000   0.000000\n",
       "186       10000                  0.80  82.272727  37.226579\n",
       "187       10000                  0.85  41.181818  45.860262\n",
       "188       10000                  0.90  13.272727  28.471357\n",
       "189       10000                  0.95   2.272727   0.467099\n",
       "\n",
       "[190 rows x 4 columns]"
      ]
     },
     "execution_count": 19,
     "metadata": {},
     "output_type": "execute_result"
    }
   ],
   "source": [
    "variable_summary_output_df.groupby([\"matrix_size\",\"initial_percent_alive\"],as_index=False).agg({ \"gen\": [\"mean\", \"std\"]})"
   ]
  }
 ],
 "metadata": {
  "kernelspec": {
   "display_name": "school_venv_3",
   "language": "python",
   "name": "python3"
  },
  "language_info": {
   "codemirror_mode": {
    "name": "ipython",
    "version": 3
   },
   "file_extension": ".py",
   "mimetype": "text/x-python",
   "name": "python",
   "nbconvert_exporter": "python",
   "pygments_lexer": "ipython3",
   "version": "3.13.1"
  }
 },
 "nbformat": 4,
 "nbformat_minor": 2
}
