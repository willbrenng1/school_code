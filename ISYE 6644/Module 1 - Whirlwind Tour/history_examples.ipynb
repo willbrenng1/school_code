{
 "cells": [
  {
   "cell_type": "markdown",
   "metadata": {},
   "source": [
    "## Buffon’s Needle Problem\n",
    "\n",
    "Buffon's Needle Problem is a classic problem in geometric probability, named after the French mathematician Georges-Louis Leclerc, Comte de Buffon. The problem involves randomly dropping a needle of length L onto a floor marked with parallel lines a distance d apart. The probability that the needle will cross one of the lines can be expressed as:\n",
    "\n",
    "P=(2L)/(pi*d)\n",
    "\n",
    "This equation can be solved for  and the method can be used to estimate the value of \n",
    "\n",
    "pi=(2L)/(Pd)"
   ]
  },
  {
   "cell_type": "code",
   "execution_count": 2,
   "metadata": {
    "vscode": {
     "languageId": "r"
    }
   },
   "outputs": [],
   "source": [
    "# Simulate Buffon's Needle Problem to estimate P and pi\n",
    "set.seed(1)\n",
    "# Define the number of trials\n",
    "n_trials <- 10000000\n",
    "\n",
    "# Define the length of the needle and the distance between the lines\n",
    "L <- 1\n",
    "d <- 2"
   ]
  },
  {
   "cell_type": "code",
   "execution_count": 3,
   "metadata": {
    "vscode": {
     "languageId": "r"
    }
   },
   "outputs": [],
   "source": [
    "# Generate n_trials random values for the angle that the needle points \n",
    "# Can think of it as being with the vertical (sin) or horizontal (cos)\n",
    "theta <- runif(n_trials, min = 0, max = pi)\n"
   ]
  },
  {
   "cell_type": "code",
   "execution_count": 4,
   "metadata": {
    "vscode": {
     "languageId": "r"
    }
   },
   "outputs": [],
   "source": [
    "# Generate n_trials random values for the position of the center of the needle\n",
    "x <- runif(n_trials, min = 0, max = d/2)"
   ]
  },
  {
   "cell_type": "code",
   "execution_count": 5,
   "metadata": {
    "vscode": {
     "languageId": "r"
    }
   },
   "outputs": [],
   "source": [
    "# Calculate the position of the ends of the needle\n",
    "x_end1 <- x - (L/2) * sin(theta)\n",
    "x_end2 <- x + (L/2) * sin(theta)"
   ]
  },
  {
   "cell_type": "code",
   "execution_count": 6,
   "metadata": {
    "vscode": {
     "languageId": "r"
    }
   },
   "outputs": [],
   "source": [
    "# Determine if the needle crosses a line\n",
    "crosses <- ifelse(floor(x_end1/d) != floor(x_end2/d), 1, 0)"
   ]
  },
  {
   "cell_type": "code",
   "execution_count": 7,
   "metadata": {
    "vscode": {
     "languageId": "r"
    }
   },
   "outputs": [],
   "source": [
    "# Calculate the estimated value of P and pi\n",
    "P_est <- mean(crosses)\n",
    "pi_est <- (2 * L) / (P_est * d)"
   ]
  },
  {
   "cell_type": "code",
   "execution_count": 8,
   "metadata": {
    "vscode": {
     "languageId": "r"
    }
   },
   "outputs": [],
   "source": [
    "\n",
    "# Calculate the true value of P and pi\n",
    "P_true <- (2 * L) / (pi * d)\n",
    "pi_true <- (2 * L) / (P_true * d)"
   ]
  },
  {
   "cell_type": "code",
   "execution_count": 9,
   "metadata": {
    "vscode": {
     "languageId": "r"
    }
   },
   "outputs": [
    {
     "name": "stdout",
     "output_type": "stream",
     "text": [
      "Estimated value of P: 0.3180224 \n",
      "Estimated value of pi: 3.144433 \n",
      "True value of P: 0.3183099 \n",
      "True value of pi: 3.141593 \n"
     ]
    }
   ],
   "source": [
    "# Print the results\n",
    "cat(\"Estimated value of P:\", P_est, \"\\n\")\n",
    "## Estimated value of P: 0.3180224\n",
    "cat(\"Estimated value of pi:\", pi_est, \"\\n\")\n",
    "## Estimated value of pi: 3.144433\n",
    "cat(\"True value of P:\", P_true, \"\\n\")\n",
    "## True value of P: 0.3183099\n",
    "cat(\"True value of pi:\", pi_true, \"\\n\")\n",
    "## True value of pi: 3.141593\n"
   ]
  }
 ],
 "metadata": {
  "kernelspec": {
   "display_name": "R",
   "language": "R",
   "name": "ir"
  },
  "language_info": {
   "codemirror_mode": "r",
   "file_extension": ".r",
   "mimetype": "text/x-r-source",
   "name": "R",
   "pygments_lexer": "r",
   "version": "4.4.2"
  }
 },
 "nbformat": 4,
 "nbformat_minor": 2
}
