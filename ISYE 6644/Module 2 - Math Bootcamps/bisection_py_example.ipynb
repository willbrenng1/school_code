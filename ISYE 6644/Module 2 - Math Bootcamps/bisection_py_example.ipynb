{
 "cells": [
  {
   "cell_type": "markdown",
   "metadata": {},
   "source": [
    "## Bisection Example R Code\n",
    "This R code defines a function find_bisection_root to find the root (zero) of a given nonlinear function fn within a specified interval [x1, x2] using the bisection method. The function takes six parameters:\n",
    "\n",
    "fn: The nonlinear function whose root is to be found.\n",
    "x1: The lower bound of the interval.\n",
    "x2: The upper bound of the interval.\n",
    "max_iter (default 100): The maximum number of iterations allowed.\n",
    "tolerance (default 0.0001): The tolerance level to determine the convergence of the method.\n",
    "verbose (default FALSE): A boolean flag to control the display of intermediate values at each iteration.\n",
    "\n",
    "\n",
    "The function starts by checking if there is a root within the given interval by testing the signs of fn(x1) and fn(x2). If the signs are the same, there is no root in the interval, and the function returns NULL.\n",
    "\n",
    "If there is a root, the function iteratively bisects the interval and updates either x1 or x2 based on the sign of the function at the midpoint x3. The process continues until the difference between x1 and x2 is less than or equal to the specified tolerance or the maximum number of iterations is reached. The function then returns the midpoint x3 as the root.\n",
    "\n",
    "The condition if (fn(x3) * fn(x1) > 0) checks the sign of the product fn(x3) * fn(x1) to determine whether the root lies in the interval [x3, x2] or [x1, x3]. Here's why:\n",
    "\n",
    "In the bisection method, we start with an initial interval [x1, x2] that contains the root. At each iteration, we calculate the midpoint x3 of the interval and evaluate the function fn at x3. Then, based on the sign of fn(x3), we update the interval by setting either x1 = x3 or x2 = x3.\n",
    "\n",
    "However, if fn(x3) has the same sign as fn(x1), then the root cannot be in the interval [x1, x3] because the function does not change sign between these points. In other words, the function values at x1 and x3 have the same sign, and therefore, there cannot be a root in between them. Therefore, we must update x1 to x3 and continue searching in the interval [x3, x2].\n",
    "\n",
    "On the other hand, if fn(x3) has the opposite sign to fn(x1), then the root must lie in the interval [x1, x3]. This is because the function changes sign between x1 and x3, and by the intermediate value theorem, there must be a root between these points. In this case, we update x2 to x3 and continue searching in the interval [x1, x3].\n",
    "\n",
    "Hence, the condition if (fn(x3) * fn(x1) > 0) checks whether fn(x3) has the same sign as fn(x1), which tells us which subinterval to update."
   ]
  },
  {
   "cell_type": "code",
   "execution_count": 1,
   "metadata": {},
   "outputs": [],
   "source": [
    "import numpy as np\n",
    "\n",
    "def find_bisection_root(fn, x1, x2, max_iter=100, tolerance=0.0001, verbose=False):\n",
    "    # Check if there is a root within the given interval\n",
    "    if np.sign(fn(x1)) == np.sign(fn(x2)):\n",
    "        print(\"No zero in this interval! :)\")\n",
    "        return None\n",
    "\n",
    "    # Iterate through the specified number of maximum iterations\n",
    "    for i in range(1, max_iter + 1):\n",
    "        # Calculate the midpoint of the current interval\n",
    "        x3 = (x1 + x2) / 2\n",
    "\n",
    "        # Update the interval based on the function's sign at the midpoint\n",
    "        if fn(x3) * fn(x1) > 0:\n",
    "            x1 = x3\n",
    "        else:\n",
    "            x2 = x3\n",
    "\n",
    "        # Check if the difference between the interval bounds is less than or equal to the tolerance\n",
    "        if np.isclose(fn(x3), 0, atol=tolerance):\n",
    "            return x3\n",
    "\n",
    "        # Print the intermediate values if verbose mode is enabled\n",
    "        if verbose:\n",
    "            print(i, \": [\", x1, \", \", x2, \"]\")\n",
    "\n",
    "    # Return the final midpoint as the root\n",
    "    return x3\n"
   ]
  },
  {
   "cell_type": "code",
   "execution_count": 2,
   "metadata": {},
   "outputs": [
    {
     "name": "stdout",
     "output_type": "stream",
     "text": [
      "1 : [ 1 ,  1.5 ]\n",
      "2 : [ 1.25 ,  1.5 ]\n",
      "3 : [ 1.375 ,  1.5 ]\n",
      "4 : [ 1.375 ,  1.4375 ]\n",
      "Root found: 1.4375\n",
      "1 : [ 1 ,  1.5 ]\n",
      "2 : [ 1.25 ,  1.5 ]\n",
      "3 : [ 1.375 ,  1.5 ]\n",
      "4 : [ 1.375 ,  1.4375 ]\n",
      "5 : [ 1.40625 ,  1.4375 ]\n",
      "6 : [ 1.40625 ,  1.421875 ]\n",
      "7 : [ 1.4140625 ,  1.421875 ]\n",
      "8 : [ 1.4140625 ,  1.41796875 ]\n",
      "9 : [ 1.4140625 ,  1.416015625 ]\n",
      "10 : [ 1.4140625 ,  1.4150390625 ]\n",
      "11 : [ 1.4140625 ,  1.41455078125 ]\n",
      "12 : [ 1.4140625 ,  1.414306640625 ]\n",
      "13 : [ 1.4141845703125 ,  1.414306640625 ]\n",
      "14 : [ 1.4141845703125 ,  1.41424560546875 ]\n",
      "15 : [ 1.4141845703125 ,  1.414215087890625 ]\n",
      "16 : [ 1.4141998291015625 ,  1.414215087890625 ]\n",
      "17 : [ 1.4142074584960938 ,  1.414215087890625 ]\n",
      "18 : [ 1.4142112731933594 ,  1.414215087890625 ]\n",
      "19 : [ 1.4142131805419922 ,  1.414215087890625 ]\n",
      "20 : [ 1.4142131805419922 ,  1.4142141342163086 ]\n",
      "Root found: 1.4142136573791504\n",
      "Root found using optimize.bisect: 1.4142141342163086\n",
      "Analytical root: 1.4142135623730951\n"
     ]
    }
   ],
   "source": [
    "# Define the test function\n",
    "def fn(x):\n",
    "    return x**2 - 2\n",
    "\n",
    "# Call the find_bisection_root function with the test function\n",
    "root = find_bisection_root(fn, 1, 2, max_iter=4, tolerance=1e-6, verbose=True)\n",
    "print(\"Root found:\", root)\n",
    "\n",
    "root = find_bisection_root(fn, 1, 2, max_iter=100, tolerance=1e-6, verbose=True)\n",
    "print(\"Root found:\", root)\n",
    "\n",
    "# Find the root using SciPy's optimize.bisect function\n",
    "from scipy import optimize\n",
    "root = optimize.bisect(fn, 1, 2, xtol=1e-6)\n",
    "print(\"Root found using optimize.bisect:\", root)\n",
    "\n",
    "# Calculate the analytical solution\n",
    "analytical_root = np.sqrt(2)\n",
    "print(\"Analytical root:\", analytical_root)"
   ]
  }
 ],
 "metadata": {
  "kernelspec": {
   "display_name": "school_venv_2",
   "language": "python",
   "name": "python3"
  },
  "language_info": {
   "codemirror_mode": {
    "name": "ipython",
    "version": 3
   },
   "file_extension": ".py",
   "mimetype": "text/x-python",
   "name": "python",
   "nbconvert_exporter": "python",
   "pygments_lexer": "ipython3",
   "version": "3.9.6"
  }
 },
 "nbformat": 4,
 "nbformat_minor": 2
}
