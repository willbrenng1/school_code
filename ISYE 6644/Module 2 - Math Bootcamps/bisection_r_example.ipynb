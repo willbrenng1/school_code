{
 "cells": [
  {
   "cell_type": "markdown",
   "metadata": {},
   "source": [
    "## Bisection Example R Code\n",
    "This R code defines a function find_bisection_root to find the root (zero) of a given nonlinear function fn within a specified interval [x1, x2] using the bisection method. The function takes six parameters:\n",
    "\n",
    "fn: The nonlinear function whose root is to be found.\n",
    "x1: The lower bound of the interval.\n",
    "x2: The upper bound of the interval.\n",
    "max_iter (default 100): The maximum number of iterations allowed.\n",
    "tolerance (default 0.0001): The tolerance level to determine the convergence of the method.\n",
    "verbose (default FALSE): A boolean flag to control the display of intermediate values at each iteration.\n"
   ]
  },
  {
   "cell_type": "markdown",
   "metadata": {},
   "source": [
    "The function starts by checking if there is a root within the given interval by testing the signs of fn(x1) and fn(x2). If the signs are the same, there is no root in the interval, and the function returns NULL."
   ]
  },
  {
   "cell_type": "markdown",
   "metadata": {},
   "source": [
    "If there is a root, the function iteratively bisects the interval and updates either x1 or x2 based on the sign of the function at the midpoint x3. The process continues until the difference between x1 and x2 is less than or equal to the specified tolerance or the maximum number of iterations is reached. The function then returns the midpoint x3 as the root."
   ]
  },
  {
   "cell_type": "markdown",
   "metadata": {},
   "source": [
    "The condition if (fn(x3) * fn(x1) > 0) checks the sign of the product fn(x3) * fn(x1) to determine whether the root lies in the interval [x3, x2] or [x1, x3]. Here's why:\n",
    "\n",
    "In the bisection method, we start with an initial interval [x1, x2] that contains the root. At each iteration, we calculate the midpoint x3 of the interval and evaluate the function fn at x3. Then, based on the sign of fn(x3), we update the interval by setting either x1 = x3 or x2 = x3.\n",
    "\n",
    "However, if fn(x3) has the same sign as fn(x1), then the root cannot be in the interval [x1, x3] because the function does not change sign between these points. In other words, the function values at x1 and x3 have the same sign, and therefore, there cannot be a root in between them. Therefore, we must update x1 to x3 and continue searching in the interval [x3, x2].\n"
   ]
  },
  {
   "cell_type": "markdown",
   "metadata": {},
   "source": [
    "On the other hand, if fn(x3) has the opposite sign to fn(x1), then the root must lie in the interval [x1, x3]. This is because the function changes sign between x1 and x3, and by the intermediate value theorem, there must be a root between these points. In this case, we update x2 to x3 and continue searching in the interval [x1, x3].\n",
    "\n",
    "Hence, the condition if (fn(x3) * fn(x1) > 0) checks whether fn(x3) has the same sign as fn(x1), which tells us which subinterval to update."
   ]
  },
  {
   "cell_type": "code",
   "execution_count": 1,
   "metadata": {
    "vscode": {
     "languageId": "r"
    }
   },
   "outputs": [],
   "source": [
    "# Define the find_bisection_root function to find the root of a nonlinear \n",
    "# function using the bisection method\n",
    "find_bisection_root <- function(fn, x1, x2, max_iter = 100, tolerance = .0001, \n",
    "                                verbose = FALSE) {\n",
    "  \n",
    "  # Check if there is a root within the given interval\n",
    "  if (sign(fn(x1)) == sign(fn(x2))) {\n",
    "    message(\"No zero in this interval! :)\")\n",
    "    return(NULL)\n",
    "  }\n",
    "    # Iterate through the specified number of maximum iterations\n",
    "  for (i in 1:max_iter) {\n",
    "    # Calculate the midpoint of the current interval\n",
    "    x3 <- (x1 + x2) / 2\n",
    "    \n",
    "    # Update the interval based on the function's sign at the midpoint\n",
    "    if (fn(x3) * fn(x1) > 0) {\n",
    "      x1 <- x3\n",
    "    } else {\n",
    "      x2 <- x3\n",
    "    }\n",
    "    \n",
    "    # Check if we are close enough to 0\n",
    "    if (all.equal(fn(x3), 0, tolerance = tolerance) == TRUE) {\n",
    "      return(x3)\n",
    "    }\n",
    "    \n",
    "    # Print the intermediate values if verbose mode is enabled\n",
    "    if (verbose) {\n",
    "      cat(i, \": [\", x1, \", \", x2, \"]\\n\", sep = \"\")\n",
    "    }\n",
    "  }\n",
    "  \n",
    "  # Return the final midpoint as the root\n",
    "  return(x3)\n",
    "}\n",
    "\n",
    "# Define the test function\n",
    "fn <- function(x) {\n",
    "  x^2 - 2\n",
    "}\n"
   ]
  },
  {
   "cell_type": "code",
   "execution_count": 2,
   "metadata": {
    "vscode": {
     "languageId": "r"
    }
   },
   "outputs": [
    {
     "name": "stdout",
     "output_type": "stream",
     "text": [
      "1: [1, 1.5]\n",
      "2: [1.25, 1.5]\n",
      "3: [1.375, 1.5]\n",
      "4: [1.375, 1.4375]\n"
     ]
    },
    {
     "data": {
      "text/html": [
       "1.4375"
      ],
      "text/latex": [
       "1.4375"
      ],
      "text/markdown": [
       "1.4375"
      ],
      "text/plain": [
       "[1] 1.4375"
      ]
     },
     "metadata": {},
     "output_type": "display_data"
    }
   ],
   "source": [
    "find_bisection_root(fn, 1, 2, max_iter = 4, tolerance = 1e-6, \n",
    "                    verbose = TRUE)"
   ]
  }
 ],
 "metadata": {
  "kernelspec": {
   "display_name": "R",
   "language": "R",
   "name": "ir"
  },
  "language_info": {
   "codemirror_mode": "r",
   "file_extension": ".r",
   "mimetype": "text/x-r-source",
   "name": "R",
   "pygments_lexer": "r",
   "version": "4.4.2"
  }
 },
 "nbformat": 4,
 "nbformat_minor": 2
}
