{
 "cells": [
  {
   "cell_type": "code",
   "execution_count": null,
   "metadata": {},
   "outputs": [],
   "source": []
  },
  {
   "cell_type": "markdown",
   "metadata": {},
   "source": [
    "## Newton’s Method Example\n",
    "\n",
    "This code defines a function find_newton_root to find the root of a given nonlinear function fn using the Newton-Raphson method. The function takes several arguments: fn is the nonlinear function to find the root of, x0 is the initial guess, max_iter is the maximum number of iterations to run the algorithm for, tol is the tolerance level for convergence, and verbose is a logical flag indicating whether to print out intermediate results during the algorithm.\n",
    "\n",
    "The find_newton_root function first extracts the expression inside the function using body(fn) and assigns it to the variable expr. It then defines a new function f_prime that calculates the derivative of fn using the D function and the expression expr.\n",
    "\n",
    "Next, the function starts at the initial guess x0 and applies Newton's method to update the guess and get closer to the root. At each iteration, it computes the new guess new_x using the formula new_x <- x - (fn(x) / f_prime(x)). If the new guess is close enough to 0 (within the given tolerance level tol), the algorithm stops and returns the current guess as the root.\n",
    "\n",
    "Otherwise, the algorithm updates the current guess to the new guess x <- new_x, and prints out the current guess if verbose mode is enabled. If the maximum number of iterations max_iter is reached without finding a root, the algorithm returns the final guess as the root.\n"
   ]
  },
  {
   "cell_type": "code",
   "execution_count": 6,
   "metadata": {},
   "outputs": [
    {
     "name": "stdout",
     "output_type": "stream",
     "text": [
      "x\n",
      "x**2 - 2\n",
      "x**2 - 2\n",
      "Finding zeros of x**2 - 2\n",
      "Derivative is 2*x\n",
      "2: 1.50000000000000\n",
      "3: 1.41666666666667\n",
      "4: 1.41421568627451\n",
      "Converged after 4 iterations\n",
      "1.41421568627451\n"
     ]
    }
   ],
   "source": [
    "import sympy as sp\n",
    "\n",
    "# Define the find_newton_root function to find the root of a nonlinear\n",
    "# function using Newton-Raphson method\n",
    "def find_newton_root(fn, x0, max_iter = 100, tol = 1e-15, verbose = False):\n",
    "\n",
    "  # Define the symbol\n",
    "  x = sp.symbols('x')\n",
    "  print(x)\n",
    "  # Parse the function\n",
    "  fn_expr = sp.sympify(fn)\n",
    "  print(fn_expr)\n",
    "  print(fn)\n",
    "\n",
    "\n",
    "  # Get the derivative of the function\n",
    "  f_prime = sp.diff(fn_expr, x)\n",
    "\n",
    "  if verbose:\n",
    "    print(f\"Finding zeros of {fn_expr}\")\n",
    "    print(f\"Derivative is {f_prime}\")\n",
    "\n",
    "  # Apply Newton's method starting at x0\n",
    "  x_val = x0\n",
    "  for i in range(1, max_iter+1):\n",
    "    new_x = x_val - (fn_expr.subs(x, x_val) / f_prime.subs(x, x_val))\n",
    "\n",
    "    # Check if the proposed new_x is close enough to 0\n",
    "    if abs(fn_expr.subs(x, new_x)) < tol:\n",
    "      if verbose: print(f\"Converged after {i} iterations\")\n",
    "      break\n",
    "\n",
    "    x_val = new_x\n",
    "\n",
    "    if verbose:\n",
    "      print(f\"{i+1}: {x_val.evalf()}\")\n",
    "\n",
    "  # Return the final x value as the root\n",
    "  return x_val.evalf()\n",
    "\n",
    "# Define the test function\n",
    "fn = \"x**2 - 2\"\n",
    "\n",
    "# Call the find_newton_root function with the test function, initial guess\n",
    "# x0 = 1, 100 iterations, and verbose mode enabled\n",
    "print(find_newton_root(fn = fn, x0 = 1, max_iter = 100, tol = 1e-7, verbose = True))"
   ]
  }
 ],
 "metadata": {
  "kernelspec": {
   "display_name": "school_venv_2",
   "language": "python",
   "name": "python3"
  },
  "language_info": {
   "codemirror_mode": {
    "name": "ipython",
    "version": 3
   },
   "file_extension": ".py",
   "mimetype": "text/x-python",
   "name": "python",
   "nbconvert_exporter": "python",
   "pygments_lexer": "ipython3",
   "version": "3.9.6"
  }
 },
 "nbformat": 4,
 "nbformat_minor": 2
}
