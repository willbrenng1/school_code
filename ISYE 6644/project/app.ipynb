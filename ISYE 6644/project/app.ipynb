{
 "cells": [
  {
   "cell_type": "code",
   "execution_count": 2,
   "metadata": {},
   "outputs": [],
   "source": [
    "import pandas as pd\n",
    "import numpy as np\n",
    "from collections import defaultdict\n",
    "import random\n",
    "import itertools\n",
    "import matplotlib.pyplot as plt\n",
    "import seaborn as sns"
   ]
  },
  {
   "cell_type": "code",
   "execution_count": 3,
   "metadata": {},
   "outputs": [],
   "source": [
    "random.seed(23)"
   ]
  },
  {
   "cell_type": "code",
   "execution_count": 4,
   "metadata": {},
   "outputs": [],
   "source": [
    "def generate_rand_matrix(rows, cols, p_ones):\n",
    "\n",
    "    return np.random.choice([0, 1], size=(rows, cols), p=[1 - p_ones, p_ones])\n",
    "\n",
    "def get_neighbors(mat):\n",
    "    neighbor_dict = defaultdict(list)\n",
    "    n,m =mat.shape[0],mat.shape[1]\n",
    "    for i in range(n):\n",
    "        for j in range(m):\n",
    "            x = [[i+y[0], j+y[1], 0] for y in itertools.product([1,0,-1], [1,0,-1])]\n",
    "            z = [e for e in x if (0 <= e[0] < n and 0 <= e[1] < m and e[:2] != [i, j])]\n",
    "            neighbor_dict[(i, j)] = z\n",
    "\n",
    "    for k,v in neighbor_dict.items():\n",
    "        for e in v:\n",
    "            if mat[e[0],e[1]]==1:\n",
    "                e[2]=1\n",
    "            else:\n",
    "                e[2]=0\n",
    "\n",
    "    return neighbor_dict\n",
    "\n",
    "\n",
    "def next_gen(mat):\n",
    "    neighbor_sum_dict = defaultdict(int)\n",
    "    mat_copy = mat.copy()\n",
    "    neighbors = get_neighbors(mat)\n",
    "\n",
    "    for k,v in neighbors.items():\n",
    "        neighbors_sum = sum([e[2] for e in v])\n",
    "        \n",
    "        neighbor_sum_dict[k] = neighbors_sum\n",
    "        \n",
    "    for k,v in neighbor_sum_dict.items():\n",
    "        i, j = k\n",
    "\n",
    "        if (v < 2 or v > 3) and mat[i, j] == 1:\n",
    "            mat_copy[i, j] = 0\n",
    "\n",
    "        elif mat[i, j] == 0 and v == 3:\n",
    "            mat_copy[i, j] = 1\n",
    "            \n",
    "    return mat_copy\n",
    "\n",
    "\n",
    "\n",
    "def indvidual_matrix_data_collection(mat,gen_num,run_num,collection_dict,alive_percent):\n",
    "\n",
    "    collection_dict[\"gen_dict\"][\"alive_cells\"].append(int(mat.sum()))\n",
    "    collection_dict[\"gen_dict\"][\"gen\"].append(gen_num)\n",
    "    collection_dict[\"gen_dict\"][\"run\"].append(run_num)\n",
    "    collection_dict[\"gen_dict\"][\"initial_percent_alive\"].append(alive_percent)\n",
    "\n",
    "\n",
    "    return collection_dict\n",
    "\n",
    "     "
   ]
  },
  {
   "cell_type": "code",
   "execution_count": null,
   "metadata": {},
   "outputs": [],
   "source": [
    "\n",
    "\n",
    "def run_game(mat,run_num,master_data_collection_dict,alive_percent,max_steps=1000):\n",
    "\n",
    "    indvidual_matrix_data_collection(mat,0,run_num,master_data_collection_dict,alive_percent)\n",
    "\n",
    "    step = 1\n",
    "    steady_count = 0  \n",
    "\n",
    "    while step < max_steps:\n",
    "        new_mat = next_gen(mat)\n",
    "        indvidual_matrix_data_collection(new_mat,step,run_num,master_data_collection_dict,alive_percent)\n",
    "\n",
    "        if np.array_equal(new_mat, mat):\n",
    "            steady_count += 1\n",
    "        else:\n",
    "            steady_count = 0 \n",
    "\n",
    "        if steady_count == 2:\n",
    "            master_data_collection_dict[\"run_dict\"][\"term_reason\"].append(\"steady\")\n",
    "            master_data_collection_dict[\"run_dict\"][\"last_gen\"].append(step)\n",
    "            master_data_collection_dict[\"run_dict\"][\"run\"].append(run_num)\n",
    "            master_data_collection_dict[\"run_dict\"][\"initial_percent_alive\"].append(alive_percent)\n",
    "            break\n",
    "        \n",
    "        if np.all(new_mat == 0):\n",
    "            master_data_collection_dict[\"run_dict\"][\"term_reason\"].append(\"dead\")\n",
    "            master_data_collection_dict[\"run_dict\"][\"last_gen\"].append(step)\n",
    "            master_data_collection_dict[\"run_dict\"][\"run\"].append(run_num)\n",
    "            master_data_collection_dict[\"run_dict\"][\"initial_percent_alive\"].append(alive_percent)\n",
    "            break\n",
    "        \n",
    "        mat = new_mat  \n",
    "        step += 1\n",
    "        \n",
    "    if step == max_steps:\n",
    "        master_data_collection_dict[\"run_dict\"][\"term_reason\"].append(\"max\")\n",
    "        master_data_collection_dict[\"run_dict\"][\"last_gen\"].append(step)\n",
    "        master_data_collection_dict[\"run_dict\"][\"run\"].append(run_num)\n",
    "        master_data_collection_dict[\"run_dict\"][\"initial_percent_alive\"].append(alive_percent)\n",
    "     "
   ]
  },
  {
   "cell_type": "code",
   "execution_count": 10,
   "metadata": {},
   "outputs": [],
   "source": [
    "result_dict = defaultdict(lambda: defaultdict(list))"
   ]
  },
  {
   "cell_type": "code",
   "execution_count": 11,
   "metadata": {},
   "outputs": [
    {
     "ename": "KeyboardInterrupt",
     "evalue": "",
     "output_type": "error",
     "traceback": [
      "\u001b[31m---------------------------------------------------------------------------\u001b[39m",
      "\u001b[31mKeyboardInterrupt\u001b[39m                         Traceback (most recent call last)",
      "\u001b[36mCell\u001b[39m\u001b[36m \u001b[39m\u001b[32mIn[11]\u001b[39m\u001b[32m, line 5\u001b[39m\n\u001b[32m      3\u001b[39m     \u001b[38;5;28;01mfor\u001b[39;00m x \u001b[38;5;129;01min\u001b[39;00m \u001b[38;5;28mrange\u001b[39m(\u001b[32m3\u001b[39m):  \n\u001b[32m      4\u001b[39m         test_matrix = generate_rand_matrix(\u001b[32m100\u001b[39m, \u001b[32m100\u001b[39m, p)\n\u001b[32m----> \u001b[39m\u001b[32m5\u001b[39m         \u001b[43mrun_game\u001b[49m\u001b[43m(\u001b[49m\u001b[43mtest_matrix\u001b[49m\u001b[43m,\u001b[49m\u001b[43m \u001b[49m\u001b[43mx\u001b[49m\u001b[43m,\u001b[49m\u001b[43m \u001b[49m\u001b[43mresult_dict\u001b[49m\u001b[43m,\u001b[49m\u001b[43m \u001b[49m\u001b[43mp\u001b[49m\u001b[43m)\u001b[49m\n\u001b[32m      7\u001b[39m output_dict = {k:pd.DataFrame(v) \u001b[38;5;28;01mfor\u001b[39;00m k,v \u001b[38;5;129;01min\u001b[39;00m result_dict.items()}\n\u001b[32m      8\u001b[39m generation_df = output_dict[\u001b[33m\"\u001b[39m\u001b[33mgen_dict\u001b[39m\u001b[33m\"\u001b[39m]\n",
      "\u001b[36mCell\u001b[39m\u001b[36m \u001b[39m\u001b[32mIn[5]\u001b[39m\u001b[32m, line 9\u001b[39m, in \u001b[36mrun_game\u001b[39m\u001b[34m(mat, run_num, master_data_collection_dict, alive_percent, max_steps)\u001b[39m\n\u001b[32m      6\u001b[39m steady_count = \u001b[32m0\u001b[39m  \n\u001b[32m      8\u001b[39m \u001b[38;5;28;01mwhile\u001b[39;00m step < max_steps:\n\u001b[32m----> \u001b[39m\u001b[32m9\u001b[39m     new_mat = \u001b[43mnext_gen\u001b[49m\u001b[43m(\u001b[49m\u001b[43mmat\u001b[49m\u001b[43m)\u001b[49m\n\u001b[32m     10\u001b[39m     indvidual_matrix_data_collection(new_mat,step,run_num,master_data_collection_dict,alive_percent)\n\u001b[32m     12\u001b[39m     \u001b[38;5;28;01mif\u001b[39;00m np.array_equal(new_mat, mat):\n",
      "\u001b[36mCell\u001b[39m\u001b[36m \u001b[39m\u001b[32mIn[4]\u001b[39m\u001b[32m, line 27\u001b[39m, in \u001b[36mnext_gen\u001b[39m\u001b[34m(mat)\u001b[39m\n\u001b[32m     25\u001b[39m neighbor_sum_dict = defaultdict(\u001b[38;5;28mint\u001b[39m)\n\u001b[32m     26\u001b[39m mat_copy = mat.copy()\n\u001b[32m---> \u001b[39m\u001b[32m27\u001b[39m neighbors = \u001b[43mget_neighbors\u001b[49m\u001b[43m(\u001b[49m\u001b[43mmat\u001b[49m\u001b[43m)\u001b[49m\n\u001b[32m     29\u001b[39m \u001b[38;5;28;01mfor\u001b[39;00m k,v \u001b[38;5;129;01min\u001b[39;00m neighbors.items():\n\u001b[32m     30\u001b[39m     neighbors_sum = \u001b[38;5;28msum\u001b[39m([e[\u001b[32m2\u001b[39m] \u001b[38;5;28;01mfor\u001b[39;00m e \u001b[38;5;129;01min\u001b[39;00m v])\n",
      "\u001b[36mCell\u001b[39m\u001b[36m \u001b[39m\u001b[32mIn[4]\u001b[39m\u001b[32m, line 10\u001b[39m, in \u001b[36mget_neighbors\u001b[39m\u001b[34m(mat)\u001b[39m\n\u001b[32m      8\u001b[39m \u001b[38;5;28;01mfor\u001b[39;00m i \u001b[38;5;129;01min\u001b[39;00m \u001b[38;5;28mrange\u001b[39m(n):\n\u001b[32m      9\u001b[39m     \u001b[38;5;28;01mfor\u001b[39;00m j \u001b[38;5;129;01min\u001b[39;00m \u001b[38;5;28mrange\u001b[39m(m):\n\u001b[32m---> \u001b[39m\u001b[32m10\u001b[39m         x = [[i+y[\u001b[32m0\u001b[39m], j+y[\u001b[32m1\u001b[39m], \u001b[32m0\u001b[39m] \u001b[38;5;28;01mfor\u001b[39;00m y \u001b[38;5;129;01min\u001b[39;00m \u001b[43mitertools\u001b[49m\u001b[43m.\u001b[49m\u001b[43mproduct\u001b[49m\u001b[43m(\u001b[49m\u001b[43m[\u001b[49m\u001b[32;43m1\u001b[39;49m\u001b[43m,\u001b[49m\u001b[32;43m0\u001b[39;49m\u001b[43m,\u001b[49m\u001b[43m-\u001b[49m\u001b[32;43m1\u001b[39;49m\u001b[43m]\u001b[49m\u001b[43m,\u001b[49m\u001b[43m \u001b[49m\u001b[43m[\u001b[49m\u001b[32;43m1\u001b[39;49m\u001b[43m,\u001b[49m\u001b[32;43m0\u001b[39;49m\u001b[43m,\u001b[49m\u001b[43m-\u001b[49m\u001b[32;43m1\u001b[39;49m\u001b[43m]\u001b[49m\u001b[43m)\u001b[49m]\n\u001b[32m     11\u001b[39m         z = [e \u001b[38;5;28;01mfor\u001b[39;00m e \u001b[38;5;129;01min\u001b[39;00m x \u001b[38;5;28;01mif\u001b[39;00m (\u001b[32m0\u001b[39m <= e[\u001b[32m0\u001b[39m] < n \u001b[38;5;129;01mand\u001b[39;00m \u001b[32m0\u001b[39m <= e[\u001b[32m1\u001b[39m] < m \u001b[38;5;129;01mand\u001b[39;00m e[:\u001b[32m2\u001b[39m] != [i, j])]\n\u001b[32m     12\u001b[39m         neighbor_dict[(i, j)] = z\n",
      "\u001b[31mKeyboardInterrupt\u001b[39m: "
     ]
    }
   ],
   "source": [
    "for i in np.arange(.05, 1, 0.05):\n",
    "    p = round(i, 2)  \n",
    "    for x in range(3):  \n",
    "        test_matrix = generate_rand_matrix(100, 100, p)\n",
    "        run_game(test_matrix, x, result_dict, p)\n",
    "\n",
    "output_dict = {k:pd.DataFrame(v) for k,v in result_dict.items()}\n",
    "generation_df = output_dict[\"gen_dict\"]\n",
    "run_df = output_dict[\"run_dict\"]"
   ]
  },
  {
   "cell_type": "code",
   "execution_count": null,
   "metadata": {},
   "outputs": [],
   "source": [
    "merged_df = pd.merge(run_df,generation_df,on=[\"run\",\"initial_percent_alive\"],how=\"left\")"
   ]
  },
  {
   "cell_type": "code",
   "execution_count": null,
   "metadata": {},
   "outputs": [],
   "source": [
    "merged_df.to_csv(r\"C:\\Users\\Will\\Documents\\school_data\\gol.csv\")"
   ]
  }
 ],
 "metadata": {
  "kernelspec": {
   "display_name": "game_of_life_venv",
   "language": "python",
   "name": "python3"
  },
  "language_info": {
   "codemirror_mode": {
    "name": "ipython",
    "version": 3
   },
   "file_extension": ".py",
   "mimetype": "text/x-python",
   "name": "python",
   "nbconvert_exporter": "python",
   "pygments_lexer": "ipython3",
   "version": "3.12.3"
  }
 },
 "nbformat": 4,
 "nbformat_minor": 2
}
