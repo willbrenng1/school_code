{
 "cells": [
  {
   "cell_type": "code",
   "execution_count": 143,
   "metadata": {},
   "outputs": [],
   "source": [
    "import pandas as pd\n",
    "import numpy as np\n",
    "from collections import defaultdict\n",
    "import random\n",
    "import itertools"
   ]
  },
  {
   "cell_type": "code",
   "execution_count": 144,
   "metadata": {},
   "outputs": [],
   "source": [
    "\n",
    "def generate_exact_matrix(rows, cols, p_ones):\n",
    "    total_cells = rows * cols\n",
    "    number_of_ones = int(total_cells * p_ones)\n",
    "    flat = np.array([1] * number_of_ones + [0] * (total_cells - number_of_ones))\n",
    "    np.random.shuffle(flat)  \n",
    "    return flat.reshape((rows, cols))\n"
   ]
  },
  {
   "cell_type": "code",
   "execution_count": 145,
   "metadata": {},
   "outputs": [],
   "source": [
    "def generate_rand_matrix(rows, cols, p_ones):\n",
    "    total_cells = rows * cols\n",
    "    number_of_ones = int(total_cells * p_ones)\n",
    "    flat = np.array([1] * number_of_ones + [0] * (total_cells - number_of_ones))\n",
    "    np.random.shuffle(flat)  \n",
    "    return flat.reshape((rows, cols))\n",
    "\n",
    "# def get_neighbors(mat):\n",
    "#     neighbor_dict = defaultdict(list)\n",
    "#     n,m =mat.shape[0],mat.shape[1]\n",
    "#     for i in range(n):\n",
    "#         for j in range(m):\n",
    "#             x = [[i+y[0], j+y[1], 0] for y in itertools.product([1,0,-1], [1,0,-1])]\n",
    "#             z = [e for e in x if (0 <= e[0] < n and 0 <= e[1] < m and e[:2] != [i, j])]\n",
    "#             neighbor_dict[(i, j)] = z\n",
    "\n",
    "#     for k,v in neighbor_dict.items():\n",
    "#         for e in v:\n",
    "#             if mat[e[0],e[1]]==1:\n",
    "#                 e[2]=1\n",
    "#             else:\n",
    "#                 e[2]=0\n",
    "\n",
    "#     return neighbor_dict\n",
    "\n",
    "\n",
    "# def next_gen(mat):\n",
    "#     neighbor_sum_dict = defaultdict(int)\n",
    "#     mat_copy = mat.copy()\n",
    "#     neighbors = get_neighbors(mat)\n",
    "\n",
    "#     for k,v in neighbors.items():\n",
    "#         neighbors_sum = sum([e[2] for e in v])\n",
    "        \n",
    "#         neighbor_sum_dict[k] = neighbors_sum\n",
    "        \n",
    "#     for k,v in neighbor_sum_dict.items():\n",
    "#         i, j = k\n",
    "\n",
    "#         if (v < 2 or v > 3) and mat[i, j] == 1:\n",
    "#             mat_copy[i, j] = 0\n",
    "\n",
    "#         elif mat[i, j] == 0 and v == 3:\n",
    "#             mat_copy[i, j] = 1\n",
    "            \n",
    "#     return mat_copy\n",
    "\n",
    "\n",
    "\n",
    "def indvidual_matrix_data_collection(mat,gen_num,run_num,collection_dict,alive_percent,matrix_size):\n",
    "\n",
    "    collection_dict[\"gen_dict\"][\"alive_cells\"].append(int(mat.sum()))\n",
    "    collection_dict[\"gen_dict\"][\"gen\"].append(gen_num)\n",
    "    collection_dict[\"gen_dict\"][\"run\"].append(run_num)\n",
    "    collection_dict[\"gen_dict\"][\"initial_percent_alive\"].append(alive_percent)\n",
    "    collection_dict[\"gen_dict\"][\"matrix_size\"].append(matrix_size)\n",
    "\n",
    "    return collection_dict\n",
    "\n",
    "     "
   ]
  },
  {
   "cell_type": "code",
   "execution_count": 146,
   "metadata": {},
   "outputs": [],
   "source": [
    "def get_neighbors(mat):\n",
    "    n, m = mat.shape\n",
    "    neighbor_dict = defaultdict(list)\n",
    "    \n",
    "    for i in range(n):\n",
    "        for j in range(m):\n",
    "            for dx, dy in itertools.product([-1, 0, 1], [-1, 0, 1]):\n",
    "                if dx == 0 and dy == 0:\n",
    "                    continue\n",
    "                ni, nj = i + dx, j + dy\n",
    "                if 0 <= ni < n and 0 <= nj < m:\n",
    "                    neighbor_dict[(i, j)].append(mat[ni, nj])\n",
    "    \n",
    "    return neighbor_dict\n",
    "\n",
    "def next_gen(mat):\n",
    "    # n, m = mat.shape\n",
    "    mat_copy = mat.copy()\n",
    "    neighbors = get_neighbors(mat)\n",
    "\n",
    "    for (i, j), neighbor_vals in neighbors.items():\n",
    "        alive_neighbors = sum(neighbor_vals)\n",
    "        \n",
    "        if mat[i, j] == 1:\n",
    "            if alive_neighbors < 2 or alive_neighbors > 3:\n",
    "                mat_copy[i, j] = 0\n",
    "        else:\n",
    "            if alive_neighbors == 3:\n",
    "                mat_copy[i, j] = 1\n",
    "\n",
    "    return mat_copy"
   ]
  },
  {
   "cell_type": "code",
   "execution_count": 87,
   "metadata": {},
   "outputs": [],
   "source": [
    "\n",
    "\n",
    "def run_game(mat,run_num,matrix_size,master_data_collection_dict,alive_percent,max_steps=101):\n",
    "\n",
    "    indvidual_matrix_data_collection(mat,0,run_num,master_data_collection_dict,alive_percent,matrix_size)\n",
    "\n",
    "    step = 1\n",
    "    steady_count = 0  \n",
    "\n",
    "    while step < max_steps:\n",
    "        new_mat = next_gen(mat)\n",
    "        indvidual_matrix_data_collection(new_mat,step,run_num,master_data_collection_dict,alive_percent,matrix_size)\n",
    "\n",
    "        if np.array_equal(new_mat, mat):\n",
    "            steady_count += 1\n",
    "        else:\n",
    "            steady_count = 0 \n",
    "\n",
    "        if steady_count == 2:\n",
    "            master_data_collection_dict[\"run_dict\"][\"term_reason\"].append(\"steady\")\n",
    "            master_data_collection_dict[\"run_dict\"][\"last_gen\"].append(step)\n",
    "            master_data_collection_dict[\"run_dict\"][\"run\"].append(run_num)\n",
    "            master_data_collection_dict[\"run_dict\"][\"initial_percent_alive\"].append(alive_percent)\n",
    "            master_data_collection_dict[\"run_dict\"][\"matrix_size\"].append(matrix_size)\n",
    "            break\n",
    "        \n",
    "        if np.all(new_mat == 0):\n",
    "            master_data_collection_dict[\"run_dict\"][\"term_reason\"].append(\"dead\")\n",
    "            master_data_collection_dict[\"run_dict\"][\"last_gen\"].append(step)\n",
    "            master_data_collection_dict[\"run_dict\"][\"run\"].append(run_num)\n",
    "            master_data_collection_dict[\"run_dict\"][\"initial_percent_alive\"].append(alive_percent)\n",
    "            master_data_collection_dict[\"run_dict\"][\"matrix_size\"].append(matrix_size)\n",
    "            break\n",
    "        \n",
    "        mat = new_mat  \n",
    "        step += 1\n",
    "        \n",
    "    if step == max_steps:\n",
    "        master_data_collection_dict[\"run_dict\"][\"term_reason\"].append(\"max\")\n",
    "        master_data_collection_dict[\"run_dict\"][\"last_gen\"].append(step)\n",
    "        master_data_collection_dict[\"run_dict\"][\"run\"].append(run_num)\n",
    "        master_data_collection_dict[\"run_dict\"][\"initial_percent_alive\"].append(alive_percent)\n",
    "        master_data_collection_dict[\"run_dict\"][\"matrix_size\"].append(matrix_size)\n",
    "     "
   ]
  },
  {
   "cell_type": "code",
   "execution_count": 97,
   "metadata": {},
   "outputs": [],
   "source": [
    "sample_result_dict = defaultdict(lambda: defaultdict(list))"
   ]
  },
  {
   "cell_type": "code",
   "execution_count": 98,
   "metadata": {},
   "outputs": [],
   "source": [
    "for m in range(10,110,10):\n",
    "    for i in np.arange(.05, 1, 0.05):\n",
    "        p = round(i, 2)  \n",
    "        for x in range(11):  \n",
    "            matrix = generate_rand_matrix(m, m, p)\n",
    "            run_game(matrix, x, m*m, sample_result_dict, p)\n",
    "\n",
    "sample_output_dict = {k:pd.DataFrame(v) for k,v in sample_result_dict.items()}\n",
    "sample_generation_df = sample_output_dict[\"gen_dict\"]\n",
    "sample_run_df = sample_output_dict[\"run_dict\"]"
   ]
  },
  {
   "cell_type": "code",
   "execution_count": 100,
   "metadata": {},
   "outputs": [],
   "source": [
    "sample_output_df = pd.merge(sample_generation_df,sample_run_df,on=[\"run\",\"initial_percent_alive\",\"matrix_size\"],how=\"left\")"
   ]
  },
  {
   "cell_type": "code",
   "execution_count": 114,
   "metadata": {},
   "outputs": [
    {
     "data": {
      "text/plain": [
       "np.int64(7)"
      ]
     },
     "execution_count": 114,
     "metadata": {},
     "output_type": "execute_result"
    }
   ],
   "source": [
    "generate_rand_matrix(10, 10, .05).sum()"
   ]
  },
  {
   "cell_type": "code",
   "execution_count": 105,
   "metadata": {},
   "outputs": [
    {
     "data": {
      "text/plain": [
       "(153691, 5)"
      ]
     },
     "execution_count": 105,
     "metadata": {},
     "output_type": "execute_result"
    }
   ],
   "source": [
    "sample_generation_df.shape"
   ]
  },
  {
   "cell_type": "code",
   "execution_count": 102,
   "metadata": {},
   "outputs": [],
   "source": [
    "sample_output_df.to_csv(r\"C\\:\\\\Users\\\\Will\\\\Documents\\\\school_data\\\\gol_new.csv\",index= False)"
   ]
  },
  {
   "cell_type": "code",
   "execution_count": null,
   "metadata": {},
   "outputs": [],
   "source": [
    "sample_output_df.to_csv(r\"C\\:\\\\Users\\\\Will\\\\Documents\\\\school_data\\\\gol.csv\",index= False)"
   ]
  },
  {
   "cell_type": "code",
   "execution_count": 59,
   "metadata": {},
   "outputs": [],
   "source": [
    "result_dict = defaultdict(lambda: defaultdict(list))"
   ]
  },
  {
   "cell_type": "code",
   "execution_count": 58,
   "metadata": {},
   "outputs": [],
   "source": [
    "sample_amount_dict = {100: 73,\n",
    " 400: 45,\n",
    " 900: 45,\n",
    " 1600: 45,\n",
    " 2500: 45,\n",
    " 3600: 45,\n",
    " 4900: 45,\n",
    " 6400: 45,\n",
    " 8100: 45,\n",
    " 10000: 45}"
   ]
  },
  {
   "cell_type": "code",
   "execution_count": 60,
   "metadata": {},
   "outputs": [],
   "source": [
    "for m in range(10,110,10):\n",
    "    for i in np.arange(.05, 1, 0.05):\n",
    "        p = round(i, 2)  \n",
    "        for x in range(sample_amount_dict[m*m]):  \n",
    "            matrix = generate_rand_matrix(m, m, p)\n",
    "            run_game(matrix, x, m*m, result_dict, p)\n",
    "\n",
    "output_dict = {k:pd.DataFrame(v) for k,v in result_dict.items()}\n",
    "generation_df = output_dict[\"gen_dict\"]\n",
    "run_df = output_dict[\"run_dict\"]"
   ]
  },
  {
   "cell_type": "code",
   "execution_count": 61,
   "metadata": {},
   "outputs": [],
   "source": [
    "output_df = pd.merge(generation_df,run_df,on=[\"run\",\"initial_percent_alive\",\"matrix_size\"],how=\"left\")"
   ]
  },
  {
   "cell_type": "code",
   "execution_count": 63,
   "metadata": {},
   "outputs": [],
   "source": [
    "output_df.to_csv(r\"C\\:\\\\Users\\\\Will\\\\Documents\\\\school_data\\\\gol_final.csv\",index= False)"
   ]
  }
 ],
 "metadata": {
  "kernelspec": {
   "display_name": "school_venv_3",
   "language": "python",
   "name": "python3"
  },
  "language_info": {
   "codemirror_mode": {
    "name": "ipython",
    "version": 3
   },
   "file_extension": ".py",
   "mimetype": "text/x-python",
   "name": "python",
   "nbconvert_exporter": "python",
   "pygments_lexer": "ipython3",
   "version": "3.13.1"
  }
 },
 "nbformat": 4,
 "nbformat_minor": 2
}
