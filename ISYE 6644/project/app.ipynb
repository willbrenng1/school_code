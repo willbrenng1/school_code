{
 "cells": [
  {
   "cell_type": "code",
   "execution_count": 498,
   "metadata": {},
   "outputs": [],
   "source": [
    "import pandas as pd\n",
    "import numpy as np\n",
    "from collections import defaultdict\n",
    "import random\n",
    "import itertools"
   ]
  },
  {
   "cell_type": "code",
   "execution_count": 499,
   "metadata": {},
   "outputs": [],
   "source": [
    "random.seed(23)"
   ]
  },
  {
   "cell_type": "code",
   "execution_count": 639,
   "metadata": {},
   "outputs": [],
   "source": [
    "def generate_rand_matrix(n,m):\n",
    "    rand_mat = np.random.randint(2, size=(n,m))\n",
    "\n",
    "    return rand_mat  \n",
    "\n",
    "def get_neighbors(mat):\n",
    "    neighbor_dict = defaultdict(list)\n",
    "    n,m =mat.shape[0],mat.shape[1]\n",
    "    for i in range(n):\n",
    "        for j in range(m):\n",
    "            x = [[i+y[0], j+y[1], 0] for y in itertools.product([1,0,-1], [1,0,-1])]\n",
    "            z = [e for e in x if (0 <= e[0] < n and 0 <= e[1] < m and e[:2] != [i, j])]\n",
    "            neighbor_dict[(i, j)] = z\n",
    "\n",
    "    for k,v in neighbor_dict.items():\n",
    "        for e in v:\n",
    "            if mat[e[0],e[1]]==1:\n",
    "                e[2]=1\n",
    "            else:\n",
    "                e[2]=0\n",
    "\n",
    "    return neighbor_dict\n",
    "\n",
    "\n",
    "def next_gen(mat):\n",
    "    neighbor_sum_dict = defaultdict(int)\n",
    "    mat_copy = mat.copy()\n",
    "    neighbors = get_neighbors(mat)\n",
    "\n",
    "    for k,v in neighbors.items():\n",
    "        neighbors_sum = sum([e[2] for e in v])\n",
    "        \n",
    "        neighbor_sum_dict[k] = neighbors_sum\n",
    "        \n",
    "    for k,v in neighbor_sum_dict.items():\n",
    "        i, j = k\n",
    "\n",
    "        if (v < 2 or v > 3) and mat[i, j] == 1:\n",
    "            mat_copy[i, j] = 0\n",
    "\n",
    "        elif mat[i, j] == 0 and v == 3:\n",
    "            mat_copy[i, j] = 1\n",
    "            \n",
    "    return mat_copy\n",
    "\n",
    "\n",
    "def run_game(mat, max_steps=5000):\n",
    "    step = 0\n",
    "    steady_count = 0  \n",
    "\n",
    "    while step < max_steps:\n",
    "        new_mat = next_gen(mat)\n",
    "\n",
    "        if np.array_equal(new_mat, mat):\n",
    "            steady_count += 1\n",
    "        else:\n",
    "            steady_count = 0 \n",
    "\n",
    "        if steady_count == 5:\n",
    "            print(f\"Steady state reached at step {step}.\")\n",
    "            break\n",
    "        \n",
    "        if np.all(new_mat == 0):\n",
    "            print(f\"All cells are dead at step {step}.\")\n",
    "            break\n",
    "\n",
    "        mat = new_mat  \n",
    "        step += 1\n",
    "\n",
    "    return mat,new_mat\n"
   ]
  },
  {
   "cell_type": "code",
   "execution_count": 652,
   "metadata": {},
   "outputs": [],
   "source": [
    "def indvidual_matrix_data_collection(mat):\n",
    "    alive_cells = mat.sum()\n",
    "    total_cells = mat.size\n",
    "\n",
    "\n",
    "    return alive_cells, total_cells\n",
    "\n",
    "\n",
    "def run_data_collection():\n",
    "    print(\"x\")\n",
    "\n",
    "    "
   ]
  },
  {
   "cell_type": "code",
   "execution_count": 650,
   "metadata": {},
   "outputs": [],
   "source": [
    "test_matrix = generate_rand_matrix(100,100)"
   ]
  },
  {
   "cell_type": "code",
   "execution_count": 651,
   "metadata": {},
   "outputs": [
    {
     "data": {
      "text/plain": [
       "(np.int64(4970), 10000)"
      ]
     },
     "execution_count": 651,
     "metadata": {},
     "output_type": "execute_result"
    }
   ],
   "source": [
    "indvidual_matrix_data_collection(test_matrix)"
   ]
  },
  {
   "cell_type": "code",
   "execution_count": null,
   "metadata": {},
   "outputs": [
    {
     "data": {
      "text/plain": [
       "np.int64(24)"
      ]
     },
     "execution_count": 643,
     "metadata": {},
     "output_type": "execute_result"
    }
   ],
   "source": [
    "test_matrix.sum()\n"
   ]
  },
  {
   "cell_type": "code",
   "execution_count": 642,
   "metadata": {},
   "outputs": [
    {
     "name": "stdout",
     "output_type": "stream",
     "text": [
      "Steady state reached at step 7.\n"
     ]
    },
    {
     "data": {
      "text/plain": [
       "(array([[0, 0, 0, 0, 0, 0],\n",
       "        [0, 0, 0, 0, 0, 0],\n",
       "        [0, 0, 0, 0, 0, 0],\n",
       "        [0, 0, 0, 0, 0, 0],\n",
       "        [0, 0, 0, 0, 1, 1],\n",
       "        [0, 0, 0, 0, 1, 1]], dtype=int32),\n",
       " array([[0, 0, 0, 0, 0, 0],\n",
       "        [0, 0, 0, 0, 0, 0],\n",
       "        [0, 0, 0, 0, 0, 0],\n",
       "        [0, 0, 0, 0, 0, 0],\n",
       "        [0, 0, 0, 0, 1, 1],\n",
       "        [0, 0, 0, 0, 1, 1]], dtype=int32))"
      ]
     },
     "execution_count": 642,
     "metadata": {},
     "output_type": "execute_result"
    }
   ],
   "source": [
    "run_game(test_matrix)"
   ]
  }
 ],
 "metadata": {
  "kernelspec": {
   "display_name": "game_of_life_venv",
   "language": "python",
   "name": "python3"
  },
  "language_info": {
   "codemirror_mode": {
    "name": "ipython",
    "version": 3
   },
   "file_extension": ".py",
   "mimetype": "text/x-python",
   "name": "python",
   "nbconvert_exporter": "python",
   "pygments_lexer": "ipython3",
   "version": "3.12.3"
  }
 },
 "nbformat": 4,
 "nbformat_minor": 2
}
