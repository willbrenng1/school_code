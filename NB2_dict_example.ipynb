{
  "cells": [
    {
      "cell_type": "markdown",
      "id": "daf98253",
      "metadata": {
        "id": "daf98253"
      },
      "source": [
        "_Main topics covered during today's session:_\n",
        "\n",
        "Prior NBs:\n",
        "\n",
        "1. **Intro to Dictionaries**\n",
        "\n",
        "2. **Default Dictionaries and Counter dictionaries**\n",
        "    \n",
        "    \n",
        "This NB:\n",
        "\n",
        "3. **Some example dictionary use cases**\n"
      ]
    },
    {
      "cell_type": "markdown",
      "id": "f94cf4ad",
      "metadata": {
        "id": "f94cf4ad"
      },
      "source": [
        "# Some defaultdict Use Cases"
      ]
    },
    {
      "cell_type": "markdown",
      "id": "dac78b8e",
      "metadata": {
        "id": "dac78b8e"
      },
      "source": [
        "We are not going to review these in detail, but this notebook is for you to go through on your own."
      ]
    },
    {
      "cell_type": "code",
      "execution_count": 1,
      "id": "0ba4b4da",
      "metadata": {
        "id": "0ba4b4da"
      },
      "outputs": [],
      "source": [
        "from collections import defaultdict"
      ]
    },
    {
      "cell_type": "markdown",
      "id": "880058a5",
      "metadata": {
        "id": "880058a5"
      },
      "source": [
        "### Grouping Unique Items"
      ]
    },
    {
      "cell_type": "markdown",
      "id": "ac149ae7",
      "metadata": {
        "id": "ac149ae7"
      },
      "source": [
        "### Create a dictionary with department as keys and people working in them as values"
      ]
    },
    {
      "cell_type": "code",
      "execution_count": 2,
      "id": "4d3cb81e",
      "metadata": {
        "id": "4d3cb81e"
      },
      "outputs": [],
      "source": [
        "dep = [('Sales', 'John Doe'),\n",
        "       ('Sales', 'Martin Smith'),\n",
        "       ('Accounting', 'Jane Doe'),\n",
        "       ('Marketing', 'Elizabeth Smith'),\n",
        "       ('Marketing', 'Elizabeth Smith'),\n",
        "       ('Marketing', 'Adam Doe'),\n",
        "       ('Marketing', 'Adam Doe'),\n",
        "       ('Marketing', 'Adam Doe')]"
      ]
    },
    {
      "cell_type": "code",
      "execution_count": 4,
      "id": "57dfb2c4",
      "metadata": {
        "id": "57dfb2c4"
      },
      "outputs": [
        {
          "data": {
            "text/plain": [
              "defaultdict(set,\n",
              "            {'Sales': {'John Doe', 'Martin Smith'},\n",
              "             'Accounting': {'Jane Doe'},\n",
              "             'Marketing': {'Adam Doe', 'Elizabeth Smith'}})"
            ]
          },
          "execution_count": 4,
          "metadata": {},
          "output_type": "execute_result"
        }
      ],
      "source": [
        "dep_dd = defaultdict(set)\n",
        "for department, employee in dep:\n",
        "    dep_dd[department].add(employee)\n",
        "dep_dd"
      ]
    },
    {
      "cell_type": "code",
      "execution_count": 5,
      "id": "67c9b3df",
      "metadata": {
        "id": "67c9b3df"
      },
      "outputs": [
        {
          "data": {
            "text/plain": [
              "{'Sales': {'John Doe', 'Martin Smith'},\n",
              " 'Accounting': {'Jane Doe'},\n",
              " 'Marketing': {'Adam Doe', 'Elizabeth Smith'}}"
            ]
          },
          "execution_count": 5,
          "metadata": {},
          "output_type": "execute_result"
        }
      ],
      "source": [
        "dict(dep_dd)"
      ]
    },
    {
      "cell_type": "markdown",
      "id": "11e1ffaf",
      "metadata": {
        "id": "11e1ffaf"
      },
      "source": [
        "### Counting Items"
      ]
    },
    {
      "cell_type": "markdown",
      "id": "311a448a",
      "metadata": {
        "id": "311a448a"
      },
      "source": [
        "### Find how many people are there in each department.\n",
        "\n",
        "**Remember that you can also use a Counter() object for this use case.**"
      ]
    },
    {
      "cell_type": "code",
      "execution_count": 8,
      "id": "f5ad45cb",
      "metadata": {
        "id": "f5ad45cb"
      },
      "outputs": [
        {
          "data": {
            "text/plain": [
              "defaultdict(int, {'Sales': 2, 'Accounting': 1, 'Marketing': 2})"
            ]
          },
          "execution_count": 8,
          "metadata": {},
          "output_type": "execute_result"
        }
      ],
      "source": [
        "\n",
        "dep = [('Sales', 'John Doe'),\n",
        "        ('Sales', 'Martin Smith'),\n",
        "        ('Accounting', 'Jane Doe'),\n",
        "        ('Marketing', 'Elizabeth Smith'),\n",
        "        ('Marketing', 'Adam Doe')]\n",
        "dd = defaultdict(int)\n",
        "for department, q in dep:\n",
        "     dd[department] += 1\n",
        "dd"
      ]
    },
    {
      "cell_type": "code",
      "execution_count": 9,
      "id": "528bf171",
      "metadata": {
        "id": "528bf171"
      },
      "outputs": [
        {
          "data": {
            "text/plain": [
              "{'Sales': 2, 'Accounting': 1, 'Marketing': 2}"
            ]
          },
          "execution_count": 9,
          "metadata": {},
          "output_type": "execute_result"
        }
      ],
      "source": [
        "dict(dd)"
      ]
    },
    {
      "cell_type": "code",
      "execution_count": 10,
      "id": "f863dfeb",
      "metadata": {
        "id": "f863dfeb"
      },
      "outputs": [
        {
          "data": {
            "text/plain": [
              "defaultdict(int, {'m': 1, 'i': 4, 's': 4, 'p': 2})"
            ]
          },
          "execution_count": 10,
          "metadata": {},
          "output_type": "execute_result"
        }
      ],
      "source": [
        "s = 'mississippi'\n",
        "dd_s = defaultdict(int)\n",
        "for letter in s:\n",
        "    dd_s[letter] += 1\n",
        "dd_s"
      ]
    },
    {
      "cell_type": "code",
      "execution_count": null,
      "id": "96d99d9d",
      "metadata": {
        "id": "96d99d9d"
      },
      "outputs": [],
      "source": [
        "dict(dd_s)"
      ]
    },
    {
      "cell_type": "markdown",
      "id": "466bf1b7",
      "metadata": {
        "id": "466bf1b7"
      },
      "source": [
        "### Accumulating Values"
      ]
    },
    {
      "cell_type": "markdown",
      "id": "98fe8ddf",
      "metadata": {
        "id": "98fe8ddf"
      },
      "source": [
        "### Find total income for each product"
      ]
    },
    {
      "cell_type": "code",
      "execution_count": 11,
      "id": "c45b5343",
      "metadata": {
        "id": "c45b5343"
      },
      "outputs": [],
      "source": [
        "incomes = [('Books', 1250.00),\n",
        "           ('Books', 1300.00),\n",
        "           ('Books', 1420.00),\n",
        "           ('Tutorials', 560.00),\n",
        "           ('Tutorials', 630.00),\n",
        "           ('Tutorials', 750.00),\n",
        "           ('Courses', 2500.00),\n",
        "           ('Courses', 2430.00),\n",
        "           ('Courses', 2750.00),]"
      ]
    },
    {
      "cell_type": "code",
      "execution_count": 12,
      "id": "2ff6c737",
      "metadata": {
        "id": "2ff6c737"
      },
      "outputs": [
        {
          "name": "stdout",
          "output_type": "stream",
          "text": [
            "Total income for Books: $3,970.00\n",
            "Total income for Tutorials: $1,940.00\n",
            "Total income for Courses: $7,680.00\n"
          ]
        }
      ],
      "source": [
        "dd_prod = defaultdict(float)\n",
        "for product, income in incomes:\n",
        "    dd_prod[product] += income\n",
        "\n",
        "for product, income in dd_prod.items():\n",
        "    print(f'Total income for {product}: ${income:,.2f}')"
      ]
    },
    {
      "cell_type": "code",
      "execution_count": null,
      "id": "e4923970",
      "metadata": {
        "id": "e4923970"
      },
      "outputs": [],
      "source": [
        "dd_prod"
      ]
    },
    {
      "cell_type": "code",
      "execution_count": null,
      "id": "fd6df25d",
      "metadata": {
        "id": "fd6df25d"
      },
      "outputs": [],
      "source": [
        "dict(dd_prod)"
      ]
    },
    {
      "cell_type": "code",
      "execution_count": null,
      "id": "932a47e2",
      "metadata": {
        "id": "932a47e2"
      },
      "outputs": [],
      "source": []
    }
  ],
  "metadata": {
    "colab": {
      "provenance": []
    },
    "kernelspec": {
      "display_name": "Python 3 (ipykernel)",
      "language": "python",
      "name": "python3"
    },
    "language_info": {
      "codemirror_mode": {
        "name": "ipython",
        "version": 3
      },
      "file_extension": ".py",
      "mimetype": "text/x-python",
      "name": "python",
      "nbconvert_exporter": "python",
      "pygments_lexer": "ipython3",
      "version": "3.10.2"
    }
  },
  "nbformat": 4,
  "nbformat_minor": 5
}
