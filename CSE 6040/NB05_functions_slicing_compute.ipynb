{
  "cells": [
    {
      "cell_type": "markdown",
      "metadata": {
        "id": "3zB6qpnHX-yY"
      },
      "source": [
        "# Higher-order functions and a \"higher-level perspective\" on computation #\n",
        "\n",
        "_(September 20, 2022)_"
      ]
    },
    {
      "cell_type": "markdown",
      "metadata": {
        "id": "t96rQmfoX-yb"
      },
      "source": [
        "- Functions (and lambda functions)\n",
        "- Properties of slices\n",
        "- Problem solving example: Longest consecutive subsequences (from Codewars)"
      ]
    },
    {
      "cell_type": "markdown",
      "metadata": {
        "id": "LgCjD8nOX-yb"
      },
      "source": [
        "## Functions (and lambda functions) ##"
      ]
    },
    {
      "cell_type": "markdown",
      "metadata": {
        "id": "zzoXM7J6X-yc"
      },
      "source": [
        "Suppose you want to sort a list of numbers. Python's built-in `sorted` function can accomplish this task:"
      ]
    },
    {
      "cell_type": "code",
      "execution_count": 2,
      "metadata": {
        "colab": {
          "base_uri": "https://localhost:8080/"
        },
        "id": "t5z1xqwVX-yc",
        "outputId": "e2750c0b-c8df-4661-9dc9-eb168bb8907f"
      },
      "outputs": [
        {
          "data": {
            "text/plain": [
              "[1906, 1912, 1956]"
            ]
          },
          "execution_count": 2,
          "metadata": {},
          "output_type": "execute_result"
        }
      ],
      "source": [
        "unsorted_list = [1912, 1956, 1906]\n",
        "### INSERT: SORT ###\n",
        "sorted(unsorted_list)"
      ]
    },
    {
      "cell_type": "markdown",
      "metadata": {
        "id": "CAA2s-8vX-yd"
      },
      "source": [
        "Consider the following \"list of dictionaries.\""
      ]
    },
    {
      "cell_type": "code",
      "execution_count": 5,
      "metadata": {
        "colab": {
          "base_uri": "https://localhost:8080/"
        },
        "id": "Ti_hO4uEX-yd",
        "outputId": "d43d958b-498d-4e97-d016-507d1c8ce75b"
      },
      "outputs": [
        {
          "name": "stdout",
          "output_type": "stream",
          "text": [
            "[{'first': 'Guido', 'last': 'Van Rossum', 'year': 1956}, {'first': 'Grace', 'last': 'Hopper', 'year': 1906}, {'first': 'Alan', 'last': 'Turing', 'year': 1912}]\n"
          ]
        }
      ],
      "source": [
        "data = [{'first': 'Guido', 'last': 'Van Rossum', 'year': 1956},\n",
        "        {'first': 'Grace', 'last': 'Hopper',     'year': 1906},\n",
        "        {'first': 'Alan',  'last': 'Turing',     'year': 1912}]\n",
        "print(data)"
      ]
    },
    {
      "cell_type": "markdown",
      "metadata": {
        "id": "Yehq5JUgX-ye"
      },
      "source": [
        "> _Aside:_ You can use the [pprint module](https://docs.python.org/3/library/pprint.html) to \"pretty print\" basic Python data structures."
      ]
    },
    {
      "cell_type": "code",
      "execution_count": 6,
      "metadata": {
        "colab": {
          "base_uri": "https://localhost:8080/"
        },
        "id": "HZVOw7_XX-ye",
        "outputId": "ff99b1ff-e698-4c61-8a2f-59b79b4832b1"
      },
      "outputs": [
        {
          "name": "stdout",
          "output_type": "stream",
          "text": [
            "[{'first': 'Guido', 'last': 'Van Rossum', 'year': 1956},\n",
            " {'first': 'Grace', 'last': 'Hopper', 'year': 1906},\n",
            " {'first': 'Alan', 'last': 'Turing', 'year': 1912}]\n"
          ]
        }
      ],
      "source": [
        "from pprint import pprint\n",
        "pprint(data)"
      ]
    },
    {
      "cell_type": "markdown",
      "metadata": {
        "id": "dCGI49QmX-ye"
      },
      "source": [
        "Suppose you want to sort this list by year. The following doesn't work; why not?"
      ]
    },
    {
      "cell_type": "code",
      "execution_count": 7,
      "metadata": {
        "colab": {
          "base_uri": "https://localhost:8080/",
          "height": 245
        },
        "id": "O4QFD6r0X-ye",
        "outputId": "7e17377b-72c5-433c-dd45-7f94c704a483"
      },
      "outputs": [
        {
          "name": "stdout",
          "output_type": "stream",
          "text": [
            "[{'first': 'Guido', 'last': 'Van Rossum', 'year': 1956},\n",
            " {'first': 'Grace', 'last': 'Hopper', 'year': 1906},\n",
            " {'first': 'Alan', 'last': 'Turing', 'year': 1912}]\n"
          ]
        },
        {
          "ename": "TypeError",
          "evalue": "ignored",
          "output_type": "error",
          "traceback": [
            "\u001b[0;31m---------------------------------------------------------------------------\u001b[0m",
            "\u001b[0;31mTypeError\u001b[0m                                 Traceback (most recent call last)",
            "\u001b[0;32m<ipython-input-7-6206d7cfed10>\u001b[0m in \u001b[0;36m<cell line: 2>\u001b[0;34m()\u001b[0m\n\u001b[1;32m      1\u001b[0m \u001b[0mpprint\u001b[0m\u001b[0;34m(\u001b[0m\u001b[0mdata\u001b[0m\u001b[0;34m)\u001b[0m\u001b[0;34m\u001b[0m\u001b[0;34m\u001b[0m\u001b[0m\n\u001b[0;32m----> 2\u001b[0;31m \u001b[0msorted\u001b[0m\u001b[0;34m(\u001b[0m\u001b[0mdata\u001b[0m\u001b[0;34m)\u001b[0m  \u001b[0;31m# Fails: why?\u001b[0m\u001b[0;34m\u001b[0m\u001b[0;34m\u001b[0m\u001b[0m\n\u001b[0m",
            "\u001b[0;31mTypeError\u001b[0m: '<' not supported between instances of 'dict' and 'dict'"
          ]
        }
      ],
      "source": [
        "pprint(data)\n",
        "sorted(data)  # Fails: why?"
      ]
    },
    {
      "cell_type": "markdown",
      "metadata": {
        "id": "tY1rleGSX-ye"
      },
      "source": [
        "Sorting `data` fails because there is no way to compare the values, which are dictionaries. However, `sorted` allows you to specify a _key_ function that returns a value to use for ordering.\n",
        "\n",
        "```python\n",
        "# for any `e` in `data`, `key(e)`\n",
        "# returns a \"sortable\" value:\n",
        "sorted(data, key=...)\n",
        "```"
      ]
    },
    {
      "cell_type": "code",
      "execution_count": 10,
      "metadata": {
        "colab": {
          "base_uri": "https://localhost:8080/"
        },
        "id": "TKnRTDwgX-yf",
        "outputId": "29c563a2-c7a1-45b1-c4a3-78346abf887d"
      },
      "outputs": [
        {
          "data": {
            "text/plain": [
              "[{'first': 'Guido', 'last': 'Van Rossum', 'year': 1956},\n",
              " {'first': 'Alan', 'last': 'Turing', 'year': 1912},\n",
              " {'first': 'Grace', 'last': 'Hopper', 'year': 1906}]"
            ]
          },
          "execution_count": 10,
          "metadata": {},
          "output_type": "execute_result"
        }
      ],
      "source": [
        "\n",
        "def get_year(e): # Let `e` be one of the dictionary elements of the `data` list\n",
        "    return -e['year']\n",
        "\n",
        "sorted(data, key=get_year)"
      ]
    },
    {
      "cell_type": "markdown",
      "metadata": {
        "id": "itn9bsoDX-yf"
      },
      "source": [
        "Sorted is an example of a **higher-order function**, that is, a function that accepts another function as input or produces a new function as output. It's helpful because you can implement a sorting procedure once, and let a user customize it later on."
      ]
    },
    {
      "cell_type": "markdown",
      "metadata": {
        "id": "LdsschkJX-yf"
      },
      "source": [
        "**Lambda (or \"anonymous\") functions:** Useful for writing functions that you don't expect to reuse. Lambdas create a function value but do not assign it a name.\n",
        "\n",
        "For example, suppose you want to sort `data` by first name. Rather than create a separate function for extracting the first name, you can implement this function \"inline\" using the `lambda` construct to create the function you need."
      ]
    },
    {
      "cell_type": "code",
      "execution_count": 11,
      "metadata": {
        "colab": {
          "base_uri": "https://localhost:8080/"
        },
        "id": "uTWY1j2qX-yf",
        "outputId": "f63cf6c1-a9fa-4e36-a2ce-1aadee0c0783"
      },
      "outputs": [
        {
          "data": {
            "text/plain": [
              "[{'first': 'Alan', 'last': 'Turing', 'year': 1912},\n",
              " {'first': 'Grace', 'last': 'Hopper', 'year': 1906},\n",
              " {'first': 'Guido', 'last': 'Van Rossum', 'year': 1956}]"
            ]
          },
          "execution_count": 11,
          "metadata": {},
          "output_type": "execute_result"
        }
      ],
      "source": [
        "### INSERT: USE LAMBDA TO SORT BY FIRST NAME ###\n",
        "sorted(data, key=lambda e: e['first'])"
      ]
    },
    {
      "cell_type": "markdown",
      "metadata": {
        "id": "be4D0khYX-yf"
      },
      "source": [
        "> Lambdas are convenient but not necessarily easy for a future reader to understand. It's best left to situations where you the function you need is simple or you are sure you won't need to reuse that function in other situations."
      ]
    },
    {
      "cell_type": "markdown",
      "metadata": {
        "id": "wLzIsKYcX-yf"
      },
      "source": [
        "## Facts about slicing ##\n",
        "\n",
        "Take a moment to review how slicing works."
      ]
    },
    {
      "cell_type": "markdown",
      "metadata": {
        "id": "-nCLJipnX-yg"
      },
      "source": [
        "Here is one example: suppose you have the list `L` below and you want to extract the last three elements. Come up with two slice-based methods to do it."
      ]
    },
    {
      "cell_type": "code",
      "execution_count": 12,
      "metadata": {
        "colab": {
          "base_uri": "https://localhost:8080/"
        },
        "id": "2k_0KNr_X-yg",
        "outputId": "4594403e-9f95-40b5-8a6e-693f506e6121"
      },
      "outputs": [
        {
          "name": "stdout",
          "output_type": "stream",
          "text": [
            "Method 0: [3, 4, 5]\n",
            "Method 1: [3, 4, 5]\n"
          ]
        }
      ],
      "source": [
        "L = [1, 2, 3, 4, 5]\n",
        "\n",
        "### INSERT: FRONT- AND BACK-RELATIVE SLICES ###\n",
        "print(\"Method 0:\", L[2:])\n",
        "print(\"Method 1:\", L[-3:])"
      ]
    },
    {
      "cell_type": "markdown",
      "metadata": {
        "id": "sedrSEVgX-yg"
      },
      "source": [
        "When you reference a list using an invalid index, you get an error. Uncomment the following line to see an example:"
      ]
    },
    {
      "cell_type": "code",
      "execution_count": 13,
      "metadata": {
        "colab": {
          "base_uri": "https://localhost:8080/",
          "height": 175
        },
        "id": "04le1x64X-yg",
        "outputId": "c7914856-2669-4f1b-bf2d-70b841dc5ab7"
      },
      "outputs": [
        {
          "ename": "IndexError",
          "evalue": "ignored",
          "output_type": "error",
          "traceback": [
            "\u001b[0;31m---------------------------------------------------------------------------\u001b[0m",
            "\u001b[0;31mIndexError\u001b[0m                                Traceback (most recent call last)",
            "\u001b[0;32m<ipython-input-13-71ad3b84773a>\u001b[0m in \u001b[0;36m<cell line: 1>\u001b[0;34m()\u001b[0m\n\u001b[0;32m----> 1\u001b[0;31m \u001b[0mL\u001b[0m\u001b[0;34m[\u001b[0m\u001b[0mlen\u001b[0m\u001b[0;34m(\u001b[0m\u001b[0mL\u001b[0m\u001b[0;34m)\u001b[0m\u001b[0;34m]\u001b[0m \u001b[0;31m# Fails: Why?\u001b[0m\u001b[0;34m\u001b[0m\u001b[0;34m\u001b[0m\u001b[0m\n\u001b[0m",
            "\u001b[0;31mIndexError\u001b[0m: list index out of range"
          ]
        }
      ],
      "source": [
        "L[len(L)] # Fails: Why?"
      ]
    },
    {
      "cell_type": "markdown",
      "metadata": {
        "id": "UTy6KBSJX-yg"
      },
      "source": [
        "Slices work a little differently. Consider the following slice of a list:"
      ]
    },
    {
      "cell_type": "code",
      "execution_count": 14,
      "metadata": {
        "colab": {
          "base_uri": "https://localhost:8080/"
        },
        "id": "ypRnhz7ZX-yg",
        "outputId": "41ed24d7-8063-4abe-f556-8ed37e1a2ec4"
      },
      "outputs": [
        {
          "data": {
            "text/plain": [
              "[]"
            ]
          },
          "execution_count": 14,
          "metadata": {},
          "output_type": "execute_result"
        }
      ],
      "source": [
        "### INSERT: SLICE FROM `len(L)` ###\n",
        "L[len(L):] ## ??"
      ]
    },
    {
      "cell_type": "markdown",
      "metadata": {
        "id": "-qg9fX54X-yg"
      },
      "source": [
        "Instead of it failing, it returns an empty list!\n",
        "\n",
        "You can think of it this way. First, Python interprets the slice; a range with invalid indices yields an empty range. When you then reference the list on an empty range, you get an empty list."
      ]
    },
    {
      "cell_type": "markdown",
      "metadata": {
        "id": "UCU6hRA8X-yg"
      },
      "source": [
        "Here is another example:"
      ]
    },
    {
      "cell_type": "code",
      "execution_count": 15,
      "metadata": {
        "colab": {
          "base_uri": "https://localhost:8080/"
        },
        "id": "aOlsEsBzX-yg",
        "outputId": "ee52c8bd-292e-4a65-9b7b-13ca4e53e959"
      },
      "outputs": [
        {
          "data": {
            "text/plain": [
              "[]"
            ]
          },
          "execution_count": 15,
          "metadata": {},
          "output_type": "execute_result"
        }
      ],
      "source": [
        "L[len(L):1_000_000_000]"
      ]
    },
    {
      "cell_type": "markdown",
      "metadata": {
        "id": "V4Q5L62cX-yh"
      },
      "source": [
        "## Exercise: Longest consecutive subsequence ##\n",
        "\n",
        "Given a string of characters, write some code to find longest consecutive substring of repeated characters. It should then return the character and the number of times it occurred in that longest substring. If there are multiple substrings of repeated characters having the same length, then the function should return the first one that occurs."
      ]
    },
    {
      "cell_type": "code",
      "execution_count": 4,
      "metadata": {
        "id": "7PRvTOafX-yh"
      },
      "outputs": [],
      "source": [
        "# Examples:\n",
        "tests = {\n",
        "    'aaaabb': ('a', 4),\n",
        "    'bbbaaabaaaa': ('a', 4),\n",
        "    'bbbaaaabaaa': ('a', 4),\n",
        "    'bbbaabbaaa': ('b', 3), # tie: return first\n",
        "    'cbdeuuu900': ('u', 3),\n",
        "    'abbbbb': ('b', 5),\n",
        "    'aabb': ('a', 2),\n",
        "    'ba': ('b', 1),\n",
        "    '': ('', 0)\n",
        "}"
      ]
    },
    {
      "cell_type": "markdown",
      "metadata": {
        "id": "CGL3FbWKX-yh"
      },
      "source": [
        "Below, we'll implement a few variants. To check them, we'll use the following function.\n",
        "\n",
        "> It's a _higher-order function!_ It takes an implementation of LCS as input and checks it against the test cases shown above."
      ]
    },
    {
      "cell_type": "code",
      "execution_count": 2,
      "metadata": {
        "id": "Hh3prKneX-yh"
      },
      "outputs": [],
      "source": [
        "def check(implementation):\n",
        "    for input_string, true_answer in tests.items():\n",
        "        print(f'* Checking {repr(input_string)}: True solution is {repr(true_answer)}...')\n",
        "        your_answer = implementation(input_string)\n",
        "        assert your_answer == true_answer, f'Your code produced {repr(your_answer)} instead.'\n",
        "    print(\"\\n(Passed!)\")"
      ]
    },
    {
      "cell_type": "markdown",
      "metadata": {
        "id": "1jKGFzRKX-yh"
      },
      "source": [
        "**Exercise.**"
      ]
    },
    {
      "cell_type": "code",
      "execution_count": 18,
      "metadata": {
        "id": "18526ySmX-yh"
      },
      "outputs": [],
      "source": [
        "def longest_consecutive_subsequence(s):\n",
        "    pass # return a \"letter, count\" pair"
      ]
    },
    {
      "cell_type": "code",
      "execution_count": 19,
      "metadata": {
        "colab": {
          "base_uri": "https://localhost:8080/",
          "height": 140
        },
        "id": "j4YF8aPh2yL2",
        "outputId": "1708d9e6-e21c-4208-ba4b-e704d9dda4ad"
      },
      "outputs": [
        {
          "ename": "SyntaxError",
          "evalue": "ignored",
          "output_type": "error",
          "traceback": [
            "\u001b[0;36m  File \u001b[0;32m\"<ipython-input-19-0fa2305a70f8>\"\u001b[0;36m, line \u001b[0;32m1\u001b[0m\n\u001b[0;31m    'bbbaabbaaa': ('b', 3)\u001b[0m\n\u001b[0m    ^\u001b[0m\n\u001b[0;31mSyntaxError\u001b[0m\u001b[0;31m:\u001b[0m illegal target for annotation\n"
          ]
        }
      ],
      "source": [
        "#'bbbaabbaaa': ('b', 3)"
      ]
    },
    {
      "cell_type": "markdown",
      "metadata": {
        "id": "JLTLOgZgX-yh"
      },
      "source": [
        "### Baseline method: One-at-a-time ###\n",
        "\n",
        "Here is a version you might naturally implement. It works as follows.\n",
        "\n",
        "1. Let `best` and `best_count` hold the letter with the largest count seen so far.\n",
        "2. Visit each character `c` of the input string, `s` from left to right.\n",
        "3. Determine whether `c` is the same as the previous letter, `previous`, which has occurred `previous_count`.\n",
        "4. If `c` is the same as `previous`, increment `previous_count`.\n",
        "5. Otherwise, see if we can update `best` with `previous`."
      ]
    },
    {
      "cell_type": "code",
      "execution_count": 21,
      "metadata": {
        "id": "8C7EEUsPX-yh"
      },
      "outputs": [],
      "source": [
        "def longest_consecutive_subsequence_0a(s):\n",
        "  best,best_count = \"\", 0 #best so far\n",
        "  prev, prev_count = \"\", 0 # current subsequence\n",
        "  for c in s:\n",
        "    if c == prev:\n",
        "      prev_count +=1\n",
        "    else:\n",
        "      if prev_count > best_count:\n",
        "        best = prev\n",
        "        best_count = prev_count\n",
        "      prev,prev_count = c,1\n",
        "  if prev_count > best_count:\n",
        "      best = prev\n",
        "      best_count = prev_count\n",
        "  return best, best_count\n",
        "\n",
        "\n"
      ]
    },
    {
      "cell_type": "markdown",
      "metadata": {
        "id": "tEQ39PfgX-yh"
      },
      "source": [
        "First, let's check this solution:"
      ]
    },
    {
      "cell_type": "code",
      "execution_count": 22,
      "metadata": {
        "colab": {
          "base_uri": "https://localhost:8080/"
        },
        "id": "YxdYHLmdX-yh",
        "outputId": "7e6f6aa3-825a-4039-9418-86b3e855bc11"
      },
      "outputs": [
        {
          "name": "stdout",
          "output_type": "stream",
          "text": [
            "* Checking 'aaaabb': True solution is ('a', 4)...\n",
            "* Checking 'bbbaaabaaaa': True solution is ('a', 4)...\n",
            "* Checking 'bbbaaaabaaa': True solution is ('a', 4)...\n",
            "* Checking 'bbbaabbaaa': True solution is ('b', 3)...\n",
            "* Checking 'cbdeuuu900': True solution is ('u', 3)...\n",
            "* Checking 'abbbbb': True solution is ('b', 5)...\n",
            "* Checking 'aabb': True solution is ('a', 2)...\n",
            "* Checking 'ba': True solution is ('b', 1)...\n",
            "* Checking '': True solution is ('', 0)...\n",
            "\n",
            "(Passed!)\n"
          ]
        }
      ],
      "source": [
        "check(longest_consecutive_subsequence_0a)"
      ]
    },
    {
      "cell_type": "markdown",
      "metadata": {
        "id": "9dHkhNvDX-yh"
      },
      "source": [
        "The solution shown above has some repetition: the code to update `best` and `best_count` when a new and longer subsequence is discovered appears in two places (lines 8-9 and again in lines 11-12). We'll address that momentarily."
      ]
    },
    {
      "cell_type": "markdown",
      "metadata": {
        "id": "UKUf4GxxX-yh"
      },
      "source": [
        "Here is a variation on the above with a few revisions for clarity:\n",
        "\n",
        "1. _Refactor_ the redundant code into a separate function, `update`. Doing so improves reading, debugging, and maintaining the function. (If you wanted to solve the _shortest_ consecutive subsequence problem instead, you need only change `update`!)\n",
        "2. Maintain substrings and use `len` to get the length when needed.\n",
        "3. Use slices to handle empty strings more robustly."
      ]
    },
    {
      "cell_type": "code",
      "execution_count": 5,
      "metadata": {
        "colab": {
          "base_uri": "https://localhost:8080/"
        },
        "id": "pM3q2FKkX-yi",
        "outputId": "7ac206fc-2a62-4669-d602-08319f3d3e48"
      },
      "outputs": [
        {
          "name": "stdout",
          "output_type": "stream",
          "text": [
            "* Checking 'aaaabb': True solution is ('a', 4)...\n",
            "* Checking 'bbbaaabaaaa': True solution is ('a', 4)...\n",
            "* Checking 'bbbaaaabaaa': True solution is ('a', 4)...\n",
            "* Checking 'bbbaabbaaa': True solution is ('b', 3)...\n",
            "* Checking 'cbdeuuu900': True solution is ('u', 3)...\n",
            "* Checking 'abbbbb': True solution is ('b', 5)...\n",
            "* Checking 'aabb': True solution is ('a', 2)...\n",
            "* Checking 'ba': True solution is ('b', 1)...\n",
            "* Checking '': True solution is ('', 0)...\n",
            "\n",
            "(Passed!)\n"
          ]
        }
      ],
      "source": [
        "def longest_consecutive_subsequence_0b(s):\n",
        "    def update(best, previous): # e/g best =\"aaaa\" prev = \"bb\"\n",
        "        return max(best, previous, key=len) #key is looking at what to measure\n",
        "    previous = ''\n",
        "    best = ''\n",
        "    for c in s:\n",
        "        if c != previous[-1:]:\n",
        "            best = update(best, previous)\n",
        "            previous = ''\n",
        "        previous += c\n",
        "    best = update(best, previous)\n",
        "    return best[-1:], len(best)\n",
        "\n",
        "check(longest_consecutive_subsequence_0b)"
      ]
    },
    {
      "cell_type": "markdown",
      "metadata": {
        "id": "-vSjOJTMX-yi"
      },
      "source": [
        "### Method 1: Data parallelism ###\n",
        "\n",
        "Instead of thinking about building the solution one character at a time, let's try to think about the input \"as a whole.\" What are you really looking for?\n",
        "\n",
        "In the case of this problem, the input string is really a collection of substrings having the same letter. You can think of finding the solution in two parts: (1) finding the substrings, and then (2) finding the largest one."
      ]
    },
    {
      "cell_type": "markdown",
      "metadata": {
        "id": "zCwwIf5wX-yi"
      },
      "source": [
        "For example, consider the input string again:"
      ]
    },
    {
      "cell_type": "code",
      "execution_count": 6,
      "metadata": {
        "id": "rwaYK2PWX-yi"
      },
      "outputs": [],
      "source": [
        "s = 'bbbaaabaaaa'"
      ]
    },
    {
      "cell_type": "code",
      "execution_count": 13,
      "metadata": {
        "colab": {
          "base_uri": "https://localhost:8080/"
        },
        "id": "gTZoE1mGvsKm",
        "outputId": "e728b8af-1cb9-4bfc-d18b-387242c25059"
      },
      "outputs": [
        {
          "name": "stdout",
          "output_type": "stream",
          "text": [
            "0 b\n",
            "1 b\n",
            "2 b\n",
            "3 a\n",
            "4 a\n",
            "5 a\n",
            "6 b\n",
            "7 a\n",
            "8 a\n",
            "9 a\n",
            "10 a\n"
          ]
        }
      ],
      "source": [
        "for i,c in enumerate(s):\n",
        "  print(i,c)"
      ]
    },
    {
      "cell_type": "markdown",
      "metadata": {
        "id": "JUTSPAY7X-yi"
      },
      "source": [
        "The pieces correspond to these slices of `s`:"
      ]
    },
    {
      "cell_type": "code",
      "execution_count": 7,
      "metadata": {
        "colab": {
          "base_uri": "https://localhost:8080/"
        },
        "id": "1Q3RYkfdX-yi",
        "outputId": "f681da6c-e294-4c90-b1c4-79e0114b41cf"
      },
      "outputs": [
        {
          "data": {
            "text/plain": [
              "('bbb', 'aaa', 'b', 'aaaa')"
            ]
          },
          "execution_count": 7,
          "metadata": {},
          "output_type": "execute_result"
        }
      ],
      "source": [
        "s[0:3], s[3:6], s[6:7], s[7:11]"
      ]
    },
    {
      "cell_type": "markdown",
      "metadata": {
        "id": "ec_eCNpuX-yi"
      },
      "source": [
        "To reconstruct these substrings, all you need are the locations of _changes_, which occur at positions `[0, 3, 6, 7, 11]`."
      ]
    },
    {
      "cell_type": "markdown",
      "metadata": {
        "id": "uOKPtoy7X-yi"
      },
      "source": [
        "To find these, we need to look at consecutive pairs of letters in `s` and see where they differ. Let's write some code to build up this information in two parts."
      ]
    },
    {
      "cell_type": "code",
      "execution_count": 11,
      "metadata": {
        "colab": {
          "base_uri": "https://localhost:8080/"
        },
        "id": "c7Sw4w02X-yi",
        "outputId": "7d3f556c-3b6a-4555-b8ff-054529327c3d"
      },
      "outputs": [
        {
          "name": "stdout",
          "output_type": "stream",
          "text": [
            "s = bbbaaabaaaa\n"
          ]
        },
        {
          "data": {
            "text/plain": [
              "[('b', 'b'),\n",
              " ('b', 'b'),\n",
              " ('b', 'a'),\n",
              " ('a', 'a'),\n",
              " ('a', 'a'),\n",
              " ('a', 'b'),\n",
              " ('b', 'a'),\n",
              " ('a', 'a'),\n",
              " ('a', 'a'),\n",
              " ('a', 'a')]"
            ]
          },
          "execution_count": 11,
          "metadata": {},
          "output_type": "execute_result"
        }
      ],
      "source": [
        "def zip_neighbors(s):\n",
        "    return list(zip(s[:-1], s[1:])) #zipping each elements next to each order in sequence\n",
        "\n",
        "print(\"s =\", s)\n",
        "zip_neighbors(s)"
      ]
    },
    {
      "cell_type": "markdown",
      "metadata": {
        "id": "EwYFhf8aX-yi"
      },
      "source": [
        "To associate these neighbor-pairs with positions, apply `enumerate`:"
      ]
    },
    {
      "cell_type": "code",
      "execution_count": 15,
      "metadata": {
        "colab": {
          "base_uri": "https://localhost:8080/"
        },
        "id": "cf6GTt8qX-yi",
        "outputId": "3cab613e-d2a8-48fd-8f61-af924d3f375a"
      },
      "outputs": [
        {
          "name": "stdout",
          "output_type": "stream",
          "text": [
            "s = bbbaaabaaaa\n"
          ]
        },
        {
          "data": {
            "text/plain": [
              "[0, 3, 6, 7, 11]"
            ]
          },
          "execution_count": 15,
          "metadata": {},
          "output_type": "execute_result"
        }
      ],
      "source": [
        "print(\"s =\", s)\n",
        "\n",
        "### INSERT: APPLY ENUMERATE ###\n",
        "[0]+ [p+1 for p, (u,v) in list(enumerate(zip_neighbors(s))) if u!=v] + [len(s)]#enumerate is also a generator, call constructor\n",
        "\n"
      ]
    },
    {
      "cell_type": "markdown",
      "metadata": {
        "id": "k7B56kcoX-yi"
      },
      "source": [
        "These are the building blocks for a \"change detector:\""
      ]
    },
    {
      "cell_type": "code",
      "execution_count": 16,
      "metadata": {
        "colab": {
          "base_uri": "https://localhost:8080/"
        },
        "id": "O_zLIoswX-yi",
        "outputId": "fde6c2f9-8865-413e-f387-da2033fc3f77"
      },
      "outputs": [
        {
          "data": {
            "text/plain": [
              "[0, 3, 6, 7, 11]"
            ]
          },
          "execution_count": 16,
          "metadata": {},
          "output_type": "execute_result"
        }
      ],
      "source": [
        "def detect_changes(s):\n",
        "    ### INSERT SOLUTION ###\n",
        "    interior_changes = [p+1 for p, (x, y) in enumerate(zip_neighbors(s)) if x != y]\n",
        "    return [0] + interior_changes + [len(s)]\n",
        "\n",
        "detect_changes(s)"
      ]
    },
    {
      "cell_type": "markdown",
      "metadata": {
        "id": "Cu48w2QEX-yi"
      },
      "source": [
        "> _Aside:_ The implementation of `detect_changes` produces the following result on an empty input:"
      ]
    },
    {
      "cell_type": "code",
      "execution_count": 17,
      "metadata": {
        "colab": {
          "base_uri": "https://localhost:8080/"
        },
        "id": "0PqbHLJHX-yi",
        "outputId": "aaa287b3-bff6-43e7-869f-222d50227ce9"
      },
      "outputs": [
        {
          "data": {
            "text/plain": [
              "[0, 0]"
            ]
          },
          "execution_count": 17,
          "metadata": {},
          "output_type": "execute_result"
        }
      ],
      "source": [
        "detect_changes('')"
      ]
    },
    {
      "cell_type": "markdown",
      "metadata": {
        "id": "IEKy0yRGX-yj"
      },
      "source": [
        "From the changes, the pieces follow:"
      ]
    },
    {
      "cell_type": "code",
      "execution_count": 18,
      "metadata": {
        "colab": {
          "base_uri": "https://localhost:8080/"
        },
        "id": "bghrt4SwX-yj",
        "outputId": "e2f2c9c5-cbad-4fb1-809e-4f5edf957a17"
      },
      "outputs": [
        {
          "data": {
            "text/plain": [
              "['bbb', 'aaa', 'b', 'aaaa']"
            ]
          },
          "execution_count": 18,
          "metadata": {},
          "output_type": "execute_result"
        }
      ],
      "source": [
        "def get_pieces(s, changes):\n",
        "    ### INSERT SOLUTION ###\n",
        "    return [s[i:j] for i, j in zip_neighbors(changes)]\n",
        "\n",
        "get_pieces(s, detect_changes(s))"
      ]
    },
    {
      "cell_type": "markdown",
      "metadata": {
        "id": "9kK7YyfWX-yj"
      },
      "source": [
        "The largest piece is then easy to find:"
      ]
    },
    {
      "cell_type": "code",
      "execution_count": 19,
      "metadata": {
        "colab": {
          "base_uri": "https://localhost:8080/",
          "height": 35
        },
        "id": "coID-0bOX-yj",
        "outputId": "f6f6c8d4-4a7c-45de-cff0-62ad023a0254"
      },
      "outputs": [
        {
          "data": {
            "application/vnd.google.colaboratory.intrinsic+json": {
              "type": "string"
            },
            "text/plain": [
              "'aaaa'"
            ]
          },
          "execution_count": 19,
          "metadata": {},
          "output_type": "execute_result"
        }
      ],
      "source": [
        "### FIND LARGEST PIECE VIA KEYED `max` ###\n",
        "max(get_pieces(s, detect_changes(s)), key=len)"
      ]
    },
    {
      "cell_type": "markdown",
      "metadata": {
        "id": "PvzLSF4LX-yj"
      },
      "source": [
        "Putting it all together:"
      ]
    },
    {
      "cell_type": "code",
      "execution_count": 20,
      "metadata": {
        "colab": {
          "base_uri": "https://localhost:8080/"
        },
        "id": "Fj7nbYZBX-yj",
        "outputId": "d7050900-df3a-4c2e-d109-8efa8ca1814a"
      },
      "outputs": [
        {
          "data": {
            "text/plain": [
              "('a', 4)"
            ]
          },
          "execution_count": 20,
          "metadata": {},
          "output_type": "execute_result"
        }
      ],
      "source": [
        "def longest_consecutive_subsequence_1(s):\n",
        "    changes = detect_changes(s)\n",
        "    pieces = get_pieces(s, changes)\n",
        "    largest_piece = max(pieces, key=len)\n",
        "    return largest_piece[:1], len(largest_piece)\n",
        "\n",
        "longest_consecutive_subsequence_1(s)"
      ]
    },
    {
      "cell_type": "code",
      "execution_count": 21,
      "metadata": {
        "colab": {
          "base_uri": "https://localhost:8080/"
        },
        "id": "MgyaOMO9X-yj",
        "outputId": "af0c1da9-bb76-4bbf-c68a-732b6c67134a"
      },
      "outputs": [
        {
          "name": "stdout",
          "output_type": "stream",
          "text": [
            "* Checking 'aaaabb': True solution is ('a', 4)...\n",
            "* Checking 'bbbaaabaaaa': True solution is ('a', 4)...\n",
            "* Checking 'bbbaaaabaaa': True solution is ('a', 4)...\n",
            "* Checking 'bbbaabbaaa': True solution is ('b', 3)...\n",
            "* Checking 'cbdeuuu900': True solution is ('u', 3)...\n",
            "* Checking 'abbbbb': True solution is ('b', 5)...\n",
            "* Checking 'aabb': True solution is ('a', 2)...\n",
            "* Checking 'ba': True solution is ('b', 1)...\n",
            "* Checking '': True solution is ('', 0)...\n",
            "\n",
            "(Passed!)\n"
          ]
        }
      ],
      "source": [
        "check(longest_consecutive_subsequence_1)"
      ]
    },
    {
      "cell_type": "markdown",
      "metadata": {
        "id": "prMC0zDzX-yj"
      },
      "source": [
        "### Method 2: Data parallel \"preconditioning\" approach ###\n",
        "\n",
        "Transform the input into something, e.g., preprocess or \"precondition\" it so that the problem becomes easier to solve."
      ]
    },
    {
      "cell_type": "code",
      "execution_count": 22,
      "metadata": {
        "colab": {
          "base_uri": "https://localhost:8080/"
        },
        "id": "J_3iGxmqX-yj",
        "outputId": "473755c3-b82a-4ffb-aee4-a6bb835ae370"
      },
      "outputs": [
        {
          "data": {
            "text/plain": [
              "['bbb', 'aaa', 'b', 'aaaa']"
            ]
          },
          "execution_count": 22,
          "metadata": {},
          "output_type": "execute_result"
        }
      ],
      "source": [
        "### INSERT: DEMO `s` and `t` ###\n",
        "s = 'bbbaaabaaaa'\n",
        "t = 'bbb|aaa|b|aaaa'\n",
        "t.split('|')"
      ]
    },
    {
      "cell_type": "code",
      "execution_count": null,
      "metadata": {
        "id": "goZjHdO9zqAD"
      },
      "outputs": [],
      "source": [
        "for u, v in zip_neighbors(s):\n"
      ]
    },
    {
      "cell_type": "code",
      "execution_count": 23,
      "metadata": {
        "colab": {
          "base_uri": "https://localhost:8080/"
        },
        "id": "yYC-nKJpX-yj",
        "outputId": "616cb015-3433-4237-9c9d-19f6f396a770"
      },
      "outputs": [
        {
          "name": "stdout",
          "output_type": "stream",
          "text": [
            "* Checking 'aaaabb': True solution is ('a', 4)...\n",
            "* Checking 'bbbaaabaaaa': True solution is ('a', 4)...\n",
            "* Checking 'bbbaaaabaaa': True solution is ('a', 4)...\n",
            "* Checking 'bbbaabbaaa': True solution is ('b', 3)...\n",
            "* Checking 'cbdeuuu900': True solution is ('u', 3)...\n",
            "* Checking 'abbbbb': True solution is ('b', 5)...\n",
            "* Checking 'aabb': True solution is ('a', 2)...\n",
            "* Checking 'ba': True solution is ('b', 1)...\n",
            "* Checking '': True solution is ('', 0)...\n",
            "\n",
            "(Passed!)\n"
          ]
        }
      ],
      "source": [
        "def insert_cuts(s, separator='|'):\n",
        "    assert separator not in s     # Q for you: \"but y tho\"\n",
        "    def conditional_inject(x, y):\n",
        "        return x + (separator if x != y else '')\n",
        "    cut_pieces = [conditional_inject(x, y) for x, y in zip_neighbors(s)]\n",
        "    cut_pieces.append(s[-1:])\n",
        "    return ''.join(cut_pieces)\n",
        "\n",
        "def longest_consecutive_subsequence_3(s):\n",
        "    t = insert_cuts(s)\n",
        "    substrings = t.split('|')\n",
        "    largest_substring = max(substrings, key=len)\n",
        "    return largest_substring[-1:], len(largest_substring)\n",
        "\n",
        "check(longest_consecutive_subsequence_3)"
      ]
    },
    {
      "cell_type": "markdown",
      "metadata": {
        "id": "drZaqQQuX-yj"
      },
      "source": [
        "## Summary ##\n",
        "\n",
        "Here is a quick review of the main ideas in this note:\n",
        "\n",
        "- **Functions** encapsulate ... functionality!\n",
        "- **Higher-order functions** enable customization, e.g., `sorted` and `max`.\n",
        "- **Slices** are well-worth mastering. Empty ranges produced empty lists, which we exploited to write more robust code for corner cases.\n",
        "- **Data parallelism** is an \"all-at-once\" mindset, which can be more efficient, easier to read, and easier to parallelize."
      ]
    }
  ],
  "metadata": {
    "celltoolbar": "Slideshow",
    "colab": {
      "provenance": []
    },
    "kernelspec": {
      "display_name": "Python 3 (ipykernel)",
      "language": "python",
      "name": "python3"
    },
    "language_info": {
      "codemirror_mode": {
        "name": "ipython",
        "version": 3
      },
      "file_extension": ".py",
      "mimetype": "text/x-python",
      "name": "python",
      "nbconvert_exporter": "python",
      "pygments_lexer": "ipython3",
      "version": "3.9.13"
    },
    "toc": {
      "base_numbering": 1,
      "nav_menu": {},
      "number_sections": true,
      "sideBar": true,
      "skip_h1_title": false,
      "title_cell": "Table of Contents",
      "title_sidebar": "Contents",
      "toc_cell": false,
      "toc_position": {},
      "toc_section_display": true,
      "toc_window_display": false
    }
  },
  "nbformat": 4,
  "nbformat_minor": 0
}
