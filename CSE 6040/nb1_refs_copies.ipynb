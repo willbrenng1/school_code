{
  "cells": [
    {
      "attachments": {},
      "cell_type": "markdown",
      "metadata": {
        "id": "QENt5NvpCNmC"
      },
      "source": [
        "# References and Copies #\n",
        "\n"
      ]
    },
    {
      "attachments": {},
      "cell_type": "markdown",
      "metadata": {
        "id": "IjXxRj0WCNmF"
      },
      "source": [
        "_Main topics covered during today's session:_\n",
        "\n",
        "Previous NB:\n",
        "1. **Python Loops**\n",
        "2. **Comprehensions:  Lists, Dicts, Sets**\n",
        "\n",
        "This NB:\n",
        "\n",
        "4. **References and Copies**\n",
        "\n",
        "Next NB:\n",
        "\n",
        "5. **Troubleshooting Data for the Exams**\n"
      ]
    },
    {
      "attachments": {},
      "cell_type": "markdown",
      "metadata": {
        "id": "2JOLKlh4CNmG"
      },
      "source": [
        "## References ##"
      ]
    },
    {
      "attachments": {},
      "cell_type": "markdown",
      "metadata": {
        "id": "lEsBj7S8CNmH"
      },
      "source": [
        "Variables are _names_ for objects. When the objects are \"complex\" (not \"primitive\"), modifications through one name may be visible to others."
      ]
    },
    {
      "attachments": {},
      "cell_type": "markdown",
      "metadata": {
        "id": "ELuneNEnCNmI"
      },
      "source": [
        "To wit:"
      ]
    },
    {
      "cell_type": "code",
      "execution_count": 1,
      "metadata": {
        "id": "3JNA4DMACNmI"
      },
      "outputs": [
        {
          "name": "stdout",
          "output_type": "stream",
          "text": [
            "x: [1, 2, 3, 4, 5]\n",
            "y: [1, 2, 3, 4, 5]\n",
            "Modified y: [1, 2, -3, 4, 5]\n"
          ]
        }
      ],
      "source": [
        "x = [1, 2, 3, 4, 5]\n",
        "print(\"x:\", x)\n",
        "\n",
        "y = x\n",
        "print(\"y:\", y)\n",
        "\n",
        "y[2] *= -1\n",
        "print(\"Modified y:\", y)"
      ]
    },
    {
      "attachments": {},
      "cell_type": "markdown",
      "metadata": {
        "id": "t76xSuyHCNmJ"
      },
      "source": [
        "**Question:** What is `x`?"
      ]
    },
    {
      "cell_type": "code",
      "execution_count": 2,
      "metadata": {
        "id": "qGtivw1nCNmK"
      },
      "outputs": [
        {
          "name": "stdout",
          "output_type": "stream",
          "text": [
            "[1, 2, -3, 4, 5]\n"
          ]
        }
      ],
      "source": [
        "print(x) # What does this produce?"
      ]
    },
    {
      "attachments": {},
      "cell_type": "markdown",
      "metadata": {
        "id": "Kzr5MrWtCNmL"
      },
      "source": [
        "#### Why does this occur?\n",
        "\n",
        "Because `y` is simply pointing to the underlying memory location of `x`, in the underlying data storage of the computer. It is not pointing to a new memory location, so modifying one variable modifies both of them."
      ]
    },
    {
      "attachments": {},
      "cell_type": "markdown",
      "metadata": {
        "id": "9LjruavhCNmN"
      },
      "source": [
        "**What's your alternative?** If you really do need a copy, what are your options? Three ways of doing it below.\n",
        "\n",
        "```python\n",
        "y = [1, 2, 3, 4, 5]\n",
        "y = x.copy()\n",
        "y = [e for e in x]\n",
        "```\n",
        "\n",
        "Go ahead and put the above into the Python Tutor and see how they execute.."
      ]
    },
    {
      "attachments": {},
      "cell_type": "markdown",
      "metadata": {
        "id": "rk9J3N5eCNmO"
      },
      "source": [
        "**A tricky case.**"
      ]
    },
    {
      "cell_type": "code",
      "execution_count": 3,
      "metadata": {
        "id": "YemeWgDiCNmO"
      },
      "outputs": [
        {
          "name": "stdout",
          "output_type": "stream",
          "text": [
            "[1, 2, ['a', 'b', 'c'], 4, 5]\n"
          ]
        }
      ],
      "source": [
        "x = [1, 2, ['a', 'b', 'c'], 4, 5]\n",
        "y = x.copy()\n",
        "print(y)"
      ]
    },
    {
      "cell_type": "code",
      "execution_count": 4,
      "metadata": {
        "id": "Ud4FG-EICNmO"
      },
      "outputs": [
        {
          "name": "stdout",
          "output_type": "stream",
          "text": [
            "[1, 2, ['a', 'b', 'c', 'w'], 4, 5]\n"
          ]
        }
      ],
      "source": [
        "y[2].append('w')\n",
        "print(y)"
      ]
    },
    {
      "cell_type": "code",
      "execution_count": 5,
      "metadata": {
        "id": "rjJ6TLbrCNmQ"
      },
      "outputs": [
        {
          "name": "stdout",
          "output_type": "stream",
          "text": [
            "[1, 2, ['a', 'b', 'c', 'w'], 4, 5]\n"
          ]
        }
      ],
      "source": [
        "print(x) # What is the result?"
      ]
    },
    {
      "attachments": {},
      "cell_type": "markdown",
      "metadata": {
        "id": "uZPqiDNbCNmR"
      },
      "source": [
        "In Python, all unique objects have an _identifier_ associated with them. You can query these."
      ]
    },
    {
      "cell_type": "code",
      "execution_count": 6,
      "metadata": {
        "id": "x3cqWW9xCNmR"
      },
      "outputs": [
        {
          "data": {
            "text/plain": [
              "(2297406674368, 2297406386816)"
            ]
          },
          "execution_count": 6,
          "metadata": {},
          "output_type": "execute_result"
        }
      ],
      "source": [
        "id(x), id(y)"
      ]
    },
    {
      "cell_type": "code",
      "execution_count": 7,
      "metadata": {
        "id": "brl4tnO1CNmS"
      },
      "outputs": [
        {
          "data": {
            "text/plain": [
              "(2297406674752, 2297406674752)"
            ]
          },
          "execution_count": 7,
          "metadata": {},
          "output_type": "execute_result"
        }
      ],
      "source": [
        "id(x[2]), id(y[2])"
      ]
    },
    {
      "attachments": {},
      "cell_type": "markdown",
      "metadata": {
        "id": "F7Wd2ahXCNmT"
      },
      "source": [
        "In this case, `x` and `y` are distinct objects, but `x[2]` and `y[2]` refer to the same object. When we \"copied\" `x[2]` into `y[2]`, we copied the `id(x[2])` rather than duplicating the entire object. This kind of copy is sometimes called a _shallow copy_."
      ]
    },
    {
      "attachments": {},
      "cell_type": "markdown",
      "metadata": {
        "id": "V6rGwPXeCNmT"
      },
      "source": [
        "Still not clear? Check out a Python Tutor version."
      ]
    },
    {
      "cell_type": "code",
      "execution_count": 8,
      "metadata": {
        "id": "8FHtWN6eCNmT"
      },
      "outputs": [
        {
          "data": {
            "text/html": [
              "\n",
              "<iframe width=\"1024\" height=\"350\" frameborder=\"0\" src=\"https://pythontutor.com/iframe-embed.html#code=x%20%3D%20%5B1,%202,%20%5B'a',%20'b',%20'c'%5D,%204,%205%5D%0Ay%20%3D%20x.copy%28%29%0Ay%5B2%5D.append%28'w'%29&codeDivHeight=400&codeDivWidth=350&cumulative=false&curInstr=0&heapPrimitives=nevernest&origin=opt-frontend.js&py=3&rawInputLstJSON=%5B%5D&textReferences=false\"> </iframe>\n"
            ],
            "text/plain": [
              "<IPython.core.display.HTML object>"
            ]
          },
          "metadata": {},
          "output_type": "display_data"
        }
      ],
      "source": [
        "%%html\n",
        "\n",
        "<iframe width=\"1024\" height=\"350\" frameborder=\"0\" src=\"https://pythontutor.com/iframe-embed.html#code=x%20%3D%20%5B1,%202,%20%5B'a',%20'b',%20'c'%5D,%204,%205%5D%0Ay%20%3D%20x.copy%28%29%0Ay%5B2%5D.append%28'w'%29&codeDivHeight=400&codeDivWidth=350&cumulative=false&curInstr=0&heapPrimitives=nevernest&origin=opt-frontend.js&py=3&rawInputLstJSON=%5B%5D&textReferences=false\"> </iframe>"
      ]
    },
    {
      "attachments": {},
      "cell_type": "markdown",
      "metadata": {
        "id": "U86CHwidCNmU"
      },
      "source": [
        "**What if you really need a copy for a nested data structure?** The preceding example illustrates that `.copy()` performs a _shallow_ copy. But what if you want a non-shallow, or _deep_, copy? There's a module for that!"
      ]
    },
    {
      "cell_type": "code",
      "execution_count": 9,
      "metadata": {
        "id": "TvzdnyOuCNmV"
      },
      "outputs": [
        {
          "name": "stdout",
          "output_type": "stream",
          "text": [
            "x: [1, 2, ['a', 'b', 'c', 'w'], 4, 5]\n",
            "z: [1, 2, ['a', 'b', 'c', 'w'], 4, 5]\n",
            "=== appending ===\n",
            "x: [1, 2, ['a', 'b', 'c', 'w'], 4, 5]\n",
            "z: [1, 2, ['a', 'b', 'c', 'w', '@'], 4, 5]\n"
          ]
        }
      ],
      "source": [
        "from copy import deepcopy\n",
        "\n",
        "print('x:', x)\n",
        "z = deepcopy(x)\n",
        "print('z:', z)\n",
        "\n",
        "print('=== appending ===')\n",
        "z[2].append('@')\n",
        "print('x:', x)\n",
        "print('z:', z)"
      ]
    },
    {
      "attachments": {},
      "cell_type": "markdown",
      "metadata": {
        "id": "PgmiuBINCNmV"
      },
      "source": [
        "**Exercise** (taken from Notebook 1). Let `L` be a list of strings, e.g.,\n",
        "\n",
        "```python\n",
        "L = ['abc', 'def', 'ghi']\n",
        "```\n",
        "\n",
        "Complete the function, `rev_str_cat_list(L)` so that it reverses the elements in the list and then concatenates these strings into a single string. It should not modify `L`.\n",
        "\n",
        "For instance, `rev_str_cat_list(L)` on the above list would return,\n",
        "\n",
        "```python\n",
        "'ghidefabc'\n",
        "```"
      ]
    },
    {
      "attachments": {},
      "cell_type": "markdown",
      "metadata": {
        "id": "2lxRDe3LCNmV"
      },
      "source": [
        "Your friend supplies the following solution. It appears to produce the correct result, but is wrong. Why?"
      ]
    },
    {
      "cell_type": "code",
      "execution_count": 10,
      "metadata": {
        "id": "fxhxGFYSCNmW"
      },
      "outputs": [
        {
          "name": "stdout",
          "output_type": "stream",
          "text": [
            "'ghidefabc'\n"
          ]
        }
      ],
      "source": [
        "def rev_str_cat_list(L):\n",
        "    L.reverse()\n",
        "    return ''.join(L)\n",
        "\n",
        "L = ['abc', 'def', 'ghi']\n",
        "result = rev_str_cat_list(L)\n",
        "print(repr(result)) # So right, and yet so wrong. Why?"
      ]
    },
    {
      "cell_type": "code",
      "execution_count": 12,
      "metadata": {},
      "outputs": [
        {
          "name": "stdout",
          "output_type": "stream",
          "text": [
            "['ghi', 'def', 'abc']\n"
          ]
        }
      ],
      "source": [
        "#my notes\n",
        "## issue with above is that is modifies the original list\n",
        "\n"
      ]
    },
    {
      "attachments": {},
      "cell_type": "markdown",
      "metadata": {
        "id": "c1oyxzTOCNmW"
      },
      "source": [
        "> _Answer:_ This function is considered _incorrect_ because it modifies its input. Try `print(L)` after the call to `rev_str_cat_list(L)` to verify this claim.\n",
        ">\n",
        "> In this case, the exercise stipulates that the function should not modify its input.\n",
        "\n",
        "#### However, you should always _assume_ that convention unless told otherwise. Why? Remember that you are writing code for others. By adhering to the convention that functions do not modify their inputs, it makes it easier for others to reason about the behavior of your code.\n",
        "\n",
        "\n",
        "#### When we want your function to modify its input, we will tell you to do so.\n",
        "\n",
        "### This is really important throughout the course!!!"
      ]
    },
    {
      "attachments": {},
      "cell_type": "markdown",
      "metadata": {
        "id": "CXj9rMhiCNmW"
      },
      "source": [
        "## Summary ##\n",
        "\n",
        "1. Every distinct object in Python has an ID, which you can see by `id(x)` for the object `x`."
      ]
    },
    {
      "attachments": {},
      "cell_type": "markdown",
      "metadata": {
        "id": "x-_TmJVWCNmY"
      },
      "source": [
        "2. An assignment _copies_ these IDs. That is, in the assignment `y = x`, it will be the case that `id(y)` equals `id(x)`."
      ]
    },
    {
      "attachments": {},
      "cell_type": "markdown",
      "metadata": {
        "id": "p4qTuuLtCNmY"
      },
      "source": [
        "3. Shallow vs. deep copies: An object's `.copy()` function will perform a shallow copy. For deep copies, use `deepcopy` from the `copy` module."
      ]
    },
    {
      "cell_type": "code",
      "execution_count": 17,
      "metadata": {},
      "outputs": [
        {
          "name": "stdout",
          "output_type": "stream",
          "text": [
            "1.49 ms ± 55.7 µs per loop (mean ± std. dev. of 7 runs, 1,000 loops each)\n",
            "100,000 vs. 99,992\n",
            "1.5 ms ± 40.5 µs per loop (mean ± std. dev. of 7 runs, 1,000 loops each)\n",
            "36.1 ns ± 1.41 ns per loop (mean ± std. dev. of 7 runs, 10,000,000 loops each)\n"
          ]
        }
      ],
      "source": [
        "from random import randint\n",
        "\n",
        "n = 100_000\n",
        "L = [randint(0,1_000_000_000) for _ in range(n)]\n",
        "\n",
        "# check to see if 50 is in the list\n",
        "\n",
        "%timeit 50 in L  #%timeit function gives you info on time to execute a code\n",
        "\n",
        "\n",
        "# store these values in a set and compare\n",
        "S = set(L)\n",
        "print(f'{len(L):,} vs. {len(S):,}')\n",
        "\n",
        "%timeit 50 in L\n",
        "%timeit 50 in S\n",
        "\n",
        "#using a set is a lot faster"
      ]
    },
    {
      "cell_type": "code",
      "execution_count": 18,
      "metadata": {},
      "outputs": [
        {
          "name": "stdout",
          "output_type": "stream",
          "text": [
            "56.3 ns ± 3.18 ns per loop (mean ± std. dev. of 7 runs, 10,000,000 loops each)\n"
          ]
        }
      ],
      "source": [
        "D = {k: True for k in L}\n",
        "%timeit 50 in D\n",
        "\n",
        "#time is similar to a set\n",
        "\n",
        "## Lists are slower than both dicts and sets"
      ]
    },
    {
      "cell_type": "code",
      "execution_count": null,
      "metadata": {},
      "outputs": [],
      "source": [
        "#Immutability\n",
        "\n",
        "s = 'abc'\n",
        "print(s[1])\n",
        "s[2] =\"x\"\n",
        "\n",
        "# the string is immutable"
      ]
    },
    {
      "cell_type": "code",
      "execution_count": null,
      "metadata": {},
      "outputs": [],
      "source": [
        "t = (1,\"a\",3)\n",
        "t[2] = \"f\"\n",
        "\n",
        "# this is a set, it is immutable"
      ]
    },
    {
      "cell_type": "code",
      "execution_count": null,
      "metadata": {},
      "outputs": [],
      "source": [
        "immutable_in_quotes = (1,2,3)"
      ]
    }
  ],
  "metadata": {
    "celltoolbar": "Slideshow",
    "colab": {
      "provenance": []
    },
    "kernelspec": {
      "display_name": "Python 3 (ipykernel)",
      "language": "python",
      "name": "python3"
    },
    "language_info": {
      "codemirror_mode": {
        "name": "ipython",
        "version": 3
      },
      "file_extension": ".py",
      "mimetype": "text/x-python",
      "name": "python",
      "nbconvert_exporter": "python",
      "pygments_lexer": "ipython3",
      "version": "3.10.2"
    },
    "toc": {
      "base_numbering": 1,
      "nav_menu": {},
      "number_sections": true,
      "sideBar": true,
      "skip_h1_title": false,
      "title_cell": "Table of Contents",
      "title_sidebar": "Contents",
      "toc_cell": false,
      "toc_position": {},
      "toc_section_display": true,
      "toc_window_display": false
    }
  },
  "nbformat": 4,
  "nbformat_minor": 0
}
