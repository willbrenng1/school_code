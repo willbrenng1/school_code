{
 "cells": [
  {
   "cell_type": "code",
   "execution_count": 1,
   "metadata": {},
   "outputs": [],
   "source": [
    "# Cumulative sum example\n",
    "\n",
    "x = [5,3,-4,20,2,9,0,-1]\n",
    "\n"
   ]
  },
  {
   "cell_type": "code",
   "execution_count": 4,
   "metadata": {},
   "outputs": [
    {
     "name": "stdout",
     "output_type": "stream",
     "text": [
      "35\n"
     ]
    }
   ],
   "source": [
    "i = 5\n",
    "s = 0 #running sum\n",
    "\n",
    "for k in range(i+1): # range(n) = 0,1,2,...,n-1\n",
    "    s+= x[k]\n",
    "print(s)\n"
   ]
  },
  {
   "cell_type": "code",
   "execution_count": 6,
   "metadata": {},
   "outputs": [
    {
     "name": "stdout",
     "output_type": "stream",
     "text": [
      "5\n",
      "8\n",
      "4\n",
      "24\n",
      "26\n",
      "35\n",
      "35\n",
      "34\n"
     ]
    }
   ],
   "source": [
    "for i in range(len(x)):\n",
    "    s = 0\n",
    "    for k in range(i+1):\n",
    "        s+=x[k]\n",
    "    print(s)"
   ]
  },
  {
   "cell_type": "code",
   "execution_count": 9,
   "metadata": {},
   "outputs": [
    {
     "data": {
      "text/plain": [
       "[5, 8, 4, 24, 26, 35, 35, 34]"
      ]
     },
     "execution_count": 9,
     "metadata": {},
     "output_type": "execute_result"
    }
   ],
   "source": [
    "def sumlative_sum_v0(x):\n",
    "    y =[]\n",
    "    for i in range(len(x)): # this loop does n amount of steps\n",
    "        s = 0\n",
    "        for k in range(i+1): # this loop also does n amount of steps\n",
    "            s+=x[k]\n",
    "        y.append(s)\n",
    "    return y\n",
    "\n",
    "sumlative_sum_v0(x)\n",
    "\n",
    "# this is hard for readability because of the nested statements\n",
    "# for loops increase time for running, itterating over "
   ]
  },
  {
   "cell_type": "code",
   "execution_count": null,
   "metadata": {},
   "outputs": [],
   "source": [
    "def cumulative_sum_v0(x):\n",
    "    # Input: 'x = x[0],x[1]...,x[n-1]\n",
    "    y =[]\n",
    "    for i in range(len(x)): #y[i] = x[0]+x[1]...+x[i]\n",
    "\n",
    "    "
   ]
  },
  {
   "cell_type": "code",
   "execution_count": null,
   "metadata": {},
   "outputs": [],
   "source": [
    "from itertools import accumulate\n",
    "prices = [13,11,10,8,5,8,9,6,7,7,10,7,4,3]\n",
    "\n",
    "\n",
    "x=0\n",
    "for p in prices:\n",
    "    l = accumulate(p)\n",
    "return l"
   ]
  },
  {
   "cell_type": "code",
   "execution_count": 13,
   "metadata": {},
   "outputs": [
    {
     "name": "stdout",
     "output_type": "stream",
     "text": [
      "-0.9236265048742661\n",
      "-2.0\n"
     ]
    }
   ],
   "source": [
    "def ceiling_fraction(a, b):\n",
    "    assert is_number(a) and a >= 0\n",
    "    assert is_number(b) and b > 0\n",
    "    return int(-1*a//b*-1)\n",
    "\n",
    "\n",
    "a= (-1*.9236265048742661)\n",
    "print(a)\n",
    "print(a//.6412371180475167)"
   ]
  },
  {
   "cell_type": "code",
   "execution_count": 66,
   "metadata": {},
   "outputs": [
    {
     "name": "stdout",
     "output_type": "stream",
     "text": [
      "[0, 1, 2, 3, 4, 5]\n",
      "0\n",
      "1\n",
      "4\n",
      "2\n",
      "5\n",
      "6\n",
      "[(0, 1), (1, 2.3), (3, 3.3), (3, 2.2), (2, 1.1), (4, 4.4), (5, 1.1)]\n",
      "[0, 1, 2, 3, 4, 5]\n",
      "3\n"
     ]
    }
   ],
   "source": [
    "my_dict = {\"inds\":[0,1,3,3,2,4,5],\"vals\":[1,2.3,3.3,2.2,1.1,4.4,1.1]}\n",
    "\n",
    "\n",
    "n = [i for i in range(0,max(my_dict[\"inds\"])+1)]\n",
    "\n",
    "print(n)\n",
    "\n",
    "new_dict = {\"inds\":n}\n",
    "\n",
    "for e in new_dict[\"inds\"]:\n",
    "    #if e in my_dict[\"inds\"]:\n",
    "    print(my_dict[\"inds\"].index(e))\n",
    "\n",
    "#for index,value in enumerate(my_dict[\"inds\"]):\n",
    "    #print(index,value)\n",
    "key_values = (list(zip(my_dict[\"inds\"],my_dict[\"vals\"])))\n",
    "print(key_values)\n",
    "unique_index = list(set(my_dict[\"inds\"]))\n",
    "\n",
    "print(unique_index)\n",
    "#print(max(unique_index))\n",
    "#print\n",
    "\n",
    "print(key_values[2][0])\n",
    "\n",
    "\n"
   ]
  },
  {
   "cell_type": "code",
   "execution_count": 89,
   "metadata": {},
   "outputs": [
    {
     "name": "stdout",
     "output_type": "stream",
     "text": [
      "[0, 1, 2, 3, 4, 5]\n",
      "[(0, 1), (1, 2.3), (3, 3.3), (3, 2.2), (3, 1.1), (4, 4.4), (5, 1.1)]\n",
      "1\n",
      "2.3\n",
      "3.3\n",
      "2.2\n",
      "1.1\n",
      "4.4\n",
      "1.1\n"
     ]
    }
   ],
   "source": [
    "my_dict = {\"inds\":[0,1,3,3,3,4,5],\"vals\":[1,2.3,3.3,2.2,1.1,4.4,1.1]}\n",
    "n = [i for i in range(0,max(my_dict[\"inds\"])+1)]\n",
    "print(n)\n",
    "key_values = (list(zip(my_dict[\"inds\"],my_dict[\"vals\"])))\n",
    "print(key_values)\n",
    "\n",
    "#if n[0]==key_values[0][0]:\n",
    "  #  print(key_values[0][1])\n",
    "#for e in key_values:\n",
    "    #print(e[1])\n",
    "\n",
    "\n",
    "for i in n:\n",
    "    for e in key_values:\n",
    "        if i == e[0]:\n",
    "            print(e[1])\n",
    "\n"
   ]
  },
  {
   "cell_type": "code",
   "execution_count": 88,
   "metadata": {},
   "outputs": [
    {
     "name": "stdout",
     "output_type": "stream",
     "text": [
      "0\n",
      "1\n",
      "2\n",
      "3\n",
      "4\n",
      "5\n"
     ]
    }
   ],
   "source": [
    "my_dict = {\"inds\":[0,1,3,3,2,4,5],\"vals\":[1,2.3,3.3,2.2,1.1,4.4,1.1]}\n",
    "n = [i for i in range(0,max(my_dict[\"inds\"])+1)]\n",
    "new_dict = {\"inds\":n,\"vals\":[]}\n",
    "\n",
    "for inds in new_dict[\"inds\"]:\n",
    "    print(new_dict[\"inds\"][inds])"
   ]
  },
  {
   "cell_type": "code",
   "execution_count": 166,
   "metadata": {},
   "outputs": [
    {
     "name": "stdout",
     "output_type": "stream",
     "text": [
      "[9, 1]\n"
     ]
    }
   ],
   "source": [
    "d1 = {'inds': [9, 9, 1, 9, 8, 1], 'vals': [0.28, 0.84, 0.71, 0.03, 0.04, 0.75]}\n",
    "d2 = {'inds': [0, 9, 9, 1, 3, 3, 9], 'vals': [0.26, 0.06, 0.46, 0.58, 0.42, 0.21, 0.53, 0.76]}\n",
    "\n",
    "common=list(set([e for e in d1[\"inds\"] if e in d2[\"inds\"]]))\n",
    "\n",
    "print(common)\n",
    "\n",
    "\n"
   ]
  },
  {
   "cell_type": "code",
   "execution_count": 110,
   "metadata": {},
   "outputs": [
    {
     "name": "stdout",
     "output_type": "stream",
     "text": [
      "['Thorny', 'Mac', 'Farva', 'Rabbit', 'Ursula', 'Foster']\n"
     ]
    }
   ],
   "source": [
    "grades = [\n",
    "    # First line is descriptive header. Subsequent lines hold data\n",
    "    ['Student', 'Exam 1', 'Exam 2', 'Exam 3'],\n",
    "    ['Thorny', '100', '90', '80'],\n",
    "    ['Mac', '88', '99', '111'],\n",
    "    ['Farva', '45', '56', '67'],\n",
    "    ['Rabbit', '59', '61', '67'],\n",
    "    ['Ursula', '73', '79', '83'],\n",
    "    ['Foster', '89', '97', '101']\n",
    "]\n",
    "\n",
    "students = [e[0] for e in grades]\n",
    "students = students[1:]\n",
    "print(students)"
   ]
  },
  {
   "cell_type": "code",
   "execution_count": 116,
   "metadata": {},
   "outputs": [
    {
     "name": "stdout",
     "output_type": "stream",
     "text": [
      "['Exam 1', 'Exam 2', 'Exam 3']\n"
     ]
    }
   ],
   "source": [
    "grades = [\n",
    "    # First line is descriptive header. Subsequent lines hold data\n",
    "    ['Student', 'Exam 1', 'Exam 2', 'Exam 3'],\n",
    "    ['Thorny', '100', '90', '80'],\n",
    "    ['Mac', '88', '99', '111'],\n",
    "    ['Farva', '45', '56', '67'],\n",
    "    ['Rabbit', '59', '61', '67'],\n",
    "    ['Ursula', '73', '79', '83'],\n",
    "    ['Foster', '89', '97', '101']\n",
    "]\n",
    "\n",
    "grade = [e for e in grades[0]][1:]\n",
    "\n",
    "print(grade)"
   ]
  },
  {
   "cell_type": "code",
   "execution_count": 211,
   "metadata": {},
   "outputs": [
    {
     "name": "stdout",
     "output_type": "stream",
     "text": [
      "{'Thorny': [100, 90, 80], 'Mac': [88, 99, 111], 'Farva': [45, 56, 67], 'Rabbit': [59, 61, 67], 'Ursula': [73, 79, 83], 'Foster': [89, 97, 101]}\n"
     ]
    }
   ],
   "source": [
    "grades = [\n",
    "    # First line is descriptive header. Subsequent lines hold data\n",
    "    ['Student', 'Exam 1', 'Exam 2', 'Exam 3'],\n",
    "    ['Thorny', '100', '90', '80'],\n",
    "    ['Mac', '88', '99', '111'],\n",
    "    ['Farva', '45', '56', '67'],\n",
    "    ['Rabbit', '59', '61', '67'],\n",
    "    ['Ursula', '73', '79', '83'],\n",
    "    ['Foster', '89', '97', '101']]\n",
    "\n",
    "students = {e[0]:[] for e in grades[1:]}\n",
    "for e in grades[1:len(grades)]:\n",
    "    for i in e[1:len(e)]:\n",
    "        students[e[0]].append(int(i))\n",
    "\n",
    "\n",
    "\n"
   ]
  },
  {
   "cell_type": "code",
   "execution_count": null,
   "metadata": {},
   "outputs": [],
   "source": [
    "grades = [\n",
    "    # First line is descriptive header. Subsequent lines hold data\n",
    "    ['Student', 'Exam 1', 'Exam 2', 'Exam 3'],\n",
    "    ['Thorny', '100', '90', '80'],\n",
    "    ['Mac', '88', '99', '111'],\n",
    "    ['Farva', '45', '56', '67'],\n",
    "    ['Rabbit', '59', '61', '67'],\n",
    "    ['Ursula', '73', '79', '83'],\n",
    "    ['Foster', '89', '97', '101']]\n",
    "\n",
    "students = {e[0][2]:{e[1]} for i,e in enumerate(grades[:])}\n",
    "#print(students)\n",
    "\n",
    "for i, e in enumerate(grades):\n",
    "    print(grades[1:])\n",
    "\n",
    "#exams = {e:\"\" for e in grades[0][1:]}\n",
    "\n",
    "#exams\n",
    "\n",
    "\n",
    "#for i, element in enumerate(grades):\n",
    "   # print(grades[0][])\n",
    "\n",
    "\n",
    "\n",
    "    #names = {n for n in (i[0])}\n",
    "    #for x in (i[1:]):\n",
    "       # None\n",
    "    \n"
   ]
  },
  {
   "cell_type": "code",
   "execution_count": null,
   "metadata": {},
   "outputs": [],
   "source": [
    "import statistics\n",
    "grades = [\n",
    "    # First line is descriptive header. Subsequent lines hold data\n",
    "    ['Student', 'Exam 1', 'Exam 2', 'Exam 3'],\n",
    "    ['Thorny', '100', '90', '80'],\n",
    "    ['Mac', '88', '99', '111'],\n",
    "    ['Farva', '45', '56', '67'],\n",
    "    ['Rabbit', '59', '61', '67'],\n",
    "    ['Ursula', '73', '79', '83'],\n",
    "    ['Foster', '89', '97', '101']]\n",
    "\n",
    "name_list = []\n",
    "\n",
    "test_dict ={}\n",
    "for name in grades[1:]:\n",
    "    for i, e in enumerate(name):\n",
    "        print(e)\n",
    "        if i == 0:\n",
    "            name_list.append(e)\n",
    "\n",
    "\n",
    "\n",
    "print(name_list)\n",
    "students = {e[0][2]:{e[1]} for i,e in enumerate(grades[:])}"
   ]
  },
  {
   "cell_type": "code",
   "execution_count": null,
   "metadata": {},
   "outputs": [],
   "source": [
    "from statistics import mean\n",
    "grades = [\n",
    "    # First line is descriptive header. Subsequent lines hold data\n",
    "    ['Student', 'Exam 1', 'Exam 2', 'Exam 3'],\n",
    "    ['Thorny', '100', '90', '80'],\n",
    "    ['Mac', '88', '99', '111'],\n",
    "    ['Farva', '45', '56', '67'],\n",
    "    ['Rabbit', '59', '61', '67'],\n",
    "    ['Ursula', '73', '79', '83'],\n",
    "    ['Foster', '89', '97', '101']]\n",
    "\n",
    "test_dict = {e[0]: mean(e[1:]) for e in grades[1:]}\n",
    "\n",
    "print(test_dict)\n",
    "\n",
    "for key in test_dict:\n",
    "    print(key)\n",
    "    new_dict = {key:int(i)for i in test_dict[key]}\n",
    "        \n",
    "        #new_dict = { for n in }\n",
    "\n",
    "print(new_dict)"
   ]
  },
  {
   "cell_type": "code",
   "execution_count": 466,
   "metadata": {},
   "outputs": [
    {
     "name": "stdout",
     "output_type": "stream",
     "text": [
      "{'Thorny': [100, 90, 80], 'Mac': [88, 99, 111], 'Farva': [45, 56, 67], 'Rabbit': [59, 61, 67], 'Ursula': [73, 79, 83], 'Foster': [89, 97, 101]}\n"
     ]
    }
   ],
   "source": [
    "students = [e[0] for e in grades][1:]\n",
    "grade = [e for e in grades[0]][1:]\n",
    "\n",
    "\n",
    "test_dict = {names:grade for names in students }\n",
    "\n",
    "\n",
    "\n",
    "students = {e[0]: for e in grades[1:]}\n",
    "for e in grades[1:len(grades)]:\n",
    "    for i in e[1:len(e)]:\n",
    "        students[e[0]].append(int(i))\n",
    "print(students) "
   ]
  },
  {
   "cell_type": "code",
   "execution_count": null,
   "metadata": {},
   "outputs": [],
   "source": [
    "#students = {e[0]:{n:0 for e in grades[0][1:]} for n in grades[1:]}\n",
    "students = {e[0]: {grades[0][i]: int(e[i]) for i in range(1, len(e))} for e in grades[1:]}\n",
    "\n",
    "#for i in range(1,len(e)):\n",
    "    #print(i)\n",
    "        \n",
    "#for e in grades[1:]:\n",
    "    #print(e[0])\n",
    "\n",
    "#print(grades[1:])\n",
    "\n",
    "for e in grades[1:]:\n",
    "    print(e)\n",
    "    for i in range(1,len(e)):\n",
    "        print(i)\n",
    "        #print(e[1])\n",
    "\n",
    "\n",
    "\n",
    "#print(grades[0])\n",
    "\n",
    "#print(students)\n",
    "\n",
    "grades = [\n",
    "    # First line is descriptive header. Subsequent lines hold data\n",
    "    ['Student', 'Exam 1', 'Exam 2', 'Exam 3'],\n",
    "    ['Thorny', '100', '90', '80'],\n",
    "    ['Mac', '88', '99', '111'],\n",
    "    ['Farva', '45', '56', '67'],\n",
    "    ['Rabbit', '59', '61', '67'],\n",
    "    ['Ursula', '73', '79', '83'],\n",
    "    ['Foster', '89', '97', '101']]"
   ]
  },
  {
   "cell_type": "code",
   "execution_count": 605,
   "metadata": {},
   "outputs": [
    {
     "name": "stdout",
     "output_type": "stream",
     "text": [
      "['Mac', 'Foster', 'Thorny', 'Ursula', 'Rabbit', 'Farva']\n"
     ]
    }
   ],
   "source": [
    "grades = [\n",
    "    # First line is descriptive header. Subsequent lines hold data\n",
    "    ['Student', 'Exam 1', 'Exam 2', 'Exam 3'],\n",
    "    ['Thorny', '100', '90', '80'],\n",
    "    ['Mac', '88', '99', '111'],\n",
    "    ['Farva', '45', '56', '67'],\n",
    "    ['Rabbit', '59', '61', '67'],\n",
    "    ['Ursula', '73', '79', '83'],\n",
    "    ['Foster', '89', '97', '101']]\n",
    "\n",
    "\n",
    "avg_dict = {e[0]:mean([(int(e[i])) for i in range(1,len(e))]) for e in grades[1:]}\n",
    "\n",
    "#sort =  sorted(avg_dict.items(), key = lambda x:x[-1],reverse = True)\n",
    "\n",
    "sort = [name for name, score in sorted(avg_dict.items(),  key = lambda x:x[1],reverse = True)]\n",
    "\n",
    "final_sort = [i[0] for i in sort]\n",
    "print(sort)"
   ]
  },
  {
   "cell_type": "code",
   "execution_count": 576,
   "metadata": {},
   "outputs": [
    {
     "name": "stdout",
     "output_type": "stream",
     "text": [
      "{'Exam 1': [100, 88, 45, 59, 73, 89], 'Exam 2': [90, 99, 56, 61, 79, 97], 'Exam 3': [80, 111, 67, 67, 83, 101]}\n"
     ]
    }
   ],
   "source": [
    "grades = [\n",
    "    # First line is descriptive header. Subsequent lines hold data\n",
    "    ['Student', 'Exam 1', 'Exam 2', 'Exam 3'],\n",
    "    ['Thorny', '100', '90', '80'],\n",
    "    ['Mac', '88', '99', '111'],\n",
    "    ['Farva', '45', '56', '67'],\n",
    "    ['Rabbit', '59', '61', '67'],\n",
    "    ['Ursula', '73', '79', '83'],\n",
    "    ['Foster', '89', '97', '101']]\n",
    "\n",
    "\n",
    "#exam_dict = {e:[[[g][i] for g in grades[1:]] for i in range(1,len(e))] for e in grades[0][1:]}\n",
    "\n",
    "exam_dict = {e:[int(g[i+1]) for g in grades[1:]] for i ,e in enumerate(grades[0][1:])}\n",
    "\n",
    "#exam_dict = {e for e in grades[1:]}\n",
    "\n",
    "#for g in grades[1:]\n",
    "#for i in range(1,len(e))]\n",
    "\n",
    "print(exam_dict)"
   ]
  },
  {
   "cell_type": "code",
   "execution_count": 57,
   "metadata": {},
   "outputs": [
    {
     "ename": "NameError",
     "evalue": "name 'mean' is not defined",
     "output_type": "error",
     "traceback": [
      "\u001b[1;31m---------------------------------------------------------------------------\u001b[0m",
      "\u001b[1;31mNameError\u001b[0m                                 Traceback (most recent call last)",
      "Cell \u001b[1;32mIn[57], line 12\u001b[0m\n\u001b[0;32m      1\u001b[0m grades \u001b[39m=\u001b[39m [\n\u001b[0;32m      2\u001b[0m     \u001b[39m# First line is descriptive header. Subsequent lines hold data\u001b[39;00m\n\u001b[0;32m      3\u001b[0m     [\u001b[39m'\u001b[39m\u001b[39mStudent\u001b[39m\u001b[39m'\u001b[39m, \u001b[39m'\u001b[39m\u001b[39mExam 1\u001b[39m\u001b[39m'\u001b[39m, \u001b[39m'\u001b[39m\u001b[39mExam 2\u001b[39m\u001b[39m'\u001b[39m, \u001b[39m'\u001b[39m\u001b[39mExam 3\u001b[39m\u001b[39m'\u001b[39m],\n\u001b[1;32m   (...)\u001b[0m\n\u001b[0;32m      8\u001b[0m     [\u001b[39m'\u001b[39m\u001b[39mUrsula\u001b[39m\u001b[39m'\u001b[39m, \u001b[39m'\u001b[39m\u001b[39m73\u001b[39m\u001b[39m'\u001b[39m, \u001b[39m'\u001b[39m\u001b[39m79\u001b[39m\u001b[39m'\u001b[39m, \u001b[39m'\u001b[39m\u001b[39m83\u001b[39m\u001b[39m'\u001b[39m],\n\u001b[0;32m      9\u001b[0m     [\u001b[39m'\u001b[39m\u001b[39mFoster\u001b[39m\u001b[39m'\u001b[39m, \u001b[39m'\u001b[39m\u001b[39m89\u001b[39m\u001b[39m'\u001b[39m, \u001b[39m'\u001b[39m\u001b[39m97\u001b[39m\u001b[39m'\u001b[39m, \u001b[39m'\u001b[39m\u001b[39m101\u001b[39m\u001b[39m'\u001b[39m]]\n\u001b[1;32m---> 12\u001b[0m avg_test \u001b[39m=\u001b[39m {e:mean([(\u001b[39mint\u001b[39m(g[i\u001b[39m+\u001b[39m\u001b[39m1\u001b[39m])) \u001b[39mfor\u001b[39;00m g \u001b[39min\u001b[39;00m grades[\u001b[39m1\u001b[39m:]]) \u001b[39mfor\u001b[39;00m i,e \u001b[39min\u001b[39;00m \u001b[39menumerate\u001b[39m(grades[\u001b[39m0\u001b[39m][\u001b[39m1\u001b[39m:])}\n\u001b[0;32m     14\u001b[0m \u001b[39mprint\u001b[39m(avg_test)\n",
      "Cell \u001b[1;32mIn[57], line 12\u001b[0m, in \u001b[0;36m<dictcomp>\u001b[1;34m(.0)\u001b[0m\n\u001b[0;32m      1\u001b[0m grades \u001b[39m=\u001b[39m [\n\u001b[0;32m      2\u001b[0m     \u001b[39m# First line is descriptive header. Subsequent lines hold data\u001b[39;00m\n\u001b[0;32m      3\u001b[0m     [\u001b[39m'\u001b[39m\u001b[39mStudent\u001b[39m\u001b[39m'\u001b[39m, \u001b[39m'\u001b[39m\u001b[39mExam 1\u001b[39m\u001b[39m'\u001b[39m, \u001b[39m'\u001b[39m\u001b[39mExam 2\u001b[39m\u001b[39m'\u001b[39m, \u001b[39m'\u001b[39m\u001b[39mExam 3\u001b[39m\u001b[39m'\u001b[39m],\n\u001b[1;32m   (...)\u001b[0m\n\u001b[0;32m      8\u001b[0m     [\u001b[39m'\u001b[39m\u001b[39mUrsula\u001b[39m\u001b[39m'\u001b[39m, \u001b[39m'\u001b[39m\u001b[39m73\u001b[39m\u001b[39m'\u001b[39m, \u001b[39m'\u001b[39m\u001b[39m79\u001b[39m\u001b[39m'\u001b[39m, \u001b[39m'\u001b[39m\u001b[39m83\u001b[39m\u001b[39m'\u001b[39m],\n\u001b[0;32m      9\u001b[0m     [\u001b[39m'\u001b[39m\u001b[39mFoster\u001b[39m\u001b[39m'\u001b[39m, \u001b[39m'\u001b[39m\u001b[39m89\u001b[39m\u001b[39m'\u001b[39m, \u001b[39m'\u001b[39m\u001b[39m97\u001b[39m\u001b[39m'\u001b[39m, \u001b[39m'\u001b[39m\u001b[39m101\u001b[39m\u001b[39m'\u001b[39m]]\n\u001b[1;32m---> 12\u001b[0m avg_test \u001b[39m=\u001b[39m {e:mean([(\u001b[39mint\u001b[39m(g[i\u001b[39m+\u001b[39m\u001b[39m1\u001b[39m])) \u001b[39mfor\u001b[39;00m g \u001b[39min\u001b[39;00m grades[\u001b[39m1\u001b[39m:]]) \u001b[39mfor\u001b[39;00m i,e \u001b[39min\u001b[39;00m \u001b[39menumerate\u001b[39m(grades[\u001b[39m0\u001b[39m][\u001b[39m1\u001b[39m:])}\n\u001b[0;32m     14\u001b[0m \u001b[39mprint\u001b[39m(avg_test)\n",
      "\u001b[1;31mNameError\u001b[0m: name 'mean' is not defined"
     ]
    }
   ],
   "source": [
    "grades = [\n",
    "    # First line is descriptive header. Subsequent lines hold data\n",
    "    ['Student', 'Exam 1', 'Exam 2', 'Exam 3'],\n",
    "    ['Thorny', '100', '90', '80'],\n",
    "    ['Mac', '88', '99', '111'],\n",
    "    ['Farva', '45', '56', '67'],\n",
    "    ['Rabbit', '59', '61', '67'],\n",
    "    ['Ursula', '73', '79', '83'],\n",
    "    ['Foster', '89', '97', '101']]\n",
    "\n",
    "\n",
    "avg_test = {e:mean([(int(g[i+1])) for g in grades[1:]]) for i,e in enumerate(grades[0][1:])}\n",
    "\n",
    "print(avg_test)"
   ]
  },
  {
   "attachments": {},
   "cell_type": "markdown",
   "metadata": {},
   "source": [
    "Repeated indices. Consider the compressed vector data structure, d, in the preceding exercise, which stores a list of indices (d['inds']) and a list of values (d['vals']).\n",
    "\n",
    "Suppose we allow duplicate indices, possibly with different values. For example:\n",
    "\n",
    "    d['inds'] == [0,   3,   7,   3,   3,   5, 1]\n",
    "    d['vals'] == [1.0, 2.0, 3.0, 4.0, 5.0, 6.0, 7.0]\n",
    "In this case, the index 3 appears three times. (Also note that the indices d['ind'] need not appear in sorted order.)\n",
    "\n",
    "Let's adopt the convention that when there are repeated indices, the \"true\" value there is the sum of the individual values. In other words, the true vector corresponding to this example of d would be:\n",
    "\n",
    "    # ind:  0    1    2    3*    4    5    6    7"
   ]
  },
  {
   "cell_type": "code",
   "execution_count": 156,
   "metadata": {},
   "outputs": [
    {
     "name": "stdout",
     "output_type": "stream",
     "text": [
      "[0, 1, 2, 3, 4, 5, 6, 7]\n",
      "[(0, 1.0), (3, 2.0), (7, 3.0), (3, 4.0), (3, 5.0), (5, 6.0), (1, 7.0)]\n"
     ]
    }
   ],
   "source": [
    "my_dict = {\"inds\": [0,   3,   7,   3,   3,   5, 1], \"vals\":[1.0, 2.0, 3.0, 4.0, 5.0, 6.0, 7.0]}\n",
    "\n",
    "unique_ids = sorted([i for i in range(0,len(my_dict[\"inds\"])+1)])\n",
    "\n",
    "id_test = [(e,my_dict[\"vals\"][i]) for i,e in enumerate(my_dict[\"inds\"])]\n",
    "\n",
    "#print(id_test)\n",
    "#for e in unique_ids:\n",
    "   # print(id_test[e][0])\n",
    "\n",
    "#for i in my_dict[\"inds\"]:\n",
    "  #  print(i)\n",
    "#print(unique_ids)\n",
    "\n",
    "#for i in unique_ids:\n",
    "  #  for e in id_test:\n",
    "       # if i == e[0]:\n",
    "            #print(e[0])\n",
    "\n",
    "\n",
    "x = [i for i,e in enumerate(my_dict[\"inds\"])]\n",
    "\n",
    "print(unique_ids)\n",
    "print(id_test)"
   ]
  },
  {
   "cell_type": "code",
   "execution_count": 169,
   "metadata": {},
   "outputs": [
    {
     "ename": "IndentationError",
     "evalue": "unexpected indent (787140367.py, line 7)",
     "output_type": "error",
     "traceback": [
      "\u001b[1;36m  Cell \u001b[1;32mIn[169], line 7\u001b[1;36m\u001b[0m\n\u001b[1;33m    if n is None:\u001b[0m\n\u001b[1;37m    ^\u001b[0m\n\u001b[1;31mIndentationError\u001b[0m\u001b[1;31m:\u001b[0m unexpected indent\n"
     ]
    }
   ],
   "source": [
    "my_dict = {\"inds\": [0, 3, 7, 3, 3, 5, 1], \"vals\":[1.0, 2.0, 3.0, 4.0, 5.0, 6.0, 7.0]}\n",
    "\n",
    "unique_ids\n",
    "\n",
    "\n",
    "i_max = max(my_dict['inds']) if my_dict['inds'] else -1\n",
    "    if n is None:\n",
    "        n = i_max+1\n",
    "    else:\n",
    "        assert n > i_max, \"Bad value for full vector length\"    \n",
    "print(i_max)\n",
    "\n",
    "unique_ids = sorted([i for i in range(0,max(my_dict[\"inds\"])+1)])\n",
    "\n",
    "id_test = [(e,my_dict[\"vals\"][i]) for i,e in enumerate(my_dict[\"inds\"])]\n",
    "\n",
    "x = [sum([n[1] for n in id_test if e == n[0]]) for e in unique_ids]\n",
    "\n",
    "new_dict = {\"inds\":unique_ids,\"vals\":x}\n",
    "print(new_dict)"
   ]
  },
  {
   "cell_type": "code",
   "execution_count": 223,
   "metadata": {},
   "outputs": [
    {
     "data": {
      "text/plain": [
       "{'inds': [0, 1, 2, 3, 4, 5, 6, 7, 8, 9],\n",
       " 'vals': [1.0, 7.0, 0, 11.0, 0, 6.0, 0, 3.0, 0, 0]}"
      ]
     },
     "execution_count": 223,
     "metadata": {},
     "output_type": "execute_result"
    }
   ],
   "source": [
    "def decompress_vector(d, n=None):    \n",
    "    assert type(d) is dict and 'inds' in d and 'vals' in d, \"Not a dictionary or missing keys\"\n",
    "    assert type(d['inds']) is list and type(d['vals']) is list, \"Not a list\"\n",
    "    assert len(d['inds']) == len(d['vals']), \"Length mismatch\"\n",
    "    i_max = max(d['inds']) if d['inds'] else -1\n",
    "    if n is None:\n",
    "        n = i_max+1\n",
    "    else:\n",
    "        assert n > i_max, \"Bad value for full vector length\"\n",
    "\n",
    "\n",
    "    if n == max(d[\"inds\"])+1:\n",
    "        unique_ids = sorted([i for i in range(0,n)])\n",
    "        id_test = [(e,d[\"vals\"][i]) for i,e in enumerate(d[\"inds\"])]\n",
    "        z = [sum([n[1] for n in id_test if e == n[0]]) for e in unique_ids]\n",
    "        new_dict = {\"inds\":unique_ids,\"vals\":z}\n",
    "        return(new_dict)\n",
    "    else:\n",
    "        unique_ids = sorted([i for i in range(0,n+1)])\n",
    "        id_test = [(e,d[\"vals\"][i]) for i,e in enumerate(d[\"inds\"])]\n",
    "        z = [sum([n[1] for n in id_test if e == n[0]]) for e in unique_ids]\n",
    "        new_dict = {\"inds\":unique_ids,\"vals\":z}\n",
    "        return(new_dict)\n",
    "\n",
    "decompress_vector(my_dict,9)\n"
   ]
  },
  {
   "cell_type": "code",
   "execution_count": 251,
   "metadata": {},
   "outputs": [
    {
     "data": {
      "text/plain": [
       "{'inds': [0, 1, 2, 3, 4, 5, 6, 7, 8, 9, 10, 11, 12],\n",
       " 'vals': [1.0, 0, 0, 11.0, 0, 6.0, 0, 3.0, 0, 0, 0, 0, 7.0]}"
      ]
     },
     "execution_count": 251,
     "metadata": {},
     "output_type": "execute_result"
    }
   ],
   "source": [
    "my_dict = {\"inds\": [0, 3, 7, 3, 3, 5, 12], \"vals\":[1.0, 2.0, 3.0, 4.0, 5.0, 6.0, 7.0]}\n",
    "\n",
    "def decompress_vector(d, n=None):    \n",
    "    assert type(d) is dict and 'inds' in d and 'vals' in d, \"Not a dictionary or missing keys\"\n",
    "    assert type(d['inds']) is list and type(d['vals']) is list, \"Not a list\"\n",
    "    assert len(d['inds']) == len(d['vals']), \"Length mismatch\"\n",
    "    i_max = max(d['inds']) if d['inds'] else -1\n",
    "    if n is None:\n",
    "        n = i_max+1\n",
    "    else:\n",
    "        assert n > i_max, \"Bad value for full vector length\"\n",
    "\n",
    "\n",
    "\n",
    "    unique_ids = ([i for i in range(0,n)])\n",
    "    id_test = [(e,d[\"vals\"][i]) for i,e in enumerate(d[\"inds\"])]\n",
    "    z = [sum([n[1] for n in id_test if e == n[0]]) for e in unique_ids]\n",
    "    new_dict = {\"inds\":unique_ids,\"vals\":z}\n",
    "    return(new_dict)\n",
    "\n",
    "decompress_vector(my_dict)"
   ]
  },
  {
   "cell_type": "code",
   "execution_count": null,
   "metadata": {},
   "outputs": [],
   "source": [
    "def compress_vector(d,n=None)"
   ]
  }
 ],
 "metadata": {
  "kernelspec": {
   "display_name": "Python 3",
   "language": "python",
   "name": "python3"
  },
  "language_info": {
   "codemirror_mode": {
    "name": "ipython",
    "version": 3
   },
   "file_extension": ".py",
   "mimetype": "text/x-python",
   "name": "python",
   "nbconvert_exporter": "python",
   "pygments_lexer": "ipython3",
   "version": "3.10.2"
  },
  "orig_nbformat": 4
 },
 "nbformat": 4,
 "nbformat_minor": 2
}
