{
  "cells": [
    {
      "cell_type": "markdown",
      "id": "c07401a0",
      "metadata": {
        "id": "c07401a0"
      },
      "source": [
        "_Main topics covered during today's session:_\n",
        "\n",
        "This NB:\n",
        "\n",
        "1. **NBA Data sample exercises**\n",
        "\n",
        "Next NB:\n",
        "\n",
        "1. **Higher order functions**\n",
        "2. **Slicing**\n",
        "3. **2 Ways of computing a solution (plus a bonus method for take home)**"
      ]
    },
    {
      "cell_type": "code",
      "execution_count": 1,
      "id": "hIBZiUyzZVls",
      "metadata": {
        "colab": {
          "base_uri": "https://localhost:8080/"
        },
        "id": "hIBZiUyzZVls",
        "outputId": "d8ef62bf-796d-4414-c9c4-6913e43fc63b"
      },
      "outputs": [
        {
          "name": "stdout",
          "output_type": "stream",
          "text": [
            "--2023-09-19 23:48:56--  https://raw.githubusercontent.com/gt-cse-6040/skills_oh_week_04/main/nba_json.txt\n",
            "Resolving raw.githubusercontent.com (raw.githubusercontent.com)... 185.199.108.133, 185.199.109.133, 185.199.110.133, ...\n",
            "Connecting to raw.githubusercontent.com (raw.githubusercontent.com)|185.199.108.133|:443... connected.\n",
            "HTTP request sent, awaiting response... 200 OK\n",
            "Length: 8903 (8.7K) [text/plain]\n",
            "Saving to: ‘nba_json.txt’\n",
            "\n",
            "nba_json.txt        100%[===================>]   8.69K  --.-KB/s    in 0s      \n",
            "\n",
            "2023-09-19 23:48:56 (49.3 MB/s) - ‘nba_json.txt’ saved [8903/8903]\n",
            "\n"
          ]
        }
      ],
      "source": [
        "!wget https://raw.githubusercontent.com/gt-cse-6040/skills_oh_week_04/main/nba_json.txt"
      ]
    },
    {
      "cell_type": "markdown",
      "id": "47502a76",
      "metadata": {
        "id": "47502a76"
      },
      "source": [
        "## Nested Data Structures: NBA Player Analysis -- Part 2\n",
        "\n",
        "### This notebook is an application of the NBA nested data notebook.\n",
        "\n",
        "#### We will be taking that data structure and performing some typical tasks that we do on dictionaries."
      ]
    },
    {
      "cell_type": "code",
      "execution_count": 2,
      "id": "c813cfad",
      "metadata": {
        "id": "c813cfad",
        "scrolled": true
      },
      "outputs": [],
      "source": [
        "# loading the data, same as the previous NB\n",
        "# import the required package\n",
        "import ast\n",
        "\n",
        "# reading the data from the json file\n",
        "with open('nba_json.txt') as f:\n",
        "    data = f.readlines()\n",
        "\n",
        "nested = [] # this is going to be our nested data structure\n",
        "#put each line(string) into a dictionary\n",
        "for line in data:\n",
        "    result = ast.literal_eval(line)\n",
        "#     print(result)\n",
        "    nested.append(result)"
      ]
    },
    {
      "cell_type": "markdown",
      "id": "6bb3da9d",
      "metadata": {
        "id": "6bb3da9d"
      },
      "source": [
        "### As we know from the previous NB, the key 'resultSets' contains the data the we want to manipulate.\n",
        "\n",
        "### Let's take a look at it again."
      ]
    },
    {
      "cell_type": "code",
      "execution_count": 3,
      "id": "99280f6a",
      "metadata": {
        "colab": {
          "base_uri": "https://localhost:8080/"
        },
        "id": "99280f6a",
        "outputId": "58b627e5-06ad-4b06-a29e-54294334c42b"
      },
      "outputs": [
        {
          "name": "stdout",
          "output_type": "stream",
          "text": [
            "[{'name': 'SeasonMatchups', 'headers': ['SEASON_ID', 'OFF_PLAYER_ID', 'OFF_PLAYER_NAME', 'DEF_PLAYER_ID', 'DEF_PLAYER_NAME', 'GP', 'MATCHUP_MIN', 'PARTIAL_POSS', 'PLAYER_PTS', 'TEAM_PTS', 'MATCHUP_AST', 'MATCHUP_TOV', 'MATCHUP_BLK', 'MATCHUP_FGM', 'MATCHUP_FGA', 'MATCHUP_FG_PCT', 'MATCHUP_FG3M', 'MATCHUP_FG3A', 'MATCHUP_FG3_PCT', 'HELP_BLK', 'HELP_FGM', 'HELP_FGA', 'HELP_FG_PERC', 'MATCHUP_FTM', 'MATCHUP_FTA', 'SFL', 'MATCHUP_TIME_SEC'], 'rowSet': [['22019', 1629060, 'Rui Hachimura', 202329, 'Al-Farouq Aminu', 1, '6:45', 31.9, 4, 47, 1, 0, 0, 2, 5, 0.4, 0, 0, 0.0, 0, 0, 0, 0, 0, 0, 0, 404.7], ['22019', 1626168, 'Trey Lyles', 202329, 'Al-Farouq Aminu', 1, '7:31', 30.5, 3, 22, 0, 1, 0, 1, 3, 0.333, 1, 2, 0.5, 0, 0, 0, 0, 0, 0, 0, 451.1], ['22019', 1628384, 'OG Anunoby', 202329, 'Al-Farouq Aminu', 3, '5:56', 29.3, 5, 37, 1, 1, 1, 2, 4, 0.5, 1, 2, 0.5, 0, 0, 0, 0, 0, 0, 0, 355.6], ['22019', 201567, 'Kevin Love', 202329, 'Al-Farouq Aminu', 2, '5:17', 25.0, 4, 14, 0, 1, 0, 2, 3, 0.667, 0, 1, 0.0, 0, 0, 0, 0, 0, 0, 0, 316.8]]}]\n",
            "\n",
            "\n",
            "dict_keys(['name', 'headers', 'rowSet'])\n"
          ]
        }
      ],
      "source": [
        "print(nested[0]['resultSets'])\n",
        "print('\\n')\n",
        "print(nested[0]['resultSets'][0].keys())"
      ]
    },
    {
      "cell_type": "markdown",
      "id": "a65a6f50",
      "metadata": {
        "id": "a65a6f50"
      },
      "source": [
        "## Note that this is a list containing a single dictionary, with three keys.\n",
        "\n",
        "#### The key 'rowSet' contains the statistics that we are interested in, and the key 'headers' defines what each of the statisics is.\n",
        "\n",
        "#### Note that this first dict is for the player Al-Farouq Aminu, with the player_id 202329."
      ]
    },
    {
      "cell_type": "code",
      "execution_count": 4,
      "id": "eb261382",
      "metadata": {
        "colab": {
          "base_uri": "https://localhost:8080/"
        },
        "id": "eb261382",
        "outputId": "bd7cb43c-b6d0-4627-87b4-62ccbd26cd48",
        "scrolled": true
      },
      "outputs": [
        {
          "name": "stdout",
          "output_type": "stream",
          "text": [
            "['SEASON_ID', 'OFF_PLAYER_ID', 'OFF_PLAYER_NAME', 'DEF_PLAYER_ID', 'DEF_PLAYER_NAME', 'GP', 'MATCHUP_MIN', 'PARTIAL_POSS', 'PLAYER_PTS', 'TEAM_PTS', 'MATCHUP_AST', 'MATCHUP_TOV', 'MATCHUP_BLK', 'MATCHUP_FGM', 'MATCHUP_FGA', 'MATCHUP_FG_PCT', 'MATCHUP_FG3M', 'MATCHUP_FG3A', 'MATCHUP_FG3_PCT', 'HELP_BLK', 'HELP_FGM', 'HELP_FGA', 'HELP_FG_PERC', 'MATCHUP_FTM', 'MATCHUP_FTA', 'SFL', 'MATCHUP_TIME_SEC']\n",
            "\n",
            "\n",
            "[['22019', 1629060, 'Rui Hachimura', 202329, 'Al-Farouq Aminu', 1, '6:45', 31.9, 4, 47, 1, 0, 0, 2, 5, 0.4, 0, 0, 0.0, 0, 0, 0, 0, 0, 0, 0, 404.7], ['22019', 1626168, 'Trey Lyles', 202329, 'Al-Farouq Aminu', 1, '7:31', 30.5, 3, 22, 0, 1, 0, 1, 3, 0.333, 1, 2, 0.5, 0, 0, 0, 0, 0, 0, 0, 451.1], ['22019', 1628384, 'OG Anunoby', 202329, 'Al-Farouq Aminu', 3, '5:56', 29.3, 5, 37, 1, 1, 1, 2, 4, 0.5, 1, 2, 0.5, 0, 0, 0, 0, 0, 0, 0, 355.6], ['22019', 201567, 'Kevin Love', 202329, 'Al-Farouq Aminu', 2, '5:17', 25.0, 4, 14, 0, 1, 0, 2, 3, 0.667, 0, 1, 0.0, 0, 0, 0, 0, 0, 0, 0, 316.8]]\n",
            "\n",
            "\n",
            "['22019', 1629060, 'Rui Hachimura', 202329, 'Al-Farouq Aminu', 1, '6:45', 31.9, 4, 47, 1, 0, 0, 2, 5, 0.4, 0, 0, 0.0, 0, 0, 0, 0, 0, 0, 0, 404.7]\n",
            "\n",
            "\n",
            "['22019', 1626168, 'Trey Lyles', 202329, 'Al-Farouq Aminu', 1, '7:31', 30.5, 3, 22, 0, 1, 0, 1, 3, 0.333, 1, 2, 0.5, 0, 0, 0, 0, 0, 0, 0, 451.1]\n"
          ]
        }
      ],
      "source": [
        "print(nested[0]['resultSets'][0]['headers'])\n",
        "print('\\n')\n",
        "print(nested[0]['resultSets'][0]['rowSet'])\n",
        "print('\\n')\n",
        "print(nested[0]['resultSets'][0]['rowSet'][0])\n",
        "print('\\n')\n",
        "print(nested[0]['resultSets'][0]['rowSet'][1])"
      ]
    },
    {
      "cell_type": "markdown",
      "id": "082d3dfe",
      "metadata": {
        "id": "082d3dfe"
      },
      "source": [
        "## For simplicity, we are going to work with the nested[0]['resultSets'][0] list, which gives us a dictionary having three keys, as we saw above.\n",
        "\n",
        "### This will allow us to address the 'rowSet' dictionary key for its values."
      ]
    },
    {
      "cell_type": "markdown",
      "id": "88a46f3a",
      "metadata": {
        "id": "88a46f3a"
      },
      "source": [
        "## Exercise 0\n",
        "\n",
        "### Who are the players that a player guarded during the season?\n",
        "\n",
        "#### In other words, what are the OFF_PLAYER_NAME's for the DEF_PLAYER_NAME?\n",
        "\n",
        "### Requirement:  Output a list of the names of the players he guarded.\n"
      ]
    },
    {
      "cell_type": "code",
      "execution_count": 5,
      "id": "96614075",
      "metadata": {
        "colab": {
          "base_uri": "https://localhost:8080/"
        },
        "id": "96614075",
        "outputId": "eb20569b-7bda-442a-e358-ca4e3d173912",
        "scrolled": true
      },
      "outputs": [
        {
          "name": "stdout",
          "output_type": "stream",
          "text": [
            "{'name': 'SeasonMatchups', 'headers': ['SEASON_ID', 'OFF_PLAYER_ID', 'OFF_PLAYER_NAME', 'DEF_PLAYER_ID', 'DEF_PLAYER_NAME', 'GP', 'MATCHUP_MIN', 'PARTIAL_POSS', 'PLAYER_PTS', 'TEAM_PTS', 'MATCHUP_AST', 'MATCHUP_TOV', 'MATCHUP_BLK', 'MATCHUP_FGM', 'MATCHUP_FGA', 'MATCHUP_FG_PCT', 'MATCHUP_FG3M', 'MATCHUP_FG3A', 'MATCHUP_FG3_PCT', 'HELP_BLK', 'HELP_FGM', 'HELP_FGA', 'HELP_FG_PERC', 'MATCHUP_FTM', 'MATCHUP_FTA', 'SFL', 'MATCHUP_TIME_SEC'], 'rowSet': [['22019', 1629060, 'Rui Hachimura', 202329, 'Al-Farouq Aminu', 1, '6:45', 31.9, 4, 47, 1, 0, 0, 2, 5, 0.4, 0, 0, 0.0, 0, 0, 0, 0, 0, 0, 0, 404.7], ['22019', 1626168, 'Trey Lyles', 202329, 'Al-Farouq Aminu', 1, '7:31', 30.5, 3, 22, 0, 1, 0, 1, 3, 0.333, 1, 2, 0.5, 0, 0, 0, 0, 0, 0, 0, 451.1], ['22019', 1628384, 'OG Anunoby', 202329, 'Al-Farouq Aminu', 3, '5:56', 29.3, 5, 37, 1, 1, 1, 2, 4, 0.5, 1, 2, 0.5, 0, 0, 0, 0, 0, 0, 0, 355.6], ['22019', 201567, 'Kevin Love', 202329, 'Al-Farouq Aminu', 2, '5:17', 25.0, 4, 14, 0, 1, 0, 2, 3, 0.667, 0, 1, 0.0, 0, 0, 0, 0, 0, 0, 0, 316.8]]}\n",
            "['Rui Hachimura', 'Trey Lyles', 'OG Anunoby', 'Kevin Love']\n",
            "{'name': 'SeasonMatchups', 'headers': ['SEASON_ID', 'OFF_PLAYER_ID', 'OFF_PLAYER_NAME', 'DEF_PLAYER_ID', 'DEF_PLAYER_NAME', 'GP', 'MATCHUP_MIN', 'PARTIAL_POSS', 'PLAYER_PTS', 'TEAM_PTS', 'MATCHUP_AST', 'MATCHUP_TOV', 'MATCHUP_BLK', 'MATCHUP_FGM', 'MATCHUP_FGA', 'MATCHUP_FG_PCT', 'MATCHUP_FG3M', 'MATCHUP_FG3A', 'MATCHUP_FG3_PCT', 'HELP_BLK', 'HELP_FGM', 'HELP_FGA', 'HELP_FG_PERC', 'MATCHUP_FTM', 'MATCHUP_FTA', 'SFL', 'MATCHUP_TIME_SEC'], 'rowSet': [['22019', 202696, 'Nikola Vucevic', 1628389, 'Bam Adebayo', 4, '19:44', 97.5, 22, 100, 8, 2, 0, 10, 22, 0.455, 2, 5, 0.4, 0, 0, 0, 0, 0, 0, 0, 1184.1], ['22019', 203954, 'Joel Embiid', 1628389, 'Bam Adebayo', 4, '18:03', 90.8, 31, 79, 2, 1, 0, 11, 23, 0.478, 2, 5, 0.4, 0, 0, 0, 0, 7, 9, 5, 1083.1], ['22019', 1628381, 'John Collins', 1628389, 'Bam Adebayo', 3, '16:54', 89.1, 10, 66, 1, 1, 2, 4, 13, 0.308, 2, 5, 0.4, 0, 0, 0, 0, 0, 0, 0, 1014.1], ['22019', 1626167, 'Myles Turner', 1628389, 'Bam Adebayo', 3, '17:10', 85.4, 13, 65, 3, 1, 1, 4, 10, 0.4, 3, 6, 0.5, 0, 0, 0, 0, 2, 2, 1, 1029.8]]}\n",
            "['Nikola Vucevic', 'Joel Embiid', 'John Collins', 'Myles Turner']\n",
            "{'name': 'SeasonMatchups', 'headers': ['SEASON_ID', 'OFF_PLAYER_ID', 'OFF_PLAYER_NAME', 'DEF_PLAYER_ID', 'DEF_PLAYER_NAME', 'GP', 'MATCHUP_MIN', 'PARTIAL_POSS', 'PLAYER_PTS', 'TEAM_PTS', 'MATCHUP_AST', 'MATCHUP_TOV', 'MATCHUP_BLK', 'MATCHUP_FGM', 'MATCHUP_FGA', 'MATCHUP_FG_PCT', 'MATCHUP_FG3M', 'MATCHUP_FG3A', 'MATCHUP_FG3_PCT', 'HELP_BLK', 'HELP_FGM', 'HELP_FGA', 'HELP_FG_PERC', 'MATCHUP_FTM', 'MATCHUP_FTA', 'SFL', 'MATCHUP_TIME_SEC'], 'rowSet': [['22019', 1628374, 'Lauri Markkanen', 203507, 'Giannis Antetokounmpo', 4, '27:05', 145.0, 11, 123, 0, 4, 1, 4, 22, 0.182, 2, 13, 0.154, 0, 0, 0, 0, 1, 2, 1, 1624.5], ['22019', 201567, 'Kevin Love', 203507, 'Giannis Antetokounmpo', 3, '18:18', 85.6, 23, 91, 4, 4, 0, 9, 15, 0.6, 5, 10, 0.5, 0, 0, 0, 0, 0, 0, 0, 1097.9], ['22019', 1626167, 'Myles Turner', 203507, 'Giannis Antetokounmpo', 3, '17:08', 83.4, 5, 51, 1, 2, 0, 2, 8, 0.25, 0, 4, 0.0, 0, 0, 0, 0, 1, 2, 1, 1027.9], ['22019', 1627732, 'Ben Simmons', 203507, 'Giannis Antetokounmpo', 3, '15:37', 81.1, 5, 74, 11, 3, 0, 2, 4, 0.5, 0, 0, 0.0, 0, 0, 0, 0, 1, 4, 1, 937.2]]}\n",
            "['Lauri Markkanen', 'Kevin Love', 'Myles Turner', 'Ben Simmons']\n"
          ]
        }
      ],
      "source": [
        "def players_guarded(var_stats, DEF_PLAYER_NAME):\n",
        "\n",
        "    # create the list to return\n",
        "    ret_list = []\n",
        "    print(var_stats)\n",
        "#     print('\\n')\n",
        "#     print(DEF_PLAYER_NAME)\n",
        "\n",
        "    for k,v in var_stats.items():\n",
        "        if k == 'rowSet':\n",
        "            # remember that v is a list of lists\n",
        "#             print(v[0])\n",
        "            for index in v:  # loops over the higher level list\n",
        "#                 print(index[2])\n",
        "                # index is the list within the higher level list\n",
        "                ret_list.append(index[2])\n",
        "\n",
        "    return ret_list\n",
        "\n",
        "# test code\n",
        "list0 = players_guarded(nested[0]['resultSets'][0], 'Al-Farouq Aminu')\n",
        "print(list0)\n",
        "list0 = players_guarded(nested[1]['resultSets'][0], 'Bam Adebayo')\n",
        "print(list0)\n",
        "list0 = players_guarded(nested[6]['resultSets'][0], 'Giannis Antetokounmpo')\n",
        "print(list0)"
      ]
    },
    {
      "cell_type": "markdown",
      "id": "4bcaadae",
      "metadata": {
        "id": "4bcaadae"
      },
      "source": [
        "## Exercise 1\n",
        "\n",
        "### Now let's make this a little more useful, asking the same question of who are the players guarded during the season.\n",
        "\n",
        "### Requirement:  Output a dictionary with the key being the defensive player name and the value being a list of the offensive players he guarded."
      ]
    },
    {
      "cell_type": "code",
      "execution_count": null,
      "id": "2fff139e",
      "metadata": {
        "id": "2fff139e"
      },
      "outputs": [],
      "source": [
        "def players_guarded_dict(var_stats, DEF_PLAYER_NAME):\n",
        "\n",
        "# Same as above************************\n",
        "    # create the list\n",
        "    guarded_list = []\n",
        "#     print(var_stats)\n",
        "\n",
        "    # loop over the statistics dict\n",
        "    # this is the same as the above\n",
        "    for k,v in var_stats.items():\n",
        "        if k == 'rowSet':\n",
        "            # remember that v is a list of lists\n",
        "#             print(v[0])\n",
        "            for index in v:  # loops over the higher level list\n",
        "        #         print(index[2])\n",
        "                # index is the list within the higher level list\n",
        "                guarded_list.append(index[2])\n",
        "# *************************************\n",
        "\n",
        "# This is new**************************\n",
        "    # use default dict\n",
        "    from collections import defaultdict\n",
        "    ret_dict = defaultdict()\n",
        "    # now put it all into the default dictionary\n",
        "    ret_dict[DEF_PLAYER_NAME] = guarded_list\n",
        "\n",
        "    # make the default dict a regular dict and return\n",
        "    return dict(ret_dict)\n",
        "# **************************************\n",
        "\n",
        "# test code\n",
        "list1 = players_guarded_dict(nested[0]['resultSets'][0], 'Al-Farouq Aminu')\n",
        "print(list1)\n",
        "list1 = players_guarded_dict(nested[1]['resultSets'][0], 'Bam Adebayo')\n",
        "print(list1)\n",
        "list1 = players_guarded_dict(nested[6]['resultSets'][0], 'Giannis Antetokounmpo')\n",
        "print(list1)"
      ]
    },
    {
      "cell_type": "markdown",
      "id": "7695e73e",
      "metadata": {
        "id": "7695e73e"
      },
      "source": [
        "## Exercise 2\n",
        "\n",
        "### Again, let's make this a little more useful, asking the same question of who are the players guarded during the season. We want to know how many points he allowed to each player during the season.\n",
        "\n",
        "#### Note that this data element is called 'PLAYER_PTS'. Which data element in the list is it?\n",
        "\n",
        "### Requirement:  Output a dictionary with the key being the defensive player name and the value being a list of tuples. The first item of each tuple is the name of the offensive players he guarded, and the second item of the tuple is the number points allowed."
      ]
    },
    {
      "cell_type": "code",
      "execution_count": null,
      "id": "b94054b1",
      "metadata": {
        "id": "b94054b1",
        "scrolled": false
      },
      "outputs": [],
      "source": [
        "def players_guarded_minutes_dict(var_stats, DEF_PLAYER_NAME):\n",
        "\n",
        "# Same as above***********************\n",
        "    # create the list\n",
        "    guarded_list = []\n",
        "#     print(var_stats)\n",
        "# ************************************\n",
        "\n",
        "\n",
        "# This is new*************************\n",
        "\n",
        "    # loop over the statistics dict\n",
        "    # this is the same as the above\n",
        "    for k,v in var_stats.items():\n",
        "        if k == 'rowSet':\n",
        "            # remember that v is a list of lists\n",
        "#             print(v[0])\n",
        "            for index in v:  # loops over the higher level list\n",
        "        #         print(index[2])\n",
        "                # index is the list within the higher level list\n",
        "            # This is the new part********************\n",
        "                guarded_list.append((index[2],index[8]))\n",
        "            # ****************************************\n",
        "\n",
        "# ************************************\n",
        "\n",
        "# Same as above************************\n",
        "    # use default dict\n",
        "    from collections import defaultdict\n",
        "    ret_dict = defaultdict()\n",
        "    # now put it all into the default dictionary\n",
        "    ret_dict[DEF_PLAYER_NAME] = guarded_list\n",
        "\n",
        "    # make the default dict a regular dict and return\n",
        "    return dict(ret_dict)\n",
        "# *************************************\n",
        "\n",
        "# test code\n",
        "list2 = players_guarded_minutes_dict(nested[0]['resultSets'][0], 'Al-Farouq Aminu')\n",
        "print(list2)\n",
        "list2 = players_guarded_minutes_dict(nested[1]['resultSets'][0], 'Bam Adebayo')\n",
        "print(list2)\n",
        "list2 = players_guarded_minutes_dict(nested[6]['resultSets'][0], 'Giannis Antetokounmpo')\n",
        "print(list2)"
      ]
    },
    {
      "cell_type": "markdown",
      "id": "93865d15",
      "metadata": {
        "id": "93865d15"
      },
      "source": [
        "## Exercise 3\n",
        "\n",
        "### Again, let's make this a little more useful, asking the same question of who are the players guarded during the season. We want to know how many pointed he allowed to each player during the season, and who scored the least to most..\n",
        "\n",
        "### Requirement:  Output a dictionary with the key being the defensive player name and the value being a list of tuples. The first item of each tuple is the name of the offensive players he guarded, and the second item of the tuple is the number of points allowed. The list of tuples should be sorted by the number of points allowed, from most to least. If the points are the same, then sort by the name in alphabetical order."
      ]
    },
    {
      "cell_type": "code",
      "execution_count": null,
      "id": "88d1dcd8",
      "metadata": {
        "id": "88d1dcd8"
      },
      "outputs": [],
      "source": [
        "def players_guarded_minutes_dict_sorted(var_stats, DEF_PLAYER_NAME):\n",
        "\n",
        "# Same as above***********************\n",
        "    # create the list\n",
        "    guarded_list = []\n",
        "#     print(var_stats)\n",
        "\n",
        "    # loop over the statistics dict\n",
        "    # this is the same as the above\n",
        "    for k,v in var_stats.items():\n",
        "        if k == 'rowSet':\n",
        "            # remember that v is a list of lists\n",
        "#             print(v[0])\n",
        "            for index in v:  # loops over the higher level list\n",
        "                guarded_list.append((index[2],index[8]))\n",
        "\n",
        "# ************************************\n",
        "\n",
        "# Sort the list of tuples, this is new*******\n",
        "# https://www.geeksforgeeks.org/python-mutiple-column-sort-in-tuples/\n",
        "# https://www.geeksforgeeks.org/python-program-to-sort-a-list-of-tuples-by-second-item/\n",
        "    guarded_list = sorted(guarded_list, key = lambda x: (-x[1], x[0]))\n",
        "\n",
        "\n",
        "# *******************************************\n",
        "\n",
        "# Same as above************************\n",
        "    # use default dict\n",
        "    from collections import defaultdict\n",
        "    ret_dict = defaultdict()\n",
        "    # now put it all into the default dictionary\n",
        "    ret_dict[DEF_PLAYER_NAME] = guarded_list\n",
        "\n",
        "    # make the default dict a regular dict and return\n",
        "    return dict(ret_dict)\n",
        "# *************************************\n",
        "\n",
        "# test code\n",
        "list2 = players_guarded_minutes_dict_sorted(nested[0]['resultSets'][0], 'Al-Farouq Aminu')\n",
        "print(list2)\n",
        "list2 = players_guarded_minutes_dict_sorted(nested[1]['resultSets'][0], 'Bam Adebayo')\n",
        "print(list2)\n",
        "list2 = players_guarded_minutes_dict_sorted(nested[6]['resultSets'][0], 'Giannis Antetokounmpo')\n",
        "print(list2)"
      ]
    },
    {
      "cell_type": "code",
      "execution_count": null,
      "id": "e1ba3d5e",
      "metadata": {
        "id": "e1ba3d5e"
      },
      "outputs": [],
      "source": []
    }
  ],
  "metadata": {
    "colab": {
      "provenance": []
    },
    "kernelspec": {
      "display_name": "Python 3 (ipykernel)",
      "language": "python",
      "name": "python3"
    },
    "language_info": {
      "codemirror_mode": {
        "name": "ipython",
        "version": 3
      },
      "file_extension": ".py",
      "mimetype": "text/x-python",
      "name": "python",
      "nbconvert_exporter": "python",
      "pygments_lexer": "ipython3",
      "version": "3.9.13"
    }
  },
  "nbformat": 4,
  "nbformat_minor": 5
}
