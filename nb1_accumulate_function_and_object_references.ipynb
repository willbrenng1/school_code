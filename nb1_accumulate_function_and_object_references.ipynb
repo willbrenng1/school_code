{
  "cells": [
    {
      "attachments": {},
      "cell_type": "markdown",
      "metadata": {
        "id": "mItWeIgKJnNj"
      },
      "source": [
        "# Part A: Accumulate Exercise #\n",
        "\n",
        "_(September 1, 2022)_"
      ]
    },
    {
      "attachments": {},
      "cell_type": "markdown",
      "metadata": {
        "id": "wMkjvPocJnNm"
      },
      "source": [
        "## Recall: `accumulate` from `itertools` ##\n",
        "\n",
        "Recall that the [`itertools` module](https://docs.python.org/3/library/itertools.html) includes a function, `accumuate`, that computes cumulative sums:"
      ]
    },
    {
      "cell_type": "code",
      "execution_count": 1,
      "metadata": {
        "colab": {
          "base_uri": "https://localhost:8080/"
        },
        "id": "tLvFVd9oJnNm",
        "outputId": "33dcc10a-7846-465f-e814-353ce90c98df"
      },
      "outputs": [
        {
          "data": {
            "text/plain": [
              "[5, 8, 4, 24, 26, 35, 35, 34]"
            ]
          },
          "execution_count": 1,
          "metadata": {},
          "output_type": "execute_result"
        }
      ],
      "source": [
        "from itertools import accumulate\n",
        "\n",
        "def cumulative_sum(x):\n",
        "    return list(accumulate(x))\n",
        "\n",
        "x = [5, 3, -4, 20, 2, 9, 0, -1]\n",
        "cumulative_sum(x)"
      ]
    },
    {
      "attachments": {},
      "cell_type": "markdown",
      "metadata": {
        "id": "maczLq__JnNn"
      },
      "source": [
        "> The `accumulate` function returns a _generator_. So to get the actual elements of the sequence, you need to \"run\" the generator. The implementation above does that by calling the `list` constructor."
      ]
    },
    {
      "attachments": {},
      "cell_type": "markdown",
      "metadata": {
        "id": "OzR8U2EYJnNo"
      },
      "source": [
        "The `accumulate` function can be used in more general settings than sums. For example, it can be used to do cumulative multiplies via the `func` parameter. The value of a `func` argument should be a function that can combine two elements. For example, a _cumulative product_, where the values are multiplied, would look like the following:"
      ]
    },
    {
      "cell_type": "code",
      "execution_count": 3,
      "metadata": {
        "id": "-maQLYOBJnNo",
        "outputId": "942203c9-4117-46d2-a733-45b66215ad21"
      },
      "outputs": [
        {
          "name": "stdout",
          "output_type": "stream",
          "text": [
            "* Sums: 5 8 4 24 26 35 35 34\n",
            "[5, 3, -4, 20, 2, 9, 0, -1]\n",
            "* Products: 5 15 -60 -1200 -2400 -21600 0 0\n"
          ]
        }
      ],
      "source": [
        "print(\"* Sums:\", *accumulate(x)) # cumulative sums\n",
        "\n",
        "def multiply(a, b):\n",
        "    return a * b\n",
        "\n",
        "print(x)\n",
        "print(\"* Products:\", *accumulate(x, func=multiply)) # cumulative products!"
      ]
    },
    {
      "attachments": {},
      "cell_type": "markdown",
      "metadata": {
        "id": "ZC7A-QHEJnNo"
      },
      "source": [
        "The `func` parameter, which is intended to refer to a _function_ (not a function's value when evaluated at a specific input), makes `accumulate` an example of a **higher-order function.** That is, it's a function that can accept another function or return a new function."
      ]
    },
    {
      "attachments": {},
      "cell_type": "markdown",
      "metadata": {
        "id": "Z1lpEemVJnNo"
      },
      "source": [
        "Why is that useful? It makes it possible to write one function that can be customized by the user through a simple interface. In this case, we can accumulate _anything_ as long we use a _binary operator_ to combine partial accumulated values with new values. By \"binary operator,\" we really just mean some function `f(a,b)` that accepts two inputs and produces an output of the same type.\n",
        "\n",
        "> The idea of higher-order functions and general operators can be viewed as _applied_ abstract algebra, which we would agree sounds a bit like an oxymoron."
      ]
    },
    {
      "attachments": {},
      "cell_type": "markdown",
      "metadata": {
        "id": "Bt4l_yjAJnNp"
      },
      "source": [
        "## Exercise: When to buy a stock? ##"
      ]
    },
    {
      "attachments": {},
      "cell_type": "markdown",
      "metadata": {
        "id": "IurMPR7eJnNp"
      },
      "source": [
        "Suppose you have the price of a stock on $n$ consecutive days. For example, here is a list of stock prices observed on 14 consecutive days (assume these are numbered from 0 to 13, corresponding to the indices):\n",
        "\n",
        "```python\n",
        "prices = [13, 11, 10, 8, 5, 8, 9, 6, 7, 7, 10, 7, 4, 3]\n",
        "```\n",
        "\n",
        "Suppose you buy on day `i` and sell on day `j`, where `j > i`. Then `prices[j] - prices[i]` measures your _profit_ (or _loss_, if negative)."
      ]
    },
    {
      "attachments": {},
      "cell_type": "markdown",
      "metadata": {
        "id": "oTp3fwNrJnNp",
        "nbgrader": {
          "grade": false,
          "grade_id": "cell-b243511f0f9ffc32",
          "locked": true,
          "schema_version": 1,
          "solution": false
        }
      },
      "source": [
        "**Your task.** Implement a function, `max_profit(prices)`, to compute the best possible profit you could have made given a list of prices."
      ]
    },
    {
      "attachments": {},
      "cell_type": "markdown",
      "metadata": {
        "id": "YbF5KhYJJnNp"
      },
      "source": [
        "```python\n",
        "prices = [13, 11, 10, 8, 5, 8, 9, 6, 7, 7, 10, 7, 4, 3]\n",
        "```\n",
        "In the example, that profit turns out to be **5**. That's because you can buy on day 4, whose price is `prices[4] == 5`, and then sell on day 10, whose price is `prices[10] == 10`, yielding a profit of 10-5=5. It turns out there is no other combination will beat that profit."
      ]
    },
    {
      "attachments": {},
      "cell_type": "markdown",
      "metadata": {
        "id": "ig7ugD66JnNp"
      },
      "source": [
        "There are two constraints on your solution:\n",
        "1. You must use `accumulate()`. There is a (relatively) simple and fast solution that does so.\n",
        "2. If only a loss is possible, your function should return 0."
      ]
    },
    {
      "attachments": {},
      "cell_type": "markdown",
      "metadata": {
        "id": "Oi0J5YYoJnNp"
      },
      "source": [
        "#### Strategy 0: Take it one day at a time ####\n",
        "\n",
        "Here is one simple, but inefficient, approach, which is to look day-by-day."
      ]
    },
    {
      "attachments": {},
      "cell_type": "markdown",
      "metadata": {
        "id": "XjOHJkWFJnNp"
      },
      "source": [
        "At any given day, $j$, let $s_j$ be the stock's price on that day. Suppose you decide to _sell_ the stock that day. How much money could you have made? Let the lowest price on any day $i < j$ be $b$. You can find $b$ by looking for the minimum cost up to (but excluding) $s_j$. Then the best profit on day $j$, or its \"gain,\" is $g_j = s_j - b$."
      ]
    },
    {
      "cell_type": "code",
      "execution_count": 19,
      "metadata": {},
      "outputs": [
        {
          "data": {
            "text/plain": [
              "0"
            ]
          },
          "execution_count": 19,
          "metadata": {},
          "output_type": "execute_result"
        }
      ],
      "source": [
        "#my notes\n",
        "prices = [13, 11, 10, 8, 5, 8, 9, 6, 7, 7, 10, 7, 4, 3]\n",
        "\n",
        "def max_prices_on_day_k(j,prices):\n",
        "    sell = prices[j]\n",
        "    best_buy = min(prices[:j]) #\n",
        "    gain = sell - best_buy\n",
        "    return max(gain,0)\n",
        "\n",
        "max_prices_on_day_k(1,prices)\n",
        "\n",
        " \n"
      ]
    },
    {
      "cell_type": "code",
      "execution_count": 20,
      "metadata": {},
      "outputs": [
        {
          "data": {
            "text/plain": [
              "5"
            ]
          },
          "execution_count": 20,
          "metadata": {},
          "output_type": "execute_result"
        }
      ],
      "source": [
        "# this function does not scale well, the outputs are too much. Scaling is quadratic\n",
        "\n",
        "def max_profit_v0(prices):\n",
        "    max_gain = 0\n",
        "    for j in range(1,len(prices)): #dont want to compute for day 0 as the sell day\n",
        "        gain = max_prices_on_day_k(j , prices)\n",
        "        max_gain = max(gain, max_gain)\n",
        "    return max_gain\n",
        "\n",
        "max_profit_v0(prices)"
      ]
    },
    {
      "cell_type": "code",
      "execution_count": 27,
      "metadata": {},
      "outputs": [
        {
          "data": {
            "text/plain": [
              "5"
            ]
          },
          "execution_count": 27,
          "metadata": {},
          "output_type": "execute_result"
        }
      ],
      "source": [
        "# using cumulative min function is better because you are only storing one value, scales a lot better\n",
        "## comparing prices and min prices is an example of a zipping method, pairing two values together\n",
        "min_prices = list(accumulate(prices,func=min))\n",
        "[(sell,best_buy) for sell, best_buy in zip(prices, min_prices)] #creates a tuple of sell price and best buy price \n",
        "gains = [sell- best_buy for sell, best_buy in zip(prices, min_prices)] # already paired them off with zip, now finding the difference\n",
        "max(gains)\n"
      ]
    },
    {
      "cell_type": "code",
      "execution_count": 29,
      "metadata": {},
      "outputs": [
        {
          "data": {
            "text/plain": [
              "5"
            ]
          },
          "execution_count": 29,
          "metadata": {},
          "output_type": "execute_result"
        }
      ],
      "source": [
        "# output is 3 times the length of prices list, because there is three lines of code\n",
        "\n",
        "def max_profits_v2(prices):\n",
        "    min_prices = list(accumulate(prices,func=min))\n",
        "    gains = [sell- best_buy for sell, best_buy in zip(prices[1:], min_prices[:-1])] # have to exclude the first day and last day because you cant buy and sell on those days  ## this list comprehension is more scale able rather than creating a value and appending it to a list\n",
        "    return max(gains)\n",
        "\n",
        "max_profits_v2(prices)"
      ]
    },
    {
      "attachments": {},
      "cell_type": "markdown",
      "metadata": {
        "id": "z2vjbbF_JnNq"
      },
      "source": [
        "This solution works but has a flaw: it is cost (or work) inefficient! The call to `max_gain_on_day` could take as many as `n` steps to complete, and like our naïve cumulative sum, does redundant work as we go from day to day. You should be able to convince yourself that the cost of this method is, overall, $\\mathcal{O}(n^2)$ for an input with just $n$ days."
      ]
    },
    {
      "attachments": {},
      "cell_type": "markdown",
      "metadata": {
        "id": "BefXDB1eJnNq"
      },
      "source": [
        "#### Strategy 1: A cost-efficient method ####\n",
        "\n",
        "The redudancy in Strategy 0 points toward a solution. At every day $j$, a useful piece of information is what is the lowest price observed _so far_. We can determine that for every day by calculating the _cumulative minimum price_ at every day. If we call that $s_j$, then the best gain on day $j$ is $g_j = c_j - s_j$, and then best overall gain is the largest of all $g_j$ values. In just a few passes over all the prices, we can, therefore, determine the maximum gain."
      ]
    },
    {
      "attachments": {},
      "cell_type": "markdown",
      "metadata": {
        "id": "Vs3d-HpvJnNq"
      },
      "source": [
        "As an example, suppose the original prices are:\n",
        "```python\n",
        "prices =     [13, 11, 10, 8, 5, 8, 9, 6, 7, 7, 10, 7, 4, 3]\n",
        "```"
      ]
    },
    {
      "attachments": {},
      "cell_type": "markdown",
      "metadata": {
        "id": "nC3r3f0jJnNq"
      },
      "source": [
        "The minimum price on each day is:\n",
        "```python\n",
        "min_prices = [13, 11, 10, 8, 5, 5, 5, 5, 5, 5,  5, 5, 4, 3]\n",
        "```\n",
        "You can calculate those just by using **one** min-accumulate, which incurs a runtime cost of $\\mathcal{O}(n)$ operations."
      ]
    },
    {
      "attachments": {},
      "cell_type": "markdown",
      "metadata": {
        "id": "aGIfB5zjJnNq"
      },
      "source": [
        "The best gain on _each day_ `i` is `prices[i] - min_prices[i]`, or:\n",
        "```python\n",
        "gains =      [ 0,  0,  0, 0, 0, 3, 4, 1, 2, 2,  5, 2, 0, 0]\n",
        "```\n",
        "Again, you can obtain in one pass over `prices` and `min_prices`. Looking at all these gains, the largest one is 5."
      ]
    },
    {
      "cell_type": "code",
      "execution_count": null,
      "metadata": {
        "id": "8bHqPQyIJnNq",
        "outputId": "cd33ca44-a509-4757-c849-12048e784227"
      },
      "outputs": [
        {
          "data": {
            "text/plain": [
              "5"
            ]
          },
          "execution_count": 5,
          "metadata": {},
          "output_type": "execute_result"
        }
      ],
      "source": [
        "def max_profit__v1(prices):\n",
        "    min_prices = list(accumulate(prices, func=min))\n",
        "    gains = []\n",
        "    for i in range(len(prices)):\n",
        "        gains.append(prices[i] - min_prices[i])\n",
        "    return max(gains)\n",
        "\n",
        "prices = [13, 11, 10, 8, 5, 8, 9, 6, 7, 7, 10, 7, 4, 3]\n",
        "max_profit__v1(prices)"
      ]
    },
    {
      "attachments": {},
      "cell_type": "markdown",
      "metadata": {
        "id": "VARfX0xNJnNq"
      },
      "source": [
        "#### Revisions for readability ####\n",
        "\n",
        "The algorithmic solution of Strategy 1 is a very good one. To make it more readable, let's massage the loop to iterate over values in `prices` and `min_prices` directly.\n",
        "\n",
        "To do so, observe that every time we access `prices[i]`, we access `min_prices[i]`, which occurs at the _same_ position in their respective lists. The \"higher-level\" concept here is that we are _pairing off_ elements of two collections of the same size. Therefore, we can iterate over them _in parallel_, which is an idiom called a **zipper iteration**. The name comes from the image of a zipper on your clothes, where the teeth are paired off."
      ]
    },
    {
      "cell_type": "code",
      "execution_count": null,
      "metadata": {
        "id": "YkfX5KczJnNr",
        "nbgrader": {
          "grade": false,
          "grade_id": "exercise_3",
          "locked": false,
          "schema_version": 1,
          "solution": true
        },
        "outputId": "ce4a3ba4-e8f6-4ac1-fec5-c6cbc21a5401"
      },
      "outputs": [
        {
          "data": {
            "text/plain": [
              "5"
            ]
          },
          "execution_count": 6,
          "metadata": {},
          "output_type": "execute_result"
        }
      ],
      "source": [
        "def max_profit__v2(prices):\n",
        "    min_prices = accumulate(prices, func=min)\n",
        "    gains = [c - s for c, s in zip(prices, min_prices)]\n",
        "    return max(gains)\n",
        "\n",
        "prices = [13, 11, 10, 8, 5, 8, 9, 6, 7, 7, 10, 7, 4, 3]\n",
        "max_profit__v2(prices)"
      ]
    },
    {
      "cell_type": "code",
      "execution_count": null,
      "metadata": {
        "id": "PaKqNBkGJnNr",
        "nbgrader": {
          "grade": true,
          "grade_id": "exercise_3_test",
          "locked": true,
          "points": 5,
          "schema_version": 1,
          "solution": false
        },
        "outputId": "4ccff922-b976-4f82-b0a6-d98a8953ebe4"
      },
      "outputs": [
        {
          "name": "stdout",
          "output_type": "stream",
          "text": [
            "\n",
            "Testing: prices=[13, 11, 10, 8, 5, 8, 9, 6, 7, 7, 10, 7, 4, 3]\n",
            "\t==> The code's maximum profit: 5\n",
            "\t==> True max profit: 5 (Buy on day 4 at price 5 and sell on 10 at 10.)\n",
            "\n",
            "Testing: prices=[5, 4, 3, 2, 1]\n",
            "\t==> The code's maximum profit: 0\n",
            "\t==> True max profit: 0 (No buying options!)\n",
            "\n",
            "Testing: prices=[1, 2, 3, 4, 5]\n",
            "\t==> The code's maximum profit: 4\n",
            "\t==> True max profit: 4 (Buy on day 0 at price 1 and sell on 4 at 5.)\n",
            "\n",
            "Testing: prices=[12, 8, 3, 10, 15]\n",
            "\t==> The code's maximum profit: 12\n",
            "\t==> True max profit: 12 (Buy on day 2 at price 3 and sell on 4 at 15.)\n",
            "\n",
            "Testing: prices=[13]\n",
            "\t==> The code's maximum profit: 0\n",
            "\t==> True max profit: 0 (No buying options!)\n",
            "\n",
            "Testing: prices=[10, 10, 20, 10]\n",
            "\t==> The code's maximum profit: 10\n",
            "\t==> True max profit: 10 (Buy on day 0 at price 10 and sell on 2 at 20.)\n",
            "\n",
            "Testing: prices=[11, 4, 4]\n",
            "\t==> The code's maximum profit: 0\n",
            "\t==> True max profit: 0 (No buying options!)\n",
            "\n",
            "Testing: prices=[5]\n",
            "\t==> The code's maximum profit: 0\n",
            "\t==> True max profit: 0 (No buying options!)\n",
            "\n",
            "Testing: prices=[12, 4, 9, 10, 13, 18]\n",
            "\t==> The code's maximum profit: 14\n",
            "\t==> True max profit: 14 (Buy on day 1 at price 4 and sell on 5 at 18.)\n",
            "\n",
            "Testing: prices=[13, 16, 12, 13, 14]\n",
            "\t==> The code's maximum profit: 3\n",
            "\t==> True max profit: 3 (Buy on day 0 at price 13 and sell on 1 at 16.)\n",
            "\n",
            "Testing: prices=[6, 18, 8]\n",
            "\t==> The code's maximum profit: 12\n",
            "\t==> True max profit: 12 (Buy on day 0 at price 6 and sell on 1 at 18.)\n",
            "\n",
            "(Passed!)\n"
          ]
        }
      ],
      "source": [
        "# Test cell\n",
        "\n",
        "max_profit = max_profit__v2\n",
        "\n",
        "def check_profit(prices):\n",
        "    print(\"\\nTesting: prices={}\".format(prices))\n",
        "    profit_test = max_profit(prices)\n",
        "    profit = max_profit(prices)\n",
        "    print(\"\\t==> The code's maximum profit: {}\".format(profit))\n",
        "\n",
        "    # Do an exhaustive search -- a correct, but highly inefficient, algorithm\n",
        "    true_max = 0\n",
        "    i_max, j_max = -1, -1\n",
        "    for i in range(len(prices)):\n",
        "        for j in range(i, len(prices)):\n",
        "            gain_ij = prices[j] - prices[i]\n",
        "            if gain_ij > true_max:\n",
        "                i_max, j_max, true_max = i, j, gain_ij\n",
        "    if i_max >= 0 and j_max >= 0:\n",
        "        explain = \"Buy on day {} at price {} and sell on {} at {}.\".format(i_max, prices[i_max],\n",
        "                                                                           j_max, prices[j_max])\n",
        "    else:\n",
        "        explain = \"No buying options!\"\n",
        "    print(\"\\t==> True max profit: {} ({})\".format(true_max, explain))\n",
        "    assert profit == true_max, \"Your code's calculation does not match.\"\n",
        "\n",
        "check_profit([13, 11, 10, 8, 5, 8, 9, 6, 7, 7, 10, 7, 4, 3])\n",
        "check_profit([5, 4, 3, 2, 1])\n",
        "check_profit([1, 2, 3, 4, 5])\n",
        "\n",
        "for _ in range(8): # Random test cases\n",
        "    from random import randint\n",
        "    num_days = randint(1, 10)\n",
        "    prices = [randint(1, 20) for _ in range(num_days)]\n",
        "    check_profit(prices)\n",
        "\n",
        "print(\"\\n(Passed!)\")"
      ]
    },
    {
      "attachments": {},
      "cell_type": "markdown",
      "metadata": {
        "id": "rVECSX41JnNr"
      },
      "source": [
        "## Summary ##\n",
        "\n",
        "Here are the key ideas to review from this notebook."
      ]
    },
    {
      "attachments": {},
      "cell_type": "markdown",
      "metadata": {
        "id": "nrBO3-s3JnNr"
      },
      "source": [
        "1. **Achieving cost (or work) efficiency.** When designing a computational algorithm that operates on $n$ input objects and produces $k$ outputs, a good goal is _linear_ scaling. That means the computational algorithm takes $\\mathcal{O}(n+k)$ steps. In this case, doubling the input or output will double the computational cost, which seems like a reasonable price to pay."
      ]
    },
    {
      "attachments": {},
      "cell_type": "markdown",
      "metadata": {
        "id": "RzHTiRKZJnNr"
      },
      "source": [
        "2. **Improving readability through basic idioms.** Python has many constructs that have led to common coding conventions, or _idioms_. Learning these idioms helps improve the readability of your code by making it more concise and using patterns that should be familiar to other Python programmers. The examples you saw here included **slicing for lists**, **higher-level functions** (like `sum` and `accumulate`), **list comprehensions** (use judiciously!), **helper functions**, and **zipper iteration**."
      ]
    },
    {
      "attachments": {},
      "cell_type": "markdown",
      "metadata": {
        "id": "jVAAHn0aJnNr"
      },
      "source": [
        "3. **Higher-order functions.** A powerful idea in software development, which has its roots in abstract algebra, is that of higher-order functions. These are functions that take other functions as input and use them. List comprehensions are one example: the comprehension `[f(e) for e in x]` works for any function `f` that can take the input `e`. The use of `accumulate` customized to do additions (the default), multiplications, minimums, or whatever it is you need to calculate the Fibonacci sequence, are all additional examples."
      ]
    }
  ],
  "metadata": {
    "celltoolbar": "Slideshow",
    "colab": {
      "provenance": []
    },
    "kernelspec": {
      "display_name": "Python 3",
      "name": "python3"
    },
    "language_info": {
      "codemirror_mode": {
        "name": "ipython",
        "version": 3
      },
      "file_extension": ".py",
      "mimetype": "text/x-python",
      "name": "python",
      "nbconvert_exporter": "python",
      "pygments_lexer": "ipython3",
      "version": "3.10.2"
    },
    "toc": {
      "base_numbering": 1,
      "nav_menu": {},
      "number_sections": true,
      "sideBar": true,
      "skip_h1_title": false,
      "title_cell": "Table of Contents",
      "title_sidebar": "Contents",
      "toc_cell": false,
      "toc_position": {},
      "toc_section_display": true,
      "toc_window_display": false
    }
  },
  "nbformat": 4,
  "nbformat_minor": 0
}
